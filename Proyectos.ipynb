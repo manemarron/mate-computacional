{
 "metadata": {
  "name": "",
  "signature": "sha256:d097125258f2d336ea3743922559a412da34c33ae7b7251804f3c1795c452a88"
 },
 "nbformat": 3,
 "nbformat_minor": 0,
 "worksheets": [
  {
   "cells": [
    {
     "cell_type": "heading",
     "level": 1,
     "metadata": {},
     "source": [
      "Proyectos"
     ]
    },
    {
     "cell_type": "markdown",
     "metadata": {},
     "source": [
      "<div class=\"alert alert-error\">\n",
      "** Show and Tell ** : 28 de Abril, 2015\n",
      "</div>"
     ]
    },
    {
     "cell_type": "markdown",
     "metadata": {},
     "source": [
      "<div class=\"alert alert-error\">\n",
      "**Entrega reporte escrito**: 15 de Mayo, 2015\n",
      "</div>"
     ]
    },
    {
     "cell_type": "heading",
     "level": 2,
     "metadata": {},
     "source": [
      "1. Simulaci\u00f3n de N-cuerpos"
     ]
    },
    {
     "cell_type": "heading",
     "level": 3,
     "metadata": {},
     "source": [
      "Objetivo"
     ]
    },
    {
     "cell_type": "markdown",
     "metadata": {},
     "source": [
      "Determinar el movimiento de $N$ part\u00edculas movi\u00e9ndose debido a fuerzas gravitacionales."
     ]
    },
    {
     "cell_type": "heading",
     "level": 3,
     "metadata": {},
     "source": [
      "Teor\u00eda"
     ]
    },
    {
     "cell_type": "markdown",
     "metadata": {},
     "source": [
      "B\u00e1sicamente **Newton** formul\u00f3 todo lo que debes de saber en el siglo XVI:"
     ]
    },
    {
     "cell_type": "markdown",
     "metadata": {},
     "source": [
      "_Segunda ley de Newton _\n",
      "$$\n",
      "F = m \\cdot a\n",
      "$$   "
     ]
    },
    {
     "cell_type": "markdown",
     "metadata": {},
     "source": [
      "_Ley de Gravitaci\u00f3n de Newton_\n",
      "\n",
      "$$\n",
      "F = \\frac{G m_1 m_2}{r^2}\n",
      "$$ \n"
     ]
    },
    {
     "cell_type": "markdown",
     "metadata": {},
     "source": [
      "Para dos cuerpos el problema es sencillo y se puede resolver anal\u00edticamente, la cosa se empieza a complicar para tres cuerpos (de hecho, de aqu\u00ed Poincar\u00e8 se di\u00f3 cuenta que exist\u00eda caos)."
     ]
    },
    {
     "cell_type": "markdown",
     "metadata": {},
     "source": [
      "- Define una clase `Part\u00edcula`  con los m\u00e9todos: "
     ]
    },
    {
     "cell_type": "markdown",
     "metadata": {},
     "source": [
      "    - `mover(fuerza, dt)` Se aplica la fuerza `fuerza` por `dt` segundos.\n",
      "    - `dibujar()` Dibuja la part\u00edcula\n",
      "    - `fuerzaAplicada(otra_part\u00edcula)` Vector de fuerza entre esta part\u00edcula y `otra_part\u00edcula`"
     ]
    },
    {
     "cell_type": "markdown",
     "metadata": {},
     "source": [
      "Como atributos debe de tener:"
     ]
    },
    {
     "cell_type": "markdown",
     "metadata": {},
     "source": [
      "    - `posici\u00f3n` [Vector]\n",
      "    - `velocidad` [Vector]\n",
      "    - `masa` [Escalar]"
     ]
    },
    {
     "cell_type": "markdown",
     "metadata": {},
     "source": [
      "* Probemos la implementaci\u00f3n: Usa la primera ley de Newton. (Se debe de mover en l\u00ednea recta o permanecer en reposo)"
     ]
    },
    {
     "cell_type": "markdown",
     "metadata": {},
     "source": [
      "* Ahora usamos la segunda ley de Newton, acelera el cuerpo aplicando una fuerza.\n",
      "\n",
      "    1. Dada la fuerza F, calcula la aceleraci\u00f3n a.\n",
      "    2. Sup\u00f3n que la aceleraci\u00f3n es constante y calcula el cambio de velocidad.\n",
      "    3. Usa la velocidad para calcular la nueva posici\u00f3n."
     ]
    },
    {
     "cell_type": "markdown",
     "metadata": {},
     "source": [
      "* Usa la ley de Gravitaci\u00f3n de Newton para determinar la fuerza.\n",
      "    \n",
      "    _Hint_: Recuerda definir un vector de distancia entre ambas masas.\n",
      "    \n",
      "    _Hint_: Recuerda el principio de superposici\u00f3n"
     ]
    },
    {
     "cell_type": "markdown",
     "metadata": {},
     "source": [
      "* Define una clase `Universo` con m\u00e9todos:\n",
      "\n",
      "    1. `step(dt)` Simula el paso de `dt` segundos\n",
      "    2. `dibujar()`  Dibuja el universo\n",
      "    3. `simular()` \n",
      "    \n",
      "    Con los atributos:\n",
      "    \n",
      "    1. `radio` Tama\u00f1o del universo\n",
      "    2. `N`  N\u00famero de part\u00edculas\n",
      "    3. `part\u00edculas`  Las part\u00edculas (esto debe de ser una lista o un arreglo)\n",
      "    "
     ]
    },
    {
     "cell_type": "markdown",
     "metadata": {},
     "source": [
      "* Por \u00faltimo, lee desde un archivo la configuraci\u00f3n del Universo:\n",
      "\n",
      "    1. En la primera l\u00ednea el n\u00famero de part\u00edculas.\n",
      "    2. En la segunda l\u00ednea el radio del universo.\n",
      "    3. En las l\u00edneas subsiguientes, separadas por un tabulador: posici\u00f3n_x posici\u00f3n_y velocidad_x velocidad_y masa."
     ]
    },
    {
     "cell_type": "markdown",
     "metadata": {},
     "source": [
      "* Contesta: \n",
      "    1. \u00bfQu\u00e9 tan peque\u00f1o se puede hacer `dt`? \u00bfC\u00f3mo evitamos que se acumulen los errores de c\u00e1lculo?\n",
      "    2. \u00bfA qu\u00e9 es proporcional el tiempo de la simulaci\u00f3n?\u00bfPor qu\u00e9?"
     ]
    },
    {
     "cell_type": "heading",
     "level": 3,
     "metadata": {},
     "source": [
      "Extras"
     ]
    },
    {
     "cell_type": "markdown",
     "metadata": {},
     "source": [
      "1. Revisa el algoritmo de *Appel/Barnes-Hut* \u00bfC\u00f3mo lo implementar\u00edas? \u00bfQu\u00e9 problemas resuleve?\n",
      "2. Implementa un universo `3D`.\n",
      "3. No tomaste en cuenta las colisiones en tu simulaci\u00f3n \u00bfC\u00f3mo las tomar\u00edas en cuenta?"
     ]
    },
    {
     "cell_type": "heading",
     "level": 2,
     "metadata": {},
     "source": [
      "2. P\u00e9ndulo invertido"
     ]
    },
    {
     "cell_type": "markdown",
     "metadata": {},
     "source": [
      "* Plante\u00e9 las ecuaciones del p\u00e9ndulo invertido.\n",
      "* Encuentre los puntos de equilibrio.\n",
      "* Usando c\u00f3mputo simb\u00f3lico, emple\u00e9 la serie de Taylor alrededor de esos puntos.\n",
      "* Cree una clase llamada `P\u00e9ndulo invertido`.\n",
      "* Evolucione el p\u00e9ndulo invertido a partir de varias posiciones.\n",
      "* Evolucione el p\u00e9ndulo invertido alrededor de los puntos de equilibrio ante perturbaciones. \n",
      "* Agregue un controlador **PD** (cre\u00e9 una clase) Explique su funcionamiento y mant\u00e9ngalo cerca de la posici\u00f3n de equilibrio. Para los par\u00e1metros utilice interactividad."
     ]
    },
    {
     "cell_type": "heading",
     "level": 2,
     "metadata": {},
     "source": [
      "3. Robot B\u00edpedo"
     ]
    },
    {
     "cell_type": "markdown",
     "metadata": {},
     "source": [
      "* Plante\u00e9 las ecuaciones del sistema.\n",
      "* A partir de varias posiciones iniciales, evolucione el sistema.\n",
      "* \u00bfPor qu\u00e9 concentrarse en la velocidad en lugar de la posici\u00f3n?\n",
      "* Explique el funcionamiento de un filtro de Kalman, e implem\u00e9ntelo _in silico_.\n",
      "* Simule el ruido en los sensores. \u00bfC\u00f3mo lo har\u00eda?\n",
      "* Evolucione con ruido el sistema.\n",
      "* Evolucione con el filtro de Kalman \u00bfQu\u00e9 diferencias encuentra?"
     ]
    },
    {
     "cell_type": "heading",
     "level": 2,
     "metadata": {},
     "source": [
      "4. Cubo de Rubik"
     ]
    },
    {
     "cell_type": "markdown",
     "metadata": {},
     "source": [
      "* Explique la notaci\u00f3n de movimientos que usar\u00e1 en este proyecto. \n",
      "* Explique la estructura de datos que usar\u00e1 en este proyecto.\n",
      "* Explique cu\u00e1ntos son los diferentes tipos de cubos que hay. Expr\u00e9sela en funci\u00f3n del n\u00famero columnas del cubo.\n",
      "* Codifique la estructura y movimientos en una clase llamada `Rubik`. Muestre funcionando la clase.\n",
      "* Dise\u00f1e una visualizaci\u00f3n para mostrar el cubo.\n",
      "* Implemente dos algoritmos de soluci\u00f3n. Muestrelos y compare sus comportamientos.\n",
      "    \n",
      "    _Hint_: Partiendo de posiciones iguales \u00bfC\u00f3mo se comportan?\u00bfCu\u00e1l es m\u00e1s eficiente?\u00bfHay una cota para cada algoritmo?\n",
      "    \n",
      "    _Hint_:  Simulelo"
     ]
    },
    {
     "cell_type": "heading",
     "level": 2,
     "metadata": {},
     "source": [
      "5. Auto-organizaci\u00f3n cr\u00edtica"
     ]
    },
    {
     "cell_type": "markdown",
     "metadata": {},
     "source": [
      "* Pila de arena de una dimensi\u00f3n\n",
      "\n",
      "    1. Sea un arreglo unidimensional de `L` columnas de granos de arena con alturas $h_i$. En cada columna definimos su _pendiente_ local como\n",
      "    \n",
      "    $$\n",
      "    s_i = h_i - h_{i+1}\n",
      "    $$\n",
      "    \n",
      "    Definimos tambi\u00e9n la _pendiente cr\u00edtica_ $s_c$: La pila es inestable si $s_i > s_c$, para cualquier columna $i$.\n",
      "    \n",
      "    La regla de actualizaci\u00f3n (_din\u00e1mica_), es: Si la pila es inestable, $s_i > s_c$, entonces $h_i \\to h_i - 1$ y $h_{i+1} \\to h_{i+1} + 1$. Esto se debe de hacer de manera _sincr\u00f3nica_ en todas las columnas. Si la pila es estable, agrega *un* grano de arena a una columna al azar.\n",
      "    \n",
      "    Muestra la evoluci\u00f3n. Progr\u00e1malo como un aut\u00f3mata celular.\n",
      "    \n",
      "    _Hint_ Para los extremos considera dos escenarios: Pared fija o bordes abiertos (como si se cayeran de la mesa). \u00bfEn que cambia la simulaci\u00f3n?\n",
      "    \n",
      "    \n",
      "* Pila de arena de dos dimensiones\n",
      "\n",
      "    Una pila de arena m\u00e1s real es de tres dimensiones. En el art\u00edculo _Bak, Tang and Wiesenfel_ **Self-organized criticality:  An explanation of the ** $\\frac{1}{f}$ **noise**, `Phys. Rev. Lett. 59, 381(1987)` los autores modelaron una pila de arena mediante un aut\u00f3mata celular de dos dimensiones.\n",
      "    \n",
      "    En este modelo, se construye un arreglo de dos dimensiones en el que cada celda es una columna de arena.\n",
      "    \n",
      "    Implemente el modelo, haga simulaciones en una pila de $200 \\times 200$. Muestre varios patrones para cada nivel de estados inestables.\n",
      "    \n",
      "    Explique el concepto de _self-organized criticality_. Muestre los datos que soportan su explicaci\u00f3n.\n",
      "    \n",
      "    \n",
      "* Incendio forestal\n",
      "\n",
      "    En _Bak, Chen and Tang_ **A forest-fire  model  and  some  thoughts  on  turbulence**,  `Phys. Lett. A 147, 297-300 (1990)`, los autores crearon un aut\u00f3mata celular probabil\u00edstico para modelar como se esparce el fuego en un bosque. El bosque es modelado en un cuadrado de lado $L$ en el que cada celda es un \u00e1rbol que puede estar en tres estados: _vivo_(verde), _quem\u00e1ndose_ (amarillo) y _muerto_ (negro). \n",
      "\n",
      "    La evoluci\u00f3n se determina como sigue:\n",
      "\n",
      "    En el tiempo $t$ se determina el estado de cada celda, en $t+1$ se aplican las tres reglas:\n",
      "\n",
      "        1. Si el \u00e1rbol est\u00e1 vivo se verifican sus vecinos. Si _alg\u00fan_ vecino est\u00e1 en llamas el \u00e1rbol se quema.\n",
      "        2. Si el \u00e1rbol est\u00e1 en llamas, pasa a muerto.\n",
      "        3. Si el \u00e1rbol est\u00e1 muerto, se regenera con una probabilidad $p$.\n",
      "        \n",
      "    Reproduzca los resultados del art\u00edculo, en particular la longitud de la correlaci\u00f3n $\\xi(p)$."
     ]
    },
    {
     "cell_type": "heading",
     "level": 2,
     "metadata": {},
     "source": [
      "6. Daisy World"
     ]
    },
    {
     "cell_type": "markdown",
     "metadata": {},
     "source": [
      "Para apoyar la teor\u00eda de _Gaia_, en 1983 James Lovelock y Andrew Watson publicaron el art\u00edculo: **Biological homeostasis of the global environment: the parable of Daisyworld**. `Tellus B (International Meteorological Institute) 35 (4): 286\u20139`, en el cual mostraron la simulaci\u00f3n por computadora de _Daisyworld_. \n",
      "\n",
      "En ella se model\u00f3 un mundo el cual orbita alrededor de una estrella, durante todo el periodo de vida de esta. Las estrellas al evolucionar van cambiando su emisi\u00f3n de radiaci\u00f3n la cual afecta la temperatura del planeta. En el planeta existen dos tipos de margaritas (_daisy_): negras y blancas. Las primeras absorben luz, las blancas la reflejan. La temperatura afecta como se reproducen estas especies. \n",
      "\n",
      "La simulaci\u00f3n muestra que la temperatura del planeta se mantiene constante durante gran parte de la evoluci\u00f3n de la estrella.\n",
      "\n",
      "A principios del cap\u00edtulo 1 de [este](http://www.uwa.edu.au/__data/assets/pdf_file/0006/1637367/Wittwer_2005.pdf) proyecto se pueden encontrar las ecuaciones as\u00ed como la explicaci\u00f3n f\u00edsica de la simulaci\u00f3n.\n",
      "\n",
      "Reprod\u00face la simulaci\u00f3n. Discute los resultados. \u00bfAfectan las condiciones iniciales?\n",
      "\n",
      "\u00bfPor qu\u00e9 la simulaci\u00f3n hace plausible la teor\u00eda de _Gaia_?\n",
      "\n",
      "Agrega otras especies (siguiendo el trabajo de arriba) \u00bfQu\u00e9 sucede?"
     ]
    },
    {
     "cell_type": "heading",
     "level": 2,
     "metadata": {},
     "source": [
      "7. Page-rank"
     ]
    },
    {
     "cell_type": "markdown",
     "metadata": {},
     "source": [
      "Una de las principales tareas de un motor de busqueda es decidir en qu\u00e9 orden presentar los resultados al usuario con base en a) la relevancia de las p\u00e1ginas en fuci\u00f3n de la busqueda y b) la relevancia general de la p\u00e1gina\n",
      "\n",
      "El algoritmo que utiliza Google para realizar esta tarea es el algoritmo PageRank\n",
      "\n",
      "\n"
     ]
    },
    {
     "cell_type": "heading",
     "level": 3,
     "metadata": {},
     "source": [
      "Proyecto"
     ]
    },
    {
     "cell_type": "markdown",
     "metadata": {},
     "source": [
      "* Definir algoritmo _PageRank_\n",
      "* Programar el algoritmo\n",
      "* Demostrar la utilidad del algoritmo fuera de la Web: Se utlizar\u00e1 el vector de rangos para determinar la relevancia de las materias del plan conjunto de _Econom\u00eda y Matem\u00e1ticas Aplicadas_\n",
      "* Simular 4 tipos de _agentes_ que cursan el plan conjunto de _Econom\u00eda y Matem\u00e1ticas Aplicadas_"
     ]
    },
    {
     "cell_type": "heading",
     "level": 4,
     "metadata": {},
     "source": [
      "Simulaci\u00f3n"
     ]
    },
    {
     "cell_type": "markdown",
     "metadata": {},
     "source": [
      "Tenemos dos caracter\u00edsticas que definen a cada agente:\n"
     ]
    },
    {
     "cell_type": "markdown",
     "metadata": {},
     "source": [
      "**Buen alumno**/**Mal alumno**:Se define en funci\u00f3n de la probabilidad  que tiene de acreditar una materia. Si _p_ es la probabilidad de acreditar una materia, el **Buen alumno** ser\u00e1 aquel que tenga _p>.6_"
     ]
    },
    {
     "cell_type": "markdown",
     "metadata": {},
     "source": [
      "**Estrat\u00e9gico**/**Torpe**:Un alumno **Estrat\u00e9gico** ser\u00e1 aquel que elija las materias del conjunto _elegible_ de acuerdo al _vector de rangos_. Un alumno **Torpe** elegir\u00e1 las materias del conjunto _elegible_ de manera aleatoria"
     ]
    },
    {
     "cell_type": "markdown",
     "metadata": {},
     "source": [
      "Estas dos caracter\u00edsticas producen cuatro tipos de agentes"
     ]
    },
    {
     "cell_type": "markdown",
     "metadata": {},
     "source": [
      "\n",
      "|Agentes|\n",
      "|-|-|-|\n",
      "|**Buen alumno**/**Estrat\u00e9gico**|**Buen alumno**/**Torpe**|\n",
      "|**Mal alumno**/**Estrat\u00e9gico**|**Mal alumno**/**Torpe**|\n",
      "\n"
     ]
    },
    {
     "cell_type": "markdown",
     "metadata": {},
     "source": [
      "El _agente_ \u00fanicamente est\u00e1 interesado en su _Avance Acad\u00e9mico_"
     ]
    },
    {
     "cell_type": "markdown",
     "metadata": {},
     "source": [
      " $$\n",
      "{Avance Acad\u00e9mico} = \\frac{\\sum_{k=1}^{t}R_k}{\\sum_{k=1}^{n}R_k}\n",
      "$$"
     ]
    },
    {
     "cell_type": "markdown",
     "metadata": {},
     "source": [
      "donde\n",
      "$$\n",
      "{R_k} = \\sum_{j=1}^{m}{r_k}^{j}\n",
      "$$"
     ]
    },
    {
     "cell_type": "markdown",
     "metadata": {},
     "source": [
      "$R_k $ es la suma de los _rangos_ de las $m$ materias acreditadas en el periodo $k$"
     ]
    },
    {
     "cell_type": "markdown",
     "metadata": {},
     "source": [
      "La simulaci\u00f3n procede como sigue:"
     ]
    },
    {
     "cell_type": "markdown",
     "metadata": {},
     "source": [
      "Para cada semestre $t$ el _agente_ debe elegir $6$ materias del _conjunto_ _elegible_.Las materias en $t=0$ ya est\u00e1n determinadas."
     ]
    },
    {
     "cell_type": "markdown",
     "metadata": {},
     "source": [
      "El _conjunto_ _elegible_ se define como aquellas materias para las cuales ya se cumple con el prerrequisito."
     ]
    },
    {
     "cell_type": "markdown",
     "metadata": {},
     "source": [
      "Se evaluar\u00e1 el _Avance Acad\u00e9mico_ de los cuatro _Agentes_ en un periodo $t=T$"
     ]
    },
    {
     "cell_type": "markdown",
     "metadata": {},
     "source": []
    },
    {
     "cell_type": "heading",
     "level": 2,
     "metadata": {},
     "source": [
      "8. Tr\u00e1nsito"
     ]
    },
    {
     "cell_type": "markdown",
     "metadata": {},
     "source": [
      "Modelaremos el tr\u00e1nsito de una calle como sigue:\n",
      "\n",
      "   1. Un arreglo unidimensional de longitud $s$ con condiciones de frontera peri\u00f3dicas. \n",
      "   2. En cada celda se codifica la existencia o no de un veh\u00edculo. Si no hay veh\u00edculo se utiliza un `-1`, si hay veh\u00edculo se representa con un entero $0, 1, 2, \\ldots, v_{max}$, donde $0$ significa que el veh\u00edculo est\u00e1 detenido.\n",
      "   3. La inicializaci\u00f3n y las reglas de actualizaci\u00f3n pueden variar, por ejemplo, una regla podr\u00eda ser la siguiente:\n",
      "    \n",
      "       Si la distancia $d$ al carro de adelante es menor que la velocidad del carro $v$ entonces disminuyo mi velocidad en $v_{nueva} = d - 1$, si no aumento mi velocidad en `1` (aunque menor que $v_{max}$.\n",
      "        \n",
      "       El carro actualiza su posici\u00f3n basado en su velocidad (i.e. se mueve hacia adelante $v_{nueva}$ espacios).\n",
      "        \n",
      "        \n",
      "Implementa las clases para la simulaci\u00f3n. Incluye visualizaci\u00f3n y animaci\u00f3n.\n",
      "\n",
      "Explora este universo. \u00bfEn qu\u00e9 condiciones aparecen los _embotellamientos_?\n",
      "\n",
      "Agrega sem\u00e1foros \u00bfEn que afecta la circulaci\u00f3n? \n",
      "\n",
      "\u00bfPuedes modelar una ciudad cuadr\u00edculada?\n",
      "\n",
      "\u00bfPuedes agregar diferentes comportamientos de conductores?\n",
      "    \n",
      "Muestra los datos y gr\u00e1ficas que soporten tus conclusiones."
     ]
    },
    {
     "cell_type": "heading",
     "level": 2,
     "metadata": {},
     "source": [
      "9. Gato AI"
     ]
    },
    {
     "cell_type": "markdown",
     "metadata": {},
     "source": [
      "En clase, utilizamos el m\u00e9todo de **Monte Carlo** para resolver integrales, en este proyecto, lo usaremos para implementar una inteligencia artificial.\n",
      "\n",
      "   1. Modele el juego del Gato.\n",
      "   \n",
      "      _Hint_: Recuerde hay dos jugadores, un gato, cada jugador realiza un movimiento y el gato debe de indicar quien gana.\n",
      "      _Hint_: Clases: `Gato`,  `Jugador`\n",
      "   \n",
      "   2. Desarrolla un _algoritmo_ dentro de una clase `Jugador` que coloque su s\u00edmbolo debajo de donde tire el oponente.\n",
      "   \n",
      "   4. Ahora implementaremos otro _algoritmo_: El `Jugador` tira al azar. \n",
      "   \n",
      "   5. Ahora implementa una estrategia completa: El jugador con el algoritmo anterior simula juegos completos (con tiradas al azar), calcula cual es la jugada que mejor le da y tira. \n",
      "       \n",
      "       _Hint_: Este jugador es diferente al del punto anterior.\n",
      "       \n",
      "   6. Simula miles de juegos entre estos tres algoritmos. \u00bfQui\u00e9n gana m\u00e1s?\n",
      "   \n",
      "   7. Con el jugador de monte carlo, \u00bfCu\u00e1les son las mejores aperturas? \u00bfCu\u00e1les son las mejores jugadas?\n",
      "   \n",
      "   8. Ahora mejoremos el algoritmo: [**Monte Carlo Tree Search**](http://en.wikipedia.org/wiki/Monte_Carlo_tree_search) el cual es una combinaci\u00f3n de Minimax y la estretegia de Monte Carlo.\n",
      "   \n",
      "   9. Describa el algoritmo, mencione las ventajas entre el **MTCS**, el Monte Carlo y el m\u00e9todo Minimax. Demuestre con datos.\n",
      "   \n",
      "   9. Repita el torneo. Muestre datos.\n",
      "   "
     ]
    },
    {
     "cell_type": "heading",
     "level": 2,
     "metadata": {},
     "source": [
      "10. Simulador de Precio de Acciones y Tendencias"
     ]
    },
    {
     "cell_type": "markdown",
     "metadata": {},
     "source": [
      "En el proyecto se busca ubicar tendencias reales en el mercado y anticipar el precio que tendr\u00e1 una acci\u00f3n en un momento dado. \n",
      "   1. Buscar los datos que mayor correlaci\u00f3n tienen con el precio de la acci\u00f3n\n",
      "   2. Realizar una regresi\u00f3n lineal sobre los datos relacionados con la acci\u00f3n y la acci\u00f3n misma\n",
      "   3. Realizar una regresi\u00f3n lineal sobre el dato de mayor correlaci\u00f3n con el precio de la acci\u00f3n y comparar los resultados\n",
      "   4. Buscar las tendencias en el mercado\n",
      "   5. Ubicar que tendencias son reales y cuales no, aplicar modelos de clasificaci\u00f3n de aprendizaje de m\u00e1quina para obtener la probabilidad de que las tendencias encontradas en el futuro sean reales\n",
      "   6. Utilizar una funci\u00f3n de distribuci\u00f3n que pueda mostrar el tiempo que debemos esperar para ubicar nuevas posibles tendencias\n",
      "   7. Aplicar una regresi\u00f3n lineal sobre los datos obtenidos en la tendencia para buscar una mejor predicci\u00f3n de los precios"
     ]
    }
   ],
   "metadata": {}
  }
 ]
}
