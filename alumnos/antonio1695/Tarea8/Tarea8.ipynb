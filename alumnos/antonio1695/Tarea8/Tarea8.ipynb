{
 "metadata": {
  "name": "",
  "signature": "sha256:60d39357901bc4454327f49b3d2af050de2bca0b819c0c03afa7b94c507a68b2"
 },
 "nbformat": 3,
 "nbformat_minor": 0,
 "worksheets": [
  {
   "cells": [
    {
     "cell_type": "heading",
     "level": 1,
     "metadata": {},
     "source": [
      "Tarea"
     ]
    },
    {
     "cell_type": "heading",
     "level": 2,
     "metadata": {},
     "source": [
      "Problema 1"
     ]
    },
    {
     "cell_type": "markdown",
     "metadata": {},
     "source": [
      "Usando las clases `Agente` y `Mundo` dados en el _lecture_ modifica el c\u00f3digo para implementar el algoritmo original de Thomas Schelling. \n",
      "\n",
      "1. Crea una subclase `MundoGrid` a la cual le pases el n\u00famero de columnas y renglones que quieres para la simulaci\u00f3n. Estos funcionar\u00e1n como \"mega pixeles\".\n",
      "\n",
      "1. Crea una subclase `AgenteSchelling2` que en lugar de moverse al azar elija un \"mega p\u00edxel\" que est\u00e9 vac\u00edo.\n",
      "\n",
      "1. Dibuja la rejilla con los colores originales del art\u00edculo. Las celdas vac\u00edas, p\u00edntalas de negro.\n",
      "\n",
      "1. \u00bfLos resultados son an\u00e1logos?"
     ]
    }
   ],
   "metadata": {}
  }
 ]
}