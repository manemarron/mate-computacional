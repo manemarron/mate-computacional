{
 "metadata": {
  "name": "",
  "signature": "sha256:4149655d4acf3a1619568a480107cc84bf262799549a042ed848cc670db4b0e4"
 },
 "nbformat": 3,
 "nbformat_minor": 0,
 "worksheets": [
  {
   "cells": [
    {
     "cell_type": "code",
     "collapsed": false,
     "input": [
      "%pylab inline\n",
      "import numpy as np\n",
      "import matplotlib.pyplot as plt"
     ],
     "language": "python",
     "metadata": {},
     "outputs": [
      {
       "output_type": "stream",
       "stream": "stdout",
       "text": [
        "Populating the interactive namespace from numpy and matplotlib\n"
       ]
      }
     ],
     "prompt_number": 142
    },
    {
     "cell_type": "code",
     "collapsed": false,
     "input": [
      "# El c\u00f3digo siguiente recarga (reloads) las rutinas externas cada vez que el c\u00f3digo cambia (es \u00fatil para \"debuggear\" c\u00f3digo externo)\n",
      "\n",
      "%load_ext autoreload\n",
      "%autoreload 2"
     ],
     "language": "python",
     "metadata": {},
     "outputs": [
      {
       "output_type": "stream",
       "stream": "stdout",
       "text": [
        "The autoreload extension is already loaded. To reload it, use:\n",
        "  %reload_ext autoreload\n"
       ]
      }
     ],
     "prompt_number": 101
    },
    {
     "cell_type": "code",
     "collapsed": false,
     "input": [
      "# Realiza division flotante\n",
      "from __future__ import division"
     ],
     "language": "python",
     "metadata": {},
     "outputs": [],
     "prompt_number": 102
    },
    {
     "cell_type": "heading",
     "level": 2,
     "metadata": {},
     "source": [
      "M\u00e9todo de Euler"
     ]
    },
    {
     "cell_type": "markdown",
     "metadata": {},
     "source": [
      "Si nos permitimos un poco de _sloppiness_, podemos hacer lo siguiente:\n",
      "\n",
      "$$\n",
      "a \\equiv \\frac{dv}{dt}\n",
      "$$\n",
      "\n",
      "$$\n",
      "dv = a dt\n",
      "$$\n",
      "\n",
      "Y reconociendo que tenemos n\u00fameros flotantes con precisi\u00f3n finita:\n",
      "\n",
      "$$\n",
      "\\Delta v = a \\Delta t\n",
      "$$\n",
      "\n",
      "Conociendo la posici\u00f3n inicial $x_i$ y el cambio $\\delta x$ podemos estimar la nueva velocidad:\n",
      "\n",
      "$$\n",
      "v = v_i + a \\Delta t\n",
      "$$\n",
      "\n",
      "Entonces, haciendo recursivos los _pasos_\n",
      "\n",
      "$$\n",
      "v_{i+1} = v_i + \\frac{d}{dt}[v] \\Delta t\n",
      "$$\n",
      "\n",
      "Y podemos hacer lo mismo para la posici\u00f3n:\n",
      "\n",
      "$$\n",
      "x_{i+1} = x_i + \\frac{d}{dt}[x] \\Delta t\n",
      "$$\n",
      "\n",
      "Una representaci\u00f3n en imagen del m\u00e9todo, se muestra a continuaci\u00f3n:"
     ]
    },
    {
     "cell_type": "markdown",
     "metadata": {},
     "source": [
      "<img src=\"images/euler_method.png\">"
     ]
    },
    {
     "cell_type": "markdown",
     "metadata": {},
     "source": [
      "<div class=\"alert alert-warning pull-right\">\n",
      "Imagen de la Wikipedia\n",
      "</div>"
     ]
    },
    {
     "cell_type": "markdown",
     "metadata": {},
     "source": [
      "Como se puede apreciar en la figura, la aproximaci\u00f3n con el _m\u00e9todo de Euler_ va empeorando conforme aumentamos los pasos. Para combatir este error, se pueden disminuir el tama\u00f1o del paso, pero como veremos m\u00e1s adelante, esto tiene sus limitaciones."
     ]
    },
    {
     "cell_type": "heading",
     "level": 2,
     "metadata": {},
     "source": [
      "Ejemplo: Ca\u00edda libre"
     ]
    },
    {
     "cell_type": "markdown",
     "metadata": {},
     "source": [
      "La ecuaci\u00f3n de movimiento en ca\u00edda libre es:\n",
      "\n",
      "$$\n",
      "\\ddot{x} = -g\n",
      "$$\n",
      "\n",
      "donde $g$ es la constante de gravedad."
     ]
    },
    {
     "cell_type": "markdown",
     "metadata": {},
     "source": [
      "El m\u00e9todo de Euler s\u00f3lo funciona con ecuaciones diferenciales de primer orden, pero podemos hacer el siguiente truco:\n",
      "\n",
      "$$ \n",
      "\\dot{x} = v\n",
      "$$\n",
      "$$\n",
      "\\dot{v} = -g\n",
      "$$\n",
      "\n",
      "Por lo que ahora nuestro sistema est\u00e1 descrito por dos ecuaciones lineales acopladas de primer orden."
     ]
    },
    {
     "cell_type": "markdown",
     "metadata": {},
     "source": [
      "El m\u00e9todo de Euler nos dice que la soluci\u00f3n de estas ecuaciones es:\n",
      "\n",
      "$$\n",
      "x_{i+1} = x_i + \\dot{x} \\Delta t\n",
      "$$\n",
      "\n",
      "$$ \n",
      "v_{i+1} = v_i + \\dot{v} \\Delta t\n",
      "$$"
     ]
    },
    {
     "cell_type": "markdown",
     "metadata": {},
     "source": [
      "El cual se puede escribir como\n",
      "\n",
      "$$\n",
      "y_{i+1} = y_i + \\dot{y} \\Delta t\n",
      "$$\n",
      "\n",
      "donde \n",
      "\n",
      "$$\n",
      "y = \n",
      "\\begin{bmatrix}\n",
      "x \\\\\n",
      "v\n",
      "\\end{bmatrix}\n",
      "$$\n",
      "\n",
      "y\n",
      "\n",
      "$$\n",
      "\\dot{y} = \n",
      "\\begin{bmatrix}\n",
      "v \\\\\n",
      "-g\n",
      "\\end{bmatrix}\n",
      "$$\n"
     ]
    },
    {
     "cell_type": "markdown",
     "metadata": {},
     "source": [
      "En python definimos una funci\u00f3n para representar este sistema"
     ]
    },
    {
     "cell_type": "code",
     "collapsed": false,
     "input": [
      "def caida_libre(estado, sistema):\n",
      "    g0 = estado[1]\n",
      "    g1 = -9.8\n",
      "    \n",
      "    return np.array([g0, g1])"
     ],
     "language": "python",
     "metadata": {},
     "outputs": [],
     "prompt_number": 103
    },
    {
     "cell_type": "code",
     "collapsed": false,
     "input": [
      "def euler(y, t, dt, derivadas):\n",
      "    y_next = y + derivadas(y, t)*dt\n",
      "    return y_next"
     ],
     "language": "python",
     "metadata": {},
     "outputs": [],
     "prompt_number": 104
    },
    {
     "cell_type": "code",
     "collapsed": false,
     "input": [
      "N = 1000 # n\u00famero de pasos\n",
      "\n",
      "x0 = 0.0  # posici\u00f3n inicial\n",
      "\n",
      "v0 = 0.0  # velocidad inicial\n",
      "\n",
      "g = -9.8 # aceleraci\u00f3n de la gravedad en la tierra\n",
      "\n",
      "tau = 3.0 # tiempo de la simulaci\u00f3n\n",
      " \n",
      "dt = tau/(float)(N-1)  # tama\u00f1o del paso"
     ],
     "language": "python",
     "metadata": {},
     "outputs": [],
     "prompt_number": 105
    },
    {
     "cell_type": "code",
     "collapsed": false,
     "input": [
      "time = np.linspace(0, tau, N)"
     ],
     "language": "python",
     "metadata": {},
     "outputs": [],
     "prompt_number": 106
    },
    {
     "cell_type": "code",
     "collapsed": false,
     "input": [
      "y = np.zeros([N,2])\n",
      "\n",
      "y[0,0] = x0\n",
      "y[0,1] = v0"
     ],
     "language": "python",
     "metadata": {},
     "outputs": [],
     "prompt_number": 107
    },
    {
     "cell_type": "code",
     "collapsed": false,
     "input": [
      "for j in range(N-1):\n",
      "    y[j+1] = euler(y[j], time[j], dt, caida_libre)"
     ],
     "language": "python",
     "metadata": {},
     "outputs": [],
     "prompt_number": 108
    },
    {
     "cell_type": "code",
     "collapsed": false,
     "input": [
      "xdata = [y[j,0] for j in range(N)]\n",
      "vdata = [y[j,1] for j in range(N)]\n",
      "\n",
      "plt.plot(time, xdata, label=\"pos\")\n",
      "plt.plot(time, vdata, label=\"vel\")\n",
      "plt.xlabel(\"tiempo\")\n",
      "plt.ylabel(\"posicion, velocidad\")\n",
      "plt.legend(loc=\"best\")"
     ],
     "language": "python",
     "metadata": {},
     "outputs": [
      {
       "metadata": {},
       "output_type": "pyout",
       "prompt_number": 109,
       "text": [
        "<matplotlib.legend.Legend at 0x7f357b925590>"
       ]
      },
      {
       "metadata": {},
       "output_type": "display_data",
       "png": "[encoded data removed]",
       "text": [
        "<matplotlib.figure.Figure at 0x7f357ba24bd0>"
       ]
      }
     ],
     "prompt_number": 109
    },
    {
     "cell_type": "markdown",
     "metadata": {},
     "source": [
      "En el caso de la ca\u00edda libre, es posible obtener una soluci\u00f3n exacta:\n",
      "\n",
      "$$\n",
      "x(t) = x_i + v_i t + \\frac{1}{2}g t^2\n",
      "$$\n",
      "$$\n",
      "v(t) = v_i + gt\n",
      "$$"
     ]
    },
    {
     "cell_type": "code",
     "collapsed": false,
     "input": [
      "xt = lambda x_i, v_i, a, t: x_i + v_i*a + 0.5*a*t**2\n",
      "vt = lambda v_i, a, t: v_i + a*t\n",
      "\n",
      "plt.plot(time, xt(x0, v0, g, time), label=\"pos exacta\")\n",
      "plt.plot(time, vt(v0, g, time), label=\"vel exacta\")\n",
      "plt.plot(time, xdata, label=\"pos\")\n",
      "plt.plot(time, vdata, label=\"vel\")\n",
      "plt.legend(loc=\"best\")"
     ],
     "language": "python",
     "metadata": {},
     "outputs": [
      {
       "metadata": {},
       "output_type": "pyout",
       "prompt_number": 110,
       "text": [
        "<matplotlib.legend.Legend at 0x7f357dcbafd0>"
       ]
      },
      {
       "metadata": {},
       "output_type": "display_data",
       "png": "[encoded data removed]",
       "text": [
        "<matplotlib.figure.Figure at 0x7f357baa2290>"
       ]
      }
     ],
     "prompt_number": 110
    },
    {
     "cell_type": "markdown",
     "metadata": {},
     "source": [
      "Al parecer en este caso no hay error (_perceptible_) en la diferenciaci\u00f3n."
     ]
    },
    {
     "cell_type": "heading",
     "level": 2,
     "metadata": {},
     "source": [
      "Ejemplo: P\u00e9ndulo simple"
     ]
    },
    {
     "cell_type": "markdown",
     "metadata": {},
     "source": [
      "La ecuaci\u00f3n de movimiento del p\u00e9ndulo es la siguiente:\n",
      "\n",
      "$$\n",
      "\\frac{d^2\\theta}{dt^2} = -\\frac{g}{l}\\sin\\theta\n",
      "$$\n",
      "\n",
      "donde $\\theta$ es el \u00e1ngulo medido desde la vertical, $g$ es la aceleraci\u00f3n debida a la gravedad y $l$ es la longitud del p\u00e9ndulo."
     ]
    },
    {
     "cell_type": "markdown",
     "metadata": {},
     "source": [
      "Esta ecuaci\u00f3n es **no lineal** y la revisitaremos cuando veamos caos. "
     ]
    },
    {
     "cell_type": "markdown",
     "metadata": {},
     "source": [
      "Es posible linearizarla para el caso cuando $\\theta$ es peque\u00f1o, en este caso $\\sin\\theta \\approx \\theta$\n",
      "\n",
      "$$\n",
      "\\frac{d^2\\theta}{dt^2} \\approx -\\frac{g}{l}\\theta\n",
      "$$"
     ]
    },
    {
     "cell_type": "markdown",
     "metadata": {},
     "source": [
      "Esta ecuaci\u00f3n de segundo orden se puede transformar en un sistema de ecuaciones de primer orden haciendo:\n",
      "\n",
      "$$\n",
      "\\dot\\theta = \\omega\n",
      "$$\n",
      "\n",
      "$$\n",
      "\\dot\\omega = - \\frac{g}{l}\\theta\n",
      "$$"
     ]
    },
    {
     "cell_type": "markdown",
     "metadata": {},
     "source": [
      "Una cantidad importante es la frecuencia\n",
      "\n",
      "$$\n",
      "\\Omega = \\sqrt\\frac{g}{l}\n",
      "$$\n",
      "\n",
      "y su inverso el periodo\n",
      "\n",
      "$$\n",
      "T = \\frac{2\\pi}{\\Omega}\n",
      "$$"
     ]
    },
    {
     "cell_type": "markdown",
     "metadata": {},
     "source": [
      "La energ\u00eda total exacta $E$ del p\u00e9ndulo es:\n",
      "\n",
      "$$\n",
      "E = \\frac{1}{2} m l^2 \\omega^2 + m g l (1-\\cos\\theta)\n",
      "$$\n",
      "\n",
      "y en nuestra aproximaci\u00f3n $\\cos \\theta \\approx 1 - \\theta^2/2$, entonces\n",
      "\n",
      "$$\n",
      "E \\approx \\frac{1}{2}ml^2\\left ( \\omega^2 + \\frac{g}{l}\\theta^2\\right )\n",
      "$$"
     ]
    },
    {
     "cell_type": "markdown",
     "metadata": {},
     "source": [
      "Estamos definiendo la energ\u00eda para poder evaluar el error de nuestro m\u00e9todo de resoluci\u00f3n de ecuaciones diferenciales."
     ]
    },
    {
     "cell_type": "markdown",
     "metadata": {},
     "source": [
      "La ecuaci\u00f3n del p\u00e9ndulo, en nuestra aproximaci\u00f3n, tiene una soluci\u00f3n anal\u00edtica:\n",
      "\n",
      "$$\n",
      "\\theta(t) = \\theta_i\\cos(\\Omega t) + \\frac{\\omega_i}{\\Omega} \\sin(\\Omega t)\n",
      "$$"
     ]
    },
    {
     "cell_type": "code",
     "collapsed": false,
     "input": [
      "masa = 1.0 # En kilogramos\n",
      "longitud = 1.0 # En metros\n",
      "g = 9.8 # m/s^2\n",
      "\n",
      "Omega = sqrt(g/longitud)\n",
      "periodo = 2*np.pi/Omega"
     ],
     "language": "python",
     "metadata": {},
     "outputs": [],
     "prompt_number": 111
    },
    {
     "cell_type": "code",
     "collapsed": false,
     "input": [
      "def energia_pendulo(theta, omega, m = masa, g = g, l = longitud):\n",
      "    return 0.5*m*l**2 * (omega**2 + (g/l)*theta**2)"
     ],
     "language": "python",
     "metadata": {},
     "outputs": [],
     "prompt_number": 112
    },
    {
     "cell_type": "markdown",
     "metadata": {},
     "source": [
      "<div class=\"alert alert-info\">\n",
      "**Ejercicio:** Define una funci\u00f3n `pendulo_analitico` que calcule en funci\u00f3n del tiempo la posici\u00f3n del p\u00e9ndulo\n",
      "</div>\n",
      "<div class=\"alert alert-info\">\n",
      "**Ejercicio:** Grafica la soluci\u00f3n anal\u00edtica, con condiciones $\\theta_i = 0.2$ y $\\omega_i = 0$.\n",
      "</div>"
     ]
    },
    {
     "cell_type": "code",
     "collapsed": false,
     "input": [
      "def pendulo_lineal(estado, tiempo, g=g, l=longitud):\n",
      "    g0 = estado[1]\n",
      "    g1 = -g/l*estado[0]\n",
      "    return np.array([g0, g1])"
     ],
     "language": "python",
     "metadata": {},
     "outputs": [],
     "prompt_number": 113
    },
    {
     "cell_type": "code",
     "collapsed": false,
     "input": [
      "tau = 5*periodo\n",
      "\n",
      "N = 1000\n",
      "\n",
      "dt = tau/(float)(N-1) \n",
      "\n",
      "tiempo = np.linspace(0, tau, num=N)\n",
      "\n",
      "y = np.zeros([N,2])"
     ],
     "language": "python",
     "metadata": {},
     "outputs": [],
     "prompt_number": 114
    },
    {
     "cell_type": "code",
     "collapsed": false,
     "input": [
      "y[0,0] = 0.2\n",
      "y[0,1] = 0.0"
     ],
     "language": "python",
     "metadata": {},
     "outputs": [],
     "prompt_number": 115
    },
    {
     "cell_type": "code",
     "collapsed": false,
     "input": [
      "def pendulo_lineal_euler(y, tiempo, dt):\n",
      "\n",
      "    for j in range(N-1):\n",
      "        y[j+1] = euler(y[j], tiempo[j], dt, pendulo_lineal)\n",
      "\n",
      "        \n",
      "    theta = np.array([y[j,0] for j in range(N)])\n",
      "    omega = np.array([y[j,1] for j in range(N)])\n",
      "    \n",
      "    return theta, omega"
     ],
     "language": "python",
     "metadata": {},
     "outputs": [],
     "prompt_number": 116
    },
    {
     "cell_type": "code",
     "collapsed": false,
     "input": [
      "theta_euler, omega_euler = pendulo_lineal_euler(y, tiempo, dt)"
     ],
     "language": "python",
     "metadata": {},
     "outputs": [],
     "prompt_number": 117
    },
    {
     "cell_type": "code",
     "collapsed": false,
     "input": [
      "plt.figure(1, figsize=(8,6))\n",
      "plt.plot(tiempo, theta_euler, label=\"theta\")\n",
      "plt.plot(tiempo, omega_euler, label=\"omega\")\n",
      "plt.xlabel(r\"t (s)\")\n",
      "plt.ylabel(r\"theta (rads),$\\quad\\omega$\")\n",
      "plt.legend(loc=\"best\")"
     ],
     "language": "python",
     "metadata": {},
     "outputs": [
      {
       "metadata": {},
       "output_type": "pyout",
       "prompt_number": 118,
       "text": [
        "<matplotlib.legend.Legend at 0x7f357dba7510>"
       ]
      },
      {
       "metadata": {},
       "output_type": "display_data",
       "png": "[encoded data removed]",
       "text": [
        "<matplotlib.figure.Figure at 0x7f357b94c290>"
       ]
      }
     ],
     "prompt_number": 118
    },
    {
     "cell_type": "markdown",
     "metadata": {},
     "source": [
      "<div class=\"alert alert-info\">\n",
      "**Ejercicio:** Agrega en esta gr\u00e1fica la soluci\u00f3n anal\u00edtica.\n",
      "</div>"
     ]
    },
    {
     "cell_type": "markdown",
     "metadata": {},
     "source": [
      "Mmmm... Creo que no se ve bien esto \u00bfC\u00f3mo se ve la energ\u00eda?"
     ]
    },
    {
     "cell_type": "code",
     "collapsed": false,
     "input": [
      "plt.figure(1, figsize=(8,6))\n",
      "plt.plot(tiempo, energia_pendulo(theta_euler, omega_euler), marker='o', linestyle='None', color='red', label=\"Energia\")\n",
      "plt.xlabel(r\"t (s)\")\n",
      "plt.ylabel(r\"Energia (J)\")\n",
      "plt.legend(loc=\"best\")"
     ],
     "language": "python",
     "metadata": {},
     "outputs": [
      {
       "metadata": {},
       "output_type": "pyout",
       "prompt_number": 119,
       "text": [
        "<matplotlib.legend.Legend at 0x7f357e214dd0>"
       ]
      },
      {
       "metadata": {},
       "output_type": "display_data",
       "png": "[encoded data removed]",
       "text": [
        "<matplotlib.figure.Figure at 0x7f357ba04190>"
       ]
      }
     ],
     "prompt_number": 119
    },
    {
     "cell_type": "markdown",
     "metadata": {},
     "source": [
      "<div class=\"alert alert-info\">\n",
      "**Ejercicio**: \u00bfPor qu\u00e9 est\u00e1 mal la energ\u00eda?\n",
      "</div>\n",
      "<div class=\"alert alert-info\">\n",
      "**Ejercicio**: Agrega un _widget_ para ver el n\u00famero de paso $N$ (entre $1,000$ y $30,000$) \u00bfQu\u00e9 sucede con la energia?\n",
      "</div>"
     ]
    },
    {
     "cell_type": "heading",
     "level": 3,
     "metadata": {},
     "source": [
      "Mejorando el c\u00f3digo"
     ]
    },
    {
     "cell_type": "markdown",
     "metadata": {},
     "source": [
      "Podemos mejorar el codigo si definimos los siguientes m\u00e9todos:"
     ]
    },
    {
     "cell_type": "code",
     "collapsed": false,
     "input": [
      "class Pendulo:\n",
      "    \n",
      "    def __init__(self, masa, longitud, gravedad):\n",
      "        self.masa = masa\n",
      "        self.longitud = longitud\n",
      "        self.gravedad = gravedad\n",
      "      \n",
      "        self.Omega = sqrt(g/longitud)\n",
      "        self.period = 2*np.pi/Omega\n",
      "\n",
      "        \n",
      "    def theta(self):\n",
      "        return self.trajectory[:,0]\n",
      "    \n",
      "    def omega(self):\n",
      "        return self.trajectory[:,1]\n",
      "    \n",
      "    def plot(self):\n",
      "        fig, ax = plt.subplots(3,1, figsize=(10,8), sharex = True)\n",
      "\n",
      "        ax[0].plot(self.tau, self.theta(), label=\"theta\", color=\"blue\")\n",
      "        ax[1].plot(self.tau, self.omega(), label=\"omega\", color=\"green\")\n",
      "        ax[2].plot(self.tau, self.energy(),  marker='o', linestyle='None', color='red', label=\"Energia\")\n",
      "\n",
      "        ax[0].set_ylabel(\"Theta (rads)\")\n",
      "        ax[0].set_xlabel(\"tiempo (s)\")\n",
      "\n",
      "        ax[1].set_ylabel(\"Omega (rads/s)\")\n",
      "        ax[1].set_xlabel(\"tiempo (s)\")\n",
      "\n",
      "        ax[2].set_ylabel(\"Energia (J)\")\n",
      "        ax[2].set_xlabel(\"tiempo (s)\")\n",
      "    \n",
      "    def initial_conditions(self, theta_i, omega_i):\n",
      "        self.theta_i = theta_i\n",
      "        self.omega_i = omega_i\n",
      "        \n",
      "    def dynamics(self, state, t):\n",
      "        g0 = state[1]\n",
      "        g1 = -self.gravedad/self.longitud*state[0]\n",
      "        return np.array([g0, g1])\n",
      "        \n",
      "    def energy(self):\n",
      "        return 0.5*self.masa*self.longitud**2 * (self.omega()**2 + (self.gravedad/self.longitud)*self.theta()**2)\n",
      "        \n",
      "    def integrate(self, num_steps, t_i, t_f, method):\n",
      "        \n",
      "        self.tau, self.dt = np.linspace(t_i, t_f, num=num_steps, retstep=True)\n",
      "        self.trajectory = np.zeros([num_steps, 2])\n",
      "        self.trajectory[0,0] = self.theta_i\n",
      "        self.trajectory[0,1] = self.omega_i\n",
      "        \n",
      "        for j in range(num_steps-1):\n",
      "            self.trajectory[j+1] = method(self.trajectory[j], self.tau[j], self.dt, self.dynamics)        "
     ],
     "language": "python",
     "metadata": {},
     "outputs": [],
     "prompt_number": 120
    },
    {
     "cell_type": "heading",
     "level": 4,
     "metadata": {},
     "source": [
      "Ejemplo de uso"
     ]
    },
    {
     "cell_type": "code",
     "collapsed": false,
     "input": [
      "p = Pendulo(masa = 1.0, longitud = 1.0, gravedad = 9.8)\n",
      "p.initial_conditions(theta_i=0.2, omega_i=0.0)"
     ],
     "language": "python",
     "metadata": {},
     "outputs": [],
     "prompt_number": 121
    },
    {
     "cell_type": "code",
     "collapsed": false,
     "input": [
      "N = 100\n",
      "tiempo_inicial = 0.0\n",
      "tiempo_final = 5*p.period"
     ],
     "language": "python",
     "metadata": {},
     "outputs": [],
     "prompt_number": 122
    },
    {
     "cell_type": "code",
     "collapsed": false,
     "input": [
      "p.integrate(N, tiempo_inicial, tiempo_final, euler)"
     ],
     "language": "python",
     "metadata": {},
     "outputs": [],
     "prompt_number": 123
    },
    {
     "cell_type": "code",
     "collapsed": false,
     "input": [
      "p.plot()"
     ],
     "language": "python",
     "metadata": {},
     "outputs": [
      {
       "metadata": {},
       "output_type": "display_data",
       "png": "[encoded data removed]",
       "text": [
        "<matplotlib.figure.Figure at 0x7f357ba045d0>"
       ]
      }
     ],
     "prompt_number": 124
    },
    {
     "cell_type": "heading",
     "level": 2,
     "metadata": {},
     "source": [
      "M\u00e9todos de Runge-Kutta"
     ]
    },
    {
     "cell_type": "code",
     "collapsed": false,
     "input": [
      "def RK2(y, t, dt, derivadas):\n",
      "    k0 = dt*derivadas(y, t)\n",
      "    k1 = dt*derivadas(y + k0, t + dt)\n",
      "    y_next = y + 0.5*(k0 + k1)\n",
      "    \n",
      "    return y_next"
     ],
     "language": "python",
     "metadata": {},
     "outputs": [],
     "prompt_number": 125
    },
    {
     "cell_type": "code",
     "collapsed": false,
     "input": [
      "p2 = Pendulo(masa = 1.0, longitud = 1.0, gravedad = 9.8)\n",
      "p2.initial_conditions(theta_i=0.2, omega_i=0.0)"
     ],
     "language": "python",
     "metadata": {},
     "outputs": [],
     "prompt_number": 126
    },
    {
     "cell_type": "code",
     "collapsed": false,
     "input": [
      "N = 100\n",
      "tiempo_inicial = 0.0\n",
      "tiempo_final = 5*p2.period"
     ],
     "language": "python",
     "metadata": {},
     "outputs": [],
     "prompt_number": 127
    },
    {
     "cell_type": "code",
     "collapsed": false,
     "input": [
      "p2.integrate(N, tiempo_inicial, tiempo_final, RK2)\n",
      "p2.plot()"
     ],
     "language": "python",
     "metadata": {},
     "outputs": [
      {
       "metadata": {},
       "output_type": "display_data",
       "png": "[encoded data removed]",
       "text": [
        "<matplotlib.figure.Figure at 0x7f357ba5e510>"
       ]
      }
     ],
     "prompt_number": 128
    },
    {
     "cell_type": "markdown",
     "metadata": {},
     "source": [
      "<div class=\"alert alert-info\">\n",
      "**Ejercicio**: Crea una imagen donde se muestre la $\\theta$ calculada con el m\u00e9todo de Euler, RK2 y anal\u00edtica. \u00bfQu\u00e9 observas?\n",
      "</div>"
     ]
    },
    {
     "cell_type": "heading",
     "level": 2,
     "metadata": {},
     "source": [
      "Diagrama de fase"
     ]
    },
    {
     "cell_type": "code",
     "collapsed": false,
     "input": [
      "plt.plot(p.theta(), p.omega())\n",
      "plt.xlabel(\"theta (rads)\")\n",
      "plt.ylabel(\"omega (rads/s)\")"
     ],
     "language": "python",
     "metadata": {},
     "outputs": [
      {
       "metadata": {},
       "output_type": "pyout",
       "prompt_number": 129,
       "text": [
        "<matplotlib.text.Text at 0x7f357b917710>"
       ]
      },
      {
       "metadata": {},
       "output_type": "display_data",
       "png": "[encoded data removed]",
       "text": [
        "<matplotlib.figure.Figure at 0x7f357b787910>"
       ]
      }
     ],
     "prompt_number": 129
    },
    {
     "cell_type": "raw",
     "metadata": {},
     "source": [
      "Orbita inestable que nos dice que se genera energ\u00eda. Errores del M\u00e9todo del Euler. "
     ]
    },
    {
     "cell_type": "code",
     "collapsed": false,
     "input": [
      "plt.plot(p2.theta(), p2.omega())\n",
      "plt.xlabel(\"theta (rads)\")\n",
      "plt.ylabel(\"omega (rads/s)\")\n"
     ],
     "language": "python",
     "metadata": {},
     "outputs": [
      {
       "metadata": {},
       "output_type": "pyout",
       "prompt_number": 130,
       "text": [
        "<matplotlib.text.Text at 0x7f357b8d6a10>"
       ]
      },
      {
       "metadata": {},
       "output_type": "display_data",
       "png": "[encoded data removed]",
       "text": [
        "<matplotlib.figure.Figure at 0x7f357b6fd110>"
       ]
      }
     ],
     "prompt_number": 130
    },
    {
     "cell_type": "markdown",
     "metadata": {},
     "source": [
      "<div class=\"alert alert-info\">\n",
      "**Ejercicio**: Agregue el m\u00e9todo para dibujar el diagrama de fase a la clase `Pendulo`\n",
      "</div>"
     ]
    },
    {
     "cell_type": "markdown",
     "metadata": {},
     "source": [
      "<div class=\"alert alert-info\">\n",
      "**Ejercicio**: Cree un archivo `pendulo_linealizado.py` y guarde ah\u00ed la clase. C\u00e1rguelo a la sesi\u00f3n.\n",
      "</div>"
     ]
    },
    {
     "cell_type": "code",
     "collapsed": false,
     "input": [
      "%%file pendulo_linealizado\n",
      "class Pendulo:\n",
      "    \n",
      "    def __init__(self, masa, longitud, gravedad):\n",
      "        self.masa = masa\n",
      "        self.longitud = longitud\n",
      "        self.gravedad = gravedad\n",
      "      \n",
      "        self.Omega = sqrt(g/longitud)\n",
      "        self.period = 2*np.pi/Omega\n",
      "\n",
      "        \n",
      "    def theta(self):\n",
      "        return self.trajectory[:,0]\n",
      "    \n",
      "    def omega(self):\n",
      "        return self.trajectory[:,1]\n",
      "    \n",
      "    def plot(self):\n",
      "        fig, ax = plt.subplots(3,1, figsize=(10,8), sharex = True)\n",
      "\n",
      "        ax[0].plot(self.tau, self.theta(), label=\"theta\", color=\"blue\")\n",
      "        ax[1].plot(self.tau, self.omega(), label=\"omega\", color=\"green\")\n",
      "        ax[2].plot(self.tau, self.energy(),  marker='o', linestyle='None', color='red', label=\"Energia\")\n",
      "\n",
      "        ax[0].set_ylabel(\"Theta (rads)\")\n",
      "        ax[0].set_xlabel(\"tiempo (s)\")\n",
      "\n",
      "        ax[1].set_ylabel(\"Omega (rads/s)\")\n",
      "        ax[1].set_xlabel(\"tiempo (s)\")\n",
      "\n",
      "        ax[2].set_ylabel(\"Energia (J)\")\n",
      "        ax[2].set_xlabel(\"tiempo (s)\")\n",
      "    \n",
      "    def initial_conditions(self, theta_i, omega_i):\n",
      "        self.theta_i = theta_i\n",
      "        self.omega_i = omega_i\n",
      "        \n",
      "    def dynamics(self, state, t):\n",
      "        g0 = state[1]\n",
      "        g1 = -self.gravedad/self.longitud*state[0]\n",
      "        return np.array([g0, g1])\n",
      "        \n",
      "    def energy(self):\n",
      "        return 0.5*self.masa*self.longitud**2 * (self.omega()**2 + (self.gravedad/self.longitud)*self.theta()**2)\n",
      "        \n",
      "    def integrate(self, num_steps, t_i, t_f, method):\n",
      "        \n",
      "        self.tau, self.dt = np.linspace(t_i, t_f, num=num_steps, retstep=True)\n",
      "        self.trajectory = np.zeros([num_steps, 2])\n",
      "        self.trajectory[0,0] = self.theta_i\n",
      "        self.trajectory[0,1] = self.omega_i\n",
      "        \n",
      "        for j in range(num_steps-1):\n",
      "            self.trajectory[j+1] = method(self.trajectory[j], self.tau[j], self.dt, self.dynamics) \n",
      "            \n",
      "    def diagdefase(self):\n",
      "        return plt.plot(p.theta(), p.omega())\n",
      "        plt.xlabel(\"theta (rads)\")\n",
      "        plt.ylabel(\"omega (rads/s)\")"
     ],
     "language": "python",
     "metadata": {},
     "outputs": [
      {
       "output_type": "stream",
       "stream": "stdout",
       "text": [
        "Overwriting pendulo_linealizado\n"
       ]
      }
     ],
     "prompt_number": 155
    },
    {
     "cell_type": "code",
     "collapsed": false,
     "input": [
      "from pendulo_linealizado import Pendulo"
     ],
     "language": "python",
     "metadata": {},
     "outputs": [],
     "prompt_number": 156
    },
    {
     "cell_type": "code",
     "collapsed": false,
     "input": [
      "p = Pendulo(masa = 1.0, longitud = 1.0, gravedad = 9.8)\n",
      "p.initial_conditions(theta_i=0.2, omega_i=0.0)"
     ],
     "language": "python",
     "metadata": {},
     "outputs": [
      {
       "ename": "NameError",
       "evalue": "global name 'sqrt' is not defined",
       "output_type": "pyerr",
       "traceback": [
        "\u001b[1;31m---------------------------------------------------------------------------\u001b[0m\n\u001b[1;31mNameError\u001b[0m                                 Traceback (most recent call last)",
        "\u001b[1;32m<ipython-input-157-c613a1c72ae1>\u001b[0m in \u001b[0;36m<module>\u001b[1;34m()\u001b[0m\n\u001b[1;32m----> 1\u001b[1;33m \u001b[0mp\u001b[0m \u001b[1;33m=\u001b[0m \u001b[0mPendulo\u001b[0m\u001b[1;33m(\u001b[0m\u001b[0mmasa\u001b[0m \u001b[1;33m=\u001b[0m \u001b[1;36m1.0\u001b[0m\u001b[1;33m,\u001b[0m \u001b[0mlongitud\u001b[0m \u001b[1;33m=\u001b[0m \u001b[1;36m1.0\u001b[0m\u001b[1;33m,\u001b[0m \u001b[0mgravedad\u001b[0m \u001b[1;33m=\u001b[0m \u001b[1;36m9.8\u001b[0m\u001b[1;33m)\u001b[0m\u001b[1;33m\u001b[0m\u001b[0m\n\u001b[0m\u001b[0;32m      2\u001b[0m \u001b[0mp\u001b[0m\u001b[1;33m.\u001b[0m\u001b[0minitial_conditions\u001b[0m\u001b[1;33m(\u001b[0m\u001b[0mtheta_i\u001b[0m\u001b[1;33m=\u001b[0m\u001b[1;36m0.2\u001b[0m\u001b[1;33m,\u001b[0m \u001b[0momega_i\u001b[0m\u001b[1;33m=\u001b[0m\u001b[1;36m0.0\u001b[0m\u001b[1;33m)\u001b[0m\u001b[1;33m\u001b[0m\u001b[0m\n",
        "\u001b[1;32m/home/itam/proyectos/mate-computacional/alumnos/antonio1695/Apuntes/Lecture6/pendulo_linealizado.py\u001b[0m in \u001b[0;36m__init__\u001b[1;34m(self, masa, longitud, gravedad)\u001b[0m\n\u001b[0;32m      6\u001b[0m         \u001b[0mself\u001b[0m\u001b[1;33m.\u001b[0m\u001b[0mgravedad\u001b[0m \u001b[1;33m=\u001b[0m \u001b[0mgravedad\u001b[0m\u001b[1;33m\u001b[0m\u001b[0m\n\u001b[0;32m      7\u001b[0m \u001b[1;33m\u001b[0m\u001b[0m\n\u001b[1;32m----> 8\u001b[1;33m         \u001b[0mself\u001b[0m\u001b[1;33m.\u001b[0m\u001b[0mOmega\u001b[0m \u001b[1;33m=\u001b[0m \u001b[0msqrt\u001b[0m\u001b[1;33m(\u001b[0m\u001b[0mg\u001b[0m\u001b[1;33m/\u001b[0m\u001b[0mlongitud\u001b[0m\u001b[1;33m)\u001b[0m\u001b[1;33m\u001b[0m\u001b[0m\n\u001b[0m\u001b[0;32m      9\u001b[0m         \u001b[0mself\u001b[0m\u001b[1;33m.\u001b[0m\u001b[0mperiod\u001b[0m \u001b[1;33m=\u001b[0m \u001b[1;36m2\u001b[0m\u001b[1;33m*\u001b[0m\u001b[0mnp\u001b[0m\u001b[1;33m.\u001b[0m\u001b[0mpi\u001b[0m\u001b[1;33m/\u001b[0m\u001b[0mOmega\u001b[0m\u001b[1;33m\u001b[0m\u001b[0m\n\u001b[0;32m     10\u001b[0m \u001b[1;33m\u001b[0m\u001b[0m\n",
        "\u001b[1;31mNameError\u001b[0m: global name 'sqrt' is not defined"
       ]
      }
     ],
     "prompt_number": 157
    },
    {
     "cell_type": "code",
     "collapsed": false,
     "input": [
      "N = 100\n",
      "tiempo_inicial = 0.0\n",
      "tiempo_final = 5*p.period"
     ],
     "language": "python",
     "metadata": {},
     "outputs": [],
     "prompt_number": 158
    },
    {
     "cell_type": "code",
     "collapsed": false,
     "input": [
      "p.diagdefase()"
     ],
     "language": "python",
     "metadata": {},
     "outputs": [
      {
       "ename": "AttributeError",
       "evalue": "Pendulo instance has no attribute 'diagdefase'",
       "output_type": "pyerr",
       "traceback": [
        "\u001b[1;31m---------------------------------------------------------------------------\u001b[0m\n\u001b[1;31mAttributeError\u001b[0m                            Traceback (most recent call last)",
        "\u001b[1;32m<ipython-input-159-6b1b426107f0>\u001b[0m in \u001b[0;36m<module>\u001b[1;34m()\u001b[0m\n\u001b[1;32m----> 1\u001b[1;33m \u001b[0mp\u001b[0m\u001b[1;33m.\u001b[0m\u001b[0mdiagdefase\u001b[0m\u001b[1;33m(\u001b[0m\u001b[1;33m)\u001b[0m\u001b[1;33m\u001b[0m\u001b[0m\n\u001b[0m",
        "\u001b[1;31mAttributeError\u001b[0m: Pendulo instance has no attribute 'diagdefase'"
       ]
      }
     ],
     "prompt_number": 159
    },
    {
     "cell_type": "markdown",
     "metadata": {},
     "source": [
      "<div class=\"alert alert-info\">\n",
      "**Ejercicio**: Modifique el m\u00e9todo `dynamics` para el caso en que no est\u00e1 linealizado el p\u00e9ndulo, i.e.\n",
      "\n",
      "$$\n",
      "\\ddot\\theta = -\\frac{g}{l} \\sin\\theta\n",
      "$$\n",
      "\n",
      "Grafique los diagramas con el m\u00e9todo Runge - Kutta de 2do Orden. Guardelo en el archivo `pendulo_real.py`\n",
      "</div>"
     ]
    },
    {
     "cell_type": "code",
     "collapsed": false,
     "input": [],
     "language": "python",
     "metadata": {},
     "outputs": []
    },
    {
     "cell_type": "code",
     "collapsed": false,
     "input": [],
     "language": "python",
     "metadata": {},
     "outputs": []
    },
    {
     "cell_type": "markdown",
     "metadata": {},
     "source": [
      "<div class=\"alert alert-info\">\n",
      "**Ejercicio**: Modifique el m\u00e9todo `dynamics` para el caso en que no est\u00e1 linealizado el p\u00e9ndulo, exista un amortiguamiento y ademas haya una fuerza externa, como se muestra en la siguiente ecuaci\u00f3n.\n",
      "\n",
      "$$\n",
      "\\ddot\\theta = -\\frac{g}{l} \\sin\\theta - \\beta\\dot\\theta + A \\cos(\\omega t)\n",
      "$$\n",
      "\n",
      "Grafique los diagramas con el m\u00e9todo Runge - Kutta de 2do Orden. Gu\u00e1rdelo en el archivo `pendulo_actuado.py`\n",
      "</div>"
     ]
    },
    {
     "cell_type": "code",
     "collapsed": false,
     "input": [],
     "language": "python",
     "metadata": {},
     "outputs": []
    },
    {
     "cell_type": "code",
     "collapsed": false,
     "input": [],
     "language": "python",
     "metadata": {},
     "outputs": []
    },
    {
     "cell_type": "heading",
     "level": 2,
     "metadata": {},
     "source": [
      "M\u00e9todos de Scipy"
     ]
    },
    {
     "cell_type": "markdown",
     "metadata": {},
     "source": [
      "`Scipy` implementa una rutina que resuelve ecuaciones diferenciales, `odeint()` del paquete `scipy.integrate`."
     ]
    },
    {
     "cell_type": "code",
     "collapsed": false,
     "input": [
      "%pylab inline\n",
      "import numpy as np\n",
      "import matplotlib.pyplot as plt\n",
      "from scipy.integrate import odeint"
     ],
     "language": "python",
     "metadata": {},
     "outputs": [
      {
       "output_type": "stream",
       "stream": "stdout",
       "text": [
        "Populating the interactive namespace from numpy and matplotlib\n"
       ]
      }
     ],
     "prompt_number": 161
    },
    {
     "cell_type": "code",
     "collapsed": false,
     "input": [
      "odeint?"
     ],
     "language": "python",
     "metadata": {},
     "outputs": [],
     "prompt_number": 162
    },
    {
     "cell_type": "markdown",
     "metadata": {},
     "source": [
      "Como puedes observar se puede invocar con la funci\u00f3n `dynamics`, un arreglo que represente el estado inicial y un `array` de tiempos (en lugar de un _time step_)."
     ]
    },
    {
     "cell_type": "heading",
     "level": 3,
     "metadata": {},
     "source": [
      "Ejemplo: P\u00e9ndulo con resorte"
     ]
    },
    {
     "cell_type": "markdown",
     "metadata": {},
     "source": [
      "una masa $m$ est\u00e1 sujeta a un resorte con constante el\u00e1stica $k$, el resorte a su vez est\u00e1 pegado al techo. La longitud del resorte sin deformar es $L_0$, y el \u00e1ngulo respecto a la vertical es $\\theta$.  Usando ecuaciones de [Euler-Lagrange](http://en.wikipedia.org/wiki/Euler%E2%80%93Lagrange_equation), se encuentra que las ecuaciones de movimiento son:"
     ]
    },
    {
     "cell_type": "markdown",
     "metadata": {},
     "source": [
      "$$\n",
      "\\ddot{L} = (L_0 + L)\\dot{\\theta}^2 - \\frac{k}{m}L + g \\cos\\theta\n",
      "$$\n",
      "\n",
      "$$\n",
      "\\ddot\\theta = - \\frac{1}{L_0+L} \\left[ g\\sin\\theta + 2\\dot{L}\\dot{\\theta}\\right]\n",
      "$$"
     ]
    },
    {
     "cell_type": "markdown",
     "metadata": {},
     "source": [
      "<div class=\"alert alert-info\">\n",
      "**Ejercicio** Escribe este par de ecuaciones como un sistema de ecuaciones de primer orden\n",
      "</div>"
     ]
    },
    {
     "cell_type": "code",
     "collapsed": false,
     "input": [
      "N = 1000\n",
      "\n",
      "# Constantes\n",
      "L_0 = 1.0\n",
      "L = 1.0\n",
      "v_i = 0.0\n",
      "theta_i = 0.3\n",
      "omega_i = 0.0\n",
      "\n",
      "k = 3.5 # COnstante del resorte en N/m\n",
      "m = 0.2 # masa en kilogramos\n",
      "g = 9.8 # Constante de gravedad terrestre, en m/s^2"
     ],
     "language": "python",
     "metadata": {},
     "outputs": [],
     "prompt_number": 172
    },
    {
     "cell_type": "code",
     "collapsed": false,
     "input": [
      "# Estado inicial\n",
      "y = np.zeros([4])\n",
      "y"
     ],
     "language": "python",
     "metadata": {},
     "outputs": [
      {
       "metadata": {},
       "output_type": "pyout",
       "prompt_number": 173,
       "text": [
        "array([ 0.,  0.,  0.,  0.])"
       ]
      }
     ],
     "prompt_number": 173
    },
    {
     "cell_type": "code",
     "collapsed": false,
     "input": [
      "# Estado inicial\n",
      "y[0] = L\n",
      "y[1] = v_i\n",
      "y[2] = theta_i\n",
      "y[3] = omega_i"
     ],
     "language": "python",
     "metadata": {},
     "outputs": [],
     "prompt_number": 165
    },
    {
     "cell_type": "code",
     "collapsed": false,
     "input": [
      "y"
     ],
     "language": "python",
     "metadata": {},
     "outputs": [
      {
       "metadata": {},
       "output_type": "pyout",
       "prompt_number": 166,
       "text": [
        "array([ 1. ,  0. ,  0.3,  0. ])"
       ]
      }
     ],
     "prompt_number": 166
    },
    {
     "cell_type": "code",
     "collapsed": false,
     "input": [
      "time = np.linspace(0,25,N)"
     ],
     "language": "python",
     "metadata": {},
     "outputs": [],
     "prompt_number": 167
    },
    {
     "cell_type": "markdown",
     "metadata": {},
     "source": [
      "<div class=\"alert alert-info\">\n",
      "**Ejercicio** Escribe el sistema de ecuaciones en el m\u00e9todo `pendulo_con_resorte(estado, tiempo)`\n",
      "</div>"
     ]
    },
    {
     "cell_type": "code",
     "collapsed": false,
     "input": [
      "def pendulo_con_resorte(estado, tiempo):\n",
      "    g0 = 0\n",
      "    g1 = 0\n",
      "    g2 = 0\n",
      "    g3 = 0\n",
      "    return np.array([g0,g1,g2,g3])"
     ],
     "language": "python",
     "metadata": {},
     "outputs": [],
     "prompt_number": 168
    },
    {
     "cell_type": "code",
     "collapsed": false,
     "input": [
      "solucion = odeint(func=pendulo_con_resorte, y0 = y, t = time)"
     ],
     "language": "python",
     "metadata": {},
     "outputs": [],
     "prompt_number": 169
    },
    {
     "cell_type": "markdown",
     "metadata": {},
     "source": [
      "Dibujaremos el movimiento en el espacio f\u00edsico eucl\u00eddeo 2D $(x, y)$, para esto, necesitamos convertir a estas coordenadas en lugar usando las f\u00f3rmulas trigonom\u00e9tricas."
     ]
    },
    {
     "cell_type": "code",
     "collapsed": false,
     "input": [
      "xdata = (L_0 + solucion[:,0])*np.sin(solucion[:,2])\n",
      "ydata = -(L_0 + solucion[:,0])*np.cos(solucion[:,2])"
     ],
     "language": "python",
     "metadata": {},
     "outputs": [],
     "prompt_number": 170
    },
    {
     "cell_type": "code",
     "collapsed": false,
     "input": [
      "plt.plot(xdata, ydata, 'r-')\n",
      "plt.xlabel(\"Posicion Horizontal\")\n",
      "plt.ylabel(\"Posicion Vertical\")"
     ],
     "language": "python",
     "metadata": {},
     "outputs": [
      {
       "metadata": {},
       "output_type": "pyout",
       "prompt_number": 171,
       "text": [
        "<matplotlib.text.Text at 0x7f357bcd6b50>"
       ]
      },
      {
       "metadata": {},
       "output_type": "display_data",
       "png": "[encoded data removed]",
       "text": [
        "<matplotlib.figure.Figure at 0x7f357e073dd0>"
       ]
      }
     ],
     "prompt_number": 171
    },
    {
     "cell_type": "markdown",
     "metadata": {},
     "source": [
      "<div class=\"alert alert-info\">\n",
      "**Ejercicio**: Dibuja respecto al tiempo el valor de $L$ y de $\\theta$.\n",
      "</div>"
     ]
    },
    {
     "cell_type": "markdown",
     "metadata": {},
     "source": [
      "<div class=\"alert alert-info\">\n",
      "**Ejercicio** Resuelve el p\u00e9ndulo amortiguado, grafica en el espacio eucl\u00eddeo y tambi\u00e9n la posici\u00f3n respecto al tiempo. La ecuaci\u00f3n del p\u00e9ndulo amortiguado es:\n",
      "\n",
      "$$\n",
      "\\ddot\\theta = - \\frac{g}{L}\\sin\\theta -b\\dot\\theta + \\beta\\cos(\\omega t)\n",
      "$$\n",
      "</div>"
     ]
    },
    {
     "cell_type": "code",
     "collapsed": false,
     "input": [],
     "language": "python",
     "metadata": {},
     "outputs": [],
     "prompt_number": 55
    }
   ],
   "metadata": {}
  }
 ]
}