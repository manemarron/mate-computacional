{
 "metadata": {
  "name": "",
  "signature": "sha256:13f932a880b53eb4c9942ced678a88ccf1964d727a7672c7ae99ee04a6aa7743"
 },
 "nbformat": 3,
 "nbformat_minor": 0,
 "worksheets": [
  {
   "cells": [
    {
     "cell_type": "code",
     "collapsed": false,
     "input": [
      "\"\"\"Formula para los enteros maximos y minimos en bits\"\"\"\n",
      "\n",
      "def bits(n):\n",
      "    max = 0\n",
      "    for i in range(1,n):\n",
      "        min = (-2**(n-1))\n",
      "        max = (2**(n-1))-1\n",
      "        \n",
      "        return max\n",
      "        \n",
      "\n",
      "bits(8)"
     ],
     "language": "python",
     "metadata": {},
     "outputs": [
      {
       "metadata": {},
       "output_type": "pyout",
       "prompt_number": 31,
       "text": [
        "127"
       ]
      }
     ],
     "prompt_number": 31
    },
    {
     "cell_type": "code",
     "collapsed": false,
     "input": [
      "\"\"\"Transforma un entero decimal a binario de 8 bits, verifica los limites. Si no se cumplen, imprime \"Overflow\".\"\"\"\n",
      "\n",
      "def abinario(n):\n",
      "    dec = \"\"\n",
      "    max = 127\n",
      "    if n<=max:\n",
      "        for i in range (7,0,-1):\n",
      "            if n%(2**i)==0:\n",
      "                dec+=\"1\"\n",
      "                n = n - (2**i)\n",
      "            else:\n",
      "                dec+=\"0\"\n",
      "    else:\n",
      "        dec += \"Overflow\"       \n",
      "    return dec\n",
      "abinario(14)"
     ],
     "language": "python",
     "metadata": {},
     "outputs": [
      {
       "metadata": {},
       "output_type": "pyout",
       "prompt_number": 115,
       "text": [
        "'0000000'"
       ]
      }
     ],
     "prompt_number": 115
    },
    {
     "cell_type": "code",
     "collapsed": false,
     "input": [
      "%%file Transformaciones.py\n",
      "\"\"\" Programa que transforma coordenadas cartesianas en coordenadas esfericas\"\"\"\n",
      "import math\n",
      "def transformaciones(x,y,z):\n",
      "    rho = math.sqrt(x**2 + y**2 + z**2) # Conversion de x a esf\u00e9rica.\n",
      "    theta = math.atan(y/x) # Conversion de y a esf\u00e9rica.\n",
      "    phi = math.atan((rho/z)) # Conversion de z a esf\u00e9rica.\n",
      "    esferica = [rho,theta,phi] \n",
      "    \n",
      "    return esferica\n",
      "\n"
     ],
     "language": "python",
     "metadata": {},
     "outputs": [
      {
       "output_type": "stream",
       "stream": "stdout",
       "text": [
        "Writing Transformaciones.py\n"
       ]
      }
     ],
     "prompt_number": 145
    },
    {
     "cell_type": "code",
     "collapsed": false,
     "input": [
      "\"\"\" De coordenadas esfericas a cartesianas\"\"\"\n",
      "\n",
      "import math\n",
      "\n",
      "def regreso(rho,phi,theta):\n",
      "    x = rho*math.sin(phi)*math.cos(theta) # Conversion de esf\u00e9rica a x.\n",
      "    y = rho*math.sin(phi)*math.sin(theta) # Conversion de esf\u00e9rica a y.\n",
      "    z = rho*math.cos(theta) # Conversion de esferica a z.\n",
      "    cartesiana = [x,y,z]\n",
      "    return cartesiana\n",
      "\n",
      "regreso(7,1,.8)"
     ],
     "language": "python",
     "metadata": {},
     "outputs": [
      {
       "metadata": {},
       "output_type": "pyout",
       "prompt_number": 144,
       "text": [
        "[4.103809365856397, 4.225440353870151, 4.876946965430157]"
       ]
      }
     ],
     "prompt_number": 144
    },
    {
     "cell_type": "code",
     "collapsed": false,
     "input": [
      "\"\"\" Programa que transforma coordenadas cartesianas en coordenadas esfericas\"\"\"\n",
      "import math\n",
      "def transformaciones(x,y,z):\n",
      "    rho = math.sqrt(x**2 + y**2 + z**2) # Conversion de x a esf\u00e9rica.\n",
      "    theta = math.atan(y/x) # Conversion de y a esf\u00e9rica.\n",
      "    phi = math.atan((rho/z)) # Conversion de z a esf\u00e9rica.\n",
      "    esferica = [rho,theta,phi] \n",
      "    \n",
      "    return esferica\n",
      "transformaciones(4,4,4)"
     ],
     "language": "python",
     "metadata": {},
     "outputs": [
      {
       "metadata": {},
       "output_type": "pyout",
       "prompt_number": 146,
       "text": [
        "[6.928203230275509, 0.7853981633974483, 1.0471975511965976]"
       ]
      }
     ],
     "prompt_number": 146
    }
   ],
   "metadata": {}
  }
 ]
}