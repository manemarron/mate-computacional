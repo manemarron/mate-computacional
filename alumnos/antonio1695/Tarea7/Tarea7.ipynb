{
 "metadata": {
  "name": "",
  "signature": "sha256:9f6e829a46beeccf28a8a1a548ce775a8dae54d41dfb21c51d9b5093dbda615a"
 },
 "nbformat": 3,
 "nbformat_minor": 0,
 "worksheets": [
  {
   "cells": [
    {
     "cell_type": "code",
     "collapsed": false,
     "input": [
      "import numpy as np\n",
      "import matplotlib.pyplot as plt"
     ],
     "language": "python",
     "metadata": {},
     "outputs": [],
     "prompt_number": 52
    },
    {
     "cell_type": "heading",
     "level": 1,
     "metadata": {},
     "source": [
      "Tareas"
     ]
    },
    {
     "cell_type": "heading",
     "level": 2,
     "metadata": {},
     "source": [
      "Problema 1"
     ]
    },
    {
     "cell_type": "markdown",
     "metadata": {},
     "source": [
      "Utilizando el c\u00f3digo de runge-kutta de segundo orden como base, implemente el c\u00f3digo de runge-kutta de cuarto orden. La funci\u00f3n debe de llamarse `rk4`. "
     ]
    },
    {
     "cell_type": "code",
     "collapsed": false,
     "input": [
      "def RK4(x,y,h, derivadas):\n",
      "    k1 = dt*derivadas(x, y)\n",
      "    k2 = dt*derivadas(x + 0.5*h,y + 0.5*k1*h)\n",
      "    k3 = dt*derivadas(x + 0.5*h,y + 0.5*k2*h)\n",
      "    k4 = dt*derivadas(x + h, y + k3*h)\n",
      "    y_next = y + (h*(k1 + 2*k1 + 2*k2 + k3))/6.0\n",
      "    \n",
      "    return y_next"
     ],
     "language": "python",
     "metadata": {},
     "outputs": [],
     "prompt_number": 53
    },
    {
     "cell_type": "heading",
     "level": 2,
     "metadata": {},
     "source": [
      "Problema 2"
     ]
    },
    {
     "cell_type": "markdown",
     "metadata": {},
     "source": [
      "La taza a la cual un recurso finito es recogido depende de la dificultad y de la demanda. Sup\u00f3n que la demanda $D$ se incrementa con la cantidad extra\u00edda $E$:\n",
      "\n",
      "$$\\dot D = \\alpha E$$\n",
      "\n",
      "Sup\u00f3n que la dificultad de extracci\u00f3n $W$ es inversamentedependiente de la fracci\u00f3n restante del recurso:\n",
      "\n",
      "$$\n",
      "W = \\frac{1}{1 -E}\n",
      "$$\n",
      "\n",
      "Finalmente, sup\u00f3n que la tasa de extracci\u00f3n $$ es la raz\u00f3n de la demanda a la dificultad.\n",
      "\n",
      "$$ R = \\dot E = \\frac{D}{W} $$\n",
      "\n",
      "Por \u00faltimo, el costo $C$ del recurso depende de la tasa de la extracci\u00f3n y de la demanda:\n",
      "\n",
      "$$ C = \\frac{D}{R}\\xi$$,\n",
      "\n",
      "donde $\\xi$ es un factor de escala.\n",
      "\n",
      "(a) Escribe un programa que dibuja la tasa de la extracci\u00f3n y el costo como una funci\u00f3n del tiempo. Usando las condiciones iniciales: $D_0 = 0.1$, $E_0 = 0.1$,  $\\alpha = 2.0$ y $\\xi = 0.01$. Grafica de 0 a 5 unidades de tiempo. \n",
      "\n",
      "\n",
      "(b) Resuelve con `rk4` y con  `odeint`. Compara los tiempos y los resultados. \u00bfQu\u00e9 puedes concluir?\n",
      "\n",
      "(c) Agrega un _widget_ para los valores de $\\alpha$ y $\\xi$.\n",
      "\n",
      "(d) Discute la din\u00e1mica del sistema en general y menciona algunos hallazgos interesantes para diferentes valores y condiciones iniciales."
     ]
    },
    {
     "cell_type": "code",
     "collapsed": false,
     "input": [
      "a)"
     ],
     "language": "python",
     "metadata": {},
     "outputs": []
    },
    {
     "cell_type": "code",
     "collapsed": false,
     "input": [
      "b) def RK4(x,y,h, derivadas):\n",
      "    k1 = dt*derivadas(x, y)\n",
      "    k2 = dt*derivadas(x + 0.5*h,y + 0.5*k1*h)\n",
      "    k3 = dt*derivadas(x + 0.5*h,y + 0.5*k2*h)\n",
      "    k4 = dt*derivadas(x + h, y + k3*h)\n",
      "    y_next = y + (h*(k1 + 2*k1 + 2*k2 + k3))/6.0\n",
      "    \n",
      "    return y_next"
     ],
     "language": "python",
     "metadata": {},
     "outputs": []
    },
    {
     "cell_type": "code",
     "collapsed": false,
     "input": [
      "c)"
     ],
     "language": "python",
     "metadata": {},
     "outputs": []
    },
    {
     "cell_type": "code",
     "collapsed": false,
     "input": [
      "d)"
     ],
     "language": "python",
     "metadata": {},
     "outputs": []
    },
    {
     "cell_type": "heading",
     "level": 2,
     "metadata": {},
     "source": [
      "Problema 3"
     ]
    },
    {
     "cell_type": "markdown",
     "metadata": {},
     "source": [
      "(a) Calcular el valor de $\\pi$ usando m\u00e9todos de Monte Carlo.\n",
      "\n",
      "(b) El \"volumen\" de una 2-esfera (un c\u00edrculo)   $x^2 + y^2 = r^2$ es \n",
      "\n",
      "$$\\pi r^2$$,\n",
      "\n",
      "el volumen de la 3-esfera $x^2 + y^2 + z^2 = r^2$ es \n",
      "\n",
      "\n",
      "$$\\frac{4}{3} \\pi r^3$$. \n",
      "\n",
      "\n",
      "La 4-esfera $x^2 + y^2 + z^2 + w^2 = r^2$, podemos suponer (usando los ejemplos anteriores) que el hipervolumen de la 4-esfera es \n",
      "\n",
      "$$\\alpha\\pi r^4$$. \n",
      "\n",
      "\n",
      "Usando t\u00e9cnicas de Monte Carlo estima $\\alpha$."
     ]
    },
    {
     "cell_type": "code",
     "collapsed": false,
     "input": [
      "# a) \n",
      "\n",
      "radio = 1\n",
      "\n",
      "N = 10000\n",
      "\n",
      "# N\u00fameros al azar\n",
      "X = np.random.uniform(low = -radio, high = radio, size  = N)\n",
      "Y = np.random.uniform(low = -radio, high = radio, size = N)\n",
      "\n",
      "# Distancia desde el centro\n",
      "dist = np.sqrt(X**2+Y**2);\n",
      "\n",
      "# Aplicamos la f\u00f3rmula...\n",
      "caja = (2.0*radio)**2\n",
      "esta_adentro = dist < radio\n",
      "N_adentro = np.sum(esta_adentro)\n",
      "area_circulo = caja*N_adentro/N\n",
      "\n",
      "# Dibujamos\n",
      "plt.figure(figsize=(8,8))\n",
      "plt.scatter(X,Y, c=esta_adentro, s=5.0, edgecolors='none', cmap=plt.cm.Paired)\n",
      "plt.axis('equal')\n",
      "\n",
      "print \"[Monte Carlo] \u00c1rea del c\u00edrculo = \", area_circulo\n",
      "print \"[Exacta] \u00c1rea del c\u00edrculo = \", np.pi*radio**2"
     ],
     "language": "python",
     "metadata": {},
     "outputs": [
      {
       "output_type": "stream",
       "stream": "stdout",
       "text": [
        "[Monte Carlo] \u00c1rea del c\u00edrculo =  3.134\n",
        "[Exacta] \u00c1rea del c\u00edrculo =  3.14159265359\n"
       ]
      }
     ],
     "prompt_number": 54
    },
    {
     "cell_type": "markdown",
     "metadata": {},
     "source": [
      "\n",
      "\n",
      "\n",
      "\n",
      "         \n",
      "\n",
      "\n",
      "b) Supongamos que el radio es 1 (por simplicidad). Asi mismo, denotaremos el volumen de la 4-esfera como \"V\". \n",
      "Entonces alfa = V/Pi\n",
      "\n",
      "Por lo tanto, al obtener el vol\u00famen y dividirlo entre Pi, obtendremos el estimado del valor de alfa. \n",
      "Usaremos el volumen del hipercubo para obtenerlo."
     ]
    },
    {
     "cell_type": "code",
     "collapsed": false,
     "input": [
      "#Use el metodo para obtener la esfera de 3D como base para este programa.\n",
      "\n",
      "volumen_hipercubo = 1 * 1 * 1 * 1 \n",
      "# Al ser 4D en vez de 3D\n",
      " \n",
      "N = 1000000\n",
      "count = 0\n",
      " \n",
      "puntos = np.array([np.random.uniform(low=0, high=1,size=N), np.random.uniform(low=0, high=1,size=N), np.random.uniform(low=0, high=1,size=N)])  \n",
      "puntos_adentro = sum(sum(puntos**2) < 1)\n",
      "fraccion = 1.0*puntos_adentro/N\n",
      " \n",
      "volumen = fraccion * volumen_hipercubo\n",
      "volumen4esfera = volumen*16  # Al haber 16 cuadrantes. \n",
      "\n",
      " \n",
      " "
     ],
     "language": "python",
     "metadata": {},
     "outputs": [],
     "prompt_number": 71
    },
    {
     "cell_type": "code",
     "collapsed": false,
     "input": [
      "volumen4"
     ],
     "language": "python",
     "metadata": {},
     "outputs": [
      {
       "metadata": {},
       "output_type": "pyout",
       "prompt_number": 72,
       "text": [
        "8.38368"
       ]
      }
     ],
     "prompt_number": 72
    },
    {
     "cell_type": "code",
     "collapsed": false,
     "input": [
      "alfa = volumen4/np.pi\n",
      "alfa"
     ],
     "language": "python",
     "metadata": {},
     "outputs": [
      {
       "metadata": {},
       "output_type": "pyout",
       "prompt_number": 73,
       "text": [
        "2.6686082266013225"
       ]
      }
     ],
     "prompt_number": 73
    },
    {
     "cell_type": "code",
     "collapsed": false,
     "input": [
      "alfawiki = np.pi/2\n",
      "alfawiki"
     ],
     "language": "python",
     "metadata": {},
     "outputs": [
      {
       "metadata": {},
       "output_type": "pyout",
       "prompt_number": 74,
       "text": [
        "1.5707963267948966"
       ]
      }
     ],
     "prompt_number": 74
    },
    {
     "cell_type": "markdown",
     "metadata": {},
     "source": [
      "Obtuvimos alfa y la comparamos con la encontrada en internet.\n",
      "La diferencia es alta. Hay probabilidad de error en este ejercicio, aunque no logro encontrarlo. "
     ]
    },
    {
     "cell_type": "code",
     "collapsed": false,
     "input": [],
     "language": "python",
     "metadata": {},
     "outputs": []
    }
   ],
   "metadata": {}
  }
 ]
}