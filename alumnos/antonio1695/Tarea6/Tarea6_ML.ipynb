{
 "metadata": {
  "name": "",
  "signature": "sha256:dce752e66e6c1bd319aa91b8b638500f42ed5c847f4208236c810f2a6b5ad9f3"
 },
 "nbformat": 3,
 "nbformat_minor": 0,
 "worksheets": [
  {
   "cells": [
    {
     "cell_type": "heading",
     "level": 1,
     "metadata": {},
     "source": [
      "Tareas"
     ]
    },
    {
     "cell_type": "code",
     "collapsed": false,
     "input": [
      "%matplotlib inline\n",
      "import numpy as np\n",
      "import sympy as sym \n",
      "import matplotlib.pyplot as plt\n",
      "\n",
      "from sympy.interactive import printing\n",
      "printing.init_printing(use_latex=True)\n",
      "\n",
      "from IPython.html.widgets import interact, fixed\n",
      "from IPython.html import widgets"
     ],
     "language": "python",
     "metadata": {},
     "outputs": [],
     "prompt_number": 40
    },
    {
     "cell_type": "heading",
     "level": 2,
     "metadata": {},
     "source": [
      "Problema 1"
     ]
    },
    {
     "cell_type": "markdown",
     "metadata": {},
     "source": [
      "**(a)** Usando **SimPy** demostrar que \n",
      "\n",
      "$$\n",
      "\\frac{\\partial}{\\partial \\beta_j} \\textbf{J}(\\beta) = \\frac{1}{m}\\sum_{i=1}^{m}\\left(\\hat{y}(x^{(i)}) - y(x^{(i)})\\right) \\cdot x^{(i)}_j\n",
      "$$"
     ]
    },
    {
     "cell_type": "code",
     "collapsed": false,
     "input": [
      "# Demostraci\u00f3n:\n",
      "\n",
      "\n",
      "\n",
      "\n",
      "\n"
     ],
     "language": "python",
     "metadata": {},
     "outputs": [],
     "prompt_number": 41
    },
    {
     "cell_type": "heading",
     "level": 2,
     "metadata": {},
     "source": [
      "Problema 2"
     ]
    },
    {
     "cell_type": "markdown",
     "metadata": {},
     "source": [
      "**(a)**  Usando los datos de `chirps.txt`"
     ]
    },
    {
     "cell_type": "code",
     "collapsed": false,
     "input": [
      "%cat data/chirps.txt"
     ],
     "language": "python",
     "metadata": {},
     "outputs": [
      {
       "output_type": "stream",
       "stream": "stdout",
       "text": [
        "#Chirps/Second \tTemperature (\ufffd\ufffd F)\r\n",
        "20.0 \t88.6\r\n",
        "16.0 \t71.6\r\n",
        "19.8 \t93.3\r\n",
        "18.4 \t84.3\r\n",
        "17.1 \t80.6\r\n",
        "15.5 \t75.2\r\n",
        "14.7 \t69.7\r\n",
        "15.7 \t71.6\r\n",
        "15.4 \t69.4\r\n",
        "16.3 \t83.3\r\n",
        "15.0 \t79.6\r\n",
        "17.2 \t82.6\r\n",
        "16.0 \t80.6\r\n",
        "17.0 \t83.5\r\n",
        "14.4 \t76.3\r\n"
       ]
      }
     ],
     "prompt_number": 42
    },
    {
     "cell_type": "code",
     "collapsed": false,
     "input": [
      "chirps, temp = np.loadtxt('data/chirps.txt',unpack = True)"
     ],
     "language": "python",
     "metadata": {},
     "outputs": [],
     "prompt_number": 43
    },
    {
     "cell_type": "code",
     "collapsed": false,
     "input": [
      "plt.scatter(chirps,temp,label = \"data\")\n",
      "plt.xlabel(\"Chirps/Second\")\n",
      "plt.ylabel('Temperature')"
     ],
     "language": "python",
     "metadata": {},
     "outputs": [
      {
       "metadata": {},
       "output_type": "pyout",
       "prompt_number": 44,
       "text": [
        "<matplotlib.text.Text at 0x7fcc2f6210d0>"
       ]
      },
      {
       "metadata": {},
       "output_type": "display_data",
       "png": "[encoded data removed]",
       "text": [
        "<matplotlib.figure.Figure at 0x7fcc2f8a7f90>"
       ]
      }
     ],
     "prompt_number": 44
    },
    {
     "cell_type": "markdown",
     "metadata": {},
     "source": [
      "Entrenar una regresi\u00f3n lineal. Grafique los datos y el mejor modelo. Explique como lleg\u00f3 a los valores de $\\alpha$. \u00bfCoinciden con los mostrados en la p\u00e1gina web?"
     ]
    },
    {
     "cell_type": "code",
     "collapsed": false,
     "input": [
      "from RegresionLineal import RegresionLineal"
     ],
     "language": "python",
     "metadata": {},
     "outputs": [
      {
       "ename": "SyntaxError",
       "evalue": "Non-ASCII character '\\xc3' in file RegresionLineal.py on line 29, but no encoding declared; see http://python.org/dev/peps/pep-0263/ for details (RegresionLineal.py, line 29)",
       "output_type": "pyerr",
       "traceback": [
        "\u001b[1;36m  File \u001b[1;32m\"RegresionLineal.py\"\u001b[1;36m, line \u001b[1;32m29\u001b[0m\n\u001b[1;33m    print 'La funci\u00f3n convergi\u00f3 con beta: %s en la iteraci\u00f3n %i' % ( str(self.beta), i )\u001b[0m\n\u001b[1;37m                                                                                        ^\u001b[0m\n\u001b[1;31mSyntaxError\u001b[0m\u001b[1;31m:\u001b[0m Non-ASCII character '\\xc3' in file RegresionLineal.py on line 29, but no encoding declared; see http://python.org/dev/peps/pep-0263/ for details\n"
       ]
      }
     ],
     "prompt_number": 61
    },
    {
     "cell_type": "code",
     "collapsed": false,
     "input": [
      "def plotGuess(alpha_Prima, iteraciones,tolerancia):\n",
      "    r = RegresionLineal(alpha = alpha_Prima,max_iters=iteraciones,tols = tolerancia)\n",
      "    r.gradientDescent(chirps,temp)\n",
      "    ultima_iteracion = (r.breaking_iteration -1) if r.breaking_iteration else (r-max_iters - 1)\n",
      "    r.plotModelo(chirps,temp,ultima_iteracion)"
     ],
     "language": "python",
     "metadata": {},
     "outputs": [],
     "prompt_number": 56
    },
    {
     "cell_type": "code",
     "collapsed": false,
     "input": [
      "interact(plotGuess,alpha_Prima = (0.01,0.09,0.001),iteraciones = fixed(10000000), tolerancia = fixed(0.00000001))"
     ],
     "language": "python",
     "metadata": {},
     "outputs": [
      {
       "ename": "NameError",
       "evalue": "global name 'RegresionLineal' is not defined",
       "output_type": "pyerr",
       "traceback": [
        "\u001b[1;31m---------------------------------------------------------------------------\u001b[0m\n\u001b[1;31mNameError\u001b[0m                                 Traceback (most recent call last)",
        "\u001b[1;32m<ipython-input-56-6e60d3cb17e6>\u001b[0m in \u001b[0;36mplotGuess\u001b[1;34m(alpha_Prima, iteraciones, tolerancia)\u001b[0m\n\u001b[0;32m      1\u001b[0m \u001b[1;32mdef\u001b[0m \u001b[0mplotGuess\u001b[0m\u001b[1;33m(\u001b[0m\u001b[0malpha_Prima\u001b[0m\u001b[1;33m,\u001b[0m \u001b[0miteraciones\u001b[0m\u001b[1;33m,\u001b[0m\u001b[0mtolerancia\u001b[0m\u001b[1;33m)\u001b[0m\u001b[1;33m:\u001b[0m\u001b[1;33m\u001b[0m\u001b[0m\n\u001b[1;32m----> 2\u001b[1;33m     \u001b[0mr\u001b[0m \u001b[1;33m=\u001b[0m \u001b[0mRegresionLineal\u001b[0m\u001b[1;33m(\u001b[0m\u001b[0malpha\u001b[0m \u001b[1;33m=\u001b[0m \u001b[0malpha_Prima\u001b[0m\u001b[1;33m,\u001b[0m\u001b[0mmax_iters\u001b[0m\u001b[1;33m=\u001b[0m\u001b[0miteraciones\u001b[0m\u001b[1;33m,\u001b[0m\u001b[0mtols\u001b[0m \u001b[1;33m=\u001b[0m \u001b[0mtolerancia\u001b[0m\u001b[1;33m)\u001b[0m\u001b[1;33m\u001b[0m\u001b[0m\n\u001b[0m\u001b[0;32m      3\u001b[0m     \u001b[0mr\u001b[0m\u001b[1;33m.\u001b[0m\u001b[0mgradientDescent\u001b[0m\u001b[1;33m(\u001b[0m\u001b[0mchirps\u001b[0m\u001b[1;33m,\u001b[0m\u001b[0mtemp\u001b[0m\u001b[1;33m)\u001b[0m\u001b[1;33m\u001b[0m\u001b[0m\n\u001b[0;32m      4\u001b[0m     \u001b[0multima_iteracion\u001b[0m \u001b[1;33m=\u001b[0m \u001b[1;33m(\u001b[0m\u001b[0mr\u001b[0m\u001b[1;33m.\u001b[0m\u001b[0mbreaking_iteration\u001b[0m \u001b[1;33m-\u001b[0m\u001b[1;36m1\u001b[0m\u001b[1;33m)\u001b[0m \u001b[1;32mif\u001b[0m \u001b[0mr\u001b[0m\u001b[1;33m.\u001b[0m\u001b[0mbreaking_iteration\u001b[0m \u001b[1;32melse\u001b[0m \u001b[1;33m(\u001b[0m\u001b[0mr\u001b[0m\u001b[1;33m-\u001b[0m\u001b[0mmax_iters\u001b[0m \u001b[1;33m-\u001b[0m \u001b[1;36m1\u001b[0m\u001b[1;33m)\u001b[0m\u001b[1;33m\u001b[0m\u001b[0m\n\u001b[0;32m      5\u001b[0m     \u001b[0mr\u001b[0m\u001b[1;33m.\u001b[0m\u001b[0mplotModelo\u001b[0m\u001b[1;33m(\u001b[0m\u001b[0mchirps\u001b[0m\u001b[1;33m,\u001b[0m\u001b[0mtemp\u001b[0m\u001b[1;33m,\u001b[0m\u001b[0multima_iteracion\u001b[0m\u001b[1;33m)\u001b[0m\u001b[1;33m\u001b[0m\u001b[0m\n",
        "\u001b[1;31mNameError\u001b[0m: global name 'RegresionLineal' is not defined"
       ]
      },
      {
       "metadata": {},
       "output_type": "pyout",
       "prompt_number": 57,
       "text": [
        "<function __main__.plotGuess>"
       ]
      }
     ],
     "prompt_number": 57
    },
    {
     "cell_type": "markdown",
     "metadata": {},
     "source": []
    },
    {
     "cell_type": "heading",
     "level": 2,
     "metadata": {},
     "source": [
      "Problema 4"
     ]
    },
    {
     "cell_type": "markdown",
     "metadata": {},
     "source": [
      "Use el archivo `radioactive_decay.dat`"
     ]
    },
    {
     "cell_type": "code",
     "collapsed": false,
     "input": [
      "%cat data/radioactive_decay.txt"
     ],
     "language": "python",
     "metadata": {},
     "outputs": [
      {
       "output_type": "stream",
       "stream": "stdout",
       "text": [
        "#time   N_(remaining)\r\n",
        "0.0\t10.48\r\n",
        "1.0\t7.54\r\n",
        "2.0\t5.49\r\n",
        "3.0\t4.02\r\n",
        "4.0\t2.74\r\n",
        "5.0\t2.02\r\n",
        "6.0\t1.50\r\n",
        "7.0\t1.09\r\n",
        "8.0\t0.68\r\n",
        "9.0\t0.57\r\n",
        "10.0\t0.37\r\n",
        "11.0\t0.31\r\n",
        "12.0\t0.19\r\n",
        "13.0\t0.15\r\n",
        "14.0\t0.13\r\n",
        "15.0\t0.11\r\n"
       ]
      }
     ],
     "prompt_number": 47
    },
    {
     "cell_type": "markdown",
     "metadata": {},
     "source": [
      "**(a)** Grafique los datos \u00bfQu\u00e9 forma tienen?"
     ]
    },
    {
     "cell_type": "code",
     "collapsed": false,
     "input": [
      "time, N = np.loadtxt('data/radioactive_decay.txt',unpack = True,usecols = [0,1])"
     ],
     "language": "python",
     "metadata": {},
     "outputs": [],
     "prompt_number": 48
    },
    {
     "cell_type": "code",
     "collapsed": false,
     "input": [
      "plt.scatter(time, N, label = \"data\")\n",
      "plt.xlabel('time (s)')\n",
      "plt.ylabel('N_remaining')"
     ],
     "language": "python",
     "metadata": {},
     "outputs": [
      {
       "metadata": {},
       "output_type": "pyout",
       "prompt_number": 49,
       "text": [
        "<matplotlib.text.Text at 0x7fcc2f5d9250>"
       ]
      },
      {
       "metadata": {},
       "output_type": "display_data",
       "png": "[encoded data removed]",
       "text": [
        "<matplotlib.figure.Figure at 0x7fcc2eed59d0>"
       ]
      }
     ],
     "prompt_number": 49
    },
    {
     "cell_type": "markdown",
     "metadata": {},
     "source": [
      "Es una curva c\u00f3ncava."
     ]
    },
    {
     "cell_type": "markdown",
     "metadata": {},
     "source": [
      "**(b)** \u00bfQu\u00e9 transformaci\u00f3n se le ocurre para linearizarlos? Explique y grafique de nuevo. Guarde los datos transformados en un archivo llamado `transform_radioactive_decay.txt`"
     ]
    },
    {
     "cell_type": "markdown",
     "metadata": {},
     "source": [
      "Debo de encontrar su inversa para que la composici\u00f3n sea lineal. La inversa de f(x) = e^x es log (x)."
     ]
    },
    {
     "cell_type": "code",
     "collapsed": false,
     "input": [
      "N2 = np.log(N)\n",
      "plt.scatter(time,N2,label = \"data\")\n",
      "plt.xlabel('tiempo')\n",
      "plt.ylabel('N2')"
     ],
     "language": "python",
     "metadata": {},
     "outputs": [
      {
       "metadata": {},
       "output_type": "pyout",
       "prompt_number": 50,
       "text": [
        "<matplotlib.text.Text at 0x7fcc2eecdf90>"
       ]
      },
      {
       "metadata": {},
       "output_type": "display_data",
       "png": "[encoded data removed]",
       "text": [
        "<matplotlib.figure.Figure at 0x7fcc2f619d10>"
       ]
      }
     ],
     "prompt_number": 50
    },
    {
     "cell_type": "markdown",
     "metadata": {},
     "source": [
      "Vemos que s\u00ed se pudo linealizar. "
     ]
    },
    {
     "cell_type": "code",
     "collapsed": false,
     "input": [
      "data = np.zeros((len(time),2))\n",
      "for i in xrange(0,len(time)):\n",
      "    data[i][0] = time[i]\n",
      "    data[i][1] = N2[i]"
     ],
     "language": "python",
     "metadata": {},
     "outputs": [],
     "prompt_number": 51
    },
    {
     "cell_type": "code",
     "collapsed": false,
     "input": [
      "np.savetxt('data/transform_radioactive_decay.txt',data, fmt = '%.2e',header = \"time N2\") "
     ],
     "language": "python",
     "metadata": {},
     "outputs": [],
     "prompt_number": 52
    },
    {
     "cell_type": "code",
     "collapsed": false,
     "input": [
      "%cat data/transform_radioactive_decay.txt"
     ],
     "language": "python",
     "metadata": {},
     "outputs": [
      {
       "output_type": "stream",
       "stream": "stdout",
       "text": [
        "# time N2\r\n",
        "0.00e+00 2.35e+00\r\n",
        "1.00e+00 2.02e+00\r\n",
        "2.00e+00 1.70e+00\r\n",
        "3.00e+00 1.39e+00\r\n",
        "4.00e+00 1.01e+00\r\n",
        "5.00e+00 7.03e-01\r\n",
        "6.00e+00 4.05e-01\r\n",
        "7.00e+00 8.62e-02\r\n",
        "8.00e+00 -3.86e-01\r\n",
        "9.00e+00 -5.62e-01\r\n",
        "1.00e+01 -9.94e-01\r\n",
        "1.10e+01 -1.17e+00\r\n",
        "1.20e+01 -1.66e+00\r\n",
        "1.30e+01 -1.90e+00\r\n",
        "1.40e+01 -2.04e+00\r\n",
        "1.50e+01 -2.21e+00\r\n"
       ]
      }
     ],
     "prompt_number": 53
    },
    {
     "cell_type": "markdown",
     "metadata": {},
     "source": [
      "**(c)** Aplique la regresi\u00f3n lineal a este conjunto de datos transformado, leyendo los datos del archivo reci\u00e9n creado."
     ]
    },
    {
     "cell_type": "code",
     "collapsed": false,
     "input": [
      "time2,N3 = np.loadtxt('data/transform_radioactive_decay.txt',unpack = True, usecols = [0,1])\n",
      "u = RegresionLineal(alpha = 0.01, max_iters = 10000000 , tols = 0.0000001)\n",
      "u.gradienteDescent(time2,N3)\n",
      "ultima_iteracion = (u.breaking_iteration - 1) if u.breaking_iteration else (u.max_iters -1)\n",
      "u.plotModelo(time2,N3,ultima_iteracion)"
     ],
     "language": "python",
     "metadata": {},
     "outputs": [
      {
       "ename": "NameError",
       "evalue": "name 'RegresionLineal' is not defined",
       "output_type": "pyerr",
       "traceback": [
        "\u001b[1;31m---------------------------------------------------------------------------\u001b[0m\n\u001b[1;31mNameError\u001b[0m                                 Traceback (most recent call last)",
        "\u001b[1;32m<ipython-input-54-92a3bfa742e5>\u001b[0m in \u001b[0;36m<module>\u001b[1;34m()\u001b[0m\n\u001b[0;32m      1\u001b[0m \u001b[0mtime2\u001b[0m\u001b[1;33m,\u001b[0m\u001b[0mN3\u001b[0m \u001b[1;33m=\u001b[0m \u001b[0mnp\u001b[0m\u001b[1;33m.\u001b[0m\u001b[0mloadtxt\u001b[0m\u001b[1;33m(\u001b[0m\u001b[1;34m'data/transform_radioactive_decay.txt'\u001b[0m\u001b[1;33m,\u001b[0m\u001b[0munpack\u001b[0m \u001b[1;33m=\u001b[0m \u001b[0mTrue\u001b[0m\u001b[1;33m,\u001b[0m \u001b[0musecols\u001b[0m \u001b[1;33m=\u001b[0m \u001b[1;33m[\u001b[0m\u001b[1;36m0\u001b[0m\u001b[1;33m,\u001b[0m\u001b[1;36m1\u001b[0m\u001b[1;33m]\u001b[0m\u001b[1;33m)\u001b[0m\u001b[1;33m\u001b[0m\u001b[0m\n\u001b[1;32m----> 2\u001b[1;33m \u001b[0mu\u001b[0m \u001b[1;33m=\u001b[0m \u001b[0mRegresionLineal\u001b[0m\u001b[1;33m(\u001b[0m\u001b[0malpha\u001b[0m \u001b[1;33m=\u001b[0m \u001b[1;36m0.01\u001b[0m\u001b[1;33m,\u001b[0m \u001b[0mmax_iters\u001b[0m \u001b[1;33m=\u001b[0m \u001b[1;36m10000000\u001b[0m \u001b[1;33m,\u001b[0m \u001b[0mtols\u001b[0m \u001b[1;33m=\u001b[0m \u001b[1;36m0.0000001\u001b[0m\u001b[1;33m)\u001b[0m\u001b[1;33m\u001b[0m\u001b[0m\n\u001b[0m\u001b[0;32m      3\u001b[0m \u001b[0mu\u001b[0m\u001b[1;33m.\u001b[0m\u001b[0mgradienteDescent\u001b[0m\u001b[1;33m(\u001b[0m\u001b[0mtime2\u001b[0m\u001b[1;33m,\u001b[0m\u001b[0mN3\u001b[0m\u001b[1;33m)\u001b[0m\u001b[1;33m\u001b[0m\u001b[0m\n\u001b[0;32m      4\u001b[0m \u001b[0multima_iteracion\u001b[0m \u001b[1;33m=\u001b[0m \u001b[1;33m(\u001b[0m\u001b[0mu\u001b[0m\u001b[1;33m.\u001b[0m\u001b[0mbreaking_iteration\u001b[0m \u001b[1;33m-\u001b[0m \u001b[1;36m1\u001b[0m\u001b[1;33m)\u001b[0m \u001b[1;32mif\u001b[0m \u001b[0mu\u001b[0m\u001b[1;33m.\u001b[0m\u001b[0mbreaking_iteration\u001b[0m \u001b[1;32melse\u001b[0m \u001b[1;33m(\u001b[0m\u001b[0mu\u001b[0m\u001b[1;33m.\u001b[0m\u001b[0mmax_iters\u001b[0m \u001b[1;33m-\u001b[0m\u001b[1;36m1\u001b[0m\u001b[1;33m)\u001b[0m\u001b[1;33m\u001b[0m\u001b[0m\n\u001b[0;32m      5\u001b[0m \u001b[0mu\u001b[0m\u001b[1;33m.\u001b[0m\u001b[0mplotModelo\u001b[0m\u001b[1;33m(\u001b[0m\u001b[0mtime2\u001b[0m\u001b[1;33m,\u001b[0m\u001b[0mN3\u001b[0m\u001b[1;33m,\u001b[0m\u001b[0multima_iteracion\u001b[0m\u001b[1;33m)\u001b[0m\u001b[1;33m\u001b[0m\u001b[0m\n",
        "\u001b[1;31mNameError\u001b[0m: name 'RegresionLineal' is not defined"
       ]
      }
     ],
     "prompt_number": 54
    }
   ],
   "metadata": {}
  }
 ]
}