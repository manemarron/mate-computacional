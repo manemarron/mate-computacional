{
 "metadata": {
  "name": "",
  "signature": "sha256:9d6187548343a086fb70e4326d67aeac483030a11766687abe9ff77df044e562"
 },
 "nbformat": 3,
 "nbformat_minor": 0,
 "worksheets": [
  {
   "cells": [
    {
     "cell_type": "markdown",
     "metadata": {},
     "source": [
      "<div class=\"alert alert-warning\">\n",
      "Lectura recomendada: [Best Practices for Scientific Computing](http://arxiv.org/pdf/1210.0530v3.pdf)\n",
      "</div>"
     ]
    },
    {
     "cell_type": "code",
     "collapsed": false,
     "input": [
      "%pylab inline\n",
      "import numpy as np\n",
      "import matplotlib.pyplot as plt"
     ],
     "language": "python",
     "metadata": {},
     "outputs": [
      {
       "output_type": "stream",
       "stream": "stdout",
       "text": [
        "Populating the interactive namespace from numpy and matplotlib\n"
       ]
      }
     ],
     "prompt_number": 9
    },
    {
     "cell_type": "heading",
     "level": 1,
     "metadata": {},
     "source": [
      "Caos: Primera parte"
     ]
    },
    {
     "cell_type": "heading",
     "level": 2,
     "metadata": {},
     "source": [
      "Introducci\u00f3n"
     ]
    },
    {
     "cell_type": "markdown",
     "metadata": {},
     "source": [
      "- Edward Lorenz la defini\u00f3 como:\n",
      "\n",
      "    **Caos** Cuando el presente determina el futuro, pero el presente aproximado no determina aproximadamente el futuro."
     ]
    },
    {
     "cell_type": "markdown",
     "metadata": {},
     "source": [
      "- La **teor\u00eda del caos** estudia el comportamiento de los sistemas din\u00e1micos que son muy sensibles a las condiciones iniciales (El famoso _efecto mariposa_ seg\u00fan [Jurassic Park](http://en.wikipedia.org/wiki/Jurassic_Park_%28film%29)). \n",
      "        - Aunque no es lo \u00fanico, ve m\u00e1s adelante.\n",
      "        \n",
      "- Este hecho hace que la predicci\u00f3n  alargo plazo sea imposible.\n",
      "\n",
      "- Entonces la afirmaci\u00f3n **determinismo** $\\to$ **predictibilidad** es falsa.\n",
      "\n"
     ]
    },
    {
     "cell_type": "markdown",
     "metadata": {},
     "source": [
      "Chaos was the law of nature; Order was the dream of man\n",
      "-- Henry Adams"
     ]
    },
    {
     "cell_type": "markdown",
     "metadata": {},
     "source": [
      "- Para saber **much\u00edsimo m\u00e1s** recomiendo: [Chaos Book](http://chaosbook.org/)"
     ]
    },
    {
     "cell_type": "markdown",
     "metadata": {},
     "source": [
      "Durante siglos en f\u00edsica se estuvo trabajando con sistemas como el [oscilador arm\u00f3nico](http://en.wikipedia.org/wiki/Harmonic_oscillator) y el problema de dos cuerpos con fuerza central (tambi\u00e9n conocido como [_problema de Kepler_](http://en.wikipedia.org/wiki/Kepler_problem)) los cuales se consideraban como paradigm\u00e1ticos para resolver problemas. La explosi\u00f3n del caos en el siglo XX nos se\u00f1alaba que esos problemas y m\u00e9todos no eran la norma, si no al contrario: eran casos especiales."
     ]
    },
    {
     "cell_type": "markdown",
     "metadata": {},
     "source": [
      "A lo largo del curso (sobre todo en la \u00faltima parte) podr\u00eda quedar el sabor de boca de que las herramientas anal\u00edticas son un fraude y que hemos sido enga\u00f1ados durante toda nuestra educaci\u00f3n y que el \u00fanico camino son las simulaciones y la estad\u00edstica."
     ]
    },
    {
     "cell_type": "markdown",
     "metadata": {},
     "source": [
      "Pero eso no es cierto: Existen teor\u00edas que tienen el mismo poder predictivo, y el estudio del caso general sigue abriendo el camino para la comprehensi\u00f3n cient\u00edfica del mundo."
     ]
    },
    {
     "cell_type": "markdown",
     "metadata": {},
     "source": [
      "Lo que si es cierto, es que, partiendo de la definici\u00f3n de que un **sistema determin\u00edstico** es aquel que su estado futuro esta _completamente_ determinado por sus condiciones actuales (en contraste con un sistema estoc\u00e1stico en el cual el futuro est\u00e1 determinado s\u00f3lo parcialmente) ya no implica **predictibilidad**."
     ]
    },
    {
     "cell_type": "heading",
     "level": 2,
     "metadata": {},
     "source": [
      "Sensitividad a condiciones iniciales"
     ]
    },
    {
     "cell_type": "markdown",
     "metadata": {},
     "source": [
      "Una de las caracter\u00edsticas que puede indicar **caos** es la sensibiliad a condiciones iniciales, la cual se puede expresar matem\u00e1ticamente como:"
     ]
    },
    {
     "cell_type": "markdown",
     "metadata": {},
     "source": [
      "$$\n",
      "|\\delta\\mathbf{x}(t)| = e^{\\lambda t}|\\delta\\mathbf{x}(0)|\n",
      "$$"
     ]
    },
    {
     "cell_type": "markdown",
     "metadata": {},
     "source": [
      "a $\\lambda$ se le conoce como _exponente de Lyapunov_. Si este exponente positivo indica que con el paso del tiempo la diferencia $\\delta$ crece exponencialmente."
     ]
    },
    {
     "cell_type": "markdown",
     "metadata": {},
     "source": [
      "<div class=\"alert alert-danger\">\n",
      "**NOTA** La sensibilidad es una idea muy importante pero no determina completamente si el sistema es caotico o no, para ello se necesita otra caracter\u00edstica: _mezcla topol\u00f3gica_ (topological mixing), la cual ver\u00e9mos m\u00e1s adelante, pero se puede entender como que las trayectorias del sistema, luego de diverger se vueven a aproximar un n\u00famero infinito de veces.\n",
      "</div>"
     ]
    },
    {
     "cell_type": "heading",
     "level": 3,
     "metadata": {},
     "source": [
      "Mapeos"
     ]
    },
    {
     "cell_type": "markdown",
     "metadata": {},
     "source": [
      "A los sistemas din\u00e1micos discretos, en una dimensi\u00f3n se les conoce como **mapas**, ya que son funciones\n",
      "\n",
      "$$\n",
      "f: \\mathrm{R} \\to \\mathrm{R}\n",
      "$$\n",
      "\n",
      "y los cuales producen la _secuencia_ de puntos:\n",
      "\n",
      "$$\n",
      "\\{x, f(x), f^2(x), f^3(x), \\ldots\\}\n",
      "$$\n",
      "\n",
      "la cual se conoce como _\u00f3rbita_ de $x$ bajo $f$."
     ]
    },
    {
     "cell_type": "markdown",
     "metadata": {},
     "source": [
      "Los sistemas din\u00e1micos discretos, se pueden pensar como ecuaciones de diferencias de primer orden\n",
      "\n",
      "$$\n",
      "y = x_{n+1} = f(x_n)\n",
      "$$\n",
      "\n",
      "y regularmente \n",
      "\n",
      "$$\n",
      "y=f(x) = f(x, a)\n",
      "$$\n",
      "\n",
      "existe un par\u00e1metro $a$ que puede influir much\u00edsimo en el comportamiento del sistema."
     ]
    },
    {
     "cell_type": "heading",
     "level": 3,
     "metadata": {},
     "source": [
      "Comportamientos"
     ]
    },
    {
     "cell_type": "markdown",
     "metadata": {},
     "source": [
      "Pueden pasar lo siguiente:\n",
      "\n",
      "- Si $f(x) = x$ hemos alcanzado un _punto fijo_.\n",
      "\n",
      "- Si $f^n(x) = x$, pero $f^k(x) \\neq x$ para $k \\leq n$, se dice que la \u00f3rbita tiene _periodo_ de orden $n$."
     ]
    },
    {
     "cell_type": "heading",
     "level": 3,
     "metadata": {},
     "source": [
      "Mapeo log\u00edstico"
     ]
    },
    {
     "cell_type": "markdown",
     "metadata": {},
     "source": [
      "$$\n",
      "x_{n+1} = rx_n(1 -x_n)\n",
      "$$"
     ]
    },
    {
     "cell_type": "markdown",
     "metadata": {},
     "source": [
      "Donde, para fines de esta clase, $r$ esta contenido en \n",
      "\n",
      "$$\n",
      "0 \\leq r \\leq 4\n",
      "$$\n",
      "\n",
      "la raz\u00f3n de esto, es que el cuadro unitario mapea al cuadro unitario, i.e.\n",
      "\n",
      "$$ \n",
      "0 \\leq x \\leq 1 \\to 0 \\leq f(x) \\leq 1\n",
      "$$"
     ]
    },
    {
     "cell_type": "markdown",
     "metadata": {},
     "source": [
      "<div class=\"alert alert-info\">\n",
      "**Ejercicio** \u00bfPor qu\u00e9?\n",
      "</div>"
     ]
    },
    {
     "cell_type": "markdown",
     "metadata": {},
     "source": [
      "<div class=\"alert alert-info\">\n",
      "**Ejercicio**  Define la funci\u00f3n `logistic_map` que recibe como par\u00e1metros $x$ y $r$ regresa $rx(1\u2212x)$. \n",
      "</div>"
     ]
    },
    {
     "cell_type": "code",
     "collapsed": false,
     "input": [
      "def logistic_map(x,r):\n",
      "    y=r*x*(1-x)\n",
      "    return y"
     ],
     "language": "python",
     "metadata": {},
     "outputs": [],
     "prompt_number": 10
    },
    {
     "cell_type": "markdown",
     "metadata": {},
     "source": [
      "Los _puntos fijos_ del mapeo log\u00edstico son:"
     ]
    },
    {
     "cell_type": "markdown",
     "metadata": {},
     "source": [
      "$$\n",
      "x = f(x)\n",
      "$$\n",
      "\n",
      "$$\n",
      "x = rx(1-x)\n",
      "$$\n",
      "\n",
      "$$\n",
      "1 = r(1-x)\n",
      "$$\n",
      "\n",
      "$$\n",
      "x = 1 - \\frac{1}{r}\n",
      "$$"
     ]
    },
    {
     "cell_type": "markdown",
     "metadata": {},
     "source": [
      "El punto fijo se dice _estable_ si $|f(x) - x_0| < |x - x_0|$ e _inestable_ si la desigualdad se invierte."
     ]
    },
    {
     "cell_type": "markdown",
     "metadata": {},
     "source": [
      "<div class=\"alert alert-info\">\n",
      "**Ejercicio** Calcule el punto fijo para $r = 2$ usando SymPy\n",
      "</div>"
     ]
    },
    {
     "cell_type": "code",
     "collapsed": false,
     "input": [
      "from IPython.html.widgets import interact, fixed\n",
      "from IPython.html import widgets"
     ],
     "language": "python",
     "metadata": {},
     "outputs": [],
     "prompt_number": 11
    },
    {
     "cell_type": "code",
     "collapsed": false,
     "input": [
      "n=1000\n",
      "X=np.linspace(0,n,endpoint=True)\n",
      "\n",
      "def plot_logistic_map(x,r):\n",
      "    \n",
      "    Y=logistic_map(x,r)\n",
      "    plt.plot(X,Y)"
     ],
     "language": "python",
     "metadata": {},
     "outputs": [],
     "prompt_number": 12
    },
    {
     "cell_type": "code",
     "collapsed": false,
     "input": [
      "interact(plot_logistic_map,x=fixed(X),r=(0,4,0.2))"
     ],
     "language": "python",
     "metadata": {},
     "outputs": [
      {
       "metadata": {},
       "output_type": "pyout",
       "prompt_number": 13,
       "text": [
        "<function __main__.plot_logistic_map>"
       ]
      },
      {
       "metadata": {},
       "output_type": "display_data",
       "png": "[encoded data removed]",
       "text": [
        "<matplotlib.figure.Figure at 0x3777d68>"
       ]
      }
     ],
     "prompt_number": 13
    },
    {
     "cell_type": "markdown",
     "metadata": {},
     "source": [
      "<div class=\"alert alert-warning\">\n",
      "\n",
      "**Teorema:**\n",
      "\n",
      "Sea $f(x_0) = x_0.$, entonces, \n",
      "\n",
      "<ul>\n",
      "<li>Si $f'(x)$ es cont\u00ednua y $|f'(x_0)| < 1$ entonces $x_0$ es estable.</li>\n",
      "\n",
      "\n",
      "<li>Si $f'(x)$ es cont\u00ednua y $|f'(x_0)| > 1$ entonces $x_0$ es inestable.</li>\n",
      "</ul>\n",
      "</div>"
     ]
    },
    {
     "cell_type": "markdown",
     "metadata": {},
     "source": [
      "<div class=\"alert alert-info\">\n",
      "**Ejercicio** \u00bfCu\u00e1les son las condiciones de estabilidad para el par\u00e1metro $r$? Los valores de $r$ para cuales cambia de estable a inestable y viceversa, se llaman _puntos de bifurcaci\u00f3n_.\n",
      "</div>"
     ]
    },
    {
     "cell_type": "markdown",
     "metadata": {},
     "source": [
      "<div class=\"alert alert-info\">\n",
      "**Ejercicio** Programa un control para cambiar $r$ entre $0$ y $4$ (con un slider) y otro para definid $x_0$. Grafica `logistic_map` respecto al n\u00famero de iteraciones $N$. \u00bfQu\u00e9 observas? \u00bfPuedes ver alg\u00fan _periodo_?\u00bfEst\u00e1 cerca de los puntos fijos?\n",
      "</div>"
     ]
    },
    {
     "cell_type": "markdown",
     "metadata": {},
     "source": [
      "<div class=\"alert alert-info\">\n",
      "**Ejercicio** \u00bfQu\u00e9 sucede para (a) $x_0 = 0.35$ en $r = 2.8$ y (b) para $x_0 = 0.35$ en $r=3.1$. \u00bfPorqu\u00e9 escog\u00ed estos valores?\n",
      "</div>"
     ]
    },
    {
     "cell_type": "markdown",
     "metadata": {},
     "source": [
      "<div class=\"alert alert-info\">\n",
      "**Ejercicio** Define una funci\u00f3n `iterar` que reciba una funci\u00f3n `g`, un punto inicial `x0`, un entero `N` y el par\u00e1metro `r` regrese $g(g( \\ldots(g(x_0, r),r) \\ldots)$. En otras palabras que itere `g`, `N` veces a partir del punto `x0`.\n",
      "</div>"
     ]
    },
    {
     "cell_type": "code",
     "collapsed": false,
     "input": [
      "def iterar(g, x0, N, r):\n",
      "    x=x0\n",
      "    for j in range(N+1):\n",
      "        x=g(x,r)"
     ],
     "language": "python",
     "metadata": {},
     "outputs": [],
     "prompt_number": 14
    },
    {
     "cell_type": "markdown",
     "metadata": {},
     "source": [
      "<div class=\"alert alert-info\">\n",
      "**Ejercicio** Define una funci\u00f3n `iterarLista` que reciba una funci\u00f3n `g`, un punto inicial `x0`, un entero `N` y el par\u00e1metro $r$ regrese la lista $[x_0, g(x), g(g(x)), \\ldots g(g(\\ldots(g(x))\\ldots))]$ En otras palabras que itere `g`, `N-1` veces a partir del punto `x0` y devuelva la \u00f3rbita completa empezando desde `x0`.\n",
      "</div>"
     ]
    },
    {
     "cell_type": "code",
     "collapsed": false,
     "input": [
      "def iterarLista(g, x0, N, r):\n",
      "    lista=[x0]\n",
      "    x=x0\n",
      "    for j in range(N):\n",
      "        x=g(x,r)\n",
      "        lista.append(x)\n",
      "    return lista\n"
     ],
     "language": "python",
     "metadata": {},
     "outputs": [],
     "prompt_number": 23
    },
    {
     "cell_type": "markdown",
     "metadata": {},
     "source": [
      "<div class=\"alert alert-info\">\n",
      "**Ejercicio** Usa las funciones reci\u00e9n definidas para calcular iteraciones para $r = \\{ 0.8, 1.2, 2.8, 3.2\\}$,\n",
      "</div>"
     ]
    },
    {
     "cell_type": "code",
     "collapsed": false,
     "input": [
      "iterarLista(logistic_map,0.2,100,0.8)"
     ],
     "language": "python",
     "metadata": {},
     "outputs": [
      {
       "metadata": {},
       "output_type": "pyout",
       "prompt_number": 24,
       "text": [
        "[0.2,\n",
        " 0.12800000000000003,\n",
        " 0.08929280000000003,\n",
        " 0.06505567669452801,\n",
        " 0.048658748499476046,\n",
        " 0.03703285975515263,\n",
        " 0.02852914164280626,\n",
        " 0.02217218377594477,\n",
        " 0.017344462434040402,\n",
        " 0.013634905645531652,\n",
        " 0.010759195994855282,\n",
        " 0.008514748557119659,\n",
        " 0.00675379809130295,\n",
        " 0.00536654744211589,\n",
        " 0.004270198088533929,\n",
        " 0.003401570797454888,\n",
        " 0.0027120000908518326,\n",
        " 0.002163716117087242,\n",
        " 0.001727227559721519,\n",
        " 0.0013793953957427659,\n",
        " 0.0011019941312679757,\n",
        " 0.0008806237921621013,\n",
        " 0.0007038786351190235,\n",
        " 0.0005627065519888372,\n",
        " 0.0004499119306601488,\n",
        " 0.0003597676079318388,\n",
        " 0.0002877105401600974,\n",
        " 0.00023010221024414258,\n",
        " 0.0001840394105735867,\n",
        " 0.00014720443205515398,\n",
        " 0.00011774621032826985,\n",
        " 9.418587692657855e-05,\n",
        " 7.53416047577329e-05,\n",
        " 6.026874272026035e-05,\n",
        " 4.821208831912901e-05,\n",
        " 3.8567811130935136e-05,\n",
        " 3.0853058923903765e-05,\n",
        " 2.4681685610127044e-05,\n",
        " 1.9744861139617994e-05,\n",
        " 1.5795577024061257e-05,\n",
        " 1.2636262019046189e-05,\n",
        " 1.01088818751427e-05,\n",
        " 8.087023748519948e-06,\n",
        " 6.469566678853471e-06,\n",
        " 5.175619858848368e-06,\n",
        " 4.140474457445956e-06,\n",
        " 3.3123658511337784e-06,\n",
        " 2.6498839034929973e-06,\n",
        " 2.1199015052866365e-06,\n",
        " 1.6959176090433954e-06,\n",
        " 1.356731786325487e-06,\n",
        " 1.0853839564834776e-06,\n",
        " 8.683062227401156e-07,\n",
        " 6.946443750275354e-07,\n",
        " 5.55715113997382e-07,\n",
        " 4.445718441424753e-07,\n",
        " 3.5565731719868064e-07,\n",
        " 2.845257525652427e-07,\n",
        " 2.2762053728827108e-07,\n",
        " 1.820963883817297e-07,\n",
        " 1.4567708417810803e-07,\n",
        " 1.1654165036503614e-07,\n",
        " 9.32333094264639e-08,\n",
        " 7.458664058721115e-08,\n",
        " 5.966930801923535e-08,\n",
        " 4.773544356704722e-08,\n",
        " 3.818835303069972e-08,\n",
        " 3.055068125787953e-08,\n",
        " 2.4440544259628327e-08,\n",
        " 1.9552434929830502e-08,\n",
        " 1.5641947638026232e-08,\n",
        " 1.2513557914684567e-08,\n",
        " 1.0010846206476348e-08,\n",
        " 8.008676885007446e-09,\n",
        " 6.406941456694833e-09,\n",
        " 5.1255531325167475e-09,\n",
        " 4.100442484996362e-09,\n",
        " 3.2803539745461874e-09,\n",
        " 2.6242831710283723e-09,\n",
        " 2.099426531313208e-09,\n",
        " 1.679541221524493e-09,\n",
        " 1.3436329749629077e-09,\n",
        " 1.0749063785260466e-09,\n",
        " 8.599251018964983e-10,\n",
        " 6.879400809256218e-10,\n",
        " 5.503520643618882e-10,\n",
        " 4.4028165124720066e-10,\n",
        " 3.5222532084268215e-10,\n",
        " 2.817802565748956e-10,\n",
        " 2.254242051963964e-10,\n",
        " 1.8033936411646428e-10,\n",
        " 1.4427149126715362e-10,\n",
        " 1.154171929970715e-10,\n",
        " 9.23337543870003e-11,\n",
        " 7.386700350277982e-11,\n",
        " 5.909360279785879e-11,\n",
        " 4.727488223549339e-11,\n",
        " 3.7819905786606785e-11,\n",
        " 3.0255924628141157e-11,\n",
        " 2.420473970178059e-11,\n",
        " 1.936379176095578e-11]"
       ]
      }
     ],
     "prompt_number": 24
    },
    {
     "cell_type": "code",
     "collapsed": false,
     "input": [
      "iterarLista(logistic_map,0.2,100,1.2)"
     ],
     "language": "python",
     "metadata": {},
     "outputs": [
      {
       "metadata": {},
       "output_type": "pyout",
       "prompt_number": 25,
       "text": [
        "[0.2,\n",
        " 0.192,\n",
        " 0.1861632,\n",
        " 0.181807755558912,\n",
        " 0.17850443469305147,\n",
        " 0.17596872178555872,\n",
        " 0.1740044768864584,\n",
        " 0.17247230269191402,\n",
        " 0.17127072899527535,\n",
        " 0.17032447966164277,\n",
        " 0.1695768615475601,\n",
        " 0.16898465949028768,\n",
        " 0.168514613216687,\n",
        " 0.16814092601894087,\n",
        " 0.1678434660197207,\n",
        " 0.16760644432104907,\n",
        " 0.16741742897172496,\n",
        " 0.16726660013786687,\n",
        " 0.16714618153942298,\n",
        " 0.16705000264345587,\n",
        " 0.1669731591123327,\n",
        " 0.1669117478980564,\n",
        " 0.16686265957400648,\n",
        " 0.16682341489667485,\n",
        " 0.16679203576666407,\n",
        " 0.16676694308577109,\n",
        " 0.1667468757355179,\n",
        " 0.16673082620155397,\n",
        " 0.1667179893548414,\n",
        " 0.16670772165638445,\n",
        " 0.16669950863582628,\n",
        " 0.16669293894768042,\n",
        " 0.16668768366319836,\n",
        " 0.16668347973383507,\n",
        " 0.16668011678118633,\n",
        " 0.1666774265411957,\n",
        " 0.16667527442736,\n",
        " 0.16667355278630908,\n",
        " 0.16667217550547822,\n",
        " 0.16667107370129913,\n",
        " 0.1666701922710663,\n",
        " 0.16666948713527052,\n",
        " 0.16666892303200367,\n",
        " 0.16666847175282687,\n",
        " 0.16666811073168483,\n",
        " 0.1666678219161788,\n",
        " 0.16666759086467484,\n",
        " 0.16666740602404823,\n",
        " 0.1666672581519159,\n",
        " 0.16666713985444623,\n",
        " 0.1666670452166216,\n",
        " 0.16666696950645865,\n",
        " 0.1666669089383902,\n",
        " 0.16666686048397505,\n",
        " 0.16666682172046832,\n",
        " 0.16666679070967913,\n",
        " 0.16666676590105817,\n",
        " 0.16666674605416806,\n",
        " 0.16666673017666023,\n",
        " 0.16666671747465667,\n",
        " 0.16666670731305558,\n",
        " 0.1666666991837758,\n",
        " 0.16666669268035272,\n",
        " 0.1666666874776147,\n",
        " 0.16666668331542459,\n",
        " 0.16666667998567267,\n",
        " 0.16666667732187126,\n",
        " 0.16666667519083023,\n",
        " 0.16666667348599742,\n",
        " 0.1666666721221312,\n",
        " 0.16666667103103824,\n",
        " 0.16666667015816392,\n",
        " 0.16666666945986444,\n",
        " 0.16666666890122486,\n",
        " 0.16666666845431322,\n",
        " 0.1666666680967839,\n",
        " 0.16666666781076045,\n",
        " 0.1666666675819417,\n",
        " 0.1666666673988867,\n",
        " 0.16666666725244267,\n",
        " 0.16666666713528747,\n",
        " 0.1666666670415633,\n",
        " 0.16666666696658397,\n",
        " 0.1666666669066005,\n",
        " 0.16666666685861375,\n",
        " 0.16666666682022435,\n",
        " 0.1666666667895128,\n",
        " 0.16666666676494357,\n",
        " 0.16666666674528818,\n",
        " 0.16666666672956387,\n",
        " 0.16666666671698444,\n",
        " 0.16666666670692087,\n",
        " 0.16666666669887004,\n",
        " 0.16666666669242935,\n",
        " 0.1666666666872768,\n",
        " 0.16666666668315477,\n",
        " 0.16666666667985713,\n",
        " 0.16666666667721905,\n",
        " 0.16666666667510857,\n",
        " 0.16666666667342017,\n",
        " 0.16666666667206945]"
       ]
      }
     ],
     "prompt_number": 25
    },
    {
     "cell_type": "code",
     "collapsed": false,
     "input": [
      "iterarLista(logistic_map,0.2,100,2.8)"
     ],
     "language": "python",
     "metadata": {},
     "outputs": [
      {
       "metadata": {},
       "output_type": "pyout",
       "prompt_number": 26,
       "text": [
        "[0.2,\n",
        " 0.44799999999999995,\n",
        " 0.6924288,\n",
        " 0.596319239405568,\n",
        " 0.674023291536932,\n",
        " 0.6152045032074255,\n",
        " 0.6628381828340448,\n",
        " 0.6257544333916573,\n",
        " 0.655720302950561,\n",
        " 0.6321033242971593,\n",
        " 0.6511363927869906,\n",
        " 0.6360418141709421,\n",
        " 0.6481793494318208,\n",
        " 0.6385200651254945,\n",
        " 0.6462741363613604,\n",
        " 0.6400908556888667,\n",
        " 0.6450487460266111,\n",
        " 0.6410904115731014,\n",
        " 0.644261788133972,\n",
        " 0.6417279021562892,\n",
        " 0.6437569649010565,\n",
        " 0.6421350181188219,\n",
        " 0.643433382548214,\n",
        " 0.6423952213581775,\n",
        " 0.6432260826161957,\n",
        " 0.6425616099235723,\n",
        " 0.6430933246527978,\n",
        " 0.6426680412314651,\n",
        " 0.6430083240312955,\n",
        " 0.6427361339217279,\n",
        " 0.6429539090046199,\n",
        " 0.6427797037208367,\n",
        " 0.6429190773750922,\n",
        " 0.6428075845023067,\n",
        " 0.6428967826641262,\n",
        " 0.6428254266118761,\n",
        " 0.6428825130367796,\n",
        " 0.6428368449112246,\n",
        " 0.642873380060259,\n",
        " 0.642844152356439,\n",
        " 0.6428675347851972,\n",
        " 0.6428488290123212,\n",
        " 0.6428637937394641,\n",
        " 0.64285182202743,\n",
        " 0.6428613994416417,\n",
        " 0.6428537375388119,\n",
        " 0.6428598670793383,\n",
        " 0.6428549634586066,\n",
        " 0.6428588863626724,\n",
        " 0.6428557480442076,\n",
        " 0.6428582587020435,\n",
        " 0.6428562501777361,\n",
        " 0.642857856998437,\n",
        " 0.6428565715426795,\n",
        " 0.6428575999077996,\n",
        " 0.6428567772160325,\n",
        " 0.6428574353696568,\n",
        " 0.6428569088468922,\n",
        " 0.64285733006519,\n",
        " 0.6428569930906071,\n",
        " 0.6428572626703086,\n",
        " 0.64285704700657,\n",
        " 0.6428572195375754,\n",
        " 0.6428570815127803,\n",
        " 0.6428571919326223,\n",
        " 0.6428571035967525,\n",
        " 0.6428571742654507,\n",
        " 0.6428571177304938,\n",
        " 0.6428571629584603,\n",
        " 0.6428571267760878,\n",
        " 0.6428571557219862,\n",
        " 0.6428571325652677,\n",
        " 0.6428571510906427,\n",
        " 0.6428571362703428,\n",
        " 0.6428571481265827,\n",
        " 0.6428571386415909,\n",
        " 0.6428571462295843,\n",
        " 0.6428571401591896,\n",
        " 0.6428571450155054,\n",
        " 0.6428571411304528,\n",
        " 0.6428571442384948,\n",
        " 0.6428571417520612,\n",
        " 0.6428571437412081,\n",
        " 0.6428571421498906,\n",
        " 0.6428571434229445,\n",
        " 0.6428571424045014,\n",
        " 0.6428571432192559,\n",
        " 0.6428571425674523,\n",
        " 0.6428571430888952,\n",
        " 0.6428571426717409,\n",
        " 0.6428571430054644,\n",
        " 0.6428571427384856,\n",
        " 0.6428571429520686,\n",
        " 0.6428571427812022,\n",
        " 0.6428571429178953,\n",
        " 0.6428571428085408,\n",
        " 0.6428571428960245,\n",
        " 0.6428571428260375,\n",
        " 0.6428571428820271,\n",
        " 0.6428571428372354,\n",
        " 0.6428571428730687]"
       ]
      }
     ],
     "prompt_number": 26
    },
    {
     "cell_type": "code",
     "collapsed": false,
     "input": [
      "iterarLista(logistic_map,0.2,100,3.2)"
     ],
     "language": "python",
     "metadata": {},
     "outputs": [
      {
       "metadata": {},
       "output_type": "pyout",
       "prompt_number": 27,
       "text": [
        "[0.2,\n",
        " 0.5120000000000001,\n",
        " 0.7995392,\n",
        " 0.512884056522752,\n",
        " 0.7994688034800593,\n",
        " 0.5130189943751092,\n",
        " 0.7994576185134749,\n",
        " 0.5130404310855622,\n",
        " 0.7994558309027286,\n",
        " 0.5130438570827405,\n",
        " 0.7994555449356961,\n",
        " 0.5130444051432489,\n",
        " 0.7994554991822682,\n",
        " 0.5130444928303954,\n",
        " 0.7994554918617529,\n",
        " 0.5130445068602741,\n",
        " 0.7994554906904713,\n",
        " 0.5130445091050531,\n",
        " 0.7994554905030663,\n",
        " 0.5130445094642175,\n",
        " 0.7994554904730814,\n",
        " 0.5130445095216841,\n",
        " 0.7994554904682839,\n",
        " 0.5130445095308785,\n",
        " 0.7994554904675163,\n",
        " 0.5130445095323497,\n",
        " 0.7994554904673934,\n",
        " 0.5130445095325852,\n",
        " 0.7994554904673739,\n",
        " 0.5130445095326227,\n",
        " 0.7994554904673707,\n",
        " 0.5130445095326286,\n",
        " 0.7994554904673701,\n",
        " 0.5130445095326298,\n",
        " 0.7994554904673701,\n",
        " 0.5130445095326298,\n",
        " 0.7994554904673701,\n",
        " 0.5130445095326298,\n",
        " 0.7994554904673701,\n",
        " 0.5130445095326298,\n",
        " 0.7994554904673701,\n",
        " 0.5130445095326298,\n",
        " 0.7994554904673701,\n",
        " 0.5130445095326298,\n",
        " 0.7994554904673701,\n",
        " 0.5130445095326298,\n",
        " 0.7994554904673701,\n",
        " 0.5130445095326298,\n",
        " 0.7994554904673701,\n",
        " 0.5130445095326298,\n",
        " 0.7994554904673701,\n",
        " 0.5130445095326298,\n",
        " 0.7994554904673701,\n",
        " 0.5130445095326298,\n",
        " 0.7994554904673701,\n",
        " 0.5130445095326298,\n",
        " 0.7994554904673701,\n",
        " 0.5130445095326298,\n",
        " 0.7994554904673701,\n",
        " 0.5130445095326298,\n",
        " 0.7994554904673701,\n",
        " 0.5130445095326298,\n",
        " 0.7994554904673701,\n",
        " 0.5130445095326298,\n",
        " 0.7994554904673701,\n",
        " 0.5130445095326298,\n",
        " 0.7994554904673701,\n",
        " 0.5130445095326298,\n",
        " 0.7994554904673701,\n",
        " 0.5130445095326298,\n",
        " 0.7994554904673701,\n",
        " 0.5130445095326298,\n",
        " 0.7994554904673701,\n",
        " 0.5130445095326298,\n",
        " 0.7994554904673701,\n",
        " 0.5130445095326298,\n",
        " 0.7994554904673701,\n",
        " 0.5130445095326298,\n",
        " 0.7994554904673701,\n",
        " 0.5130445095326298,\n",
        " 0.7994554904673701,\n",
        " 0.5130445095326298,\n",
        " 0.7994554904673701,\n",
        " 0.5130445095326298,\n",
        " 0.7994554904673701,\n",
        " 0.5130445095326298,\n",
        " 0.7994554904673701,\n",
        " 0.5130445095326298,\n",
        " 0.7994554904673701,\n",
        " 0.5130445095326298,\n",
        " 0.7994554904673701,\n",
        " 0.5130445095326298,\n",
        " 0.7994554904673701,\n",
        " 0.5130445095326298,\n",
        " 0.7994554904673701,\n",
        " 0.5130445095326298,\n",
        " 0.7994554904673701,\n",
        " 0.5130445095326298,\n",
        " 0.7994554904673701,\n",
        " 0.5130445095326298,\n",
        " 0.7994554904673701]"
       ]
      }
     ],
     "prompt_number": 27
    },
    {
     "cell_type": "heading",
     "level": 2,
     "metadata": {},
     "source": [
      "Diagrama de CobWeb"
     ]
    },
    {
     "cell_type": "markdown",
     "metadata": {},
     "source": [
      "<div class=\"alert alert-info\">\n",
      "**Ejercicio** Dibuja en una gr\u00e1fica `logistic_map`, como ejes usa $N_{n+1}$ y $N_n$, adem\u00e1s agrega la l\u00ednea $y = x$ en la misma gr\u00e1fica. \u00bfQu\u00e9 observas para los distintos valores de $r$? Graf\u00edcala junto a la gr\u00e1fica anterior.\n",
      "</div>"
     ]
    },
    {
     "cell_type": "code",
     "collapsed": false,
     "input": [
      "N=100\n",
      "fig, ax= plt.subplots(5,1,figsize=(10,8),sharex=False)\n",
      "\n",
      "ax[0].plot(range(N+1),iterarLista(logistic_map,0.2,N,0.8))\n",
      "ax[1].plot(range(N+1),iterarLista(logistic_map,0.2,N,1.2))\n",
      "ax[2].plot(range(N+1),iterarLista(logistic_map,0.2,N,2.8))\n",
      "ax[3].plot(range(N+1),iterarLista(logistic_map,0.2,N,3.2))\n",
      "ax[4].plot(range(N+1),range(N+1))\n",
      "\n",
      "plt.show()"
     ],
     "language": "python",
     "metadata": {},
     "outputs": [
      {
       "metadata": {},
       "output_type": "display_data",
       "png": "[encoded data removed]",
       "text": [
        "<matplotlib.figure.Figure at 0xb6729b0>"
       ]
      }
     ],
     "prompt_number": 33
    },
    {
     "cell_type": "markdown",
     "metadata": {},
     "source": [
      "<div class=\"alert alert-info\">\n",
      "**Ejercicio** Agrega los segmentos de l\u00ednea $(x_0, x_0), (x_0. f(x_0)), (f(x_0), f(x_0)), (f(x_0), f(f(x_0))), \\ldots$\n",
      "</div>"
     ]
    },
    {
     "cell_type": "heading",
     "level": 2,
     "metadata": {},
     "source": [
      "Diagrama de Bifurcaci\u00f3n"
     ]
    },
    {
     "cell_type": "markdown",
     "metadata": {},
     "source": [
      "<div class=\"alert alert-info\">\n",
      "**Ejercicio** \u00bfQu\u00e9 hace el siguiente c\u00f3digo? Modificalo para que use nuestras funciones.\n",
      "</div>"
     ]
    },
    {
     "cell_type": "code",
     "collapsed": false,
     "input": [
      "import math\n",
      "from PIL import Image\n",
      "imgx = 1000\n",
      "imgy = 500\n",
      "image = Image.new(\"RGB\", (imgx, imgy))\n",
      "\n",
      "xa = 1\n",
      "xb = 4\n",
      "maxit = 5000\n",
      "\n",
      "for i in range(imgx):\n",
      "    r = xa + (xb - xa) * float(i) / (imgx - 1)\n",
      "    x = 0.5\n",
      "    for j in range(maxit):\n",
      "        x = r * x * (1 - x)\n",
      "        if j > maxit / 2:\n",
      "            image.putpixel((i, int(x * imgy)), (255, 255, 255))\n",
      "\n",
      "image.save(\"bifurcacion.png\", \"PNG\")"
     ],
     "language": "python",
     "metadata": {},
     "outputs": [],
     "prompt_number": 21
    },
    {
     "cell_type": "markdown",
     "metadata": {},
     "source": [
      "<img src=\"./bifurcacion.png\"/>"
     ]
    },
    {
     "cell_type": "heading",
     "level": 3,
     "metadata": {},
     "source": [
      "Pasos para producir el diagrama de bifurcaci\u00f3n"
     ]
    },
    {
     "cell_type": "markdown",
     "metadata": {},
     "source": [
      "1. Escoje un valor inicial para `r`\n",
      "2. Escoje un valor al azar para `x` en `[0,1]`\n",
      "3. Calcula la \u00f3rbita de `x` bajo el `g` (en el caso anterior el mapeo log\u00edstico)\n",
      "4. Ignora las primeras `n` iteraciones y dibuja el valor de `x` para la iteraci\u00f3n `n+1`\n",
      "5. Incrementa `r` y repite hasta `r` final."
     ]
    },
    {
     "cell_type": "markdown",
     "metadata": {},
     "source": [
      "<div class=\"alert alert-info\">\n",
      "**Ejercicio** Repite todo lo anterior para el mapeo\n",
      "\n",
      "$$\n",
      "f(x,\\mu) = 1 - \\mu x^2\n",
      "$$\n",
      "\n",
      "\u00bfQu\u00e9 diferencia observas? \u00bfCu\u00e1les son sus puntos fijos? \u00bfCu\u00e1les son los valores interesantes?\n",
      "</div>"
     ]
    }
   ],
   "metadata": {}
  }
 ]
}