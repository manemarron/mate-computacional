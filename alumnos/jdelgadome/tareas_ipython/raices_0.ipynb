{
 "metadata": {
  "name": "",
  "signature": "sha256:d598e04a2b0f2c87e814c47f319107381a0177a4eff78b814a13bbbbd88ea62b"
 },
 "nbformat": 3,
 "nbformat_minor": 0,
 "worksheets": [
  {
   "cells": [
    {
     "cell_type": "code",
     "collapsed": false,
     "input": [
      "%matplotlib inline\n",
      "import numpy as np\n",
      "import matplotlib.pyplot as plt"
     ],
     "language": "python",
     "metadata": {},
     "outputs": [],
     "prompt_number": 1
    },
    {
     "cell_type": "heading",
     "level": 1,
     "metadata": {},
     "source": [
      "Ra\u00edces de funciones no lineales"
     ]
    },
    {
     "cell_type": "markdown",
     "metadata": {},
     "source": [
      "Calcular las ra\u00edces de la ecuaci\u00f3n \n",
      "\n",
      "$$\n",
      "f(x) = 0\n",
      "$$\n",
      "\n",
      "es un problema recurrente en el c\u00e1lculo cient\u00edfico."
     ]
    },
    {
     "cell_type": "markdown",
     "metadata": {},
     "source": [
      "Para resolverlos, utilizaremos m\u00e9todos _iterativos_."
     ]
    },
    {
     "cell_type": "heading",
     "level": 2,
     "metadata": {},
     "source": [
      "M\u00e9todo de la bisecci\u00f3n"
     ]
    },
    {
     "cell_type": "markdown",
     "metadata": {},
     "source": [
      "Sea $f$ una funci\u00f3n continua en $[a,b]$ que satisface "
     ]
    },
    {
     "cell_type": "markdown",
     "metadata": {},
     "source": [
      "$$\n",
      "f(a)f(b) < 0\n",
      "$$"
     ]
    },
    {
     "cell_type": "markdown",
     "metadata": {},
     "source": [
      "<div class=\"alert alert-info\">\n",
      "**Ejercicio** \u00bfQu\u00e9 significa esto?\n",
      "</div>"
     ]
    },
    {
     "cell_type": "markdown",
     "metadata": {},
     "source": [
      "Esto implica que $f$ tiene un _cero_ en el intervalo $(a,b)$, llam\u00e9mosle $r$."
     ]
    },
    {
     "cell_type": "markdown",
     "metadata": {},
     "source": [
      "El **m\u00e9todo de la bisecci\u00f3n** se trata de dividir en dos partes iguales el intervalo $I^0 \\equiv (a,b)$ y seleccionar el subintervalo $I$ donde $f$ experimenta un cambio de signo. Siguiendo este procedimiento, se garantiza que cada $I^{(k)}$ seleccionado contendr\u00e1 a $r$. La sucesi\u00f3n ${x^{(k)}}$ tender\u00e1 a $r$ cuando $k \\to \\infty$."
     ]
    },
    {
     "cell_type": "markdown",
     "metadata": {},
     "source": [
      "Concretamente:\n",
      "\n",
      "\n",
      "1. Se inicializa el m\u00e9todo con $a^0 = a$, $b^0 = b$, $I^{(0)} = (a^0, b^0)$ y $x^{(0)} = \\frac{(a^0 + b^0)}{2}$.\n",
      "2. Sea k = 1:\n",
      "    - Evaluar $f(x^{(k-1)})$, $f(a^{(k-1)})$ y $f(b^{(k-1)})$.\n",
      "    -  Si $f(a^{(k-1)})\\cdot f(x^{(k-1)}) < 0$, entonces $a^k = a^{(k-1)}$, $b^k = x^{(k-1)}$.\n",
      "    - Si $f(x^{(k-1)})\\cdot f(b^{(k-1)}) < 0$, entonces $a^k = x^{(k-1)}$, $b^k = b^{(k-1)}$.\n",
      "    - Definir $x^k = (a^k + b^k)/2$.\n",
      "    - k = k + 1\n",
      "    - Repetir"
     ]
    },
    {
     "cell_type": "heading",
     "level": 2,
     "metadata": {},
     "source": [
      "Ejemplo"
     ]
    },
    {
     "cell_type": "markdown",
     "metadata": {},
     "source": [
      "Por ejemplo la funci\u00f3n"
     ]
    },
    {
     "cell_type": "markdown",
     "metadata": {},
     "source": [
      "$$\n",
      "f(x) = x^2 -1\n",
      "$$"
     ]
    },
    {
     "cell_type": "code",
     "collapsed": false,
     "input": [
      "x = np.linspace(-0.5, 1.5, 100)\n",
      "y = x**2 - 1\n",
      "plt.plot(x, y, color=\"red\")\n",
      "ax = plt.gca()  \n",
      "ax.spines['right'].set_color('none')\n",
      "ax.spines['top'].set_color('none')\n",
      "ax.xaxis.set_ticks_position('bottom')\n",
      "ax.spines['bottom'].set_position(('data',0))\n",
      "ax.yaxis.set_ticks_position('left')\n",
      "ax.spines['left'].set_position(('data',0))"
     ],
     "language": "python",
     "metadata": {},
     "outputs": [
      {
       "metadata": {},
       "output_type": "display_data",
       "png": "[encoded data removed]",
       "text": [
        "<matplotlib.figure.Figure at 0x7f804dcc1490>"
       ]
      }
     ],
     "prompt_number": 2
    },
    {
     "cell_type": "heading",
     "level": 3,
     "metadata": {},
     "source": [
      "Funciones an\u00f3nimas"
     ]
    },
    {
     "cell_type": "markdown",
     "metadata": {},
     "source": [
      "Vamos a introducir el concepto de _funci\u00f3n an\u00f3nima_:"
     ]
    },
    {
     "cell_type": "code",
     "collapsed": false,
     "input": [
      "f = lambda x: x**2 -1 # Funci\u00f3n an\u00f3nima en GNU/Octave se definir\u00eda como f = @(x) x.^2 - 1"
     ],
     "language": "python",
     "metadata": {},
     "outputs": [],
     "prompt_number": 61
    },
    {
     "cell_type": "code",
     "collapsed": false,
     "input": [
      "f(-0.05)"
     ],
     "language": "python",
     "metadata": {},
     "outputs": [
      {
       "metadata": {},
       "output_type": "pyout",
       "prompt_number": 62,
       "text": [
        "-0.9975"
       ]
      }
     ],
     "prompt_number": 62
    },
    {
     "cell_type": "code",
     "collapsed": false,
     "input": [
      "f(-0.25)"
     ],
     "language": "python",
     "metadata": {},
     "outputs": [
      {
       "metadata": {},
       "output_type": "pyout",
       "prompt_number": 63,
       "text": [
        "-0.9375"
       ]
      }
     ],
     "prompt_number": 63
    },
    {
     "cell_type": "code",
     "collapsed": false,
     "input": [
      "f(1.25)"
     ],
     "language": "python",
     "metadata": {},
     "outputs": [
      {
       "metadata": {},
       "output_type": "pyout",
       "prompt_number": 64,
       "text": [
        "0.5625"
       ]
      }
     ],
     "prompt_number": 64
    },
    {
     "cell_type": "heading",
     "level": 3,
     "metadata": {},
     "source": [
      "Implementaci\u00f3n"
     ]
    },
    {
     "cell_type": "code",
     "collapsed": false,
     "input": [
      "def biseccion(func, a, b, stop):\n",
      "    x = (a + b)/2\n",
      "    \n",
      "    assert f(a)*f(b) < 0, \"El signo de la funci\u00f3n en los extremos deber\u00eda de ser diferente\"\n",
      "    assert f(a) != 0, \"La ra\u00edz es %.5f\" % a\n",
      "    assert f(b) != 0, \"La ra\u00edz es %.5f\" % b\n",
      "    \n",
      "    print \"%s\\t%12s\\t%12s\" % (\"k\", \"I(a,b)\", \"x\")\n",
      "    print \"%d\\tI(%.5f, %.5f)\\t%.5f\" % (0,a, b, x)\n",
      "    \n",
      "    for k in range(stop):        \n",
      "        f_x = f(x)\n",
      "        f_a = f(a)\n",
      "        f_b = f(b)        \n",
      "        \n",
      "        if(f_a*f_x < 0):\n",
      "            a, b = a, x\n",
      "        elif(f_x*f_b < 0):\n",
      "            a, b = x, b\n",
      "        x = (a+b)/2\n",
      "        \n",
      "        print \"%d\\tI(%.5f, %.5f)\\t%.12f\" % (k+1, a, b, x)"
     ],
     "language": "python",
     "metadata": {},
     "outputs": [],
     "prompt_number": 65
    },
    {
     "cell_type": "code",
     "collapsed": false,
     "input": [
      "biseccion(func = f, a = -0.25, b = 1.25, stop = 30)"
     ],
     "language": "python",
     "metadata": {},
     "outputs": [
      {
       "output_type": "stream",
       "stream": "stdout",
       "text": [
        "k\t      I(a,b)\t           x\n",
        "0\tI(-0.25000, 1.25000)\t0.50000\n",
        "1\tI(0.50000, 1.25000)\t0.875000000000\n",
        "2\tI(0.87500, 1.25000)\t1.062500000000\n",
        "3\tI(0.87500, 1.06250)\t0.968750000000\n",
        "4\tI(0.96875, 1.06250)\t1.015625000000\n",
        "5\tI(0.96875, 1.01562)\t0.992187500000\n",
        "6\tI(0.99219, 1.01562)\t1.003906250000\n",
        "7\tI(0.99219, 1.00391)\t0.998046875000\n",
        "8\tI(0.99805, 1.00391)\t1.000976562500\n",
        "9\tI(0.99805, 1.00098)\t0.999511718750\n",
        "10\tI(0.99951, 1.00098)\t1.000244140625\n",
        "11\tI(0.99951, 1.00024)\t0.999877929688\n",
        "12\tI(0.99988, 1.00024)\t1.000061035156\n",
        "13\tI(0.99988, 1.00006)\t0.999969482422\n",
        "14\tI(0.99997, 1.00006)\t1.000015258789\n",
        "15\tI(0.99997, 1.00002)\t0.999992370605\n",
        "16\tI(0.99999, 1.00002)\t1.000003814697\n",
        "17\tI(0.99999, 1.00000)\t0.999998092651\n",
        "18\tI(1.00000, 1.00000)\t1.000000953674\n",
        "19\tI(1.00000, 1.00000)\t0.999999523163\n",
        "20\tI(1.00000, 1.00000)\t1.000000238419\n",
        "21\tI(1.00000, 1.00000)\t0.999999880791\n",
        "22\tI(1.00000, 1.00000)\t1.000000059605\n",
        "23\tI(1.00000, 1.00000)\t0.999999970198\n",
        "24\tI(1.00000, 1.00000)\t1.000000014901\n",
        "25\tI(1.00000, 1.00000)\t0.999999992549\n",
        "26\tI(1.00000, 1.00000)\t1.000000003725\n",
        "27\tI(1.00000, 1.00000)\t0.999999998137\n",
        "28\tI(1.00000, 1.00000)\t1.000000000931\n",
        "29\tI(1.00000, 1.00000)\t0.999999999534\n",
        "30\tI(1.00000, 1.00000)\t1.000000000233\n"
       ]
      }
     ],
     "prompt_number": 66
    },
    {
     "cell_type": "heading",
     "level": 3,
     "metadata": {},
     "source": [
      "Ejercicio:Implementaci\u00f3n con `Numpy`"
     ]
    },
    {
     "cell_type": "markdown",
     "metadata": {},
     "source": [
      "Observa lo siguiente:"
     ]
    },
    {
     "cell_type": "code",
     "collapsed": false,
     "input": [
      "f(np.array([0,1,2]))"
     ],
     "language": "python",
     "metadata": {},
     "outputs": [
      {
       "ename": "TypeError",
       "evalue": "<lambda>() takes exactly 5 arguments (1 given)",
       "output_type": "pyerr",
       "traceback": [
        "\u001b[1;31m---------------------------------------------------------------------------\u001b[0m\n\u001b[1;31mTypeError\u001b[0m                                 Traceback (most recent call last)",
        "\u001b[1;32m<ipython-input-42-d1f53ba02bf6>\u001b[0m in \u001b[0;36m<module>\u001b[1;34m()\u001b[0m\n\u001b[1;32m----> 1\u001b[1;33m \u001b[0mf\u001b[0m\u001b[1;33m(\u001b[0m\u001b[0mnp\u001b[0m\u001b[1;33m.\u001b[0m\u001b[0marray\u001b[0m\u001b[1;33m(\u001b[0m\u001b[1;33m[\u001b[0m\u001b[1;36m0\u001b[0m\u001b[1;33m,\u001b[0m\u001b[1;36m1\u001b[0m\u001b[1;33m,\u001b[0m\u001b[1;36m2\u001b[0m\u001b[1;33m]\u001b[0m\u001b[1;33m)\u001b[0m\u001b[1;33m)\u001b[0m\u001b[1;33m\u001b[0m\u001b[0m\n\u001b[0m",
        "\u001b[1;31mTypeError\u001b[0m: <lambda>() takes exactly 5 arguments (1 given)"
       ]
      }
     ],
     "prompt_number": 42
    },
    {
     "cell_type": "markdown",
     "metadata": {},
     "source": [
      "<div class=\"alert alert-info\">\n",
      "**Ejercicio** Reescribe usando `numpy` la funci\u00f3n `biseccion`\n",
      "</div>"
     ]
    },
    {
     "cell_type": "code",
     "collapsed": false,
     "input": [
      "def biseccion_np(func,arr, stop):\n",
      "    a = arr[0]\n",
      "    b = arr[1]\n",
      "    x = (a + b)/2\n",
      "    f_a = f(arr)[0]\n",
      "    f_b = f(arr)[1] \n",
      "    \n",
      "    assert f_a*f_b < 0, \"El signo de la funci\u00f3n en los extremos deber\u00eda de ser diferente\"\n",
      "    assert f_a != 0, \"La ra\u00edz es %.5f\" % a\n",
      "    assert f_b != 0, \"La ra\u00edz es %.5f\" % b\n",
      "    \n",
      "    print \"%s\\t%12s\\t%12s\" % (\"k\", \"I(a,b)\", \"x\")\n",
      "    print \"%d\\tI(%.5f, %.5f)\\t%.5f\" % (0,a, b, x)\n",
      "    \n",
      "    for k in range(stop):\n",
      "        f_a = f(arr)[0]\n",
      "        f_b = f(arr)[1]\n",
      "        f_x = f(x)\n",
      "        \n",
      "        if(f_a*f_x < 0):\n",
      "            a, b = a, x\n",
      "        elif(f_x*f_b < 0):\n",
      "            a, b = x, b\n",
      "        x = (a+b)/2\n",
      "        \n",
      "        print \"%d\\tI(%.5f, %.5f)\\t%.12f\" % (k+1, a, b, x)"
     ],
     "language": "python",
     "metadata": {},
     "outputs": [],
     "prompt_number": 43
    },
    {
     "cell_type": "code",
     "collapsed": false,
     "input": [
      "biseccion_np(func = f, arr = np.array([-0.25, 1.25]), stop = 30)"
     ],
     "language": "python",
     "metadata": {},
     "outputs": [
      {
       "ename": "TypeError",
       "evalue": "<lambda>() takes exactly 5 arguments (1 given)",
       "output_type": "pyerr",
       "traceback": [
        "\u001b[1;31m---------------------------------------------------------------------------\u001b[0m\n\u001b[1;31mTypeError\u001b[0m                                 Traceback (most recent call last)",
        "\u001b[1;32m<ipython-input-44-24858fccc01c>\u001b[0m in \u001b[0;36m<module>\u001b[1;34m()\u001b[0m\n\u001b[1;32m----> 1\u001b[1;33m \u001b[0mbiseccion_np\u001b[0m\u001b[1;33m(\u001b[0m\u001b[0mfunc\u001b[0m \u001b[1;33m=\u001b[0m \u001b[0mf\u001b[0m\u001b[1;33m,\u001b[0m \u001b[0marr\u001b[0m \u001b[1;33m=\u001b[0m \u001b[0mnp\u001b[0m\u001b[1;33m.\u001b[0m\u001b[0marray\u001b[0m\u001b[1;33m(\u001b[0m\u001b[1;33m[\u001b[0m\u001b[1;33m-\u001b[0m\u001b[1;36m0.25\u001b[0m\u001b[1;33m,\u001b[0m \u001b[1;36m1.25\u001b[0m\u001b[1;33m]\u001b[0m\u001b[1;33m)\u001b[0m\u001b[1;33m,\u001b[0m \u001b[0mstop\u001b[0m \u001b[1;33m=\u001b[0m \u001b[1;36m30\u001b[0m\u001b[1;33m)\u001b[0m\u001b[1;33m\u001b[0m\u001b[0m\n\u001b[0m",
        "\u001b[1;32m<ipython-input-43-02c30561c807>\u001b[0m in \u001b[0;36mbiseccion_np\u001b[1;34m(func, arr, stop)\u001b[0m\n\u001b[0;32m      3\u001b[0m     \u001b[0mb\u001b[0m \u001b[1;33m=\u001b[0m \u001b[0marr\u001b[0m\u001b[1;33m[\u001b[0m\u001b[1;36m1\u001b[0m\u001b[1;33m]\u001b[0m\u001b[1;33m\u001b[0m\u001b[0m\n\u001b[0;32m      4\u001b[0m     \u001b[0mx\u001b[0m \u001b[1;33m=\u001b[0m \u001b[1;33m(\u001b[0m\u001b[0ma\u001b[0m \u001b[1;33m+\u001b[0m \u001b[0mb\u001b[0m\u001b[1;33m)\u001b[0m\u001b[1;33m/\u001b[0m\u001b[1;36m2\u001b[0m\u001b[1;33m\u001b[0m\u001b[0m\n\u001b[1;32m----> 5\u001b[1;33m     \u001b[0mf_a\u001b[0m \u001b[1;33m=\u001b[0m \u001b[0mf\u001b[0m\u001b[1;33m(\u001b[0m\u001b[0marr\u001b[0m\u001b[1;33m)\u001b[0m\u001b[1;33m[\u001b[0m\u001b[1;36m0\u001b[0m\u001b[1;33m]\u001b[0m\u001b[1;33m\u001b[0m\u001b[0m\n\u001b[0m\u001b[0;32m      6\u001b[0m     \u001b[0mf_b\u001b[0m \u001b[1;33m=\u001b[0m \u001b[0mf\u001b[0m\u001b[1;33m(\u001b[0m\u001b[0marr\u001b[0m\u001b[1;33m)\u001b[0m\u001b[1;33m[\u001b[0m\u001b[1;36m1\u001b[0m\u001b[1;33m]\u001b[0m\u001b[1;33m\u001b[0m\u001b[0m\n\u001b[0;32m      7\u001b[0m \u001b[1;33m\u001b[0m\u001b[0m\n",
        "\u001b[1;31mTypeError\u001b[0m: <lambda>() takes exactly 5 arguments (1 given)"
       ]
      }
     ],
     "prompt_number": 44
    },
    {
     "cell_type": "markdown",
     "metadata": {},
     "source": [
      "<div class=\"alert alert-info\">\n",
      "**Ejercicio** Reescribe usando `GNU/Octave` la funci\u00f3n `biseccion` usando la celda que sigue. Abre el `docker` de `GNU/Octave` y prueba el algoritmo.\n",
      "</div>"
     ]
    },
    {
     "cell_type": "markdown",
     "metadata": {},
     "source": [
      "\n",
      "> % Pon aqu\u00ed el c\u00f3digo en GNU/Octave\n",
      "\n",
      ">function [raiz] = biseccion(func,a, b, stop)\n",
      ">    ...\n",
      ">\n",
      ">    raiz = \n",
      ">    % fin de la funci\u00f3n"
     ]
    },
    {
     "cell_type": "markdown",
     "metadata": {},
     "source": [
      "Se puede invocar desde la consola de `octave` como\n",
      "\n",
      "> [raiz, k ] = biseccion(func, a, b, stop)"
     ]
    },
    {
     "cell_type": "heading",
     "level": 2,
     "metadata": {},
     "source": [
      "Una mejor manera de detenerse"
     ]
    },
    {
     "cell_type": "markdown",
     "metadata": {},
     "source": [
      "Ser\u00eda mejor detenerse no con un `stop`, si no cuando la soluci\u00f3n est\u00e9 lo suficientemente cerca de la soluci\u00f3n real."
     ]
    },
    {
     "cell_type": "markdown",
     "metadata": {},
     "source": [
      "N\u00f3tese que en cada paso, la norma del intervalo es\n",
      "\n",
      "$$\n",
      "|I^{(k)}| \\equiv b^k - a^k\n",
      "$$\n",
      "\n",
      "contiene a la ra\u00edz $r$."
     ]
    },
    {
     "cell_type": "markdown",
     "metadata": {},
     "source": [
      "Por cada iteraci\u00f3n $k$, la norma se divide por $2$:\n",
      "\n",
      "$$\n",
      "|I^{(k)}| = \\left(\\frac{1}{2}\\right)^k |I^0|\n",
      "$$"
     ]
    },
    {
     "cell_type": "markdown",
     "metadata": {},
     "source": [
      "Entonces, si definimos el _error_ como \n",
      "\n",
      "$$\n",
      "|e^k| \\equiv |x^k - r| \n",
      "$$\n",
      "\n",
      "tenemos que\n",
      "\n",
      "$$\n",
      "|e^k| < \\frac{1}{2}|I^k| = \\left(\\frac{1}{2}\\right)^{k+1} (b-a)\n",
      "$$"
     ]
    },
    {
     "cell_type": "markdown",
     "metadata": {},
     "source": [
      "Para garantizar que $|e^k| < tol$, donde $tol$ es la tolerancia deseada, basta con llevar a cabo $k_{min}$  iteraciones, donde\n",
      "\n",
      "$$\n",
      "k_{min} > log_2\\left(\\frac{b-a}{tol}\\right) - 1\n",
      "$$"
     ]
    },
    {
     "cell_type": "code",
     "collapsed": false,
     "input": [
      "def biseccion(func, a, b, tolerancia, stop):\n",
      "    k = 0\n",
      "    \n",
      "    x = (a + b)/2\n",
      "    \n",
      "    I = (b - a)/2\n",
      "    \n",
      "    assert f(a)*f(b) < 0, \"El signo de la funci\u00f3n en los extremos deber\u00eda de ser diferente\"\n",
      "    assert f(a) != 0, \"La ra\u00edz es %.5f\" % a\n",
      "    assert f(b) != 0, \"La ra\u00edz es %.5f\" % b\n",
      "    \n",
      "    print \"%s\\t%12s\\t%12s\" % (\"k\",\"I(a,b)\", \"x\")\n",
      "    print \"%s\\tI(%.5f, %.5f)\\t%.5f\" % (\"0\",a, b, x)\n",
      "    \n",
      "    while I >= tolerancia and k <= stop:\n",
      "        k = k + 1\n",
      "        \n",
      "        f_x = f(x)\n",
      "        f_a = f(a)\n",
      "        f_b = f(b)        \n",
      "        \n",
      "        \n",
      "        if(f_a*f_x < 0):\n",
      "            a, b = a, x\n",
      "        elif(f_x*f_b < 0):\n",
      "            a, b = x, b\n",
      "        \n",
      "        x = (a+b)/2\n",
      "        \n",
      "        I = (b - a)/2\n",
      "        \n",
      "        print \"%d\\tI(%.5f, %.5f)\\t%.12f\" % (k,a, b, x)"
     ],
     "language": "python",
     "metadata": {},
     "outputs": [],
     "prompt_number": 45
    },
    {
     "cell_type": "code",
     "collapsed": false,
     "input": [
      "biseccion(func = f, a = -0.25, b = 1.25, tolerancia = 1e-4, stop = 100)"
     ],
     "language": "python",
     "metadata": {},
     "outputs": [
      {
       "ename": "TypeError",
       "evalue": "<lambda>() takes exactly 5 arguments (1 given)",
       "output_type": "pyerr",
       "traceback": [
        "\u001b[1;31m---------------------------------------------------------------------------\u001b[0m\n\u001b[1;31mTypeError\u001b[0m                                 Traceback (most recent call last)",
        "\u001b[1;32m<ipython-input-46-ef2e304cf9d6>\u001b[0m in \u001b[0;36m<module>\u001b[1;34m()\u001b[0m\n\u001b[1;32m----> 1\u001b[1;33m \u001b[0mbiseccion\u001b[0m\u001b[1;33m(\u001b[0m\u001b[0mfunc\u001b[0m \u001b[1;33m=\u001b[0m \u001b[0mf\u001b[0m\u001b[1;33m,\u001b[0m \u001b[0ma\u001b[0m \u001b[1;33m=\u001b[0m \u001b[1;33m-\u001b[0m\u001b[1;36m0.25\u001b[0m\u001b[1;33m,\u001b[0m \u001b[0mb\u001b[0m \u001b[1;33m=\u001b[0m \u001b[1;36m1.25\u001b[0m\u001b[1;33m,\u001b[0m \u001b[0mtolerancia\u001b[0m \u001b[1;33m=\u001b[0m \u001b[1;36m1e-4\u001b[0m\u001b[1;33m,\u001b[0m \u001b[0mstop\u001b[0m \u001b[1;33m=\u001b[0m \u001b[1;36m100\u001b[0m\u001b[1;33m)\u001b[0m\u001b[1;33m\u001b[0m\u001b[0m\n\u001b[0m",
        "\u001b[1;32m<ipython-input-45-c309adad0db6>\u001b[0m in \u001b[0;36mbiseccion\u001b[1;34m(func, a, b, tolerancia, stop)\u001b[0m\n\u001b[0;32m      6\u001b[0m     \u001b[0mI\u001b[0m \u001b[1;33m=\u001b[0m \u001b[1;33m(\u001b[0m\u001b[0mb\u001b[0m \u001b[1;33m-\u001b[0m \u001b[0ma\u001b[0m\u001b[1;33m)\u001b[0m\u001b[1;33m/\u001b[0m\u001b[1;36m2\u001b[0m\u001b[1;33m\u001b[0m\u001b[0m\n\u001b[0;32m      7\u001b[0m \u001b[1;33m\u001b[0m\u001b[0m\n\u001b[1;32m----> 8\u001b[1;33m     \u001b[1;32massert\u001b[0m \u001b[0mf\u001b[0m\u001b[1;33m(\u001b[0m\u001b[0ma\u001b[0m\u001b[1;33m)\u001b[0m\u001b[1;33m*\u001b[0m\u001b[0mf\u001b[0m\u001b[1;33m(\u001b[0m\u001b[0mb\u001b[0m\u001b[1;33m)\u001b[0m \u001b[1;33m<\u001b[0m \u001b[1;36m0\u001b[0m\u001b[1;33m,\u001b[0m \u001b[1;34m\"El signo de la funci\u00f3n en los extremos deber\u00eda de ser diferente\"\u001b[0m\u001b[1;33m\u001b[0m\u001b[0m\n\u001b[0m\u001b[0;32m      9\u001b[0m     \u001b[1;32massert\u001b[0m \u001b[0mf\u001b[0m\u001b[1;33m(\u001b[0m\u001b[0ma\u001b[0m\u001b[1;33m)\u001b[0m \u001b[1;33m!=\u001b[0m \u001b[1;36m0\u001b[0m\u001b[1;33m,\u001b[0m \u001b[1;34m\"La ra\u00edz es %.5f\"\u001b[0m \u001b[1;33m%\u001b[0m \u001b[0ma\u001b[0m\u001b[1;33m\u001b[0m\u001b[0m\n\u001b[0;32m     10\u001b[0m     \u001b[1;32massert\u001b[0m \u001b[0mf\u001b[0m\u001b[1;33m(\u001b[0m\u001b[0mb\u001b[0m\u001b[1;33m)\u001b[0m \u001b[1;33m!=\u001b[0m \u001b[1;36m0\u001b[0m\u001b[1;33m,\u001b[0m \u001b[1;34m\"La ra\u00edz es %.5f\"\u001b[0m \u001b[1;33m%\u001b[0m \u001b[0mb\u001b[0m\u001b[1;33m\u001b[0m\u001b[0m\n",
        "\u001b[1;31mTypeError\u001b[0m: <lambda>() takes exactly 5 arguments (1 given)"
       ]
      }
     ],
     "prompt_number": 46
    },
    {
     "cell_type": "markdown",
     "metadata": {},
     "source": [
      "<div class=\"alert alert-info\">\n",
      "**Ejercicio** Reescribe usando `numpy` la funci\u00f3n `biseccion`\n",
      "</div>"
     ]
    },
    {
     "cell_type": "markdown",
     "metadata": {},
     "source": [
      "<div class=\"alert alert-info\">\n",
      "**Ejercicio** Reescribe usando `GNU/Octave` la funci\u00f3n `biseccion` usando la celda que sigue. Abre el `docker` de `GNU/Octave` y prueba el algoritmo.\n",
      "</div>"
     ]
    },
    {
     "cell_type": "heading",
     "level": 2,
     "metadata": {},
     "source": [
      "M\u00e9todo de Newton"
     ]
    },
    {
     "cell_type": "markdown",
     "metadata": {},
     "source": [
      "Podemos dise\u00f1ar un algoritmo m\u00e1s eficiente que el **m\u00e9todo de la bisecci\u00f3n** si incorporamos m\u00e1s informaci\u00f3n que el cambio de signo de $f$. En el **m\u00e9todo de Newton** se incorpora el valor de $f(x)$ y el valor de la derivada de $f$: $f'(x)$. La ecuaci\u00f3n de la tangente a la funci\u00f3n $f$ en $x$ es:"
     ]
    },
    {
     "cell_type": "markdown",
     "metadata": {},
     "source": [
      "$$\n",
      "y(x) = f(x^{(k)}) + f'(x^{(k)})\\cdot(x-x^{(k)})\n",
      "$$"
     ]
    },
    {
     "cell_type": "markdown",
     "metadata": {},
     "source": [
      "Entonces, si $y(x^{(k+1)}) = 0$, tenemos:"
     ]
    },
    {
     "cell_type": "markdown",
     "metadata": {},
     "source": [
      "$$\n",
      "x^{(k+1)} = x^{(k)} - \\frac{f({(k)})}{f'(x^{(k)})}, \\qquad k \\geq 0, \\quad f'(x^{(k)}) \\neq 0\n",
      "$$"
     ]
    },
    {
     "cell_type": "markdown",
     "metadata": {},
     "source": [
      "<div class=\"alert alert-info\">\n",
      "**Ejercicio**: \u00bfCu\u00e1l es la serie de Taylor de $f$ alrededor de un punto cualesquiera $x$? \u00bfQu\u00e9 te dice esto de la ecuaci\u00f3n iterativa de Newton?\n",
      "</div>"
     ]
    },
    {
     "cell_type": "markdown",
     "metadata": {},
     "source": [
      "<div class=\"alert alert-danger\">\n",
      "**NOTA** En general el m\u00e9todo de Newton no converge para todas las posibles elecciones de $x^0$, si no para aquellos valores lo _suficientemente_ cerca de $r$...\n",
      "</div>"
     ]
    },
    {
     "cell_type": "markdown",
     "metadata": {},
     "source": [
      "<div class=\"alert alert-warning\">\n",
      "**NOTA** En la pr\u00e1ctica uno puede establecer $x^0$ inspeccionando la gr\u00e1fica visualmente, o usando unas cuantas iteraciones del m\u00e9todo de la bisecci\u00f3n...\n",
      "</div>"
     ]
    },
    {
     "cell_type": "code",
     "collapsed": false,
     "input": [
      "import sympy as sym"
     ],
     "language": "python",
     "metadata": {},
     "outputs": [],
     "prompt_number": 2
    },
    {
     "cell_type": "code",
     "collapsed": false,
     "input": [
      "x = sym.Symbol('x')"
     ],
     "language": "python",
     "metadata": {},
     "outputs": [],
     "prompt_number": 48
    },
    {
     "cell_type": "code",
     "collapsed": false,
     "input": [
      "x"
     ],
     "language": "python",
     "metadata": {},
     "outputs": [
      {
       "metadata": {},
       "output_type": "pyout",
       "prompt_number": 49,
       "text": [
        "x"
       ]
      }
     ],
     "prompt_number": 49
    },
    {
     "cell_type": "code",
     "collapsed": false,
     "input": [
      "f =  x**2 - 1"
     ],
     "language": "python",
     "metadata": {},
     "outputs": [],
     "prompt_number": 50
    },
    {
     "cell_type": "code",
     "collapsed": false,
     "input": [
      "df = sym.diff(f, x)"
     ],
     "language": "python",
     "metadata": {},
     "outputs": [],
     "prompt_number": 51
    },
    {
     "cell_type": "code",
     "collapsed": false,
     "input": [
      "F = sym.lambdify(x,f, modules=\"numpy\")"
     ],
     "language": "python",
     "metadata": {},
     "outputs": [],
     "prompt_number": 52
    },
    {
     "cell_type": "code",
     "collapsed": false,
     "input": [
      "F"
     ],
     "language": "python",
     "metadata": {},
     "outputs": [
      {
       "metadata": {},
       "output_type": "pyout",
       "prompt_number": 53,
       "text": [
        "<function numpy.<lambda>>"
       ]
      }
     ],
     "prompt_number": 53
    },
    {
     "cell_type": "code",
     "collapsed": false,
     "input": [
      "F(0)"
     ],
     "language": "python",
     "metadata": {},
     "outputs": [
      {
       "metadata": {},
       "output_type": "pyout",
       "prompt_number": 54,
       "text": [
        "-1"
       ]
      }
     ],
     "prompt_number": 54
    },
    {
     "cell_type": "code",
     "collapsed": false,
     "input": [
      "DF = sym.lambdify(x, df, modules=\"numpy\")"
     ],
     "language": "python",
     "metadata": {},
     "outputs": [],
     "prompt_number": 55
    },
    {
     "cell_type": "code",
     "collapsed": false,
     "input": [
      "DF(1)"
     ],
     "language": "python",
     "metadata": {},
     "outputs": [
      {
       "metadata": {},
       "output_type": "pyout",
       "prompt_number": 56,
       "text": [
        "2"
       ]
      }
     ],
     "prompt_number": 56
    },
    {
     "cell_type": "code",
     "collapsed": false,
     "input": [
      "def newtonRaphson(func, dFunc, x0, tolerancia, stop):\n",
      "    k=0\n",
      "    while k <= stop:\n",
      "        k = k + 1\n",
      "        x1 = x0 - (func(x0)/dFunc(x0))\n",
      "        print x1, k\n",
      "        if x1 - x0 < tolerancia:\n",
      "            return x1\n",
      "        else:\n",
      "            x0 = x1\n",
      "    print \"El valor es: \", x0"
     ],
     "language": "python",
     "metadata": {},
     "outputs": [],
     "prompt_number": 57
    },
    {
     "cell_type": "code",
     "collapsed": false,
     "input": [
      "newtonRaphson(F, DF, -0.3, 1e-10, 100)"
     ],
     "language": "python",
     "metadata": {},
     "outputs": [
      {
       "output_type": "stream",
       "stream": "stdout",
       "text": [
        "-1.81666666667 1\n"
       ]
      },
      {
       "metadata": {},
       "output_type": "pyout",
       "prompt_number": 58,
       "text": [
        "-1.8166666666666669"
       ]
      }
     ],
     "prompt_number": 58
    },
    {
     "cell_type": "heading",
     "level": 2,
     "metadata": {},
     "source": [
      "Problema / Tarea"
     ]
    },
    {
     "cell_type": "markdown",
     "metadata": {},
     "source": [
      "<div class=\"alert alert-warning\">\n",
      "El problema siguiente fu\u00e9 tomado del libro **Applied Numerical Methods with Matlab for Engineers and Scientists** de _Steven C. Chapra_\n",
      "</div>"
     ]
    },
    {
     "cell_type": "markdown",
     "metadata": {},
     "source": [
      "Estudios m\u00e9dicos han determinado que un usuario del _bungee_ puede sufrir una lesi\u00f3n seria de las v\u00e9rtebras su la velocidad de ca\u00edda libre excede los $v = 36\\ m/s$ luego de $t= 4\\ s$ de ca\u00edda. Se te pide calcular la masa $m$ m\u00e1xima a la cual se cumple esta velocidad si se supone un coeficiente de arrastre de $c_d = 0.25\\ kg/m$."
     ]
    },
    {
     "cell_type": "markdown",
     "metadata": {},
     "source": [
      "La soluci\u00f3n anal\u00edtica es\n",
      "\n",
      "$$\n",
      "v(t) = \\sqrt{\\frac{g m}{c_d}}\\tanh\\left(\\sqrt{\\frac{g c_d}{m}}t\\right)\n",
      "$$"
     ]
    },
    {
     "cell_type": "markdown",
     "metadata": {},
     "source": [
      "Podemos usar lo aprendido en esta secci\u00f3n y replantear el problema de la siguiente manera:\n",
      "\n",
      "$$\n",
      "f(m) = \\sqrt{\\frac{g m}{c_d}}\\tanh\\left(\\sqrt{\\frac{g c_d}{m}}t\\right) - v(t)\n",
      "$$"
     ]
    },
    {
     "cell_type": "code",
     "collapsed": false,
     "input": [
      "v = 36\n",
      "t = 4\n",
      "c = 0.25\n",
      "g = 9.8\n",
      "\n",
      "fm = lambda g, m, c, t, v: (np.sqrt(g*m/c))*(np.tanh((np.sqrt(g*c/m))*t)) - v"
     ],
     "language": "python",
     "metadata": {},
     "outputs": [],
     "prompt_number": 94
    },
    {
     "cell_type": "code",
     "collapsed": false,
     "input": [
      "m = np.linspace(0, 2000,1000)\n",
      "y = fm(9.8,m,0.25,4,36)\n",
      "plt.plot(m, y, color=\"blue\")\n",
      "plt.grid()\n"
     ],
     "language": "python",
     "metadata": {},
     "outputs": [
      {
       "metadata": {},
       "output_type": "display_data",
       "png": "[encoded data removed]",
       "text": [
        "<matplotlib.figure.Figure at 0x7f54e31bda10>"
       ]
      }
     ],
     "prompt_number": 95
    },
    {
     "cell_type": "heading",
     "level": 2,
     "metadata": {},
     "source": [
      "M\u00e9todo de Newton"
     ]
    },
    {
     "cell_type": "markdown",
     "metadata": {},
     "source": [
      "Podemos dise\u00f1ar un algoritmo m\u00e1s eficiente que el **m\u00e9todo de la bisecci\u00f3n** si incorporamos m\u00e1s informaci\u00f3n que el cambio de signo de $f$. En el **m\u00e9todo de Newton** se incorpora el valor de $f(x)$ y el valor de la derivada de $f$: $f'(x)$. La ecuaci\u00f3n de la tangente a la funci\u00f3n $f$ en $x$ es:"
     ]
    },
    {
     "cell_type": "markdown",
     "metadata": {},
     "source": [
      "$$\n",
      "y(x) = f(x^{(k)}) + f'(x^{(k)})\\cdot(x-x^{(k)})\n",
      "$$"
     ]
    },
    {
     "cell_type": "markdown",
     "metadata": {},
     "source": [
      "Entonces, si $y(x^{(k+1)}) = 0$, tenemos:"
     ]
    },
    {
     "cell_type": "markdown",
     "metadata": {},
     "source": [
      "$$\n",
      "x^{(k+1)} = x^{(k)} - \\frac{f({(k)})}{f'(x^{(k)})}, \\qquad k \\geq 0, \\quad f'(x^{(k)}) \\neq 0\n",
      "$$"
     ]
    },
    {
     "cell_type": "markdown",
     "metadata": {},
     "source": [
      "<div class=\"alert alert-danger\">\n",
      "**NOTA** En general el m\u00e9todo de Newton no converge para todas las posibles elecciones de $x^0$, si no para aquellos valores lo _suficientemente_ cerca de $r$...\n",
      "</div>"
     ]
    },
    {
     "cell_type": "markdown",
     "metadata": {},
     "source": [
      "<div class=\"alert alert-warning\">\n",
      "**NOTA** En la pr\u00e1ctica uno puede establecer $x^0$ inspeccionando la gr\u00e1fica visualmente, o usando unas cuantas iteraciones del m\u00e9todo de la bisecci\u00f3n...\n",
      "</div>"
     ]
    },
    {
     "cell_type": "markdown",
     "metadata": {},
     "source": [
      "Antes de continuar, veamos algunas cosas relacionadas con el c\u00e1lculo simb\u00f3lico..."
     ]
    },
    {
     "cell_type": "code",
     "collapsed": false,
     "input": [
      "#################################################################################\n",
      "##  Usaremos las siguientes librer\u00edas:\n",
      "##    symbols,  # Define los s\u00edmbolos matem\u00e1ticos\n",
      "##    diff,     # Deriva expresiones\n",
      "##    integrate,# Integra expresiones\n",
      "##    Rational, # Define los n\u00fameros racionales\n",
      "##    lambdify  # Convierte las expresiones simb\u00f3licas en funciones de Python\n",
      "#################################################################################\n",
      "\n",
      "import sympy as sym\n",
      "\n",
      "# Para que se vean bonitas\n",
      "from sympy.interactive import printing\n",
      "printing.init_printing(use_latex=True)"
     ],
     "language": "python",
     "metadata": {},
     "outputs": [],
     "prompt_number": 3
    },
    {
     "cell_type": "code",
     "collapsed": false,
     "input": [
      "x = sym.Symbol('x')"
     ],
     "language": "python",
     "metadata": {},
     "outputs": [],
     "prompt_number": 238
    },
    {
     "cell_type": "code",
     "collapsed": false,
     "input": [
      "x"
     ],
     "language": "python",
     "metadata": {},
     "outputs": [
      {
       "latex": [
        "$$x$$"
       ],
       "metadata": {},
       "output_type": "pyout",
       "png": "[encoded data removed]",
       "prompt_number": 239,
       "text": [
        "x"
       ]
      }
     ],
     "prompt_number": 239
    },
    {
     "cell_type": "code",
     "collapsed": false,
     "input": [
      "f =  x**2 - 1\n",
      "f"
     ],
     "language": "python",
     "metadata": {},
     "outputs": [
      {
       "latex": [
        "$$x^{2} - 1$$"
       ],
       "metadata": {},
       "output_type": "pyout",
       "png": "[encoded data removed]",
       "prompt_number": 240,
       "text": [
        " 2    \n",
        "x  - 1"
       ]
      }
     ],
     "prompt_number": 240
    },
    {
     "cell_type": "code",
     "collapsed": false,
     "input": [
      "type(f).__bases__"
     ],
     "language": "python",
     "metadata": {},
     "outputs": [
      {
       "metadata": {},
       "output_type": "pyout",
       "prompt_number": 241,
       "text": [
        "(sympy.core.expr.Expr, sympy.core.operations.AssocOp)"
       ]
      }
     ],
     "prompt_number": 241
    },
    {
     "cell_type": "code",
     "collapsed": false,
     "input": [
      "type(f).__bases__[0]  in (sym.expr.Expr, sym.operations.AssocOp)"
     ],
     "language": "python",
     "metadata": {},
     "outputs": [
      {
       "metadata": {},
       "output_type": "pyout",
       "prompt_number": 242,
       "text": [
        "True"
       ]
      }
     ],
     "prompt_number": 242
    },
    {
     "cell_type": "code",
     "collapsed": false,
     "input": [
      "df = sym.diff(f, x)\n",
      "df"
     ],
     "language": "python",
     "metadata": {},
     "outputs": [
      {
       "latex": [
        "$$2 x$$"
       ],
       "metadata": {},
       "output_type": "pyout",
       "png": "[encoded data removed]",
       "prompt_number": 243,
       "text": [
        "2\u22c5x"
       ]
      }
     ],
     "prompt_number": 243
    },
    {
     "cell_type": "code",
     "collapsed": false,
     "input": [
      "F = sym.lambdify(x,f, modules=\"numpy\")"
     ],
     "language": "python",
     "metadata": {},
     "outputs": [],
     "prompt_number": 244
    },
    {
     "cell_type": "code",
     "collapsed": false,
     "input": [
      "F"
     ],
     "language": "python",
     "metadata": {},
     "outputs": [
      {
       "metadata": {},
       "output_type": "pyout",
       "prompt_number": 245,
       "text": [
        "<function numpy.<lambda>>"
       ]
      }
     ],
     "prompt_number": 245
    },
    {
     "cell_type": "code",
     "collapsed": false,
     "input": [
      "F(-0.3)"
     ],
     "language": "python",
     "metadata": {},
     "outputs": [
      {
       "latex": [
        "$$-0.91$$"
       ],
       "metadata": {},
       "output_type": "pyout",
       "png": "[encoded data removed]",
       "prompt_number": 257,
       "text": [
        "-0.91"
       ]
      }
     ],
     "prompt_number": 257
    },
    {
     "cell_type": "code",
     "collapsed": false,
     "input": [
      "DF = sym.lambdify(x, df, modules=\"numpy\")"
     ],
     "language": "python",
     "metadata": {},
     "outputs": [],
     "prompt_number": 84
    },
    {
     "cell_type": "code",
     "collapsed": false,
     "input": [
      "DF(1)"
     ],
     "language": "python",
     "metadata": {},
     "outputs": [
      {
       "latex": [
        "$$2$$"
       ],
       "metadata": {},
       "output_type": "pyout",
       "png": "[encoded data removed]",
       "prompt_number": 85,
       "text": [
        "2"
       ]
      }
     ],
     "prompt_number": 85
    },
    {
     "cell_type": "code",
     "collapsed": false,
     "input": [
      "def newton(f, x0, tolerancia, stop):\n",
      "    assert type(f).__bases__[0]  in (sym.expr.Expr, sym.operations.AssocOp), \"La funci\u00f3n no es una expresi\u00f3n simb\u00f3lica ... :/\"\n",
      "    \n",
      "    # Derivamos la expresi\u00f3n\n",
      "    df = sym.diff(f, x)\n",
      "    \n",
      "    # Convertimos en funciones las expresiones\n",
      "    F = sym.lambdify(x,f, modules=\"numpy\")\n",
      "    DF = sym.lambdify(x, df, modules=\"numpy\")\n",
      "    \n",
      "    # Inicializamos el contador\n",
      "    k = 0\n",
      "    \n",
      "    # Inicializamos abs(x1-x0) en un n\u00famero mayor que la tolerancia\n",
      "    diff = 1\n",
      "    print \"{: >5} {: >10} {: >10} {: >10} {: >11} {: >10}\".format(\"k\", \"x0\", \"F(x0)\", \"DF(x0)\", \"abs(x1-x0)\", \"x1\")\n",
      "    \n",
      "    while diff >= tolerancia and k <= stop:\n",
      "        k = k + 1\n",
      "\n",
      "        x1 = x0 - (float(F(x0)/DF(x0)))\n",
      "        print \"{: >5} {: >10.5f} {: >10.5f} {: >10.5f} {: >10.5f} {: >11.5f}\".format(k, x0, F(x0), DF(x0), diff, x1)\n",
      "        \n",
      "        diff = abs(x1 - x0)\n",
      "        \n",
      "        x0 = x1\n",
      "        \n",
      "    if k > stop:\n",
      "        print \"El m\u00e9todo de Newton no convergi\u00f3: para la tolerancia especificada, se alcanzaron el m\u00e1ximo n\u00famero de iteraciones\"\n",
      "    \n",
      "    print \"\\n\\nLa ra\u00edz es %2.12f\" % x0"
     ],
     "language": "python",
     "metadata": {},
     "outputs": [],
     "prompt_number": 4
    },
    {
     "cell_type": "code",
     "collapsed": false,
     "input": [
      "newton(f, x0=0.3, tolerancia=1e-12, stop=100)"
     ],
     "language": "python",
     "metadata": {},
     "outputs": [
      {
       "output_type": "stream",
       "stream": "stdout",
       "text": [
        "    k         x0      F(x0)     DF(x0)  abs(x1-x0)         x1\n",
        "    1    0.30000   -0.91000    0.60000    1.00000     1.81667\n",
        "    2    1.81667    2.30028    3.63333    1.51667     1.18356\n",
        "    3    1.18356    0.40082    2.36713    0.63310     1.01423\n",
        "    4    1.01423    0.02867    2.02847    0.16933     1.00010\n",
        "    5    1.00010    0.00020    2.00020    0.01413     1.00000\n",
        "    6    1.00000    0.00000    2.00000    0.00010     1.00000\n",
        "    7    1.00000    0.00000    2.00000    0.00000     1.00000\n",
        "\n",
        "\n",
        "La ra\u00edz es 1.000000000000\n"
       ]
      }
     ],
     "prompt_number": 268
    },
    {
     "cell_type": "markdown",
     "metadata": {},
     "source": [
      "<div class=\"alert alert-warning\">\n",
      "**NOTA**: Para entender el formato de impresi\u00f3n usado, lee esta [p\u00e1gina](https://docs.python.org/2.7/library/string.html#format-specification-mini-language).\n",
      "</div>"
     ]
    },
    {
     "cell_type": "code",
     "collapsed": false,
     "input": [
      "m = sym.Symbol('m')\n",
      "\n",
      "m"
     ],
     "language": "python",
     "metadata": {},
     "outputs": [
      {
       "latex": [
        "$$m$$"
       ],
       "metadata": {},
       "output_type": "pyout",
       "png": "[encoded data removed]",
       "prompt_number": 5,
       "text": [
        "m"
       ]
      }
     ],
     "prompt_number": 5
    },
    {
     "cell_type": "code",
     "collapsed": false,
     "input": [
      "import math\n",
      "v = 36\n",
      "t = 4\n",
      "c = 0.25\n",
      "g = 9.8\n",
      "\n",
      "fm = (sym.sqrt(g*m/c))*(sym.tanh((sym.sqrt(g*c/m))*t)) - v\n",
      "fm"
     ],
     "language": "python",
     "metadata": {},
     "outputs": [
      {
       "latex": [
        "$$6.26099033699941 \\sqrt{m} \\tanh{\\left (6.26099033699941 \\sqrt{\\frac{1}{m}} \\right )} - 36$$"
       ],
       "metadata": {},
       "output_type": "pyout",
       "png": "[encoded data removed]",
       "prompt_number": 6,
       "text": [
        "                           \u239b                     ___\u239e     \n",
        "                   ___     \u239c                    \u2571 1 \u239f     \n",
        "6.26099033699941\u22c5\u2572\u2571 m \u22c5tanh\u239c6.26099033699941\u22c5  \u2571  \u2500 \u239f - 36\n",
        "                           \u239d                 \u2572\u2571   m \u23a0     "
       ]
      }
     ],
     "prompt_number": 6
    },
    {
     "cell_type": "code",
     "collapsed": false,
     "input": [
      "Fm = sym.lambdify(m, fm, modules=\"numpy\")\n",
      "Fm"
     ],
     "language": "python",
     "metadata": {},
     "outputs": [
      {
       "metadata": {},
       "output_type": "pyout",
       "prompt_number": 7,
       "text": [
        "<function numpy.<lambda>>"
       ]
      }
     ],
     "prompt_number": 7
    },
    {
     "cell_type": "code",
     "collapsed": false,
     "input": [
      "Fm(144.412)"
     ],
     "language": "python",
     "metadata": {},
     "outputs": [
      {
       "latex": [
        "$$0.00010608760234$$"
       ],
       "metadata": {},
       "output_type": "pyout",
       "png": "[encoded data removed]",
       "prompt_number": 8,
       "text": [
        "0.00010608760234"
       ]
      }
     ],
     "prompt_number": 8
    },
    {
     "cell_type": "code",
     "collapsed": false,
     "input": [
      "def sym_newton(f, x0, tolerancia, stop):\n",
      "    assert type(f).__bases__[0]  in (sym.expr.Expr, sym.operations.AssocOp), \"La funci\u00f3n no es una expresi\u00f3n simb\u00f3lica ... :/\"\n",
      "    \n",
      "    # Derivamos la expresi\u00f3n\n",
      "    df = sym.diff(f, m)\n",
      "    \n",
      "    # Convertimos en funciones las expresiones\n",
      "    F = sym.lambdify(m,f, modules=\"numpy\")\n",
      "    DF = sym.lambdify(m, df, modules=\"numpy\")\n",
      "       \n",
      "    # Inicializamos el contador\n",
      "    k = 0\n",
      "    \n",
      "    # Inicializamos abs(x1-x0) en un n\u00famero mayor que la tolerancia\n",
      "    diff = 1\n",
      "    print \"{: >5} {: >10} {: >10} {: >10} {: >11} {: >10}\".format(\"k\", \"x0\", \"F(x0)\", \"DF(x0)\", \"abs(x1-x0)\", \"x1\")\n",
      "    \n",
      "    while diff >= tolerancia and k <= stop:\n",
      "        k = k + 1\n",
      "\n",
      "        x1 = x0 - (float(F(x0)/DF(x0)))\n",
      "        print \"{: >5} {: >10.5f} {: >10.5f} {: >10.5f} {: >10.5f} {: >11.5f}\".format(k, x0, F(x0), DF(x0), diff, x1)\n",
      "        \n",
      "        diff = abs(x1 - x0)\n",
      "        \n",
      "        x0 = x1\n",
      "        \n",
      "    if k > stop:\n",
      "        print \"El m\u00e9todo de Newton no convergi\u00f3: para la tolerancia especificada, se alcanzaron el m\u00e1ximo n\u00famero de iteraciones\"\n",
      "    \n",
      "    print \"\\n\\nLa ra\u00edz es %2.12f\" % x0"
     ],
     "language": "python",
     "metadata": {},
     "outputs": [],
     "prompt_number": 9
    },
    {
     "cell_type": "code",
     "collapsed": false,
     "input": [
      "newton(fm, x0=150, tolerancia=1e-8, stop=100)"
     ],
     "language": "python",
     "metadata": {},
     "outputs": [
      {
       "ename": "NameError",
       "evalue": "global name 'x' is not defined",
       "output_type": "pyerr",
       "traceback": [
        "\u001b[1;31m---------------------------------------------------------------------------\u001b[0m\n\u001b[1;31mNameError\u001b[0m                                 Traceback (most recent call last)",
        "\u001b[1;32m<ipython-input-10-61dc4505d785>\u001b[0m in \u001b[0;36m<module>\u001b[1;34m()\u001b[0m\n\u001b[1;32m----> 1\u001b[1;33m \u001b[0mnewton\u001b[0m\u001b[1;33m(\u001b[0m\u001b[0mfm\u001b[0m\u001b[1;33m,\u001b[0m \u001b[0mx0\u001b[0m\u001b[1;33m=\u001b[0m\u001b[1;36m150\u001b[0m\u001b[1;33m,\u001b[0m \u001b[0mtolerancia\u001b[0m\u001b[1;33m=\u001b[0m\u001b[1;36m1e-8\u001b[0m\u001b[1;33m,\u001b[0m \u001b[0mstop\u001b[0m\u001b[1;33m=\u001b[0m\u001b[1;36m100\u001b[0m\u001b[1;33m)\u001b[0m\u001b[1;33m\u001b[0m\u001b[0m\n\u001b[0m",
        "\u001b[1;32m<ipython-input-4-971978d5f4d5>\u001b[0m in \u001b[0;36mnewton\u001b[1;34m(f, x0, tolerancia, stop)\u001b[0m\n\u001b[0;32m      3\u001b[0m \u001b[1;33m\u001b[0m\u001b[0m\n\u001b[0;32m      4\u001b[0m     \u001b[1;31m# Derivamos la expresi\u00f3n\u001b[0m\u001b[1;33m\u001b[0m\u001b[1;33m\u001b[0m\u001b[0m\n\u001b[1;32m----> 5\u001b[1;33m     \u001b[0mdf\u001b[0m \u001b[1;33m=\u001b[0m \u001b[0msym\u001b[0m\u001b[1;33m.\u001b[0m\u001b[0mdiff\u001b[0m\u001b[1;33m(\u001b[0m\u001b[0mf\u001b[0m\u001b[1;33m,\u001b[0m \u001b[0mx\u001b[0m\u001b[1;33m)\u001b[0m\u001b[1;33m\u001b[0m\u001b[0m\n\u001b[0m\u001b[0;32m      6\u001b[0m \u001b[1;33m\u001b[0m\u001b[0m\n\u001b[0;32m      7\u001b[0m     \u001b[1;31m# Convertimos en funciones las expresiones\u001b[0m\u001b[1;33m\u001b[0m\u001b[1;33m\u001b[0m\u001b[0m\n",
        "\u001b[1;31mNameError\u001b[0m: global name 'x' is not defined"
       ]
      }
     ],
     "prompt_number": 10
    },
    {
     "cell_type": "markdown",
     "metadata": {},
     "source": [
      "Como viste calcular la derivada no fu\u00e9 trivial y podr\u00eda causar un problema si no tuvieras al alcance un calculador simb\u00f3lico (como en tu instalaci\u00f3n de `GNU/Octave`, aunque si `GNU/Octave` si puede hacer c\u00e1lculo simb\u00f3lico). Existe un m\u00e9todo similar \n",
      "al de `newton` que **no** utiliza el c\u00e1lculo directo de la derivada de la funci\u00f3n, se llama _m\u00e9todo de la secante_."
     ]
    },
    {
     "cell_type": "markdown",
     "metadata": {},
     "source": [
      "La idea es aproximar la derivada por una diferencia \"hacia atr\u00e1s\":"
     ]
    },
    {
     "cell_type": "markdown",
     "metadata": {},
     "source": [
      "$$\n",
      "f'(x) \\approx \\frac{f(x_{i-1}) - f(x_i)}{x_{i-1} - x_i}\n",
      "$$"
     ]
    },
    {
     "cell_type": "markdown",
     "metadata": {},
     "source": [
      "y sustituir esta expresi\u00f3n en la f\u00f3rmula del m\u00e9todo de Newton."
     ]
    },
    {
     "cell_type": "markdown",
     "metadata": {},
     "source": [
      "<div class=\"alert alert-info\">\n",
      "**6.** Implementa el m\u00e9todo de la secante en `python` y en `GNU Octave`, ll\u00e1malo `secante(f, x1, x0, tolerancia, stop)`. Resuelve el problema. \u00bfC\u00f3mo se compara con los otros m\u00e9todos?\n",
      "</div>"
     ]
    },
    {
     "cell_type": "heading",
     "level": 3,
     "metadata": {},
     "source": [
      "**Tuve problemas para implementar el c\u00f3digo de Newton, por lo que utilic\u00e9 un c\u00f3digo obtenido en la p\u00e1gina web:**\n",
      "\n"
     ]
    },
    {
     "cell_type": "markdown",
     "metadata": {},
     "source": [
      "http://nbviewer.ipython.org/urls/dl.dropboxusercontent.com/u/41832416/ipython%20notebooks/lab2.ipynb\n",
      "\n",
      "**Dicho c\u00f3digo est\u00e1 al final de este Notebook**"
     ]
    },
    {
     "cell_type": "code",
     "collapsed": false,
     "input": [
      "import math\n",
      "v = 36\n",
      "t = 4\n",
      "c = 0.25\n",
      "g = 9.8\n",
      "\n",
      "def f(m):\n",
      "    return (math.sqrt(g*m/c))*(math.tanh((math.sqrt(g*c/m))*t)) - v\n",
      "\n",
      "print f(144.406694209)"
     ],
     "language": "python",
     "metadata": {},
     "outputs": [
      {
       "output_type": "stream",
       "stream": "stdout",
       "text": [
        "4.96085306168e-09\n"
       ]
      }
     ],
     "prompt_number": 129
    },
    {
     "cell_type": "code",
     "collapsed": false,
     "input": [
      "def secante(f,x1,x0,tolerancia,stop):\n",
      "        \n",
      "    \n",
      "       \n",
      "    iteraciones = 0    \n",
      "    while abs(f(x0)) > tolerancia and iteraciones < stop:\n",
      "        \n",
      "        \n",
      "        x2 = x1 - (x1 - x0)*f(x1)/(f(x1)-f(x0))\n",
      "        #x1 = x0 - f(x0)/((f(x0)-f(x1))/(x0 - x1))\n",
      "        \n",
      "       \n",
      "        x0 = x2\n",
      "      \n",
      "        iteraciones = iteraciones + 1\n",
      "        \n",
      "        \n",
      "\n",
      "        \n",
      "    if iteraciones < stop:\n",
      "        print \"function within specified tolerance after\", iteraciones, \"iterations.  The root is \", x0\n",
      "    else:\n",
      "        print \"max iterations achieved\"\n",
      "    return float(x0)\n",
      "    "
     ],
     "language": "python",
     "metadata": {},
     "outputs": [],
     "prompt_number": 151
    },
    {
     "cell_type": "code",
     "collapsed": false,
     "input": [
      "secante(f,100,200,1e-10,1000) #Suponiendo que el bunggie rompe con un peso mayor a 100 y \n",
      "#una persona que pese mas de 200 no se aventar\u00e1"
     ],
     "language": "python",
     "metadata": {},
     "outputs": [
      {
       "output_type": "stream",
       "stream": "stdout",
       "text": [
        "function within specified tolerance after 19 iterations.  The root is  144.406693962\n"
       ]
      },
      {
       "latex": [
        "$$144.406693962$$"
       ],
       "metadata": {},
       "output_type": "pyout",
       "png": "[encoded data removed]",
       "prompt_number": 152,
       "text": [
        "144.406693962"
       ]
      }
     ],
     "prompt_number": 152
    },
    {
     "cell_type": "markdown",
     "metadata": {},
     "source": [
      "Un problema con este m\u00e9todo es que necesitas dos estimados iniciales de $x$ (en el m\u00e9todo `x1` y `x0`). Se puede obtener un m\u00e9todo mejorado de la siguiente manera:\n",
      "\n",
      "$$\n",
      "f'(x_i) \\approx \\frac{f(x_i + \\delta x_i) - f(x_i)}{\\delta x_i}\n",
      "$$\n",
      "\n",
      "donde $\\delta$ es una perturbaci\u00f3n peque\u00f1a alrededor de $x_i$."
     ]
    },
    {
     "cell_type": "markdown",
     "metadata": {},
     "source": [
      "<div class=\"alert alert-info\">\n",
      "**7.** Implem\u00e9nta este m\u00e9todo, ll\u00e1malo `secante_modificado(f, x0, tolerancia, stop)`. Usando un $x_0 = 50\\ kg$ y un $\\delta$ de $10^{-6}$, soluciona el problema.\n",
      "</div>"
     ]
    },
    {
     "cell_type": "code",
     "collapsed": false,
     "input": [
      "def secante_mod(f,x0,tolerancia,stop, d):  \n",
      "    iteraciones = 0    \n",
      "    while abs(f(x0)) > tolerancia and iteraciones < stop:\n",
      "        \n",
      "        \n",
      "        \n",
      "        #x2 = x1 - (x1 - x0)*f(x1)/(f(x1)-f(x0))\n",
      "        x1 = x0 - f(x0)/((f(x0+x0*d)-f(x0))/(x0*d))\n",
      "        \n",
      "       \n",
      "        x0 = x1\n",
      "      \n",
      "        iteraciones = iteraciones + 1\n",
      "        \n",
      "        \n",
      "\n",
      "        \n",
      "    if iteraciones < stop:\n",
      "        print \"function within specified tolerance after\", iteraciones, \"iterations.  The root is \", x0\n",
      "    else:\n",
      "        print \"max iterations achieved\"\n",
      "    return float(x0)"
     ],
     "language": "python",
     "metadata": {},
     "outputs": [],
     "prompt_number": 149
    },
    {
     "cell_type": "code",
     "collapsed": false,
     "input": [
      "secante_mod(f,50,1e-20,1000,d=1e-6)"
     ],
     "language": "python",
     "metadata": {},
     "outputs": [
      {
       "output_type": "stream",
       "stream": "stdout",
       "text": [
        "max iterations achieved\n"
       ]
      },
      {
       "latex": [
        "$$144.406693961$$"
       ],
       "metadata": {},
       "output_type": "pyout",
       "png": "[encoded data removed]",
       "prompt_number": 150,
       "text": [
        "144.406693961"
       ]
      }
     ],
     "prompt_number": 150
    },
    {
     "cell_type": "heading",
     "level": 2,
     "metadata": {},
     "source": [
      "M\u00e9todo de Newton obtenido del link:"
     ]
    },
    {
     "cell_type": "code",
     "collapsed": false,
     "input": [
      "# import a bunch of useful functions into the global namespace, and make sure graphs display inline\n",
      "%pylab inline \n",
      "\n",
      "def fun_quad(x):  # a quadratic test function \n",
      "    \"\"\"This function takes input x and returns x^2\"\"\"\n",
      "    return (x-5)**2\n",
      "\n",
      "def fun_dquad(x): # the derivative of our quadratic test function\n",
      "    \"\"\"This function takes input x and returns 2x\"\"\"\n",
      "    return 2*(x-5)\n",
      "\n",
      "def fun_ddquad(x): # the second derivative of our quadratic test function\n",
      "    \"\"\"This function takes input x and returns 2\"\"\"\n",
      "    return 2.0\n",
      "\n",
      "# Let's check that these functions do the right things:\n",
      "y1 = fun_quad(3)\n",
      "y2 = fun_dquad(3)\n",
      "y3 = fun_ddquad(3)\n",
      "print \"At x=3, the values of our test function, its derivative, and its second derivative are\", y1, y2, y3"
     ],
     "language": "python",
     "metadata": {},
     "outputs": [
      {
       "output_type": "stream",
       "stream": "stdout",
       "text": [
        "Populating the interactive namespace from numpy and matplotlib\n",
        "At x=3, the values of our test function, its derivative, and its second derivative are 4 -4 2.0\n"
       ]
      }
     ],
     "prompt_number": 56
    },
    {
     "cell_type": "code",
     "collapsed": false,
     "input": [
      "# here we define a modified newton algorithm that returns more information\n",
      "def my_modified_newton(fname,dfname, x0, eps=.001, maxits=1000):\n",
      "    \"\"\"Another implementation of Newton's method.\n",
      "    \n",
      "    Inputs:  \n",
      "        fname   name of function whose root is to be found\n",
      "        dfname  name of function that gives derivative of fname\n",
      "        x0      initial guess\n",
      "        eps     tolerance threshold\n",
      "    \"\"\"\n",
      "    \n",
      "    # initialize some storage\n",
      "    x_array = x0;\n",
      "       \n",
      "    nits = 0    \n",
      "    while abs(fname(x0)) > eps and nits < maxits:\n",
      "        x1 = x0 - fname(x0)/dfname(x0)\n",
      "        x0 = x1\n",
      "        nits = nits + 1\n",
      "        x_array = append(x_array,x1)\n",
      "\n",
      "        \n",
      "    if nits < maxits:\n",
      "        print \"function within specified tolerance after\", nits, \"iterations.  The root is \", x0\n",
      "    else:\n",
      "        print \"max iterations achieved\"\n",
      "    return float(x0), x_array"
     ],
     "language": "python",
     "metadata": {},
     "outputs": [],
     "prompt_number": 57
    },
    {
     "cell_type": "code",
     "collapsed": false,
     "input": [
      "# and here we generate plotting code\n",
      "\n",
      "#run Newton's Method\n",
      "opt, x_iters = my_modified_newton(fun_dquad, fun_ddquad, 6.0)\n",
      "\n",
      "#plot the objective function\n",
      "xplotvals = linspace(-10,10,1000)\n",
      "yplotvals = fun_quad(xplotvals)\n",
      "plot(xplotvals,yplotvals)\n",
      "\n",
      "# add points corresponding to newton iterates\n",
      "y_iters = fun_quad(x_iters)\n",
      "plot(x_iters,y_iters,'ro',markerfacecolor='red',markersize=5)\n",
      "\n",
      "# add a title and labels\n",
      "title(\"Objective function with Newton Guesses\")\n",
      "xlabel(\"x\")\n",
      "ylabel(\"y\")\n",
      "ylim(-5,10)"
     ],
     "language": "python",
     "metadata": {},
     "outputs": [
      {
       "output_type": "stream",
       "stream": "stdout",
       "text": [
        "function within specified tolerance after 1 iterations.  The root is  5.0\n"
       ]
      },
      {
       "latex": [
        "$$\\left ( -5, \\quad 10\\right )$$"
       ],
       "metadata": {},
       "output_type": "pyout",
       "png": "[encoded data removed]",
       "prompt_number": 61,
       "text": [
        "(-5, 10)"
       ]
      },
      {
       "metadata": {},
       "output_type": "display_data",
       "png": "[encoded data removed]",
       "text": [
        "<matplotlib.figure.Figure at 0x7fd3a3006390>"
       ]
      }
     ],
     "prompt_number": 61
    },
    {
     "cell_type": "code",
     "collapsed": false,
     "input": [],
     "language": "python",
     "metadata": {},
     "outputs": []
    }
   ],
   "metadata": {}
  }
 ]
}