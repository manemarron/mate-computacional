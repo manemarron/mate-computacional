{
 "metadata": {
  "name": "",
  "signature": "sha256:355da952c36f18f033e3751022630bc308859909b76c813aec074aeada16b983"
 },
 "nbformat": 3,
 "nbformat_minor": 0,
 "worksheets": [
  {
   "cells": [
    {
     "cell_type": "code",
     "collapsed": false,
     "input": [
      "#project 1\n",
      "suma=0\n",
      "for i in xrange(1,1000,1):\n",
      "    if i%3==0 or i%5==0:\n",
      "        suma+=i\n",
      "    else:\n",
      "        suma+=0\n",
      "print suma"
     ],
     "language": "python",
     "metadata": {},
     "outputs": [
      {
       "output_type": "stream",
       "stream": "stdout",
       "text": [
        "233168\n"
       ]
      }
     ],
     "prompt_number": 5
    },
    {
     "cell_type": "code",
     "collapsed": false,
     "input": [
      "#project 2\n",
      "lista=[]\n",
      "a=0\n",
      "b=1\n",
      "x=0\n",
      "while x<=4000000:\n",
      "    x=a+b\n",
      "    lista.append(x)\n",
      "    a=b\n",
      "    b=x\n",
      "print lista"
     ],
     "language": "python",
     "metadata": {},
     "outputs": [
      {
       "output_type": "stream",
       "stream": "stdout",
       "text": [
        "[1, 2, 3, 5, 8, 13, 21, 34, 55, 89, 144, 233, 377, 610, 987, 1597, 2584, 4181, 6765, 10946, 17711, 28657, 46368, 75025, 121393, 196418, 317811, 514229, 832040, 1346269, 2178309, 3524578, 5702887]\n"
       ]
      }
     ],
     "prompt_number": 6
    },
    {
     "cell_type": "code",
     "collapsed": false,
     "input": [
      "suma=0\n",
      "for i in xrange(len(lista)):\n",
      "    if lista[i]%2==0:\n",
      "        suma+=lista[i]\n",
      "print suma"
     ],
     "language": "python",
     "metadata": {},
     "outputs": [
      {
       "output_type": "stream",
       "stream": "stdout",
       "text": [
        "4613732\n"
       ]
      }
     ],
     "prompt_number": 7
    },
    {
     "cell_type": "code",
     "collapsed": false,
     "input": [
      "x=600851475143\n",
      "while x%2==0:\n",
      "    x=x/2\n",
      "factor=2\n",
      "primo=3\n",
      "while x!=1:\n",
      "    while x%primo==0:\n",
      "        x=x/primo\n",
      "        factor=primo\n",
      "    primo+=2\n",
      "print factor"
     ],
     "language": "python",
     "metadata": {},
     "outputs": [
      {
       "output_type": "stream",
       "stream": "stdout",
       "text": [
        "6857\n"
       ]
      }
     ],
     "prompt_number": 9
    }
   ],
   "metadata": {}
  }
 ]
}