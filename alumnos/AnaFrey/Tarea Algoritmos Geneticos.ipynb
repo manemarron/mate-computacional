{
 "metadata": {
  "name": "",
  "signature": "sha256:d9a85bece43fc484c2dbd8e8fd97018268da61b262ad13f4e1b79808fdb65e5a"
 },
 "nbformat": 3,
 "nbformat_minor": 0,
 "worksheets": [
  {
   "cells": [
    {
     "cell_type": "code",
     "collapsed": false,
     "input": [
      "import random\n",
      "import numpy as np"
     ],
     "language": "python",
     "metadata": {},
     "outputs": [],
     "prompt_number": 193
    },
    {
     "cell_type": "code",
     "collapsed": false,
     "input": [
      "class GA:\n",
      "    #constructor\n",
      "    def __init__(self, tam_poblacion, tasa_mutacion, tasa_crossover, max_gen, fitness, longitud_cromosoma):\n",
      "        self.tam_poblacion=tam_poblacion\n",
      "        self.tasa_mutacion=tasa_mutacion\n",
      "        self.tasa_crossover= tasa_crossover\n",
      "        self.max_gen=max_gen\n",
      "        self.fitness= fitness\n",
      "        self.longitud_cromosoma=longitud_cromosoma\n",
      "        self.poblacion=[]\n",
      "        self.generacion=0\n",
      "        self.mejor_solucion_historia=[]\n",
      "        self.mejor_solucion_actual=[]\n",
      "        \n",
      "    def poblar(self):\n",
      "        for i in range(self.tam_poblacion):\n",
      "            genoma=bitChromosome(self.longitud_cromosoma).creaGenoma()\n",
      "            self.poblacion.append(genoma)\n",
      "        return self.poblacion\n",
      "            \n",
      "            \n",
      "    def _str_(self, generacion, mejor_solucion_historica, mejor_solucion_actual):\n",
      "        print \"Polbacion actual\" % poblacion\n",
      "        print \"Numero de generacion\" % generacion\n",
      "        print \"Mejor solucion historica\" % mejor_solucion_historica\n",
      "        print \"Mejor solucion actual\" % mejor_solucion_actual\n",
      "    \n",
      "    #def run():\n",
      "        \n",
      "    #def seleccionar():\n",
      "        \n"
     ],
     "language": "python",
     "metadata": {},
     "outputs": [],
     "prompt_number": 194
    },
    {
     "cell_type": "code",
     "collapsed": false,
     "input": [
      "poblacion= GA(10, 0,0,0,0,8)"
     ],
     "language": "python",
     "metadata": {},
     "outputs": [],
     "prompt_number": 195
    },
    {
     "cell_type": "code",
     "collapsed": false,
     "input": [
      "poblacion.poblar()"
     ],
     "language": "python",
     "metadata": {},
     "outputs": [
      {
       "metadata": {},
       "output_type": "pyout",
       "prompt_number": 196,
       "text": [
        "['00100110',\n",
        " '00000010',\n",
        " '01010000',\n",
        " '01100100',\n",
        " '10100111',\n",
        " '11000110',\n",
        " '11111011',\n",
        " '11110101',\n",
        " '11001010',\n",
        " '10101001']"
       ]
      }
     ],
     "prompt_number": 196
    },
    {
     "cell_type": "code",
     "collapsed": false,
     "input": [
      "class bitChromosome:\n",
      "    def __init__(self, length):\n",
      "        self.length=length\n",
      "        self.genome=\"\"\n",
      "    def creaGenoma(self):\n",
      "        for i in range (self.length):\n",
      "            cad= random.choice(\"01\")\n",
      "            self.genome=self.genome + cad\n",
      "        return self.genome\n",
      "    \n",
      "    def crossover(self, cromosoma):\n",
      "        crossover_point = random.randint(0, self.length)\n",
      "        \n",
      "        x = self.genome[:crossover_point] + cromosoma.genome[crossover_point:]\n",
      "        y = cromosoma.genome[:crossover_point] + self.genome[crossover_point:]\n",
      "        \n",
      "        print x + \" \"+ y\n",
      "    \n",
      "    def mutar(self):\n",
      "        genome=list(self.genome)\n",
      "        aux=random.randint(0, self.length-1)\n",
      "        if genome[aux]==0:\n",
      "            genome[aux]=1\n",
      "        else:\n",
      "            genome[aux]=1\n",
      "        genome= str(genome)\n",
      "        return genome\n",
      "    \n",
      "    def __str__(self):\n",
      "        return self.genome\n",
      "    "
     ],
     "language": "python",
     "metadata": {},
     "outputs": [],
     "prompt_number": 271
    },
    {
     "cell_type": "code",
     "collapsed": false,
     "input": [
      "cromosoma1= bitChromosome(8)\n",
      "cromosoma1.creaGenoma()"
     ],
     "language": "python",
     "metadata": {},
     "outputs": [
      {
       "metadata": {},
       "output_type": "pyout",
       "prompt_number": 272,
       "text": [
        "'11011100'"
       ]
      }
     ],
     "prompt_number": 272
    },
    {
     "cell_type": "code",
     "collapsed": false,
     "input": [
      "cromosoma2= bitChromosome(8)\n",
      "cromosoma2.creaGenoma()"
     ],
     "language": "python",
     "metadata": {},
     "outputs": [
      {
       "metadata": {},
       "output_type": "pyout",
       "prompt_number": 273,
       "text": [
        "'01011110'"
       ]
      }
     ],
     "prompt_number": 273
    },
    {
     "cell_type": "code",
     "collapsed": false,
     "input": [
      "cromosoma1.crossover(cromosoma2)"
     ],
     "language": "python",
     "metadata": {},
     "outputs": [
      {
       "output_type": "stream",
       "stream": "stdout",
       "text": [
        "11011110 01011100\n"
       ]
      }
     ],
     "prompt_number": 274
    },
    {
     "cell_type": "code",
     "collapsed": false,
     "input": [
      "cromosoma1.mutar()"
     ],
     "language": "python",
     "metadata": {},
     "outputs": [
      {
       "metadata": {},
       "output_type": "pyout",
       "prompt_number": 275,
       "text": [
        "\"['1', '1', '0', '1', '1', 1, '0', '0']\""
       ]
      }
     ],
     "prompt_number": 275
    },
    {
     "cell_type": "code",
     "collapsed": false,
     "input": [
      "cromosoma2.mutar()"
     ],
     "language": "python",
     "metadata": {},
     "outputs": [
      {
       "metadata": {},
       "output_type": "pyout",
       "prompt_number": 276,
       "text": [
        "\"['0', 1, '0', '1', '1', '1', '1', '0']\""
       ]
      }
     ],
     "prompt_number": 276
    }
   ],
   "metadata": {}
  }
 ]
}