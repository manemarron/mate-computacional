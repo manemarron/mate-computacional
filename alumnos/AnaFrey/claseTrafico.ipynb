{
 "metadata": {
  "name": "",
  "signature": "sha256:b7b0151c90fc850d7c0ec77023e98488f174e99f9966277b2e5259a4da96aa22"
 },
 "nbformat": 3,
 "nbformat_minor": 0,
 "worksheets": [
  {
   "cells": [
    {
     "cell_type": "code",
     "collapsed": false,
     "input": [
      "%matplotlib inline\n",
      "%pylab inline\n",
      "import numpy as np\n",
      "import matplotlib.pyplot as plt\n",
      "import sympy\n",
      "import random"
     ],
     "language": "python",
     "metadata": {},
     "outputs": [
      {
       "output_type": "stream",
       "stream": "stdout",
       "text": [
        "Populating the interactive namespace from numpy and matplotlib\n"
       ]
      }
     ],
     "prompt_number": 4
    },
    {
     "cell_type": "code",
     "collapsed": false,
     "input": [
      "class Trafico:\n",
      "    \n",
      "     \n",
      "    def __init__(self,v_max,s):\n",
      "        \n",
      "        self.v_max = v_max\n",
      "        self.s = s\n",
      "        self.posicion=[]\n",
      "        self.lugar_coche=[]\n",
      "        self.distancias=[]\n",
      "        self.semaforo=[]\n",
      "        self.sig_Semaforo=[]\n",
      "        self.trafico=[]\n",
      "        \n",
      "    def printea(self):\n",
      "        print self.posicion\n",
      "    \n",
      "    def creaMundo(self):\n",
      "        #En t=0 ponemos la velocidad actual de cada coche random.\n",
      "        for i in range(self.s):\n",
      "            vacio = random.randint(-1,0)\n",
      "            if vacio==0:\n",
      "                self.posicion.append(random.randint(0,self.v_max))\n",
      "            else:\n",
      "                self.posicion.append(-1)\n",
      "        return self.posicion\n",
      "        \n",
      "    def siguienteCoche(self):\n",
      "        self.lugar_coche=[]\n",
      "        for i in range(self.s):\n",
      "            if self.posicion[i]!=-1:\n",
      "                self.lugar_coche.append(i)\n",
      "        return self.lugar_coche\n",
      "    \n",
      "     \n",
      "    def distancia(self):\n",
      "        self.distancias =[]\n",
      "        for i in range(len(self.lugar_coche)-1):\n",
      "            self.distancias.append(self.lugar_coche[i+1] - self.lugar_coche[i])\n",
      "            \n",
      "        self.distancias.append(self.s - self.lugar_coche[len(self.lugar_coche)-1] + self.lugar_coche[0] )#el \u00faltimo coche tiene distancia hasta s\n",
      "        return self.distancias\n",
      "            \n",
      "            \n",
      "    def actualiza(self):\n",
      "        #dada una distancia calcula la velocidad den el tiempo t+1\n",
      "        self.siguienteCoche()\n",
      "        self.distancia()\n",
      "        for i in range (len(self.distancias)):\n",
      "            if self.distancias[i]-1<=self.posicion[self.lugar_coche[i]]:\n",
      "                nueva_vel = self.distancias[i]-1\n",
      "            else:\n",
      "                nueva_vel = min(self.v_max, self.posicion[self.lugar_coche[i]] + 1)\n",
      "                \n",
      "            self.posicion[(self.lugar_coche[i])] = -1\n",
      "            self.posicion[(self.lugar_coche[i] + nueva_vel) % self.s] = nueva_vel\n",
      "                \n",
      "        return self.posicion\n",
      "    \n",
      "    def lugarSemaforo(self):\n",
      "        self.semaforo=[]\n",
      "        for i in range(self.s/10 +1):\n",
      "            self.semaforo.append(random.randint(0,self.s-1))\n",
      "        self.semaforo=np.unique(self.semaforo)\n",
      "        return self.semaforo\n",
      "    \n",
      "    def siguienteSemaforo(self):\n",
      "        self.siguienteCoche()\n",
      "        self.lugarSemaforo()\n",
      "        self.siguiente_Semaforo=[]        \n",
      "        for i in range(len(self.lugar_coche)):\n",
      "            self.siguiente_Semaforo.append(self.semaforo[0]) \n",
      "        k=0\n",
      "        for j in range (len(self.semaforo)):\n",
      "            while k<len(self.lugar_coche) and self.semaforo[j]>=self.lugar_coche[k]:\n",
      "                self.siguiente_Semaforo[k]=self.semaforo[j]\n",
      "                k=k+1\n",
      "        return self.siguiente_Semaforo\n",
      "        \n",
      "    #cada que actualiza calcula nuevos semaforos\n",
      "    def actualizaSemaforo(self, t):\n",
      "        self.siguienteCoche()\n",
      "        self.distancia()\n",
      "        self.lugarSemaforo()\n",
      "        self.siguienteSemaforo()\n",
      "        for i in range (len(self.distancias)):            \n",
      "            if self.distancias[i]-1<=self.posicion[self.lugar_coche[i]]:\n",
      "                nueva_vel = self.distancias[i]-1\n",
      "            else:\n",
      "                nueva_vel = min(self.v_max, self.posicion[self.lugar_coche[i]] + 1)\n",
      "            if 0<=t%10<=2: \n",
      "                #segundos 0, 1 y 2 estan en alto\n",
      "                distanciaSemaforo=self.siguiente_Semaforo[i]-self.lugar_coche[i]\n",
      "                if distanciaSemaforo<0:\n",
      "                    distanciaSemaforo=self.s-self.lugar_coche[i]+self.siguiente_Semaforo[i]\n",
      "                nueva_vel= min(nueva_vel, distanciaSemaforo)\n",
      "            self.posicion[(self.lugar_coche[i])] = -1\n",
      "            self.posicion[(self.lugar_coche[i] + nueva_vel) % self.s] = nueva_vel\n",
      "                \n",
      "        return self.posicion\n",
      "    \n",
      "    def MatrizTrafico(self,t_max):\n",
      "        self.trafico = np.zeros((t_max,self.s))\n",
      "        for t in range(t_max):\n",
      "            vector = np.array(obj.actualiza())\n",
      "            for j in range(self.s):\n",
      "                self.trafico[t,j]= vector[j]\n",
      "        return self.trafico\n",
      "    \n",
      "    def Grafica(self, t_max):\n",
      "        A= self.MatrizTrafico(t_max)\n",
      "        print \"Actualizaciones del carril\"\n",
      "        print A\n",
      "        for i in range(len(A)):\n",
      "            plt.ylim(-0.5,20)\n",
      "            plt.xlim(-0.5,self.s)\n",
      "            plt.scatter(np.arange(0,self.s), A[i])\n",
      "            plt.show()\n",
      "            print A[i]\n",
      "        \n"
     ],
     "language": "python",
     "metadata": {},
     "outputs": [],
     "prompt_number": 35
    },
    {
     "cell_type": "code",
     "collapsed": false,
     "input": [
      "#velocidad maxima\n",
      "v_max=80\n",
      "#longitud de la calle\n",
      "s=20\n",
      "#tiempo que se va a actualizar\n",
      "t_max=10\n",
      "obj=Trafico(v_max, s)"
     ],
     "language": "python",
     "metadata": {},
     "outputs": [],
     "prompt_number": 32
    },
    {
     "cell_type": "code",
     "collapsed": false,
     "input": [
      "obj.creaMundo()"
     ],
     "language": "python",
     "metadata": {},
     "outputs": [
      {
       "metadata": {},
       "output_type": "pyout",
       "prompt_number": 33,
       "text": [
        "[-1,\n",
        " -1,\n",
        " 44,\n",
        " 61,\n",
        " -1,\n",
        " 70,\n",
        " 25,\n",
        " 37,\n",
        " -1,\n",
        " 57,\n",
        " -1,\n",
        " -1,\n",
        " 80,\n",
        " 71,\n",
        " 53,\n",
        " -1,\n",
        " -1,\n",
        " -1,\n",
        " 15,\n",
        " -1]"
       ]
      }
     ],
     "prompt_number": 33
    },
    {
     "cell_type": "code",
     "collapsed": false,
     "input": [
      "obj.Grafica(t_max)"
     ],
     "language": "python",
     "metadata": {},
     "outputs": [
      {
       "output_type": "stream",
       "stream": "stdout",
       "text": [
        "Actualizaciones del carril\n",
        "[[-1.  3.  0. -1.  1.  0.  0. -1.  1. -1. -1.  2.  0.  0. -1. -1. -1.  3.\n",
        "  -1. -1.]\n",
        " [ 3.  0. -1.  1.  0.  0. -1.  1. -1. -1.  2.  0.  0. -1.  1. -1. -1. -1.\n",
        "  -1. -1.]\n",
        " [ 0. -1.  1.  0.  0. -1.  1. -1. -1.  2.  0.  0. -1.  1. -1. -1.  2. -1.\n",
        "  -1. -1.]\n",
        " [-1.  1.  0.  0. -1.  1. -1. -1.  2.  0.  0. -1.  1. -1. -1.  2. -1. -1.\n",
        "  -1.  3.]\n",
        " [ 1.  0.  0. -1.  1. -1. -1.  2.  0.  0. -1.  1. -1. -1.  2. -1. -1. -1.\n",
        "   3. -1.]\n",
        " [ 0.  0. -1.  1. -1. -1.  2.  0.  0. -1.  1. -1. -1.  2. -1. -1. -1.  3.\n",
        "  -1.  1.]\n",
        " [ 0. -1.  1. -1. -1.  2.  0.  0. -1.  1. -1. -1.  2. -1. -1. -1.  3. -1.\n",
        "   1.  0.]\n",
        " [-1.  1. -1. -1.  2.  0.  0. -1.  1. -1. -1.  2. -1. -1. -1.  3. -1.  1.\n",
        "   0.  0.]\n",
        " [ 1. -1. -1.  2.  0.  0. -1.  1. -1. -1.  2. -1. -1. -1.  3. -1.  1.  0.\n",
        "   0. -1.]\n",
        " [-1. -1.  2.  0.  0. -1.  1. -1. -1.  2. -1. -1. -1.  3. -1.  1.  0.  0.\n",
        "  -1.  1.]]\n"
       ]
      },
      {
       "metadata": {},
       "output_type": "display_data",
       "png": "[encoded data removed]",
       "text": [
        "<matplotlib.figure.Figure at 0x7fc7485441d0>"
       ]
      },
      {
       "output_type": "stream",
       "stream": "stdout",
       "text": [
        "[-1.  3.  0. -1.  1.  0.  0. -1.  1. -1. -1.  2.  0.  0. -1. -1. -1.  3.\n",
        " -1. -1.]\n"
       ]
      },
      {
       "metadata": {},
       "output_type": "display_data",
       "png": "[encoded data removed]",
       "text": [
        "<matplotlib.figure.Figure at 0x7fc748245e10>"
       ]
      },
      {
       "output_type": "stream",
       "stream": "stdout",
       "text": [
        "[ 3.  0. -1.  1.  0.  0. -1.  1. -1. -1.  2.  0.  0. -1.  1. -1. -1. -1.\n",
        " -1. -1.]\n"
       ]
      },
      {
       "metadata": {},
       "output_type": "display_data",
       "png": "[encoded data removed]",
       "text": [
        "<matplotlib.figure.Figure at 0x7fc748376390>"
       ]
      },
      {
       "output_type": "stream",
       "stream": "stdout",
       "text": [
        "[ 0. -1.  1.  0.  0. -1.  1. -1. -1.  2.  0.  0. -1.  1. -1. -1.  2. -1.\n",
        " -1. -1.]\n"
       ]
      },
      {
       "metadata": {},
       "output_type": "display_data",
       "png": "[encoded data removed]",
       "text": [
        "<matplotlib.figure.Figure at 0x7fc74877f290>"
       ]
      },
      {
       "output_type": "stream",
       "stream": "stdout",
       "text": [
        "[-1.  1.  0.  0. -1.  1. -1. -1.  2.  0.  0. -1.  1. -1. -1.  2. -1. -1.\n",
        " -1.  3.]\n"
       ]
      },
      {
       "metadata": {},
       "output_type": "display_data",
       "png": "[encoded data removed]",
       "text": [
        "<matplotlib.figure.Figure at 0x7fc748607f10>"
       ]
      },
      {
       "output_type": "stream",
       "stream": "stdout",
       "text": [
        "[ 1.  0.  0. -1.  1. -1. -1.  2.  0.  0. -1.  1. -1. -1.  2. -1. -1. -1.\n",
        "  3. -1.]\n"
       ]
      },
      {
       "metadata": {},
       "output_type": "display_data",
       "png": "[encoded data removed]",
       "text": [
        "<matplotlib.figure.Figure at 0x7fc7481a8050>"
       ]
      },
      {
       "output_type": "stream",
       "stream": "stdout",
       "text": [
        "[ 0.  0. -1.  1. -1. -1.  2.  0.  0. -1.  1. -1. -1.  2. -1. -1. -1.  3.\n",
        " -1.  1.]\n"
       ]
      },
      {
       "metadata": {},
       "output_type": "display_data",
       "png": "[encoded data removed]",
       "text": [
        "<matplotlib.figure.Figure at 0x7fc74851ed50>"
       ]
      },
      {
       "output_type": "stream",
       "stream": "stdout",
       "text": [
        "[ 0. -1.  1. -1. -1.  2.  0.  0. -1.  1. -1. -1.  2. -1. -1. -1.  3. -1.\n",
        "  1.  0.]\n"
       ]
      },
      {
       "metadata": {},
       "output_type": "display_data",
       "png": "[encoded data removed]",
       "text": [
        "<matplotlib.figure.Figure at 0x7fc7480c1d10>"
       ]
      },
      {
       "output_type": "stream",
       "stream": "stdout",
       "text": [
        "[-1.  1. -1. -1.  2.  0.  0. -1.  1. -1. -1.  2. -1. -1. -1.  3. -1.  1.\n",
        "  0.  0.]\n"
       ]
      },
      {
       "metadata": {},
       "output_type": "display_data",
       "png": "[encoded data removed]",
       "text": [
        "<matplotlib.figure.Figure at 0x7fc7481ed0d0>"
       ]
      },
      {
       "output_type": "stream",
       "stream": "stdout",
       "text": [
        "[ 1. -1. -1.  2.  0.  0. -1.  1. -1. -1.  2. -1. -1. -1.  3. -1.  1.  0.\n",
        "  0. -1.]\n"
       ]
      },
      {
       "metadata": {},
       "output_type": "display_data",
       "png": "[encoded data removed]",
       "text": [
        "<matplotlib.figure.Figure at 0x7fc7486aec10>"
       ]
      },
      {
       "output_type": "stream",
       "stream": "stdout",
       "text": [
        "[-1. -1.  2.  0.  0. -1.  1. -1. -1.  2. -1. -1. -1.  3. -1.  1.  0.  0.\n",
        " -1.  1.]\n"
       ]
      }
     ],
     "prompt_number": 34
    },
    {
     "cell_type": "code",
     "collapsed": false,
     "input": [],
     "language": "python",
     "metadata": {},
     "outputs": []
    }
   ],
   "metadata": {}
  }
 ]
}