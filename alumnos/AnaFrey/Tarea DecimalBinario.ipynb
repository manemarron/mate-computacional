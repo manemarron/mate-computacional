{
 "metadata": {
  "name": "",
  "signature": "sha256:a453109c2ac784cc91c649377dc4910306fe31af9f0c0c3e2d9062f09b115578"
 },
 "nbformat": 3,
 "nbformat_minor": 0,
 "worksheets": [
  {
   "cells": [
    {
     "cell_type": "code",
     "collapsed": false,
     "input": [
      "listaBin=[0 for x in range(8)]\n",
      "def decimalBin(x):\n",
      "    assert -128<=x<=127\n",
      "    i=0\n",
      "    while x!=0 and i<=7:\n",
      "        listaBin[7-i]=x%2\n",
      "        i+=1\n",
      "        x=x/2\n",
      "    print listaBin"
     ],
     "language": "python",
     "metadata": {},
     "outputs": [],
     "prompt_number": 17
    },
    {
     "cell_type": "code",
     "collapsed": false,
     "input": [
      "decimalBin(10)"
     ],
     "language": "python",
     "metadata": {},
     "outputs": [
      {
       "output_type": "stream",
       "stream": "stdout",
       "text": [
        "[0, 0, 0, 0, 1, 0, 1, 0]\n"
       ]
      }
     ],
     "prompt_number": 18
    },
    {
     "cell_type": "code",
     "collapsed": false,
     "input": [],
     "language": "python",
     "metadata": {},
     "outputs": [],
     "prompt_number": 16
    },
    {
     "cell_type": "code",
     "collapsed": false,
     "input": [],
     "language": "python",
     "metadata": {},
     "outputs": []
    }
   ],
   "metadata": {}
  }
 ]
}