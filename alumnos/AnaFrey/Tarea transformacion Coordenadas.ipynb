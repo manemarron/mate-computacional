{
 "metadata": {
  "name": "",
  "signature": "sha256:13acbca839a7eb2b27bc8e808acfa2e6864c078c09d571d0be75087179957da6"
 },
 "nbformat": 3,
 "nbformat_minor": 0,
 "worksheets": [
  {
   "cells": [
    {
     "cell_type": "code",
     "collapsed": false,
     "input": [
      "%%file transformaciones.py\n",
      "def coordenadasEsferica(r, theta, pi):\n",
      "    \"\"\"cambia de coordenadas esfericas a coordenadas x, y, z\"\"\"\n",
      "    from math import sin, cos\n",
      "    x=r*sin(phi)*cos(theta)\n",
      "    y=r*sin(phi)*sin(theta)\n",
      "    z=r*cos(phi)\n",
      "    print x, y, z\n",
      "    return x, y, z"
     ],
     "language": "python",
     "metadata": {},
     "outputs": [
      {
       "output_type": "stream",
       "stream": "stdout",
       "text": [
        "Writing transformaciones.py\n"
       ]
      }
     ],
     "prompt_number": 1
    },
    {
     "cell_type": "code",
     "collapsed": false,
     "input": [
      "%%file transformaciones.py\n",
      "def esfericaCoordenada(x, y, z):\n",
      "    from math import atan, sqrt, pi\n",
      "    r=sqrt(x**2+y**2+z**2)\n",
      "    if z>0:\n",
      "        phi=atan(sqrt(x**2+y**2)/z)\n",
      "    elif z=0:\n",
      "        phi= pi/2\n",
      "    else:\n",
      "        phi= pi+ atan(sqrt(x**2+y**2)/z)\n",
      "    \n",
      "    if x>0 and y>0:\n",
      "        theta= atan(y/x)\n",
      "    elif x>0 and y<0:\n",
      "        theta= 2*pi + atan(y/x)\n",
      "    elif x=0 and y>0:\n",
      "        theta= (pi/2)*y\n",
      "    elif x=0 and y<0:\n",
      "        theta= (pi/2)*-y   \n",
      "    else:\n",
      "        theta= pi+atan(y/x)\n",
      "    print r, phi, theta\n",
      "    return r, phi, theta"
     ],
     "language": "python",
     "metadata": {},
     "outputs": [
      {
       "output_type": "stream",
       "stream": "stdout",
       "text": [
        "Overwriting transformaciones.py\n"
       ]
      }
     ],
     "prompt_number": 2
    },
    {
     "cell_type": "code",
     "collapsed": false,
     "input": [],
     "language": "python",
     "metadata": {},
     "outputs": []
    }
   ],
   "metadata": {}
  }
 ]
}