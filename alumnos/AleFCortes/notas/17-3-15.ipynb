{
 "metadata": {
  "name": "",
  "signature": "sha256:df682cfa0cc367f403fd63df56901c792e1368e9f30610687643d8d52d1bea7d"
 },
 "nbformat": 3,
 "nbformat_minor": 0,
 "worksheets": [
  {
   "cells": [
    {
     "cell_type": "code",
     "collapsed": false,
     "input": [
      "%matplotlib inline\n",
      "import numpy as np\n",
      "import matplotlib.pyplot as plt\n",
      "\n",
      "from IPython.html.widgets import interact, fixed\n",
      "from IPython.html import widgets"
     ],
     "language": "python",
     "metadata": {},
     "outputs": [],
     "prompt_number": 8
    },
    {
     "cell_type": "code",
     "collapsed": false,
     "input": [
      "class RegresionLineal:\n",
      "    def __init__(self, alpha=0.3, max_iters=100, tols=0.001):\n",
      "        \"\"\"\n",
      "        Par\u00e1metros.\n",
      "        ---------------\n",
      "        alpha = Learning rate\n",
      "        max_iters = N\u00famero m\u00e1ximo de iteraciones\n",
      "        tols = definici\u00f3n de convergencia\n",
      "        \"\"\"\n",
      "        self.alpha = alpha\n",
      "        self.max_iters = max_iters\n",
      "        self.tols = tols\n",
      "        self.breaking_iteration = None\n",
      "        self.historia = {'costo':[], 'beta':[]}  # Con fines de graficaci\u00f3n\n",
      "        \n",
      "    def gradientDescent(self, x, y):\n",
      "        \"\"\"\n",
      "        Par\u00e1metros:\n",
      "        ---------------\n",
      "        x = vector de entrenamiento de features\n",
      "        y = vector de entrenamiento de variable a predecir (target)\n",
      "        \"\"\"    \n",
      "        \n",
      "        # ajustamos el vector de features\n",
      "        unos = np.ones((x.shape[0], 1))\n",
      "        Xt = X.reshape(x.shape[0], 1)\n",
      "        Xt = np.concatenate((unos, Xt), axis=1)\n",
      "        \n",
      "        i = 0\n",
      "        prep_J = 0\n",
      "        m, n = Xt.shape\n",
      "        self.beta = np.zeros(n) \n",
      "        \n",
      "        while i < self.max_iters:     \n",
      "            # Actualizamos beta\n",
      "            self.beta = self.beta - self.alpha * self.gradiente(Xt, y)\n",
      "            \n",
      "            J = self.costo(Xt, y)\n",
      "            \n",
      "            if abs(J - prep_J) <= self.tols:\n",
      "                print 'La funci\u00f3n convergi\u00f3 con beta: %s en la iteraci\u00f3n %i' % ( str(self.beta), i )\n",
      "                self.breaking_iteration = i\n",
      "                break\n",
      "            else:\n",
      "                prep_J = J\n",
      "            \n",
      "            self.historia['costo'].append(J)\n",
      "            self.historia['beta'].append(self.beta)                \n",
      "            i += 1\n",
      "    \n",
      "    def hipotesis(self, x):\n",
      "        return np.dot(x, self.beta)\n",
      "    \n",
      "    def costo(self, x, y):\n",
      "        m = x.shape[0]\n",
      "        error = self.hipotesis(x) - y\n",
      "        return np.dot(error.T, error) / (2 * m) \n",
      "    \n",
      "    def gradiente(self, x, y):\n",
      "        m = x.shape[0]\n",
      "        error = self.hipotesis(x) - y        \n",
      "        return np.dot(x.T, error) / m    \n",
      "    \n",
      "    def plotModelo(self,x,y,iteracion):\n",
      "        modelo = lambda x,b,m: b + m*x # funci\u00f3n para graficar el modelo\n",
      "        \n",
      "        _beta = self.historia['beta'][iteracion]\n",
      "        fig, ax = plt.subplots(1,2, figsize=(10,6))        \n",
      "        ax[0].scatter(x,y, label=\"datos\")\n",
      "        ax[0].plot(x, modelo(x, _beta[0], _beta[1]), label=\"int: %1.2f, pen: %1.2f\" % (_beta[0], _beta[1]))\n",
      "        ax[0].set_xlabel('Edad (yr)')\n",
      "        ax[0].set_ylabel('Altura (m)')\n",
      "        ax[0].legend(loc=\"best\")\n",
      "        #ax[0].set_xlim(0, max(x))\n",
      "        #ax[0].set_ylim(0, max(y))\n",
      "        \n",
      "        costo  = self.historia['costo']\n",
      "    \n",
      "        iteraciones = [i for i in range(0, len(costo))]\n",
      "        ax[1].plot(iteraciones, costo, 'g', label=\"costo\")\n",
      "        ax[1].plot(iteracion, costo[iteracion], 'or', label=\"iteracion\")\n",
      "        ax[1].set_xlabel('Iteraciones')\n",
      "        ax[1].set_ylabel('Costo')\n",
      "        ax[1].legend(loc=\"best\")"
     ],
     "language": "python",
     "metadata": {},
     "outputs": [],
     "prompt_number": 9
    },
    {
     "cell_type": "code",
     "collapsed": false,
     "input": [
      "r = RegresionLineal(alpha=0.03, max_iters=10000, tols=0.0000001)\n",
      "r.plotModelo(X,Y, 100)"
     ],
     "language": "python",
     "metadata": {},
     "outputs": [
      {
       "ename": "NameError",
       "evalue": "name 'X' is not defined",
       "output_type": "pyerr",
       "traceback": [
        "\u001b[1;31m---------------------------------------------------------------------------\u001b[0m\n\u001b[1;31mNameError\u001b[0m                                 Traceback (most recent call last)",
        "\u001b[1;32m<ipython-input-10-0440ef5b569e>\u001b[0m in \u001b[0;36m<module>\u001b[1;34m()\u001b[0m\n\u001b[0;32m      1\u001b[0m \u001b[0mr\u001b[0m \u001b[1;33m=\u001b[0m \u001b[0mRegresionLineal\u001b[0m\u001b[1;33m(\u001b[0m\u001b[0malpha\u001b[0m\u001b[1;33m=\u001b[0m\u001b[1;36m0.03\u001b[0m\u001b[1;33m,\u001b[0m \u001b[0mmax_iters\u001b[0m\u001b[1;33m=\u001b[0m\u001b[1;36m10000\u001b[0m\u001b[1;33m,\u001b[0m \u001b[0mtols\u001b[0m\u001b[1;33m=\u001b[0m\u001b[1;36m0.0000001\u001b[0m\u001b[1;33m)\u001b[0m\u001b[1;33m\u001b[0m\u001b[0m\n\u001b[1;32m----> 2\u001b[1;33m \u001b[0mr\u001b[0m\u001b[1;33m.\u001b[0m\u001b[0mplotModelo\u001b[0m\u001b[1;33m(\u001b[0m\u001b[0mX\u001b[0m\u001b[1;33m,\u001b[0m\u001b[0mY\u001b[0m\u001b[1;33m,\u001b[0m \u001b[1;36m100\u001b[0m\u001b[1;33m)\u001b[0m\u001b[1;33m\u001b[0m\u001b[0m\n\u001b[0m",
        "\u001b[1;31mNameError\u001b[0m: name 'X' is not defined"
       ]
      }
     ],
     "prompt_number": 10
    },
    {
     "cell_type": "code",
     "collapsed": false,
     "input": [
      "X = np.loadtxt('data/edad.dat')\n",
      "Y = np.loadtxt('data/altura.dat')"
     ],
     "language": "python",
     "metadata": {},
     "outputs": [],
     "prompt_number": 11
    },
    {
     "cell_type": "code",
     "collapsed": false,
     "input": [
      "!cat data/edad.dat"
     ],
     "language": "python",
     "metadata": {},
     "outputs": [
      {
       "output_type": "stream",
       "stream": "stdout",
       "text": [
        "   2.0658746e+00\n",
        "   2.3684087e+00\n",
        "   2.5399929e+00\n",
        "   2.5420804e+00\n",
        "   2.5490790e+00\n",
        "   2.7866882e+00\n",
        "   2.9116825e+00\n",
        "   3.0356270e+00\n",
        "   3.1146696e+00\n",
        "   3.1582389e+00\n",
        "   3.3275944e+00\n",
        "   3.3793165e+00\n",
        "   3.4122006e+00\n",
        "   3.4215823e+00\n",
        "   3.5315732e+00\n",
        "   3.6393002e+00\n",
        "   3.6732537e+00\n",
        "   3.9256462e+00\n",
        "   4.0498646e+00\n",
        "   4.2483348e+00\n",
        "   4.3440052e+00\n",
        "   4.3826531e+00\n",
        "   4.4230602e+00\n",
        "   4.6102443e+00\n",
        "   4.6881183e+00\n",
        "   4.9777333e+00\n",
        "   5.0359967e+00\n",
        "   5.0684536e+00\n",
        "   5.4161491e+00\n",
        "   5.4395623e+00\n",
        "   5.4563207e+00\n",
        "   5.5698458e+00\n",
        "   5.6015729e+00\n",
        "   5.6877617e+00\n",
        "   5.7215602e+00\n",
        "   5.8538914e+00\n",
        "   6.1978026e+00\n",
        "   6.3510941e+00\n",
        "   6.4797033e+00\n",
        "   6.7383791e+00\n",
        "   6.8637686e+00\n",
        "   7.0223387e+00\n",
        "   7.0782373e+00\n",
        "   7.1514232e+00\n",
        "   7.4664023e+00\n",
        "   7.5973874e+00\n",
        "   7.7440717e+00\n",
        "   7.7729662e+00\n",
        "   7.8264514e+00\n",
        "   7.9306356e+00\n"
       ]
      }
     ],
     "prompt_number": 12
    },
    {
     "cell_type": "code",
     "collapsed": false,
     "input": [
      "!cat data/altura.dat"
     ],
     "language": "python",
     "metadata": {},
     "outputs": [
      {
       "output_type": "stream",
       "stream": "stdout",
       "text": [
        "   7.7918926e-01\n",
        "   9.1596757e-01\n",
        "   9.0538354e-01\n",
        "   9.0566138e-01\n",
        "   9.3898890e-01\n",
        "   9.6684740e-01\n",
        "   9.6436824e-01\n",
        "   9.1445939e-01\n",
        "   9.3933944e-01\n",
        "   9.6074971e-01\n",
        "   8.9837094e-01\n",
        "   9.1209739e-01\n",
        "   9.4238499e-01\n",
        "   9.6624578e-01\n",
        "   1.0526500e+00\n",
        "   1.0143791e+00\n",
        "   9.5969426e-01\n",
        "   9.6853716e-01\n",
        "   1.0766065e+00\n",
        "   1.1454978e+00\n",
        "   1.0340625e+00\n",
        "   1.0070009e+00\n",
        "   9.6683648e-01\n",
        "   1.0895919e+00\n",
        "   1.0634462e+00\n",
        "   1.1237239e+00\n",
        "   1.0323374e+00\n",
        "   1.0874452e+00\n",
        "   1.0702988e+00\n",
        "   1.1606493e+00\n",
        "   1.0778037e+00\n",
        "   1.1069758e+00\n",
        "   1.0971875e+00\n",
        "   1.1648603e+00\n",
        "   1.1411796e+00\n",
        "   1.0844156e+00\n",
        "   1.1252493e+00\n",
        "   1.1168341e+00\n",
        "   1.1970789e+00\n",
        "   1.2069462e+00\n",
        "   1.1251046e+00\n",
        "   1.1235672e+00\n",
        "   1.2132829e+00\n",
        "   1.2522652e+00\n",
        "   1.2497065e+00\n",
        "   1.1799706e+00\n",
        "   1.1897299e+00\n",
        "   1.3029934e+00\n",
        "   1.2601134e+00\n",
        "   1.2562267e+00\n"
       ]
      }
     ],
     "prompt_number": 13
    },
    {
     "cell_type": "code",
     "collapsed": false,
     "input": [
      "plt.scatter(X,Y, label=\"data\")\n",
      "plt.xlabel('Edad (yr)')\n",
      "plt.ylabel('Altura (m)')"
     ],
     "language": "python",
     "metadata": {},
     "outputs": [
      {
       "metadata": {},
       "output_type": "pyout",
       "prompt_number": 14,
       "text": [
        "<matplotlib.text.Text at 0x9d44940>"
       ]
      },
      {
       "metadata": {},
       "output_type": "display_data",
       "png": "[encoded data removed]",
       "text": [
        "<matplotlib.figure.Figure at 0x9c94320>"
       ]
      }
     ],
     "prompt_number": 14
    },
    {
     "cell_type": "code",
     "collapsed": false,
     "input": [
      "def plotGuess(x, y, interceptor, pendiente):\n",
      "    \n",
      "    modelo = lambda x,b,m: b + m*x # funci\u00f3n para graficar el modelo\n",
      "    \n",
      "    plt.scatter(x,y, label=\"data\")\n",
      "    plt.plot(x, modelo(x, interceptor, pendiente), label='Guess')\n",
      "    plt.xlabel('Edad (yr)')\n",
      "    plt.ylabel('Altura (m)')\n",
      "    plt.legend(loc=\"best\")"
     ],
     "language": "python",
     "metadata": {},
     "outputs": [],
     "prompt_number": 15
    },
    {
     "cell_type": "code",
     "collapsed": false,
     "input": [
      "interact(plotGuess, x=fixed(X), y=fixed(Y), interceptor=(0,2,0.02), pendiente=(0,2, 0.02));"
     ],
     "language": "python",
     "metadata": {},
     "outputs": [
      {
       "metadata": {},
       "output_type": "display_data",
       "png": "[encoded data removed]",
       "text": [
        "<matplotlib.figure.Figure at 0x9f14be0>"
       ]
      }
     ],
     "prompt_number": 16
    },
    {
     "cell_type": "markdown",
     "metadata": {},
     "source": [
      "B0 0.76 ; B1 0.06M"
     ]
    },
    {
     "cell_type": "code",
     "collapsed": false,
     "input": [
      "interact (RegresionLineal_init_,alpha =(-0.03,0.03), max_iters = 10000, tols = 0.0000001)"
     ],
     "language": "python",
     "metadata": {},
     "outputs": [
      {
       "ename": "NameError",
       "evalue": "name 'RegresionLineal_init_' is not defined",
       "output_type": "pyerr",
       "traceback": [
        "\u001b[1;31m---------------------------------------------------------------------------\u001b[0m\n\u001b[1;31mNameError\u001b[0m                                 Traceback (most recent call last)",
        "\u001b[1;32m<ipython-input-17-8a0f936cc3aa>\u001b[0m in \u001b[0;36m<module>\u001b[1;34m()\u001b[0m\n\u001b[1;32m----> 1\u001b[1;33m \u001b[0minteract\u001b[0m \u001b[1;33m(\u001b[0m\u001b[0mRegresionLineal_init_\u001b[0m\u001b[1;33m,\u001b[0m\u001b[0malpha\u001b[0m \u001b[1;33m=\u001b[0m\u001b[1;33m(\u001b[0m\u001b[1;33m-\u001b[0m\u001b[1;36m0.03\u001b[0m\u001b[1;33m,\u001b[0m\u001b[1;36m0.03\u001b[0m\u001b[1;33m)\u001b[0m\u001b[1;33m,\u001b[0m \u001b[0mmax_iters\u001b[0m \u001b[1;33m=\u001b[0m \u001b[1;36m10000\u001b[0m\u001b[1;33m,\u001b[0m \u001b[0mtols\u001b[0m \u001b[1;33m=\u001b[0m \u001b[1;36m0.0000001\u001b[0m\u001b[1;33m)\u001b[0m\u001b[1;33m\u001b[0m\u001b[0m\n\u001b[0m",
        "\u001b[1;31mNameError\u001b[0m: name 'RegresionLineal_init_' is not defined"
       ]
      }
     ],
     "prompt_number": 17
    },
    {
     "cell_type": "code",
     "collapsed": false,
     "input": [
      "r = RegresionLineal(alpha=0.03, max_iters=10000, tols=0.0000001)\n",
      "r.gradientDescent(X, Y)"
     ],
     "language": "python",
     "metadata": {},
     "outputs": [
      {
       "output_type": "stream",
       "stream": "stdout",
       "text": [
        "La funci\u00f3n convergi\u00f3 con beta: [ 0.73300235  0.06700325] en la iteraci\u00f3n 1190\n"
       ]
      }
     ],
     "prompt_number": 18
    },
    {
     "cell_type": "code",
     "collapsed": false,
     "input": [
      "def plotModelo(x,y,rl,iteracion):\n",
      "    modelo = lambda x,b,m: b + m*x # funci\u00f3n para graficar el modelo\n",
      "    \n",
      "    _beta = rl.historia['beta'][iteracion]\n",
      "\n",
      "    fig, ax = plt.subplots(1,2, figsize=(10,6))\n",
      "    ax[0].scatter(x,y, label=\"datos\")\n",
      "    ax[0].plot(x, modelo(x, _beta[0], _beta[1]), label=\"int: %1.2f, pen: %1.2f\" % (_beta[0], _beta[1]))\n",
      "    ax[0].set_xlabel('Edad (yr)')\n",
      "    ax[0].set_ylabel('Altura (m)')\n",
      "    ax[0].legend(loc=\"best\")\n",
      "    #ax[0].set_xlim(0, max(x))\n",
      "    #ax[0].set_ylim(0, max(y))\n",
      "    \n",
      "    costo  = rl.historia['costo']\n",
      "    \n",
      "    iteraciones = [i for i in range(0, len(costo))]\n",
      "    ax[1].plot(iteraciones, costo, 'g', label=\"costo\")\n",
      "    ax[1].plot(iteracion, costo[iteracion], 'or', label=\"iteracion\")\n",
      "    ax[1].set_xlabel('Iteraciones')\n",
      "    ax[1].set_ylabel('Costo')\n",
      "    ax[1].legend(loc=\"best\")"
     ],
     "language": "python",
     "metadata": {},
     "outputs": [],
     "prompt_number": 19
    },
    {
     "cell_type": "code",
     "collapsed": false,
     "input": [
      "interact (plotModelo,x=fixed(X), y=fixed(Y), r = (1,100),10);"
     ],
     "language": "python",
     "metadata": {},
     "outputs": [
      {
       "ename": "SyntaxError",
       "evalue": "non-keyword arg after keyword arg (<ipython-input-20-9d6afca10c41>, line 1)",
       "output_type": "pyerr",
       "traceback": [
        "\u001b[1;36m  File \u001b[1;32m\"<ipython-input-20-9d6afca10c41>\"\u001b[1;36m, line \u001b[1;32m1\u001b[0m\n\u001b[1;33m    interact (plotModelo,x=fixed(X), y=fixed(Y), r = (1,100),10);\u001b[0m\n\u001b[1;31mSyntaxError\u001b[0m\u001b[1;31m:\u001b[0m non-keyword arg after keyword arg\n"
       ]
      }
     ],
     "prompt_number": 20
    },
    {
     "cell_type": "code",
     "collapsed": false,
     "input": [
      "plotModelo(X,Y, r, 10) #dibuja el modelo en la tercera iteracion"
     ],
     "language": "python",
     "metadata": {},
     "outputs": [
      {
       "metadata": {},
       "output_type": "display_data",
       "png": "[encoded data removed]",
       "text": [
        "<matplotlib.figure.Figure at 0xa108978>"
       ]
      }
     ],
     "prompt_number": 21
    },
    {
     "cell_type": "code",
     "collapsed": false,
     "input": [
      "ultima_iteracion = (r.breaking_iteration - 1) if r.breaking_iteration else (r.max_iters - 1)\n",
      "\n",
      "interact(plotModelo, x=fixed(X), y=fixed(Y), rl=fixed(r), iteracion=(0,ultima_iteracion,10));"
     ],
     "language": "python",
     "metadata": {},
     "outputs": [
      {
       "metadata": {},
       "output_type": "display_data",
       "png": "[encoded data removed]",
       "text": [
        "<matplotlib.figure.Figure at 0xa267748>"
       ]
      }
     ],
     "prompt_number": 22
    },
    {
     "cell_type": "code",
     "collapsed": false,
     "input": [
      "r.beta #vector de dos dimensiones"
     ],
     "language": "python",
     "metadata": {},
     "outputs": [
      {
       "metadata": {},
       "output_type": "pyout",
       "prompt_number": 23,
       "text": [
        "array([ 0.73300235,  0.06700325])"
       ]
      }
     ],
     "prompt_number": 23
    },
    {
     "cell_type": "markdown",
     "metadata": {},
     "source": [
      "REPASO"
     ]
    },
    {
     "cell_type": "code",
     "collapsed": false,
     "input": [
      "X = np.loadtxt('data/edad.dat')"
     ],
     "language": "python",
     "metadata": {},
     "outputs": [],
     "prompt_number": 26
    },
    {
     "cell_type": "code",
     "collapsed": true,
     "input": [
      "unos = np.ones((X.shape[0],1))\n",
      "Xt = X.reshape(X.shape[0],1)\n",
      "Xt = np.concatenate((unos,Xt), axis = 1)\n",
      "Xt"
     ],
     "language": "python",
     "metadata": {},
     "outputs": [
      {
       "metadata": {},
       "output_type": "pyout",
       "prompt_number": 32,
       "text": [
        "array([[ 1.       ,  2.0658746],\n",
        "       [ 1.       ,  2.3684087],\n",
        "       [ 1.       ,  2.5399929],\n",
        "       [ 1.       ,  2.5420804],\n",
        "       [ 1.       ,  2.549079 ],\n",
        "       [ 1.       ,  2.7866882],\n",
        "       [ 1.       ,  2.9116825],\n",
        "       [ 1.       ,  3.035627 ],\n",
        "       [ 1.       ,  3.1146696],\n",
        "       [ 1.       ,  3.1582389],\n",
        "       [ 1.       ,  3.3275944],\n",
        "       [ 1.       ,  3.3793165],\n",
        "       [ 1.       ,  3.4122006],\n",
        "       [ 1.       ,  3.4215823],\n",
        "       [ 1.       ,  3.5315732],\n",
        "       [ 1.       ,  3.6393002],\n",
        "       [ 1.       ,  3.6732537],\n",
        "       [ 1.       ,  3.9256462],\n",
        "       [ 1.       ,  4.0498646],\n",
        "       [ 1.       ,  4.2483348],\n",
        "       [ 1.       ,  4.3440052],\n",
        "       [ 1.       ,  4.3826531],\n",
        "       [ 1.       ,  4.4230602],\n",
        "       [ 1.       ,  4.6102443],\n",
        "       [ 1.       ,  4.6881183],\n",
        "       [ 1.       ,  4.9777333],\n",
        "       [ 1.       ,  5.0359967],\n",
        "       [ 1.       ,  5.0684536],\n",
        "       [ 1.       ,  5.4161491],\n",
        "       [ 1.       ,  5.4395623],\n",
        "       [ 1.       ,  5.4563207],\n",
        "       [ 1.       ,  5.5698458],\n",
        "       [ 1.       ,  5.6015729],\n",
        "       [ 1.       ,  5.6877617],\n",
        "       [ 1.       ,  5.7215602],\n",
        "       [ 1.       ,  5.8538914],\n",
        "       [ 1.       ,  6.1978026],\n",
        "       [ 1.       ,  6.3510941],\n",
        "       [ 1.       ,  6.4797033],\n",
        "       [ 1.       ,  6.7383791],\n",
        "       [ 1.       ,  6.8637686],\n",
        "       [ 1.       ,  7.0223387],\n",
        "       [ 1.       ,  7.0782373],\n",
        "       [ 1.       ,  7.1514232],\n",
        "       [ 1.       ,  7.4664023],\n",
        "       [ 1.       ,  7.5973874],\n",
        "       [ 1.       ,  7.7440717],\n",
        "       [ 1.       ,  7.7729662],\n",
        "       [ 1.       ,  7.8264514],\n",
        "       [ 1.       ,  7.9306356]])"
       ]
      }
     ],
     "prompt_number": 32
    },
    {
     "cell_type": "code",
     "collapsed": false,
     "input": [
      "Xt.shape"
     ],
     "language": "python",
     "metadata": {},
     "outputs": [
      {
       "metadata": {},
       "output_type": "pyout",
       "prompt_number": 33,
       "text": [
        "(50L, 2L)"
       ]
      }
     ],
     "prompt_number": 33
    },
    {
     "cell_type": "code",
     "collapsed": false,
     "input": [
      "np.dot(Xt,5)"
     ],
     "language": "python",
     "metadata": {},
     "outputs": [
      {
       "metadata": {},
       "output_type": "pyout",
       "prompt_number": 38,
       "text": [
        "array([[  5.       ,  10.329373 ],\n",
        "       [  5.       ,  11.8420435],\n",
        "       [  5.       ,  12.6999645],\n",
        "       [  5.       ,  12.710402 ],\n",
        "       [  5.       ,  12.745395 ],\n",
        "       [  5.       ,  13.933441 ],\n",
        "       [  5.       ,  14.5584125],\n",
        "       [  5.       ,  15.178135 ],\n",
        "       [  5.       ,  15.573348 ],\n",
        "       [  5.       ,  15.7911945],\n",
        "       [  5.       ,  16.637972 ],\n",
        "       [  5.       ,  16.8965825],\n",
        "       [  5.       ,  17.061003 ],\n",
        "       [  5.       ,  17.1079115],\n",
        "       [  5.       ,  17.657866 ],\n",
        "       [  5.       ,  18.196501 ],\n",
        "       [  5.       ,  18.3662685],\n",
        "       [  5.       ,  19.628231 ],\n",
        "       [  5.       ,  20.249323 ],\n",
        "       [  5.       ,  21.241674 ],\n",
        "       [  5.       ,  21.720026 ],\n",
        "       [  5.       ,  21.9132655],\n",
        "       [  5.       ,  22.115301 ],\n",
        "       [  5.       ,  23.0512215],\n",
        "       [  5.       ,  23.4405915],\n",
        "       [  5.       ,  24.8886665],\n",
        "       [  5.       ,  25.1799835],\n",
        "       [  5.       ,  25.342268 ],\n",
        "       [  5.       ,  27.0807455],\n",
        "       [  5.       ,  27.1978115],\n",
        "       [  5.       ,  27.2816035],\n",
        "       [  5.       ,  27.849229 ],\n",
        "       [  5.       ,  28.0078645],\n",
        "       [  5.       ,  28.4388085],\n",
        "       [  5.       ,  28.607801 ],\n",
        "       [  5.       ,  29.269457 ],\n",
        "       [  5.       ,  30.989013 ],\n",
        "       [  5.       ,  31.7554705],\n",
        "       [  5.       ,  32.3985165],\n",
        "       [  5.       ,  33.6918955],\n",
        "       [  5.       ,  34.318843 ],\n",
        "       [  5.       ,  35.1116935],\n",
        "       [  5.       ,  35.3911865],\n",
        "       [  5.       ,  35.757116 ],\n",
        "       [  5.       ,  37.3320115],\n",
        "       [  5.       ,  37.986937 ],\n",
        "       [  5.       ,  38.7203585],\n",
        "       [  5.       ,  38.864831 ],\n",
        "       [  5.       ,  39.132257 ],\n",
        "       [  5.       ,  39.653178 ]])"
       ]
      }
     ],
     "prompt_number": 38
    },
    {
     "cell_type": "code",
     "collapsed": false,
     "input": [],
     "language": "python",
     "metadata": {},
     "outputs": []
    }
   ],
   "metadata": {}
  }
 ]
}