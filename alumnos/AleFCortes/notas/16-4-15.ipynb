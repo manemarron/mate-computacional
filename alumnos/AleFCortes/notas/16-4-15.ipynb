{
 "metadata": {
  "name": "",
  "signature": "sha256:9c80e5f54c5333cc972708db73847027dd7d3f4a03a65038f43ac0ca719c6aa1"
 },
 "nbformat": 3,
 "nbformat_minor": 0,
 "worksheets": [
  {
   "cells": [
    {
     "cell_type": "heading",
     "level": 1,
     "metadata": {},
     "source": [
      "Econom\u00eda"
     ]
    },
    {
     "cell_type": "markdown",
     "metadata": {},
     "source": [
      "Adam Smith. Mano invisible, hay que modificarla cada tiempo para que se mueva y haga su trabajo."
     ]
    },
    {
     "cell_type": "markdown",
     "metadata": {},
     "source": [
      "Ejemplo de cuando falla la mano invisible: internet explorer, crado por un fisico experimental."
     ]
    },
    {
     "cell_type": "markdown",
     "metadata": {},
     "source": [
      "Nadie instalaba con netescape, porque internet explorer ven\u00eda de facto.\n"
     ]
    }
   ],
   "metadata": {}
  }
 ]
}