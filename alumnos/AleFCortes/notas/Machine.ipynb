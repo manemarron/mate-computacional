{
 "metadata": {
  "name": "",
  "signature": "sha256:ea7a8a91782b4604515ba3c00e5d8875054957737ab14bbeefa7c29c966e7f71"
 },
 "nbformat": 3,
 "nbformat_minor": 0,
 "worksheets": [
  {
   "cells": [
    {
     "cell_type": "heading",
     "level": 1,
     "metadata": {},
     "source": [
      "Tareas"
     ]
    },
    {
     "cell_type": "code",
     "collapsed": false,
     "input": [
      "%matplotlib inline\n",
      "import numpy as np\n",
      "import matplotlib.pyplot as plt\n",
      "\n",
      "import sympy as sym\n",
      "from sympy.interactive import printing\n",
      "printing.init_printing(use_latex=True)\n",
      "\n",
      "#from regresiones import *"
     ],
     "language": "python",
     "metadata": {},
     "outputs": [],
     "prompt_number": 1
    },
    {
     "cell_type": "code",
     "collapsed": false,
     "input": [
      "class RegresionLineal:\n",
      "    def __init__(self, alpha=0.3, max_iters=100, tols=0.001): #constructor\n",
      "        \"\"\"\n",
      "        Parametros\n",
      "        ---------------\n",
      "        alpha = Learning rate\n",
      "        max_iters = Numero maximo de iteraciones\n",
      "        tols = definicion de convergencia\n",
      "        \"\"\"\n",
      "        self.alpha = alpha\n",
      "        self.max_iters = max_iters\n",
      "        self.tols = tols\n",
      "        self.breaking_iteration = None\n",
      "        self.historia = {'costo':[], 'beta':[]}  # Con fines de graficacion\n",
      "        \n",
      "    def gradientDescent(self, x, y):\n",
      "        \"\"\"\n",
      "        Parametros:\n",
      "        ---------------\n",
      "        x = vector de entrenamiento de features\n",
      "        y = vector de entrenamiento de variable a predecir (target)\n",
      "        \"\"\"    \n",
      "        \n",
      "        # ajustamos el vector de features\n",
      "        unos = np.ones((x.shape[0], 1))\n",
      "        Xt = X.reshape(x.shape[0], 1)\n",
      "        Xt = np.concatenate((unos, Xt), axis=1)\n",
      "        \n",
      "        i = 0\n",
      "        prep_J = 0\n",
      "        m, n = Xt.shape\n",
      "        self.beta = np.zeros(n) \n",
      "        \n",
      "        while i < self.max_iters:     \n",
      "            # Actualizamos beta\n",
      "            self.beta = self.beta - self.alpha * self.gradiente(Xt, y)\n",
      "            \n",
      "            J = self.costo(Xt, y)\n",
      "            \n",
      "            if abs(J - prep_J) <= self.tols:\n",
      "                print 'La funcion convergio con beta: %s en la iteracion %i' % ( str(self.beta), i )\n",
      "                self.breaking_iteration = i\n",
      "                break\n",
      "            else:\n",
      "                prep_J = J\n",
      "            \n",
      "            self.historia['costo'].append(J)\n",
      "            self.historia['beta'].append(self.beta)   \n",
      "            i += 1\n",
      "    \n",
      "    def hipotesis(self, x):\n",
      "        return np.dot(x, self.beta) #producto punto\n",
      "    \n",
      "    def costo(self, x, y):\n",
      "        m = x.shape[0]\n",
      "        error = self.hipotesis(x) - y\n",
      "        return np.dot(error.T, error) / (2 * m) \n",
      "    \n",
      "    def gradiente(self, x, y):\n",
      "        m = x.shape[0]\n",
      "        error = self.hipotesis(x) - y        \n",
      "        return np.dot(x.T, error) / m    \n",
      "    \n",
      "    #mio\n",
      "    def plotM(X, interceptor, pendiente, alfa):\n",
      "        modelo = lambda x,b,m: b + m*x # funcion para graficar el modelo\n",
      "        \n",
      "    def plot(self,x,y,iteracion):\n",
      "        modelo = lambda x,b,m: b + m*x \n",
      "        \n",
      "        #ultima_iteracion = (r.breaking_iteration - 1) if r.breaking_iteration else (r.max_iters - 1)\n",
      "        _beta = self.historia['beta'][iteracion]\n",
      "\n",
      "        plt.scatter(x,y, label=\"datos\")\n",
      "        plt.plot(x, modelo(x, _beta[0], _beta[1]), label=\"int: %1.2f, pen: %1.2f\" % (_beta[0], _beta[1]))\n",
      "        ax=plt.gca()\n",
      "        ax.set_xlabel('Edad (yr)')\n",
      "        ax.set_ylabel('Altura (m)')\n",
      "        plt.legend(loc=\"best\")\n"
     ],
     "language": "python",
     "metadata": {},
     "outputs": [],
     "prompt_number": 2
    },
    {
     "cell_type": "code",
     "collapsed": false,
     "input": [
      "!cat regresiones.py"
     ],
     "language": "python",
     "metadata": {},
     "outputs": [
      {
       "output_type": "stream",
       "stream": "stdout",
       "text": [
        "\r\n",
        "class RegresionLineal:\r\n",
        "    def __init__(self, alpha=0.3, max_iters=100, tols=0.001): #constructor\r\n",
        "        \"\"\"\r\n",
        "        Parametros\r\n",
        "        ---------------\r\n",
        "        alpha = Learning rate\r\n",
        "        max_iters = Numero maximo de iteraciones\r\n",
        "        tols = definicion de convergencia\r\n",
        "        \"\"\"\r\n",
        "        self.alpha = alpha\r\n",
        "        self.max_iters = max_iters\r\n",
        "        self.tols = tols\r\n",
        "        self.breaking_iteration = None\r\n",
        "        self.historia = {'costo':[], 'beta':[]}  # Con fines de graficacion\r\n",
        "        \r\n",
        "    def gradientDescent(self, x, y):\r\n",
        "        \"\"\"\r\n",
        "        Parametros:\r\n",
        "        ---------------\r\n",
        "        x = vector de entrenamiento de features\r\n",
        "        y = vector de entrenamiento de variable a predecir (target)\r\n",
        "        \"\"\"    \r\n",
        "        \r\n",
        "        # ajustamos el vector de features\r\n",
        "        unos = np.ones((x.shape[0], 1))\r\n",
        "        Xt = X.reshape(x.shape[0], 1)\r\n",
        "        Xt = np.concatenate((unos, Xt), axis=1)\r\n",
        "        \r\n",
        "        i = 0\r\n",
        "        prep_J = 0\r\n",
        "        m, n = Xt.shape\r\n",
        "        self.beta = np.zeros(n) \r\n",
        "        \r\n",
        "        while i < self.max_iters:     \r\n",
        "            # Actualizamos beta\r\n",
        "            self.beta = self.beta - self.alpha * self.gradiente(Xt, y)\r\n",
        "            \r\n",
        "            J = self.costo(Xt, y)\r\n",
        "            \r\n",
        "            if abs(J - prep_J) <= self.tols:"
       ]
      },
      {
       "output_type": "stream",
       "stream": "stdout",
       "text": [
        "\r\n",
        "                print 'La funcion convergio con beta: %s en la iteracion %i' % ( str(self.beta), i )\r\n",
        "                self.breaking_iteration = i\r\n",
        "                break\r\n",
        "            else:\r\n",
        "                prep_J = J\r\n",
        "            \r\n",
        "            self.historia['costo'].append(J)\r\n",
        "            self.historia['beta'].append(self.beta)   \r\n",
        "            i += 1\r\n",
        "    \r\n",
        "    def hipotesis(self, x):\r\n",
        "        return np.dot(x, self.beta) #producto punto\r\n",
        "    \r\n",
        "    def costo(self, x, y):\r\n",
        "        m = x.shape[0]\r\n",
        "        error = self.hipotesis(x) - y\r\n",
        "        return np.dot(error.T, error) / (2 * m) \r\n",
        "    \r\n",
        "    def gradiente(self, x, y):\r\n",
        "        m = x.shape[0]\r\n",
        "        error = self.hipotesis(x) - y        \r\n",
        "        return np.dot(x.T, error) / m    \r\n",
        "    \r\n",
        "    #mio\r\n",
        "    def plot(X, interceptor, pendiente, alfa):\r\n",
        "        modelo = lambda x,b,m: b + m*x # funcion para graficar el modelo\r\n",
        "    "
       ]
      }
     ],
     "prompt_number": 3
    },
    {
     "cell_type": "heading",
     "level": 2,
     "metadata": {},
     "source": [
      "Problema 1"
     ]
    },
    {
     "cell_type": "markdown",
     "metadata": {},
     "source": [
      "**(a)** Usando **SimPy** demostrar que \n",
      "\n",
      "$$\n",
      "\\frac{\\partial}{\\partial \\beta_j} \\textbf{J}(\\beta) = \\frac{1}{m}\\sum_{i=1}^{m}\\left(\\hat{y}(x^{(i)}) - y(x^{(i)})\\right) \\cdot x^{(i)}_j\n",
      "$$"
     ]
    },
    {
     "cell_type": "markdown",
     "metadata": {},
     "source": [
      "$$\\textbf{J}(\\beta_0, \\beta_1) = \\frac{1}{2n}\\sum_{(x^{(i)}, y^{(i)}) \\in X \\times Y} (y^{(i)} - \\hat{y}^{(i)}(x^{(i)}))^2 = \\frac{1}{2n}\\sum_{(x^{(i)}, y^{(i)}) \\in X \\times Y} (y^{(i)} - \\beta_0 - \\beta_1 x^{(i)})^2$$"
     ]
    },
    {
     "cell_type": "code",
     "collapsed": false,
     "input": [
      "f=(1/m)*sym.sum(yg*(x**i)-y(x**i))*xj**i"
     ],
     "language": "python",
     "metadata": {},
     "outputs": []
    },
    {
     "cell_type": "heading",
     "level": 2,
     "metadata": {},
     "source": [
      "Problema 2"
     ]
    },
    {
     "cell_type": "markdown",
     "metadata": {},
     "source": [
      "**(a)**  Usando los datos de `chirps.txt`"
     ]
    },
    {
     "cell_type": "code",
     "collapsed": false,
     "input": [
      "%cat data/chirps.txt"
     ],
     "language": "python",
     "metadata": {},
     "outputs": [
      {
       "output_type": "stream",
       "stream": "stdout",
       "text": [
        "#Chirps/Second \tTemperature (\ufffd\ufffd F)\r",
        "\r\n",
        "20.0 \t88.6\r",
        "\r\n",
        "16.0 \t71.6\r",
        "\r\n",
        "19.8 \t93.3\r",
        "\r\n",
        "18.4 \t84.3\r",
        "\r\n",
        "17.1 \t80.6\r",
        "\r\n",
        "15.5 \t75.2\r",
        "\r\n",
        "14.7 \t69.7\r",
        "\r\n",
        "15.7 \t71.6\r",
        "\r\n",
        "15.4 \t69.4\r",
        "\r\n",
        "16.3 \t83.3\r",
        "\r\n",
        "15.0 \t79.6\r",
        "\r\n",
        "17.2 \t82.6\r",
        "\r\n",
        "16.0 \t80.6\r",
        "\r\n",
        "17.0 \t83.5\r",
        "\r\n",
        "14.4 \t76.3\r",
        "\r\n"
       ]
      }
     ],
     "prompt_number": 4
    },
    {
     "cell_type": "code",
     "collapsed": false,
     "input": [
      "X = np.loadtxt('data/chirps.txt')[:,0]\n",
      "Y = np.loadtxt('data/chirps.txt')[:,1]"
     ],
     "language": "python",
     "metadata": {},
     "outputs": [],
     "prompt_number": 3
    },
    {
     "cell_type": "code",
     "collapsed": false,
     "input": [
      "plt.scatter(X,Y, label=\"data\")\n",
      "plt.xlabel('Chips (sec)')\n",
      "plt.ylabel('Temperature (F)')\n",
      "ax = plt.gca()   \n",
      "ax.spines['right'].set_color('none')\n",
      "ax.spines['top'].set_color('none')\n",
      "ax.xaxis.set_ticks_position('bottom')\n",
      "ax.yaxis.set_ticks_position('left')"
     ],
     "language": "python",
     "metadata": {},
     "outputs": [
      {
       "metadata": {},
       "output_type": "display_data",
       "png": "[encoded data removed]",
       "text": [
        "<matplotlib.figure.Figure at 0x7ff679ef26d0>"
       ]
      }
     ],
     "prompt_number": 4
    },
    {
     "cell_type": "code",
     "collapsed": false,
     "input": [
      "iteracion=100\n",
      "r=RegresionLineal(alpha=0.03, max_iters=10000, tols=0.0000001)\n",
      "r.gradientDescent(X,Y)\n",
      "r.plot(X,Y,iteracion)"
     ],
     "language": "python",
     "metadata": {},
     "outputs": [
      {
       "metadata": {},
       "output_type": "display_data",
       "png": "[encoded data removed]",
       "text": [
        "<matplotlib.figure.Figure at 0x7ff679d23790>"
       ]
      }
     ],
     "prompt_number": 6
    },
    {
     "cell_type": "markdown",
     "metadata": {},
     "source": [
      "Entrenar una regresi\u00f3n lineal. Grafique los datos y el mejor modelo. Explique como lleg\u00f3 a los valores de $\\alpha$. \u00bfCoinciden con los mostrados en la p\u00e1gina web?"
     ]
    },
    {
     "cell_type": "markdown",
     "metadata": {},
     "source": [
      "<div class=\"alert alert-warning\">\n",
      "**NOTA**: Datos obtenidos de [aqu\u00ed](http://mathbits.com/MathBits/TISection/Statistics2/linearREAL.htm)\n",
      "</div>"
     ]
    },
    {
     "cell_type": "heading",
     "level": 2,
     "metadata": {},
     "source": [
      "Problema 3"
     ]
    },
    {
     "cell_type": "markdown",
     "metadata": {},
     "source": [
      "**(a)** Usando los datos del [cuarteto de Anscombe](http://en.wikipedia.org/wiki/Anscombe%27s_quartet) Calcule la regresi\u00f3n lineal \u00bfQu\u00e9 sucede?"
     ]
    },
    {
     "cell_type": "code",
     "collapsed": false,
     "input": [
      "X1 = np.loadtxt('anscombe.txt')[:,0]\n",
      "Y1 = np.loadtxt('anscombe.txt')[:,1]\n",
      "\n",
      "plt.scatter(X1,Y1, label=\"data\")\n",
      "plt.xlabel('X')\n",
      "plt.ylabel('Y')\n",
      "ax = plt.gca()   \n",
      "ax.spines['right'].set_color('none')\n",
      "ax.spines['top'].set_color('none')\n",
      "ax.xaxis.set_ticks_position('bottom')\n",
      "ax.yaxis.set_ticks_position('left')"
     ],
     "language": "python",
     "metadata": {},
     "outputs": [
      {
       "metadata": {},
       "output_type": "display_data",
       "png": "[encoded data removed]",
       "text": [
        "<matplotlib.figure.Figure at 0x7ffa700f7990>"
       ]
      }
     ],
     "prompt_number": 64
    },
    {
     "cell_type": "code",
     "collapsed": false,
     "input": [
      "iteracion=10\n",
      "r=RegresionLineal(alpha=0.03, max_iters=10000, tols=0.0000001)\n",
      "r.gradientDescent(X,Y)\n",
      "r.plot(X,Y,iteracion)"
     ],
     "language": "python",
     "metadata": {},
     "outputs": [
      {
       "metadata": {},
       "output_type": "display_data",
       "png": "[encoded data removed]",
       "text": [
        "<matplotlib.figure.Figure at 0x7ffa72ce7b90>"
       ]
      }
     ],
     "prompt_number": 67
    },
    {
     "cell_type": "code",
     "collapsed": false,
     "input": [
      "X1 = np.loadtxt('anscombe.txt')[:,2]\n",
      "Y1 = np.loadtxt('anscombe.txt')[:,3]\n",
      "\n",
      "plt.scatter(X1,Y1, label=\"data\")\n",
      "plt.xlabel('X')\n",
      "plt.ylabel('Y')\n",
      "ax = plt.gca()   \n",
      "ax.spines['right'].set_color('none')\n",
      "ax.spines['top'].set_color('none')\n",
      "ax.xaxis.set_ticks_position('bottom')\n",
      "ax.yaxis.set_ticks_position('left')"
     ],
     "language": "python",
     "metadata": {},
     "outputs": [
      {
       "metadata": {},
       "output_type": "display_data",
       "png": "[encoded data removed]",
       "text": [
        "<matplotlib.figure.Figure at 0x7ffa72e68e50>"
       ]
      }
     ],
     "prompt_number": 7
    },
    {
     "cell_type": "code",
     "collapsed": false,
     "input": [
      "iteracion=10\n",
      "r=RegresionLineal(alpha=0.03, max_iters=10000, tols=0.0000001)\n",
      "r.gradientDescent(X,Y)\n",
      "r.plot(X,Y,iteracion)"
     ],
     "language": "python",
     "metadata": {},
     "outputs": []
    },
    {
     "cell_type": "code",
     "collapsed": false,
     "input": [
      "X1 = np.loadtxt('anscombe.txt')[:,4]\n",
      "Y1 = np.loadtxt('anscombe.txt')[:,5]\n",
      "\n",
      "plt.scatter(X1,Y1, label=\"data\")\n",
      "plt.xlabel('X')\n",
      "plt.ylabel('Y')\n",
      "ax = plt.gca()   \n",
      "ax.spines['right'].set_color('none')\n",
      "ax.spines['top'].set_color('none')\n",
      "ax.xaxis.set_ticks_position('bottom')\n",
      "ax.yaxis.set_ticks_position('left')"
     ],
     "language": "python",
     "metadata": {},
     "outputs": [
      {
       "metadata": {},
       "output_type": "display_data",
       "png": "[encoded data removed]",
       "text": [
        "<matplotlib.figure.Figure at 0x7ffa72df5410>"
       ]
      }
     ],
     "prompt_number": 8
    },
    {
     "cell_type": "code",
     "collapsed": false,
     "input": [
      "iteracion=10\n",
      "r=RegresionLineal(alpha=0.03, max_iters=10000, tols=0.0000001)\n",
      "r.gradientDescent(X,Y)\n",
      "r.plot(X,Y,iteracion)"
     ],
     "language": "python",
     "metadata": {},
     "outputs": []
    },
    {
     "cell_type": "code",
     "collapsed": false,
     "input": [
      "X1 = np.loadtxt('anscombe.txt')[:,5]\n",
      "Y1 = np.loadtxt('anscombe.txt')[:,6]\n",
      "\n",
      "plt.scatter(X1,Y1, label=\"data\")\n",
      "plt.xlabel('X')\n",
      "plt.ylabel('Y')\n",
      "ax = plt.gca()   \n",
      "ax.spines['right'].set_color('none')\n",
      "ax.spines['top'].set_color('none')\n",
      "ax.xaxis.set_ticks_position('bottom')\n",
      "ax.yaxis.set_ticks_position('left')"
     ],
     "language": "python",
     "metadata": {},
     "outputs": [
      {
       "metadata": {},
       "output_type": "display_data",
       "png": "[encoded data removed]",
       "text": [
        "<matplotlib.figure.Figure at 0x7ffa72ca1310>"
       ]
      }
     ],
     "prompt_number": 9
    },
    {
     "cell_type": "code",
     "collapsed": false,
     "input": [
      "iteracion=10\n",
      "r=RegresionLineal(alpha=0.03, max_iters=10000, tols=0.0000001)\n",
      "r.gradientDescent(X,Y)\n",
      "r.plot(X,Y,iteracion)"
     ],
     "language": "python",
     "metadata": {},
     "outputs": []
    },
    {
     "cell_type": "heading",
     "level": 2,
     "metadata": {},
     "source": [
      "Problema 4"
     ]
    },
    {
     "cell_type": "markdown",
     "metadata": {},
     "source": [
      "Use el archivo `radioactive_decay.dat`"
     ]
    },
    {
     "cell_type": "code",
     "collapsed": false,
     "input": [
      "%cat data/radioactive_decay.txt"
     ],
     "language": "python",
     "metadata": {},
     "outputs": [
      {
       "output_type": "stream",
       "stream": "stdout",
       "text": [
        "#time   N_(remaining)\r\n",
        "0.0\t10.48\r\n",
        "1.0\t7.54\r\n",
        "2.0\t5.49\r\n",
        "3.0\t4.02\r\n",
        "4.0\t2.74\r\n",
        "5.0\t2.02\r\n",
        "6.0\t1.50\r\n",
        "7.0\t1.09\r\n",
        "8.0\t0.68\r\n",
        "9.0\t0.57\r\n",
        "10.0\t0.37\r\n",
        "11.0\t0.31\r\n",
        "12.0\t0.19\r\n",
        "13.0\t0.15\r\n",
        "14.0\t0.13\r\n",
        "15.0\t0.11\r\n"
       ]
      }
     ],
     "prompt_number": 2
    },
    {
     "cell_type": "markdown",
     "metadata": {},
     "source": [
      "**(a)** Grafique los datos \u00bfQu\u00e9 forma tienen?"
     ]
    },
    {
     "cell_type": "markdown",
     "metadata": {},
     "source": [
      "**(b)** \u00bfQu\u00e9 transformaci\u00f3n se le ocurre para linearizarlos? Explique y grafique de nuevo. Guarde los datos transformados en un archivo llamado `transform_radioactive_decay.txt`"
     ]
    },
    {
     "cell_type": "markdown",
     "metadata": {},
     "source": [
      "**(c)** Aplique la regresi\u00f3n lineal a este conjunto de datos transformado, leyendo los datos del archivo reci\u00e9n creado."
     ]
    },
    {
     "cell_type": "markdown",
     "metadata": {},
     "source": [
      "**(d)** \u00bfCu\u00e1les son los valores de $\\beta$ que mejor ajustan? \u00bfCu\u00e1les son el espacio sin transformar? Explique."
     ]
    },
    {
     "cell_type": "code",
     "collapsed": false,
     "input": [
      "X = np.loadtxt('data/radioactive_decay.txt')[:,0]\n",
      "Y = np.loadtxt('data/radioactive_decay.txt')[:,1]"
     ],
     "language": "python",
     "metadata": {},
     "outputs": [],
     "prompt_number": 10
    },
    {
     "cell_type": "code",
     "collapsed": false,
     "input": [
      "plt.scatter(X,Y, label=\"data\")\n",
      "plt.xlabel('Time (sec)')\n",
      "plt.ylabel('N (remaining)')\n",
      "ax = plt.gca()   \n",
      "ax.spines['right'].set_color('none')\n",
      "ax.spines['top'].set_color('none')\n",
      "ax.xaxis.set_ticks_position('bottom')\n",
      "ax.yaxis.set_ticks_position('left')"
     ],
     "language": "python",
     "metadata": {},
     "outputs": [
      {
       "metadata": {},
       "output_type": "display_data",
       "png": "[encoded data removed]",
       "text": [
        "<matplotlib.figure.Figure at 0x7ffa72dc41d0>"
       ]
      }
     ],
     "prompt_number": 11
    },
    {
     "cell_type": "code",
     "collapsed": false,
     "input": [
      "Y = np.loadtxt('data/radioactive_decay.txt')[:,1]\n",
      "Y=np.log(Y)\n",
      "Y"
     ],
     "language": "python",
     "metadata": {},
     "outputs": [
      {
       "metadata": {},
       "output_type": "pyout",
       "prompt_number": 12,
       "text": [
        "array([ 2.34946868,  2.02022218,  1.70292826,  1.3912819 ,  1.00795792,\n",
        "        0.70309751,  0.40546511,  0.0861777 , -0.38566248, -0.56211892,\n",
        "       -0.99425227, -1.17118298, -1.66073121, -1.89711998, -2.04022083,\n",
        "       -2.20727491])"
       ]
      }
     ],
     "prompt_number": 12
    },
    {
     "cell_type": "code",
     "collapsed": false,
     "input": [
      "plt.scatter(X,Y, label=\"data\")\n",
      "plt.xlabel('Time (sec)')\n",
      "plt.ylabel('N (remaining)')\n",
      "ax = plt.gca()   \n",
      "ax.spines['right'].set_color('none')\n",
      "ax.spines['top'].set_color('none')\n",
      "ax.xaxis.set_ticks_position('bottom')\n",
      "ax.yaxis.set_ticks_position('left')"
     ],
     "language": "python",
     "metadata": {},
     "outputs": [
      {
       "metadata": {},
       "output_type": "display_data",
       "png": "[encoded data removed]",
       "text": [
        "<matplotlib.figure.Figure at 0x7ffa72b75550>"
       ]
      }
     ],
     "prompt_number": 13
    },
    {
     "cell_type": "code",
     "collapsed": false,
     "input": [
      "#%%file transform_radioactive_decay.txt\n",
      "arr=np.zeros((16,2))\n",
      "arr[:,0]=X\n",
      "arr[:,1]=Y\n",
      "arr"
     ],
     "language": "python",
     "metadata": {},
     "outputs": [
      {
       "metadata": {},
       "output_type": "pyout",
       "prompt_number": 14,
       "text": [
        "array([[  0.        ,   2.34946868],\n",
        "       [  1.        ,   2.02022218],\n",
        "       [  2.        ,   1.70292826],\n",
        "       [  3.        ,   1.3912819 ],\n",
        "       [  4.        ,   1.00795792],\n",
        "       [  5.        ,   0.70309751],\n",
        "       [  6.        ,   0.40546511],\n",
        "       [  7.        ,   0.0861777 ],\n",
        "       [  8.        ,  -0.38566248],\n",
        "       [  9.        ,  -0.56211892],\n",
        "       [ 10.        ,  -0.99425227],\n",
        "       [ 11.        ,  -1.17118298],\n",
        "       [ 12.        ,  -1.66073121],\n",
        "       [ 13.        ,  -1.89711998],\n",
        "       [ 14.        ,  -2.04022083],\n",
        "       [ 15.        ,  -2.20727491]])"
       ]
      }
     ],
     "prompt_number": 14
    },
    {
     "cell_type": "code",
     "collapsed": false,
     "input": [
      "%%file prueba.txt\n",
      "arr"
     ],
     "language": "python",
     "metadata": {},
     "outputs": [
      {
       "output_type": "stream",
       "stream": "stdout",
       "text": [
        "Overwriting prueba.txt\n"
       ]
      }
     ],
     "prompt_number": 15
    },
    {
     "cell_type": "code",
     "collapsed": false,
     "input": [
      "np.savetxt('transform_radioactive_decay.txt', arr)"
     ],
     "language": "python",
     "metadata": {},
     "outputs": [],
     "prompt_number": 16
    },
    {
     "cell_type": "code",
     "collapsed": false,
     "input": [
      "!cat transform_radioactive_decay.txt"
     ],
     "language": "python",
     "metadata": {},
     "outputs": [
      {
       "output_type": "stream",
       "stream": "stdout",
       "text": [
        "0.000000000000000000e+00 2.349468678892896012e+00\r\n",
        "1.000000000000000000e+00 2.020222182019864920e+00\r\n",
        "2.000000000000000000e+00 1.702928255521439338e+00\r\n",
        "3.000000000000000000e+00 1.391281902630929546e+00\r\n",
        "4.000000000000000000e+00 1.007957920399978891e+00\r\n",
        "5.000000000000000000e+00 7.030975114131133852e-01\r\n",
        "6.000000000000000000e+00 4.054651081081643849e-01\r\n",
        "7.000000000000000000e+00 8.617769624105241222e-02\r\n",
        "8.000000000000000000e+00 -3.856624808119846204e-01\r\n",
        "9.000000000000000000e+00 -5.621189181535413137e-01\r\n",
        "1.000000000000000000e+01 -9.942522733438668991e-01\r\n",
        "1.100000000000000000e+01 -1.171182981502945086e+00\r\n",
        "1.200000000000000000e+01 -1.660731206821650874e+00\r\n",
        "1.300000000000000000e+01 -1.897119984885881294e+00\r\n",
        "1.400000000000000000e+01 -2.040220828526554619e+00\r\n",
        "1.500000000000000000e+01 -2.207274913189720689e+00\r\n"
       ]
      }
     ],
     "prompt_number": 17
    },
    {
     "cell_type": "code",
     "collapsed": false,
     "input": [
      "X = np.loadtxt('transform_radioactive_decay.txt')[:,0]\n",
      "Y = np.loadtxt('transform_radioactive_decay.txt')[:,1]\n",
      "iteracion=3\n",
      "r=RegresionLineal(alpha=0.03, max_iters=10000, tols=0.0000001)\n",
      "r.gradientDescent(X,Y)\n",
      "r.plot(X,Y,iteracion)"
     ],
     "language": "python",
     "metadata": {},
     "outputs": [
      {
       "metadata": {},
       "output_type": "display_data",
       "png": "[encoded data removed]",
       "text": [
        "<matplotlib.figure.Figure at 0x7ffa7056cad0>"
       ]
      }
     ],
     "prompt_number": 85
    },
    {
     "cell_type": "code",
     "collapsed": false,
     "input": [],
     "language": "python",
     "metadata": {},
     "outputs": []
    }
   ],
   "metadata": {}
  }
 ]
}