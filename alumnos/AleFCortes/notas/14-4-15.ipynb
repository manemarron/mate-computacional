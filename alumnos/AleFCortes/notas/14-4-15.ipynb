{
 "metadata": {
  "name": "",
  "signature": "sha256:906a92c7f014c7eb0a1264f047b45e48d1d9721079c1d093ce4508ee4449ac32"
 },
 "nbformat": 3,
 "nbformat_minor": 0,
 "worksheets": [
  {
   "cells": [
    {
     "cell_type": "code",
     "collapsed": false,
     "input": [
      "%pylab inline"
     ],
     "language": "python",
     "metadata": {},
     "outputs": [
      {
       "output_type": "stream",
       "stream": "stdout",
       "text": [
        "Populating the interactive namespace from numpy and matplotlib\n"
       ]
      }
     ],
     "prompt_number": 2
    },
    {
     "cell_type": "code",
     "collapsed": false,
     "input": [
      "import random\n",
      "import numpy as np\n",
      "import matplotlib.pyplot as pltb"
     ],
     "language": "python",
     "metadata": {},
     "outputs": [],
     "prompt_number": 3
    },
    {
     "cell_type": "code",
     "collapsed": false,
     "input": [
      "from animacion import *"
     ],
     "language": "python",
     "metadata": {},
     "outputs": [
      {
       "ename": "ImportError",
       "evalue": "No module named animacion",
       "output_type": "pyerr",
       "traceback": [
        "\u001b[1;31m---------------------------------------------------------------------------\u001b[0m\n\u001b[1;31mImportError\u001b[0m                               Traceback (most recent call last)",
        "\u001b[1;32m<ipython-input-14-57d2ab4f2ea5>\u001b[0m in \u001b[0;36m<module>\u001b[1;34m()\u001b[0m\n\u001b[1;32m----> 1\u001b[1;33m \u001b[1;32mfrom\u001b[0m \u001b[0manimacion\u001b[0m \u001b[1;32mimport\u001b[0m \u001b[1;33m*\u001b[0m\u001b[1;33m\u001b[0m\u001b[0m\n\u001b[0m",
        "\u001b[1;31mImportError\u001b[0m: No module named animacion"
       ]
      }
     ],
     "prompt_number": 14
    },
    {
     "cell_type": "code",
     "collapsed": false,
     "input": [
      "random.seed(10)"
     ],
     "language": "python",
     "metadata": {},
     "outputs": [],
     "prompt_number": 16
    },
    {
     "cell_type": "code",
     "collapsed": false,
     "input": [
      "class Agente:\n",
      "    \"\"\" Agente general \"\"\"\n",
      "    def __init__(self, tipo, locacion=np.array([0,0])):\n",
      "        self.tipo = tipo\n",
      "        self.locacion = locacion\n",
      "        self.siguiente_accion = None\n",
      "\n",
      "    def distancia(self, otro):\n",
      "        \"Calcula la distancia eucl\u00eddea entre este agente y otro.\"\n",
      "        return np.linalg.norm(self.locacion - otro.locacion)  # Otra manera es usar np.sqrt(np.sum((a-b)**2))\n",
      "    \n",
      "    def vecinos(self, agentes):\n",
      "        pass\n",
      "    \n",
      "    def actuar(self, agentes):\n",
      "        self.locacion =  self.siguiente_accion\n",
      "        \n",
      "    def decidir(self, agentes):\n",
      "        self.siguiente_accion = np.array([random.uniform(0, 1), random.uniform(0, 1)]) # Toma una nueva posici\u00f3n al azar\n",
      "    \n",
      "    def actualizar(self, agentes):\n",
      "        self.decidir(agentes)\n",
      "        self.actuar(agentes)"
     ],
     "language": "python",
     "metadata": {},
     "outputs": [],
     "prompt_number": 17
    },
    {
     "cell_type": "code",
     "collapsed": false,
     "input": [
      "class Mundo:\n",
      "    def __init__(self, agentes, ancho=8, alto=8, steps = 10):\n",
      "        self.agentes = agentes\n",
      "        self.ancho = ancho\n",
      "        self.alto = alto\n",
      "        self.steps = steps\n",
      "        self.init_anim()\n",
      "        \n",
      "        print \"Creado el mundo\"\n",
      "        \n",
      "    def init_anim(self):\n",
      "        self.fig = plt.figure(figsize=(self.ancho, self.alto))\n",
      "        self.ax = plt.axes(xlim=(0, 1), ylim=(0, 1))\n",
      "        self.ax.set_axis_bgcolor('azure')\n",
      "        plot_args = {'markersize' : 8, 'alpha' : 0.6}\n",
      "        self.puntos, = self.ax.plot([], [], 'o', **plot_args)\n",
      "       \n",
      "       \n",
      "    def dibujar(self, step):\n",
      "        x_values_0, y_values_0 = [], []\n",
      "        for agente in self.agentes:\n",
      "            x, y = agente.locacion\n",
      "            x_values_0.append(x)\n",
      "            y_values_0.append(y)\n",
      "\n",
      "        self.puntos.set_data(x_values_0, y_values_0)\n",
      "        \n",
      "        self.ax.set_title('Paso {}'.format(step))\n",
      "        \n",
      "        return self.puntos,\n",
      "       \n",
      "    def actualizar(self, step):   \n",
      "        self.dibujar(step) # Dibuja el mundo\n",
      "        \n",
      "        for agente in self.agentes:\n",
      "            agente.actualizar(self.agentes)\n",
      "    \n",
      "    def clean_screen(self):\n",
      "        self.puntos.set_data([], [])\n",
      "        return self.puntos,\n",
      "          \n",
      "    def simular(self):\n",
      "        anim = animation.FuncAnimation(self.fig, self.actualizar, init_func=self.clean_screen, frames=self.steps, interval=1000, blit=False)\n",
      "        return anim\n"
     ],
     "language": "python",
     "metadata": {},
     "outputs": [],
     "prompt_number": 18
    },
    {
     "cell_type": "code",
     "collapsed": false,
     "input": [
      "num_agentes = 10\n",
      "\n",
      "agentes_simples = [Agente(tipo=0) for i in range(num_agentes)]\n",
      "\n",
      "\n",
      "sin_chiste = Mundo(agentes = agentes_simples, steps = 10)\n",
      "\n",
      "\n",
      "simulacion = sin_chiste.simular()"
     ],
     "language": "python",
     "metadata": {},
     "outputs": [
      {
       "output_type": "stream",
       "stream": "stdout",
       "text": [
        "Creado el mundo\n"
       ]
      },
      {
       "ename": "NameError",
       "evalue": "global name 'animation' is not defined",
       "output_type": "pyerr",
       "traceback": [
        "\u001b[1;31m---------------------------------------------------------------------------\u001b[0m\n\u001b[1;31mNameError\u001b[0m                                 Traceback (most recent call last)",
        "\u001b[1;32m<ipython-input-19-144b7b2989db>\u001b[0m in \u001b[0;36m<module>\u001b[1;34m()\u001b[0m\n\u001b[0;32m      7\u001b[0m \u001b[1;33m\u001b[0m\u001b[0m\n\u001b[0;32m      8\u001b[0m \u001b[1;33m\u001b[0m\u001b[0m\n\u001b[1;32m----> 9\u001b[1;33m \u001b[0msimulacion\u001b[0m \u001b[1;33m=\u001b[0m \u001b[0msin_chiste\u001b[0m\u001b[1;33m.\u001b[0m\u001b[0msimular\u001b[0m\u001b[1;33m(\u001b[0m\u001b[1;33m)\u001b[0m\u001b[1;33m\u001b[0m\u001b[0m\n\u001b[0m",
        "\u001b[1;32m<ipython-input-18-7fd2f01519b9>\u001b[0m in \u001b[0;36msimular\u001b[1;34m(self)\u001b[0m\n\u001b[0;32m     41\u001b[0m \u001b[1;33m\u001b[0m\u001b[0m\n\u001b[0;32m     42\u001b[0m     \u001b[1;32mdef\u001b[0m \u001b[0msimular\u001b[0m\u001b[1;33m(\u001b[0m\u001b[0mself\u001b[0m\u001b[1;33m)\u001b[0m\u001b[1;33m:\u001b[0m\u001b[1;33m\u001b[0m\u001b[0m\n\u001b[1;32m---> 43\u001b[1;33m         \u001b[0manim\u001b[0m \u001b[1;33m=\u001b[0m \u001b[0manimation\u001b[0m\u001b[1;33m.\u001b[0m\u001b[0mFuncAnimation\u001b[0m\u001b[1;33m(\u001b[0m\u001b[0mself\u001b[0m\u001b[1;33m.\u001b[0m\u001b[0mfig\u001b[0m\u001b[1;33m,\u001b[0m \u001b[0mself\u001b[0m\u001b[1;33m.\u001b[0m\u001b[0mactualizar\u001b[0m\u001b[1;33m,\u001b[0m \u001b[0minit_func\u001b[0m\u001b[1;33m=\u001b[0m\u001b[0mself\u001b[0m\u001b[1;33m.\u001b[0m\u001b[0mclean_screen\u001b[0m\u001b[1;33m,\u001b[0m \u001b[0mframes\u001b[0m\u001b[1;33m=\u001b[0m\u001b[0mself\u001b[0m\u001b[1;33m.\u001b[0m\u001b[0msteps\u001b[0m\u001b[1;33m,\u001b[0m \u001b[0minterval\u001b[0m\u001b[1;33m=\u001b[0m\u001b[1;36m1000\u001b[0m\u001b[1;33m,\u001b[0m \u001b[0mblit\u001b[0m\u001b[1;33m=\u001b[0m\u001b[0mFalse\u001b[0m\u001b[1;33m)\u001b[0m\u001b[1;33m\u001b[0m\u001b[0m\n\u001b[0m\u001b[0;32m     44\u001b[0m         \u001b[1;32mreturn\u001b[0m \u001b[0manim\u001b[0m\u001b[1;33m\u001b[0m\u001b[0m\n",
        "\u001b[1;31mNameError\u001b[0m: global name 'animation' is not defined"
       ]
      },
      {
       "metadata": {},
       "output_type": "display_data",
       "png": "[encoded data removed]",
       "text": [
        "<matplotlib.figure.Figure at 0x3a8a668>"
       ]
      }
     ],
     "prompt_number": 19
    },
    {
     "cell_type": "code",
     "collapsed": false,
     "input": [
      "class Borracho(Agente):\n",
      "    \n",
      "    def __init__(self, delta=0.1):\n",
      "        Agente.__init__(self, tipo=\"borracho\")\n",
      "        self.delta = delta # Tama\u00f1o de paso en x y y\n",
      "        self.posibles_direcciones = (0,1) #  (quieto, avanzar uno)\n",
      "        \n",
      "    def actuar(self, agentes):\n",
      "        self.locacion = self.locacion + self.siguiente_accion*self.delta # moverme\n",
      "        \n",
      "        if (self.locacion >= np.ones(2)-0.01).all():\n",
      "            self.locacion = np.ones(2)-0.01 # Si llegamos al l\u00edmite superior derecho nos detenemos    \n",
      "        \n",
      "    def decision(self, agentes):\n",
      "        self.siguiente_accion = np.array([random.choice(self.posibles_direcciones), random.choice(self.posibles_direcciones)]) \n",
      "        # Elegir una direccion entre quedarme quieto o moverme hacia adelante\n",
      "        \n",
      "    def actualizar(self, agentes):\n",
      "        self.decision(agentes)\n",
      "        self.actuar(agentes)"
     ],
     "language": "python",
     "metadata": {},
     "outputs": [],
     "prompt_number": 20
    },
    {
     "cell_type": "code",
     "collapsed": false,
     "input": [
      "class Borracho(Agente):\n",
      "    \n",
      "    def __init__(self, delta=0.1):\n",
      "        Agente.__init__(self, tipo=\"borracho\")\n",
      "        self.delta = delta # Tama\u00f1o de paso en x y y\n",
      "        self.posibles_direcciones = (0,1) #  (quieto, avanzar uno)\n",
      "        \n",
      "    def actuar(self, agentes):\n",
      "        self.locacion = self.locacion + self.siguiente_accion*self.delta # moverme\n",
      "        \n",
      "        if (self.locacion >= np.ones(2)-0.01).all():\n",
      "            self.locacion = np.ones(2)-0.01 # Si llegamos al l\u00edmite superior derecho nos detenemos    \n",
      "        \n",
      "    def decision(self, agentes):\n",
      "        self.siguiente_accion = np.array([random.choice(self.posibles_direcciones), random.choice(self.posibles_direcciones)]) \n",
      "        # Elegir una direccion entre quedarme quieto o moverme hacia adelante\n",
      "        \n",
      "    def actualizar(self, agentes):\n",
      "        self.decision(agentes)\n",
      "        self.actuar(agentes)"
     ],
     "language": "python",
     "metadata": {},
     "outputs": [],
     "prompt_number": 21
    },
    {
     "cell_type": "code",
     "collapsed": false,
     "input": [
      "posicion = [100]\n",
      "for i in range(1,100):\n",
      "    if random.choice([u'adelante', u'atr\u00e1s']) == u'atr\u00e1s':\n",
      "        posicion[i] = posicion[i-1] - 1\n",
      "    else:\n",
      "        posicion[i] = posicion[i-1] + 1"
     ],
     "language": "python",
     "metadata": {},
     "outputs": [
      {
       "ename": "IndexError",
       "evalue": "list assignment index out of range",
       "output_type": "pyerr",
       "traceback": [
        "\u001b[1;31m---------------------------------------------------------------------------\u001b[0m\n\u001b[1;31mIndexError\u001b[0m                                Traceback (most recent call last)",
        "\u001b[1;32m<ipython-input-25-92c5ce7b12a3>\u001b[0m in \u001b[0;36m<module>\u001b[1;34m()\u001b[0m\n\u001b[0;32m      2\u001b[0m \u001b[1;32mfor\u001b[0m \u001b[0mi\u001b[0m \u001b[1;32min\u001b[0m \u001b[0mrange\u001b[0m\u001b[1;33m(\u001b[0m\u001b[1;36m1\u001b[0m\u001b[1;33m,\u001b[0m\u001b[1;36m100\u001b[0m\u001b[1;33m)\u001b[0m\u001b[1;33m:\u001b[0m\u001b[1;33m\u001b[0m\u001b[0m\n\u001b[0;32m      3\u001b[0m     \u001b[1;32mif\u001b[0m \u001b[0mrandom\u001b[0m\u001b[1;33m.\u001b[0m\u001b[0mchoice\u001b[0m\u001b[1;33m(\u001b[0m\u001b[1;33m[\u001b[0m\u001b[1;34mu'adelante'\u001b[0m\u001b[1;33m,\u001b[0m \u001b[1;34mu'atr\u00e1s'\u001b[0m\u001b[1;33m]\u001b[0m\u001b[1;33m)\u001b[0m \u001b[1;33m==\u001b[0m \u001b[1;34mu'atr\u00e1s'\u001b[0m\u001b[1;33m:\u001b[0m\u001b[1;33m\u001b[0m\u001b[0m\n\u001b[1;32m----> 4\u001b[1;33m         \u001b[0mposicion\u001b[0m\u001b[1;33m[\u001b[0m\u001b[0mi\u001b[0m\u001b[1;33m]\u001b[0m \u001b[1;33m=\u001b[0m \u001b[0mposicion\u001b[0m\u001b[1;33m[\u001b[0m\u001b[0mi\u001b[0m\u001b[1;33m-\u001b[0m\u001b[1;36m1\u001b[0m\u001b[1;33m]\u001b[0m \u001b[1;33m-\u001b[0m \u001b[1;36m1\u001b[0m\u001b[1;33m\u001b[0m\u001b[0m\n\u001b[0m\u001b[0;32m      5\u001b[0m     \u001b[1;32melse\u001b[0m\u001b[1;33m:\u001b[0m\u001b[1;33m\u001b[0m\u001b[0m\n\u001b[0;32m      6\u001b[0m         \u001b[0mposicion\u001b[0m\u001b[1;33m[\u001b[0m\u001b[0mi\u001b[0m\u001b[1;33m]\u001b[0m \u001b[1;33m=\u001b[0m \u001b[0mposicion\u001b[0m\u001b[1;33m[\u001b[0m\u001b[0mi\u001b[0m\u001b[1;33m-\u001b[0m\u001b[1;36m1\u001b[0m\u001b[1;33m]\u001b[0m \u001b[1;33m+\u001b[0m \u001b[1;36m1\u001b[0m\u001b[1;33m\u001b[0m\u001b[0m\n",
        "\u001b[1;31mIndexError\u001b[0m: list assignment index out of range"
       ]
      }
     ],
     "prompt_number": 25
    },
    {
     "cell_type": "code",
     "collapsed": false,
     "input": [],
     "language": "python",
     "metadata": {},
     "outputs": []
    }
   ],
   "metadata": {}
  }
 ]
}