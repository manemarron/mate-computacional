{
 "metadata": {
  "name": "",
  "signature": "sha256:cfa122934f6ddde90f5f41df9df867d5e455cb892c471a38114541919033e1dc"
 },
 "nbformat": 3,
 "nbformat_minor": 0,
 "worksheets": [
  {
   "cells": [
    {
     "cell_type": "code",
     "collapsed": false,
     "input": [
      "%matplotlib inline\n",
      "import numpy as np\n",
      "import matplotlib.pyplot as plt\n",
      "from IPython.html.widgets import interact, fixed\n",
      "from IPython.html import widgets\n",
      "import sympy as sym\n",
      "\n"
     ],
     "language": "python",
     "metadata": {},
     "outputs": [],
     "prompt_number": 37
    },
    {
     "cell_type": "code",
     "collapsed": false,
     "input": [
      "def logistic_map(x,r):\n",
      "    return r*x*(1.0-x)"
     ],
     "language": "python",
     "metadata": {},
     "outputs": [],
     "prompt_number": 38
    },
    {
     "cell_type": "code",
     "collapsed": false,
     "input": [
      "def graf(x,r):\n",
      "    vec1=[]\n",
      "    x0=x\n",
      "    for i in range (1000):\n",
      "        x1 = logistic_map(x=x0,r=r)\n",
      "        vec1.append(x1)\n",
      "        x0=x1\n",
      "    vec2 = [i for i in  range(1000)]\n",
      "    plt.scatter(vec1,vec2)\n",
      "        "
     ],
     "language": "python",
     "metadata": {},
     "outputs": [],
     "prompt_number": 48
    },
    {
     "cell_type": "code",
     "collapsed": false,
     "input": [
      "interact(graf, x=(-5,5,0.1),r = (0,4,0.1))"
     ],
     "language": "python",
     "metadata": {},
     "outputs": [
      {
       "metadata": {},
       "output_type": "display_data",
       "png": "[encoded data removed]",
       "text": [
        "<matplotlib.figure.Figure at 0xc8bfd30>"
       ]
      }
     ],
     "prompt_number": 49
    },
    {
     "cell_type": "heading",
     "level": 4,
     "metadata": {},
     "source": [
      "Diagrama de Cobweb"
     ]
    },
    {
     "cell_type": "code",
     "collapsed": false,
     "input": [
      "def cobweb(F, x0,r, iteracion):\n",
      "    x = np.linspace(0,10,10)\n",
      "    plt.plot(x,x)\n",
      "    y = F(x,r)\n",
      "    plt.plot(x,y)\n",
      "    graf1 = []\n",
      "    graf2 = []\n",
      "    graf1.append(x0)\n",
      "    graf2.append(F(x0,r))\n",
      "    i = 0\n",
      "    while i!= iteracion:\n",
      "        x1 = F(x0,r)\n",
      "        graf1.append(x1)\n",
      "        graf2.append(x1)\n",
      "        graf1.append(x1)\n",
      "        graf2.append(F(x1,r))\n",
      "        x0 = x1\n",
      "        i = i + 1\n",
      "    plt.plot(graf1,graf2)\n",
      "        \n",
      "    \n",
      "    "
     ],
     "language": "python",
     "metadata": {},
     "outputs": [],
     "prompt_number": 66
    },
    {
     "cell_type": "code",
     "collapsed": false,
     "input": [
      "cobweb(logistic_map,.5,2.5,100)"
     ],
     "language": "python",
     "metadata": {},
     "outputs": [
      {
       "metadata": {},
       "output_type": "display_data",
       "png": "[encoded data removed]",
       "text": [
        "<matplotlib.figure.Figure at 0xcc1e8d0>"
       ]
      }
     ],
     "prompt_number": 67
    },
    {
     "cell_type": "code",
     "collapsed": false,
     "input": [],
     "language": "python",
     "metadata": {},
     "outputs": []
    }
   ],
   "metadata": {}
  }
 ]
}