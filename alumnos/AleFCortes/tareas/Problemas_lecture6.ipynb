{
 "metadata": {
  "name": "",
  "signature": "sha256:1dff7e772919b6a24179befe2a3811efbe2186ca9a1c6df3055ce4f9a78e45ec"
 },
 "nbformat": 3,
 "nbformat_minor": 0,
 "worksheets": [
  {
   "cells": [
    {
     "cell_type": "code",
     "collapsed": false,
     "input": [
      "%pylab inline\n",
      "import numpy as np\n",
      "import matplotlib.pyplot as plt"
     ],
     "language": "python",
     "metadata": {},
     "outputs": [
      {
       "output_type": "stream",
       "stream": "stdout",
       "text": [
        "Populating the interactive namespace from numpy and matplotlib\n"
       ]
      }
     ],
     "prompt_number": 8
    },
    {
     "cell_type": "code",
     "collapsed": false,
     "input": [
      "%load_ext autoreload\n",
      "%autoreload 2"
     ],
     "language": "python",
     "metadata": {},
     "outputs": [
      {
       "output_type": "stream",
       "stream": "stdout",
       "text": [
        "The autoreload extension is already loaded. To reload it, use:\n",
        "  %reload_ext autoreload\n"
       ]
      }
     ],
     "prompt_number": 10
    },
    {
     "cell_type": "code",
     "collapsed": false,
     "input": [
      "from __future__ import division"
     ],
     "language": "python",
     "metadata": {},
     "outputs": [],
     "prompt_number": 11
    },
    {
     "cell_type": "heading",
     "level": 1,
     "metadata": {},
     "source": [
      "Problema 1"
     ]
    },
    {
     "cell_type": "markdown",
     "metadata": {},
     "source": [
      "Utilizando el c\u00f3digo de runge-kutta de segundo orden como base, implemente el c\u00f3digo de runge-kutta de cuarto orden. La funci\u00f3n debe de llamarse `rk4`. "
     ]
    },
    {
     "cell_type": "code",
     "collapsed": false,
     "input": [
      "def rk4(y, t, dt, derivadas):\n",
      "    k0 = dt*derivadas(y, t)\n",
      "    k1 = dt*derivadas(y + dt/2*k0, t + dt/2)\n",
      "    k2 = dt*derivadas(y + dt/2*k1, t + dt/2)\n",
      "    k3 = dt*derivadas(y + dt*k2, t + dt)\n",
      "    y_next = y + dt/6*(k0 + 2*k1 + 2*k2 + k3)\n",
      "    \n",
      "    return y_next"
     ],
     "language": "python",
     "metadata": {},
     "outputs": [],
     "prompt_number": 12
    },
    {
     "cell_type": "code",
     "collapsed": false,
     "input": [
      "masa = 1.0 # En kilogramos\n",
      "longitud = 1.0 # En metros\n",
      "g = 9.8 # m/s^2\n",
      "\n",
      "Omega = sqrt(g/longitud)\n",
      "periodo = 2*np.pi/Omega"
     ],
     "language": "python",
     "metadata": {},
     "outputs": [],
     "prompt_number": 17
    },
    {
     "cell_type": "code",
     "collapsed": false,
     "input": [
      "class Pendulo:\n",
      "    \n",
      "    def __init__(self, masa, longitud, gravedad):\n",
      "        self.masa = masa\n",
      "        self.longitud = longitud\n",
      "        self.gravedad = gravedad\n",
      "      \n",
      "        self.Omega = sqrt(g/longitud)\n",
      "        self.period = 2*np.pi/Omega\n",
      "\n",
      "        \n",
      "    def theta(self):\n",
      "        return self.trajectory[:,0]\n",
      "    \n",
      "    def omega(self):\n",
      "        return self.trajectory[:,1]\n",
      "    \n",
      "    def plot(self):\n",
      "        fig, ax = plt.subplots(3,1, figsize=(10,8), sharex = True)\n",
      "\n",
      "        ax[0].plot(self.tau, self.theta(), label=\"theta\", color=\"blue\")\n",
      "        ax[1].plot(self.tau, self.omega(), label=\"omega\", color=\"green\")\n",
      "        ax[2].plot(self.tau, self.energy(),  marker='o', linestyle='None', color='red', label=\"Energia\")\n",
      "\n",
      "        ax[0].set_ylabel(\"Theta (rads)\")\n",
      "        ax[0].set_xlabel(\"tiempo (s)\")\n",
      "\n",
      "        ax[1].set_ylabel(\"Omega (rads/s)\")\n",
      "        ax[1].set_xlabel(\"tiempo (s)\")\n",
      "\n",
      "        ax[2].set_ylabel(\"Energia (J)\")\n",
      "        ax[2].set_xlabel(\"tiempo (s)\")\n",
      "    \n",
      "    def initial_conditions(self, theta_i, omega_i):\n",
      "        self.theta_i = theta_i\n",
      "        self.omega_i = omega_i\n",
      "        \n",
      "    def dynamics(self, state, t):\n",
      "        g0 = state[1]\n",
      "        g1 = -self.gravedad/self.longitud*state[0]\n",
      "        return np.array([g0, g1])\n",
      "        \n",
      "    def energy(self):\n",
      "        return 0.5*self.masa*self.longitud**2 * (self.omega()**2 + (self.gravedad/self.longitud)*self.theta()**2)\n",
      "        \n",
      "    def integrate(self, num_steps, t_i, t_f, method):\n",
      "        \n",
      "        self.tau, self.dt = np.linspace(t_i, t_f, num=num_steps, retstep=True)\n",
      "        self.trajectory = np.zeros([num_steps, 2])\n",
      "        self.trajectory[0,0] = self.theta_i\n",
      "        self.trajectory[0,1] = self.omega_i\n",
      "        \n",
      "        for j in range(N-1):\n",
      "            self.trajectory[j+1] = method(self.trajectory[j], self.tau[j], self.dt, self.dynamics)       "
     ],
     "language": "python",
     "metadata": {},
     "outputs": [],
     "prompt_number": 18
    },
    {
     "cell_type": "code",
     "collapsed": false,
     "input": [
      "p2 = Pendulo(masa = 1.0, longitud = 1.0, gravedad = 9.8)\n",
      "p2.initial_conditions(theta_i=0.2, omega_i=0.0)"
     ],
     "language": "python",
     "metadata": {},
     "outputs": [],
     "prompt_number": 19
    },
    {
     "cell_type": "code",
     "collapsed": false,
     "input": [
      "N = 1000\n",
      "tiempo_inicial = 0.0\n",
      "tiempo_final = 5*p2.period"
     ],
     "language": "python",
     "metadata": {},
     "outputs": [],
     "prompt_number": 20
    },
    {
     "cell_type": "code",
     "collapsed": false,
     "input": [
      "p2.integrate(N, tiempo_inicial, tiempo_final, rk4)\n",
      "p2.plot()"
     ],
     "language": "python",
     "metadata": {},
     "outputs": [
      {
       "metadata": {},
       "output_type": "display_data",
       "png": "[encoded data removed]",
       "text": [
        "<matplotlib.figure.Figure at 0x9ba0fd0>"
       ]
      }
     ],
     "prompt_number": 22
    },
    {
     "cell_type": "heading",
     "level": 1,
     "metadata": {},
     "source": [
      "Problema 2"
     ]
    },
    {
     "cell_type": "markdown",
     "metadata": {},
     "source": [
      "La taza a la cual un recurso finito es recogido depende de la dificultad y de la demanda. Sup\u00f3n que la demanda $D$ se incrementa con la cantidad extra\u00edda $E$:\n",
      "\n",
      "$$\\dot D = \\alpha E$$\n",
      "\n",
      "Sup\u00f3n que la dificultad de extracci\u00f3n $W$ es inversamentedependiente de la fracci\u00f3n restante del recurso:\n",
      "\n",
      "$$\n",
      "W = \\frac{1}{1 -E}\n",
      "$$\n",
      "\n",
      "Finalmente, sup\u00f3n que la tasa de extracci\u00f3n $$ es la raz\u00f3n de la demanda a la dificultad.\n",
      "\n",
      "$$ R = \\dot E = \\frac{D}{W} $$\n",
      "\n",
      "Por \u00faltimo, el costo $C$ del recurso depende de la tasa de la extracci\u00f3n y de la demanda:\n",
      "\n",
      "$$ C = \\frac{D}{R}\\xi$$,\n",
      "\n",
      "donde $\\xi$ es un factor de escala.\n",
      "\n",
      "(a) Escribe un programa que dibuja la tasa de la extracci\u00f3n y el costo como una funci\u00f3n del tiempo. Usando las condiciones iniciales: $D_0 = 0.1$, $E_0 = 0.1$,  $\\alpha = 2.0$ y $\\xi = 0.01$. Grafica de 0 a 5 unidades de tiempo. \n",
      "\n",
      "\n",
      "(b) Resuelve con `rk4` y con  `odeint`. Compara los tiempos y los resultados. \u00bfQu\u00e9 puedes concluir?\n",
      "\n",
      "(c) Agrega un _widget_ para los valores de $\\alpha$ y $\\xi$.\n",
      "\n",
      "(d) Discute la din\u00e1mica del sistema en general y menciona algunos hallazgos interesantes para diferentes valores y condiciones iniciales.\n"
     ]
    },
    {
     "cell_type": "code",
     "collapsed": false,
     "input": [
      "d0 = 0.1\n",
      "e0 = 0.1\n",
      "alfa = 2.0\n",
      "epsi = 0.01"
     ],
     "language": "python",
     "metadata": {},
     "outputs": [],
     "prompt_number": 1
    },
    {
     "cell_type": "code",
     "collapsed": false,
     "input": [
      "class Problema2:\n",
      "    \n",
      "    def __init__(self, alfa,epsi):\n",
      "        self.alfa = alfa\n",
      "        self.epsi = epsi\n",
      "      \n",
      "    def D(self):\n",
      "        return self.trajectory[:,0]\n",
      "    \n",
      "    def E(self):\n",
      "        return self.trajectory[:,1]\n",
      "    \n",
      "    def plot(self):\n",
      "        fig, ax = plt.subplots(3,1, figsize=(10,8), sharex = True)\n",
      "\n",
      "        ax[0].plot(self.tau, self.D(), label=\"theta\", color=\"blue\")\n",
      "        ax[1].plot(self.tau, self.E(), label=\"omega\", color=\"green\")\n",
      "        ax[2].plot(self.tau, self.energy(),  marker='o', linestyle='None', color='red', label=\"Energia\")\n",
      "\n",
      "        ax[0].set_ylabel(\"Theta (rads)\")\n",
      "        ax[0].set_xlabel(\"tiempo (s)\")\n",
      "\n",
      "        ax[1].set_ylabel(\"Omega (rads/s)\")\n",
      "        ax[1].set_xlabel(\"tiempo (s)\")\n",
      "\n",
      "        ax[2].set_ylabel(\"Energia (J)\")\n",
      "        ax[2].set_xlabel(\"tiempo (s)\")\n",
      "    \n",
      "    def initial_conditions(self, D_i, E_i):\n",
      "        self.D_i = D_i\n",
      "        self.E_i = E_i\n",
      "        \n",
      "    def dynamics(self, state, t):\n",
      "        g0 = alfa * state[1]\n",
      "        g1 = state[0]*(1-state[1])\n",
      "        return np.array([g0, g1])\n",
      "        \n",
      "    def costo(self,state,dynamics):\n",
      "        return (state[0]/dynamics[1])*epsi\n",
      "    \n",
      "    def integrate(self, num_steps, t_i, t_f, method):\n",
      "        \n",
      "        self.tau, self.dt = np.linspace(t_i, t_f, num=num_steps, retstep=True)\n",
      "        self.trajectory = np.zeros([num_steps, 2])\n",
      "        self.trajectory[0,0] = self.D_i\n",
      "        self.trajectory[0,1] = self.E_i\n",
      "        \n",
      "        for j in range(N-1):\n",
      "            self.trajectory[j+1] = method(self.trajectory[j], self.tau[j], self.dt, self.dynamics)       "
     ],
     "language": "python",
     "metadata": {},
     "outputs": [],
     "prompt_number": 4
    },
    {
     "cell_type": "code",
     "collapsed": false,
     "input": [],
     "language": "python",
     "metadata": {},
     "outputs": []
    }
   ],
   "metadata": {}
  }
 ]
}