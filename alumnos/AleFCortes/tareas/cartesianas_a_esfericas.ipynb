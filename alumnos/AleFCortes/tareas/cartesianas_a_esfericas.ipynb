{
 "metadata": {
  "name": "",
  "signature": "sha256:6ac01c5cc86a0a4374f2def6542ac4f7fb4350d6fdeb70ce82b1c89296525e78"
 },
 "nbformat": 3,
 "nbformat_minor": 0,
 "worksheets": [
  {
   "cells": [
    {
     "cell_type": "code",
     "collapsed": false,
     "input": [
      "%magic"
     ],
     "language": "python",
     "metadata": {},
     "outputs": [],
     "prompt_number": 9
    },
    {
     "cell_type": "code",
     "collapsed": false,
     "input": [
      "%%file transformaciones.py\n",
      "from math import cos, sin,atan,sqrt,acos,asen\n",
      "def esf_cart(r,theta,phi):\n",
      "    \"\"\"\n",
      "    r es el radio, theta el azimut y phi el angulo polar\n",
      "    \"\"\"\n",
      "    x = r*sen(theta)*cos(phi)\n",
      "    y = r*sen(theta)*sen(phi)\n",
      "    z = r*cos(theta)\n",
      "    \n",
      "    print x,y,z\n",
      "\n",
      "def cart_esf(x,y,z):\n",
      "    \"\"\"\n",
      "    x,y,z son las coordenadas cartesianas.\n",
      "    \"\"\"\n",
      "    ro = sqrt (x**2+y**2+z**2)\n",
      "    theta = acos(z/ro)\n",
      "    phi = asen(y/ro*sen(theta))\n",
      "    \n",
      "    print ro,theta, phi\n",
      "    "
     ],
     "language": "python",
     "metadata": {},
     "outputs": [
      {
       "output_type": "stream",
       "stream": "stdout",
       "text": [
        "Overwriting transformaciones.py\n"
       ]
      }
     ],
     "prompt_number": 18
    },
    {
     "cell_type": "code",
     "collapsed": false,
     "input": [
      "%%file transformaciones.py\n",
      "from math import atan,sqrt,acos,asen,sen\n",
      "def cart_esf(x,y,z):\n",
      "    \"\"\"\n",
      "    x,y,z son las coordenadas cartesianas.\n",
      "    \"\"\"\n",
      "    ro = sqrt (x**2+y**2+z**2)\n",
      "    theta = acos(z/ro)\n",
      "    phi = asen(y/ro*sen(theta))\n",
      "    \n",
      "    print ro,theta, phi\n",
      "    "
     ],
     "language": "python",
     "metadata": {},
     "outputs": [
      {
       "output_type": "stream",
       "stream": "stdout",
       "text": [
        "Overwriting transformaciones.py\n"
       ]
      }
     ],
     "prompt_number": 11
    },
    {
     "cell_type": "code",
     "collapsed": false,
     "input": [
      "!cat transformaciones.py"
     ],
     "language": "python",
     "metadata": {},
     "outputs": [
      {
       "output_type": "stream",
       "stream": "stdout",
       "text": [
        "from math import cos, sin,atan,sqrt,acos,asen\n",
        "def esf_cart(r,theta,phi):\n",
        "    \"\"\"\n",
        "    r es el radio, theta el azimut y phi el angulo polar\n",
        "    \"\"\"\n",
        "    x = r*sen(theta)*cos(phi)\n",
        "    y = r*sen(theta)*sen(phi)\n",
        "    z = r*cos(theta)\n",
        "    \n",
        "    print x,y,z\n",
        "\n",
        "def cart_esf(x,y,z):\n",
        "    \"\"\"\n",
        "    x,y,z son las coordenadas cartesianas.\n",
        "    \"\"\"\n",
        "    ro = sqrt (x**2+y**2+z**2)\n",
        "    theta = acos(z/ro)\n",
        "    phi = asen(y/ro*sen(theta))\n",
        "    \n",
        "    print ro,theta, phi\n",
        "    \n"
       ]
      }
     ],
     "prompt_number": 19
    },
    {
     "cell_type": "code",
     "collapsed": false,
     "input": [
      "%load transformaciones.py"
     ],
     "language": "python",
     "metadata": {},
     "outputs": [],
     "prompt_number": 20
    },
    {
     "cell_type": "code",
     "collapsed": false,
     "input": [
      "from math import cos, sin,atan,sqrt,acos,asin\n",
      "def esf_cart(r,theta,phi):\n",
      "    \"\"\"\n",
      "    r es el radio, theta el azimut y phi el angulo polar\n",
      "    \"\"\"\n",
      "    x = r*sin(theta)*cos(phi)\n",
      "    y = r*sin(theta)*sin(phi)\n",
      "    z = r*cos(theta)\n",
      "    \n",
      "    print x,y,z\n",
      "\n",
      "def cart_esf(x,y,z):\n",
      "    \"\"\"\n",
      "    x,y,z son las coordenadas cartesianas.\n",
      "    \"\"\"\n",
      "    ro = sqrt (x**2+y**2+z**2)\n",
      "    theta = acos(z/ro)\n",
      "    phi = asin(y/ro*sin(theta))\n",
      "    \n",
      "    print ro,theta, phi\n",
      "    "
     ],
     "language": "python",
     "metadata": {},
     "outputs": [],
     "prompt_number": 28
    },
    {
     "cell_type": "code",
     "collapsed": false,
     "input": [
      "esf_cart(5,20,45)"
     ],
     "language": "python",
     "metadata": {},
     "outputs": [
      {
       "output_type": "stream",
       "stream": "stdout",
       "text": [
        "2.39795107397 3.88414165775 2.04041030907\n"
       ]
      }
     ],
     "prompt_number": 25
    },
    {
     "cell_type": "code",
     "collapsed": false,
     "input": [
      "cart_esf(2.39795107397, 3.88414165775, 2.04041030907)"
     ],
     "language": "python",
     "metadata": {},
     "outputs": [
      {
       "output_type": "stream",
       "stream": "stdout",
       "text": [
        "5.0 1.15044407846 0.453194300654\n"
       ]
      }
     ],
     "prompt_number": 29
    }
   ],
   "metadata": {}
  }
 ]
}