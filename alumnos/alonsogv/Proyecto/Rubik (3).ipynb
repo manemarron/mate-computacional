{
 "metadata": {
  "name": "",
  "signature": "sha256:638f6b234c20513eef3074cdb0fd1a8cbc6b0fd38efdae6e66aaf7421ab959d7"
 },
 "nbformat": 3,
 "nbformat_minor": 0,
 "worksheets": [
  {
   "cells": [
    {
     "cell_type": "heading",
     "level": 1,
     "metadata": {},
     "source": [
      "Proyecto Cubo Rubik"
     ]
    },
    {
     "cell_type": "code",
     "collapsed": false,
     "input": [
      "import numpy as np\n",
      "import random\n",
      "import itertools \n",
      "%matplotlib inline\n",
      "import matplotlib as plt\n",
      "import matplotlib.pyplot as plt"
     ],
     "language": "python",
     "metadata": {},
     "outputs": [],
     "prompt_number": 1
    },
    {
     "cell_type": "heading",
     "level": 2,
     "metadata": {},
     "source": [
      "Introducci\u00f3n y objetivo general"
     ]
    },
    {
     "cell_type": "markdown",
     "metadata": {},
     "source": [
      "NUESTRO OBJETIVO ES EXPLORAR EL CUBO RUBIK, USANDO UNA COMBINACI\u00d3N ENTRE EL \u00c1LGEBRA DE TEOR\u00cdA DE GRUPOS Y LA COMPUTACI\u00d3N. ...ETC ETC"
     ]
    },
    {
     "cell_type": "heading",
     "level": 2,
     "metadata": {},
     "source": [
      "Una breve introducci\u00f3n a la Teor\u00eda de Grupos (o bien, al \u00e1lgebra que usaremos en el proyecto)"
     ]
    },
    {
     "cell_type": "markdown",
     "metadata": {},
     "source": [
      "No leer esta secci\u00f3n si el lector entiende los conceptos b\u00e1sicos de esta \u00e1rea de las matem\u00e1ticas"
     ]
    },
    {
     "cell_type": "markdown",
     "metadata": {},
     "source": [
      "**Definici\u00f3n: Grupo**\n",
      "<br>\n",
      "<div class=\"alert alert-info\">\n",
      "Sea $S \\neq \\emptyset $ un conjunto con una operaci\u00f3n binaria definida \"$*$\". Se dice que la estructura algebraica $(S, *)$ es un grupo si satisface lo siguiente:\n",
      "1. Si $(S, *)$ es asociativa.\n",
      "2. Si existe $e$, neutro en $(S, *)$.\n",
      "3. Si para todo elemento en $S$, existe un inverso en $(S, *)$"
     ]
    },
    {
     "cell_type": "markdown",
     "metadata": {},
     "source": [
      "**Definici\u00f3n: Subgrupo**\n",
      "<div class=\"alert alert-info\">\n",
      "Sea $(S,*)$ grupo, y $\\emptyset \\neq T \\subseteq S $. Se dice que $T$ es un subgrupo de $S$ si $T$ es cerrado bajo \"$*$\", y si  $(T,*)$ es grupo."
     ]
    },
    {
     "cell_type": "markdown",
     "metadata": {},
     "source": [
      "**Definici\u00f3n: Producto cartesiano (generalizaci\u00f3n finita numerable)**\n",
      "<div class=\"alert alert-info\">\n",
      "El producto cartesiano de un n\u00famero finito de conjuntos $A_{1}, A_{2}, . . ., A_{n}$ es el conjunto de las $n$-tuplas, cuyo $k$-\u00e9simo elemento pertenece a $A_{k}$, es decir: $$ $$ $A_{1} \\times A_{2} \\times . . . \\times A_{n} = \\{(a_{1}, a_{2}, . . ., a_{n}): a_{1} \\in A_{1}, a_{2} \\in A_{2}, . . . , a_{n} \\in A_{n}\\}$"
     ]
    },
    {
     "cell_type": "heading",
     "level": 4,
     "metadata": {},
     "source": [
      "Definici\u00f3n: Congruencia m\u00f3dulo $n$"
     ]
    },
    {
     "cell_type": "markdown",
     "metadata": {},
     "source": [
      "Sea $n \\in \\mathbb N$, $n > 1$. Para $a,b \\in \\mathbb Z$, decimos que $a$ es congruente con $b$ m\u00f3dulo $n$, y escribimos $$a \\equiv b \\mod n,$$ si $a = b + kn$ para alguna $k \\in \\mathbb Z$"
     ]
    },
    {
     "cell_type": "markdown",
     "metadata": {},
     "source": [
      "<div class=\"alert alert-info\">\n",
      "\n",
      "La congruencia m\u00f3dulo $n$ es una relaci\u00f3n de equivalencia sobre $\\mathbb Z$. As\u00ed, considerando los enteros que son congruentes m\u00f3dulo $n$, la clase de equivalencia de $a \\in \\mathbb Z$ vendr\u00eda siendo: $$ $$ $[a] = \\{ b \\in \\mathbb Z : a \\equiv b \\mod n \\} $ $$ $$ Al conjunto de todas las clases de equivalencia, para la congruencia m\u00f3dulo $n$, la denotamos como $\\mathbb Z_{n}$. $$ $$ Es decir, $\\mathbb Z_{n} = \\{ [a] : a \\in \\mathbb Z \\}$, es el conjunto de todas las clases de equivalencia, de la relaci\u00f3n de equivalencia congruente m\u00f3dulo $n$ $$ $$ "
     ]
    },
    {
     "cell_type": "markdown",
     "metadata": {},
     "source": [
      "**Proposici\u00f3n: Los enteros m\u00f3dulo $n$ forman un grupo**\n",
      "<div class=\"alert alert-info\">\n",
      "\n",
      "Sea $n \\in \\mathbb N, n > 1 $. Definamos la operaci\u00f3n binaria \"$+_{n}$\" en $\\mathbb Z_{n}$: $$ $$ $[a] , [b] \\in \\mathbb Z_{n}$, $[a] +_{n} [b] = [a + b]$, (donde \"$+$\", representa la suma en los enteros). $$ $$ Luego, $(\\mathbb Z_{n}, +_{n})$, es un grupo."
     ]
    },
    {
     "cell_type": "markdown",
     "metadata": {},
     "source": [
      "A partir de ahora, escribiremos \"$+$\" y \"$a$\", en lugar de \"$+_{n}$\" y \"$[a]$\", cuando en el contexto sea evidente que nos referimos a este grupo"
     ]
    },
    {
     "cell_type": "markdown",
     "metadata": {},
     "source": [
      "**Definici\u00f3n: Permutaci\u00f3n y grupos de permutaciones**\n",
      "\n",
      "<div class=\"alert alert-info\">\n",
      "\n",
      "Una permutaci\u00f3n es una funci\u00f3n biyectiva. $$ $$ Sea $S$, conjunto no vac\u00edo, tal que $|S| = n \\in \\mathbb N$. Luego, el conjunto de funciones $S_{n} = \\{f:S\\to\\ S: f$ es biyectiva $ \\}$, junto con la operaci\u00f3n binaria de composici\u00f3n de funciones \"$\\circ$\", forman un grupo."
     ]
    },
    {
     "cell_type": "markdown",
     "metadata": {},
     "source": [
      "$$ $$ M\u00e1s informaci\u00f3n en: AQU\u00cd VA BIBLIOGRAF\u00cdA, PUEDE SER WIKIPEDIA"
     ]
    },
    {
     "cell_type": "heading",
     "level": 2,
     "metadata": {},
     "source": [
      "Modelo del cubo f\u00edsico"
     ]
    },
    {
     "cell_type": "markdown",
     "metadata": {},
     "source": [
      "Modelaremos el cubo rubik usando la teor\u00eda de grupos. Primero proporcionemos un modelo para el cubo f\u00edsico, en s\u00ed. $$ $$ Las $26$ piezas que conforman el cubo se dividen en tres tipos: los centros (que s\u00f3lo tienen un color asignado), las aristas (que tienen dos colores asignados), y los vertices (las esquinas, a quienes les corresponden tres colores). El espacio que una pieza ocupa, sin importar el tipo, se le llama cub\u00edculo. De esta forma, como las piezas centrales nunca cambian de cub\u00edculo, las usamos como punto de referencia para los cub\u00edculos que rodean cada una. Cuando uno realiza movimientos con el cubo, las piezas se mueven de cub\u00edculo en cub\u00edculo. Por lo anterior, podemos decir que el cubo est\u00e1 resuelto si las piezas est\u00e1n en su cub\u00edculo original, y si los colores de cada pieza est\u00e1n en su orientaci\u00f3n correcta (de nuevo respecto al centro). $$ $$ Nuestro modelo consiste en una $4$-tupla $(\\rho, v, \\sigma, w)$, donde $\\rho$  (respectivamente $\\sigma$), describe c\u00f3mo los v\u00e9rtices (respectivamente las aristas) est\u00e1n permutados, y $v$ (y $w$), describe c\u00f3mo los v\u00e9rtices (y las aristas) est\u00e1n orientadas. M\u00e1s a\u00fan, imaginemos que las piezas y los cub\u00edculos est\u00e1n enumerados. Cuando una pieza est\u00e1 en su posici\u00f3n natural, es porque su n\u00famero asociado es igual al de su cub\u00edculo. $$ $$ Cualquier configuraci\u00f3n del cubo arrojar\u00e1 dos permutaciones (ignorando las orientaciones de las piezas): $\\rho \\in S_{8}$, que corresponde a c\u00f3mo los v\u00e9rtices han sido permutados; y $\\sigma \\in S_{12}$, que representa c\u00f3mo las aristas fueron permutadas. FALTA COMPLETAR EXPLICACI\u00d3N DE LAS PERMUTACIONES."
     ]
    },
    {
     "cell_type": "markdown",
     "metadata": {},
     "source": [
      "AQU\u00cd IR\u00cdA UNA IMAGEN PARA LA ENUMERACI\u00d3N DE LAS PIEZAS"
     ]
    },
    {
     "cell_type": "markdown",
     "metadata": {},
     "source": [
      "Para las orientaciones de cada pieza (la distribuci\u00f3n de los colores), a su vez, enumeramos cada una de las caras o colores del cubo asociados a las piezas movibles, a saber, aristas y v\u00e9rtices (v\u00e9ase la imagen). $0,1,2$ para los v\u00e9rtices (pues tienen tres colores), y $0,1$ para las aristas (pues tienen dos posibles colores). Por esta raz\u00f3n muy naturalmente trabajamos con $\\mathbb Z_{3}$ y $\\mathbb Z_{2}$, respectivamente. O m\u00e1s bien:\n",
      "<br> <br> $w = (\\ w_{1}, w_{2}, . . ., w_{12} )\\ \\in \\mathbb Z_{2}^{12}$, es decir, $w = \\{0, 1\\}^{12}$, para la configuraci\u00f3n de las $12$ aristas, donde $w_{i}$ corresponde al $i$-\u00e9sima arista  y el color que \u00e9ste contiene. \n",
      "<br> <br> $v = (\\ v_{1}, v_{2}, . . ., v_{8} )\\ \\in \\mathbb Z_{3}^{8}$, es decir, $v = \\{0, 1, 2\\}^{8}$, para la configuraci\u00f3n de los $8$ v\u00e9rtices, donde $v_{j}$ corresponde a la $j$-\u00e9simo v\u00e9rtice y el color que \u00e9ste contiene."
     ]
    },
    {
     "cell_type": "markdown",
     "metadata": {},
     "source": [
      "AQU\u00cd IR\u00cdA UNA IMAGEN PARA LA ENUMERACI\u00d3N DE LAS ORIENTACIONES"
     ]
    },
    {
     "cell_type": "heading",
     "level": 4,
     "metadata": {},
     "source": [
      "Ejemplo"
     ]
    },
    {
     "cell_type": "markdown",
     "metadata": {},
     "source": [
      "En el cubo armado, fij\u00e9monos en el v\u00e9rtice BRA (blanco, rojo y azul) a la cual le asociamos el $2 , 1, 0$, mientras que al cub\u00edculo que \u00e9sta tiene, le toca el n\u00famero $4$. Ahora supongamos que tras realizar movimientos, en \u00e9ste nuevo cub\u00edculo (de nuevo, usando el inamovible centro como punto de referencia), nos hallamos con BAN (blanco, azul y negro). Por los colores, nuestro vector de descripci\u00f3n de estado del cubo, en la entrada de $w$, $v_{4}$ FALTA\n",
      "<br> <br> Podr\u00edamos resumir toda la informaci\u00f3n anterior con la siguiente definici\u00f3n: "
     ]
    },
    {
     "cell_type": "markdown",
     "metadata": {},
     "source": [
      "**Definici\u00f3n: Vector de descripci\u00f3n de estado del cubo**\n",
      "<div class=\"alert alert-info\">\n",
      "Sea $X$ una configuraci\u00f3n del cubo. El vector de descripci\u00f3n del estado $X$ es $(\\rho, v, \\sigma, w ) \\in S_{8} \\times \\mathbb Z_{3}^{8} \\times S_{12} \\times \\mathbb Z_{2}^{12} $, donde:\n",
      "<br> <ul> <li> $\\rho \\in S_{8}$: codifica la permutaci\u00f3n de los v\u00e9rtices respecto a los centro inamovibles: $\\rho (i) = j$, si la arista $j$ est\u00e1 en el cub\u00edculo $i$  \n",
      "<li>  $v \\in \\mathbb Z_{3}^{8}$: el n\u00famero $v_{i}$, corresponde a la orientacion del v\u00e9rtice $j$ en el cub\u00edculo $i$  \n",
      "<li> $\\sigma \\in S_{12}$: codifica la permutaci\u00f3n de las aristas respecto a los centro inamovibles: $\\sigma (i) = j$, si el v\u00e9rtice $j$ est\u00e1 en el cub\u00edculo $i$\n",
      "<li>  $w \\in \\mathbb Z_{2}^{12}$: el n\u00famero $v_{j}$, corresponde a la orientacion de la arista $j$ en el cub\u00edculo $i$  "
     ]
    },
    {
     "cell_type": "heading",
     "level": 2,
     "metadata": {},
     "source": [
      "Entrada v\u00e1lida"
     ]
    },
    {
     "cell_type": "markdown",
     "metadata": {},
     "source": [
      "Ya estamos en condiciones de programar. Las siguientes funciones verifican que el vector de descripci\u00f3n de estado del cubo, en efecto, se trate de una entrada v\u00e1lida (es decir, que cumpla con la definici\u00f3n anterior)."
     ]
    },
    {
     "cell_type": "code",
     "collapsed": false,
     "input": [
      "def ZnValido(a): #Te dice si el arreglo solo tiene elementos de Zn, para cualquier n >= 2\n",
      "\n",
      "        a = np.unique(a)\n",
      "        A = np.zeros(len(a)).astype(bool) #Lo hacemos ahora con un arreglo inicialmente con Falses.\n",
      "        for i in range(0, len(a)):\n",
      "            if i == a[i]:\n",
      "                A[i] = True\n",
      "            else:\n",
      "                A[i] = False\n",
      "        return A.all()\n",
      "def EntradaValida(a,b,c,d): \n",
      "\n",
      "        \"\"\"a array de tama\u00f1o 8, con elementos \u00fanicos por ser permutaci\u00f3n\n",
      "           b array de tama\u00f1o 8, cuyas entradas solo pueden ser 0,1,2\n",
      "           b array de tama\u00f1o 12, con elementos \u00fanicos por ser permutaci\u00f3n       \n",
      "           d array de tama\u00f1o 12, cuyas entradas solo pueden ser 0,1\"\"\"\n",
      "\n",
      "        EntradaValida = np.zeros(3).astype(bool)\n",
      "\n",
      "        #Primero checamos que las longitudes sean v\u00e1lidas\n",
      "\n",
      "        longitudes = np.zeros(4).astype(bool) #Crea un array de cuatro Falses. Se cambian las entradas por Trues si se cumple la condici\u00f3n.\n",
      "        if len(a) == 8: #Permutaci\u00f3n en S8\n",
      "            longitudes[0] = True\n",
      "        if len(b) == 8: #Elemento en (Z3)^8\n",
      "            longitudes[1] = True\n",
      "        if len(c) == 12: #Permutaci\u00f3n en S12\n",
      "            longitudes[2] = True\n",
      "        if len(d) == 12: #Elemento en (Z2)^12\n",
      "            longitudes[3] = True\n",
      "        EntradaValida[0] = longitudes.all()  #Si todas las condiciones son v\u00e1lidas, devuelve True.  \n",
      "\n",
      "        \"\"\"Como a y b son permutaciones, no puede haber elementos repetidos.\n",
      "        Para \"modelarlas\", la entrada i-\u00e9sima del array corresponde a la re ubicaci\u00f3n del elemento a esa nueva posici\u00f3n,\n",
      "        por ejemplo, (1,2,3,4,5,6,8,7), nos dice que se intercambi\u00f3 la entrada s\u00e9ptima por la octava.\n",
      "        De esta manera, una permutaci\u00f3n en S8 es v\u00e1lida si tiene ocho elementos \u00fanicos\"\"\"\n",
      "\n",
      "        permutaciones = np.zeros(2).astype(bool)\n",
      "        if len(np.unique(a)) == 8:\n",
      "            permutaciones[0] = True\n",
      "        if len(np.unique(c)) == 12:\n",
      "            permutaciones[1] = True\n",
      "        EntradaValida[1] = permutaciones.all() #Si todas las condiciones son v\u00e1lidas, devuelve True\n",
      "\n",
      "        #Ahora hay que checar que b y d solo tengan 0,1,2 y 0,1 respectivamente.\n",
      "        enterosModuloN = np.zeros(2).astype(bool) #Lo hacemos ahora con un arreglo inicialmente con Falses.\n",
      "\n",
      "        if ZnValido(b) == True:\n",
      "            enterosModuloN[0] = True\n",
      "\n",
      "        if ZnValido(d) == True:\n",
      "            enterosModuloN[1] = True\n",
      "\n",
      "        EntradaValida[2] = enterosModuloN.all() #Si todas las condiciones son v\u00e1lidas, devuelve True\n",
      "\n",
      "        return EntradaValida.all()"
     ],
     "language": "python",
     "metadata": {},
     "outputs": [],
     "prompt_number": 2
    },
    {
     "cell_type": "heading",
     "level": 2,
     "metadata": {},
     "source": [
      "Cubo v\u00e1lido <br> ***Primer Teorema Fundamental del Cubo***"
     ]
    },
    {
     "cell_type": "markdown",
     "metadata": {},
     "source": [
      "Claramente nuestro modelo tiene una mayor cantidad de configuraciones posibles que la que tiene en realidad un cubo f\u00edsico.\n",
      "Estamos tomando en cuenta tambi\u00e9n las posiciones ilegales del cubo: aqu\u00e9llas que son imposibles de alcanzar con movimientos v\u00e1lidos (m\u00e1s adelante veremos un modelo para esto). Por ejemplo, es f\u00e1cil ver que el vector de estado $( \\epsilon_{8}, (0,. . .,0), \\epsilon_{12}, (1, 0, . . ., 0)\\ )$ ($\\epsilon_{i}$ es la funci\u00f3n identidad en $S_{i}$) es imposible de alcanzar, aunque s\u00ed cumple con la definici\u00f3n."
     ]
    },
    {
     "cell_type": "markdown",
     "metadata": {},
     "source": [
      "**Definici\u00f3n: Grupo del cubo v\u00e1lido e inv\u00e1lido**\n",
      "\n",
      "<div class=\"alert alert-info\">\n",
      "Al conjunto $RC_{3}^{*} = S_{8} \\times \\mathbb Z_{3}^{8} \\times S_{12} \\times \\mathbb Z_{2}^{12}$ se le llama grupo inv\u00e1lido del cubo.\n",
      "<br> Mientras que al conjunto $RC_{3} = \\{X \\in RC_{3}^{*}: X$ es una configuraci\u00f3n legal de cubo $ \\}$ se le llama grupo v\u00e1lido del cubo."
     ]
    },
    {
     "cell_type": "markdown",
     "metadata": {},
     "source": [
      "Es f\u00e1cil ver que $RC_{3} \\subset RC_{3}^{*}$, de hecho, \u00a1 $|RC_{3}| = 8! 12! 3^{8} 2^{12} \\approx 4.3 \\times 10^{19} < 5.1 \\times 10^{20} \\approx 2^{27} 3^{14} 5^{3} 7^{2} 11 = |RC_{3}^{*}|$ ! Por lo que es l\u00f3gico preguntarse \u00bfc\u00f3mo caracterizar las configuraciones legales del cubo para moderlarlo computacionalmente? El siguiente teorema nos da la soluci\u00f3n. Omitiremos la demostraci\u00f3n del mismo pues no le compete a un trabajo de esta naturaleza. "
     ]
    },
    {
     "cell_type": "markdown",
     "metadata": {},
     "source": [
      "**Proposici\u00f3n: Primer Teorema Fundamental del Cubo**\n",
      "\n",
      "<div class=\"alert alert-info\">\n",
      "Un vector de estado $(\\rho, v, \\sigma, w ) \\in S_{8} \\times \\mathbb Z_{3}^{8} \\times S_{12} \\times \\mathbb Z_{2}^{12} $ representa una configuraci\u00f3n legal del cubo si, y s\u00f3lo si, satisface las siguientes propiedades:\n",
      "<ul>\n",
      "<li> $sign(\\rho) = sign(\\sigma) $\n",
      "<li> $v_{1} + v_{2} + . . . + v_{8} \\equiv 0$ $(mod$ $8) $\n",
      "<li> $w_{1} + w_{2} + . . . + w_{12} \\equiv 0$ $(mod$ $2) $"
     ]
    },
    {
     "cell_type": "markdown",
     "metadata": {},
     "source": [
      "Donde \"$sign$\", para cada permutaci\u00f3n anterior, se refiere a su paridad. Para conocer la definici\u00f3n de paridad de una permutaci\u00f3n, ver: \n",
      "<br> http://en.wikipedia.org/wiki/Parity_of_a_permutation"
     ]
    },
    {
     "cell_type": "code",
     "collapsed": false,
     "input": [
      "def perm_parity(lst):\n",
      "        '''\\\n",
      "        Dada una permutacion de digitos de 1..N en order como una lista, \n",
      "        regresa su paridad : +1 si es par; -1 si es impar.\n",
      "        '''\n",
      "        parity = 1\n",
      "        for i in range(0,len(lst)-1):\n",
      "            if lst[i] != i+1:\n",
      "                parity *= -1\n",
      "                mn = min(range(i,len(lst)), key=lst.__getitem__)\n",
      "                lst[i],lst[mn] = lst[mn],lst[i]\n",
      "        return parity \n",
      "    \n",
      "def CuboValido(a,b,c,d): #La funci\u00f3n devuelve True o False, dependiendo de si cumple la caracterizaci\u00f3n de RC3 o no.\n",
      "\n",
      "    CuboValido = np.zeros(4).astype(bool)\n",
      "    #Condici\u00f3n 1:\n",
      "    if np.sum(b) % 3 == 0:#la suma de las orientaciones de los vertices sea 0 modulo 3\n",
      "        CuboValido[0] = True\n",
      "    #Condici\u00f3n 2:\n",
      "    if np.sum(d) % 2 == 0:#la suma de las orientaciones de las aristas sea 0 modulo 2\n",
      "        CuboValido[1] = True\n",
      "    #Condici\u00f3n 3:\n",
      "    if perm_parity(a) == perm_parity(c):#checa que la paridad de las aristas y los vertices sea la misma\n",
      "        CuboValido[2] = True    \n",
      "    #Condici\u00f3n extra: Entrada v\u00e1lida:\n",
      "    if EntradaValida(a,b,c,d) == True:\n",
      "        CuboValido[3] = True\n",
      "\n",
      "    return CuboValido.all"
     ],
     "language": "python",
     "metadata": {},
     "outputs": [],
     "prompt_number": 3
    },
    {
     "cell_type": "heading",
     "level": 4,
     "metadata": {},
     "source": [
      "Ejemplos"
     ]
    },
    {
     "cell_type": "markdown",
     "metadata": {},
     "source": [
      "Configuraci\u00f3n del cubo armado correctamente"
     ]
    },
    {
     "cell_type": "code",
     "collapsed": false,
     "input": [
      "a0 = np.array([1,2,3,4,5,6,7,8]) #la identidad en S8\n",
      "b0 = np.array([0,0,0,0,0,0,0,0]) #La identidad en (Z3)^8\n",
      "c0 = np.array([1,2,3,4,5,6,7,8,9,10,11,12]) #la identidad en S12\n",
      "d0 = np.array([0,0,0,0,0,0,0,0,0,0,0,0]) #La identidad en (Z2)^12\n",
      "\n",
      "print CuboValido(a0,b0,c0,d0)"
     ],
     "language": "python",
     "metadata": {},
     "outputs": [
      {
       "output_type": "stream",
       "stream": "stdout",
       "text": [
        "<built-in method all of numpy.ndarray object at 0x2c88e30>\n"
       ]
      }
     ],
     "prompt_number": 4
    },
    {
     "cell_type": "markdown",
     "metadata": {},
     "source": [
      "Configuraci\u00f3n legal de un cubo"
     ]
    },
    {
     "cell_type": "code",
     "collapsed": false,
     "input": [
      "a1 =np.array([1,6,2,4,5,7,3,8]) \n",
      "b1 =np.array([0,1,2,0,0,2,1,0]) \n",
      "c1 =np.array([1,6,3,4,5,10,2,8,9,7,11,12]) \n",
      "d1 =np.array([0,1,0,0,0,1,1,0,0,1,0,0]) \n",
      "\n",
      "print CuboValido(a1,b1,c1,d1)"
     ],
     "language": "python",
     "metadata": {},
     "outputs": [
      {
       "output_type": "stream",
       "stream": "stdout",
       "text": [
        "<built-in method all of numpy.ndarray object at 0x2adf430>\n"
       ]
      }
     ],
     "prompt_number": 5
    },
    {
     "cell_type": "markdown",
     "metadata": {},
     "source": [
      "Configuraci\u00f3n ilegal de un cubo"
     ]
    },
    {
     "cell_type": "code",
     "collapsed": false,
     "input": [
      "b2 = np.array([1,0,0,0,0,0,0,0]) \n",
      "\n",
      "print EntradaValida(a0,b2,c0,d0)\n",
      "print CuboValido(a0,b2,c0,d0)"
     ],
     "language": "python",
     "metadata": {},
     "outputs": [
      {
       "output_type": "stream",
       "stream": "stdout",
       "text": [
        "True\n",
        "<built-in method all of numpy.ndarray object at 0x2ff5790>\n"
       ]
      }
     ],
     "prompt_number": 6
    },
    {
     "cell_type": "markdown",
     "metadata": {},
     "source": [
      "AQU\u00cd VA UNA DESCRIPCI\u00d3N SOBRE LAS SIGUIENTES FUNCIONES QUE SIVEN PARA GRAFICAR"
     ]
    },
    {
     "cell_type": "code",
     "collapsed": false,
     "input": [
      "def graficar(cadAristas,cadVertices):#Necesita cadenas de secuencias de colores para graficar con esos mismos.\n",
      "    for e in xrange(0,3,1):#el proceso se repite tres veces para que no queden transparentes\n",
      "        xAr = np.array([5,11,6,8,5,5,4,2,1,12,9,10,7,6,3,4,5,11,6,8,5,5,4,2])\n",
      "        #en estos arreglos queda determinada la posici\u00f3n de las esferas, lo que cambia es su color dependiendo de las secuencias\n",
      "        #colores cadAristas y cadVertices\n",
      "        yAr = np.array([9,6,8,6,7,6,8,6,5,5,5,5,5,5,5,5,1,4,2,4,3,4,2,4])#lo mismo pero para la coordenada y\n",
      "\n",
      "        colorsAr=[]\n",
      "        cadenaColorsAr=cadAristas#Primero, descomponemos la secuencia de las aristas\n",
      "        #cadenaColorsAr='bkbybrwbwkykrywrkgyggrwg'\n",
      "        for e in cadenaColorsAr:#descompone el string en muchos string de un solo carecter (como un split)\n",
      "            colorsAr.append(e)\n",
      "        colorsAr = np.array(colorsAr)# vuelve arreglo a la lista\n",
      "        area = np.pi * (100 * np.ones(24)**2) # vector de srea de los circulos, la misma para todos\n",
      "\n",
      "        plt.scatter(xAr, yAr, s=area, c=colorsAr, alpha=0.5)#graficamos las aristas\n",
      "\n",
      "\n",
      "        xVr = np.array([4,1,12,6,10,9,6,7,6,4,4,3,4,12,1,6,9,10,6,6,7,4,3,4])#estas son las coordenadas de los vertices\n",
      "        yVr = np.array([9,6,6,9,6,6,7,6,6,7,6,6,1,4,4,1,4,4,3,4,4,3,4,4])\n",
      "\n",
      "        colorsVr=[]\n",
      "        cadenaColorsVr=cadVertices\n",
      "        #cadenaColorsVr='bwkbykrbywrbwgkgykgrywrg'\n",
      "        for e in cadenaColorsVr:#descompone la secuencia de colores de los vertices\n",
      "            colorsVr.append(e)\n",
      "        colorsVr = np.array(colorsVr)\n",
      "        area = np.pi * (100 * np.ones(24)**2) # define areas\n",
      "\n",
      "        plt.scatter(xVr, yVr, s=area, c=colorsVr, alpha=0.5)#grafica\n",
      "\n",
      "        xCr = np.array([5,5,5,2,8,11])#lo mismo para los centros\n",
      "        yCr = np.array([8,5,2,5,5,5])\n",
      "\n",
      "        colorsCr=[]\n",
      "        cadenaColorsCr='brgwyk'#la secuencia de colores es fija ya que estos no cambian / no se mueven\n",
      "        for e in cadenaColorsCr:\n",
      "            colorsCr.append(e)\n",
      "        colorsCr = np.array(colorsCr)\n",
      "        area = np.pi * (100 * np.ones(6)**2) # area\n",
      "\n",
      "        plt.scatter(xCr, yCr, s=area, c=colorsCr, alpha=0.5)\n",
      "\n",
      "\n",
      "    plt.show()"
     ],
     "language": "python",
     "metadata": {},
     "outputs": [],
     "prompt_number": 7
    },
    {
     "cell_type": "code",
     "collapsed": false,
     "input": [
      "def generaMatrizVertices():#como tal no es un m\u00e9todo, si no que genera una tabla de datos est\u00e1tica que se usa como funci\u00f3n de posiciones\n",
      "    #que regresa el color que deberia haber en dado lugar de vertice con determinada orientacion\n",
      "    r0=[]#dado que este en la orientaci\u00f3n cero, en la secuencia se muestra que color deber\u00eda haber en cada v\u00e9rtice\n",
      "    cadena='bbbbgggg'\n",
      "    for e in cadena:\n",
      "        r0.append(e)\n",
      "    r1=[]#igual para la orientaci\u00f3n 1\n",
      "    cadena='wkyrkyrw'\n",
      "    for e in cadena:\n",
      "        r1.append(e)\n",
      "    r2=[]#y la 2\n",
      "    cadena='kyrwwkyr'\n",
      "    for e in cadena:\n",
      "        r2.append(e)#separa la cadena para que sean listas dentro de listas y pueda buscarse informaci\u00f3n como si fueran matrices\n",
      "    matVertices=[]\n",
      "    matVertices.append(r0)#lo mete en la lista de filas\n",
      "    matVertices.append(r1)\n",
      "    matVertices.append(r2)\n",
      "    return matVertices"
     ],
     "language": "python",
     "metadata": {},
     "outputs": [],
     "prompt_number": 8
    },
    {
     "cell_type": "code",
     "collapsed": false,
     "input": [
      "def generaMatrizAristas():#lo mismo que generaMatrizVertices() pero para aristas\n",
      "    r0=[]#dada la posici\u00f3n 0, que hay en cada arista\n",
      "    cadena='bbbbwyywgggg'\n",
      "    for e in cadena:\n",
      "        r0.append(e)\n",
      "    r1=[]\n",
      "    cadena='kyrwkkrrkyrw'\n",
      "    for e in cadena:\n",
      "        r1.append(e)\n",
      "    matVertices=[]\n",
      "    matVertices.append(r0)\n",
      "    matVertices.append(r1)\n",
      "    return matVertices"
     ],
     "language": "python",
     "metadata": {},
     "outputs": [],
     "prompt_number": 9
    },
    {
     "cell_type": "code",
     "collapsed": false,
     "input": [
      "def fVertices(i,j,matVertices):#numero de vertice, orientacion, matriz donde se encuentran las imagenes de la funci\u00f3n\n",
      "    return matVertices[j][i-1]#es una funcion asociada a la matriz de datos, cuidado con ver quen es j y quien es i"
     ],
     "language": "python",
     "metadata": {},
     "outputs": [],
     "prompt_number": 10
    },
    {
     "cell_type": "code",
     "collapsed": false,
     "input": [
      "def fAristas(i,j,matAristas):#numero de arista, orientacion, matriz donde se encuentran las imagenes de la funci\u00f3n\n",
      "    return matAristas[j][i-1]#lo mismo que fvertices()"
     ],
     "language": "python",
     "metadata": {},
     "outputs": [],
     "prompt_number": 11
    },
    {
     "cell_type": "code",
     "collapsed": false,
     "input": [
      "def generaCadenaColoresVertices(vectores, vectoresOr,matVertices):#dada ciertos arreglos de vertices y sus respectivas orientaciones\n",
      "    #podemos determinar que color deberia mostrarse en cada cara de vertice para representar gr\u00e1ficamente el estado del cubo\n",
      "    a0 = vectores\n",
      "    b0 =vectoresOr\n",
      "    col=[]\n",
      "    for j in xrange(0,8,1):#para cada vertice\n",
      "        for i in xrange(0,3,1):#y para cada cara del vertice (recordemos que son 3)\n",
      "            col.append(fVertices(a0[j],(b0[j] +i) % 3,matVertices))#con la funci\u00f3n le asigna el color que le corresponde a esa cara\n",
      "            #la distribuci\u00f3n es especificamente esta ya que debe coincidir con la secuencia definida en las coordenadas de la funcion \n",
      "            #grafica()\n",
      "    return col#regresa el orden de colores para ser graficada"
     ],
     "language": "python",
     "metadata": {},
     "outputs": [],
     "prompt_number": 12
    },
    {
     "cell_type": "code",
     "collapsed": false,
     "input": [
      "def generaCadenaColoresAristas(aristas, aristasOr,matAristas):#lo mismo que generaCadenaColoresVertices(), pero para aristas\n",
      "    a0 = aristas\n",
      "    b0 =aristasOr\n",
      "    col=[]\n",
      "    for j in xrange(0,12,1):#para cada arista\n",
      "        for i in xrange(0,2,1):#para cada cara de arista, recordemos que son 2\n",
      "            col.append(fAristas(a0[j],(b0[j] +i) % 2,matAristas))\n",
      "    return col"
     ],
     "language": "python",
     "metadata": {},
     "outputs": [],
     "prompt_number": 13
    },
    {
     "cell_type": "code",
     "collapsed": false,
     "input": [
      "def reversa(sec):#dada una secuencia de movimientos v\u00e1lidos (FBUDLR), genera su soluci\u00f3n m\u00e1s evidente al seguir en reversa cada movimiento \n",
      "    #agregando a la secuencia de resuesta su inverso (es decir 3 veces el mismo ya que estamos hablando de rotaciones que generan\n",
      "    #subgrupos de 4 elementos\n",
      "    n=len(sec)#la longitud de la secuencia\n",
      "    revsec=[]#la lista donde se iran guardando los pasos\n",
      "    for i in xrange(0,n,1):#va uno por uno revisando los movimientos de adelante para atras\n",
      "        revsec.append(sec[n-1-i])#lo guarda tres veces en la secuencia de soluci\u00f3n\n",
      "        revsec.append(sec[n-1-i])\n",
      "        revsec.append(sec[n-1-i])\n",
      "    return revsec#regresa la secuencia, si se aplica al cubo este volvera al estado anterior a la secuencia de movimientos\n",
      "#En particular, si estaba resuelto, sirve como soluci\u00f3n"
     ],
     "language": "python",
     "metadata": {},
     "outputs": [],
     "prompt_number": 14
    },
    {
     "cell_type": "markdown",
     "metadata": {},
     "source": []
    },
    {
     "cell_type": "code",
     "collapsed": false,
     "input": [
      "class cubo:\n",
      "    \n",
      "    def __init__(self,vertices,verticesOr,aristas, aristasOr):#dado listas con una permutacion de S8 (posici\u00f3n de los v\u00e9rtices)\n",
      "        #, seguida de un elemento de Z3^8 (orientaci\u00f3n de los v\u00e9rtices), \n",
      "        #seguido de una permutaci\u00f3n de S12 (posici\u00f3n de las aristas), seguida de un elemento de Z2^12 (orientaci\u00f3n de las aristas)\n",
      "        #se genera un cubo con el estado inicial descrito por los arreglos, se recomienda pasar antes por el filtro de EntradaValida\n",
      "        self.vertices=vertices\n",
      "        self.verticesOr=verticesOr\n",
      "        self.aristas=aristas\n",
      "        self.aristasOr=aristasOr\n",
      "        \n",
      "    def CuboValido(self):#llama a la funci\u00f3n de CuboValido que determina si este estado cumple con el teorema fundamental de cubologia \n",
      "        #y por tanto es un estado que puede alcanzarse con las 6 rotaciones existentes\n",
      "        \n",
      "        return CuboValido(self.vertices,self.verticesOr,self.aristas,self.aristasOr)\n",
      "    \n",
      "    def estado(self):#imprime los arreglos del estado\n",
      "        print self.vertices\n",
      "        print self.verticesOr\n",
      "        print self.aristas\n",
      "        print self.aristasOr\n",
      "        \n",
      "    \n",
      "    \n",
      "    def secuencia(self, sec):#sec es un string, recordemos que un string es iterable, y toma a cada carecter como elemento de una lista\n",
      "        \n",
      "        #esta funcion puede leer un string (sec) que contenga secuencia de movimientos b\u00e1sicos descritos por su \n",
      "        #nombre en mayusculas.Descompone en caracteres y metiendolo al diccionario descrito abajo llama a su funci\u00f3n correspondiente\n",
      "        #para que lo ejecute en el estado actual del cubo\n",
      "        \n",
      "        opciones = {#a cada caracter del string lo manda al nombre de una funcion\n",
      "#se incluyen las versiones inversas \n",
      "                'D' : self.D,\n",
      "                'U' : self.U,\n",
      "                'R' : self.R,\n",
      "                'L' : self.L,\n",
      "                'F' : self.F,\n",
      "                'B' : self.B,\n",
      "                ' ':self.hacerNada,#puede seguir leyendo aunque este espaciado, llama a no hacer nada\n",
      "                }\n",
      "        \n",
      "        for e in sec:\n",
      "            opciones[e]()#llama a la funcion con el nombre que le asigna el diccionario\n",
      "            \n",
      "    def hacerNada(self):#cuando en la secuencia de caracteres tenga un espacio pueda llamar a esta funcion y no hacer nada\n",
      "        nada=1\n",
      "\n",
      "    def rotacion(self,v1,v2,v3,v4,vr1,vr2,vr3,vr4,a1,a2,a3,a4,ar1,ar2,ar3,ar4):#esta secuencia de entrada determina que tipo de rotaci\u00f3n es \n",
      "        #(FBDULR)\n",
      "        #esta es la estructura basica de una rotaci\u00f3n\n",
      "        #sabemos que cualquier rotaci\u00f3n mueve exactamente 4 vertices y 4 aristas, por lo que altera su posici\u00f3n y su \n",
      "        #orientacion, para algunas basta con que se pase la orientacion al nuevo lugar, pero aveces una peque\u00f1a modificaci\u00f3n debe\n",
      "        #hacerse, principalmente para las rotaciones laterales ya que recordemos el cubo esta est\u00e1tico y la cara del frente\n",
      "        #siempre ser\u00e1 la cara del frente\n",
      "        ##las posiciones tanto de las aristas como los vertices simplemente permutan, pero sus orientaciones pueden, ademas de permutar, \n",
      "        #deben alterarse para que est\u00e9n correctas\n",
      "        \n",
      "        aux=self.vertices[v1-1]#rotacion normal de posici\u00f3n de vertices, emplea los primeros 4 d\u00edgitos de la secuencia de entrada\n",
      "        self.vertices[v1-1]=self.vertices[v2-1]\n",
      "        self.vertices[v2-1]=self.vertices[v3-1]\n",
      "        self.vertices[v3-1]=self.vertices[v4-1]\n",
      "        self.vertices[v4-1]=aux#se usa un auxiliar para que guarde un dato para que asi este no se pierda al reasignar los valores\n",
      "        \n",
      "        \n",
      "        #Aqui se rotan las orientaciones, primero se permutan al igual que las posiciones pero puede que se tenga que hacer un ajuste.\n",
      "        # De si es necesario el ajuste y de cuanto tiene que hacerse se especifica en los 5-8 d\u00edgitos de la secuencia de entrada  \n",
      "        aux=self.verticesOr[v1-1]\n",
      "        self.verticesOr[v1-1]=(self.verticesOr[v2-1] + vr1)%3\n",
      "        self.verticesOr[v2-1]=(self.verticesOr[v3-1] + vr2)%3\n",
      "        self.verticesOr[v3-1]=(self.verticesOr[v4-1] + vr3)%3\n",
      "        self.verticesOr[v4-1]=(aux + vr4)%3\n",
      "        \n",
      "        #lo mismo para las aristas, pero aqui se usan los d\u00edgitos del 9 al 12\n",
      "        aux=self.aristas[a1-1]\n",
      "        self.aristas[a1-1]=self.aristas[a2-1]\n",
      "        self.aristas[a2-1]=self.aristas[a3-1]\n",
      "        self.aristas[a3-1]=self.aristas[a4-1]\n",
      "        self.aristas[a4-1]=aux\n",
      "        \n",
      "        #lo mismo para las orientaciones de las aristas, se usan para las rotaciones del 9 al 12, y para los ajustes del 13 al 16\n",
      "        aux=self.aristasOr[a1-1]\n",
      "        self.aristasOr[a1-1]=(self.aristasOr[a2-1] + ar1)%2\n",
      "        self.aristasOr[a2-1]=(self.aristasOr[a3-1] + ar2)%2\n",
      "        self.aristasOr[a3-1]=(self.aristasOr[a4-1] + ar3)%2\n",
      "        self.aristasOr[a4-1]=(aux + ar4)%2\n",
      "        \n",
      "    def D(self):#cada rotacion con sus respectivos valores para hacer las rotaciones y ajustes, debemos recordar que se habla de las \n",
      "        #posiciones en el cubo estpatico y no de las piezas como tal, en particular esta es la rotaci\u00f3n en sentido de las\n",
      "        #manecillas del reloj de la cara inferior (Down) Verde/ Green (g)\n",
      "        self.rotacion(5,8,7,6,0,0,0,0,9,12,11,10,0,0,0,0)\n",
      "        \n",
      "\n",
      "    def U(self):#cara superior (Up) Azul/Blue (b)\n",
      "        self.rotacion(1,2,3,4,0,0,0,0,1,2,3,4,0,0,0,0)\n",
      "        \n",
      "        \n",
      "    def R(self):#cara derecha (Right) Amarilla/Yellow (y)\n",
      "        self.rotacion(2,6,7,3,2,1,2,1,2,6,10,7,1,1,1,1)\n",
      "        \n",
      "\n",
      "    def L(self):#cara izquierda (Left) Blanca/ White (w)\n",
      "        self.rotacion(1,4,8,5,1,2,1,2,4,8,12,5,1,1,1,1)\n",
      "        \n",
      "        \n",
      "    def F(self):#cara frontal (Front) Rojo/ Red (r)\n",
      "        self.rotacion(3,7,8,4,2,1,2,1,3,7,11,8,0,0,0,0)\n",
      "      \n",
      "        \n",
      "    def B(self):#cara trasera (Back) Negro/ Black (k)\n",
      "        self.rotacion(1,5,6,2,2,1,2,1,1,5,9,6,0,0,0,0)\n",
      "  \n",
      "    def graficarEstado(self):#grafica el estado actual dado por los arreglos de permutaci\u00f3n y orientaci\u00f3n\n",
      "        matVertices=generaMatrizVertices()#Genera la matriz de informaci\u00f3n de vertices para las colores dado el estado (no hace falta hacerla\n",
      "        #cada vez que graficamos pero se hace para asegurar que exista siempre)\n",
      "        matAristas=generaMatrizAristas()#la matriz para la info de las aristas\n",
      "        a0=self.vertices#les cambia de nombres para llamarlos despu\u00e9s con las funciones que generan las cadenas de colores\n",
      "        b0=self.verticesOr\n",
      "        c0 = self.aristas\n",
      "        d0 = self.aristasOr\n",
      "        cadVertices=generaCadenaColoresVertices(a0,b0,matVertices)#crea cadena de colores para vertices dado las posiciones y orientaciones\n",
      "        #de los vertices\n",
      "        cadAristas=generaCadenaColoresAristas(c0,d0,matAristas)#igual para aristas\n",
      "        graficar(cadAristas,cadVertices)#grafica dadas las cadenas de vertices"
     ],
     "language": "python",
     "metadata": {},
     "outputs": [],
     "prompt_number": 15
    },
    {
     "cell_type": "code",
     "collapsed": false,
     "input": [
      "#A partir de aqui son experimentos que hice para checar que todo estuviera bien"
     ],
     "language": "python",
     "metadata": {},
     "outputs": [],
     "prompt_number": 16
    },
    {
     "cell_type": "code",
     "collapsed": false,
     "input": [
      "\n",
      "a0 = np.array([1,2,3,4,5,6,7,8]) #la identidad en S8\n",
      "b0 = np.array([0,0,0,0,0,0,0,0]) #La identidad en (Z3)^8\n",
      "c0 = np.array([1,2,3,4,5,6,7,8,9,10,11,12]) #la identidad en S12\n",
      "d0 = np.array([0,0,0,0,0,0,0,0,0,0,0,0]) #La identidad en (Z2)^12\n",
      "if(EntradaValida(a0,b0,c0,d0)):\n",
      "    if(CuboValido(a0,b0,c0,d0)):\n",
      "        prueba=cubo(a0,b0,c0,d0)\n",
      "        print CuboValido(a0,b0,c0,d0)\n",
      "prueba.graficarEstado()#imprime un cubo en estado resuelto"
     ],
     "language": "python",
     "metadata": {},
     "outputs": [
      {
       "output_type": "stream",
       "stream": "stdout",
       "text": [
        "<built-in method all of numpy.ndarray object at 0x2d6e140>\n"
       ]
      },
      {
       "metadata": {},
       "output_type": "display_data",
       "png": "[encoded data removed]",
       "text": [
        "<matplotlib.figure.Figure at 0x7f029e98d9d0>"
       ]
      }
     ],
     "prompt_number": 17
    },
    {
     "cell_type": "code",
     "collapsed": false,
     "input": [
      "prueba.secuencia('UDLUUDFBLRDULRUDBFDFBUL')#una secuencia cualquiera\n",
      "prueba.estado()#imprime sus arreglos de estado\n",
      "prueba.graficarEstado()#lo grafica\n",
      "h=reversa('UDLUUDFBLRDULRUDBFDFBUL')#calcula soluci\u00f3n por el m\u00e9todo de inversa\n",
      "print h#muestra la secuencia de movimientos\n",
      "prueba.secuencia(h)#la ejecuta\n",
      "prueba.graficarEstado()#el estado debe volver al estado anterior a los movomientos"
     ],
     "language": "python",
     "metadata": {},
     "outputs": [
      {
       "output_type": "stream",
       "stream": "stdout",
       "text": [
        "[1 4 6 5 2 8 3 7]\n",
        "[0 1 0 2 1 1 2 2]\n",
        "[ 2  8  4  7  3  1  5 11 12  6 10  9]\n",
        "[1 1 1 0 1 0 0 1 0 1 0 0]\n"
       ]
      },
      {
       "metadata": {},
       "output_type": "display_data",
       "png": "[encoded data removed]",
       "text": [
        "<matplotlib.figure.Figure at 0x7f029e988a90>"
       ]
      },
      {
       "output_type": "stream",
       "stream": "stdout",
       "text": [
        "['L', 'L', 'L', 'U', 'U', 'U', 'B', 'B', 'B', 'F', 'F', 'F', 'D', 'D', 'D', 'F', 'F', 'F', 'B', 'B', 'B', 'D', 'D', 'D', 'U', 'U', 'U', 'R', 'R', 'R', 'L', 'L', 'L', 'U', 'U', 'U', 'D', 'D', 'D', 'R', 'R', 'R', 'L', 'L', 'L', 'B', 'B', 'B', 'F', 'F', 'F', 'D', 'D', 'D', 'U', 'U', 'U', 'U', 'U', 'U', 'L', 'L', 'L', 'D', 'D', 'D', 'U', 'U', 'U']\n"
       ]
      },
      {
       "metadata": {},
       "output_type": "display_data",
       "png": "[encoded data removed]",
       "text": [
        "<matplotlib.figure.Figure at 0x7f029e78ef90>"
       ]
      }
     ],
     "prompt_number": 18
    },
    {
     "cell_type": "code",
     "collapsed": false,
     "input": [],
     "language": "python",
     "metadata": {},
     "outputs": [],
     "prompt_number": 18
    },
    {
     "cell_type": "code",
     "collapsed": false,
     "input": [
      "F3R1U3D3B1\n",
      "F2R1F2R3F2U1R1L1\n",
      "R2U3F2U3F2U1R2U3R2U1\n",
      "F2L2B2R2U2L2D2L2F2"
     ],
     "language": "python",
     "metadata": {},
     "outputs": [
      {
       "ename": "NameError",
       "evalue": "name 'F3R1U3D3B1' is not defined",
       "output_type": "pyerr",
       "traceback": [
        "\u001b[1;31m---------------------------------------------------------------------------\u001b[0m\n\u001b[1;31mNameError\u001b[0m                                 Traceback (most recent call last)",
        "\u001b[1;32m<ipython-input-19-a08050b49817>\u001b[0m in \u001b[0;36m<module>\u001b[1;34m()\u001b[0m\n\u001b[1;32m----> 1\u001b[1;33m \u001b[0mF3R1U3D3B1\u001b[0m\u001b[1;33m\u001b[0m\u001b[0m\n\u001b[0m\u001b[0;32m      2\u001b[0m \u001b[0mF2R1F2R3F2U1R1L1\u001b[0m\u001b[1;33m\u001b[0m\u001b[0m\n\u001b[0;32m      3\u001b[0m \u001b[0mR2U3F2U3F2U1R2U3R2U1\u001b[0m\u001b[1;33m\u001b[0m\u001b[0m\n\u001b[0;32m      4\u001b[0m \u001b[0mF2L2B2R2U2L2D2L2F2\u001b[0m\u001b[1;33m\u001b[0m\u001b[0m\n",
        "\u001b[1;31mNameError\u001b[0m: name 'F3R1U3D3B1' is not defined"
       ]
      }
     ],
     "prompt_number": 19
    },
    {
     "cell_type": "code",
     "collapsed": false,
     "input": [
      "T=[]\n",
      "S=[0]*20,'QTRXadbhEIFJUVZYeijf',0\n",
      "I='FBRLUD'\n",
      "\n",
      "G=[(~i%8,i/8-4)for i in map(ord,'ouf|/[bPcU`Dkqbx-Y:(+=P4cyrh=I;-(:R6')]\n",
      "R=range\n",
      "\n",
      "def M(o,s,p):\n",
      " z=~p/2%-3;k=1\n",
      " for i,j in G[p::6]:i*=k;j*=k;o[i],o[j]=o[j]-z,o[i]+z;s[i],s[j]=s[j],s[i];k=-k\n",
      "\n",
      "N=lambda p:sum([i<<i for i in R(4)for j in R(i)if p[j]<p[i]])\n",
      "\n",
      "def H(i,t,s,n=0,d=()):\n",
      " if i>4:n=N(s[2-i::2]+s[7+i::2])*84+N(s[i&1::2])*6+divmod(N(s[8:]),24)[i&1]\n",
      " elif i>3:\n",
      "  for j in s:l='UZifVYje'.find(j);t[l]=i;d+=(l-4,)[l<4:];n-=~i<<i;i+=l<4\n",
      "  n+=N([t[j]^t[d[3]]for j in d])\n",
      " elif i>1:\n",
      "  for j in s:n+=n+[j<'K',j in'QRab'][i&1]\n",
      " for j in t[13*i:][:11]:n+=j%(2+i)-n*~i\n",
      " return n\n",
      "\n",
      "def P(i,m,t,s,l=''):\n",
      " for j in~-i,i:\n",
      "  if T[j][H(j,t,s)]<m:return\n",
      " if~m<0:print l;return t,s\n",
      " for p in R(6):\n",
      "  u=t[:];v=s[:]\n",
      "  for n in 1,2,3:\n",
      "   M(u,v,p);r=p<n%2*i or P(i,m+1,u,v,l+I[p]+`n`)\n",
      "   if r>1:return r\n",
      "\n",
      "s=raw_input().split()\n",
      "o=[-(p[-1]in'UD')or p[0]in'RL'or p[1]in'UD'for p in s]\n",
      "s=[chr(64+sum(1<<I.find(a)for a in x))for x in s]\n",
      "\n",
      "for i in R(7):\n",
      " m=0;C={};T+=C,;x=[S]\n",
      " for j,k,d in x:\n",
      "  h=H(i,j,k)\n",
      "  for p in R(C.get(h,6)):\n",
      "   C[h]=d;u=j[:];v=list(k)\n",
      "   for n in i,0,i:M(u,v,p);x+=[(u[:],v[:],d-1)]*(p|1>n)\n",
      " if~i&1:\n",
      "  while[]>d:d=P(i,m,o,s);m-=1\n",
      "  o,s=d\n",
      "#RU LF UB DR DL BL UL FU BD RF BR FD LDF LBD FUL RFD UFR RDB UBL RBU"
     ],
     "language": "python",
     "metadata": {},
     "outputs": []
    },
    {
     "cell_type": "code",
     "collapsed": false,
     "input": [
      "type(s)"
     ],
     "language": "python",
     "metadata": {},
     "outputs": []
    },
    {
     "cell_type": "code",
     "collapsed": false,
     "input": [
      "\"\"\"Variable Index\n",
      "\n",
      "T - the main heuristic table.\n",
      "S - a solved cube state. Each individual piece is stored as a bit mask, represented as a character. A solved orientation vector is defined as the zero vector.\n",
      "I - the various twists, in the order that they are eliminated from the search space.\n",
      "G - the groups for twist permutations, stored as pairs to be swapped. Each byte in the compressed string encodes for one pair. Each twist needs six swaps: three for the edge cycle, and three for the corner cycle. The compressed string contains only printable ascii (char 32 to 126).\n",
      "M - a function that performs a move, given by G.\n",
      "N - converts a permutation of four objects to a number, for encoding purposes.\n",
      "H - calculates the heuristic value for the given cube state, used to lookup move depth from T.\n",
      "P - perform a search at a single depth of a single phase of the algorithm.\n",
      "s - the input cube's permutation state.\n",
      "o - the input cube's orientation vector.\"\"\""
     ],
     "language": "python",
     "metadata": {},
     "outputs": []
    },
    {
     "cell_type": "code",
     "collapsed": false,
     "input": [
      "#El programa tiene que poder llenar estos diccionarios con la informaci\u00f3n que de el usuario\n",
      "\n",
      "esquinas={'1': , '2': , '3': , '4': , '5': , '6': , '7': , '8': }\n",
      "esquinasOr={'1': , '2': , '3': , '4': , '5': , '6': , '7': , '8': }\n",
      "aristas={'1': , '2': , '3': , '4': , '5': , '6': , '7': , '8': , '9': , '10': , '11': , '12':}\n",
      "aristasOr={'1': , '2': , '3': , '4': , '5': , '6': , '7': , '8': , '9': , '10': , '11': , '12':}"
     ],
     "language": "python",
     "metadata": {},
     "outputs": []
    },
    {
     "cell_type": "code",
     "collapsed": false,
     "input": [
      "#el usuario va a tener que pasar un arreglo con los colores de cada estampa, empezando de arriba hacia abajo de izquierda \n",
      "# a derecha.Asumimos que el cubo est\u00e1 orientado como ya indicamos (frontal rojo con azul arriba) \n",
      "# Cada arreglo contiene los colores en este orden; arriba, frontal, abajo, izquierda, derecha, atr\u00e1s.\n",
      "# azul b, rojo r, verde g, blanco w, naranga o, amarillo y\n",
      "estado=np.zeros((6,9))\n",
      "mapa =[['ulb','ub','ubr','ul','u','ur','ufl','uf','url'],\n",
      "       ['flu','fu','fur','fl','f','fr','fdl','fd','frd'],\n",
      "       ['dlf','df','dfr','dl','d','dr','dbl','db','drb'],\n",
      "       ['lbu','lu','luf','lb','l','lf','ldb','ld','lfd'],\n",
      "       ['rfu','ru','rub','rf','r','rb','rdf','rd','rbd'],\n",
      "       ['bru','bu','bul','br','b','bl','brd','bd','bld']]\n",
      "\n",
      "#Le asiganimos al mapa los datos del arreglo que meta el usuario\n",
      "for i in range(6):\n",
      "    for j in range(9):\n",
      "        mapa[i][j]=estado[i][j]\n",
      "\n"
     ],
     "language": "python",
     "metadata": {},
     "outputs": []
    },
    {
     "cell_type": "code",
     "collapsed": false,
     "input": [
      "#Definimos funciones que nos ayuden a extraer la informaci\u00f3n que necesitamos.\n",
      "infoAristas=np.zeros((12,2)\n",
      "infoEsquinas=np.zeros((8,3)\n",
      "\n",
      "def sacarAristas():\n",
      "    #regresa las aristas del mapa, en el orden antes establecido. Primero arriba, luego la capa de la mitad y por \u00faltimo\n",
      "    #la capa de abajo. Empezamos con la arista de la parte de atr\u00e1s y seguimos en orden de manecillas. \n",
      "    #Para las aristas de las capas de arriba y abajo, la primera coordenada corresponde a la estampa de arriba y abajo respectivamente\n",
      "    #si vemos el cubo de frente. \n",
      "    #Para la capa de en medio, la primera coordenada ser\u00e1 la estampa que tenemos de frente, no las laterales.\n",
      "    infoAristas=[(mapa[1][2],mapa[6][2]),(mapa[1][6],mapa[5][2]),(mapa[1][8],mapa[2][2]),(mapa[1][4],mapa[4][2]),\n",
      "                (mapa[6][6],mapa[4][4]),(mapa[6][4],mapa[5][6]),(mapa[2][6],mapa[5][4]),(mapa[2][4],mapa[4][6]),\n",
      "                (mapa[3][8],mapa[6][8]),(mapa[3][6],mapa[5][8]),(mapa[3][2],mapa[2][8]),(mapa[3][4],mapa[4][8])]\n",
      "    return infoAristas\n",
      "\n",
      "def sacarEsquinas():\n",
      "    #Regresa un arreglo con las esquinas, empezando arriba enfrente izquierda, continuamos en contra de las manecillas.\n",
      "    #An\u00e1logamente para las esquinas inferiores.\n",
      "    #La primera coordenada corresponde a la estampa que veamos de frente, la segunda a la estampa lateral.\n",
      "    infoEsquinas=[(mapa[2][1],mapa[4][3],mapa[1][7]),(mapa[2][3],mapa[5][1],mapa[1][9]),(mapa[6][1],mapa[5][3],mapa[1][3]),(mapa[6][3],mapa[4][1],mapa[1][1]),\n",
      "                  (mapa[2][7],mapa[4][9],mapa[3][1]),(mapa[2][9],mapa[5][7],mapa[3][3]),(mapa[6][7],mapa[5][9],mapa[3][9]),(mapa[6][9],mapa[4][7],mapa[3][7])]\n",
      "    return infoEsquinas\n",
      "\n"
     ],
     "language": "python",
     "metadata": {},
     "outputs": []
    },
    {
     "cell_type": "code",
     "collapsed": false,
     "input": [
      "#LLenar el diccionario con la ubicaci\u00f3n de cada arista\n",
      "\n",
      "for i in (1,2,3,4,5,6,7,8,9,10,11,12):\n",
      "    if infoAristas[i]=(b,o) or (o,b):\n",
      "    aristas['i']=1\n",
      "    elif infoAristas[i]=(b,y) or (y,b):\n",
      "    aristas['i']=2\n",
      "    elif infoAristas[i]=(b,r) or (r,b):\n",
      "    aristas['i']=3\n",
      "    elif infoAristas[i]=(b,w) or (w,b):\n",
      "    aristas['i']=4\n",
      "    elif infoAristas[i]=(o,w) or (w,o):\n",
      "    aristas['i']=5\n",
      "    elif infoAristas[i]=(o,y) or (y,o):\n",
      "    aristas['i']=6\n",
      "    elif infoAristas[i]=(r,y) or (y,r):\n",
      "    aristas['i']=7\n",
      "    elif infoAristas[i]=(r,w) or (w,r):\n",
      "    aristas['i']=8\n",
      "    elif infoAristas[i]=(o,g) or (g,o):\n",
      "    aristas['i']=9\n",
      "    elif infoAristas[i]=(g,y) or (y,g):\n",
      "    aristas['i']=10\n",
      "    elif infoAristas[i]=(g,r) or (r,g):\n",
      "    aristas['i']=11\n",
      "    elif infoAristas[i]=(g,w) or (w,g):\n",
      "    aristas['i']=12\n",
      "    else:\n",
      "        return \"Entrada inv\u00e1lida\"\n",
      "    \n",
      "\n",
      "\n"
     ],
     "language": "python",
     "metadata": {},
     "outputs": []
    },
    {
     "cell_type": "code",
     "collapsed": false,
     "input": [
      "#Llenar el diccionario de la ubicaci\u00f3n de las esquinas\n",
      "for i in (1,2,3,4,5,6,7,8):\n",
      "    if infoEsquinas[i]=(r,w,b) or (r,b,w) or (b,w,r):\n",
      "#Son necesarias todas las combinaciones de esquinas?"
     ],
     "language": "python",
     "metadata": {},
     "outputs": []
    },
    {
     "cell_type": "code",
     "collapsed": false,
     "input": [
      "if aristas['1']=1:\n",
      "    if infoAristas[1]=(b,g):\n",
      "    aristasOr['1']=0\n",
      "    else:\n",
      "    aristasOr['1']=1\n",
      "#Igual, buscar un for para hacerlo r\u00e1pido\n",
      "    "
     ],
     "language": "python",
     "metadata": {},
     "outputs": []
    },
    {
     "cell_type": "code",
     "collapsed": false,
     "input": [],
     "language": "python",
     "metadata": {},
     "outputs": []
    }
   ],
   "metadata": {}
  }
 ]
}