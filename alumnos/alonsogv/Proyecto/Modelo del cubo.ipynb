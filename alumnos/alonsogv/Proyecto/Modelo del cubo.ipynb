{
 "metadata": {
  "name": "",
  "signature": "sha256:559210a6e06f13e29a4a7747a6d42d7be078caf688f0f0b673301b47ea3f7d9b"
 },
 "nbformat": 3,
 "nbformat_minor": 0,
 "worksheets": [
  {
   "cells": [
    {
     "cell_type": "markdown",
     "metadata": {},
     "source": [
      " Checa que una cu\u00e1drupla sea v\u00e1lida y pertenezca al grupo del cubo rubik. (V\u00e9ase 302 notes, p\u00e1gina 233)\n",
      "    "
     ]
    },
    {
     "cell_type": "code",
     "collapsed": false,
     "input": [
      "import numpy as np\n",
      "import random\n",
      "import itertools "
     ],
     "language": "python",
     "metadata": {},
     "outputs": [],
     "prompt_number": 1
    },
    {
     "cell_type": "code",
     "collapsed": false,
     "input": [
      "def ZnValido(a): #Te dice si el arreglo solo tiene elementos de Zn, para cualquier n >= 2\n",
      "    a = np.unique(a)\n",
      "    A = np.zeros(len(a)).astype(bool) #Lo hacemos ahora con un arreglo inicialmente con Falses.\n",
      "    for i in range(0, len(a)):\n",
      "        if i == a[i]:\n",
      "            A[i] = True\n",
      "        else:\n",
      "            A[i] = False\n",
      "    return A.all()"
     ],
     "language": "python",
     "metadata": {},
     "outputs": [],
     "prompt_number": 2
    },
    {
     "cell_type": "code",
     "collapsed": false,
     "input": [
      "def EntradaValida(a,b,c,d): \n",
      "    \n",
      "    \"\"\"a array de tama\u00f1o 8, con elementos \u00fanicos por ser permutaci\u00f3n\n",
      "       b array de tama\u00f1o 12, con elementos \u00fanicos por ser permutaci\u00f3n\n",
      "       c array de tama\u00f1o 8, cuyas entradas solo pueden ser 0,1,2\n",
      "       d array de tama\u00f1o 12, cuyas entradas solo pueden ser 0,1\"\"\"\n",
      "    \n",
      "    EntradaValida = np.zeros(3).astype(bool)\n",
      "    \n",
      "    #Primero checamos que las longitudes sean v\u00e1lidas\n",
      "    \n",
      "    longitudes = np.zeros(4).astype(bool) #Crea un array de cuatro Falses. Se cambian las entradas por Trues si se cumple la condici\u00f3n.\n",
      "    if len(a) == 8: #Permutaci\u00f3n en S8\n",
      "        longitudes[0] = True\n",
      "    if len(b) == 12: #Permutaci\u00f3n en S12\n",
      "        longitudes[1] = True\n",
      "    if len(c) == 8: #Elemento en (Z3)^8\n",
      "        longitudes[2] = True\n",
      "    if len(d) == 12: #Elemento en (Z2)^12\n",
      "        longitudes[3] = True\n",
      "    EntradaValida[0] = longitudes.all()  #Si todas las condiciones son v\u00e1lidas, devuelve True.  \n",
      "            \n",
      "    \"\"\"Como a y b son permutaciones, no puede haber elementos repetidos.\n",
      "    Para \"modelarlas\", la entrada i-\u00e9sima del array corresponde a la re ubicaci\u00f3n del elemento a esa nueva posici\u00f3n,\n",
      "    por ejemplo, (1,2,3,4,5,6,8,7), nos dice que se intercambi\u00f3 la entrada s\u00e9ptima por la octava.\n",
      "    De esta manera, una permutaci\u00f3n en S8 es v\u00e1lida si tiene ocho elementos \u00fanicos\"\"\"\n",
      "    \n",
      "    permutaciones = np.zeros(2).astype(bool)\n",
      "    if len(np.unique(a)) == 8:\n",
      "        permutaciones[0] = True\n",
      "    if len(np.unique(b)) == 12:\n",
      "        permutaciones[1] = True\n",
      "    EntradaValida[1] = permutaciones.all() #Si todas las condiciones son v\u00e1lidas, devuelve True\n",
      "    \n",
      "    #Ahora hay que checar que c y d solo tengan 0,1,2 y 0,1 respectivamente.\n",
      "    enterosModuloN = np.zeros(2).astype(bool) #Lo hacemos ahora con un arreglo inicialmente con Falses.\n",
      "    \n",
      "    if ZnValido(c) == True:\n",
      "        enterosModuloN[0] = True\n",
      "    \n",
      "    if ZnValido(d) == True:\n",
      "        enterosModuloN[1] = True\n",
      "        \n",
      "    EntradaValida[2] = enterosModuloN.all() #Si todas las condiciones son v\u00e1lidas, devuelve True\n",
      "    \n",
      "    return EntradaValida.all()"
     ],
     "language": "python",
     "metadata": {},
     "outputs": [],
     "prompt_number": 3
    },
    {
     "cell_type": "code",
     "collapsed": false,
     "input": [
      "a0 = np.array([1,2,3,4,5,6,7,8]) #la identidad en S8\n",
      "b0 = np.array([1,2,3,4,5,6,7,8,9,10,11,12]) #la identidad en S12\n",
      "c0 = np.array([0,0,0,0,0,0,0,0]) #La identidad en (Z3)^8\n",
      "d0 = np.array([0,0,0,0,0,0,0,0,0,0,0,0]) #La identidad en (Z2)^12\n",
      "\n",
      "#Esta cu\u00e1drupla corresponde al cubo resuelto\n",
      "print EntradaValida(a0,b0,c0,d0)"
     ],
     "language": "python",
     "metadata": {},
     "outputs": [
      {
       "output_type": "stream",
       "stream": "stdout",
       "text": [
        "True\n"
       ]
      }
     ],
     "prompt_number": 4
    },
    {
     "cell_type": "code",
     "collapsed": false,
     "input": [
      "a1 = np.array([1,6,2,4,5,7,3,8]) #la identidad en S8\n",
      "b1 = np.array([1,6,3,4,5,10,2,8,9,7,11,12]) #la identidad en S12\n",
      "c1 = np.array([0,1,2,0,0,2,1,0]) #La identidad en (Z3)^8\n",
      "d1 = np.array([0,1,0,0,0,1,1,0,0,1,0,0]) #La identidad en (Z2)^12\n",
      "\n",
      "#Ejemplo tomado de 302 notes, p\u00e1gina 234\n",
      "print EntradaValida(a1,b1,c1,d1)"
     ],
     "language": "python",
     "metadata": {},
     "outputs": [
      {
       "output_type": "stream",
       "stream": "stdout",
       "text": [
        "True\n"
       ]
      }
     ],
     "prompt_number": 5
    },
    {
     "cell_type": "markdown",
     "metadata": {},
     "source": [
      "Usando el Teorema Fundamental de la Cubolog\u00eda I, checa que una cu\u00e1drupla corresponda a un cubo legal. (V\u00e9ase 302 notes, p\u00e1gina 235)\n",
      "    "
     ]
    },
    {
     "cell_type": "code",
     "collapsed": false,
     "input": [
      "def perm_parity(lst): #Funci\u00f3n tomada de...\n",
      "    '''\\\n",
      "    Given a permutation of the digits 0..N in order as a list, \n",
      "    returns its parity (or sign): +1 for even parity; -1 for odd.\n",
      "    '''\n",
      "    parity = 1\n",
      "    for i in range(0,len(lst)-1):\n",
      "        if lst[i] != i+1:\n",
      "            parity *= -1\n",
      "            mn = min(range(i,len(lst)), key=lst.__getitem__)\n",
      "            lst[i],lst[mn] = lst[mn],lst[i]\n",
      "    return parity "
     ],
     "language": "python",
     "metadata": {},
     "outputs": [],
     "prompt_number": 6
    },
    {
     "cell_type": "code",
     "collapsed": false,
     "input": [
      "def CuboValido(a,b,c,d): \n",
      "    CuboValido = np.zeros(4).astype(bool)\n",
      "    #Condici\u00f3n 1:\n",
      "    if np.sum(c) % 3 == 0:\n",
      "        CuboValido[0] = True\n",
      "    #Condici\u00f3n 2:\n",
      "    if np.sum(d) % 2 == 0:\n",
      "        CuboValido[1] = True\n",
      "    #Condici\u00f3n 3:\n",
      "    if perm_parity(a) == perm_parity(b):\n",
      "        CuboValido[2] = True    \n",
      "    #Condici\u00f3n extra: Entrada v\u00e1lida:\n",
      "    if EntradaValida(a,b,c,d) == True:\n",
      "        CuboValido[3] = True\n",
      "    \n",
      "    return CuboValido.all()"
     ],
     "language": "python",
     "metadata": {},
     "outputs": [],
     "prompt_number": 7
    },
    {
     "cell_type": "code",
     "collapsed": false,
     "input": [
      "print CuboValido(a0,b0,c0,d0)\n",
      "print CuboValido(a1,b1,c1,d1)"
     ],
     "language": "python",
     "metadata": {},
     "outputs": [
      {
       "output_type": "stream",
       "stream": "stdout",
       "text": [
        "True\n",
        "True\n"
       ]
      }
     ],
     "prompt_number": 8
    }
   ],
   "metadata": {}
  }
 ]
}