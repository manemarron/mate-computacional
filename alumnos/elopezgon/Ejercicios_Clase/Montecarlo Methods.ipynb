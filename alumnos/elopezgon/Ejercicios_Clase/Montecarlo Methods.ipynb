{
 "metadata": {
  "name": "",
  "signature": "sha256:03a61e8170824d72b1e842ae804b14275032811ffb44820ee4ed3ed35862d334"
 },
 "nbformat": 3,
 "nbformat_minor": 0,
 "worksheets": []
}