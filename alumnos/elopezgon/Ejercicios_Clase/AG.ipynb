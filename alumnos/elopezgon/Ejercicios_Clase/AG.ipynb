{
 "metadata": {
  "name": "",
  "signature": "sha256:5e95cb2ee2abd23fef55efa18f3165cb8434fa8259fadc3ce4b2162c80a6c4bc"
 },
 "nbformat": 3,
 "nbformat_minor": 0,
 "worksheets": [
  {
   "cells": [
    {
     "cell_type": "code",
     "collapsed": false,
     "input": [
      "class GA:\n",
      "    pass"
     ],
     "language": "python",
     "metadata": {},
     "outputs": [],
     "prompt_number": 1
    },
    {
     "cell_type": "code",
     "collapsed": false,
     "input": [],
     "language": "python",
     "metadata": {},
     "outputs": []
    }
   ],
   "metadata": {}
  }
 ]
}