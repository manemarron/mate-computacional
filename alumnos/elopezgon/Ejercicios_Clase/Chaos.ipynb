{
 "metadata": {
  "name": "",
  "signature": "sha256:7bbc747b8409ae246a25f9a86de11b960dae751b818cc6749798800f75984fd1"
 },
 "nbformat": 3,
 "nbformat_minor": 0,
 "worksheets": [
  {
   "cells": [
    {
     "cell_type": "code",
     "collapsed": false,
     "input": [
      "%matplotlib inline\n",
      "import sympy as sym\n",
      "import numpy as np\n",
      "import matplotlib.pyplot as plt\n",
      "from IPython.html.widgets import interact, fixed\n",
      "from IPython.html import widgets"
     ],
     "language": "python",
     "metadata": {},
     "outputs": [],
     "prompt_number": 45
    },
    {
     "cell_type": "code",
     "collapsed": false,
     "input": [
      "steps= 100"
     ],
     "language": "python",
     "metadata": {},
     "outputs": [],
     "prompt_number": 46
    },
    {
     "cell_type": "code",
     "collapsed": false,
     "input": [
      "def logistic_map(x,r):\n",
      "    return r*x*(1-x)\n",
      "    "
     ],
     "language": "python",
     "metadata": {},
     "outputs": [],
     "prompt_number": 47
    },
    {
     "cell_type": "code",
     "collapsed": false,
     "input": [],
     "language": "python",
     "metadata": {},
     "outputs": [],
     "prompt_number": 47
    },
    {
     "cell_type": "code",
     "collapsed": false,
     "input": [
      "def grafica_logistic_map(x,r):\n",
      "    N_1=[]\n",
      "    N=[]\n",
      "    x0=x\n",
      "    for i in range(steps):\n",
      "        x1 = logistic_map(x0,r)\n",
      "        \n",
      "        N_1.append(x1)\n",
      "        N.append(i)        \n",
      "        x0 = x1\n",
      "    plt.scatter(N,N_1)\n",
      "     "
     ],
     "language": "python",
     "metadata": {},
     "outputs": [],
     "prompt_number": 48
    },
    {
     "cell_type": "code",
     "collapsed": false,
     "input": [
      "grafica_logistic_map(0.5,1)"
     ],
     "language": "python",
     "metadata": {},
     "outputs": [
      {
       "metadata": {},
       "output_type": "display_data",
       "png": "[encoded data removed]",
       "text": [
        "<matplotlib.figure.Figure at 0x7f9c043e1c50>"
       ]
      }
     ],
     "prompt_number": 49
    },
    {
     "cell_type": "code",
     "collapsed": false,
     "input": [
      "interact(grafica_logistic_map, x = (0,1, 0.01), r = (0,4, 0.1))"
     ],
     "language": "python",
     "metadata": {},
     "outputs": [
      {
       "metadata": {},
       "output_type": "pyout",
       "prompt_number": 50,
       "text": [
        "<function __main__.grafica_logistic_map>"
       ]
      },
      {
       "metadata": {},
       "output_type": "display_data",
       "png": "[encoded data removed]",
       "text": [
        "<matplotlib.figure.Figure at 0x7f9c04864a50>"
       ]
      }
     ],
     "prompt_number": 50
    },
    {
     "cell_type": "code",
     "collapsed": false,
     "input": [
      "def diagrama_cobweb(x,r,n):\n",
      "    eje_x = np.linspace(0,10,100)\n",
      "    #plt.plot(eje_x,eje_x)\n",
      "    f_x = logistic_map(eje_x,r)\n",
      "    #plt.plot(f_x,f_x)\n",
      "    #plt.plot(eje_x,f_x)\n",
      "    x_p=[]\n",
      "    y_p=[]\n",
      " \n",
      "    for i in range(n):\n",
      "        x1 = logistic_map(x,r)\n",
      "        x_p.append(x1)\n",
      "        y_p.append(x1)\n",
      "        x_p.append(x1)\n",
      "        y_p.append(logistic_map(x1,r))\n",
      "        x=x1\n",
      "    plt.plot(x_p, y_p, c = 'b')"
     ],
     "language": "python",
     "metadata": {},
     "outputs": [],
     "prompt_number": 87
    },
    {
     "cell_type": "code",
     "collapsed": false,
     "input": [
      "diagrama_cobweb(0.35,3.1,20)"
     ],
     "language": "python",
     "metadata": {},
     "outputs": [
      {
       "metadata": {},
       "output_type": "display_data",
       "png": "[encoded data removed]",
       "text": [
        "<matplotlib.figure.Figure at 0x7f9c04576650>"
       ]
      }
     ],
     "prompt_number": 90
    },
    {
     "cell_type": "code",
     "collapsed": false,
     "input": [],
     "language": "python",
     "metadata": {},
     "outputs": [],
     "prompt_number": 58
    },
    {
     "cell_type": "code",
     "collapsed": false,
     "input": [],
     "language": "python",
     "metadata": {},
     "outputs": []
    }
   ],
   "metadata": {}
  }
 ]
}