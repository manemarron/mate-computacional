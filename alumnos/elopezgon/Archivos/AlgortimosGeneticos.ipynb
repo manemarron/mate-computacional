{
 "metadata": {
  "name": "",
  "signature": "sha256:a2e7cdd35a01cfa20381da1ed59a5283b4670d8be25fddbcdcbbeb50e605b48e"
 },
 "nbformat": 3,
 "nbformat_minor": 0,
 "worksheets": [
  {
   "cells": [
    {
     "cell_type": "code",
     "collapsed": false,
     "input": [
      "from abc import ABCMeta, abstractmethod\n",
      "\n",
      "class Cromosoma:\n",
      "    __metaclass__ = ABCMetamax\n",
      "\n",
      "    @abstractmethod\n",
      "    def say_something(self): pass\n",
      "class GA:\n",
      "    def _init_(self,tamano_poblacion,tasa_mutacion,tasa_crossover,max_generaciones,fitness,long_cromosoma):\n",
      "        self.tamano_poblacion=tamano_poblacion\n",
      "        self.tasa_mutacion = tasa_mutacion\n",
      "        self.tasa_crossover=tasa_cossover\n",
      "        self.max_generaciones = max_generaciones\n",
      "        self.fitness = fitness\n",
      "        self.poblacion = []\n",
      "        self.long_cromosoma = long_cromosoma\n",
      "        "
     ],
     "language": "python",
     "metadata": {},
     "outputs": []
    }
   ],
   "metadata": {}
  }
 ]
}