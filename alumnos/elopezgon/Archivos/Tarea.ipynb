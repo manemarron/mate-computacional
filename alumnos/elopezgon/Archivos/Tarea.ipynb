{
 "metadata": {
  "name": "",
  "signature": "sha256:7dd6a8ec79708dc87f16c2b7516561d29bac209fb8edd3db593948a8a100e851"
 },
 "nbformat": 3,
 "nbformat_minor": 0,
 "worksheets": [
  {
   "cells": [
    {
     "cell_type": "code",
     "collapsed": false,
     "input": [
      "%matplotlib inline\n",
      "import numpy as np\n",
      "import matplotlib.pyplot as plt"
     ],
     "language": "python",
     "metadata": {},
     "outputs": [],
     "prompt_number": 21
    },
    {
     "cell_type": "code",
     "collapsed": false,
     "input": [
      "v,t,cd,g= 36,4,0.25,9.8"
     ],
     "language": "python",
     "metadata": {},
     "outputs": [],
     "prompt_number": 23
    },
    {
     "cell_type": "code",
     "collapsed": false,
     "input": [],
     "language": "python",
     "metadata": {},
     "outputs": [],
     "prompt_number": 60
    },
    {
     "cell_type": "code",
     "collapsed": false,
     "input": [
      "m = np.linspace(120, 150, 256, endpoint=True)"
     ],
     "language": "python",
     "metadata": {},
     "outputs": [],
     "prompt_number": 24
    },
    {
     "cell_type": "code",
     "collapsed": false,
     "input": [
      "X= np.sqrt(g*m/cd)*np.tanh(np.sqrt(g*cd/m)*t)-v"
     ],
     "language": "python",
     "metadata": {},
     "outputs": [],
     "prompt_number": 25
    },
    {
     "cell_type": "code",
     "collapsed": false,
     "input": [
      "f = lambda m : np.sqrt(g*m/cd)*np.tanh(np.sqrt(g*cd/m)*t)-v"
     ],
     "language": "python",
     "metadata": {},
     "outputs": [],
     "prompt_number": 26
    },
    {
     "cell_type": "code",
     "collapsed": false,
     "input": [],
     "language": "python",
     "metadata": {},
     "outputs": []
    },
    {
     "cell_type": "code",
     "collapsed": false,
     "input": [
      "plt.plot(m, X, color=\"blue\", linewidth=1.0, linestyle=\"-\")"
     ],
     "language": "python",
     "metadata": {},
     "outputs": [
      {
       "metadata": {},
       "output_type": "pyout",
       "prompt_number": 44,
       "text": [
        "[<matplotlib.lines.Line2D at 0x7f36de446590>]"
       ]
      },
      {
       "metadata": {},
       "output_type": "display_data",
       "png": "[encoded data removed]",
       "text": [
        "<matplotlib.figure.Figure at 0x7f36de4ac150>"
       ]
      }
     ],
     "prompt_number": 44
    },
    {
     "cell_type": "code",
     "collapsed": false,
     "input": [
      "def biseccion(func, a, b, tolerancia, stop):\n",
      "    k = 0\n",
      "    \n",
      "    x = (a + b)/2\n",
      "    \n",
      "    I = (b - a)/2\n",
      "    \n",
      "    assert func(a)*func(b) < 0, \"El signo de la funci\u00f3n en los extremos deber\u00eda de ser diferente\"\n",
      "    assert func(a) != 0, \"La ra\u00edz es %.5f\" % a\n",
      "    assert func(b) != 0, \"La ra\u00edz es %.5f\" % b\n",
      "    \n",
      "    print \"%s\\t%12s\\t%12s\" % (\"k\",\"I(a,b)\", \"x\")\n",
      "    print \"%s\\tI(%.5f, %.5f)\\t%.5f\" % (\"0\",a, b, x)\n",
      "    \n",
      "    while I >= tolerancia and k <= stop:\n",
      "        k = k + 1\n",
      "        \n",
      "        f_x = func(x)\n",
      "        f_a = func(a)\n",
      "        f_b = func(b)        \n",
      "        \n",
      "        \n",
      "        if(f_a*f_x < 0):\n",
      "            a, b = a, x\n",
      "        elif(f_x*f_b < 0):\n",
      "            a, b = x, b\n",
      "        \n",
      "        x = (a+b)/2\n",
      "        \n",
      "        I = (b - a)/2\n",
      "        \n",
      "        print \"%d\\tI(%.5f, %.5f)\\t%.12f\" % (k,a, b, x)"
     ],
     "language": "python",
     "metadata": {},
     "outputs": [],
     "prompt_number": 63
    },
    {
     "cell_type": "code",
     "collapsed": false,
     "input": [
      "biseccion(func = f, a = 140.0, b = 150.0, tolerancia = 1e-8, stop = 100)"
     ],
     "language": "python",
     "metadata": {},
     "outputs": [
      {
       "output_type": "stream",
       "stream": "stdout",
       "text": [
        "k\t      I(a,b)\t           x\n",
        "0\tI(140.00000, 150.00000)\t145.00000\n",
        "1\tI(140.00000, 145.00000)\t142.500000000000\n",
        "2\tI(142.50000, 145.00000)\t143.750000000000\n",
        "3\tI(143.75000, 145.00000)\t144.375000000000\n",
        "4\tI(144.37500, 145.00000)\t144.687500000000\n",
        "5\tI(144.37500, 144.68750)\t144.531250000000\n",
        "6\tI(144.37500, 144.53125)\t144.453125000000\n",
        "7\tI(144.37500, 144.45312)\t144.414062500000\n",
        "8\tI(144.37500, 144.41406)\t144.394531250000\n",
        "9\tI(144.39453, 144.41406)\t144.404296875000\n",
        "10\tI(144.40430, 144.41406)\t144.409179687500\n",
        "11\tI(144.40430, 144.40918)\t144.406738281250\n",
        "12\tI(144.40430, 144.40674)\t144.405517578125\n",
        "13\tI(144.40552, 144.40674)\t144.406127929688\n",
        "14\tI(144.40613, 144.40674)\t144.406433105469\n",
        "15\tI(144.40643, 144.40674)\t144.406585693359\n",
        "16\tI(144.40659, 144.40674)\t144.406661987305\n",
        "17\tI(144.40666, 144.40674)\t144.406700134277\n",
        "18\tI(144.40666, 144.40670)\t144.406681060791\n",
        "19\tI(144.40668, 144.40670)\t144.406690597534\n",
        "20\tI(144.40669, 144.40670)\t144.406695365906\n",
        "21\tI(144.40669, 144.40670)\t144.406692981720\n",
        "22\tI(144.40669, 144.40670)\t144.406694173813\n",
        "23\tI(144.40669, 144.40669)\t144.406693577766\n",
        "24\tI(144.40669, 144.40669)\t144.406693875790\n",
        "25\tI(144.40669, 144.40669)\t144.406694024801\n",
        "26\tI(144.40669, 144.40669)\t144.406693950295\n",
        "27\tI(144.40669, 144.40669)\t144.406693987548\n",
        "28\tI(144.40669, 144.40669)\t144.406693968922\n",
        "29\tI(144.40669, 144.40669)\t144.406693959609\n"
       ]
      }
     ],
     "prompt_number": 68
    },
    {
     "cell_type": "code",
     "collapsed": false,
     "input": [
      "#################################################################################\n",
      "##  Usaremos las siguientes librer\u00edas:\n",
      "##    symbols,  # Define los s\u00edmbolos matem\u00e1ticos\n",
      "##    diff,     # Deriva expresiones\n",
      "##    integrate,# Integra expresiones\n",
      "##    Rational, # Define los n\u00fameros racionales\n",
      "##    lambdify  # Convierte las expresiones simb\u00f3licas en funciones de Python\n",
      "#################################################################################\n",
      "\n",
      "import sympy as sym\n",
      "\n",
      "# Para que se vean bonitas\n",
      "from sympy.interactive import printing\n",
      "printing.init_printing(use_latex=True)"
     ],
     "language": "python",
     "metadata": {},
     "outputs": [],
     "prompt_number": 69
    },
    {
     "cell_type": "code",
     "collapsed": false,
     "input": [
      "M = sym.Symbol('m')\n",
      "CD = sym.Symbol('cd')\n",
      "G = sym.Symbol('g')\n",
      "T = sym.Symbol('t')\n",
      "V = sym.Symbol('v')\n"
     ],
     "language": "python",
     "metadata": {},
     "outputs": [],
     "prompt_number": 113
    },
    {
     "cell_type": "code",
     "collapsed": false,
     "input": [
      "F = sym.sqrt(g*M/cd)*sym.tanh(sym.sqrt(g*cd/M)*t)-v"
     ],
     "language": "python",
     "metadata": {},
     "outputs": [],
     "prompt_number": 114
    },
    {
     "cell_type": "code",
     "collapsed": false,
     "input": [
      "df = sym.diff(F,M)\n",
      "df"
     ],
     "language": "python",
     "metadata": {},
     "outputs": [
      {
       "latex": [
        "$$- \\frac{19.6 \\sqrt{\\frac{1}{m}}}{\\sqrt{m}} \\left(- \\tanh^{2}{\\left (6.26099033699941 \\sqrt{\\frac{1}{m}} \\right )} + 1\\right) + \\frac{3.13049516849971}{\\sqrt{m}} \\tanh{\\left (6.26099033699941 \\sqrt{\\frac{1}{m}} \\right )}$$"
       ],
       "metadata": {},
       "output_type": "pyout",
       "png": "[encoded data removed]",
       "prompt_number": 115,
       "text": [
        "             \u239b       \u239b                     ___\u239e    \u239e     ___                  \n",
        "             \u239c      2\u239c                    \u2571 1 \u239f    \u239f    \u2571 1                   \n",
        "  -19.6\u22c5(-1)\u22c5\u239c- tanh \u239c6.26099033699941\u22c5  \u2571  \u2500 \u239f + 1\u239f\u22c5  \u2571  \u2500    3.1304951684997\n",
        "             \u239d       \u239d                 \u2572\u2571   m \u23a0    \u23a0 \u2572\u2571   m                   \n",
        "- \u2500\u2500\u2500\u2500\u2500\u2500\u2500\u2500\u2500\u2500\u2500\u2500\u2500\u2500\u2500\u2500\u2500\u2500\u2500\u2500\u2500\u2500\u2500\u2500\u2500\u2500\u2500\u2500\u2500\u2500\u2500\u2500\u2500\u2500\u2500\u2500\u2500\u2500\u2500\u2500\u2500\u2500\u2500\u2500\u2500\u2500\u2500\u2500\u2500\u2500\u2500\u2500\u2500\u2500\u2500\u2500\u2500\u2500 + \u2500\u2500\u2500\u2500\u2500\u2500\u2500\u2500\u2500\u2500\u2500\u2500\u2500\u2500\u2500\n",
        "                              ___                                             \n",
        "                            \u2572\u2571 m                                              \n",
        "\n",
        "      \u239b                     ___\u239e\n",
        "      \u239c                    \u2571 1 \u239f\n",
        "1\u22c5tanh\u239c6.26099033699941\u22c5  \u2571  \u2500 \u239f\n",
        "      \u239d                 \u2572\u2571   m \u23a0\n",
        "\u2500\u2500\u2500\u2500\u2500\u2500\u2500\u2500\u2500\u2500\u2500\u2500\u2500\u2500\u2500\u2500\u2500\u2500\u2500\u2500\u2500\u2500\u2500\u2500\u2500\u2500\u2500\u2500\u2500\u2500\u2500\u2500\n",
        "        ___                     \n",
        "      \u2572\u2571 m                      "
       ]
      }
     ],
     "prompt_number": 115
    },
    {
     "cell_type": "code",
     "collapsed": false,
     "input": [],
     "language": "python",
     "metadata": {},
     "outputs": [],
     "prompt_number": 118
    },
    {
     "cell_type": "code",
     "collapsed": false,
     "input": [
      "Ff = sym.sqrt(G*M/CD)*sym.tanh(sym.sqrt(G*CD/M)*T)-V\n",
      "Ff"
     ],
     "language": "python",
     "metadata": {},
     "outputs": [
      {
       "latex": [
        "$$- v + \\sqrt{\\frac{g m}{cd}} \\tanh{\\left (t \\sqrt{\\frac{cd g}{m}} \\right )}$$"
       ],
       "metadata": {},
       "output_type": "pyout",
       "png": "[encoded data removed]",
       "prompt_number": 86,
       "text": [
        "         _____     \u239b      ______\u239e\n",
        "        \u2571 g\u22c5m      \u239c     \u2571 cd\u22c5g \u239f\n",
        "-v +   \u2571  \u2500\u2500\u2500 \u22c5tanh\u239ct\u22c5  \u2571  \u2500\u2500\u2500\u2500 \u239f\n",
        "     \u2572\u2571    cd      \u239d  \u2572\u2571    m   \u23a0"
       ]
      }
     ],
     "prompt_number": 86
    },
    {
     "cell_type": "code",
     "collapsed": false,
     "input": [
      "dff = sym.diff(Ff,M)\n",
      "dff"
     ],
     "language": "python",
     "metadata": {},
     "outputs": [
      {
       "latex": [
        "$$- \\frac{t \\sqrt{\\frac{cd g}{m}}}{2 m} \\sqrt{\\frac{g m}{cd}} \\left(- \\tanh^{2}{\\left (t \\sqrt{\\frac{cd g}{m}} \\right )} + 1\\right) + \\frac{\\sqrt{\\frac{g m}{cd}}}{2 m} \\tanh{\\left (t \\sqrt{\\frac{cd g}{m}} \\right )}$$"
       ],
       "metadata": {},
       "output_type": "pyout",
       "png": "[encoded data removed]",
       "prompt_number": 88,
       "text": [
        "        _____     ______ \u239b       \u239b      ______\u239e    \u239e       _____     \u239b      __\n",
        "       \u2571 g\u22c5m     \u2571 cd\u22c5g  \u239c      2\u239c     \u2571 cd\u22c5g \u239f    \u239f      \u2571 g\u22c5m      \u239c     \u2571 c\n",
        "  t\u22c5  \u2571  \u2500\u2500\u2500 \u22c5  \u2571  \u2500\u2500\u2500\u2500 \u22c5\u239c- tanh \u239ct\u22c5  \u2571  \u2500\u2500\u2500\u2500 \u239f + 1\u239f     \u2571  \u2500\u2500\u2500 \u22c5tanh\u239ct\u22c5  \u2571  \u2500\n",
        "    \u2572\u2571    cd  \u2572\u2571    m    \u239d       \u239d  \u2572\u2571    m   \u23a0    \u23a0   \u2572\u2571    cd      \u239d  \u2572\u2571    \n",
        "- \u2500\u2500\u2500\u2500\u2500\u2500\u2500\u2500\u2500\u2500\u2500\u2500\u2500\u2500\u2500\u2500\u2500\u2500\u2500\u2500\u2500\u2500\u2500\u2500\u2500\u2500\u2500\u2500\u2500\u2500\u2500\u2500\u2500\u2500\u2500\u2500\u2500\u2500\u2500\u2500\u2500\u2500\u2500\u2500\u2500\u2500\u2500\u2500\u2500\u2500 + \u2500\u2500\u2500\u2500\u2500\u2500\u2500\u2500\u2500\u2500\u2500\u2500\u2500\u2500\u2500\u2500\u2500\u2500\u2500\u2500\u2500\u2500\u2500\n",
        "                         2\u22c5m                                       2\u22c5m        \n",
        "\n",
        "____\u239e\n",
        "d\u22c5g \u239f\n",
        "\u2500\u2500\u2500 \u239f\n",
        "m   \u23a0\n",
        "\u2500\u2500\u2500\u2500\u2500\n",
        "     "
       ]
      }
     ],
     "prompt_number": 88
    },
    {
     "cell_type": "code",
     "collapsed": false,
     "input": [
      "def newton(f, x0, tolerancia, stop):\n",
      "    assert type(f).__bases__[0]  in (sym.expr.Expr, sym.operations.AssocOp), \"La funci\u00f3n no es una expresi\u00f3n simb\u00f3lica ... :/\"\n",
      "    \n",
      "    # Derivamos la expresi\u00f3n\n",
      "    df = sym.diff(f, M)\n",
      "    \n",
      "    # Convertimos en funciones las expresiones\n",
      "    F = sym.lambdify(M,f, modules=\"numpy\")\n",
      "    DF = sym.lambdify(M, df, modules=\"numpy\")\n",
      "    \n",
      "    # Inicializamos el contador\n",
      "    k = 0\n",
      "    \n",
      "    # Inicializamos abs(x1-x0) en un n\u00famero mayor que la tolerancia\n",
      "    diff = 1\n",
      "    print \"{: >5} {: >10} {: >10} {: >10} {: >11} {: >10}\".format(\"k\", \"x0\", \"F(x0)\", \"DF(x0)\", \"abs(x1-x0)\", \"x1\")\n",
      "    \n",
      "    while diff >= tolerancia and k <= stop:\n",
      "        k = k + 1\n",
      "\n",
      "        x1 = x0 - (float(F(x0)/DF(x0)))\n",
      "        print \"{: >5} {: >10.5f} {: >10.5f} {: >10.5f} {: >10.5f} {: >11.5f}\".format(k, x0, F(x0), DF(x0), diff, x1)\n",
      "        \n",
      "        diff = abs(x1 - x0)\n",
      "        \n",
      "        x0 = x1\n",
      "        \n",
      "    if k > stop:\n",
      "        print \"El m\u00e9todo de Newton no convergi\u00f3: para la tolerancia especificada, se alcanzaron el m\u00e1ximo n\u00famero de iteraciones\"\n",
      "    \n",
      "    print \"\\n\\nLa ra\u00edz es %2.12f\" % x0"
     ],
     "language": "python",
     "metadata": {},
     "outputs": [],
     "prompt_number": 119
    },
    {
     "cell_type": "code",
     "collapsed": false,
     "input": [
      "def secante(F, x0,x2, tolerancia, stop):\n",
      "\n",
      "    # Derivamos la expresi\u00f3n\n",
      " # Convertimos en funciones las expresiones \n",
      "    # Inicializamos el contador\n",
      "    k = 0\n",
      "    \n",
      "    # Inicializamos abs(x1-x0) en un n\u00famero mayor que la tolerancia\n",
      "    diff = 1\n",
      "    print \"{: >5} {: >10} {: >10} {: >10} {: >11} {: >10}\".format(\"k\", \"x0\", \"F(x0)\", \"DF(x0)\", \"abs(x1-x0)\", \"x1\")\n",
      "    \n",
      "    while diff >= tolerancia and k <= stop:\n",
      "        k = k + 1\n",
      "        x1 = x0 - (float(F(x0)/ft(x0,x2)))\n",
      "        print \"{: >5} {: >10.5f} {: >10.5f} {: >10.5f} {: >10.5f} {: >11.5f}\".format(k, x0, F(x0), ft(x0,x2), diff, x1)\n",
      "        \n",
      "        diff = abs(x1 - x0)\n",
      "        \n",
      "        x0 = x1\n",
      "        x2=x0\n",
      "    if k > stop:\n",
      "        print \"El m\u00e9todo de Newton no convergi\u00f3: para la tolerancia especificada, se alcanzaron el m\u00e1ximo n\u00famero de iteraciones\"\n",
      "    \n",
      "    print \"\\n\\nLa ra\u00edz es %2.12f\" % x0"
     ],
     "language": "python",
     "metadata": {},
     "outputs": [],
     "prompt_number": 30
    },
    {
     "cell_type": "code",
     "collapsed": false,
     "input": [
      "ft = lambda x0,x1: (f(x0)-f(x1))/(x0-x1)"
     ],
     "language": "python",
     "metadata": {},
     "outputs": [],
     "prompt_number": 31
    },
    {
     "cell_type": "code",
     "collapsed": false,
     "input": [
      "secante(f,x0 = 70.0,x2 = 65.0,tolerancia = 1e-12,stop = 100)"
     ],
     "language": "python",
     "metadata": {},
     "outputs": [
      {
       "output_type": "stream",
       "stream": "stdout",
       "text": [
        "    k         x0      F(x0)     DF(x0)  abs(x1-x0)         x1\n",
        "    1   70.00000   -2.78106    0.07422    1.00000   107.47112\n",
        "    2  107.47112   -0.96013        nan   37.47112         nan\n",
        "\n",
        "\n",
        "La ra\u00edz es nan\n"
       ]
      }
     ],
     "prompt_number": 32
    },
    {
     "cell_type": "code",
     "collapsed": false,
     "input": [],
     "language": "python",
     "metadata": {},
     "outputs": []
    }
   ],
   "metadata": {}
  }
 ]
}