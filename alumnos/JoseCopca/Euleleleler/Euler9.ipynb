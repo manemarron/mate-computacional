{
 "metadata": {
  "name": "",
  "signature": "sha256:88328720d121063b1d116e65284c4902d97e33a318d9f14ff6e0560698150434"
 },
 "nbformat": 3,
 "nbformat_minor": 0,
 "worksheets": [
  {
   "cells": [
    {
     "cell_type": "code",
     "collapsed": false,
     "input": [
      "def pitagoras(n):\n",
      "    \"\"\"\n",
      "    Hice 3 fors para que los valores de a, b y c vayan cambiando\n",
      "    \"\"\"\n",
      "    for a in range (0, n):\n",
      "        for b in range (a, n):\n",
      "            for c in range (b, n):\n",
      "                \"\"\"\n",
      "                Con los rangos de los fors me aseguro de que a<b<c\n",
      "                \"\"\"\n",
      "                if c<(a+b) and a**2+b**2==c**2 and a+b+c==n:\n",
      "                    \"\"\"\n",
      "                    La primera condici\u00f3n del if la saqu\u00e9 de propiedad de triangulos para acotar la busqueda.\n",
      "                    La segunda y la tercera condicion hacen que los valores cumplan con lo que busco\n",
      "                    \"\"\"\n",
      "                    print (a, b, c)"
     ],
     "language": "python",
     "metadata": {},
     "outputs": [],
     "prompt_number": 1
    },
    {
     "cell_type": "code",
     "collapsed": false,
     "input": [
      "pitagoras(1000)"
     ],
     "language": "python",
     "metadata": {},
     "outputs": [
      {
       "output_type": "stream",
       "stream": "stdout",
       "text": [
        "(200, 375, 425)\n"
       ]
      }
     ],
     "prompt_number": 2
    },
    {
     "cell_type": "code",
     "collapsed": false,
     "input": [],
     "language": "python",
     "metadata": {},
     "outputs": []
    }
   ],
   "metadata": {}
  }
 ]
}