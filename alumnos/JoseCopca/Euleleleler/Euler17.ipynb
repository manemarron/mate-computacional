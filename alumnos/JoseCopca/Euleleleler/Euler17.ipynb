{
 "metadata": {
  "name": "",
  "signature": "sha256:ed1a796e1a179734bfd4419068581a990f6d80cc32daad6a81c942a94f21bb15"
 },
 "nbformat": 3,
 "nbformat_minor": 0,
 "worksheets": [
  {
   "cells": [
    {
     "cell_type": "code",
     "collapsed": false,
     "input": [
      "Decenas=['twenty', 'thirty', 'fourty', 'fifty', 'sixty', 'seventy', 'eighty', 'ninety' ]\n",
      "Unidades=['', 'one', 'two', 'three', 'four', 'five', 'six', 'seven', 'eight', 'nine']\n",
      "Diez=['ten', 'eleven', 'twelve', 'thirteen', 'fourteen', 'fifteen', 'sixteen', 'seventeen', 'eighteen', 'nineteen']"
     ],
     "language": "python",
     "metadata": {},
     "outputs": [],
     "prompt_number": 1
    },
    {
     "cell_type": "code",
     "collapsed": false,
     "input": [
      "def Suma_Numeros(num):\n",
      "    i=1\n",
      "    suma=0\n",
      "    while i<=num:\n",
      "        numero=str(i)\n",
      "        if len(numero)==1:\n",
      "            suma+=len(Unidades[i])\n",
      "        if len(numero)==2 and numero[0]=='1':\n",
      "            suma+=len(Diez[int(numero[1])])\n",
      "        if len(numero)==2 and numero[0]!='1':\n",
      "            suma+=len(Decenas[int(numero[0])-2])+len(Unidades[int(numero[1])])\n",
      "        if len(numero)==3 and numero[1]=='0' and numero[2]=='0':\n",
      "            suma+=len(Unidades[int(numero[0])])+len('hundred')\n",
      "        if len(numero)==3 and numero[1]=='0' and numero[2]!='0':\n",
      "            suma+=len(Unidades[int(numero[0])])+len('hundredand')+len(Unidades[int(numero[2])])\n",
      "        if len(numero)==3 and numero[1]=='1':\n",
      "            suma+=len(Unidades[int(numero[0])])+len('hundredand')+len(Diez[int(numero[1])])\n",
      "        if len(numero)==3 and numero[1]!='1' and numero[1]!='0'and numero[2]!='0':\n",
      "            suma+=len(Unidades[int(numero[0])])+len('hundredand')+len(Decenas[int(numero[0])-2])+len(Unidades[int(numero[1])])\n",
      "        if len(numero)==4:\n",
      "            suma+=11\n",
      "        i+=1\n",
      "    return suma\n",
      "                \n",
      "            \n",
      "        "
     ],
     "language": "python",
     "metadata": {},
     "outputs": [],
     "prompt_number": 2
    },
    {
     "cell_type": "code",
     "collapsed": false,
     "input": [
      "Suma_Numeros(1000)"
     ],
     "language": "python",
     "metadata": {},
     "outputs": [
      {
       "metadata": {},
       "output_type": "pyout",
       "prompt_number": 3,
       "text": [
        "19793"
       ]
      }
     ],
     "prompt_number": 3
    },
    {
     "cell_type": "markdown",
     "metadata": {},
     "source": [
      "Sirve para numeros menores o iguales a 1000.\n",
      "Creo que lo hice muy complicado, pero basicamente son varios casos dependiendo de el numero de cifras del numero.\n",
      "Son casos 'especiales' cuando se suman los multiplos de 100, o los que terminan en 10, 11, ..., 19."
     ]
    }
   ],
   "metadata": {}
  }
 ]
}