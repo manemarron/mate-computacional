{
 "metadata": {
  "name": "",
  "signature": "sha256:773143d58efe53e080513038990264f2628720d8265b1421c0b69fa0a11b6dc7"
 },
 "nbformat": 3,
 "nbformat_minor": 0,
 "worksheets": [
  {
   "cells": [
    {
     "cell_type": "markdown",
     "metadata": {},
     "source": [
      "Funci\u00f3n para la suma de los cuadrados"
     ]
    },
    {
     "cell_type": "code",
     "collapsed": false,
     "input": [
      "def suma_cuadrados(n):\n",
      "    suma=0\n",
      "    for i in range (0,n+1):\n",
      "        suma=suma+i**2\n",
      "    return suma"
     ],
     "language": "python",
     "metadata": {},
     "outputs": [],
     "prompt_number": 42
    },
    {
     "cell_type": "markdown",
     "metadata": {},
     "source": [
      "Funci\u00f3n para el cuadrado de las sumas"
     ]
    },
    {
     "cell_type": "code",
     "collapsed": false,
     "input": [
      "def cuadrado_suma(n):\n",
      "    suma=0\n",
      "    for i in range (0, n+1):\n",
      "        suma=suma+i\n",
      "    return suma**2"
     ],
     "language": "python",
     "metadata": {},
     "outputs": [],
     "prompt_number": 43
    },
    {
     "cell_type": "code",
     "collapsed": false,
     "input": [
      "suma_cuadrados(100)"
     ],
     "language": "python",
     "metadata": {},
     "outputs": [
      {
       "metadata": {},
       "output_type": "pyout",
       "prompt_number": 44,
       "text": [
        "338350"
       ]
      }
     ],
     "prompt_number": 44
    },
    {
     "cell_type": "code",
     "collapsed": false,
     "input": [
      "cuadrado_suma(100)"
     ],
     "language": "python",
     "metadata": {},
     "outputs": [
      {
       "metadata": {},
       "output_type": "pyout",
       "prompt_number": 45,
       "text": [
        "25502500"
       ]
      }
     ],
     "prompt_number": 45
    },
    {
     "cell_type": "markdown",
     "metadata": {},
     "source": [
      "Funci\u00f3n para restar ambos resultados"
     ]
    },
    {
     "cell_type": "code",
     "collapsed": false,
     "input": [
      "def resta(c, s):\n",
      "    print c-s"
     ],
     "language": "python",
     "metadata": {},
     "outputs": [],
     "prompt_number": 48
    },
    {
     "cell_type": "code",
     "collapsed": false,
     "input": [
      "resta(cuadrado_suma(100), suma_cuadrados(100))"
     ],
     "language": "python",
     "metadata": {},
     "outputs": [
      {
       "output_type": "stream",
       "stream": "stdout",
       "text": [
        "25164150\n"
       ]
      }
     ],
     "prompt_number": 49
    },
    {
     "cell_type": "code",
     "collapsed": false,
     "input": [],
     "language": "python",
     "metadata": {},
     "outputs": []
    }
   ],
   "metadata": {}
  }
 ]
}