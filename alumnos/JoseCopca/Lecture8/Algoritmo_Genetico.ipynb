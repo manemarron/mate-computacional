{
 "metadata": {
  "name": "",
  "signature": "sha256:33f46d7319329d76c0285980d7463c6f7f23e80c76d127f10adc37e870e356ed"
 },
 "nbformat": 3,
 "nbformat_minor": 0,
 "worksheets": [
  {
   "cells": [
    {
     "cell_type": "code",
     "collapsed": false,
     "input": [
      "from abc import ABCMeta, abstractmethod\n",
      "import numpy as np\n",
      "from random import randint\n",
      "import math as mat"
     ],
     "language": "python",
     "metadata": {},
     "outputs": [],
     "prompt_number": 1
    },
    {
     "cell_type": "code",
     "collapsed": false,
     "input": [
      "cromosoma1 = '11011001001101101'"
     ],
     "language": "python",
     "metadata": {},
     "outputs": [],
     "prompt_number": 2
    },
    {
     "cell_type": "code",
     "collapsed": false,
     "input": [
      "cromosoma2 = '11110000000000001'"
     ],
     "language": "python",
     "metadata": {},
     "outputs": [],
     "prompt_number": 3
    },
    {
     "cell_type": "code",
     "collapsed": false,
     "input": [
      "print cromosoma1\n",
      "print cromosoma2"
     ],
     "language": "python",
     "metadata": {},
     "outputs": [
      {
       "output_type": "stream",
       "stream": "stdout",
       "text": [
        "11011001001101101\n",
        "11110000000000001\n"
       ]
      }
     ],
     "prompt_number": 4
    },
    {
     "cell_type": "code",
     "collapsed": false,
     "input": [
      "class GA:\n",
      "    def __init__(self, tamano_poblacion, tasa_mutacion, tasa_crossover, max_generaciones, fitness):\n",
      "        self.tamano_poblacion=tamano_poblacion\n",
      "        self.tasa_mutacion=tasa_mutacion\n",
      "        self.tasa_crossover=tasa_crossover\n",
      "        self.max_generaciones=max_generaciones\n",
      "        self.fitness=fitness\n",
      "        self.poblacion=[]\n",
      "        self.generacion=0\n",
      "        self.mejor_solucion_historica=None\n",
      "        self.mejor_solucion_actual=None\n",
      "        self.longitud_cromosomas=10\n",
      "    \n",
      "    def poblar(self):\n",
      "        for i in xrange(0, self.tamano_poblacion):\n",
      "            nuevo=BitCromosoma(self.longitud_cromosomas)\n",
      "            print nuevo\n",
      "            self.poblacion.append(nuevo)\n",
      "    def seleccionar(self):\n",
      "        lista_fitness=np.zeros([self.tamano_poblacion])\n",
      "        suma_fitness=0\n",
      "        for i in xrange(0, self.tamano_poblacion):\n",
      "            lista_fitness[i]=self.poblacion[i].fitness()\n",
      "            suma_fitness+=self.fitness(self.poblacion[i])\n",
      "        return lista_fitness\n",
      "    def __str__(self):\n",
      "        print 'La poblacion es: '\n",
      "        for i in xrange(0, self.tamano_poblacion):\n",
      "            print self.poblacion[i]\n",
      "        print 'La mejor solucion historica:', self.mejor_solucion_historica\n",
      "        print 'La mejor solucion actual:', self.mejor_solucion_actual\n",
      "        print 'Generacion numero:', self.generacion"
     ],
     "language": "python",
     "metadata": {},
     "outputs": [],
     "prompt_number": 33
    },
    {
     "cell_type": "code",
     "collapsed": false,
     "input": [
      "class Cromosoma:\n",
      "    __metaclass__=ABCMeta\n",
      "    "
     ],
     "language": "python",
     "metadata": {},
     "outputs": [],
     "prompt_number": 34
    },
    {
     "cell_type": "code",
     "collapsed": false,
     "input": [
      "class BitCromosoma(Cromosoma):\n",
      "    def __init__(self, longitud, cadena=None):\n",
      "        self.longitud=longitud\n",
      "        if cadena==None:\n",
      "            self.cadena=self.generaBinario(longitud)\n",
      "        else:\n",
      "            self.cadena=cadena\n",
      "        self.fitness=randint(0,9)\n",
      "    def generaBinario(self, lon):\n",
      "        cad=''\n",
      "        for i in xrange(0, lon, 1):\n",
      "            num=randint(0,1)\n",
      "            cad+=str(num)\n",
      "        return cad\n",
      "    \n",
      "    def __str__(self):\n",
      "        return self.cadena\n",
      "    def saca_fitness(self):\n",
      "        x=int(cadena,2)\n",
      "        return x**2"
     ],
     "language": "python",
     "metadata": {},
     "outputs": [],
     "prompt_number": 35
    },
    {
     "cell_type": "code",
     "collapsed": false,
     "input": [
      "prueba=GA(5, 0, 0, 0, 0)"
     ],
     "language": "python",
     "metadata": {},
     "outputs": [],
     "prompt_number": 36
    },
    {
     "cell_type": "code",
     "collapsed": false,
     "input": [
      "prueba.poblar()"
     ],
     "language": "python",
     "metadata": {},
     "outputs": [
      {
       "output_type": "stream",
       "stream": "stdout",
       "text": [
        "0100101011\n",
        "0100111001\n",
        "0000101100\n",
        "0011101001\n",
        "1100001010\n"
       ]
      }
     ],
     "prompt_number": 37
    },
    {
     "cell_type": "code",
     "collapsed": false,
     "input": [
      "prueba.seleccionar()"
     ],
     "language": "python",
     "metadata": {},
     "outputs": [
      {
       "ename": "TypeError",
       "evalue": "'int' object is not callable",
       "output_type": "pyerr",
       "traceback": [
        "\u001b[1;31m---------------------------------------------------------------------------\u001b[0m\n\u001b[1;31mTypeError\u001b[0m                                 Traceback (most recent call last)",
        "\u001b[1;32m<ipython-input-38-4a0a48806534>\u001b[0m in \u001b[0;36m<module>\u001b[1;34m()\u001b[0m\n\u001b[1;32m----> 1\u001b[1;33m \u001b[0mprueba\u001b[0m\u001b[1;33m.\u001b[0m\u001b[0mseleccionar\u001b[0m\u001b[1;33m(\u001b[0m\u001b[1;33m)\u001b[0m\u001b[1;33m\u001b[0m\u001b[0m\n\u001b[0m",
        "\u001b[1;32m<ipython-input-33-73186314897b>\u001b[0m in \u001b[0;36mseleccionar\u001b[1;34m(self)\u001b[0m\n\u001b[0;32m     21\u001b[0m         \u001b[0msuma_fitness\u001b[0m\u001b[1;33m=\u001b[0m\u001b[1;36m0\u001b[0m\u001b[1;33m\u001b[0m\u001b[0m\n\u001b[0;32m     22\u001b[0m         \u001b[1;32mfor\u001b[0m \u001b[0mi\u001b[0m \u001b[1;32min\u001b[0m \u001b[0mxrange\u001b[0m\u001b[1;33m(\u001b[0m\u001b[1;36m0\u001b[0m\u001b[1;33m,\u001b[0m \u001b[0mself\u001b[0m\u001b[1;33m.\u001b[0m\u001b[0mtamano_poblacion\u001b[0m\u001b[1;33m)\u001b[0m\u001b[1;33m:\u001b[0m\u001b[1;33m\u001b[0m\u001b[0m\n\u001b[1;32m---> 23\u001b[1;33m             \u001b[0mlista_fitness\u001b[0m\u001b[1;33m[\u001b[0m\u001b[0mi\u001b[0m\u001b[1;33m]\u001b[0m\u001b[1;33m=\u001b[0m\u001b[0mself\u001b[0m\u001b[1;33m.\u001b[0m\u001b[0mpoblacion\u001b[0m\u001b[1;33m[\u001b[0m\u001b[0mi\u001b[0m\u001b[1;33m]\u001b[0m\u001b[1;33m.\u001b[0m\u001b[0mfitness\u001b[0m\u001b[1;33m(\u001b[0m\u001b[1;33m)\u001b[0m\u001b[1;33m\u001b[0m\u001b[0m\n\u001b[0m\u001b[0;32m     24\u001b[0m             \u001b[0msuma_fitness\u001b[0m\u001b[1;33m+=\u001b[0m\u001b[0mself\u001b[0m\u001b[1;33m.\u001b[0m\u001b[0mfitness\u001b[0m\u001b[1;33m(\u001b[0m\u001b[0mself\u001b[0m\u001b[1;33m.\u001b[0m\u001b[0mpoblacion\u001b[0m\u001b[1;33m[\u001b[0m\u001b[0mi\u001b[0m\u001b[1;33m]\u001b[0m\u001b[1;33m)\u001b[0m\u001b[1;33m\u001b[0m\u001b[0m\n\u001b[0;32m     25\u001b[0m         \u001b[1;32mreturn\u001b[0m \u001b[0mlista_fitness\u001b[0m\u001b[1;33m\u001b[0m\u001b[0m\n",
        "\u001b[1;31mTypeError\u001b[0m: 'int' object is not callable"
       ]
      }
     ],
     "prompt_number": 38
    },
    {
     "cell_type": "markdown",
     "metadata": {},
     "source": [
      "Tengo problemas con llamar la funcion fitness para numeros en codigo binario."
     ]
    },
    {
     "cell_type": "code",
     "collapsed": false,
     "input": [],
     "language": "python",
     "metadata": {},
     "outputs": []
    }
   ],
   "metadata": {}
  }
 ]
}