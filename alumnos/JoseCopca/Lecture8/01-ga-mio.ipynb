{
 "cells": [
  {
   "cell_type": "markdown",
   "metadata": {},
   "source": [
    "# Algoritmos Genéticos"
   ]
  },
  {
   "cell_type": "markdown",
   "metadata": {},
   "source": [
    "## Un poco de biología"
   ]
  },
  {
   "cell_type": "markdown",
   "metadata": {},
   "source": [
    "Podemos concebir que cada organismo, tiene, un conjunto de reglas que indican como formarlo a partir de componentes básicos. Estas reglas están codificadas en los **genes** del organismo, los cuales están conectados en **cromosomas**. Cada **gen** representa un rasgo del organismo (su color de pelo, por ejemplo) (Esto es una sobresimplificación) y tiene diferentes posibles valores (**alelos**). Los genes y sus valores se conocen como **genotipo** y la expresión del genotipo (el organismo) se llama **fenotipo**."
   ]
  },
  {
   "cell_type": "markdown",
   "metadata": {},
   "source": [
    "Al conjunto completo de material genético se le conoce como **genoma**."
   ]
  },
  {
   "cell_type": "markdown",
   "metadata": {},
   "source": [
    "Cuando los organismos se aparean comparten sus genes. El nuevo organismo que surge de esta cruza tendra la mitad de genes de cada organismo (**heredó** de sus padres), a este proceso se le denomina **recombinación** (también llamado **crossover**). Muy raras veces un gen **muta**."
   ]
  },
  {
   "cell_type": "markdown",
   "metadata": {},
   "source": [
    "A partir de aquí el organismo (**fenotipo**) interactúa con el mundo y si es _apto_ (**selección natural**), se reproducirá, pasando sus genes (la mitad) a su descendencia. "
   ]
  },
  {
   "cell_type": "markdown",
   "metadata": {},
   "source": [
    "Este proceso tan simple puede generar una gran variabilidad en las **poblaciones** e irlas _optimizando_ respecto a su medio ambiente."
   ]
  },
  {
   "cell_type": "markdown",
   "metadata": {},
   "source": [
    "## Un poco de computación"
   ]
  },
  {
   "cell_type": "markdown",
   "metadata": {},
   "source": [
    "Viéndolo de cierta manera, la naturaleza (perdón por patetizar, esto es sólo una manera de hablar coloquial) está _resolviendo_ problemas de optimización: ¿Cuál es el fenotipo que mejor posibilidades de sobrevivir y reproducirse? y esto se puede abstraer a ¿Cuál es la solución a este problema en particular?"
   ]
  },
  {
   "cell_type": "markdown",
   "metadata": {},
   "source": [
    "Podemos afinar lo dicho y decir que la naturaleza _busca_ soluciones que _optimicen_ o resuelvan el problema. Si implementamos (o simulamos) este \"algoritmo\" tenemos lo que se conoce como **algoritmo genético**."
   ]
  },
  {
   "cell_type": "markdown",
   "metadata": {},
   "source": [
    "En el **algoritmo genético**, cada fenotipo es una posible realización de una solución. El espacio de todas las posibles soluciones es el **espacio de búsqueda** y cada punto es una posible solución. A esta solución usando una función de _fitness_ se le puede asignar un valor. "
   ]
  },
  {
   "cell_type": "markdown",
   "metadata": {},
   "source": [
    "Buscar la solución en este espacio es equivalente a buscar un valor extremal en el espacio de búsqueda."
   ]
  },
  {
   "cell_type": "markdown",
   "metadata": {},
   "source": [
    "El **algoritmo genético** queda definido como una búsqueda heurística que intenta inspirarse en los procesos de la selección natural: \n",
    "\n",
    "1. Herencia\n",
    "2. Mutación\n",
    "3. Crossover\n",
    "4. Selección"
   ]
  },
  {
   "cell_type": "markdown",
   "metadata": {},
   "source": [
    "Los **algoritmos genéticos** son parte del campo de estudio de la [**computación evolutiva**](http://en.wikipedia.org/wiki/Evolutionary_computation) y fueron desarrollados por **John Holland**, en 1975."
   ]
  },
  {
   "cell_type": "markdown",
   "metadata": {},
   "source": [
    "## Algoritmo básico"
   ]
  },
  {
   "cell_type": "markdown",
   "metadata": {},
   "source": [
    "1. Generar una población de `n` cromosomas (posibles soluciones al problema)\n",
    "2. Evaluar con la función `fitness` a cada cromosoma `x` de la población.\n",
    "3. Crear una nueva población repitiendo los pasos siguientes hasta que haya una nueva población:\n",
    "\n",
    "    a. Seleccionar dos cromosomas de la población de acuerdo a su valor asignado con `fitness`.\n",
    "    \n",
    "    b. Aplicar un `crossover` al par de cromosomas para formar un nuevo cromosoma.\n",
    "    \n",
    "    c. Ver si se aplica una mutación a un gen.\n",
    "    \n",
    "    d. Agregar el nuevo cromosoma a la nueva población.\n",
    "    \n",
    "    \n",
    "4. Reemplazar la población con la nueva población generada.\n",
    "5. Si se se satisface una condición de alto, terminar y regresar la mejor solución de la población actual.\n",
    "6. Si no, regresar al paso 2."
   ]
  },
  {
   "cell_type": "markdown",
   "metadata": {},
   "source": [
    "### Lo difícil..."
   ]
  },
  {
   "cell_type": "markdown",
   "metadata": {},
   "source": [
    "Básicamente hay dos cosas difíciles ¿Cómo hago un cromosoma?¿Cómo hago mi función de `fitness`? Ambas dependerán del problema que se quiera resolver."
   ]
  },
  {
   "cell_type": "markdown",
   "metadata": {},
   "source": [
    "## Operadores Genéticos"
   ]
  },
  {
   "cell_type": "markdown",
   "metadata": {},
   "source": [
    "### Codificando el cromosoma"
   ]
  },
  {
   "cell_type": "markdown",
   "metadata": {},
   "source": [
    "La opción más popular es usar una cadena de texto binaria:"
   ]
  },
  {
   "cell_type": "code",
   "execution_count": 10,
   "metadata": {
    "collapsed": false
   },
   "outputs": [],
   "source": [
    "cromosoma1 = '11011001001101101'"
   ]
  },
  {
   "cell_type": "code",
   "execution_count": 11,
   "metadata": {
    "collapsed": false
   },
   "outputs": [],
   "source": [
    "cromosoma2 = '11110000000000001'\n"
   ]
  },
  {
   "cell_type": "code",
   "execution_count": 12,
   "metadata": {
    "collapsed": false
   },
   "outputs": [
    {
     "name": "stdout",
     "output_type": "stream",
     "text": [
      "11011001001101101\n",
      "11110000000000001\n"
     ]
    }
   ],
   "source": [
    "print cromosoma1\n",
    "print cromosoma2"
   ]
  },
  {
   "cell_type": "markdown",
   "metadata": {},
   "source": [
    "Cada `bit` representa una característica de la solución, o puede representar un número, o un conjunto de bits contíguos representa un alelo, etc."
   ]
  },
  {
   "cell_type": "markdown",
   "metadata": {},
   "source": [
    "Obviamente otras representaciones son posibles como usar números enteros en lugar de bits (para el problema del viajero o [**TSP**](http://en.wikipedia.org/wiki/Travelling_salesman_problem), cada numero representa una ciudad y el algoritmo permuta."
   ]
  },
  {
   "cell_type": "markdown",
   "metadata": {},
   "source": [
    "<div class=\"alert alert-info\">\n",
    "**Ejercicio** Crea una clase  llamada `GA`, en este momento vacía. Y también genera una [clase abstracta](http://zaiste.net/2013/01/abstract_classes_in_python/) llamada `Cromosoma`. \n",
    "</div>"
   ]
  },
  {
   "cell_type": "markdown",
   "metadata": {},
   "source": [
    "<div class=\"alert alert-info\">\n",
    "**Ejercicio** Crea una clase que herede de `Cromosoma`, llamada `BitCromosoma`, la cual representa un cromosoma codificado de forma binaria. El constructor de esta clase recibe una longitud y opcionalmente una cadena, si  no está presente genera una cadena al azar de la longitud establecida.\n",
    "</div>"
   ]
  },
  {
   "cell_type": "code",
   "execution_count": 3,
   "metadata": {
    "collapsed": false
   },
   "outputs": [],
   "source": [
    "# Escribe aquí la clase GA"
   ]
  },
  {
   "cell_type": "code",
   "execution_count": 14,
   "metadata": {
    "collapsed": false
   },
   "outputs": [],
   "source": [
    "# Escribe aquí la clase abstracta Cromosoma"
   ]
  },
  {
   "cell_type": "code",
   "execution_count": 15,
   "metadata": {
    "collapsed": false
   },
   "outputs": [],
   "source": [
    "# Escribe aquí la clase BitCromosoma"
   ]
  },
  {
   "cell_type": "markdown",
   "metadata": {},
   "source": [
    "### El algoritmo"
   ]
  },
  {
   "cell_type": "markdown",
   "metadata": {},
   "source": [
    "<div class=\"alert alert-info\">\n",
    "**Ejercicio** Regresa a la clase `GA`, crea un constructor que reciba como parámetros: `tamaño_poblacion`, `tasa_mutacion` `tasa_crossover`, `max_generaciones` y `fitness`. En el constructor inicializa además la variable `poblacion`, `generacion`, `mejor_solucion_historica`, `mejor_solucion_actual`.\n",
    "</div>"
   ]
  },
  {
   "cell_type": "markdown",
   "metadata": {},
   "source": [
    "<div class=\"alert alert-info\">\n",
    "**Ejercicio** Agrega un método `poblar` que cree una población de `BitCromosomas` y las guarde en la variable `poblacion`.\n",
    "</div>"
   ]
  },
  {
   "cell_type": "markdown",
   "metadata": {},
   "source": [
    "<div class=\"alert alert-warning\">\n",
    "Sé que te preguntarás por qué se ve tan feo esto último, una posible solución está en usar [**patrones de diseño**](http://en.wikipedia.org/wiki/Software_design_pattern) y en particular el patrón de diseño  [`Factory`](http://python-3-patterns-idioms-test.readthedocs.org/en/latest/Factory.html). Más info [aquí](http://www.aleax.it/gdd_pydp.pdf)."
   ]
  },
  {
   "cell_type": "markdown",
   "metadata": {},
   "source": [
    "<div class=\"alert alert-info\">\n",
    "**Ejercicio** Agrega un método `__str__` que imprima la población actual, la mejor solución histórica, la mejor solución de la generación actual y el número de generación.\n",
    "</div>"
   ]
  },
  {
   "cell_type": "markdown",
   "metadata": {},
   "source": [
    "<div class=\"alert alert-info\">\n",
    "**Ejercicio** Agrega un método `run` y codifica los pasos de la sección **Algoritmo básico**. Este método debe de guardar separadas por comas el número de la generación, el fitness promedio de la población, la mejor solución actual y la mejor solución historica.\n",
    "</div>"
   ]
  },
  {
   "cell_type": "markdown",
   "metadata": {},
   "source": [
    "<div class=\"alert alert-info\">\n",
    "**Ejercicio** Agrega un método `plot` que despliegue como el fitness evoluciona con las generaciones.\n",
    "</div></div>"
   ]
  },
  {
   "cell_type": "markdown",
   "metadata": {},
   "source": [
    "### Selección"
   ]
  },
  {
   "cell_type": "markdown",
   "metadata": {},
   "source": [
    "Según la teoría de Darwin, los mejores sobreviven y se reproducen, pasando sus genes a la siguiente generación. Hay muchas maneras de seleccionar los mejores cromosomas para reproducirse. Un método muy usado es **selección de ruleta de la fortuna**."
   ]
  },
  {
   "cell_type": "markdown",
   "metadata": {},
   "source": [
    "Para explicarla, imagina una ruleta y divídela en `n` secciones donde cada sección tiene un área proporcional al `fitness` del cromosoma."
   ]
  },
  {
   "cell_type": "markdown",
   "metadata": {},
   "source": [
    "Si eliges al azar de la ruleta, los cromosomas con mejor `fitness` serán elegidos más veces."
   ]
  },
  {
   "cell_type": "markdown",
   "metadata": {},
   "source": [
    "El algoritmo es:\n",
    "\n",
    "1. Calcula la suma de todos los `fitness` de todos los cromosomas de la población, llama a esa suma `fitness_poblacion`. Normaliza el `fitness`.\n",
    "2. Ordena descendentemente.\n",
    "3. Genera un número al azar en el intervalo $(0, $ `fitness_poblacion`$)$.\n",
    "4. Recorre la población sumando los `fitness`, cuando la suma sea mayor que el número generado al azar, regresas el cromosoma donde estás.\n",
    "5. Regresa al punto 3 hasta tener todos los pares para producir la siguiente generación."
   ]
  },
  {
   "cell_type": "markdown",
   "metadata": {},
   "source": [
    "<div class=\"alert alert-info\">\n",
    "**Ejercicio** Agrega un método a `seleccionar` a `GA` que implemente el algoritmo recién discutido.\n",
    "</div>"
   ]
  },
  {
   "cell_type": "markdown",
   "metadata": {},
   "source": [
    "<div class=\"alert alert-info\">\n",
    "**Ejercicio** Una mejora sustancial al algoritmo es llamado `elistismo`. En esta modalidad, el algoritmo **copia** a la nueva generación al mejor (o mejores) cromosomas. ¿Por qué crees que sea bueno esto? \n",
    "</div>"
   ]
  },
  {
   "cell_type": "markdown",
   "metadata": {},
   "source": [
    "<div class=\"alert alert-info\">\n",
    "**Ejercicio** Agrega al constructor un parámetro `num_elites`, si es mayor que cero, antes de la selección tradicional, copias los `num_elites` mejores a la siguiente generación.\n",
    "</div>"
   ]
  },
  {
   "cell_type": "markdown",
   "metadata": {},
   "source": [
    "### Crossover"
   ]
  },
  {
   "cell_type": "markdown",
   "metadata": {},
   "source": [
    "Esta operación selecciona genes de los padres para generar un nuevo par de cromosomas. La manera más fácil de hacerlo es elegir al hacer un punto donde hacer el cruce de la cadena, dividirla e intercambiarla."
   ]
  },
  {
   "cell_type": "markdown",
   "metadata": {},
   "source": [
    "`crossover_point = random.choice(#Posibles posiciones del cromosoma)`"
   ]
  },
  {
   "cell_type": "markdown",
   "metadata": {},
   "source": [
    "`hijo1 = cromosoma1[#usa slicing] + cromosoma2[...]`"
   ]
  },
  {
   "cell_type": "markdown",
   "metadata": {},
   "source": [
    "`hijo2 = # Lo mismo, pero al revés`"
   ]
  },
  {
   "cell_type": "markdown",
   "metadata": {},
   "source": [
    "<div class=\"alert alert-info\">\n",
    "**Ejercicio** Crea un método `crossover` que reciba dos `cromosomas` y devuelva dos cromosomas. ¿Dónde debe de ir este método?\n",
    "</div>"
   ]
  },
  {
   "cell_type": "markdown",
   "metadata": {},
   "source": [
    "<div class=\"alert alert-info\">\n",
    "**Ejercicio** Crea un método abstracto `split` que reciba el `crossover_point` y devuelva partido el `cromosoma`. ¿Dónde debe de ir este método? Modifica `crossover` para que utilice el método `split`.\n",
    "</div>"
   ]
  },
  {
   "cell_type": "markdown",
   "metadata": {},
   "source": [
    "<div class=\"alert alert-info\">\n",
    "**Ejercicio** Implementa el método `split` en `BitCromosoma`.\n",
    "</div>"
   ]
  },
  {
   "cell_type": "markdown",
   "metadata": {},
   "source": [
    "Es posible pensar en otras manera de hacer el _crossover_, como por ejemplo, varios puntos de cruce."
   ]
  },
  {
   "cell_type": "markdown",
   "metadata": {},
   "source": [
    "### Mutación"
   ]
  },
  {
   "cell_type": "markdown",
   "metadata": {},
   "source": [
    "La mutación pretende sacar a la población de un extremal local. La mutación cambia al azar, en la codificación binaria, un ( varios) bit elegido(s) al azar. Si un cromosoma muta o no, depende de una probabilidad que regularmente es pequeña."
   ]
  },
  {
   "cell_type": "markdown",
   "metadata": {},
   "source": [
    "<div class=\"alert alert-info\">\n",
    "**Ejercicio** Agrega un método abstracto `mutar` a `Cromosoma`.\n",
    "</div>"
   ]
  },
  {
   "cell_type": "markdown",
   "metadata": {},
   "source": [
    "<div class=\"alert alert-info\">\n",
    "**Ejercicio**  Agrega al constructor de `BitCromosoma` un parámetro de `tasa_mutación`. Implementa el método `mutar` en `BitCromosoma` implementando lo discutido.\n",
    "</div>"
   ]
  },
  {
   "cell_type": "markdown",
   "metadata": {},
   "source": [
    "## Tarea"
   ]
  },
  {
   "cell_type": "markdown",
   "metadata": {},
   "source": [
    "<div class=\"alert alert-info\">\n",
    "**Ejercicio** Ejecuta un algoritmo genético, que trate de generar una cadena de longitud `8`,  $solucion \\equiv$ `11001100`. ¿Cuántas generaciones tardó? Muestra el avance cada `10` generaciones.\n",
    "</div>"
   ]
  },
  {
   "cell_type": "markdown",
   "metadata": {},
   "source": [
    "<div class=\"alert alert-info\">\n",
    "**Ejercicio** Ejecuta un algoritmo genético, que trate de generar una matriz de `12` $\\times$ `12` que tenga una cruz enmedio (como la bandera de Suiza). ¿Cuántas generaciones tardó? Muestra el avance cada `20` generaciones.\n",
    "</div>"
   ]
  },
  {
   "cell_type": "markdown",
   "metadata": {},
   "source": [
    "<div class=\"alert alert-info\">\n",
    "**Ejercicio** Ejecuta un algoritmo genético, que encuentre el mínimo de $f(x) = x^2 + 2$.\n",
    "</div>"
   ]
  }
 ],
 "metadata": {
  "kernelspec": {
   "display_name": "Python 2",
   "language": "python",
   "name": "python2"
  },
  "language_info": {
   "codemirror_mode": {
    "name": "ipython",
    "version": 2
   },
   "file_extension": ".py",
   "mimetype": "text/x-python",
   "name": "python",
   "nbconvert_exporter": "python",
   "pygments_lexer": "ipython2",
   "version": "2.7.8"
  }
 },
 "nbformat": 4,
 "nbformat_minor": 0
}
