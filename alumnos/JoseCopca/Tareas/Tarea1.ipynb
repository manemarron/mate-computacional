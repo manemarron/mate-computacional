{
 "metadata": {
  "name": "",
  "signature": "sha256:2276c7a9a11d4ec956e1e5b1f1147e19c67042918da524fe0a8d1bb2547b2cdf"
 },
 "nbformat": 3,
 "nbformat_minor": 0,
 "worksheets": [
  {
   "cells": [
    {
     "cell_type": "code",
     "collapsed": false,
     "input": [
      "\n",
      "def Suma(n):\n",
      "    Mult=[x for x in range (n) if x%3==0 or x%5==0 ]\n",
      "    suma = 0\n",
      "    for x in Mult:\n",
      "        suma= suma+x\n",
      "    \"\"\"\n",
      "    La primera lista muestra los n\u00fameros del 1 a n que sean m\u00faltiplos de 3 o 5\n",
      "    El for hace una suma de los n\u00fameros de la lista\n",
      "    \"\"\"\n",
      "    print suma"
     ],
     "language": "python",
     "metadata": {},
     "outputs": [],
     "prompt_number": 1
    },
    {
     "cell_type": "code",
     "collapsed": false,
     "input": [
      "Suma(1000)"
     ],
     "language": "python",
     "metadata": {},
     "outputs": [
      {
       "output_type": "stream",
       "stream": "stdout",
       "text": [
        "233168\n"
       ]
      }
     ],
     "prompt_number": 2
    },
    {
     "cell_type": "code",
     "collapsed": false,
     "input": [
      "a=0\n",
      "b=1\n",
      "fibo=0\n",
      "suma=0\n",
      "while(fibo<4000000):\n",
      "    fibo=a+b\n",
      "    a=b\n",
      "    b=fibo\n",
      "    \"\"\"\n",
      "    Lo que hace hasta aqui es definir los t\u00e9rminos de la serie\n",
      "    \"\"\"    \n",
      "    if fibo>4000000:\n",
      "        print 'Se acab\u00f3'\n",
      "        \"\"\"\n",
      "        Tuve que poner este if porque no encontr\u00e9 c\u00f3mo hacer un do while y contaba un t\u00e9rmino mas grande que cuatro millones\n",
      "        \"\"\"\n",
      "    else:\n",
      "        if fibo%2==0:\n",
      "            suma=suma+fibo\n",
      "            \"\"\"\n",
      "            Aqui hace la suma con una variable \u00b4suma\u00b4\n",
      "            \"\"\"\n",
      "print suma\n",
      "    "
     ],
     "language": "python",
     "metadata": {},
     "outputs": [
      {
       "output_type": "stream",
       "stream": "stdout",
       "text": [
        "Se acab\u00f3\n",
        "4613732\n"
       ]
      }
     ],
     "prompt_number": 3
    },
    {
     "cell_type": "code",
     "collapsed": false,
     "input": [
      "from math import sqrt\n",
      "def Primo(n):\n",
      "    r=True\n",
      "    i=2\n",
      "    while(i<=sqrt(n)):\n",
      "        if n%i==0:\n",
      "            r=False\n",
      "        i=1+i\n",
      "    return r"
     ],
     "language": "python",
     "metadata": {},
     "outputs": [],
     "prompt_number": 4
    },
    {
     "cell_type": "code",
     "collapsed": false,
     "input": [
      "def MayorFactor(n):\n",
      "    if Primo(n):\n",
      "        div=n\n",
      "    else:\n",
      "        div=int(n/2)\n",
      "        encontrado=False\n",
      "        while encontrado==False and div>=2:\n",
      "            if Primo(div) and n%div==0:\n",
      "                encontrado=True\n",
      "            else:\n",
      "                div= div-1\n",
      "                \"\"\"\n",
      "                Lo que hace todo esto es buscar de modo descendiente los numeros que sean primos y que, al dividir n\n",
      "                entre ese numero, el resultado sea un numero primo. El primer numero en cumplir eso sera el maximo factor primo\n",
      "                \"\"\"\n",
      "                \n",
      "    return div\n",
      "                    "
     ],
     "language": "python",
     "metadata": {},
     "outputs": [],
     "prompt_number": 5
    },
    {
     "cell_type": "code",
     "collapsed": false,
     "input": [
      "MayorFactor(600851475143)"
     ],
     "language": "python",
     "metadata": {},
     "outputs": []
    },
    {
     "cell_type": "code",
     "collapsed": false,
     "input": [],
     "language": "python",
     "metadata": {},
     "outputs": []
    },
    {
     "cell_type": "code",
     "collapsed": false,
     "input": [],
     "language": "python",
     "metadata": {},
     "outputs": []
    }
   ],
   "metadata": {}
  }
 ]
}