{
 "metadata": {
  "name": "",
  "signature": "sha256:67a649e5facc399d08f8e28fd80c4a0fa1d5d0f1a98a56f755e57b234d878903"
 },
 "nbformat": 3,
 "nbformat_minor": 0,
 "worksheets": [
  {
   "cells": [
    {
     "cell_type": "markdown",
     "metadata": {},
     "source": [
      "Reescribo el archivo transformaciones.py con las dos funciones de coordenadas."
     ]
    },
    {
     "cell_type": "code",
     "collapsed": false,
     "input": [
      "%%file transformaciones.py \n",
      "from math import *\n",
      "def cartesianas_a_esfericas(x, y, z):\n",
      "    r= sqrt(x^2 + y^2 + z^2)\n",
      "    theta= atan(y/x)\n",
      "    phi  = atan((sqrt(x^2 + y^2))/z)\n",
      "    return  r, theta, phi\n",
      "def esfericas_a_cartesianas(r, theta, phi):\n",
      "    x=r*sin(phi)*cos(theta)\n",
      "    y=r*sin(phi)*sin(theta)\n",
      "    z=r*cos(theta)\n",
      "    return x, y, z"
     ],
     "language": "python",
     "metadata": {},
     "outputs": [
      {
       "output_type": "stream",
       "stream": "stdout",
       "text": [
        "Overwriting transformaciones.py\n"
       ]
      }
     ],
     "prompt_number": 44
    },
    {
     "cell_type": "markdown",
     "metadata": {},
     "source": [
      "Uso la funci\u00f3n de cat para verificar que ambas funciones esten ahi."
     ]
    },
    {
     "cell_type": "code",
     "collapsed": false,
     "input": [
      "!cat transformaciones.py"
     ],
     "language": "python",
     "metadata": {},
     "outputs": [
      {
       "output_type": "stream",
       "stream": "stdout",
       "text": [
        "from math import *\r\n",
        "def cartesianas_a_esfericas(x, y, z):\r\n",
        "    r= sqrt(x^2 + y^2 + z^2)\r\n",
        "    theta= atan(y/x)\r\n",
        "    phi  = atan((sqrt(x^2 + y^2))/z)\r\n",
        "    return  r, theta, phi\r\n",
        "def esfericas_a_cartesianas(r, theta, phi):\r\n",
        "    x=r*sin(phi)*cos(theta)\r\n",
        "    y=r*sin(phi)*sin(theta)\r\n",
        "    z=r*cos(theta)\r\n",
        "    return x, y, z"
       ]
      }
     ],
     "prompt_number": 45
    },
    {
     "cell_type": "code",
     "collapsed": false,
     "input": [],
     "language": "python",
     "metadata": {},
     "outputs": []
    }
   ],
   "metadata": {}
  }
 ]
}