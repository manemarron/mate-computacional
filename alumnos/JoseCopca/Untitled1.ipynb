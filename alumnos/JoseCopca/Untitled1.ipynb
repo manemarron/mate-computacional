{
 "metadata": {
  "name": "",
  "signature": "sha256:f6d766caa193a2a17de40d564db6d710516e20bfe91dc956a968d0cb9e81745b"
 },
 "nbformat": 3,
 "nbformat_minor": 0,
 "worksheets": []
}