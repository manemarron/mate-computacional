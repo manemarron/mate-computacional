{
 "metadata": {
  "name": "",
  "signature": "sha256:74307c97670c64962cc8a7f775d8e1e1fee7103747def4c6fd3129bc05ad9d13"
 },
 "nbformat": 3,
 "nbformat_minor": 0,
 "worksheets": [
  {
   "cells": [
    {
     "cell_type": "heading",
     "level": 1,
     "metadata": {},
     "source": [
      "Simulando una econom\u00eda de mercado"
     ]
    },
    {
     "cell_type": "markdown",
     "metadata": {},
     "source": [
      "<div class=\"alert alert-warning\">\n",
      "**Nota** _Basado en el libro_ Exploring everyday things with Ruby and R.\n",
      "</div>"
     ]
    },
    {
     "cell_type": "markdown",
     "metadata": {},
     "source": [
      "Exploraremos las ideas de **Adam Smith** y de la _mano invisible_, para eso simularemos un mercado idealizado."
     ]
    },
    {
     "cell_type": "markdown",
     "metadata": {},
     "source": [
      "La simulaci\u00f3n contendr\u00e1 lo siguiente:\n",
      "\n",
      "- _Productores_\n",
      "\n",
      "- _Consumidores_\n",
      "\n",
      "- _Precio_\n",
      "\n",
      "- _Demanda_\n",
      "\n",
      "- _Oferta_\n",
      "\n",
      "- _Mercado_"
     ]
    },
    {
     "cell_type": "markdown",
     "metadata": {},
     "source": [
      "En esta econom\u00eda simplificada, los _productores_ crean bienes y los venden a los consumidores por el precio **que ellos establecen**."
     ]
    },
    {
     "cell_type": "markdown",
     "metadata": {},
     "source": [
      "Por su parte, los _consumidores_ compraran del productor, si el precio les parece razonable y s\u00f3lo compraran si tienen una demanda que satisfacer. Los _consumidores_ pueden comprar de cualquier _productor_, pero comprar\u00e1n del que venda m\u00e1s barato."
     ]
    },
    {
     "cell_type": "code",
     "collapsed": false,
     "input": [
      "%pylab inline\n",
      "import numpy as np\n",
      "import matplotlib.pyplot as plt"
     ],
     "language": "python",
     "metadata": {},
     "outputs": [
      {
       "output_type": "stream",
       "stream": "stdout",
       "text": [
        "Populating the interactive namespace from numpy and matplotlib\n"
       ]
      }
     ],
     "prompt_number": 1
    },
    {
     "cell_type": "code",
     "collapsed": false,
     "input": [
      "class Productor:\n",
      "    \n",
      "    ## Constructor\n",
      "    def __init__(self, id, oferta=0.0, precio=0.0, capital= 100.0):\n",
      "        self.id = id\n",
      "        self.oferta = oferta\n",
      "        self.precio = precio\n",
      "        self.capital = capital\n",
      "      \n",
      "    ## Representaci\u00f3n, se imprime en pantalla\n",
      "    def __repr__(self):\n",
      "        return \"<Productor %d> oferta: %d, precio: %d\" % (self.id, self.oferta, self.precio)\n",
      "    \n",
      "    ## Compara entre dos objetos Productor\n",
      "    def __cmp__(self, otro):\n",
      "        return cmp(self.precio, otro.precio)\n",
      "    \n",
      "    def existe_oferta(self):\n",
      "        return self.oferta > 0\n",
      "    \n",
      "    def generar_bienes(self):\n",
      "        if self.precio > COSTO:\n",
      "            self.oferta = self.oferta + min(INCREMENTO_OFERTA, floor(self.capital/self.precio))\n",
      "            self.capital -= COSTO*min(INCREMENTO_OFERTA, floor(self.capital/self.precio))\n",
      "        \n",
      "    def producir(self):\n",
      "        if self.oferta > 0:\n",
      "            if not self.precio < COSTO:\n",
      "                self.precio = self.precio * DECREMENTO_PRECIO \n",
      "        else:\n",
      "            self.precio = self.precio * INCREMENTO_PRECIO\n",
      "            self.generar_bienes()\n",
      "    "
     ],
     "language": "python",
     "metadata": {},
     "outputs": [],
     "prompt_number": 67
    },
    {
     "cell_type": "code",
     "collapsed": false,
     "input": [
      "class Consumidor:\n",
      "    ## Constructor\n",
      "    def __init__(self, id, demandas = 0.0, dinero = 100.0):\n",
      "        self.id = id\n",
      "        self.demandas = demandas\n",
      "        self.dinero = dinero\n",
      "    \n",
      "    ## Representaci\u00f3n interna\n",
      "    def __repr__(self):\n",
      "        return \"<Consumidor %d> demandas: %d\" % (self.id, self.demandas)\n",
      "    \n",
      "    def existe_necesidad(self):\n",
      "        return self.demandas > 0\n",
      "    \n",
      "    def comprar(self, mercado):\n",
      "        while self.existe_necesidad() and mercado.existe_oferta(): # Comprar\u00e1 mientras necesite satisfacer su demanda y haya oferta\n",
      "            productor_mas_barato = mercado.productor_mas_barato()\n",
      "            if productor_mas_barato: # Si hay un productor barato\n",
      "                if productor_mas_barato.precio > PRECIO_MAXIMO_ACEPTABLE: # Si el precio es mayor que el aceptable\n",
      "                    self.demandas = self.demandas * 0.5                   # reduzco mi demanda a la mitad\n",
      "\n",
      "                oferta_mas_barata = productor_mas_barato.oferta\n",
      "                \n",
      "                if self.demandas > oferta_mas_barata:    # Si mi demanda supera a la oferta del productor\n",
      "                    self.demandas -= oferta_mas_barata\n",
      "                    #Dinero pasa a productor\n",
      "                    productor_mas_barato.capital += oferta_mas_barata*productor_mas_barato.precio\n",
      "                    self.dinero -= oferta_mas_barata*productor_mas_barato.precio\n",
      "                    productor_mas_barato.oferta = 0.0\n",
      "                else:                                    # En este caso mi demanda es menor que la oferta del productor\n",
      "                    productor_mas_barato.oferta -= self.demandas\n",
      "                    productor_mas_barato.capital +=  self.demandas\n",
      "                    self.dinero -= self.demandas * productor_mas_barato.precio\n",
      "                    self.demandas = 0.0\n"
     ],
     "language": "python",
     "metadata": {},
     "outputs": [],
     "prompt_number": 68
    },
    {
     "cell_type": "code",
     "collapsed": false,
     "input": [
      "from functools import reduce\n",
      "import math\n",
      "import random\n",
      "import numpy as np\n",
      "\n",
      "class Mercado:\n",
      "    \n",
      "    def __init__(self, num_productores, num_consumidores, duracion):\n",
      "        self.productores = []\n",
      "        self.consumidores = []\n",
      "        self.demanda_generada = []\n",
      "        \n",
      "        self.duracion = duracion\n",
      "        \n",
      "        self.demanda_oferta = np.zeros([self.duracion, 2])\n",
      "        self.precio_demanda = np.zeros([self.duracion, 2])\n",
      "        \n",
      "        for p_id in range(num_productores):\n",
      "            productor = Productor(id=p_id)\n",
      "            productor.precio = COSTO + random.randint(0, GANANCIA_MAXIMA_INICIAL)\n",
      "            productor.oferta = random.randint(1,OFERTA_MAXIMA_INICIAL)\n",
      "            self.productores.append(productor)\n",
      "            \n",
      "        for c_id in range(num_consumidores):\n",
      "            consumidor = Consumidor(id = c_id)\n",
      "            self.consumidores.append(consumidor)\n",
      "            \n",
      "        for t in range(duracion):\n",
      "            self.demanda_generada.append(round((math.sin(t)+2)*20))\n",
      "    \n",
      "    def precio_promedio(self):\n",
      "        suma_precios = sum([productor.precio for productor in self.productores])\n",
      "        return round(suma_precios/len(self.productores), 2)\n",
      "        \n",
      "    def oferta_total(self):\n",
      "        return sum([productor.oferta for productor in self.productores])\n",
      "        \n",
      "    def demanda_total(self):\n",
      "        return sum([consumidor.demandas for consumidor in self.consumidores])\n",
      "        \n",
      "    \n",
      "    def existe_oferta(self):\n",
      "        return self.oferta_total() > 0\n",
      "    \n",
      "    def existe_demanda(self):\n",
      "        return self.demanda_total() > 0\n",
      "        \n",
      "    def productor_mas_barato(self):\n",
      "        mas_barato = None\n",
      "        productores = [ productor for productor in self.productores if productor.oferta > 0 ]\n",
      "        if productores:\n",
      "            mas_barato = min(productores) \n",
      "        return mas_barato\n",
      "    \n",
      "    def evolucionar(self, step):\n",
      "        for consumidor in self.consumidores:\n",
      "            consumidor.demandas = self.demanda_generada[step]    \n",
      "            \n",
      "        self.demanda_oferta[step] = [self.demanda_total(), self.oferta_total()]\n",
      "            \n",
      "        for productor in self.productores:\n",
      "            productor.producir()\n",
      "        \n",
      "        self.precio_demanda[step] = [self.precio_promedio(), self.demanda_total()]\n",
      "        \n",
      "        while self.existe_demanda() and self.existe_oferta():\n",
      "            for consumidor in self.consumidores:\n",
      "                consumidor.comprar(mercado=self)\n",
      "                \n",
      "        c=-1\n",
      "        for productor in self.productores:\n",
      "            c+=1\n",
      "            if productor.capital < 0:\n",
      "                self.productores.pop(c)\n",
      "        c=-1\n",
      "        for consumidor in self.consumidores:\n",
      "            c+=1\n",
      "            if consumidor.dinero < 0:\n",
      "                self.consumidores.pop(c)\n",
      "        "
     ],
     "language": "python",
     "metadata": {},
     "outputs": [],
     "prompt_number": 69
    },
    {
     "cell_type": "code",
     "collapsed": false,
     "input": [
      "duracion = 150\n",
      "num_productores = 10\n",
      "num_consumidores = 10\n",
      "\n",
      "OFERTA_MAXIMA_INICIAL = 20\n",
      "INCREMENTO_OFERTA = 80\n",
      "\n",
      "COSTO = 5\n",
      "PRECIO_MAXIMO_ACEPTABLE = COSTO * 1.5\n",
      "GANANCIA_MAXIMA_INICIAL = 5\n",
      "\n",
      "INCREMENTO_PRECIO = 1.1\n",
      "DECREMENTO_PRECIO = 0.9\n"
     ],
     "language": "python",
     "metadata": {},
     "outputs": [],
     "prompt_number": 76
    },
    {
     "cell_type": "code",
     "collapsed": false,
     "input": [
      "mercado_ideal = Mercado(num_productores, num_consumidores, duracion)"
     ],
     "language": "python",
     "metadata": {},
     "outputs": [],
     "prompt_number": 77
    },
    {
     "cell_type": "code",
     "collapsed": false,
     "input": [
      "mercado_ideal.productor_mas_barato()"
     ],
     "language": "python",
     "metadata": {},
     "outputs": [
      {
       "metadata": {},
       "output_type": "pyout",
       "prompt_number": 78,
       "text": [
        "<Productor 1> oferta: 3, precio: 5"
       ]
      }
     ],
     "prompt_number": 78
    },
    {
     "cell_type": "code",
     "collapsed": false,
     "input": [
      "for t in range(duracion):\n",
      "    mercado_ideal.evolucionar(t)\n",
      "\n",
      "tiempo_simulacion = np.linspace(0,1, duracion)"
     ],
     "language": "python",
     "metadata": {},
     "outputs": [],
     "prompt_number": 79
    },
    {
     "cell_type": "code",
     "collapsed": false,
     "input": [
      "plt.figure(figsize = (10,10))\n",
      "plt.plot(tiempo_simulacion, mercado_ideal.demanda_oferta[:,0], label=\"Demanda\")\n",
      "plt.plot(tiempo_simulacion, mercado_ideal.demanda_oferta[:,1], label=\"Oferta\")\n",
      "plt.xlabel(\"tiempo\")\n",
      "plt.legend(loc=\"best\")"
     ],
     "language": "python",
     "metadata": {},
     "outputs": [
      {
       "metadata": {},
       "output_type": "pyout",
       "prompt_number": 80,
       "text": [
        "<matplotlib.legend.Legend at 0x7fc36fad8e90>"
       ]
      },
      {
       "metadata": {},
       "output_type": "display_data",
       "png": "[encoded data removed]",
       "text": [
        "<matplotlib.figure.Figure at 0x7fc36fb55550>"
       ]
      }
     ],
     "prompt_number": 80
    },
    {
     "cell_type": "code",
     "collapsed": false,
     "input": [
      "plt.figure(figsize = (10,10))\n",
      "plt.plot(tiempo_simulacion, mercado_ideal.precio_demanda[:,0], '-', label=\"Precio promedio\")\n",
      "plt.plot(tiempo_simulacion, np.log2(mercado_ideal.precio_demanda[:,1]) - 3, label=\"Demanda\")\n",
      "plt.xlabel(\"tiempo\")\n",
      "plt.legend(loc=\"best\")"
     ],
     "language": "python",
     "metadata": {},
     "outputs": [
      {
       "metadata": {},
       "output_type": "pyout",
       "prompt_number": 81,
       "text": [
        "<matplotlib.legend.Legend at 0x7fc36fa1ab90>"
       ]
      },
      {
       "metadata": {},
       "output_type": "display_data",
       "png": "[encoded data removed]",
       "text": [
        "<matplotlib.figure.Figure at 0x7fc36fc3e690>"
       ]
      }
     ],
     "prompt_number": 81
    },
    {
     "cell_type": "markdown",
     "metadata": {},
     "source": [
      "<div class=\"alert alert-info\">\n",
      "**Ejercicio**: Modifique el c\u00f3digo para que los `Productores` puedan ir a la quiebra si no venden. \n",
      "\u00bfQu\u00e9 otra modificaci\u00f3n le podr\u00edas hacer para hacerlo m\u00e1s real?\n",
      "</div>"
     ]
    },
    {
     "cell_type": "markdown",
     "metadata": {},
     "source": [
      "Se modificaron de productores el capital, para que sea posible que quiebren. \n",
      "A los consumidores se les agrego el atributo dinero que representa su cantidad\n",
      "de poder adquisitivo. Cuando se les acaba, ya no pueden \"comprar\"."
     ]
    },
    {
     "cell_type": "markdown",
     "metadata": {},
     "source": [
      "<div class=\"alert alert-info\">\n",
      "**Ejercicio**: \u00bfQu\u00e9 modificaci\u00f3n podr\u00edas hacer para obtener una econom\u00eda controlada por el gobierno?\n",
      "</div>"
     ]
    },
    {
     "cell_type": "markdown",
     "metadata": {},
     "source": [
      "Se podr\u00eda hacer de una manera que los precios no varien mucho y otra \n",
      "cosa importante y que pasa en la vida real es no permitir monopolios."
     ]
    }
   ],
   "metadata": {}
  }
 ]
}