{
 "metadata": {
  "name": "",
  "signature": "sha256:c6f18e49969b54bfc49f5fe7a503667ceeaebcd62ad0a76b8172f8ad1177f7fc"
 },
 "nbformat": 3,
 "nbformat_minor": 0,
 "worksheets": [
  {
   "cells": [
    {
     "cell_type": "code",
     "collapsed": false,
     "input": [
      "import random"
     ],
     "language": "python",
     "metadata": {},
     "outputs": [],
     "prompt_number": 6
    },
    {
     "cell_type": "code",
     "collapsed": false,
     "input": [
      "class GA:\n",
      "    def __init__(self, tamanoPoblacion, tasaMutacion, tasaCrossover, maxGeneraciones, fitness, longitud):\n",
      "        self.tamanoPoblacion = tamanoPoblacion\n",
      "        self.tasaMutacion = tasaMutacion\n",
      "        self.tasaCrossover = tasaCrossover\n",
      "        self.maxGeneraciones = maxGeneraciones\n",
      "        self.fitness = fitness\n",
      "        self.longitud = longitud\n",
      "        \n",
      "        self.poblacion = list\n",
      "        self.generacion = 0\n",
      "        self.mejor_solucion_historica = None\n",
      "        self.mejor_solucion_actual = None\n",
      "        \n",
      "    def poblar(self):\n",
      "        for i in range(self.tamanoPoblacion):\n",
      "            self.poblacion.append(BitCromosoma(self.longitud))\n",
      "            \n",
      "    def __str__(self):\n",
      "        print \"La poblaci\u00f3n es: \"\n",
      "        for i in range(len(self.poblacion)):\n",
      "            print (\"N\u00famero %d: \" % i)  + self.poblacion[i]\n",
      "        print \"Mejor soluci\u00f3n hist\u00f3rica: \" + self.mejor_solucion_historica\n",
      "        print \"Mejor soluci\u00f3n actual: \" + self.mejor_solucion_actual\n",
      "        print \"N\u00famero de generaci\u00f3n: \" + self.generacion\n",
      "        \n",
      "    def run(self):\n",
      "        nuevaPoblacion = list\n",
      "        seleccionados = seleccionar()\n",
      "        for i in range(tamanoPoblacion):\n",
      "            nuevo = crossover(seleccionados[i], seleccionados[i+1])\n",
      "            #Checar si muta\n",
      "            nuevaPoblacion.append(nuevo)\n",
      "        self.poblacion = nuevaPoblacions\n",
      "            \n",
      "                \n",
      "                \n",
      "    pass"
     ],
     "language": "python",
     "metadata": {},
     "outputs": [],
     "prompt_number": 7
    },
    {
     "cell_type": "code",
     "collapsed": false,
     "input": [
      "class Cromosoma:\n",
      "    pass"
     ],
     "language": "python",
     "metadata": {},
     "outputs": [],
     "prompt_number": 8
    },
    {
     "cell_type": "code",
     "collapsed": false,
     "input": [
      "class BitCromosoma(Cromosoma):\n",
      "    def __init__(self, longitud, cadena):\n",
      "        if (cadena != None):\n",
      "            self.cadena = cadena\n",
      "        else:      \n",
      "            self.cadena = random.getrandombits(longitud)\n",
      "        "
     ],
     "language": "python",
     "metadata": {},
     "outputs": [],
     "prompt_number": 11
    },
    {
     "cell_type": "code",
     "collapsed": false,
     "input": [],
     "language": "python",
     "metadata": {},
     "outputs": [],
     "prompt_number": 10
    },
    {
     "cell_type": "code",
     "collapsed": false,
     "input": [],
     "language": "python",
     "metadata": {},
     "outputs": []
    }
   ],
   "metadata": {}
  }
 ]
}