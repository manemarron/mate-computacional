{
 "metadata": {
  "name": "",
  "signature": "sha256:a4721251ffc2f3f91fa145dade416f5b2a36bc74467f6542c90eeee80557ea30"
 },
 "nbformat": 3,
 "nbformat_minor": 0,
 "worksheets": [
  {
   "cells": [
    {
     "cell_type": "code",
     "collapsed": false,
     "input": [
      "import random"
     ],
     "language": "python",
     "metadata": {},
     "outputs": [],
     "prompt_number": 9
    },
    {
     "cell_type": "code",
     "collapsed": false,
     "input": [
      "class GA:\n",
      "    def __init__(self, tamanoPoblacion, tasaMutacion, tasaCrossover, maxGeneraciones, fitness, longitud, optimo):\n",
      "        self.historial = []\n",
      "        self.historialFitness =[]\n",
      "        \n",
      "        self.tamanoPoblacion = tamanoPoblacion\n",
      "        self.tasaMutacion = tasaMutacion\n",
      "        self.tasaCrossover = tasaCrossover\n",
      "        self.maxGeneraciones = maxGeneraciones\n",
      "        self.fitness = fitness\n",
      "        self.longitud = longitud\n",
      "        \n",
      "        self.poblacion = []\n",
      "        self.generacion = 0\n",
      "        self.mejor_solucion_historica = 0\n",
      "        self.mejor_solucion_actual = None\n",
      "        \n",
      "        if optimo == None or len(optimo) != longitud:\n",
      "            self.optimo = random.getrandbits(self.longitud)\n",
      "        else:\n",
      "            self.optimo =  optimo\n",
      "        \n",
      "    def poblar(self):\n",
      "        poblacion = []\n",
      "        for i in range(self.tamanoPoblacion):\n",
      "            poblacion.append(BitCromosoma(self.longitud, None, self.tasaMutacion))\n",
      "        self.poblacion = poblacion\n",
      "            \n",
      "    def __str__(self):\n",
      "        for i in range(len(self.poblacion)):\n",
      "            print \"Poblador \" + i + \" \" + poblacionr[i]\n",
      "            \n",
      "        print \"Mejor solucion historica :\" + self.mejor_solucion_historica\n",
      "        print \"Mejor solucion actual :\" + self.mejor_solucion_actual\n",
      "        print \"Generacion :\" + self.generacion\n",
      "        \n",
      "    def seleccionar(self):\n",
      "        poblacion2 = []\n",
      "        poblacion3 = []\n",
      "        fitness_poblacion = 0\n",
      "        \n",
      "        for i in range (self.tamanoPoblacion):\n",
      "            x = self.fitness(self.poblacion[i], self.longitud, self.optimo)\n",
      "            fitness_poblacion += x\n",
      "            \n",
      "        poblacion.sort([fitness])\n",
      "        for j in range(self.tamanoPoblacion*2):\n",
      "            tope = random.randint(0, fitness_poblacion)\n",
      "            suma = 0\n",
      "            for i in range (self.tamanoPoblacion):\n",
      "                if suma >= tope:\n",
      "                    poblacion2.append(self.poblacion[i])\n",
      "                    break\n",
      "                    \n",
      "        for i in range (self.tamanoPoblacion):\n",
      "            nuevo = poblacion2[2*i], poblacion2[2*i + 1]\n",
      "            nuevo.mutar()\n",
      "            poblacion3.append()\n",
      "            \n",
      "        poblacion = poblacion3\n",
      "        \n",
      "        self.generacion += 1\n",
      "            \n",
      "        \n",
      "    def crossover(i, j):\n",
      "        cPoint = random.randint(0, self.longitud-1)\n",
      "        c1 = i.splitA(cPoint)\n",
      "        c2 = j.splitB(cPoint)\n",
      "        return c1 + c2\n",
      "            \n",
      "   \n",
      "    \n",
      "    def run(self):  \n",
      "        for j in range(self.maxGeneraciones + 1):\n",
      "            fitness_poblacion = 0\n",
      "            for i in range (self.tamanoPoblacion):\n",
      "                x = self.fitness(self.poblacion[i], self.longitud, self.optimo)\n",
      "                fitness_poblacion += x\n",
      "            promedio = fitness_poblacion/ self.tamanoPoblacion\n",
      "            self.mejor_solucion_actual = promedio\n",
      "            self.historialFitness.append(promedio)\n",
      "            if self.mejor_solucion_actual > self.mejor_solucion_historica:\n",
      "                self.mejor_solucion_historica = self.mejor_solucion_actual\n",
      "\n",
      "            self.historial.append(self.generacion +\", \" +promedio +\", \" + self.mejor_solucion_actual +\", \" + self.mejor_solucion_historica)\n",
      "            if j < self.maxGeneraciones:\n",
      "                self.seleccionar()\n",
      "        \n",
      "    pass"
     ],
     "language": "python",
     "metadata": {},
     "outputs": [],
     "prompt_number": 148
    },
    {
     "cell_type": "code",
     "collapsed": false,
     "input": [
      "class Cromosoma:\n",
      "    pass"
     ],
     "language": "python",
     "metadata": {},
     "outputs": [],
     "prompt_number": 149
    },
    {
     "cell_type": "code",
     "collapsed": false,
     "input": [
      "class BitCromosoma(Cromosoma):\n",
      "    def __init__(self, longitud, cadena, tasaMutacion):\n",
      "        self.longitud = longitud\n",
      "        self.tasaMutacion = tasaMutacion\n",
      "        if cadena == None:\n",
      "            self.genoma = random.getrandbits(longitud)\n",
      "        else:\n",
      "            self.genoma = cadena\n",
      "    \n",
      "    def splitA(self, crossover_point):\n",
      "        c1 = self.genoma[:crossover_point]\n",
      "        return c1\n",
      "    \n",
      "    def splitB(self, crossover_point):\n",
      "        c2 = self.genoma[crossover_point:]\n",
      "        return c2\n",
      "    \n",
      "    def mutar(self):\n",
      "        if random.random() <= tasaMutacion:\n",
      "            lugar = random.randint(0, self.longitud - 1)\n",
      "            if self.genoma[lugar] == '0':\n",
      "                self.genoma[lugar] == '1'\n",
      "            else:\n",
      "                self.genoma[lugar] == '0'\n",
      "            \n",
      "        "
     ],
     "language": "python",
     "metadata": {},
     "outputs": [],
     "prompt_number": 150
    },
    {
     "cell_type": "code",
     "collapsed": false,
     "input": [
      " def fitness(cr, longitud, optimo):\n",
      "        c = 0\n",
      "        for i in range(longitud):\n",
      "            if optimo[i] == cr[i]:\n",
      "                c += 1\n",
      "        return c"
     ],
     "language": "python",
     "metadata": {},
     "outputs": [],
     "prompt_number": 151
    },
    {
     "cell_type": "code",
     "collapsed": false,
     "input": [
      "ins = GA(30, .1, None, 30, fitness, 8, '11001100')"
     ],
     "language": "python",
     "metadata": {},
     "outputs": [],
     "prompt_number": 152
    },
    {
     "cell_type": "code",
     "collapsed": false,
     "input": [
      "ins.poblar()"
     ],
     "language": "python",
     "metadata": {},
     "outputs": [],
     "prompt_number": 153
    },
    {
     "cell_type": "code",
     "collapsed": false,
     "input": [
      "ins.run()"
     ],
     "language": "python",
     "metadata": {},
     "outputs": [
      {
       "ename": "AttributeError",
       "evalue": "BitCromosoma instance has no attribute '__getitem__'",
       "output_type": "pyerr",
       "traceback": [
        "\u001b[1;31m---------------------------------------------------------------------------\u001b[0m\n\u001b[1;31mAttributeError\u001b[0m                            Traceback (most recent call last)",
        "\u001b[1;32m<ipython-input-154-a503e234e21c>\u001b[0m in \u001b[0;36m<module>\u001b[1;34m()\u001b[0m\n\u001b[1;32m----> 1\u001b[1;33m \u001b[0mins\u001b[0m\u001b[1;33m.\u001b[0m\u001b[0mrun\u001b[0m\u001b[1;33m(\u001b[0m\u001b[1;33m)\u001b[0m\u001b[1;33m\u001b[0m\u001b[0m\n\u001b[0m",
        "\u001b[1;32m<ipython-input-148-a2b32dac06ae>\u001b[0m in \u001b[0;36mrun\u001b[1;34m(self)\u001b[0m\n\u001b[0;32m     75\u001b[0m             \u001b[0mfitness_poblacion\u001b[0m \u001b[1;33m=\u001b[0m \u001b[1;36m0\u001b[0m\u001b[1;33m\u001b[0m\u001b[0m\n\u001b[0;32m     76\u001b[0m             \u001b[1;32mfor\u001b[0m \u001b[0mi\u001b[0m \u001b[1;32min\u001b[0m \u001b[0mrange\u001b[0m \u001b[1;33m(\u001b[0m\u001b[0mself\u001b[0m\u001b[1;33m.\u001b[0m\u001b[0mtamanoPoblacion\u001b[0m\u001b[1;33m)\u001b[0m\u001b[1;33m:\u001b[0m\u001b[1;33m\u001b[0m\u001b[0m\n\u001b[1;32m---> 77\u001b[1;33m                 \u001b[0mx\u001b[0m \u001b[1;33m=\u001b[0m \u001b[0mself\u001b[0m\u001b[1;33m.\u001b[0m\u001b[0mfitness\u001b[0m\u001b[1;33m(\u001b[0m\u001b[0mself\u001b[0m\u001b[1;33m.\u001b[0m\u001b[0mpoblacion\u001b[0m\u001b[1;33m[\u001b[0m\u001b[0mi\u001b[0m\u001b[1;33m]\u001b[0m\u001b[1;33m,\u001b[0m \u001b[0mself\u001b[0m\u001b[1;33m.\u001b[0m\u001b[0mlongitud\u001b[0m\u001b[1;33m,\u001b[0m \u001b[0mself\u001b[0m\u001b[1;33m.\u001b[0m\u001b[0moptimo\u001b[0m\u001b[1;33m)\u001b[0m\u001b[1;33m\u001b[0m\u001b[0m\n\u001b[0m\u001b[0;32m     78\u001b[0m                 \u001b[0mfitness_poblacion\u001b[0m \u001b[1;33m+=\u001b[0m \u001b[0mx\u001b[0m\u001b[1;33m\u001b[0m\u001b[0m\n\u001b[0;32m     79\u001b[0m             \u001b[0mpromedio\u001b[0m \u001b[1;33m=\u001b[0m \u001b[0mfitness_poblacion\u001b[0m\u001b[1;33m/\u001b[0m \u001b[0mself\u001b[0m\u001b[1;33m.\u001b[0m\u001b[0mtamanoPoblacion\u001b[0m\u001b[1;33m\u001b[0m\u001b[0m\n",
        "\u001b[1;32m<ipython-input-151-2828e10de095>\u001b[0m in \u001b[0;36mfitness\u001b[1;34m(cr, longitud, optimo)\u001b[0m\n\u001b[0;32m      2\u001b[0m        \u001b[0mc\u001b[0m \u001b[1;33m=\u001b[0m \u001b[1;36m0\u001b[0m\u001b[1;33m\u001b[0m\u001b[0m\n\u001b[0;32m      3\u001b[0m        \u001b[1;32mfor\u001b[0m \u001b[0mi\u001b[0m \u001b[1;32min\u001b[0m \u001b[0mrange\u001b[0m\u001b[1;33m(\u001b[0m\u001b[0mlongitud\u001b[0m\u001b[1;33m)\u001b[0m\u001b[1;33m:\u001b[0m\u001b[1;33m\u001b[0m\u001b[0m\n\u001b[1;32m----> 4\u001b[1;33m            \u001b[1;32mif\u001b[0m \u001b[0moptimo\u001b[0m\u001b[1;33m[\u001b[0m\u001b[0mi\u001b[0m\u001b[1;33m]\u001b[0m \u001b[1;33m==\u001b[0m \u001b[0mcr\u001b[0m\u001b[1;33m[\u001b[0m\u001b[0mi\u001b[0m\u001b[1;33m]\u001b[0m\u001b[1;33m:\u001b[0m\u001b[1;33m\u001b[0m\u001b[0m\n\u001b[0m\u001b[0;32m      5\u001b[0m                \u001b[0mc\u001b[0m \u001b[1;33m+=\u001b[0m \u001b[1;36m1\u001b[0m\u001b[1;33m\u001b[0m\u001b[0m\n\u001b[0;32m      6\u001b[0m        \u001b[1;32mreturn\u001b[0m \u001b[0mc\u001b[0m\u001b[1;33m\u001b[0m\u001b[0m\n",
        "\u001b[1;31mAttributeError\u001b[0m: BitCromosoma instance has no attribute '__getitem__'"
       ]
      }
     ],
     "prompt_number": 154
    }
   ],
   "metadata": {}
  }
 ]
}