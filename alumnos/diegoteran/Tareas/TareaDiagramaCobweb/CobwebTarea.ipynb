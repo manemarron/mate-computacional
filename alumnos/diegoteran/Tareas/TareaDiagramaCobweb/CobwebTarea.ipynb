{
 "metadata": {
  "name": "",
  "signature": "sha256:953758989db622e66cfc806d6d209d7de162cc7e2bf6a5e310e63e4eb63a8bd5"
 },
 "nbformat": 3,
 "nbformat_minor": 0,
 "worksheets": [
  {
   "cells": [
    {
     "cell_type": "code",
     "collapsed": false,
     "input": [
      "\n",
      "\n",
      "%pylab inline\n",
      "\n"
     ],
     "language": "python",
     "metadata": {},
     "outputs": [
      {
       "output_type": "stream",
       "stream": "stdout",
       "text": [
        "Populating the interactive namespace from numpy and matplotlib\n"
       ]
      }
     ],
     "prompt_number": 2
    },
    {
     "cell_type": "code",
     "collapsed": false,
     "input": [
      "import numpy as np\n",
      "import matplotlib.pyplot as plt\n",
      "import sympy as sym"
     ],
     "language": "python",
     "metadata": {},
     "outputs": [],
     "prompt_number": 3
    },
    {
     "cell_type": "markdown",
     "metadata": {},
     "source": [
      "<div class=\"alert alert-warning\">\n",
      "Lectura recomendada: [Best Practices for Scientific Computing](http://arxiv.org/pdf/1210.0530v3.pdf)\n",
      "</div>"
     ]
    },
    {
     "cell_type": "heading",
     "level": 1,
     "metadata": {},
     "source": [
      "Caos: Primera parte"
     ]
    },
    {
     "cell_type": "heading",
     "level": 2,
     "metadata": {},
     "source": [
      "Introducci\u00f3n"
     ]
    },
    {
     "cell_type": "markdown",
     "metadata": {},
     "source": [
      "- Edward Lorenz la defini\u00f3 como:\n",
      "\n",
      "    **Caos** Cuando el presente determina el futuro, pero el presente aproximado no determina aproximadamente el futuro."
     ]
    },
    {
     "cell_type": "markdown",
     "metadata": {},
     "source": [
      "- La **teor\u00eda del caos** estudia el comportamiento de los sistemas din\u00e1micos que son muy sensibles a las condiciones iniciales (El famoso _efecto mariposa_ seg\u00fan [Jurassic Park](http://en.wikipedia.org/wiki/Jurassic_Park_%28film%29)). \n",
      "        - Aunque no es lo \u00fanico, ve m\u00e1s adelante.\n",
      "        \n",
      "- Este hecho hace que la predicci\u00f3n  alargo plazo sea imposible.\n",
      "\n",
      "- Entonces la afirmaci\u00f3n **determinismo** $\\to$ **predictibilidad** es falsa.\n",
      "\n"
     ]
    },
    {
     "cell_type": "markdown",
     "metadata": {},
     "source": [
      "        Chaos was the law of nature; Order was the dream of man\n",
      "            -- Henry Adams"
     ]
    },
    {
     "cell_type": "markdown",
     "metadata": {},
     "source": [
      "- Para saber **much\u00edsimo m\u00e1s** recomiendo: [Chaos Book](http://chaosbook.org/)"
     ]
    },
    {
     "cell_type": "markdown",
     "metadata": {},
     "source": [
      "Durante siglos en f\u00edsica se estuvo trabajando con sistemas como el [oscilador arm\u00f3nico](http://en.wikipedia.org/wiki/Harmonic_oscillator) y el problema de dos cuerpos con fuerza central (tambi\u00e9n conocido como [_problema de Kepler_](http://en.wikipedia.org/wiki/Kepler_problem)) los cuales se consideraban como paradigm\u00e1ticos para resolver problemas. La explosi\u00f3n del caos en el siglo XX nos se\u00f1alaba que esos problemas y m\u00e9todos no eran la norma, si no al contrario: eran casos especiales."
     ]
    },
    {
     "cell_type": "markdown",
     "metadata": {},
     "source": [
      "A lo largo del curso (sobre todo en la \u00faltima parte) podr\u00eda quedar el sabor de boca de que las herramientas anal\u00edticas son un fraude y que hemos sido enga\u00f1ados durante toda nuestra educaci\u00f3n y que el \u00fanico camino son las simulaciones y la estad\u00edstica."
     ]
    },
    {
     "cell_type": "markdown",
     "metadata": {},
     "source": [
      "Pero eso no es cierto: Existen teor\u00edas que tienen el mismo poder predictivo, y el estudio del caso general sigue abriendo el camino para la comprehensi\u00f3n cient\u00edfica del mundo."
     ]
    },
    {
     "cell_type": "markdown",
     "metadata": {},
     "source": [
      "Lo que si es cierto, es que, partiendo de la definici\u00f3n de que un **sistema determin\u00edstico** es aquel que su estado futuro esta _completamente_ determinado por sus condiciones actuales (en contraste con un sistema estoc\u00e1stico en el cual el futuro est\u00e1 determinado s\u00f3lo parcialmente) ya no implica **predictibilidad**."
     ]
    },
    {
     "cell_type": "heading",
     "level": 2,
     "metadata": {},
     "source": [
      "Sensitividad a condiciones iniciales"
     ]
    },
    {
     "cell_type": "markdown",
     "metadata": {},
     "source": [
      "Una de las caracter\u00edsticas que puede indicar **caos** es la sensibiliad a condiciones iniciales, la cual se puede expresar matem\u00e1ticamente como:"
     ]
    },
    {
     "cell_type": "markdown",
     "metadata": {},
     "source": [
      "$$\n",
      "|\\delta\\mathbf{x}(t)| = e^{\\lambda t}|\\delta\\mathbf{x}(0)|\n",
      "$$"
     ]
    },
    {
     "cell_type": "markdown",
     "metadata": {},
     "source": [
      "a $\\lambda$ se le conoce como _exponente de Lyapunov_. Si este exponente positivo indica que con el paso del tiempo la diferencia $\\delta$ crece exponencialmente."
     ]
    },
    {
     "cell_type": "markdown",
     "metadata": {},
     "source": [
      "<div class=\"alert alert-danger\">\n",
      "**NOTA** La sensibilidad es una idea muy importante pero no determina completamente si el sistema es caotico o no, para ello se necesita otra caracter\u00edstica: _mezcla topol\u00f3gica_ (topological mixing), la cual ver\u00e9mos m\u00e1s adelante, pero se puede entender como que las trayectorias del sistema, luego de diverger se vueven a aproximar un n\u00famero infinito de veces.\n",
      "</div>"
     ]
    },
    {
     "cell_type": "heading",
     "level": 3,
     "metadata": {},
     "source": [
      "Mapeos"
     ]
    },
    {
     "cell_type": "markdown",
     "metadata": {},
     "source": [
      "A los sistemas din\u00e1micos discretos, en una dimensi\u00f3n se les conoce como **mapas**, ya que son funciones\n",
      "\n",
      "$$\n",
      "f: \\mathrm{R} \\to \\mathrm{R}\n",
      "$$\n",
      "\n",
      "y los cuales producen la _secuencia_ de puntos:\n",
      "\n",
      "$$\n",
      "\\{x, f(x), f^2(x), f^3(x), \\ldots\\}\n",
      "$$\n",
      "\n",
      "la cual se conoce como _\u00f3rbita_ de $x$ bajo $f$."
     ]
    },
    {
     "cell_type": "markdown",
     "metadata": {},
     "source": [
      "Los sistemas din\u00e1micos discretos, se pueden pensar como ecuaciones de diferencias de primer orden\n",
      "\n",
      "$$\n",
      "y = x_{n+1} = f(x_n)\n",
      "$$\n",
      "\n",
      "y regularmente \n",
      "\n",
      "$$\n",
      "y=f(x) = f(x, a)\n",
      "$$\n",
      "\n",
      "existe un par\u00e1metro $a$ que puede influir much\u00edsimo en el comportamiento del sistema."
     ]
    },
    {
     "cell_type": "heading",
     "level": 3,
     "metadata": {},
     "source": [
      "Comportamientos"
     ]
    },
    {
     "cell_type": "markdown",
     "metadata": {},
     "source": [
      "Pueden pasar lo siguiente:\n",
      "\n",
      "- Si $f(x) = x$ hemos alcanzado un _punto fijo_.\n",
      "\n",
      "- Si $f^n(x) = x$, pero $f^k(x) \\neq x$ para $k \\leq n$, se dice que la \u00f3rbita tiene _periodo_ de orden $n$."
     ]
    },
    {
     "cell_type": "heading",
     "level": 3,
     "metadata": {},
     "source": [
      "Mapeo log\u00edstico"
     ]
    },
    {
     "cell_type": "markdown",
     "metadata": {},
     "source": [
      "$$\n",
      "x_{n+1} = rx_n(1 -x_n)\n",
      "$$"
     ]
    },
    {
     "cell_type": "markdown",
     "metadata": {},
     "source": [
      "Donde, para fines de esta clase, $r$ esta contenido en \n",
      "\n",
      "$$\n",
      "0 \\leq r \\leq 4\n",
      "$$\n",
      "\n",
      "la raz\u00f3n de esto, es que el cuadro unitario mapea al cuadro unitario, i.e.\n",
      "\n",
      "$$ \n",
      "0 \\leq x \\leq 1 \\to 0 \\leq f(x) \\leq 1\n",
      "$$"
     ]
    },
    {
     "cell_type": "markdown",
     "metadata": {},
     "source": [
      "<div class=\"alert alert-info\">\n",
      "**Ejercicio** \u00bfPor qu\u00e9?\n",
      "</div>"
     ]
    },
    {
     "cell_type": "markdown",
     "metadata": {},
     "source": [
      "<div class=\"alert alert-info\">\n",
      "**Ejercicio**  Define la funci\u00f3n `logistic_map` que recibe como par\u00e1metros $x$ y $r$ regresa $rx(1\u2212x)$. \n",
      "</div>"
     ]
    },
    {
     "cell_type": "code",
     "collapsed": false,
     "input": [
      "def logistic_map(x,r):\n",
      "    return r*x*(1-x)"
     ],
     "language": "python",
     "metadata": {},
     "outputs": [],
     "prompt_number": 1
    },
    {
     "cell_type": "markdown",
     "metadata": {},
     "source": [
      "Los _puntos fijos_ del mapeo log\u00edstico son:"
     ]
    },
    {
     "cell_type": "markdown",
     "metadata": {},
     "source": [
      "$$\n",
      "x = f(x)\n",
      "$$\n",
      "\n",
      "$$\n",
      "x = rx(1-x)\n",
      "$$\n",
      "\n",
      "$$\n",
      "1 = r(1-x)\n",
      "$$\n",
      "\n",
      "$$\n",
      "x = 1 - \\frac{1}{r}\n",
      "$$"
     ]
    },
    {
     "cell_type": "markdown",
     "metadata": {},
     "source": [
      "El punto fijo se dice _estable_ si $\\left|f(x) - x_0\\right| < \\left|x - x_0\\right|$ e _inestable_ si la desigualdad se invierte."
     ]
    },
    {
     "cell_type": "markdown",
     "metadata": {},
     "source": [
      "<div class=\"alert alert-info\">\n",
      "**Ejercicio** Calcule el punto fijo para $r = 2$ usando SymPy\n",
      "</div>"
     ]
    },
    {
     "cell_type": "code",
     "collapsed": false,
     "input": [
      "x = sym.symbols('x')\n",
      "r =2\n",
      "sym.solve(x -1 + 1.0/r, x)"
     ],
     "language": "python",
     "metadata": {},
     "outputs": [
      {
       "metadata": {},
       "output_type": "pyout",
       "prompt_number": 7,
       "text": [
        "[0.500000000000000]"
       ]
      }
     ],
     "prompt_number": 7
    },
    {
     "cell_type": "markdown",
     "metadata": {},
     "source": [
      "<div class=\"alert alert-warning\">\n",
      "\n",
      "**Teorema:**\n",
      "\n",
      "Sea $f(x_0) = x_0.$, entonces, \n",
      "\n",
      "<ul>\n",
      "<li>Si $f'(x)$ es cont\u00ednua y $|f'(x_0)| < 1$ entonces $x_0$ es estable.</li>\n",
      "\n",
      "\n",
      "<li>Si $f'(x)$ es cont\u00ednua y $|f'(x_0)| > 1$ entonces $x_0$ es inestable.</li>\n",
      "</ul>\n",
      "</div>"
     ]
    },
    {
     "cell_type": "markdown",
     "metadata": {},
     "source": [
      "<div class=\"alert alert-info\">\n",
      "**Ejercicio** \u00bfCu\u00e1les son las condiciones de estabilidad para el par\u00e1metro $r$? Los valores de $r$ para cuales cambia de estable a inestable y viceversa, se llaman _puntos de bifurcaci\u00f3n_.\n",
      "</div>"
     ]
    },
    {
     "cell_type": "markdown",
     "metadata": {},
     "source": [
      "<div class=\"alert alert-info\">\n",
      "**Ejercicio** Programa un control para cambiar $r$ entre $0$ y $4$ (con un slider) y otro para definid $x_0$. Grafica `logistic_map` respecto al n\u00famero de iteraciones $N$. \u00bfQu\u00e9 observas? \u00bfPuedes ver alg\u00fan _periodo_?\u00bfEst\u00e1 cerca de los puntos fijos?\n",
      "</div>"
     ]
    },
    {
     "cell_type": "markdown",
     "metadata": {},
     "source": [
      "<div class=\"alert alert-info\">\n",
      "**Ejercicio** \u00bfQu\u00e9 sucede para (a) $x_0 = 0.35$ en $r = 2.8$ y (b) para $x_0 = 0.35$ en $r=3.1$. \u00bfPorqu\u00e9 escog\u00ed estos valores?\n",
      "</div>"
     ]
    },
    {
     "cell_type": "markdown",
     "metadata": {},
     "source": [
      "<div class=\"alert alert-info\">\n",
      "**Ejercicio** Define una funci\u00f3n `iterar` que reciba una funci\u00f3n `g`, un punto inicial `x0`, un entero `N` y el par\u00e1metro `r` regrese $g(g( \\ldots(g(x_0, r),r) \\ldots)$. En otras palabras que itere `g`, `N` veces a partir del punto `x0`.\n",
      "</div>"
     ]
    },
    {
     "cell_type": "code",
     "collapsed": false,
     "input": [
      "def iterar(g, x0, N, r):\n",
      "    for i in range(N):\n",
      "        x0 = g(x0,r)\n",
      "    return x0"
     ],
     "language": "python",
     "metadata": {},
     "outputs": [],
     "prompt_number": 8
    },
    {
     "cell_type": "markdown",
     "metadata": {},
     "source": [
      "<div class=\"alert alert-info\">\n",
      "**Ejercicio** Define una funci\u00f3n `iterarLista` que reciba una funci\u00f3n `g`, un punto inicial `x0`, un entero `N` y el par\u00e1metro $r$ regrese la lista $[x_0, g(x), g(g(x)), \\ldots g(g(\\ldots(g(x))\\ldots))]$ En otras palabras que itere `g`, `N-1` veces a partir del punto `x0` y devuelva la \u00f3rbita completa empezando desde `x0`.\n",
      "</div>"
     ]
    },
    {
     "cell_type": "code",
     "collapsed": false,
     "input": [
      "def iterarLista(g, x0, N, mu):\n",
      "    lista = [x0]\n",
      "    for i in range(N):\n",
      "        x0 = g(x0,mu)\n",
      "        lista.append(x0)\n",
      "    return lista"
     ],
     "language": "python",
     "metadata": {},
     "outputs": [],
     "prompt_number": 10
    },
    {
     "cell_type": "markdown",
     "metadata": {},
     "source": [
      "<div class=\"alert alert-info\">\n",
      "**Ejercicio** Usa las funciones reci\u00e9n definidas para calcular iteraciones para $r = \\{ 0.8, 1.2, 2.8, 3.2\\}$,\n",
      "</div>"
     ]
    },
    {
     "cell_type": "code",
     "collapsed": false,
     "input": [
      "\n",
      "\n",
      "print iterarLista(logistic_map, .35, 10, .8)\n",
      "print iterarLista(logistic_map, .35, 10, 1.2)\n",
      "print iterarLista(logistic_map, .35, 10, 2.8)\n",
      "print iterarLista(logistic_map, .35, 10, 3.2)\n",
      "\n"
     ],
     "language": "python",
     "metadata": {},
     "outputs": [
      {
       "output_type": "stream",
       "stream": "stdout",
       "text": [
        "[0.35, 0.182, 0.11910080000000002, 0.08393263955148803, 0.06151036125552642, 0.04618146937099284, 0.03523899300618311, 0.02719776510247463, 0.0211664373407242, 0.016574735416820318, 0.013040010850146177]\n",
        "[0.35, 0.273, 0.2381652, 0.217731045010752, 0.20438908445913342, 0.19513702393570878, 0.18847027899026808, 0.1835390795131183, 0.17982298296551463, 0.1769840133154786, 0.1747928068154701]\n",
        "[0.35, 0.6369999999999999, 0.6474468000000001, 0.6391264352753279, 0.6458027380212239, 0.6404763724394401, 0.6447458886015159, 0.6413361576522811, 0.6440674535122507, 0.6418847927477873, 0.6436323756433688]\n",
        "[0.35, 0.728, 0.6336512000000001, 0.7428395415633919, 0.6112926625705012, 0.7603646184254994, 0.5830728495108611, 0.7779164853572667, 0.5528397669333255, 0.7910654688973819, 0.528898857009751]\n"
       ]
      }
     ],
     "prompt_number": 11
    },
    {
     "cell_type": "heading",
     "level": 2,
     "metadata": {},
     "source": [
      "Diagrama de Cobweb"
     ]
    },
    {
     "cell_type": "markdown",
     "metadata": {},
     "source": [
      "El diagrama de **Cobweb** permite explorar de una manera visual los mapeos unidimensionales. En particular el comportamiento a largo plazo de los mapeos con cierta condici\u00f3n inicial."
     ]
    },
    {
     "cell_type": "markdown",
     "metadata": {},
     "source": [
      "El procedimiento es el siguiente:\n",
      "\n",
      "Sea una funci\u00f3n $f: \\mathbf{R} \\to \\mathbf{R}$, \n",
      "\n",
      "   1. Trace la diagonal $x = y$ y la curva $y=f(x)$.\n",
      "   2. Encuentre el punto en la curva con coordenada $x_0$, i.e. $(x_0, f(x_0))$\n",
      "   3. Trace la l\u00ednea horizontal del punto a la diagonal, i.e. del punto $(x_0, f(x_0)$ a $(f(x_0), f(x_0))$.\n",
      "   4. Trace la l\u00ednea vertical del punto de la diagonal, a la curva, i.e. del punto $(f(x_0), f(x_0))$ a $(f(x_0), f(f(x_0))$\n",
      "   5. Repita desde el paso 3.\n",
      "   "
     ]
    },
    {
     "cell_type": "markdown",
     "metadata": {},
     "source": [
      "<div class=\"alert alert-info\">\n",
      "**Ejercicio** Dibuja en una gr\u00e1fica `logistic_map`, como ejes usa $N_{n+1}$ y $N_n$, adem\u00e1s agrega la l\u00ednea $y = x$ en la misma gr\u00e1fica. \u00bfQu\u00e9 observas para los distintos valores de $r$? Graf\u00edcala junto a la gr\u00e1fica anterior.\n",
      "</div>"
     ]
    },
    {
     "cell_type": "markdown",
     "metadata": {},
     "source": [
      "<div class=\"alert alert-info\">\n",
      "**Ejercicio** Agrega los segmentos de l\u00ednea $(x_0, x_0), (x_0. f(x_0)), (f(x_0), f(x_0)), (f(x_0), f(f(x_0))), \\ldots$\n",
      "</div>"
     ]
    },
    {
     "cell_type": "code",
     "collapsed": false,
     "input": [
      "def cobweb(f, x0, N, r):\n",
      "    x = np.linspace(0, 1, 1000)\n",
      "    y = f(x, r)\n",
      "    plt.plot(x,x)\n",
      "    plt.plot(x,y)\n",
      "    for i in range(N):\n",
      "        x1 = f(x0, r)\n",
      "        plt.plot((x0, x1), (x1, x1))\n",
      "        plt.plot((x1, x1), (x1,f(x1, r)))\n",
      "        x0 = x1"
     ],
     "language": "python",
     "metadata": {},
     "outputs": [],
     "prompt_number": 27
    },
    {
     "cell_type": "code",
     "collapsed": false,
     "input": [
      "cobweb(logistic_map, .25, 20, .5)"
     ],
     "language": "python",
     "metadata": {},
     "outputs": [
      {
       "metadata": {},
       "output_type": "display_data",
       "png": "[encoded data removed]",
       "text": [
        "<matplotlib.figure.Figure at 0x7f1eafaab050>"
       ]
      }
     ],
     "prompt_number": 35
    },
    {
     "cell_type": "code",
     "collapsed": false,
     "input": [
      "cobweb(logistic_map, .25, 20, 1)"
     ],
     "language": "python",
     "metadata": {},
     "outputs": [
      {
       "metadata": {},
       "output_type": "display_data",
       "png": "[encoded data removed]",
       "text": [
        "<matplotlib.figure.Figure at 0x7f1eaf5d8e90>"
       ]
      }
     ],
     "prompt_number": 36
    },
    {
     "cell_type": "code",
     "collapsed": false,
     "input": [
      "cobweb(logistic_map, .25, 20, 1.5)"
     ],
     "language": "python",
     "metadata": {},
     "outputs": [
      {
       "metadata": {},
       "output_type": "display_data",
       "png": "[encoded data removed]",
       "text": [
        "<matplotlib.figure.Figure at 0x7f1eafab82d0>"
       ]
      }
     ],
     "prompt_number": 37
    },
    {
     "cell_type": "code",
     "collapsed": false,
     "input": [
      "cobweb(logistic_map, .25, 20, 2)"
     ],
     "language": "python",
     "metadata": {},
     "outputs": [
      {
       "metadata": {},
       "output_type": "display_data",
       "png": "[encoded data removed]",
       "text": [
        "<matplotlib.figure.Figure at 0x7f1eafca0910>"
       ]
      }
     ],
     "prompt_number": 38
    },
    {
     "cell_type": "code",
     "collapsed": false,
     "input": [
      "cobweb(logistic_map, .25, 20, 2.5)"
     ],
     "language": "python",
     "metadata": {},
     "outputs": [
      {
       "metadata": {},
       "output_type": "display_data",
       "png": "[encoded data removed]",
       "text": [
        "<matplotlib.figure.Figure at 0x7f1eaf8bc550>"
       ]
      }
     ],
     "prompt_number": 39
    },
    {
     "cell_type": "code",
     "collapsed": false,
     "input": [
      "cobweb(logistic_map, .25, 20, 3)"
     ],
     "language": "python",
     "metadata": {},
     "outputs": [
      {
       "metadata": {},
       "output_type": "display_data",
       "png": "[encoded data removed]",
       "text": [
        "<matplotlib.figure.Figure at 0x7f1eaf9b1690>"
       ]
      }
     ],
     "prompt_number": 40
    }
   ],
   "metadata": {}
  }
 ]
}