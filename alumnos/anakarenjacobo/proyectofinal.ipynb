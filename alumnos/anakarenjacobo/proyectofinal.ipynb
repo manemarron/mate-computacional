{
 "metadata": {
  "name": "",
  "signature": "sha256:7d7ee609c9fa4cd1f4b3523f0be36779f745992da85e4669df60fbaed06608ba"
 },
 "nbformat": 3,
 "nbformat_minor": 0,
 "worksheets": [
  {
   "cells": [
    {
     "cell_type": "markdown",
     "metadata": {},
     "source": [
      "#Tr\u00e1nsito"
     ]
    },
    {
     "cell_type": "markdown",
     "metadata": {},
     "source": [
      "** Problema**\n",
      "\n",
      "\n",
      "Modelaremos el tr\u00e1nsito de una calle como sigue:\n",
      "\n",
      "   1. Un arreglo unidimensional de longitud $s$ con condiciones de frontera peri\u00f3dicas. \n",
      "   2. En cada celda se codifica la existencia o no de un veh\u00edculo. Si no hay veh\u00edculo se utiliza un `-1`, si hay veh\u00edculo se representa con un entero $0, 1, 2, \\ldots, v_{max}$, donde $0$ significa que el veh\u00edculo est\u00e1 detenido.\n",
      "   3. La inicializaci\u00f3n y las reglas de actualizaci\u00f3n pueden variar, por ejemplo, una regla podr\u00eda ser la siguiente:\n",
      "    \n",
      "       Si la distancia $d$ al carro de adelante es menor que la velocidad del carro $v$ entonces disminuyo mi velocidad en $v_{nueva} = d - 1$, si no aumento mi velocidad en `1` (aunque menor que $v_{max}$.\n",
      "        \n",
      "       El carro actualiza su posici\u00f3n basado en su velocidad (i.e. se mueve hacia adelante $v_{nueva}$ espacios).\n",
      "        \n",
      "        \n",
      "Implementa las clases para la simulaci\u00f3n. Incluye visualizaci\u00f3n y animaci\u00f3n.\n",
      "\n",
      "Explora este universo. \u00bfEn qu\u00e9 condiciones aparecen los _embotellamientos_?\n",
      "\n",
      "Agrega sem\u00e1foros \u00bfEn que afecta la circulaci\u00f3n? \n",
      "\n",
      "\u00bfPuedes modelar una ciudad cuadr\u00edculada?\n",
      "\n",
      "\u00bfPuedes agregar diferentes comportamientos de conductores?\n",
      "    \n",
      "Muestra los datos y gr\u00e1ficas que soporten tus conclusiones.\n"
     ]
    },
    {
     "cell_type": "markdown",
     "metadata": {},
     "source": [
      "**Introducci\u00f3n**\n",
      "\n",
      "\n",
      "El prop\u00f3sito de este trabajo es modelar el tr\u00e1nsito de una ciudad, con ayuda de las herramientas que nos otorga la computadora, simularemos una calle en la cual los coches tendran ciertos comportamientos y en base a esos comportamientos se tendr\u00e1n m\u00e9todos que realicen las acciones adecuadas. \n",
      "Con esto podremos determinar cuales son las reglas de conductores \u00f3ptimas para no ocasionar embotellamientos, que duraci\u00f3n, o en que circunstancias se tienen que poner los sem\u00e1foros, as\u00ed mismo tendremos la oportunidad de compararlo con la realidad que actualmente se vive en el Distrito Federal.\n",
      "\n",
      "La simulaci\u00f3n del tr\u00e1fico siempre ha sido un problema de la vida real, debido a que cada conductor, cada calle, cada colonia tienen diferentes reglas y comportamientos, por lo que este proyecto esta dirigido a idealizar un mundo donde primero empezamos con una sola calle y la misma regla de conducta de los coches, posteriormente colocando sem\u00e1foros en la misma calle. Una vez que esto funciona, lo que se mostrara sera una ciudad cuadriculada, donde se puede dar vuelta (lo cual se hace aleatoriamente) pero con la misma regla de conducta. As\u00ed mismo se pondran sem\u00e1foros en la calle, y finalmente se combinaran diferentes comportamientos, tratando de simular un poco la realidad."
     ]
    },
    {
     "cell_type": "code",
     "collapsed": false,
     "input": [
      "%matplotlib inline\n",
      "%pylab inline\n",
      "import numpy as np\n",
      "import matplotlib.pyplot as plt\n",
      "import sympy\n",
      "import random\n",
      "import matplotlib.pyplot as plt"
     ],
     "language": "python",
     "metadata": {},
     "outputs": [
      {
       "output_type": "stream",
       "stream": "stdout",
       "text": [
        "Populating the interactive namespace from numpy and matplotlib\n"
       ]
      }
     ],
     "prompt_number": 1
    },
    {
     "cell_type": "markdown",
     "metadata": {},
     "source": [
      "**Explicaci\u00f3n de la clase \u00b4Trafico\u00b4**\n",
      "\n",
      "**Primera parte**\n",
      "En esta parte, escogimos algunos m\u00e9todos para poder modelar una ciudad, empezando por una sola calle la cual se cre\u00f3 de la siguiente manera:\n",
      "\n",
      "\n",
      "   1. El m\u00e9todo _creaMundo_ lo que hace es crear una matriz donde aleatoriamente se colocan coches en el tiempo cero, esta dado de forma aleatoria porque asi es como pasa en la vida real, hay veces que una calle esta llena y otras veces en la que no hay coches.\n",
      "   \n",
      "   2. El m\u00e9todo _siguienteCoche_ lo que hace es regresar un arreglo, que nos indica las posiciones en las que hay un coche, asi este arreglo ser\u00e1 usado en los siguientes m\u00e9todos.\n",
      "   \n",
      "   3. El m\u00e9todo _distancia_ nos ayuda a calcular el espacio que hay entre cada coche, para asi poder ver cuantos espacios se va a poder mover cada coche.\n",
      "   \n",
      "   4. El m\u00e9todo _actualiza_ tomando la distancia entre los coches, vemos la velocidad que deber\u00eda de tomar cada coche.\n",
      "   \n",
      "   5. El m\u00e9todo _graficaUno_ realiza las gr\u00e1ficas de cada tiempo, en las cuales se puede apreciar como se van moviendo los coches.\n",
      "\n",
      "\n",
      "**Segunda parte** \n",
      "En esta segunda parte, lo que estamos haciendo es colocar semaforos, que nos ayuden a regular el tr\u00e1nsito, creando los siguientes m\u00e9todos:\n",
      "\n",
      "\n",
      "   1. El m\u00e9todo _siguiente_Semaforo_ al igual que en la primera parte los coches se crean aleatoriamente, los sem\u00e1foros tambien se crean aleatoriamente. \n",
      "   \n",
      "   2. El m\u00e9todo _tiempo_Semaforo_ lo que hace es definir en que tiempos los semaforos estar\u00e1n encendidos.\n",
      "   \n",
      "   3. El m\u00e9todo _actualiza_Semaforo_ nos ayuda a evaluar la situaci\u00f3n de cada coche dependiendo que proximos se encuentren a un sem\u00e1foro.\n"
     ]
    },
    {
     "cell_type": "code",
     "collapsed": false,
     "input": [
      "class Trafico:\n",
      "    \n",
      "     \n",
      "    def __init__(self,t_max,v_max,s):\n",
      "        \n",
      "        self.t_max = t_max\n",
      "        self.v_max = v_max\n",
      "        self.s = s\n",
      "        self.posicion=[]\n",
      "        self.lugar_coche=[]\n",
      "        self.distancias=[]\n",
      "        self.semaforo=[]\n",
      "        self.sig_Semaforo=[]\n",
      "        \n",
      "        #matriz con la posicion de cada coche. Posiciones(i, j) es la posicion j al tiempo i inicializada en -1    \n",
      "        self.posicion = np.ones((self.t_max,self.s))*-1 \n",
      "        self.posicion = self.posicion.astype(np.int16)\n",
      "        \n",
      "    def printea(self):\n",
      "        print self.posicion\n",
      "    \n",
      "    def creaMundo(self):\n",
      "        #En t=0 ponemos la velocidad actual de cada coche random.\n",
      "        for i in range(self.s):\n",
      "            vacio = random.randint(-1,0)\n",
      "            if vacio==0:\n",
      "                self.posicion[0][i] =  random.randint(0,self.v_max)\n",
      "            else:\n",
      "                self.posicion[0][i] = -1\n",
      "        print self.posicion\n",
      "        \n",
      "    def siguienteCoche(self,t):\n",
      "        self.lugar_coche=[]\n",
      "        for i in range(self.s):\n",
      "            if self.posicion[t][i]!=-1:\n",
      "                self.lugar_coche.append(i)\n",
      "        return self.lugar_coche\n",
      "    \n",
      "     \n",
      "    def distancia(self):\n",
      "        self.distancias =[]\n",
      "        for i in range(len(self.lugar_coche)-1):\n",
      "            self.distancias.append(self.lugar_coche[i+1] - self.lugar_coche[i])\n",
      "            \n",
      "        self.distancias.append(self.s - self.lugar_coche[len(self.lugar_coche)-1] + self.lugar_coche[0] )#el \u00faltimo coche tiene distancia hasta s\n",
      "        return self.distancias\n",
      "            \n",
      "            \n",
      "    def actualiza(self,t):\n",
      "        #dada una distancia calcula la velocidad den el tiempo t+1\n",
      "        self.siguienteCoche(t)\n",
      "        self.distancia()\n",
      "        for i in range (len(self.distancias)):\n",
      "            if self.distancias[i]-1<=self.posicion[t][self.lugar_coche[i]]:\n",
      "                nueva_vel = self.distancias[i]-1\n",
      "            else:\n",
      "                nueva_vel = min(self.v_max, self.posicion[t][self.lugar_coche[i]] + 1)\n",
      "\n",
      "            self.posicion[t+1][(self.lugar_coche[i] + nueva_vel) % self.s] = nueva_vel\n",
      "                \n",
      "        return self.posicion\n",
      "    \n",
      "    def graficaUno(self):\n",
      "        fig, axes = plt.subplots(20, 1, figsize=(10,30))\n",
      "        \n",
      "        for i in range(self.t_max):\n",
      "            axes[i].scatter(self.siguienteCoche(i),self.siguienteCoche(i+1))\n",
      "    \n",
      "    def semaforo(self):\n",
      "        self.semaforo=[]\n",
      "        for i in range(s/10 + 1):\n",
      "            self.semaforo.append(random.randint(0,s-1))\n",
      "        self.semaforo=np.unique(self.semaforo)\n",
      "        return semaforo\n",
      "    \n",
      "    def siguiente_Semaforo():\n",
      "        self.siguiente_Semaforo=[]\n",
      "        j=0\n",
      "        for i in range(len(self.semaforo)):\n",
      "            while self.semaforo[i]>=self.lugar_coche[j] and j<len(self.lugar_coche):\n",
      "                self.siguiente_Semaforo[j]=self.semaforo[i]\n",
      "                j=j+1\n",
      "        for k in range(len(self.lugar_coche)-j):\n",
      "            semaforo[j+k+1]=self.semaforo[len(self.semaforo)-1]\n",
      "            \n",
      "    def actualiza_Semaforo(self, t):\n",
      "        self.siguienteCoche(t)\n",
      "        self.distancia()\n",
      "        self.semaforo()\n",
      "        self.siguiente_Semaforo()\n",
      "        for i in range (len(self.distancias)):\n",
      "            \n",
      "            if self.distancias[i]-1<=self.posicion[t][self.lugar_coche[i]]:\n",
      "                nueva_vel = self.distancias[i]-1\n",
      "            else:\n",
      "                nueva_vel = min(self.v_max, self.posicion[t][self.lugar_coche[i]] + 1)\n",
      "            nueva_vel= min(nueva_vel, self.sig_semaforo[i]-lugar_coche[i])\n",
      "            \n",
      "            self.posicion[t+1][(self.lugar_coche[i] + nueva_vel) % self.s] = nueva_vel\n",
      "                \n",
      "        return self.posicion\n",
      "            \n"
     ],
     "language": "python",
     "metadata": {},
     "outputs": [],
     "prompt_number": 43
    },
    {
     "cell_type": "code",
     "collapsed": false,
     "input": [
      "hola= Trafico(5, 6, 7)"
     ],
     "language": "python",
     "metadata": {},
     "outputs": [],
     "prompt_number": 32
    },
    {
     "cell_type": "code",
     "collapsed": false,
     "input": [
      "hola.creaMundo()"
     ],
     "language": "python",
     "metadata": {},
     "outputs": [
      {
       "output_type": "stream",
       "stream": "stdout",
       "text": [
        "[[ 1  1  4  4  0  3 -1]\n",
        " [-1 -1 -1 -1 -1 -1 -1]\n",
        " [-1 -1 -1 -1 -1 -1 -1]\n",
        " [-1 -1 -1 -1 -1 -1 -1]\n",
        " [-1 -1 -1 -1 -1 -1 -1]]\n"
       ]
      }
     ],
     "prompt_number": 33
    },
    {
     "cell_type": "code",
     "collapsed": false,
     "input": [
      "hola.siguienteCoche(0)"
     ],
     "language": "python",
     "metadata": {},
     "outputs": [
      {
       "metadata": {},
       "output_type": "pyout",
       "prompt_number": 34,
       "text": [
        "[0, 1, 2, 3, 4, 5]"
       ]
      }
     ],
     "prompt_number": 34
    },
    {
     "cell_type": "code",
     "collapsed": false,
     "input": [
      "hola.distancia()"
     ],
     "language": "python",
     "metadata": {},
     "outputs": [
      {
       "metadata": {},
       "output_type": "pyout",
       "prompt_number": 35,
       "text": [
        "[1, 1, 1, 1, 1, 2]"
       ]
      }
     ],
     "prompt_number": 35
    },
    {
     "cell_type": "markdown",
     "metadata": {},
     "source": [
      "** \u00bfQu\u00e9 se obtiene?**\n",
      "\n",
      "De acuerdo a la ejecuci\u00f3n de la primera parte se obtienen los siguientes resultados:\n",
      "\n",
      "   1. Nos damos cuenta que el comportamiento de los conductores va a depender de la cantidad de coches, dado que si la calle cuenta con pocos coches, estos siempre van a tener la oportunidad de seguir avanzando, en cambio si la calle esta muy saturada, los coches no tendran la oportunidad de avanzar y todos se quedaran en velocidad 0, es decir no estan avanzando. \n",
      "   \n",
      "   2. As\u00ed mismo nos damos cuenta que los embotellamientos al igual depende de la cantidad de coches, pero en este caso con la regla establecida los embotellamientos aparecen cuando ya no se tiene opci\u00f3n de seguir avanzando, lo cual detiene el tr\u00e1nsito."
     ]
    },
    {
     "cell_type": "markdown",
     "metadata": {},
     "source": [
      "** \u00bfQu\u00e9 se obtiene?**\n",
      "\n",
      "De acuerdo a la ejecuci\u00f3n de la segunda parte se obtienen los siguientes resultados:"
     ]
    },
    {
     "cell_type": "markdown",
     "metadata": {},
     "source": [
      "**\u00bfQu\u00e9 diferencias hay entre una calle sin sem\u00e1foro y una con sem\u00e1foro?**"
     ]
    },
    {
     "cell_type": "markdown",
     "metadata": {},
     "source": [
      "**Explicaci\u00f3n de la clase \u00b4ciudad\u00b4**"
     ]
    },
    {
     "cell_type": "code",
     "collapsed": false,
     "input": [
      "class Ciudad:\n",
      "    \n",
      "    \n",
      "    def __init__(self, v_max, h, s):\n",
      "        self.v_max= v_max\n",
      "        self.s=s\n",
      "        self.h=h\n",
      "        self.calle=[]\n",
      "        self.lugar_coche_fila=[]\n",
      "        self.lugar_coche_columna=[]\n",
      "        self.distancia_fila=[]\n",
      "        self.distancia_columna=[]\n",
      "        self.comp=[]\n",
      "        \n",
      "        self.calle= np.ones((self.h,self.s))*-1 \n",
      "        self.calle = self.calle.astype(np.int16)\n",
      "    \n",
      "    def creaMundo(self):\n",
      "        for i in range(self.h):\n",
      "            for j in range(self.s):\n",
      "                if i%3==0 or j%3==0:\n",
      "                    vacio = random.randint(-1,0)\n",
      "                    if vacio==0:\n",
      "                        self.calle[i][j] =  random.randint(0,self.v_max)\n",
      "                        \n",
      "                        \n",
      "    def imprime(self):\n",
      "        print self.calle\n",
      "    \n",
      "    def lugarCoche_fila(self, i):\n",
      "        self.lugar_coche_fila=[]\n",
      "        for j in range(self.s):\n",
      "            if self.calle[i][j]!=-1:\n",
      "                self.lugar_coche_fila.append(j)\n",
      "        return self.lugar_coche_fila\n",
      "    \n",
      "    def lugarCoche_columna(self, j):\n",
      "        self.lugar_coche_columna=[]\n",
      "        for i in range(self.h):\n",
      "            if self.calle[i][j]!=-1:\n",
      "                self.lugar_coche_columna.append(i)\n",
      "        return self.lugar_coche_columna\n",
      "    \n",
      "    \n",
      "    def distanciaFila(self):\n",
      "        self.distancia_fila=[]\n",
      "        for i in range(len(self.lugar_coche_fila) -1):\n",
      "            self.distancia_fila.append(self.lugar_coche_fila[i+1]- self.lugar_coche_fila[i])\n",
      "        self.distancia_fila.append(self.s - self.lugar_coche_fila[len(self.lugar_coche_fila)-1] + self.lugar_coche_fila[0])\n",
      "        return self.distancia_fila\n",
      "    \n",
      "        \n",
      "    def distanciaColumna(self):\n",
      "        self.distancia_columna=[]\n",
      "        for i in range(len(self.lugar_coche_columna) -1):\n",
      "            self.distancia_columna.append(self.lugar_coche_columna[i+1]- self.lugar_coche_columna[i])\n",
      "\n",
      "        self.distancia_columna.append(self.h - self.lugar_coche_columna[len(self.lugar_coche_columna)-1] + self.lugar_coche_columna[0])\n",
      "        return self.distancia_columna\n",
      "        \n",
      "    \n",
      "    def actualiza(self):\n",
      "        for i in range(self.h):\n",
      "            if i%3==0:\n",
      "                self.lugarCoche_fila(i)\n",
      "                self.distanciaFila()\n",
      "                for j in range (len(self.distancia_fila)):\n",
      "                    if self.distancia_fila[j]-1<=self.calle[i][self.lugar_coche_fila[j]]:\n",
      "                        nueva_vel = self.distancia_fila[j]-1\n",
      "                    else:\n",
      "                        nueva_vel = min(self.v_max, self.calle [i][self.lugar_coche_fila[j]] + 1)\n",
      "                    self.calle[i][self.lugar_coche_fila[j]]=-1\n",
      "                    self.calle[i][(self.lugar_coche_fila[j] + nueva_vel) % self.s] = nueva_vel\n",
      "  \n",
      "        for k in range(self.s):\n",
      "            if k%3==0:\n",
      "                self.lugarCoche_columna(k)\n",
      "                self.distanciaColumna()\n",
      "                for l in range (len(self.distancia_columna)):\n",
      "                    if self.distancia_columna[l]-1<=self.calle[self.lugar_coche_columna[l]][k]:\n",
      "                        nueva_vel = self.distancia_columna[l]-1\n",
      "                    else:\n",
      "                        nueva_vel = min(self.v_max, self.calle[self.lugar_coche_columna[l]][k] + 1)\n",
      "                    self.calle[self.lugar_coche_columna[l]][k]=-1\n",
      "                    self.calle[(self.lugar_coche_columna[l]+nueva_vel)%self.h][k] = nueva_vel\n",
      "            return self.calle\n",
      "    \n",
      "        \n",
      "    def actualizaSemaforos(self, t):\n",
      "        for i in range(self.h):\n",
      "            if i%3==0:\n",
      "                self.lugarCoche_fila(i)\n",
      "                self.distanciaFila()\n",
      "                for j in range (len(self.distancia_fila)):\n",
      "                    if self.distancia_fila[j]-1<=self.calle[i][self.lugar_coche_fila[j]]:\n",
      "                        nueva_vel = self.distancia_fila[j]-1\n",
      "                    else:\n",
      "                        nueva_vel = min(self.v_max, self.calle [i][self.lugar_coche_fila[j]] + 1)\n",
      "                    self.calle[i][self.lugar_coche_fila[j]]=-1\n",
      "                    if 0<=t%10<=4:\n",
      "                        nueva_vel= min(nueva_vel, (5-j)%5)\n",
      "                    self.calle[i][(self.lugar_coche_fila[j] + nueva_vel) % self.s] = nueva_vel\n",
      "                    \n",
      "        for k in range(self.s):\n",
      "            if k%3==0:\n",
      "                self.lugarCoche_columna(k)\n",
      "                self.distanciaColumna()\n",
      "                for l in range (len(self.distancia_columna)):\n",
      "                    if self.distancia_columna[l]-1<=self.calle[self.lugar_coche_columna[l]][k]:\n",
      "                        nueva_vel = self.distancia_columna[l]-1\n",
      "                    else:\n",
      "                        nueva_vel = min(self.v_max, self.calle[self.lugar_coche_columna[l]][k] + 1)\n",
      "                    self.calle[self.lugar_coche_columna[l]][k]=-1                \n",
      "                    if 5<=t%10<=9:\n",
      "                        nueva_vel= min(nueva_vel, (5-l)%5)\n",
      "                    self.calle[(self.lugar_coche_columna[l]+nueva_vel)%self.h][k] = nueva_vel\n",
      "                return self.calle\n",
      "            \n",
      "    \n",
      "    #regla 2: el coche siempre va a dejar minimo un espacio entre el y el otro coche\n",
      "    def actualizaEspacio(self, t):\n",
      "        for i in range(self.h):\n",
      "            if i%3==0:\n",
      "                self.lugarCoche_fila(i)\n",
      "                self.distanciaFila()\n",
      "                for j in range (len(self.distancia_fila)):\n",
      "                    if self.distancia_fila[j]-1<=self.calle[i][self.lugar_coche_fila[j]]:\n",
      "                        nueva_vel = self.distancia_fila[j]-2\n",
      "                    else:\n",
      "                        nueva_vel = min(self.v_max, self.calle [i][self.lugar_coche_fila[j]] + 1)\n",
      "                    self.calle[i][self.lugar_coche_fila[j]]=-1\n",
      "                    if 0<=t%10<=4:\n",
      "                        nueva_vel= min(nueva_vel, (5-j)%5)\n",
      "                    self.calle[i][(self.lugar_coche_fila[j] + nueva_vel) % self.s] = nueva_vel\n",
      "                    \n",
      "        for k in range(self.s):\n",
      "            if k%3==0:\n",
      "                self.lugarCoche_columna(k)\n",
      "                self.distanciaColumna()\n",
      "                for l in range (len(self.distancia_columna)):\n",
      "                    if self.distancia_columna[l]-1<=self.calle[self.lugar_coche_columna[l]][k]:\n",
      "                        nueva_vel = self.distancia_columna[l]-2\n",
      "                    else:\n",
      "                        nueva_vel = min(self.v_max, self.calle[self.lugar_coche_columna[l]][k] + 1)\n",
      "                    self.calle[self.lugar_coche_columna[l]][k]=-1                \n",
      "                    if 5<=t%10<=9:\n",
      "                        nueva_vel= min(nueva_vel, (5-l)%5)\n",
      "                    self.calle[(self.lugar_coche_columna[l]+nueva_vel)%self.h][k] = nueva_vel\n",
      "                return self.calle\n",
      "    \n",
      "    #regla 3: si la velocidad es mucho mas grande que la distanciael coche no podra frenar y \n",
      "    #chocara con el de enfrente. Los dos coches desaparecen.\n",
      "    def actualizaChoque(self, t):\n",
      "        for i in range(self.h):\n",
      "            if i%3==0:\n",
      "                self.lugarCoche_fila(i)\n",
      "                self.distanciaFila()\n",
      "                for j in range (len(self.distancia_fila)):\n",
      "                    if 2*self.distancia_fila[j]-1<=self.calle[i][self.lugar_coche_fila[j]]:\n",
      "                        nueva_vel=self.distancia[j]\n",
      "                        #choca con el siguiente coche y se convierte en -2\n",
      "                    else:\n",
      "                        if self.distancia_fila[j]-1<=self.calle[i][self.lugar_coche_fila[j]]:\n",
      "                            nueva_vel = self.distancia_fila[j]-1\n",
      "\n",
      "                        else:\n",
      "                            nueva_vel = min(self.v_max, self.calle [i][self.lugar_coche_fila[j]] + 1)\n",
      "                        self.calle[i][self.lugar_coche_fila[j]]=-1\n",
      "                        if 0<=t%10<=4:\n",
      "                            nueva_vel= min(nueva_vel, (5-j)%5)\n",
      "                        if self.calle[i][(self.lugar_coche_fila[j] + nueva_vel) % self.s]!=-1:\n",
      "                            self.calle[i][(self.lugar_coche_fila[j] + nueva_vel) % self.s]=-2\n",
      "                        else:\n",
      "                            self.calle[i][(self.lugar_coche_fila[j] + nueva_vel) % self.s] = nueva_vel\n",
      "                    \n",
      "        for k in range(self.s):\n",
      "            if k%3==0:\n",
      "                self.lugarCoche_columna(k)\n",
      "                self.distanciaColumna()\n",
      "                for l in range (len(self.distancia_columna)):\n",
      "                    if self.distancia_columna[l]-1<=self.calle[self.lugar_coche_columna[l]][k]:\n",
      "                        nueva_vel = self.distancia_columna[l]-1\n",
      "                    else:\n",
      "                        nueva_vel = min(self.v_max, self.calle[self.lugar_coche_columna[l]][k] + 1)\n",
      "                    self.calle[self.lugar_coche_columna[l]][k]=-1                \n",
      "                    if 5<=t%10<=9:\n",
      "                        nueva_vel= min(nueva_vel, (5-l)%5)\n",
      "                    self.calle[(self.lugar_coche_columna[l]+nueva_vel)%self.h][k] = nueva_vel\n",
      "                return self.calle\n",
      "            \n",
      "    def comportamientos(self, i):\n",
      "        self.comp=[]\n",
      "        self.lugarCoche_fila(i)\n",
      "        for i in range(len(self.lugar_coche_fila)):\n",
      "            self.comp.append(random.randint(0,3))\n",
      "        return self.comp\n",
      "     \n",
      "    def actualizaComportamientos(self, i, t):\n",
      "        self.lugarCoche_fila(i)\n",
      "        self.comportamientos(i)\n",
      "        for j in range(len(self.lugar_coche_fila)):\n",
      "            if self.comp[j]==0:\n",
      "                self.actualiza()\n",
      "            else:\n",
      "                if self.comp[j]==1:\n",
      "                    self.actualizaSemaforos(t)\n",
      "                else:\n",
      "                    if self.comp[j]==2:\n",
      "                       self.actualizaEspacios(t) \n",
      "                    else:\n",
      "                        self.actualizaChoque(t)"
     ],
     "language": "python",
     "metadata": {},
     "outputs": [],
     "prompt_number": 101
    },
    {
     "cell_type": "code",
     "collapsed": false,
     "input": [
      "obj= Ciudad(10,7,7)"
     ],
     "language": "python",
     "metadata": {},
     "outputs": [],
     "prompt_number": 102
    },
    {
     "cell_type": "code",
     "collapsed": false,
     "input": [
      "obj.creaMundo()"
     ],
     "language": "python",
     "metadata": {},
     "outputs": [],
     "prompt_number": 107
    },
    {
     "cell_type": "code",
     "collapsed": false,
     "input": [
      "obj.imprime()"
     ],
     "language": "python",
     "metadata": {},
     "outputs": [
      {
       "output_type": "stream",
       "stream": "stdout",
       "text": [
        "[[ 3  8  7 10 -1  3  4]\n",
        " [ 2 -1 -1  4 -1 -1 10]\n",
        " [ 2 -1 -1  6 -1 -1  5]\n",
        " [ 1 -1  4  6 -1  8  2]\n",
        " [ 2 -1 -1  8 -1 -1  9]\n",
        " [ 1 -1 -1 -1 -1 -1  2]\n",
        " [ 8 -1  8 -1 -1  6 -1]]\n"
       ]
      }
     ],
     "prompt_number": 108
    },
    {
     "cell_type": "code",
     "collapsed": false,
     "input": [
      "obj.comportamientos(0)"
     ],
     "language": "python",
     "metadata": {},
     "outputs": [
      {
       "metadata": {},
       "output_type": "pyout",
       "prompt_number": 109,
       "text": [
        "[3, 3, 1, 1, 3, 1]"
       ]
      }
     ],
     "prompt_number": 109
    },
    {
     "cell_type": "code",
     "collapsed": false,
     "input": [
      "    def comportamientos():\n",
      "        comp=[]\n",
      "        for i in range(20):\n",
      "            comp.append(random.randint(0,3))\n",
      "        return comp"
     ],
     "language": "python",
     "metadata": {},
     "outputs": [],
     "prompt_number": 94
    },
    {
     "cell_type": "code",
     "collapsed": false,
     "input": [
      "comportamientos()"
     ],
     "language": "python",
     "metadata": {},
     "outputs": [
      {
       "metadata": {},
       "output_type": "pyout",
       "prompt_number": 95,
       "text": [
        "[1, 0, 1, 1, 3, 2, 0, 1, 1, 0, 3, 2, 3, 0, 0, 1, 3, 2, 0, 2]"
       ]
      }
     ],
     "prompt_number": 95
    },
    {
     "cell_type": "code",
     "collapsed": false,
     "input": [],
     "language": "python",
     "metadata": {},
     "outputs": []
    }
   ],
   "metadata": {}
  }
 ]
}