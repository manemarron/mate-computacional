{
 "metadata": {
  "name": "",
  "signature": "sha256:3716a2a3c5ff6a8d99e00559fa14bafdf52443ed6d5c5abf9b09e2739c3d23ae"
 },
 "nbformat": 3,
 "nbformat_minor": 0,
 "worksheets": [
  {
   "cells": [
    {
     "cell_type": "heading",
     "level": 1,
     "metadata": {},
     "source": [
      "Tr\u00e1nsito"
     ]
    },
    {
     "cell_type": "markdown",
     "metadata": {},
     "source": [
      "** Problema**\n",
      "\n",
      "\n",
      "Modelaremos el tr\u00e1nsito de una calle como sigue:\n",
      "\n",
      "   1. Un arreglo unidimensional de longitud $s$ con condiciones de frontera peri\u00f3dicas. \n",
      "   2. En cada celda se codifica la existencia o no de un veh\u00edculo. Si no hay veh\u00edculo se utiliza un `-1`, si hay veh\u00edculo se representa con un entero $0, 1, 2, \\ldots, v_{max}$, donde $0$ significa que el veh\u00edculo est\u00e1 detenido.\n",
      "   3. La inicializaci\u00f3n y las reglas de actualizaci\u00f3n pueden variar, por ejemplo, una regla podr\u00eda ser la siguiente:\n",
      "    \n",
      "       Si la distancia $d$ al carro de adelante es menor que la velocidad del carro $v$ entonces disminuyo mi velocidad en $v_{nueva} = d - 1$, si no aumento mi velocidad en `1` (aunque menor que $v_{max}$.\n",
      "        \n",
      "       El carro actualiza su posici\u00f3n basado en su velocidad (i.e. se mueve hacia adelante $v_{nueva}$ espacios).\n",
      "        \n",
      "        \n",
      "Implementa las clases para la simulaci\u00f3n. Incluye visualizaci\u00f3n y animaci\u00f3n.\n",
      "\n",
      "Explora este universo. \u00bfEn qu\u00e9 condiciones aparecen los _embotellamientos_?\n",
      "\n",
      "Agrega sem\u00e1foros \u00bfEn que afecta la circulaci\u00f3n? \n",
      "\n",
      "\u00bfPuedes modelar una ciudad cuadr\u00edculada?\n",
      "\n",
      "\u00bfPuedes agregar diferentes comportamientos de conductores?\n",
      "    \n",
      "Muestra los datos y gr\u00e1ficas que soporten tus conclusiones."
     ]
    },
    {
     "cell_type": "markdown",
     "metadata": {},
     "source": [
      "**Introducci\u00f3n**\n",
      "\n",
      "El prop\u00f3sito de este trabajo es modelar el tr\u00e1nsito de una ciudad, con ayuda de las herramientas que nos otorga la computadora, simularemos una calle en la cual los coches tendran ciertos comportamientos y en base a esos comportamientos se tendr\u00e1n m\u00e9todos que realicen las acciones adecuadas. \n",
      "Con esto podremos determinar cuales son las reglas que los conductores deben adquirir para que estas sean \u00f3ptimas y as\u00ed evitar embotellamientos, que duraci\u00f3n, o en que circunstancias se tienen que poner los sem\u00e1foros, as\u00ed mismo tendremos la oportunidad de compararlo con la realidad que actualmente se vive en el Distrito Federal.\n",
      "\n",
      "\n",
      "La simulaci\u00f3n del tr\u00e1fico siempre ha sido un problema de la vida real, debido a que cada conductor, cada calle, cada colonia tienen diferentes reglas y comportamientos, por lo que este proyecto esta dirigido a idealizar un mundo donde primero empezamos con una sola calle y la misma regla de conducta de los coches, posteriormente colocando sem\u00e1foros en la misma calle. Una vez que esto funciona, lo que se mostrara sera una ciudad cuadriculada, donde se puede dar vuelta pero con la misma regla de conducta. As\u00ed mismo se pondran sem\u00e1foros en la calle, y finalmente se combinaran diferentes comportamientos, tratando de simular un poco la realidad."
     ]
    },
    {
     "cell_type": "code",
     "collapsed": false,
     "input": [
      "%matplotlib inline\n",
      "%pylab inline\n",
      "import numpy as np\n",
      "import matplotlib.pyplot as plt\n",
      "import sympy\n",
      "import random\n",
      "from IPython.html.widgets import interact, fixed\n",
      "from IPython.html import widgets"
     ],
     "language": "python",
     "metadata": {},
     "outputs": [
      {
       "output_type": "stream",
       "stream": "stdout",
       "text": [
        "Populating the interactive namespace from numpy and matplotlib\n"
       ]
      },
      {
       "output_type": "stream",
       "stream": "stderr",
       "text": [
        "WARNING: pylab import has clobbered these variables: ['random']\n",
        "`%matplotlib` prevents importing * from pylab and numpy\n"
       ]
      }
     ],
     "prompt_number": 112
    },
    {
     "cell_type": "heading",
     "level": 2,
     "metadata": {},
     "source": [
      "Explicaci\u00f3n de la clase \u00b4Trafico\u00b4"
     ]
    },
    {
     "cell_type": "markdown",
     "metadata": {},
     "source": [
      "**Primera parte**\n",
      "En esta parte, escogimos algunos m\u00e9todos para poder modelar una ciudad, empezando por una sola calle la cual se cre\u00f3 de la siguiente manera:\n",
      "\n",
      "\n",
      "   1. El m\u00e9todo _creaMundo_ lo que hace es crear una matriz donde aleatoriamente se colocan coches en el tiempo cero.\n",
      "   \n",
      "   2. El m\u00e9todo _siguienteCoche_ lo que hace es regresar un arreglo, que nos indica las posiciones en las que hay un coche, asi este arreglo ser\u00e1 usado en los siguientes m\u00e9todos.\n",
      "   \n",
      "   3. El m\u00e9todo _distancia_ nos ayuda a calcular el espacio que hay entre cada coche, para asi poder ver cuantos espacios se va a poder mover cada coche.\n",
      "   \n",
      "   4. El m\u00e9todo _actualiza_ tomando la distancia entre los coches, vemos la velocidad que deber\u00eda de tomar cada coche.\n",
      "\n",
      "\n",
      "**Segunda parte** \n",
      "En esta segunda parte, lo que estamos haciendo es colocar semaforos, que nos ayuden a regular el tr\u00e1nsito, creando los siguientes m\u00e9todos:\n",
      "\n",
      "\n",
      "   1. El m\u00e9todo _siguiente_Semaforo_ al igual que en la primera parte los coches se crean aleatoriamente, los sem\u00e1foros tambien se crean aleatoriamente. \n",
      "   \n",
      "   2. El m\u00e9todo _tiempo_Semaforo_ lo que hace es definir en que tiempos los semaforos estar\u00e1n encendidos.\n",
      "   \n",
      "   3. El m\u00e9todo _actualiza_Semaforo_ nos ayuda a evaluar la situaci\u00f3n de cada coche dependiendo que proximos se encuentren a un sem\u00e1foro.\n",
      "\n",
      "\n",
      "** Gr\u00e1ficas**\n",
      "Para realizar las gr\u00e1ficas creamos dos m\u00e9todos los cuales son:\n",
      "\n",
      "   1. El m\u00e9todo _MatrizTrafico_ lo que hace es juntar los vectores de cada tiempo actualizados, para crear una matriz.\n",
      "   2. El m\u00e9todo _Grafica_ lo que hace es usar la matriz creada en el m\u00e9todo anterior para graficar todos los tiempos.\n",
      "\n",
      "\n",
      "As\u00ed mismo, para la calle con sem\u00e1foros, los m\u00e9todos utilizados son similares, primero se crea la matrix y posteriomente se grafica cada tiempo."
     ]
    },
    {
     "cell_type": "code",
     "collapsed": false,
     "input": [
      "class Trafico:\n",
      "    \n",
      "     \n",
      "    def __init__(self,v_max,s):\n",
      "        \n",
      "        self.v_max = v_max\n",
      "        self.s = s\n",
      "        self.posicion=[]\n",
      "        self.lugar_coche=[]\n",
      "        self.distancias=[]\n",
      "        self.semaforo=[]\n",
      "        self.sig_Semaforo=[]\n",
      "        self.trafico=[]\n",
      "        \n",
      "    def printea(self):\n",
      "        print self.posicion\n",
      "    \n",
      "    def creaMundo(self):\n",
      "        #En t=0 ponemos la velocidad actual de cada coche random.\n",
      "        for i in range(self.s):\n",
      "            vacio = random.randint(-1,0)\n",
      "            if vacio==0:\n",
      "                self.posicion.append(random.randint(0,self.v_max))\n",
      "            else:\n",
      "                self.posicion.append(-1)\n",
      "        return self.posicion\n",
      "        \n",
      "    def siguienteCoche(self):\n",
      "        self.lugar_coche=[]\n",
      "        for i in range(self.s):\n",
      "            if self.posicion[i]!=-1:\n",
      "                self.lugar_coche.append(i)\n",
      "        return self.lugar_coche\n",
      "    \n",
      "     \n",
      "    def distancia(self):\n",
      "        self.distancias =[]\n",
      "        for i in range(len(self.lugar_coche)-1):\n",
      "            self.distancias.append(self.lugar_coche[i+1] - self.lugar_coche[i])\n",
      "            \n",
      "        self.distancias.append(self.s - self.lugar_coche[len(self.lugar_coche)-1] + self.lugar_coche[0] )#el \u00faltimo coche tiene distancia hasta s\n",
      "        return self.distancias\n",
      "            \n",
      "            \n",
      "    def actualiza(self):\n",
      "        #dada una distancia calcula la velocidad den el tiempo t+1\n",
      "        self.siguienteCoche()\n",
      "        self.distancia()\n",
      "        for i in range (len(self.distancias)):\n",
      "            if self.distancias[i]-1<=self.posicion[self.lugar_coche[i]]:\n",
      "                nueva_vel = self.distancias[i]-1\n",
      "            else:\n",
      "                nueva_vel = min(self.v_max, self.posicion[self.lugar_coche[i]] + 1)\n",
      "                \n",
      "            self.posicion[(self.lugar_coche[i])] = -1\n",
      "            self.posicion[(self.lugar_coche[i] + nueva_vel) % self.s] = nueva_vel\n",
      "                \n",
      "        return self.posicion\n",
      "    \n",
      "    def lugarSemaforo(self):\n",
      "        self.semaforo=[]\n",
      "        for i in range(self.s/10 +1):\n",
      "            self.semaforo.append(random.randint(0,self.s-1))\n",
      "        self.semaforo=np.unique(self.semaforo)\n",
      "        return self.semaforo\n",
      "    \n",
      "    def siguienteSemaforo(self):\n",
      "        self.siguienteCoche()\n",
      "        self.lugarSemaforo()\n",
      "        self.siguiente_Semaforo=[]        \n",
      "        for i in range(len(self.lugar_coche)):\n",
      "            self.siguiente_Semaforo.append(self.semaforo[0]) \n",
      "        k=0\n",
      "        for j in range (len(self.semaforo)):\n",
      "            while k<len(self.lugar_coche) and self.semaforo[j]>=self.lugar_coche[k]:\n",
      "                self.siguiente_Semaforo[k]=self.semaforo[j]\n",
      "                k=k+1\n",
      "        return self.siguiente_Semaforo\n",
      "        \n",
      "    #cada que actualiza calcula nuevos semaforos\n",
      "    def actualizaSemaforo(self, t):\n",
      "        self.siguienteCoche()\n",
      "        self.distancia()\n",
      "        self.lugarSemaforo()\n",
      "        self.siguienteSemaforo()\n",
      "        for i in range (len(self.distancias)):            \n",
      "            if self.distancias[i]-1<=self.posicion[self.lugar_coche[i]]:\n",
      "                nueva_vel = self.distancias[i]-1\n",
      "            else:\n",
      "                nueva_vel = min(self.v_max, self.posicion[self.lugar_coche[i]] + 1)\n",
      "            if 0<=t%10<=2: \n",
      "                #segundos 0, 1 y 2 estan en alto\n",
      "                distanciaSemaforo=self.siguiente_Semaforo[i]-self.lugar_coche[i]\n",
      "                if distanciaSemaforo<0:\n",
      "                    distanciaSemaforo=self.s-self.lugar_coche[i]+self.siguiente_Semaforo[i]\n",
      "                nueva_vel= min(nueva_vel, distanciaSemaforo)\n",
      "            self.posicion[(self.lugar_coche[i])] = -1\n",
      "            self.posicion[(self.lugar_coche[i] + nueva_vel) % self.s] = nueva_vel\n",
      "                \n",
      "        return self.posicion\n",
      "    \n",
      "    #Graficar sin semaforos.\n",
      "    def MatrizTrafico(self,t_max):\n",
      "        self.trafico = np.zeros((t_max,self.s))\n",
      "        for t in range(t_max):\n",
      "            vector = np.array(obj.actualiza())\n",
      "            for j in range(self.s):\n",
      "                self.trafico[t,j]= vector[j]\n",
      "        return self.trafico\n",
      "    \n",
      "    def Grafica(self,t_max,i):\n",
      "        A= self.MatrizTrafico(t_max)\n",
      "        print \"Actualizaciones del carril\"\n",
      "        print A\n",
      "        x=np.arange(0,self.s)\n",
      "        plt.ylim(-0.5, 20)\n",
      "        plt.scatter(x, A[i])\n",
      "        plt.show()\n",
      "        print A[i]\n",
      "        \n",
      "\n",
      "    #Graficar con sem\u00e1foros.\n",
      "    def MatrizTraficoSem(self,t_max):\n",
      "        self.trafico = np.zeros((t_max,self.s))\n",
      "        for t in range(t_max):\n",
      "            vector = np.array(obj.actualizaSemaforo(t))\n",
      "            for j in range(self.s):\n",
      "                self.trafico[t,j]= vector[j]\n",
      "        return self.trafico\n",
      "            \n",
      "    def GraficaSem(self,t_max,i):\n",
      "        A= self.MatrizTraficoSem(t_max)\n",
      "        print \"Actualizaciones del carril\"\n",
      "        print A\n",
      "        x=np.arange(0,self.s)\n",
      "        plt.ylim(-0.5, 20)\n",
      "        plt.scatter(x, A[i])\n",
      "        plt.show()\n",
      "        print A[i]      "
     ],
     "language": "python",
     "metadata": {},
     "outputs": [],
     "prompt_number": 106
    },
    {
     "cell_type": "code",
     "collapsed": false,
     "input": [
      "#M\u00e9todo para graficar y posteriormente utilizar un widgets\n",
      "def graficar(tiempo):\n",
      "    obj=Trafico(v_max, s)\n",
      "    obj.Grafica(t_max,tiempo)"
     ],
     "language": "python",
     "metadata": {},
     "outputs": [],
     "prompt_number": 107
    },
    {
     "cell_type": "code",
     "collapsed": false,
     "input": [
      "#M\u00e9todo para graficar y posteriormente utilizar un widgets\n",
      "def graficarSem(tiempo):\n",
      "    obj=Trafico(v_max, s)\n",
      "    obj.GraficaSem(t_max,tiempo)"
     ],
     "language": "python",
     "metadata": {},
     "outputs": [],
     "prompt_number": 108
    },
    {
     "cell_type": "markdown",
     "metadata": {},
     "source": [
      "**\u00bfQu\u00e9 esperamos de esta clase?**\n",
      "\n",
      "\n",
      "Se espera que al ejecutar el programa, no se hagan embotellamientos debido a choques porque por la condici\u00f3n inicial, nunca van a cochar, a pesar de eso creemos que pueden existir embotellamientos cuando hay coches parados."
     ]
    },
    {
     "cell_type": "heading",
     "level": 4,
     "metadata": {},
     "source": [
      "Ejemplos _Calle sin sem\u00e1foros_"
     ]
    },
    {
     "cell_type": "heading",
     "level": 5,
     "metadata": {},
     "source": [
      "Ejemplo 1"
     ]
    },
    {
     "cell_type": "code",
     "collapsed": false,
     "input": [
      "#velocidad maxima\n",
      "v_max=30\n",
      "#longitud de la calle\n",
      "s=20\n",
      "#tiempo que se va a actualizar\n",
      "t_max=100\n",
      "maximo = 100\n",
      "obj=Trafico(v_max, s)"
     ],
     "language": "python",
     "metadata": {},
     "outputs": [],
     "prompt_number": 109
    },
    {
     "cell_type": "code",
     "collapsed": false,
     "input": [
      "obj.creaMundo()"
     ],
     "language": "python",
     "metadata": {},
     "outputs": [
      {
       "metadata": {},
       "output_type": "pyout",
       "prompt_number": 110,
       "text": [
        "[-1, -1, 21, -1, 3, 13, -1, -1, -1, -1, 28, 30, 12, -1, 29, -1, 0, 24, -1, 1]"
       ]
      }
     ],
     "prompt_number": 110
    },
    {
     "cell_type": "code",
     "collapsed": false,
     "input": [
      "interact(graficar,t_max = maximo, tiempo = (0,maximo-1))"
     ],
     "language": "python",
     "metadata": {},
     "outputs": [
      {
       "output_type": "stream",
       "stream": "stdout",
       "text": [
        "Actualizaciones del carril\n",
        "[[-1.  2. -1. ..., -1.  1. -1.]\n",
        " [ 2. -1.  1. ...,  1. -1. -1.]\n",
        " [-1.  1.  0. ..., -1. -1.  2.]\n",
        " ..., \n",
        " [-1.  1. -1. ..., -1.  1.  0.]\n",
        " [ 1. -1. -1. ...,  1.  0. -1.]\n",
        " [-1. -1.  2. ...,  0. -1.  1.]]\n"
       ]
      },
      {
       "metadata": {},
       "output_type": "display_data",
       "png": "[encoded data removed]",
       "text": [
        "<matplotlib.figure.Figure at 0x69522f0>"
       ]
      },
      {
       "output_type": "stream",
       "stream": "stdout",
       "text": [
        "[ 2. -1.  1. -1.  1. -1.  1.  0. -1.  1. -1. -1.  2. -1.  1.  0. -1.  1.\n",
        " -1. -1.]\n"
       ]
      },
      {
       "metadata": {},
       "output_type": "pyout",
       "prompt_number": 111,
       "text": [
        "<function __main__.graficar>"
       ]
      }
     ],
     "prompt_number": 111
    },
    {
     "cell_type": "heading",
     "level": 6,
     "metadata": {},
     "source": [
      "Ejemplo 2"
     ]
    },
    {
     "cell_type": "code",
     "collapsed": false,
     "input": [
      "#velocidad maxima\n",
      "v_max=40\n",
      "#longitud de la calle\n",
      "s=50\n",
      "#tiempo que se va a actualizar\n",
      "t_max=150\n",
      "maximo = 150\n",
      "obj=Trafico(v_max, s)"
     ],
     "language": "python",
     "metadata": {},
     "outputs": [],
     "prompt_number": 66
    },
    {
     "cell_type": "code",
     "collapsed": false,
     "input": [
      "obj.creaMundo()"
     ],
     "language": "python",
     "metadata": {},
     "outputs": [
      {
       "metadata": {},
       "output_type": "pyout",
       "prompt_number": 67,
       "text": [
        "[20,\n",
        " 15,\n",
        " -1,\n",
        " -1,\n",
        " -1,\n",
        " 7,\n",
        " 24,\n",
        " -1,\n",
        " -1,\n",
        " -1,\n",
        " -1,\n",
        " 13,\n",
        " 35,\n",
        " -1,\n",
        " 7,\n",
        " 6,\n",
        " 12,\n",
        " -1,\n",
        " -1,\n",
        " 29,\n",
        " -1,\n",
        " -1,\n",
        " -1,\n",
        " 20,\n",
        " -1,\n",
        " 13,\n",
        " 34,\n",
        " 9,\n",
        " 35,\n",
        " -1,\n",
        " 12,\n",
        " 16,\n",
        " -1,\n",
        " -1,\n",
        " 15,\n",
        " -1,\n",
        " -1,\n",
        " 18,\n",
        " -1,\n",
        " 4,\n",
        " 40,\n",
        " -1,\n",
        " 0,\n",
        " 10,\n",
        " 40,\n",
        " 13,\n",
        " -1,\n",
        " -1,\n",
        " 40,\n",
        " -1]"
       ]
      }
     ],
     "prompt_number": 67
    },
    {
     "cell_type": "code",
     "collapsed": false,
     "input": [
      "interact(graficar,t_max = maximo, tiempo = (0,maximo-1))"
     ],
     "language": "python",
     "metadata": {},
     "outputs": [
      {
       "output_type": "stream",
       "stream": "stdout",
       "text": [
        "Actualizaciones del carril\n",
        "[[ 0. -1. -1. ...,  2. -1.  1.]\n",
        " [-1.  1. -1. ..., -1.  1.  0.]\n",
        " [ 1. -1. -1. ...,  2.  0. -1.]\n",
        " ..., \n",
        " [-1. -1.  2. ...,  0. -1.  1.]\n",
        " [-1.  2.  0. ..., -1.  1. -1.]\n",
        " [ 2.  0. -1. ...,  1. -1. -1.]]\n"
       ]
      },
      {
       "metadata": {},
       "output_type": "display_data",
       "png": "[encoded data removed]",
       "text": [
        "<matplotlib.figure.Figure at 0x63bc890>"
       ]
      },
      {
       "output_type": "stream",
       "stream": "stdout",
       "text": [
        "[ 3.  0.  0.  0. -1.  1.  0. -1.  1. -1. -1.  2. -1. -1.  2.  0. -1.  1.\n",
        "  0.  0.  0. -1.  1. -1. -1.  2.  0. -1.  1. -1. -1.  2. -1.  1. -1. -1.\n",
        "  2. -1. -1.  2.  0.  0. -1.  1. -1. -1.  2. -1. -1. -1.]\n"
       ]
      },
      {
       "metadata": {},
       "output_type": "pyout",
       "prompt_number": 68,
       "text": [
        "<function __main__.graficar>"
       ]
      }
     ],
     "prompt_number": 68
    },
    {
     "cell_type": "heading",
     "level": 6,
     "metadata": {},
     "source": [
      "Ejemplo 3"
     ]
    },
    {
     "cell_type": "code",
     "collapsed": false,
     "input": [
      "#velocidad maxima\n",
      "v_max=20\n",
      "#longitud de la calle\n",
      "s=30\n",
      "#tiempo que se va a actualizar\n",
      "t_max=70\n",
      "maximo = 70\n",
      "obj=Trafico(v_max, s)"
     ],
     "language": "python",
     "metadata": {},
     "outputs": [],
     "prompt_number": 69
    },
    {
     "cell_type": "code",
     "collapsed": false,
     "input": [
      "obj.creaMundo()"
     ],
     "language": "python",
     "metadata": {},
     "outputs": [
      {
       "metadata": {},
       "output_type": "pyout",
       "prompt_number": 70,
       "text": [
        "[-1,\n",
        " 7,\n",
        " -1,\n",
        " -1,\n",
        " -1,\n",
        " -1,\n",
        " -1,\n",
        " 17,\n",
        " 3,\n",
        " -1,\n",
        " -1,\n",
        " 2,\n",
        " 8,\n",
        " -1,\n",
        " -1,\n",
        " -1,\n",
        " -1,\n",
        " -1,\n",
        " -1,\n",
        " -1,\n",
        " -1,\n",
        " -1,\n",
        " -1,\n",
        " -1,\n",
        " -1,\n",
        " 1,\n",
        " -1,\n",
        " -1,\n",
        " -1,\n",
        " -1]"
       ]
      }
     ],
     "prompt_number": 70
    },
    {
     "cell_type": "code",
     "collapsed": false,
     "input": [
      "interact(graficar,t_max = maximo, tiempo = (0,maximo-1))"
     ],
     "language": "python",
     "metadata": {},
     "outputs": [
      {
       "output_type": "stream",
       "stream": "stdout",
       "text": [
        "Actualizaciones del carril\n",
        "[[-1. -1. -1. ...,  2. -1. -1.]\n",
        " [ 3. -1. -1. ..., -1. -1. -1.]\n",
        " [-1. -1. -1. ..., -1. -1.  3.]\n",
        " ..., \n",
        " [-1.  6. -1. ..., -1. -1. -1.]\n",
        " [ 6. -1. -1. ..., -1. -1. -1.]\n",
        " [-1. -1. -1. ..., -1. -1.  6.]]\n"
       ]
      },
      {
       "metadata": {},
       "output_type": "display_data",
       "png": "[encoded data removed]",
       "text": [
        "<matplotlib.figure.Figure at 0x65b8f10>"
       ]
      },
      {
       "output_type": "stream",
       "stream": "stdout",
       "text": [
        "[-1. -1. -1. -1.  6. -1. -1. -1. -1.  4. -1. -1.  2. -1. -1. -1.  3. -1.\n",
        " -1. -1. -1.  4. -1. -1. -1. -1. -1.  5. -1. -1.]\n"
       ]
      },
      {
       "metadata": {},
       "output_type": "pyout",
       "prompt_number": 71,
       "text": [
        "<function __main__.graficar>"
       ]
      }
     ],
     "prompt_number": 71
    },
    {
     "cell_type": "heading",
     "level": 6,
     "metadata": {},
     "source": [
      "Ejemplo 4"
     ]
    },
    {
     "cell_type": "code",
     "collapsed": false,
     "input": [
      "#velocidad maxima\n",
      "v_max=80\n",
      "#longitud de la calle\n",
      "s=75\n",
      "#tiempo que se va a actualizar\n",
      "t_max=200\n",
      "maximo = 200\n",
      "obj=Trafico(v_max, s)"
     ],
     "language": "python",
     "metadata": {},
     "outputs": [],
     "prompt_number": 29
    },
    {
     "cell_type": "code",
     "collapsed": false,
     "input": [
      "obj.creaMundo()"
     ],
     "language": "python",
     "metadata": {},
     "outputs": [
      {
       "metadata": {},
       "output_type": "pyout",
       "prompt_number": 30,
       "text": [
        "[-1,\n",
        " 60,\n",
        " -1,\n",
        " -1,\n",
        " 6,\n",
        " 55,\n",
        " 24,\n",
        " -1,\n",
        " 25,\n",
        " 68,\n",
        " 56,\n",
        " 38,\n",
        " -1,\n",
        " -1,\n",
        " 79,\n",
        " -1,\n",
        " 47,\n",
        " -1,\n",
        " -1,\n",
        " -1,\n",
        " -1,\n",
        " -1,\n",
        " 63,\n",
        " -1,\n",
        " -1,\n",
        " -1,\n",
        " 44,\n",
        " 5,\n",
        " -1,\n",
        " 33,\n",
        " 51,\n",
        " 45,\n",
        " 9,\n",
        " 78,\n",
        " -1,\n",
        " 65,\n",
        " 69,\n",
        " 42,\n",
        " 32,\n",
        " 39,\n",
        " -1,\n",
        " -1,\n",
        " -1,\n",
        " -1,\n",
        " 73,\n",
        " 79,\n",
        " -1,\n",
        " 51,\n",
        " -1,\n",
        " -1,\n",
        " 26,\n",
        " 36,\n",
        " -1,\n",
        " -1,\n",
        " -1,\n",
        " 58,\n",
        " 77,\n",
        " -1,\n",
        " -1,\n",
        " 34,\n",
        " -1,\n",
        " -1,\n",
        " -1,\n",
        " -1,\n",
        " 1,\n",
        " -1,\n",
        " 18,\n",
        " -1,\n",
        " -1,\n",
        " -1,\n",
        " 33,\n",
        " 77,\n",
        " -1,\n",
        " -1,\n",
        " 4]"
       ]
      }
     ],
     "prompt_number": 30
    },
    {
     "cell_type": "code",
     "collapsed": false,
     "input": [
      "interact(graficar,t_max = maximo, tiempo = (0,maximo-1))"
     ],
     "language": "python",
     "metadata": {},
     "outputs": [
      {
       "output_type": "stream",
       "stream": "stdout",
       "text": [
        "Actualizaciones del carril\n",
        "[[ 1. -1. -1. ..., -1.  2. -1.]\n",
        " [-1. -1.  2. ..., -1. -1.  1.]\n",
        " [-1.  2.  0. ..., -1.  2. -1.]\n",
        " ..., \n",
        " [-1. -1.  2. ..., -1. -1.  2.]\n",
        " [-1.  2.  0. ..., -1.  2. -1.]\n",
        " [ 2.  0. -1. ...,  2. -1. -1.]]\n"
       ]
      },
      {
       "metadata": {},
       "output_type": "display_data",
       "png": "[encoded data removed]",
       "text": [
        "<matplotlib.figure.Figure at 0x65a3b50>"
       ]
      },
      {
       "output_type": "stream",
       "stream": "stdout",
       "text": [
        "[-1. -1.  3. -1.  1.  0.  0.  0.  0. -1.  1.  0.  0.  0.  0. -1.  1. -1.\n",
        " -1.  2. -1. -1.  2. -1. -1.  2.  0. -1.  1. -1. -1.  2. -1.  1. -1. -1.\n",
        "  2. -1. -1. -1.  3. -1. -1. -1.  3. -1.  1. -1.  1. -1. -1.  2. -1. -1.\n",
        "  2.  0.  0. -1.  1.  0.  0.  0. -1.  1. -1. -1.  2. -1. -1.  2. -1. -1.\n",
        " -1.  3. -1.]\n"
       ]
      },
      {
       "metadata": {},
       "output_type": "pyout",
       "prompt_number": 31,
       "text": [
        "<function __main__.graficar>"
       ]
      }
     ],
     "prompt_number": 31
    },
    {
     "cell_type": "heading",
     "level": 6,
     "metadata": {},
     "source": [
      "Ejemplo 5"
     ]
    },
    {
     "cell_type": "code",
     "collapsed": false,
     "input": [
      "#velocidad maxima\n",
      "v_max=20\n",
      "#longitud de la calle\n",
      "s=10\n",
      "#tiempo que se va a actualizar\n",
      "t_max=30\n",
      "maximo = 30\n",
      "obj=Trafico(v_max, s)"
     ],
     "language": "python",
     "metadata": {},
     "outputs": [],
     "prompt_number": 32
    },
    {
     "cell_type": "code",
     "collapsed": false,
     "input": [
      "obj.creaMundo()"
     ],
     "language": "python",
     "metadata": {},
     "outputs": [
      {
       "metadata": {},
       "output_type": "pyout",
       "prompt_number": 33,
       "text": [
        "[15, -1, 12, -1, 7, -1, -1, -1, 2, 11]"
       ]
      }
     ],
     "prompt_number": 33
    },
    {
     "cell_type": "code",
     "collapsed": false,
     "input": [
      "interact(graficar,t_max = maximo, tiempo = (0,maximo-1))"
     ],
     "language": "python",
     "metadata": {},
     "outputs": [
      {
       "output_type": "stream",
       "stream": "stdout",
       "text": [
        "Actualizaciones del carril\n",
        "[[-1.  1. -1.  1. -1. -1.  2. -1.  1.  0.]\n",
        " [ 1. -1.  1. -1. -1.  2. -1.  1.  0. -1.]\n",
        " [-1.  1. -1. -1.  2. -1.  1.  0. -1.  1.]\n",
        " [ 1. -1. -1.  2. -1.  1.  0. -1.  1. -1.]\n",
        " [-1. -1.  2. -1.  1.  0. -1.  1. -1.  1.]\n",
        " [-1.  2. -1.  1.  0. -1.  1. -1.  1. -1.]\n",
        " [ 2. -1.  1.  0. -1.  1. -1.  1. -1. -1.]\n",
        " [-1.  1.  0. -1.  1. -1.  1. -1. -1.  2.]\n",
        " [ 1.  0. -1.  1. -1.  1. -1. -1.  2. -1.]\n",
        " [ 0. -1.  1. -1.  1. -1. -1.  2. -1.  1.]\n",
        " [-1.  1. -1.  1. -1. -1.  2. -1.  1.  0.]\n",
        " [ 1. -1.  1. -1. -1.  2. -1.  1.  0. -1.]\n",
        " [-1.  1. -1. -1.  2. -1.  1.  0. -1.  1.]\n",
        " [ 1. -1. -1.  2. -1.  1.  0. -1.  1. -1.]\n",
        " [-1. -1.  2. -1.  1.  0. -1.  1. -1.  1.]\n",
        " [-1.  2. -1.  1.  0. -1.  1. -1.  1. -1.]\n",
        " [ 2. -1.  1.  0. -1.  1. -1.  1. -1. -1.]\n",
        " [-1.  1.  0. -1.  1. -1.  1. -1. -1.  2.]\n",
        " [ 1.  0. -1.  1. -1.  1. -1. -1.  2. -1.]\n",
        " [ 0. -1.  1. -1.  1. -1. -1.  2. -1.  1.]\n",
        " [-1.  1. -1.  1. -1. -1.  2. -1.  1.  0.]\n",
        " [ 1. -1.  1. -1. -1.  2. -1.  1.  0. -1.]\n",
        " [-1.  1. -1. -1.  2. -1.  1.  0. -1.  1.]\n",
        " [ 1. -1. -1.  2. -1.  1.  0. -1.  1. -1.]\n",
        " [-1. -1.  2. -1.  1.  0. -1.  1. -1.  1.]\n",
        " [-1.  2. -1.  1.  0. -1.  1. -1.  1. -1.]\n",
        " [ 2. -1.  1.  0. -1.  1. -1.  1. -1. -1.]\n",
        " [-1.  1.  0. -1.  1. -1.  1. -1. -1.  2.]\n",
        " [ 1.  0. -1.  1. -1.  1. -1. -1.  2. -1.]\n",
        " [ 0. -1.  1. -1.  1. -1. -1.  2. -1.  1.]]\n"
       ]
      },
      {
       "metadata": {},
       "output_type": "display_data",
       "png": "[encoded data removed]",
       "text": [
        "<matplotlib.figure.Figure at 0x6621af0>"
       ]
      },
      {
       "output_type": "stream",
       "stream": "stdout",
       "text": [
        "[-1.  1. -1. -1.  2. -1.  1.  0. -1.  1.]\n"
       ]
      }
     ],
     "prompt_number": 34
    },
    {
     "cell_type": "heading",
     "level": 3,
     "metadata": {},
     "source": [
      "Resultados"
     ]
    },
    {
     "cell_type": "markdown",
     "metadata": {},
     "source": [
      "** \u00bfQu\u00e9 se obtiene de la primera parte?**\n",
      "\n",
      "De acuerdo a la ejecuci\u00f3n de la primera parte se obtienen los siguientes resultados:\n",
      "\n",
      "   1. Nos damos cuenta que el comportamiento de los conductores va a depender de la cantidad de coches, dado que si la calle cuenta con pocos coches, estos siempre van a tener la oportunidad de seguir avanzando, en cambio si la calle esta muy saturada, los coches no tendran la oportunidad de avanzar y todos se quedaran en velocidad 0, es decir no estan avanzando. \n",
      "   \n",
      "   2. As\u00ed mismo nos damos cuenta que los embotellamientos al igual depende de la cantidad de coches, pero en este caso con la regla establecida los embotellamientos aparecen cuando ya no se tiene opci\u00f3n de seguir avanzando, lo cual detiene el tr\u00e1nsito."
     ]
    },
    {
     "cell_type": "heading",
     "level": 4,
     "metadata": {},
     "source": [
      "Ejemplos _Calle con sem\u00e1foros_"
     ]
    },
    {
     "cell_type": "heading",
     "level": 6,
     "metadata": {},
     "source": [
      "Ejemplo 1"
     ]
    },
    {
     "cell_type": "code",
     "collapsed": false,
     "input": [
      "#velocidad maxima\n",
      "v_max=30\n",
      "#longitud de la calle\n",
      "s=20\n",
      "#tiempo que se va a actualizar\n",
      "t_max=100\n",
      "maximo = 100\n",
      "obj=Trafico(v_max, s)"
     ],
     "language": "python",
     "metadata": {},
     "outputs": [],
     "prompt_number": 75
    },
    {
     "cell_type": "code",
     "collapsed": false,
     "input": [
      "obj.creaMundo()"
     ],
     "language": "python",
     "metadata": {},
     "outputs": [
      {
       "metadata": {},
       "output_type": "pyout",
       "prompt_number": 76,
       "text": [
        "[5, 9, 8, 10, 30, -1, 16, 10, 0, -1, -1, -1, 4, 3, -1, -1, 13, -1, 7, 2]"
       ]
      }
     ],
     "prompt_number": 76
    },
    {
     "cell_type": "code",
     "collapsed": false,
     "input": [
      "interact(graficarSem,t_max = maximo, tiempo = (0,maximo-1))"
     ],
     "language": "python",
     "metadata": {},
     "outputs": [
      {
       "output_type": "stream",
       "stream": "stdout",
       "text": [
        "Actualizaciones del carril\n",
        "[[ 0.  0.  0. ...,  1.  0.  0.]\n",
        " [ 0.  0.  0. ...,  0.  0.  0.]\n",
        " [ 0.  0. -1. ...,  0.  0.  0.]\n",
        " ..., \n",
        " [-1.  1. -1. ...,  0.  0.  0.]\n",
        " [ 1. -1. -1. ...,  0.  0. -1.]\n",
        " [-1. -1.  2. ...,  0. -1.  1.]]\n"
       ]
      },
      {
       "metadata": {},
       "output_type": "display_data",
       "png": "[encoded data removed]",
       "text": [
        "<matplotlib.figure.Figure at 0x65b8cf0>"
       ]
      },
      {
       "output_type": "stream",
       "stream": "stdout",
       "text": [
        "[ 0.  0.  0. -1.  1. -1.  1. -1. -1.  2. -1.  1. -1.  1.  0. -1.  1.  0.\n",
        "  0.  0.]\n"
       ]
      },
      {
       "metadata": {},
       "output_type": "pyout",
       "prompt_number": 77,
       "text": [
        "<function __main__.graficarSem>"
       ]
      }
     ],
     "prompt_number": 77
    },
    {
     "cell_type": "heading",
     "level": 6,
     "metadata": {},
     "source": [
      "Ejemplo 2"
     ]
    },
    {
     "cell_type": "code",
     "collapsed": false,
     "input": [
      "#velocidad maxima\n",
      "v_max=120\n",
      "#longitud de la calle\n",
      "s=100\n",
      "#tiempo que se va a actualizar\n",
      "t_max=300\n",
      "maximo = 300\n",
      "obj=Trafico(v_max, s)"
     ],
     "language": "python",
     "metadata": {},
     "outputs": [],
     "prompt_number": 40
    },
    {
     "cell_type": "code",
     "collapsed": false,
     "input": [
      "obj.creaMundo()"
     ],
     "language": "python",
     "metadata": {},
     "outputs": [
      {
       "metadata": {},
       "output_type": "pyout",
       "prompt_number": 41,
       "text": [
        "[-1,\n",
        " -1,\n",
        " 70,\n",
        " 100,\n",
        " 65,\n",
        " -1,\n",
        " -1,\n",
        " -1,\n",
        " 37,\n",
        " 63,\n",
        " -1,\n",
        " -1,\n",
        " 53,\n",
        " 32,\n",
        " -1,\n",
        " -1,\n",
        " 98,\n",
        " -1,\n",
        " 37,\n",
        " 73,\n",
        " -1,\n",
        " 98,\n",
        " -1,\n",
        " -1,\n",
        " 108,\n",
        " 54,\n",
        " 117,\n",
        " 60,\n",
        " -1,\n",
        " 18,\n",
        " -1,\n",
        " 104,\n",
        " -1,\n",
        " -1,\n",
        " -1,\n",
        " 38,\n",
        " 118,\n",
        " 20,\n",
        " -1,\n",
        " 41,\n",
        " 80,\n",
        " -1,\n",
        " -1,\n",
        " -1,\n",
        " 44,\n",
        " -1,\n",
        " -1,\n",
        " -1,\n",
        " 57,\n",
        " 4,\n",
        " 108,\n",
        " -1,\n",
        " -1,\n",
        " 25,\n",
        " 24,\n",
        " -1,\n",
        " 94,\n",
        " 41,\n",
        " 65,\n",
        " -1,\n",
        " -1,\n",
        " -1,\n",
        " 107,\n",
        " -1,\n",
        " 40,\n",
        " 2,\n",
        " 101,\n",
        " -1,\n",
        " 56,\n",
        " 35,\n",
        " 72,\n",
        " -1,\n",
        " 27,\n",
        " -1,\n",
        " 36,\n",
        " 9,\n",
        " 115,\n",
        " 70,\n",
        " 65,\n",
        " -1,\n",
        " -1,\n",
        " -1,\n",
        " -1,\n",
        " -1,\n",
        " 59,\n",
        " -1,\n",
        " -1,\n",
        " -1,\n",
        " -1,\n",
        " 50,\n",
        " -1,\n",
        " -1,\n",
        " 11,\n",
        " -1,\n",
        " 25,\n",
        " 91,\n",
        " 58,\n",
        " -1,\n",
        " -1,\n",
        " -1]"
       ]
      }
     ],
     "prompt_number": 41
    },
    {
     "cell_type": "code",
     "collapsed": false,
     "input": [
      "interact(graficarSem,t_max = maximo, tiempo = (0,maximo-1))"
     ],
     "language": "python",
     "metadata": {},
     "outputs": [
      {
       "output_type": "stream",
       "stream": "stdout",
       "text": [
        "Actualizaciones del carril\n",
        "[[-1.  5.  0. ..., -1. -1. -1.]\n",
        " [-1.  0.  0. ..., -1. -1. -1.]\n",
        " [-1.  0. -1. ..., -1.  2. -1.]\n",
        " ..., \n",
        " [ 2.  0.  0. ...,  1. -1. -1.]\n",
        " [ 0.  0. -1. ..., -1. -1.  2.]\n",
        " [ 0. -1.  1. ..., -1.  2.  0.]]\n"
       ]
      },
      {
       "metadata": {},
       "output_type": "display_data",
       "png": "[encoded data removed]",
       "text": [
        "<matplotlib.figure.Figure at 0x66ce970>"
       ]
      },
      {
       "output_type": "stream",
       "stream": "stdout",
       "text": [
        "[-1.  1.  0. -1.  1.  0.  0. -1.  1. -1. -1.  2. -1. -1. -1.  3. -1.  1.\n",
        "  0.  0. -1.  1. -1. -1.  2. -1. -1.  2. -1.  1.  0. -1.  1. -1.  1. -1.\n",
        "  1.  0. -1.  1. -1.  1. -1. -1.  2.  0.  0. -1.  1.  0. -1.  1. -1. -1.\n",
        "  2.  0. -1.  1. -1. -1.  2. -1.  1.  0.  0. -1.  1. -1.  1. -1.  1. -1.\n",
        " -1.  2. -1. -1.  2. -1. -1.  2. -1. -1. -1.  3. -1. -1. -1. -1.  4. -1.\n",
        "  1.  0. -1.  1. -1.  1.  0. -1.  1.  0.]\n"
       ]
      },
      {
       "metadata": {},
       "output_type": "pyout",
       "prompt_number": 42,
       "text": [
        "<function __main__.graficarSem>"
       ]
      }
     ],
     "prompt_number": 42
    },
    {
     "cell_type": "heading",
     "level": 6,
     "metadata": {},
     "source": [
      "Ejemplo 3"
     ]
    },
    {
     "cell_type": "code",
     "collapsed": false,
     "input": [
      "#velocidad maxima\n",
      "v_max=30\n",
      "#longitud de la calle\n",
      "s=20\n",
      "#tiempo que se va a actualizar\n",
      "t_max=100\n",
      "maximo = 100\n",
      "obj=Trafico(v_max, s)"
     ],
     "language": "python",
     "metadata": {},
     "outputs": [],
     "prompt_number": 43
    },
    {
     "cell_type": "code",
     "collapsed": false,
     "input": [
      "obj.creaMundo()"
     ],
     "language": "python",
     "metadata": {},
     "outputs": [
      {
       "metadata": {},
       "output_type": "pyout",
       "prompt_number": 44,
       "text": [
        "[2, 28, 29, -1, -1, 14, -1, 5, -1, 29, 14, -1, 18, -1, 12, 24, 4, 17, -1, 9]"
       ]
      }
     ],
     "prompt_number": 44
    },
    {
     "cell_type": "code",
     "collapsed": false,
     "input": [
      "interact(graficarSem,t_max = maximo, tiempo = (0,maximo-1))"
     ],
     "language": "python",
     "metadata": {},
     "outputs": [
      {
       "output_type": "stream",
       "stream": "stdout",
       "text": [
        "Actualizaciones del carril\n",
        "[[ 0.  0. -1. ..., -1.  1.  0.]\n",
        " [ 0. -1.  1. ...,  1.  0.  0.]\n",
        " [-1.  1. -1. ...,  0.  0.  0.]\n",
        " ..., \n",
        " [-1.  2. -1. ..., -1.  1. -1.]\n",
        " [ 2. -1.  1. ...,  1. -1. -1.]\n",
        " [-1.  1. -1. ..., -1. -1.  2.]]\n"
       ]
      },
      {
       "metadata": {},
       "output_type": "display_data",
       "png": "[encoded data removed]",
       "text": [
        "<matplotlib.figure.Figure at 0x65d09b0>"
       ]
      },
      {
       "output_type": "stream",
       "stream": "stdout",
       "text": [
        "[-1.  1.  0. -1.  1. -1.  1.  0.  0. -1.  1.  0.  0.  0.  0. -1.  1. -1.\n",
        " -1.  2.]\n"
       ]
      },
      {
       "metadata": {},
       "output_type": "pyout",
       "prompt_number": 45,
       "text": [
        "<function __main__.graficarSem>"
       ]
      }
     ],
     "prompt_number": 45
    },
    {
     "cell_type": "heading",
     "level": 6,
     "metadata": {},
     "source": [
      "Ejemplo 4"
     ]
    },
    {
     "cell_type": "code",
     "collapsed": false,
     "input": [
      "#velocidad maxima\n",
      "v_max=45\n",
      "#longitud de la calle\n",
      "s=65\n",
      "#tiempo que se va a actualizar\n",
      "t_max=80\n",
      "maximo = 80\n",
      "obj=Trafico(v_max, s)"
     ],
     "language": "python",
     "metadata": {},
     "outputs": [],
     "prompt_number": 46
    },
    {
     "cell_type": "code",
     "collapsed": false,
     "input": [
      "obj.creaMundo()"
     ],
     "language": "python",
     "metadata": {},
     "outputs": [
      {
       "metadata": {},
       "output_type": "pyout",
       "prompt_number": 47,
       "text": [
        "[-1,\n",
        " -1,\n",
        " 23,\n",
        " 19,\n",
        " -1,\n",
        " 12,\n",
        " -1,\n",
        " -1,\n",
        " -1,\n",
        " -1,\n",
        " -1,\n",
        " -1,\n",
        " 1,\n",
        " 3,\n",
        " -1,\n",
        " 18,\n",
        " -1,\n",
        " -1,\n",
        " -1,\n",
        " 7,\n",
        " 4,\n",
        " 32,\n",
        " 12,\n",
        " 34,\n",
        " -1,\n",
        " 41,\n",
        " 22,\n",
        " 32,\n",
        " -1,\n",
        " -1,\n",
        " -1,\n",
        " 37,\n",
        " -1,\n",
        " 21,\n",
        " 17,\n",
        " 33,\n",
        " -1,\n",
        " -1,\n",
        " -1,\n",
        " -1,\n",
        " 38,\n",
        " -1,\n",
        " 8,\n",
        " 45,\n",
        " 41,\n",
        " 43,\n",
        " -1,\n",
        " 19,\n",
        " 10,\n",
        " -1,\n",
        " -1,\n",
        " -1,\n",
        " 15,\n",
        " -1,\n",
        " 43,\n",
        " -1,\n",
        " 19,\n",
        " -1,\n",
        " 41,\n",
        " 18,\n",
        " -1,\n",
        " 33,\n",
        " 21,\n",
        " 27,\n",
        " 7]"
       ]
      }
     ],
     "prompt_number": 47
    },
    {
     "cell_type": "code",
     "collapsed": false,
     "input": [
      "interact(graficarSem,t_max = maximo, tiempo = (0,maximo-1))"
     ],
     "language": "python",
     "metadata": {},
     "outputs": [
      {
       "output_type": "stream",
       "stream": "stdout",
       "text": [
        "Actualizaciones del carril\n",
        "[[-1.  2.  0. ...,  0.  0. -1.]\n",
        " [-1.  0. -1. ...,  0. -1.  1.]\n",
        " [ 1. -1.  1. ..., -1.  1. -1.]\n",
        " ..., \n",
        " [-1.  1. -1. ...,  1. -1.  1.]\n",
        " [ 1. -1. -1. ..., -1.  1. -1.]\n",
        " [-1. -1.  2. ...,  1. -1.  1.]]\n"
       ]
      },
      {
       "metadata": {},
       "output_type": "display_data",
       "png": "[encoded data removed]",
       "text": [
        "<matplotlib.figure.Figure at 0x6ae86d0>"
       ]
      },
      {
       "output_type": "stream",
       "stream": "stdout",
       "text": [
        "[-1. -1.  2.  0. -1.  1. -1. -1.  2.  0.  0. -1.  1.  0. -1.  1. -1.  1.\n",
        " -1. -1.  2. -1. -1.  2.  0.  0.  0.  0. -1.  1. -1.  1.  0. -1.  1. -1.\n",
        " -1.  2. -1. -1. -1.  3. -1. -1. -1. -1.  4. -1.  1.  0. -1.  1.  0.  0.\n",
        "  0.  0. -1.  1. -1. -1.  2. -1.  1. -1.  1.]\n"
       ]
      },
      {
       "metadata": {},
       "output_type": "pyout",
       "prompt_number": 48,
       "text": [
        "<function __main__.graficarSem>"
       ]
      }
     ],
     "prompt_number": 48
    },
    {
     "cell_type": "heading",
     "level": 6,
     "metadata": {},
     "source": [
      "Ejemplo 5"
     ]
    },
    {
     "cell_type": "code",
     "collapsed": false,
     "input": [
      "#velocidad maxima\n",
      "v_max=80\n",
      "#longitud de la calle\n",
      "s=150\n",
      "#tiempo que se va a actualizar\n",
      "t_max=200\n",
      "maximo = 200\n",
      "obj=Trafico(v_max, s)"
     ],
     "language": "python",
     "metadata": {},
     "outputs": [],
     "prompt_number": 49
    },
    {
     "cell_type": "code",
     "collapsed": false,
     "input": [
      "obj.creaMundo()"
     ],
     "language": "python",
     "metadata": {},
     "outputs": [
      {
       "metadata": {},
       "output_type": "pyout",
       "prompt_number": 50,
       "text": [
        "[80,\n",
        " 38,\n",
        " 18,\n",
        " 66,\n",
        " -1,\n",
        " 22,\n",
        " 35,\n",
        " -1,\n",
        " -1,\n",
        " 49,\n",
        " -1,\n",
        " -1,\n",
        " 43,\n",
        " -1,\n",
        " -1,\n",
        " -1,\n",
        " 79,\n",
        " 12,\n",
        " -1,\n",
        " 62,\n",
        " 72,\n",
        " 77,\n",
        " -1,\n",
        " -1,\n",
        " 44,\n",
        " -1,\n",
        " -1,\n",
        " -1,\n",
        " 10,\n",
        " 48,\n",
        " 34,\n",
        " 35,\n",
        " -1,\n",
        " -1,\n",
        " -1,\n",
        " 47,\n",
        " -1,\n",
        " -1,\n",
        " -1,\n",
        " -1,\n",
        " 67,\n",
        " -1,\n",
        " -1,\n",
        " 30,\n",
        " 38,\n",
        " 41,\n",
        " -1,\n",
        " 15,\n",
        " 58,\n",
        " 51,\n",
        " 51,\n",
        " 12,\n",
        " 18,\n",
        " -1,\n",
        " 9,\n",
        " 42,\n",
        " 63,\n",
        " -1,\n",
        " -1,\n",
        " 80,\n",
        " -1,\n",
        " -1,\n",
        " 41,\n",
        " 80,\n",
        " -1,\n",
        " 50,\n",
        " 29,\n",
        " 68,\n",
        " 60,\n",
        " -1,\n",
        " -1,\n",
        " 54,\n",
        " 44,\n",
        " -1,\n",
        " 66,\n",
        " -1,\n",
        " -1,\n",
        " 42,\n",
        " 47,\n",
        " 26,\n",
        " -1,\n",
        " -1,\n",
        " -1,\n",
        " -1,\n",
        " -1,\n",
        " 41,\n",
        " 45,\n",
        " 20,\n",
        " -1,\n",
        " -1,\n",
        " 28,\n",
        " -1,\n",
        " -1,\n",
        " 10,\n",
        " -1,\n",
        " 16,\n",
        " 60,\n",
        " 27,\n",
        " 5,\n",
        " -1,\n",
        " 66,\n",
        " -1,\n",
        " -1,\n",
        " 70,\n",
        " 6,\n",
        " -1,\n",
        " -1,\n",
        " 24,\n",
        " -1,\n",
        " 43,\n",
        " 77,\n",
        " 8,\n",
        " -1,\n",
        " -1,\n",
        " -1,\n",
        " -1,\n",
        " 25,\n",
        " -1,\n",
        " -1,\n",
        " 59,\n",
        " -1,\n",
        " 13,\n",
        " 58,\n",
        " -1,\n",
        " -1,\n",
        " -1,\n",
        " -1,\n",
        " -1,\n",
        " -1,\n",
        " -1,\n",
        " -1,\n",
        " 12,\n",
        " -1,\n",
        " 63,\n",
        " -1,\n",
        " -1,\n",
        " 79,\n",
        " 64,\n",
        " -1,\n",
        " -1,\n",
        " -1,\n",
        " 64,\n",
        " -1,\n",
        " 39,\n",
        " 79,\n",
        " 53,\n",
        " 19,\n",
        " -1,\n",
        " -1,\n",
        " -1]"
       ]
      }
     ],
     "prompt_number": 50
    },
    {
     "cell_type": "code",
     "collapsed": false,
     "input": [
      "interact(graficarSem,t_max = maximo, tiempo = (0,maximo-1))"
     ],
     "language": "python",
     "metadata": {},
     "outputs": [
      {
       "output_type": "stream",
       "stream": "stdout",
       "text": [
        "Actualizaciones del carril\n",
        "[[ 0.  0.  0. ..., -1. -1.  3.]\n",
        " [ 0.  0. -1. ..., -1. -1.  0.]\n",
        " [ 0. -1.  1. ..., -1.  2.  0.]\n",
        " ..., \n",
        " [ 0. -1.  1. ...,  0. -1.  1.]\n",
        " [-1.  1. -1. ..., -1.  1.  0.]\n",
        " [ 1. -1.  1. ...,  1.  0. -1.]]\n"
       ]
      },
      {
       "metadata": {},
       "output_type": "display_data",
       "png": "[encoded data removed]",
       "text": [
        "<matplotlib.figure.Figure at 0x69524d0>"
       ]
      },
      {
       "output_type": "stream",
       "stream": "stdout",
       "text": [
        "[-1. -1.  2. -1.  1. -1.  1. -1.  1. -1. -1.  2. -1. -1.  2. -1. -1. -1.\n",
        "  3.  0. -1.  1. -1.  1. -1.  1. -1. -1.  2.  0.  0. -1.  1. -1.  1.  0.\n",
        " -1.  1. -1.  1. -1. -1.  2. -1. -1. -1.  3. -1. -1. -1. -1.  4. -1.  1.\n",
        "  0. -1.  1. -1.  1. -1. -1.  2. -1.  1. -1.  1.  0.  0.  0. -1.  1.  0.\n",
        " -1.  1. -1. -1.  2. -1. -1.  2.  0. -1.  1. -1. -1.  2.  0.  0. -1.  1.\n",
        " -1. -1.  2. -1. -1. -1.  3. -1. -1. -1.  3. -1. -1.  2. -1.  1. -1. -1.\n",
        "  2. -1.  1.  0.  0.  0. -1.  1. -1.  1. -1.  1.  0.  0. -1.  1.  0. -1.\n",
        "  1.  0.  0. -1.  1. -1.  1.  0. -1.  1. -1.  1. -1.  1. -1.  1. -1.  1.\n",
        "  0. -1.  1. -1. -1.  2.]\n"
       ]
      },
      {
       "metadata": {},
       "output_type": "pyout",
       "prompt_number": 51,
       "text": [
        "<function __main__.graficarSem>"
       ]
      }
     ],
     "prompt_number": 51
    },
    {
     "cell_type": "heading",
     "level": 5,
     "metadata": {},
     "source": [
      "Ejemplo de una calle con y sin sem\u00e1foro"
     ]
    },
    {
     "cell_type": "heading",
     "level": 6,
     "metadata": {},
     "source": [
      "Ejemplo 1"
     ]
    },
    {
     "cell_type": "code",
     "collapsed": false,
     "input": [
      "#velocidad maxima\n",
      "v_max=20\n",
      "#longitud de la calle\n",
      "s=30\n",
      "#tiempo que se va a actualizar\n",
      "t_max=70\n",
      "maximo = 70\n",
      "obj=Trafico(v_max, s)"
     ],
     "language": "python",
     "metadata": {},
     "outputs": [],
     "prompt_number": 91
    },
    {
     "cell_type": "code",
     "collapsed": false,
     "input": [
      "obj.creaMundo()"
     ],
     "language": "python",
     "metadata": {},
     "outputs": [
      {
       "metadata": {},
       "output_type": "pyout",
       "prompt_number": 92,
       "text": [
        "[6,\n",
        " -1,\n",
        " 10,\n",
        " 9,\n",
        " 10,\n",
        " -1,\n",
        " -1,\n",
        " 15,\n",
        " 7,\n",
        " -1,\n",
        " 11,\n",
        " -1,\n",
        " -1,\n",
        " -1,\n",
        " -1,\n",
        " -1,\n",
        " -1,\n",
        " -1,\n",
        " 15,\n",
        " 13,\n",
        " -1,\n",
        " 2,\n",
        " -1,\n",
        " 10,\n",
        " -1,\n",
        " -1,\n",
        " 8,\n",
        " 12,\n",
        " 6,\n",
        " 18]"
       ]
      }
     ],
     "prompt_number": 92
    },
    {
     "cell_type": "code",
     "collapsed": false,
     "input": [
      "interact(graficar,t_max = maximo, tiempo = (0,maximo-1))"
     ],
     "language": "python",
     "metadata": {},
     "outputs": [
      {
       "output_type": "stream",
       "stream": "stdout",
       "text": [
        "Actualizaciones del carril\n",
        "[[-1.  1.  0. ...,  0.  0.  0.]\n",
        " [ 1.  0.  0. ...,  0.  0. -1.]\n",
        " [ 0.  0. -1. ...,  0. -1.  1.]\n",
        " ..., \n",
        " [ 1. -1.  1. ..., -1.  1. -1.]\n",
        " [-1.  1. -1. ...,  1. -1.  1.]\n",
        " [ 1. -1. -1. ..., -1.  1. -1.]]\n"
       ]
      },
      {
       "metadata": {},
       "output_type": "display_data",
       "png": "[encoded data removed]",
       "text": [
        "<matplotlib.figure.Figure at 0x6494a90>"
       ]
      },
      {
       "output_type": "stream",
       "stream": "stdout",
       "text": [
        "[-1.  1. -1.  1. -1.  1. -1. -1.  2. -1. -1. -1.  3. -1. -1. -1.  3. -1.\n",
        "  1. -1. -1.  2.  0.  0.  0.  0. -1.  1.  0.  0.]\n"
       ]
      },
      {
       "metadata": {},
       "output_type": "pyout",
       "prompt_number": 93,
       "text": [
        "<function __main__.graficar>"
       ]
      }
     ],
     "prompt_number": 93
    },
    {
     "cell_type": "code",
     "collapsed": false,
     "input": [
      "interact(graficarSem,t_max = maximo, tiempo = (0,maximo-1))"
     ],
     "language": "python",
     "metadata": {},
     "outputs": [
      {
       "output_type": "stream",
       "stream": "stdout",
       "text": [
        "Actualizaciones del carril\n",
        "[[-1. -1.  2. ..., -1. -1.  1.]\n",
        " [-1.  2. -1. ...,  1. -1. -1.]\n",
        " [-1. -1. -1. ..., -1. -1.  2.]\n",
        " ..., \n",
        " [ 1. -1. -1. ...,  1.  0. -1.]\n",
        " [-1. -1.  2. ...,  0. -1.  1.]\n",
        " [-1.  2. -1. ..., -1.  1. -1.]]\n"
       ]
      },
      {
       "metadata": {},
       "output_type": "display_data",
       "png": "[encoded data removed]",
       "text": [
        "<matplotlib.figure.Figure at 0x65a3b70>"
       ]
      },
      {
       "output_type": "stream",
       "stream": "stdout",
       "text": [
        "[-1.  1. -1.  1. -1. -1.  2. -1.  0.  0. -1.  1.  0. -1.  1. -1. -1.  2.\n",
        " -1. -1.  0.  0.  0. -1.  1. -1. -1.  2. -1.  1.]\n"
       ]
      },
      {
       "metadata": {},
       "output_type": "pyout",
       "prompt_number": 94,
       "text": [
        "<function __main__.graficarSem>"
       ]
      }
     ],
     "prompt_number": 94
    },
    {
     "cell_type": "heading",
     "level": 6,
     "metadata": {},
     "source": [
      "Ejemplo 2"
     ]
    },
    {
     "cell_type": "code",
     "collapsed": false,
     "input": [
      "#velocidad maxima\n",
      "v_max=30\n",
      "#longitud de la calle\n",
      "s=15\n",
      "#tiempo que se va a actualizar\n",
      "t_max=50\n",
      "maximo = 50\n",
      "obj=Trafico(v_max, s)"
     ],
     "language": "python",
     "metadata": {},
     "outputs": [],
     "prompt_number": 95
    },
    {
     "cell_type": "code",
     "collapsed": false,
     "input": [
      "obj.creaMundo()"
     ],
     "language": "python",
     "metadata": {},
     "outputs": [
      {
       "metadata": {},
       "output_type": "pyout",
       "prompt_number": 96,
       "text": [
        "[27, -1, -1, 19, 1, -1, 3, 20, -1, 12, 15, 3, 7, -1, 15]"
       ]
      }
     ],
     "prompt_number": 96
    },
    {
     "cell_type": "code",
     "collapsed": false,
     "input": [
      "interact(graficar,t_max = maximo, tiempo = (0,maximo-1))"
     ],
     "language": "python",
     "metadata": {},
     "outputs": [
      {
       "output_type": "stream",
       "stream": "stdout",
       "text": [
        "Actualizaciones del carril\n",
        "[[ 0. -1.  1. ..., -1.  1.  0.]\n",
        " [-1.  1.  0. ...,  1.  0.  0.]\n",
        " [ 1.  0. -1. ...,  0.  0. -1.]\n",
        " ..., \n",
        " [ 3. -1. -1. ..., -1. -1. -1.]\n",
        " [-1. -1.  2. ..., -1. -1.  3.]\n",
        " [-1.  2.  0. ..., -1.  3. -1.]]\n"
       ]
      },
      {
       "metadata": {},
       "output_type": "display_data",
       "png": "[encoded data removed]",
       "text": [
        "<matplotlib.figure.Figure at 0x676d870>"
       ]
      },
      {
       "output_type": "stream",
       "stream": "stdout",
       "text": [
        "[ 0. -1.  1.  0. -1.  1. -1.  1.  0. -1.  1. -1. -1.  2. -1. -1. -1.  3.\n",
        " -1. -1.  2.  0. -1.  1. -1.  1.  0. -1.  1. -1.  1. -1. -1.  2. -1.  1.\n",
        "  0. -1.  1. -1.  1. -1.  1.  0. -1.  1.  0. -1.  1.  0.]\n"
       ]
      }
     ],
     "prompt_number": 97
    },
    {
     "cell_type": "code",
     "collapsed": false,
     "input": [
      "interact(graficarSem,t_max = maximo, tiempo = (0,maximo-1))"
     ],
     "language": "python",
     "metadata": {},
     "outputs": [
      {
       "output_type": "stream",
       "stream": "stdout",
       "text": [
        "Actualizaciones del carril\n",
        "[[-1.  1.  0. ...,  0. -1.  0.]\n",
        " [ 1.  0.  0. ..., -1.  1. -1.]\n",
        " [ 0.  0. -1. ...,  1. -1.  1.]\n",
        " ..., \n",
        " [-1.  1.  0. ..., -1.  1.  0.]\n",
        " [ 1.  0.  0. ...,  1.  0. -1.]\n",
        " [ 0.  0. -1. ...,  0. -1.  1.]]\n"
       ]
      },
      {
       "metadata": {},
       "output_type": "display_data",
       "png": "[encoded data removed]",
       "text": [
        "<matplotlib.figure.Figure at 0x66210b0>"
       ]
      },
      {
       "output_type": "stream",
       "stream": "stdout",
       "text": [
        "[-1.  1.  0.  0. -1.  1. -1.  1. -1.  1.  0. -1.  1.  0. -1.  1. -1. -1.\n",
        "  2. -1. -1. -1.  3. -1.  1.  0.  0. -1.  1.  0. -1. -1.  0. -1.  1. -1.\n",
        "  1.  0. -1. -1.  1. -1.  1. -1. -1.  2.  0.  0. -1.  0.]\n"
       ]
      }
     ],
     "prompt_number": 98
    },
    {
     "cell_type": "heading",
     "level": 6,
     "metadata": {},
     "source": [
      "Ejemplo 3"
     ]
    },
    {
     "cell_type": "code",
     "collapsed": false,
     "input": [
      "#velocidad maxima\n",
      "v_max=70\n",
      "#longitud de la calle\n",
      "s=50\n",
      "#tiempo que se va a actualizar\n",
      "t_max=170\n",
      "maximo =170\n",
      "obj=Trafico(v_max, s)"
     ],
     "language": "python",
     "metadata": {},
     "outputs": [],
     "prompt_number": 99
    },
    {
     "cell_type": "code",
     "collapsed": false,
     "input": [
      "obj.creaMundo()"
     ],
     "language": "python",
     "metadata": {},
     "outputs": [
      {
       "metadata": {},
       "output_type": "pyout",
       "prompt_number": 100,
       "text": [
        "[7,\n",
        " 36,\n",
        " -1,\n",
        " 43,\n",
        " 61,\n",
        " 32,\n",
        " 44,\n",
        " -1,\n",
        " -1,\n",
        " -1,\n",
        " -1,\n",
        " -1,\n",
        " 35,\n",
        " 24,\n",
        " 41,\n",
        " -1,\n",
        " 60,\n",
        " 26,\n",
        " -1,\n",
        " 36,\n",
        " 22,\n",
        " -1,\n",
        " -1,\n",
        " 30,\n",
        " 1,\n",
        " -1,\n",
        " -1,\n",
        " -1,\n",
        " -1,\n",
        " -1,\n",
        " 68,\n",
        " 31,\n",
        " -1,\n",
        " 60,\n",
        " -1,\n",
        " 17,\n",
        " -1,\n",
        " 15,\n",
        " -1,\n",
        " -1,\n",
        " 36,\n",
        " 66,\n",
        " 57,\n",
        " -1,\n",
        " -1,\n",
        " 64,\n",
        " 63,\n",
        " 31,\n",
        " 60,\n",
        " -1]"
       ]
      }
     ],
     "prompt_number": 100
    },
    {
     "cell_type": "code",
     "collapsed": false,
     "input": [
      "interact(graficar,t_max = maximo, tiempo = (0,maximo-1))"
     ],
     "language": "python",
     "metadata": {},
     "outputs": [
      {
       "output_type": "stream",
       "stream": "stdout",
       "text": [
        "Actualizaciones del carril\n",
        "[[ 0. -1.  1. ...,  0. -1.  1.]\n",
        " [-1.  1.  0. ..., -1.  1.  0.]\n",
        " [ 1.  0.  0. ...,  1.  0. -1.]\n",
        " ..., \n",
        " [-1.  1.  0. ..., -1.  1.  0.]\n",
        " [ 1.  0. -1. ...,  1.  0. -1.]\n",
        " [ 0. -1.  1. ...,  0. -1.  1.]]\n"
       ]
      },
      {
       "metadata": {},
       "output_type": "display_data",
       "png": "[encoded data removed]",
       "text": [
        "<matplotlib.figure.Figure at 0x693c890>"
       ]
      },
      {
       "output_type": "stream",
       "stream": "stdout",
       "text": [
        "[ 1. -1.  1. -1. -1.  2.  0.  0. -1.  1. -1.  1.  0.  0. -1.  1.  0. -1.\n",
        "  1.  0.  0.  0. -1.  1. -1. -1.  2. -1. -1.  2. -1.  1.  0. -1.  1.  0.\n",
        " -1.  1. -1.  1. -1.  1. -1. -1.  2. -1. -1. -1.  3. -1.]\n"
       ]
      },
      {
       "metadata": {},
       "output_type": "pyout",
       "prompt_number": 101,
       "text": [
        "<function __main__.graficar>"
       ]
      }
     ],
     "prompt_number": 101
    },
    {
     "cell_type": "code",
     "collapsed": false,
     "input": [
      "interact(graficarSem,t_max = maximo, tiempo = (0,maximo-1))"
     ],
     "language": "python",
     "metadata": {},
     "outputs": [
      {
       "output_type": "stream",
       "stream": "stdout",
       "text": [
        "Actualizaciones del carril\n",
        "[[-1.  1.  0. ...,  0. -1. -1.]\n",
        " [-1.  0.  0. ..., -1.  1. -1.]\n",
        " [ 2.  0. -1. ...,  1. -1. -1.]\n",
        " ..., \n",
        " [-1.  2. -1. ..., -1.  2. -1.]\n",
        " [ 2. -1.  1. ...,  2. -1. -1.]\n",
        " [-1.  1.  0. ..., -1. -1.  2.]]\n"
       ]
      },
      {
       "metadata": {},
       "output_type": "display_data",
       "png": "[encoded data removed]",
       "text": [
        "<matplotlib.figure.Figure at 0x6aa2f70>"
       ]
      },
      {
       "output_type": "stream",
       "stream": "stdout",
       "text": [
        "[ 2. -1.  1. -1.  1. -1. -1.  2. -1.  1.  0.  0.  0.  0. -1.  1. -1. -1.\n",
        "  2. -1.  1.  0. -1.  1. -1. -1.  2. -1. -1.  2.  0. -1.  1.  0. -1.  1.\n",
        " -1.  1. -1.  1. -1. -1.  2.  0.  0.  0. -1.  1. -1. -1.]\n"
       ]
      }
     ],
     "prompt_number": 102
    },
    {
     "cell_type": "heading",
     "level": 3,
     "metadata": {},
     "source": [
      "Resultados"
     ]
    },
    {
     "cell_type": "markdown",
     "metadata": {},
     "source": [
      "** \u00bfQu\u00e9 se obtiene de la segunda parte?**\n",
      "\n",
      "De acuerdo a la ejecuci\u00f3n de la segunda parte se obtienen los siguientes resultados:\n",
      "\n",
      "  1. Al poner los sem\u00e1foros en una calle sin intersecciones nos damos cuenta que en vez de agilizar el tr\u00e1nsito lo que hace es volverlo m\u00e1s lento, dado que cada cierto tiempo los coches deben de frenar, y eso impide moverte a alg\u00fan lado.\n",
      "  2. Al igual que en la calle sin sem\u00e1foros los embotellamientos dependen de que tan llena este la calle."
     ]
    },
    {
     "cell_type": "heading",
     "level": 3,
     "metadata": {},
     "source": [
      "An\u00e1lisis de resultados"
     ]
    },
    {
     "cell_type": "markdown",
     "metadata": {},
     "source": [
      "**\u00bfQu\u00e9 diferencias hay entre una calle sin sem\u00e1foro y una con sem\u00e1foro?**\n",
      "\n",
      "Al comparar una calle sin sem\u00e1foro y una calle con sem\u00e1foro, nos podemos dar cuenta que cuando se tiene un sem\u00e1foro, el tr\u00e1nsito varia, nos podemos dar cuenta que el sem\u00e1foro en este caso no es productivo, dado que si una calle sin sem\u00e1foro esta llena de coches estos no avanzaran a pesar de que no hay sem\u00e1foros, pero si se tiene una calle con pocos coches un semaf\u00f3ro sigue siendo improductivo."
     ]
    },
    {
     "cell_type": "markdown",
     "metadata": {},
     "source": [
      "**\u00bfSe obtuvo lo mismo que se esperaba?**\n",
      "\n",
      "Podemos concluir que nuestras expectativas se acercaron mucho a lo que se trato de simular, dado que los coches no chocan, pero si causan embotellamiento cuando los coches est\u00e1n parados es decir velocidad cero, pero esto solo pasa si la calle esta saturada de coches. "
     ]
    },
    {
     "cell_type": "heading",
     "level": 2,
     "metadata": {},
     "source": [
      "Explicaci\u00f3n de la clase \u00b4ciudad\u00b4"
     ]
    },
    {
     "cell_type": "markdown",
     "metadata": {},
     "source": [
      "En esta clase, lo que tratamos de simular es una calle cuadriculada, formada por tres partes.\n",
      "\n",
      "**Primera parte**\n",
      "En esta parte lo que hacemos es una calle cuadriculada, con los siguientes m\u00e9todos:\n",
      "\n",
      "\n",
      "   1. El m\u00e9todo _creaMundo_ lo que hace es crear una matriz, de mxn en donde la primera columna se llena aleatoriamente; Para crear la cuadriculada, lo que hicimos fue asignar modulo 3 a las calles para que pudieran tener un carril.\n",
      "   2. El m\u00e9todo _lugarCoche_fila_ nos indica en que posiciones hay coches de acuerdo a la fila.\n",
      "   3. El m\u00e9todo _lugarCoche_columna_ nos indica en que posiciones hay coches de acuerdo a la columna. \n",
      "   4. El m\u00e9todo _distanciaFila_ calcula la distancia que hay entre cada coche de acuerdo a la fila, para despu\u00e9s poder ver cuantos lugares se podr\u00e1 mover en la fila.\n",
      "   5. El m\u00e9todo _distanciaColumna_ calcula la distancia que hay entre cada coche de acuerdo a la columna, para despu\u00e9s ver cuantos lugares de podr\u00e1 mover en la columna. \n",
      "   6. El m\u00e9todo _actualiza_ esta conformado por dos partes, la primera lo que hace es actualizar la fila, y despu\u00e9s actualizar la columna.\n",
      "   \n",
      "\n",
      "**Segunda parte** \n",
      "Aqui se programa la calle cuadriculada con sem\u00e1foros, teniendo los siguientes m\u00e9todos:\n",
      "\n",
      "   1. El m\u00e9todo _actualizaSemaforo_ coloca semaforos en cada 3 intersecciones, los cuales estar\u00e1n prendidos cierto tiempo, y apagados otro tiempo.\n",
      "   \n",
      "   \n",
      "**Tercera parte**\n",
      "En esta parte lo que se muestra son diferentes comportamientos, las reglas y m\u00e9todos usados son: \n",
      "\n",
      "   1. La primera regla:\n",
      "   2. La segunda regla: Lo que propone es que el conductor de ese coche siempre bva a dejar un espacio entre el coche de adelante y su coche. \n",
      "   3. La tercera regla: si la velocidad es mucho mas grande que la distancia el coche no podr\u00e1 frenar y chocar\u00e1 con el de enfrente. Los dos coches desaparecen.\n",
      "   4. Dadas esas reglas el m\u00e9todo _comportamientos_ lo que haces es otorgar aleatoriamente los comportamientos a los coches.\n",
      "   5. El m\u00e9todo _actualizaComportamientos_ lo que hace es actualizar la calle cuadriculada, primero fila y luego columna, de acuerdo a los distintos comportamientos que tienen los coches."
     ]
    },
    {
     "cell_type": "code",
     "collapsed": false,
     "input": [
      "class Ciudad:\n",
      "    \n",
      "    \n",
      "    def __init__(self, v_max, h, s):\n",
      "        self.v_max= v_max\n",
      "        self.s=s\n",
      "        self.h=h\n",
      "        self.calle=[]\n",
      "        self.lugar_coche_fila=[]\n",
      "        self.lugar_coche_columna=[]\n",
      "        self.distancia_fila=[]\n",
      "        self.distancia_columna=[]\n",
      "        self.comp=[]\n",
      "        \n",
      "        self.calle= np.ones((self.h,self.s))*-1 \n",
      "        self.calle = self.calle.astype(np.int16)\n",
      "    \n",
      "    #Primera parte\n",
      "    \n",
      "    def creaMundo(self):\n",
      "        for i in range(self.h):\n",
      "            for j in range(self.s):\n",
      "                if i%3==0 or j%3==0:\n",
      "                    vacio = random.randint(-1,0)\n",
      "                    if vacio==0:\n",
      "                        self.calle[i][j] =  random.randint(0,self.v_max)\n",
      "                        \n",
      "                        \n",
      "    def imprime(self):\n",
      "        print self.calle\n",
      "    \n",
      "    def lugarCoche_fila(self, i):\n",
      "        self.lugar_coche_fila=[]\n",
      "        for j in range(self.s):\n",
      "            if self.calle[i][j]!=-1:\n",
      "                self.lugar_coche_fila.append(j)\n",
      "        return self.lugar_coche_fila\n",
      "    \n",
      "    def lugarCoche_columna(self, j):\n",
      "        self.lugar_coche_columna=[]\n",
      "        for i in range(self.h):\n",
      "            if self.calle[i][j]!=-1:\n",
      "                self.lugar_coche_columna.append(i)\n",
      "        return self.lugar_coche_columna\n",
      "    \n",
      "    \n",
      "    def distanciaFila(self):\n",
      "        self.distancia_fila=[]\n",
      "        for i in range(len(self.lugar_coche_fila) -1):\n",
      "            self.distancia_fila.append(self.lugar_coche_fila[i+1]- self.lugar_coche_fila[i])\n",
      "        self.distancia_fila.append(self.s - self.lugar_coche_fila[len(self.lugar_coche_fila)-1] + self.lugar_coche_fila[0])\n",
      "        return self.distancia_fila\n",
      "    \n",
      "        \n",
      "    def distanciaColumna(self):\n",
      "        self.distancia_columna=[]\n",
      "        for i in range(len(self.lugar_coche_columna) -1):\n",
      "            self.distancia_columna.append(self.lugar_coche_columna[i+1]- self.lugar_coche_columna[i])\n",
      "\n",
      "        self.distancia_columna.append(self.h - self.lugar_coche_columna[len(self.lugar_coche_columna)-1] + self.lugar_coche_columna[0])\n",
      "        return self.distancia_columna\n",
      "        \n",
      "    \n",
      "    def actualiza(self):\n",
      "        for i in range(self.h):\n",
      "            if i%3==0:\n",
      "                self.lugarCoche_fila(i)\n",
      "                self.distanciaFila()\n",
      "                for j in range (len(self.distancia_fila)):\n",
      "                    if self.distancia_fila[j]-1<=self.calle[i][self.lugar_coche_fila[j]]:\n",
      "                        nueva_vel = self.distancia_fila[j]-1\n",
      "                    else:\n",
      "                        nueva_vel = min(self.v_max, self.calle [i][self.lugar_coche_fila[j]] + 1)\n",
      "                    self.calle[i][self.lugar_coche_fila[j]]=-1\n",
      "                    self.calle[i][(self.lugar_coche_fila[j] + nueva_vel) % self.s] = nueva_vel\n",
      "                    \n",
      "        for k in range(self.s):\n",
      "            if k%3==0:\n",
      "                self.lugarCoche_columna(k)\n",
      "                self.distanciaColumna()\n",
      "                for l in range (len(self.distancia_columna)):\n",
      "                    if self.distancia_columna[l]-1<=self.calle[self.lugar_coche_columna[l]][k]:\n",
      "                        nueva_vel = self.distancia_columna[l]-1\n",
      "                    else:\n",
      "                        nueva_vel = min(self.v_max, self.calle[self.lugar_coche_columna[l]][k] + 1)\n",
      "                    self.calle[self.lugar_coche_columna[l]][k]=-1\n",
      "                    self.calle[(self.lugar_coche_columna[l]+nueva_vel)%self.h][k] = nueva_vel\n",
      "        return self.calle\n",
      "    \n",
      "    #Segunda parte\n",
      "    \n",
      "    def actualizaSemaforos(self, t):\n",
      "        for i in range(self.h):\n",
      "            if i%3==0:\n",
      "                self.lugarCoche_fila(i)\n",
      "                self.distanciaFila()\n",
      "                for j in range (len(self.distancia_fila)):\n",
      "                    if self.distancia_fila[j]-1<=self.calle[i][self.lugar_coche_fila[j]]:\n",
      "                        nueva_vel = self.distancia_fila[j]-1\n",
      "                    else:\n",
      "                        nueva_vel = min(self.v_max, self.calle [i][self.lugar_coche_fila[j]] + 1)\n",
      "                    self.calle[i][self.lugar_coche_fila[j]]=-1\n",
      "                    if 0<=t%10<=4:\n",
      "                        nueva_vel= min(nueva_vel, (5-j)%5)\n",
      "                    self.calle[i][(self.lugar_coche_fila[j] + nueva_vel) % self.s] = nueva_vel\n",
      "                    \n",
      "        for k in range(self.s):\n",
      "            if k%3==0:\n",
      "                self.lugarCoche_columna(k)\n",
      "                self.distanciaColumna()\n",
      "                for l in range (len(self.distancia_columna)):\n",
      "                    if self.distancia_columna[l]-1<=self.calle[self.lugar_coche_columna[l]][k]:\n",
      "                        nueva_vel = self.distancia_columna[l]-1\n",
      "                    else:\n",
      "                        nueva_vel = min(self.v_max, self.calle[self.lugar_coche_columna[l]][k] + 1)\n",
      "                    self.calle[self.lugar_coche_columna[l]][k]=-1                \n",
      "                    if 5<=t%10<=9:\n",
      "                        nueva_vel= min(nueva_vel, (5-l)%5)\n",
      "                    self.calle[(self.lugar_coche_columna[l]+nueva_vel)%self.h][k] = nueva_vel\n",
      "                return self.calle\n",
      "            \n",
      "    #Tercera parte\n",
      "    \n",
      "    #Regla 2\n",
      "    def actualizaEspacioF(self, t):\n",
      "        for i in range(self.h):\n",
      "            if i%3==0:\n",
      "                self.lugarCoche_fila(i)\n",
      "                self.distanciaFila()\n",
      "                for j in range (len(self.distancia_fila)):\n",
      "                    if self.distancia_fila[j]-1<=self.calle[i][self.lugar_coche_fila[j]]:\n",
      "                        if self.distancia_fila[j]>1:\n",
      "                            nueva_vel = self.distancia_fila[j]-2\n",
      "                        else:\n",
      "                            nueva_vel=self.distancia_fila[j]-1\n",
      "                    else:\n",
      "                        nueva_vel = self.calle [i][self.lugar_coche_fila[j]]\n",
      "                    self.calle[i][self.lugar_coche_fila[j]]=-1\n",
      "                    if 0<=t%10<=4:\n",
      "                        nueva_vel= min(nueva_vel, (5-j)%5)\n",
      "                    self.calle[i][(self.lugar_coche_fila[j] + nueva_vel) % self.s] = nueva_vel           \n",
      "        for k in range(self.s):\n",
      "            if k%3==0:\n",
      "                self.lugarCoche_columna(k)\n",
      "                self.distanciaColumna()\n",
      "                for l in range (len(self.distancia_columna)):\n",
      "                    if self.distancia_columna[l]-1<=self.calle[self.lugar_coche_columna[l]][k]:\n",
      "                        if self.distancia_columna[l]>1:\n",
      "                            nueva_vel = self.distancia_columna[l]-2\n",
      "                        else:\n",
      "                            nueva_vel = self.distancia_columna[l]-2\n",
      "                    else:\n",
      "                        nueva_vel = self.calle[self.lugar_coche_columna[l]][k] \n",
      "                    self.calle[self.lugar_coche_columna[l]][k]=-1                \n",
      "                    if 5<=t%10<=9:\n",
      "                        nueva_vel= min(nueva_vel, (5-l)%5)\n",
      "                    self.calle[(self.lugar_coche_columna[l]+nueva_vel)%self.h][k] = nueva_vel\n",
      "        return self.calle\n",
      "    \n",
      "    #Regla 3: \n",
      "    def actualizaChoque(self, t):\n",
      "        for i in range(self.h):\n",
      "            if i%3==0:\n",
      "                self.lugarCoche_fila(i)\n",
      "                self.distanciaFila()\n",
      "                for j in range (len(self.distancia_fila)):\n",
      "                    if 2*self.distancia_fila[j]-1<=self.calle[i][self.lugar_coche_fila[j]]:\n",
      "                        nueva_vel=self.distancia[j]\n",
      "                        #choca con el siguiente coche y se convierte en -2\n",
      "                    else:\n",
      "                        if self.distancia_fila[j]-1<=self.calle[i][self.lugar_coche_fila[j]]:\n",
      "                            nueva_vel = self.distancia_fila[j]-1\n",
      "\n",
      "                        else:\n",
      "                            nueva_vel = min(self.v_max, self.calle [i][self.lugar_coche_fila[j]] + 1)\n",
      "                        self.calle[i][self.lugar_coche_fila[j]]=-1\n",
      "                        if 0<=t%10<=4:\n",
      "                            nueva_vel= min(nueva_vel, (5-j)%5)\n",
      "                        if self.calle[i][(self.lugar_coche_fila[j] + nueva_vel) % self.s]!=-1:\n",
      "                            self.calle[i][(self.lugar_coche_fila[j] + nueva_vel) % self.s]=-2\n",
      "                        else:\n",
      "                            self.calle[i][(self.lugar_coche_fila[j] + nueva_vel) % self.s] = nueva_vel\n",
      "                    \n",
      "        for k in range(self.s):\n",
      "            if k%3==0:\n",
      "                self.lugarCoche_columna(k)\n",
      "                self.distanciaColumna()\n",
      "                for l in range (len(self.distancia_columna)):\n",
      "                    if self.distancia_columna[l]-1<=self.calle[self.lugar_coche_columna[l]][k]:\n",
      "                        nueva_vel = self.distancia_columna[l]-1\n",
      "                    else:\n",
      "                        nueva_vel = min(self.v_max, self.calle[self.lugar_coche_columna[l]][k] + 1)\n",
      "                    self.calle[self.lugar_coche_columna[l]][k]=-1                \n",
      "                    if 5<=t%10<=9:\n",
      "                        nueva_vel= min(nueva_vel, (5-l)%5)\n",
      "                    self.calle[(self.lugar_coche_columna[l]+nueva_vel)%self.h][k] = nueva_vel\n",
      "                return self.calle\n",
      "            \n",
      "    def comportamientos(self, i):\n",
      "        self.comp=[]\n",
      "        self.lugarCoche_fila(i)\n",
      "        for i in range(len(self.lugar_coche_fila)):\n",
      "            self.comp.append(random.randint(0,3))\n",
      "        return self.comp\n",
      "     \n",
      "    def actualizaComportamientos(self, i, t):\n",
      "        self.lugarCoche_fila(i)\n",
      "        self.comportamientos(i)\n",
      "        for j in range(len(self.lugar_coche_fila)):\n",
      "            if self.comp[j]==0:\n",
      "                self.actualiza()\n",
      "            else:\n",
      "                if self.comp[j]==1:\n",
      "                    self.actualizaSemaforos(t)\n",
      "                else:\n",
      "                    if self.comp[j]==2:\n",
      "                       self.actualizaEspacios(t) \n",
      "                    else:\n",
      "                        self.actualizaChoque(t)"
     ],
     "language": "python",
     "metadata": {},
     "outputs": [],
     "prompt_number": 52
    },
    {
     "cell_type": "markdown",
     "metadata": {},
     "source": [
      "**\u00bfQu\u00e9 esperamos de esta clase?**\n",
      "\n",
      "De la calle cuadriculada, esperamos que los coches puedan dar vuelta o seguir derecho, una vez que se establecen los sem\u00e1foros esperamos que el tr\u00e1fico se regule dado que le dara paso a las filas cierto tiempo y a las columnas cierto tiempo.\n",
      "\n",
      "De los comportamientos esperamos que unos sean muchos m\u00e1s agresivos que los otros, dado que ahora los conductores no tienen la misma regla de tr\u00e1nsito esperamos que se originen muchos embotellamientos."
     ]
    },
    {
     "cell_type": "heading",
     "level": 5,
     "metadata": {},
     "source": [
      "Ejemplos"
     ]
    },
    {
     "cell_type": "code",
     "collapsed": false,
     "input": [
      "obj1= Ciudad(10,7,7)"
     ],
     "language": "python",
     "metadata": {},
     "outputs": [],
     "prompt_number": 113
    },
    {
     "cell_type": "code",
     "collapsed": false,
     "input": [
      "obj1.creaMundo()\n",
      "obj1.imprime()"
     ],
     "language": "python",
     "metadata": {},
     "outputs": [
      {
       "output_type": "stream",
       "stream": "stdout",
       "text": [
        "[[-1 -1 -1 -1  7  6 -1]\n",
        " [ 9 -1 -1 -1 -1 -1  0]\n",
        " [-1 -1 -1 -1 -1 -1  1]\n",
        " [-1  0 -1 -1  1  5 -1]\n",
        " [-1 -1 -1  2 -1 -1  8]\n",
        " [10 -1 -1  9 -1 -1 10]\n",
        " [-1  3 -1 -1  0 -1 -1]]\n"
       ]
      }
     ],
     "prompt_number": 114
    },
    {
     "cell_type": "code",
     "collapsed": false,
     "input": [
      "t_max=5\n",
      "t=0\n",
      "while t<t_max:\n",
      "    obj1.actualiza()\n",
      "    obj1.imprime()\n",
      "    t=t+1"
     ],
     "language": "python",
     "metadata": {},
     "outputs": [
      {
       "output_type": "stream",
       "stream": "stdout",
       "text": [
        "[[ 2 -1 -1 -1  0 -1  2]\n",
        " [-1 -1 -1 -1 -1 -1  0]\n",
        " [ 1 -1 -1 -1 -1 -1 -1]\n",
        " [-1 -1  1  3  0 -1  1]\n",
        " [ 1 -1 -1  0 -1 -1  0]\n",
        " [-1 -1 -1  0 -1 -1 -1]\n",
        " [-1 -1 -1  0 -1  1 -1]]\n",
        "[[-1 -1 -1 -1 -1  1  0]\n",
        " [ 2 -1 -1 -1 -1 -1 -1]\n",
        " [-1 -1 -1  2 -1 -1  1]\n",
        " [ 1  2  0  0 -1  1 -1]\n",
        " [-1 -1 -1  0 -1 -1 -1]\n",
        " [ 1 -1 -1 -1 -1 -1  1]\n",
        " [-1 -1 -1  1  1 -1 -1]]\n",
        "[[ 0 -1 -1  1 -1  0 -1]\n",
        " [-1 -1 -1 -1 -1 -1  2]\n",
        " [ 1 -1 -1 -1 -1 -1  0]\n",
        " [-1  0  0  1  1 -1 -1]\n",
        " [ 1 -1 -1 -1 -1 -1  1]\n",
        " [-1 -1 -1  1 -1 -1  0]\n",
        " [ 1 -1 -1 -1 -1 -1 -1]]\n",
        "[[-1  1 -1  2  1 -1  0]\n",
        " [-1 -1 -1 -1 -1 -1  0]\n",
        " [-1 -1 -1 -1 -1 -1  0]\n",
        " [ 1  0  0 -1 -1 -1  0]\n",
        " [-1 -1 -1  1 -1 -1  0]\n",
        " [-1 -1 -1 -1 -1 -1 -1]\n",
        " [ 2 -1  2 -1 -1 -1  1]]\n",
        "[[-1 -1  1 -1 -1  1  1]\n",
        " [-1 -1 -1  1 -1 -1  0]\n",
        " [ 2 -1 -1 -1 -1 -1  0]\n",
        " [-1  0 -1  0 -1 -1  0]\n",
        " [ 1 -1 -1 -1 -1 -1 -1]\n",
        " [-1 -1 -1 -1 -1 -1  1]\n",
        " [-1  1 -1  2 -1  3 -1]]\n"
       ]
      }
     ],
     "prompt_number": 115
    },
    {
     "cell_type": "code",
     "collapsed": false,
     "input": [
      "#semaforos\n",
      "t_max=5\n",
      "t=0\n",
      "while t<t_max:\n",
      "    obj1.actualizaSemaforos(t)\n",
      "    obj1.imprime()\n",
      "    t=t+1"
     ],
     "language": "python",
     "metadata": {},
     "outputs": [
      {
       "output_type": "stream",
       "stream": "stdout",
       "text": [
        "[[-1  2  0 -1 -1  0 -1]\n",
        " [ 2 -1 -1  1 -1 -1  0]\n",
        " [ 0 -1 -1 -1 -1 -1  0]\n",
        " [ 0  0 -1 -1  1 -1 -1]\n",
        " [-1 -1 -1 -1 -1 -1 -1]\n",
        " [ 1 -1 -1 -1 -1 -1  1]\n",
        " [-1  0 -1 -1  1 -1 -1]]\n",
        "[[ 2  0 -1  1 -1 -1  1]\n",
        " [ 0 -1 -1  1 -1 -1  0]\n",
        " [ 0 -1 -1 -1 -1 -1  0]\n",
        " [-1 -1  1 -1 -1 -1  2]\n",
        " [ 1 -1 -1 -1 -1 -1 -1]\n",
        " [-1 -1 -1 -1 -1 -1  1]\n",
        " [-1  0 -1 -1 -1 -1  2]]\n",
        "[[ 0 -1  1 -1 -1  2  0]\n",
        " [ 0 -1 -1  1 -1 -1  0]\n",
        " [-1 -1 -1 -1 -1 -1  0]\n",
        " [ 1  2  0 -1 -1 -1 -1]\n",
        " [-1 -1 -1 -1 -1 -1 -1]\n",
        " [ 1 -1 -1 -1 -1 -1  1]\n",
        " [ 0  0 -1 -1 -1 -1 -1]]\n",
        "[[ 0 -1 -1 -1  2  0  0]\n",
        " [-1 -1 -1  1 -1 -1  0]\n",
        " [ 1 -1 -1 -1 -1 -1  0]\n",
        " [-1  0 -1  1 -1 -1 -1]\n",
        " [ 1 -1 -1 -1 -1 -1 -1]\n",
        " [ 0 -1 -1 -1 -1 -1  1]\n",
        " [ 0 -1  1 -1 -1 -1 -1]]\n",
        "[[-1 -1 -1 -1  0  0  0]\n",
        " [ 1 -1 -1  1 -1 -1  0]\n",
        " [-1 -1 -1 -1 -1 -1  0]\n",
        " [ 1  0 -1 -1 -1  2 -1]\n",
        " [ 0 -1 -1 -1 -1 -1 -1]\n",
        " [ 0 -1 -1 -1 -1 -1  1]\n",
        " [ 0 -1 -1 -1  2 -1 -1]]\n"
       ]
      }
     ],
     "prompt_number": 117
    },
    {
     "cell_type": "heading",
     "level": 2,
     "metadata": {},
     "source": [
      "Resultados"
     ]
    },
    {
     "cell_type": "markdown",
     "metadata": {},
     "source": [
      "**\u00bfQu\u00e9 se obtiene de la primera parte?** \n",
      "\n",
      "\n",
      "Nos podemos dar cuenta que la cuadriculada, se maneja de distinta forma que una sola calle, algo que pudimos notar es que el m\u00e9todo _actualiza_ primero revisa la fila y despu\u00e9s la columna como ya se hab\u00eda dicho antes, pero puede suceder que un coche que esta en una intersecci\u00f3n cuando se actualiza la fila no se mueve, pero cuando se actualiza la columna se puede mover. Tambi\u00e9n nos dimos cuenta que es m\u00e1s dif\u00edcil simular una calle cuadriculada, dado que nos debemos fijar tanto en las filas y en las columnas.\n",
      "**falta"
     ]
    },
    {
     "cell_type": "markdown",
     "metadata": {},
     "source": [
      "**\u00bfQu\u00e9 se obtiene de la segunda parte?**\n",
      "\n",
      "Al agregar sem\u00e1foros, nos dimos cuenta que si los sem\u00e1foros no se colocaban en las intersecciones , estos no iban a ser utiles, dado que en las intersecciones es cuando se necesitan los sem\u00e1foros para regular el tr\u00e1nsito.\n",
      "\n",
      "**falta ver mas cosas "
     ]
    },
    {
     "cell_type": "markdown",
     "metadata": {},
     "source": [
      "**\u00bfQu\u00e9 diferencias hay entre la primera parte y segunda parte?**"
     ]
    },
    {
     "cell_type": "markdown",
     "metadata": {},
     "source": [
      "**\u00bfQu\u00e9 se obtiene de la tercera parte?**\n",
      "\n",
      "En esta parte cuando se agregan distintos comportamientos:"
     ]
    },
    {
     "cell_type": "markdown",
     "metadata": {},
     "source": [
      "**\u00bfSe obtuvo lo mismo que se esperaba?**"
     ]
    },
    {
     "cell_type": "heading",
     "level": 2,
     "metadata": {},
     "source": [
      "Conclusiones "
     ]
    },
    {
     "cell_type": "markdown",
     "metadata": {},
     "source": [
      "En la vida actual, nos damos cuenta que el tr\u00e1nsito es un gran problema, dado que por distintas causas se generan embotellamientos, de acuerdo a esta simulaci\u00f3n nos podemos dar cuenta que:\n",
      "\n",
      "   1. En una calle de un solo carril, se puede generar embotellamiento muy f\u00e1cil dado que como uno no se puede cambiar de carril, si un coche se para todos los dem\u00e1s deben de seguir el mismo comportamiento independientemente de sus condiciones inciales.\n",
      "   \n",
      "   2. A su vez vimos que si la calle era de un solo carril al colocar sem\u00e1foros no era \u00f3ptimo dado que no se intersecaban, en cambio al crear la ciudad cuadriculada, nos dimos cuenta que un sem\u00e1foro justo en la intersecci\u00f3n es lo m\u00e1s optimo.\n",
      "\n",
      "As\u00ed mismo esto se pueden comparar con la vida diaria en el Distrito Federal, cuando las calles tienen intersecciones, como el eje central, dado tiene sem\u00e1foros en cada intersecci\u00f3n para permitir el cruce de las calles, si los sem\u00e1foro no estan sincronizados ocasionan embotellamientos.\n",
      "   "
     ]
    },
    {
     "cell_type": "markdown",
     "metadata": {},
     "source": [
      "Al ver los distintos comportamientos"
     ]
    },
    {
     "cell_type": "markdown",
     "metadata": {},
     "source": [
      "Finalmente podemos decir que "
     ]
    },
    {
     "cell_type": "code",
     "collapsed": false,
     "input": [],
     "language": "python",
     "metadata": {},
     "outputs": []
    }
   ],
   "metadata": {}
  }
 ]
}