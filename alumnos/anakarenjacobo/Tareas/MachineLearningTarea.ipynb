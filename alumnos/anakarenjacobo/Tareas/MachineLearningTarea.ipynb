{
 "metadata": {
  "name": "",
  "signature": "sha256:d46318f93038d1d37a8f0984b22fdb76d69a3e4dc7a583e121c44c2f951ac89c"
 },
 "nbformat": 3,
 "nbformat_minor": 0,
 "worksheets": [
  {
   "cells": [
    {
     "cell_type": "code",
     "collapsed": false,
     "input": [
      "%matplotlib inline\n",
      "import numpy as np\n",
      "import matplotlib.pyplot as plt\n",
      "\n",
      "from IPython.html.widgets import interact, fixed\n",
      "from IPython.html import widgets"
     ],
     "language": "python",
     "metadata": {},
     "outputs": [],
     "prompt_number": 1
    },
    {
     "cell_type": "code",
     "collapsed": false,
     "input": [
      "#Problema 1\n",
      "# utiliza el sympy para derivar la funcion de la j"
     ],
     "language": "python",
     "metadata": {},
     "outputs": [],
     "prompt_number": 3
    },
    {
     "cell_type": "code",
     "collapsed": false,
     "input": [
      " def gradiente(self, x, y):def gradiente(self, x, y):\n",
      "        m = x.shape[0]\n",
      "        error = self.hipotesis(x) - y        \n",
      "        return np.dot(x.T, error) / m "
     ],
     "language": "python",
     "metadata": {},
     "outputs": []
    },
    {
     "cell_type": "code",
     "collapsed": false,
     "input": [
      "#Problema 2\n",
      "# usa el archivo que esta en data, la misma regresion lineal no codificar nada nuevo, grafica los datos y explica"
     ],
     "language": "python",
     "metadata": {},
     "outputs": [],
     "prompt_number": 6
    },
    {
     "cell_type": "code",
     "collapsed": false,
     "input": [
      "%cat data/chirps.txt"
     ],
     "language": "python",
     "metadata": {},
     "outputs": [
      {
       "output_type": "stream",
       "stream": "stderr",
       "text": [
        "ERROR: Line magic function `%cat` not found.\n"
       ]
      }
     ],
     "prompt_number": 2
    },
    {
     "cell_type": "code",
     "collapsed": false,
     "input": [
      "class RegresionLineal:\n",
      "    def __init__(self, alpha=0.3, max_iters=100, tols=0.001):\n",
      "        \"\"\"\n",
      "        Par\u00e1metros.\n",
      "        ---------------\n",
      "        alpha = Learning rate\n",
      "        max_iters = N\u00famero m\u00e1ximo de iteraciones\n",
      "        tols = definici\u00f3n de convergencia\n",
      "        \"\"\"\n",
      "        self.alpha = alpha\n",
      "        self.max_iters = max_iters\n",
      "        self.tols = tols\n",
      "        self.breaking_iteration = None\n",
      "        self.historia = {'costo':[], 'beta':[]}  # Con fines de graficaci\u00f3n\n",
      "        \n",
      "    def gradientDescent(self, x, y):\n",
      "        \"\"\"\n",
      "        Par\u00e1metros:\n",
      "        ---------------\n",
      "        x = vector de entrenamiento de features\n",
      "        y = vector de entrenamiento de variable a predecir (target)\n",
      "        \"\"\"    \n",
      "        \n",
      "        # ajustamos el vector de features\n",
      "        unos = np.ones((x.shape[0], 1))\n",
      "        Xt = X.reshape(x.shape[0], 1)\n",
      "        Xt = np.concatenate((unos, Xt), axis=1)\n",
      "        \n",
      "        i = 0\n",
      "        prep_J = 0\n",
      "        m, n = Xt.shape\n",
      "        self.beta = np.zeros(n) \n",
      "        \n",
      "        while i < self.max_iters:     \n",
      "            # Actualizamos beta\n",
      "            self.beta = self.beta - self.alpha * self.gradiente(Xt, y)\n",
      "            \n",
      "            J = self.costo(Xt, y)\n",
      "            \n",
      "            if abs(J - prep_J) <= self.tols:\n",
      "                print 'La funci\u00f3n convergi\u00f3 con beta: %s en la iteraci\u00f3n %i' % ( str(self.beta), i )\n",
      "                self.breaking_iteration = i\n",
      "                break\n",
      "            else:\n",
      "                prep_J = J\n",
      "            \n",
      "            self.historia['costo'].append(J)\n",
      "            self.historia['beta'].append(self.beta)                \n",
      "            i += 1\n",
      "    \n",
      "    def hipotesis(self, x):\n",
      "        return np.dot(x, self.beta)\n",
      "    \n",
      "    def costo(self, x, y):\n",
      "        m = x.shape[0]\n",
      "        error = self.hipotesis(x) - y\n",
      "        return np.dot(error.T, error) / (2 * m) \n",
      "    \n",
      "    def gradiente(self, x, y):\n",
      "        m = x.shape[0]\n",
      "        error = self.hipotesis(x) - y        \n",
      "        return np.dot(x.T, error) / m "
     ],
     "language": "python",
     "metadata": {},
     "outputs": [],
     "prompt_number": 3
    },
    {
     "cell_type": "code",
     "collapsed": false,
     "input": [
      "def plotModelo(x,y,rl,iteracion):\n",
      "    modelo = lambda x,b,m: b + m*x # funci\u00f3n para graficar el modelo\n",
      "    \n",
      "    _beta = rl.historia['beta'][iteracion]\n",
      "\n",
      "    fig, ax = plt.subplots(1,2, figsize=(10,6))\n",
      "    ax[0].scatter(x,y, label=\"datos\")\n",
      "    ax[0].plot(x, modelo(x, _beta[0], _beta[1]), label=\"int: %1.2f, pen: %1.2f\" % (_beta[0], _beta[1]))\n",
      "    ax[0].set_xlabel('Edad (yr)')\n",
      "    ax[0].set_ylabel('Altura (m)')\n",
      "    ax[0].legend(loc=\"best\")\n",
      "    #ax[0].set_xlim(0, max(x))\n",
      "    #ax[0].set_ylim(0, max(y))\n",
      "    \n",
      "    costo  = rl.historia['costo']\n",
      "    \n",
      "    iteraciones = [i for i in range(0, len(costo))]\n",
      "    ax[1].plot(iteraciones, costo, 'g', label=\"costo\")\n",
      "    ax[1].plot(iteracion, costo[iteracion], 'or', label=\"iteracion\")\n",
      "    ax[1].set_xlabel('Iteraciones')\n",
      "    ax[1].set_ylabel('Costo')\n",
      "    ax[1].legend(loc=\"best\")"
     ],
     "language": "python",
     "metadata": {},
     "outputs": [],
     "prompt_number": 4
    },
    {
     "cell_type": "code",
     "collapsed": false,
     "input": [],
     "language": "python",
     "metadata": {},
     "outputs": []
    },
    {
     "cell_type": "code",
     "collapsed": false,
     "input": [],
     "language": "python",
     "metadata": {},
     "outputs": []
    },
    {
     "cell_type": "code",
     "collapsed": false,
     "input": [
      "#Problema 3 \n",
      "# son cuatro conjuntos de datos, pero si les aplicas la regresion lineal te da lo mismo, ajusta pero no predice\n",
      "#mismo metodo, para cada uno de los datos, descaqrgar y leer los datos"
     ],
     "language": "python",
     "metadata": {},
     "outputs": [],
     "prompt_number": 8
    },
    {
     "cell_type": "code",
     "collapsed": false,
     "input": [
      "# no pude visualizar el archivo de wikipoedia "
     ],
     "language": "python",
     "metadata": {},
     "outputs": []
    },
    {
     "cell_type": "code",
     "collapsed": false,
     "input": [],
     "language": "python",
     "metadata": {},
     "outputs": []
    },
    {
     "cell_type": "code",
     "collapsed": false,
     "input": [],
     "language": "python",
     "metadata": {},
     "outputs": []
    },
    {
     "cell_type": "code",
     "collapsed": false,
     "input": [],
     "language": "python",
     "metadata": {},
     "outputs": []
    },
    {
     "cell_type": "code",
     "collapsed": false,
     "input": [],
     "language": "python",
     "metadata": {},
     "outputs": []
    },
    {
     "cell_type": "code",
     "collapsed": false,
     "input": [],
     "language": "python",
     "metadata": {},
     "outputs": []
    },
    {
     "cell_type": "code",
     "collapsed": false,
     "input": [],
     "language": "python",
     "metadata": {},
     "outputs": []
    },
    {
     "cell_type": "code",
     "collapsed": false,
     "input": [
      "#Problema 4\n",
      "# decaimiento radioactivo\n",
      "# ATENCION ALGUIEN PUEDE PASAR A EXPLICARLO"
     ],
     "language": "python",
     "metadata": {},
     "outputs": [],
     "prompt_number": 9
    },
    {
     "cell_type": "code",
     "collapsed": false,
     "input": [
      "%cat data/radioactive_decay.txt"
     ],
     "language": "python",
     "metadata": {},
     "outputs": [
      {
       "output_type": "stream",
       "stream": "stderr",
       "text": [
        "ERROR: Line magic function `%cat` not found.\n"
       ]
      }
     ],
     "prompt_number": 5
    },
    {
     "cell_type": "code",
     "collapsed": false,
     "input": [
      "def plotModelo(x,y,rl,iteracion):\n",
      "    modelo = lambda x,b,m: b + m*x # funci\u00f3n para graficar el modelo\n",
      "    \n",
      "    _beta = rl.historia['beta'][iteracion]\n",
      "\n",
      "    fig, ax = plt.subplots(1,2, figsize=(10,6))\n",
      "    ax[0].scatter(x,y, label=\"datos\")\n",
      "    ax[0].plot(x, modelo(x, _beta[0], _beta[1]), label=\"int: %1.2f, pen: %1.2f\" % (_beta[0], _beta[1]))\n",
      "    ax[0].set_xlabel('Edad (yr)')\n",
      "    ax[0].set_ylabel('Altura (m)')\n",
      "    ax[0].legend(loc=\"best\")\n",
      "    #ax[0].set_xlim(0, max(x))\n",
      "    #ax[0].set_ylim(0, max(y))\n",
      "    \n",
      "    costo  = rl.historia['costo']\n",
      "    \n",
      "    iteraciones = [i for i in range(0, len(costo))]\n",
      "    ax[1].plot(iteraciones, costo, 'g', label=\"costo\")\n",
      "    ax[1].plot(iteracion, costo[iteracion], 'or', label=\"iteracion\")\n",
      "    ax[1].set_xlabel('Iteraciones')\n",
      "    ax[1].set_ylabel('Costo')\n",
      "    ax[1].legend(loc=\"best\")"
     ],
     "language": "python",
     "metadata": {},
     "outputs": []
    }
   ],
   "metadata": {}
  }
 ]
}