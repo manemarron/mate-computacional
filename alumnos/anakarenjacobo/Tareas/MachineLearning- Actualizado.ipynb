{
 "metadata": {
  "name": "",
  "signature": "sha256:00cc5b12aaae948b41ce5206b720a776876b5b8791fb9fc744e1344c8345ecfb"
 },
 "nbformat": 3,
 "nbformat_minor": 0,
 "worksheets": [
  {
   "cells": [
    {
     "cell_type": "heading",
     "level": 1,
     "metadata": {},
     "source": [
      "Tarea"
     ]
    },
    {
     "cell_type": "markdown",
     "metadata": {},
     "source": [
      "Esta tarea no me habia salido bien, asi que aprovechando la oportunidad he decidido mejorarla"
     ]
    },
    {
     "cell_type": "code",
     "collapsed": false,
     "input": [
      "%matplotlib inline\n",
      "import numpy as np\n",
      "import matplotlib.pyplot as plt\n",
      "\n",
      "from IPython.html.widgets import interact, fixed\n",
      "from IPython.html import widgets\n",
      "\n",
      "from __future__ import division\n",
      "\n",
      "import sympy as sym\n",
      "from sympy.interactive import printing\n",
      "printing.init_printing(use_latex=True)"
     ],
     "language": "python",
     "metadata": {},
     "outputs": [],
     "prompt_number": 1
    },
    {
     "cell_type": "heading",
     "level": 2,
     "metadata": {},
     "source": [
      "Problema 1"
     ]
    },
    {
     "cell_type": "markdown",
     "metadata": {},
     "source": [
      "**(a)** Usando **SimPy** demostrar que \n",
      "\n",
      "$$\n",
      "\\frac{\\partial}{\\partial \\beta_j} \\textbf{J}(\\beta) = \\frac{1}{m}\\sum_{i=1}^{m}\\left(\\hat{y}(x^{(i)}) - y(x^{(i)})\\right) \\cdot x^{(i)}_j\n",
      "$$"
     ]
    },
    {
     "cell_type": "code",
     "collapsed": false,
     "input": [
      "m = sym.Symbol('m')\n",
      "beta_0 = sym.Symbol('b_0')\n",
      "beta_1 = sym.Symbol('b_1')\n",
      "x_1 = sym.Symbol('x_1')\n",
      "y_1 = sym.Symbol('y_1')\n",
      "x_2 = sym.Symbol('x_2')\n",
      "y_2 = sym.Symbol('y_2')\n",
      "x_3 = sym.Symbol('x_3')\n",
      "y_3 = sym.Symbol('y_3')\n",
      "J = (1/(2*m))*((y_1 - beta_0 - beta_1*x_1)**2+(y_2 - beta_0 - beta_1*x_2)**2+(y_3 - beta_0 - beta_1*x_3)**2) #Caso particular para m=3\n",
      "J"
     ],
     "language": "python",
     "metadata": {},
     "outputs": [
      {
       "latex": [
        "$$\\frac{1}{2 m} \\left(\\left(- b_{0} - b_{1} x_{1} + y_{1}\\right)^{2} + \\left(- b_{0} - b_{1} x_{2} + y_{2}\\right)^{2} + \\left(- b_{0} - b_{1} x_{3} + y_{3}\\right)^{2}\\right)$$"
       ],
       "metadata": {},
       "output_type": "pyout",
       "png": "[encoded data removed]",
       "prompt_number": 2,
       "text": [
        "                  2                     2                     2\n",
        "(-b\u2080 - b\u2081\u22c5x\u2081 + y\u2081)  + (-b\u2080 - b\u2081\u22c5x\u2082 + y\u2082)  + (-b\u2080 - b\u2081\u22c5x\u2083 + y\u2083) \n",
        "\u2500\u2500\u2500\u2500\u2500\u2500\u2500\u2500\u2500\u2500\u2500\u2500\u2500\u2500\u2500\u2500\u2500\u2500\u2500\u2500\u2500\u2500\u2500\u2500\u2500\u2500\u2500\u2500\u2500\u2500\u2500\u2500\u2500\u2500\u2500\u2500\u2500\u2500\u2500\u2500\u2500\u2500\u2500\u2500\u2500\u2500\u2500\u2500\u2500\u2500\u2500\u2500\u2500\u2500\u2500\u2500\u2500\u2500\u2500\u2500\u2500\u2500\u2500\n",
        "                              2\u22c5m                              "
       ]
      }
     ],
     "prompt_number": 2
    },
    {
     "cell_type": "code",
     "collapsed": false,
     "input": [
      "\n",
      "sym.simplify(sym.diff(J, beta_0)) \n",
      "#Se obseva que reacomodando los t\u00e9rminos, obtenemos lo que queremos con xj=1 pues \n",
      "# deriva respecto a beta_0 que no se multiplica por ninguan x"
     ],
     "language": "python",
     "metadata": {},
     "outputs": [
      {
       "latex": [
        "$$\\frac{1}{m} \\left(3 b_{0} + b_{1} x_{1} + b_{1} x_{2} + b_{1} x_{3} - y_{1} - y_{2} - y_{3}\\right)$$"
       ],
       "metadata": {},
       "output_type": "pyout",
       "png": "[encoded data removed]",
       "prompt_number": 3,
       "text": [
        "3\u22c5b\u2080 + b\u2081\u22c5x\u2081 + b\u2081\u22c5x\u2082 + b\u2081\u22c5x\u2083 - y\u2081 - y\u2082 - y\u2083\n",
        "\u2500\u2500\u2500\u2500\u2500\u2500\u2500\u2500\u2500\u2500\u2500\u2500\u2500\u2500\u2500\u2500\u2500\u2500\u2500\u2500\u2500\u2500\u2500\u2500\u2500\u2500\u2500\u2500\u2500\u2500\u2500\u2500\u2500\u2500\u2500\u2500\u2500\u2500\u2500\u2500\u2500\u2500\u2500\n",
        "                     m                     "
       ]
      }
     ],
     "prompt_number": 3
    },
    {
     "cell_type": "code",
     "collapsed": false,
     "input": [
      "sym.simplify(sym.diff(J, beta_1))\n",
      "# Se observa claramente que es el resultado pretendido, con x_j para j = 1, 2, 3\n",
      "# pues se deriva respecto a beta_1 que est\u00e1 multiplicada por x_j"
     ],
     "language": "python",
     "metadata": {},
     "outputs": [
      {
       "latex": [
        "$$\\frac{1}{m} \\left(x_{1} \\left(b_{0} + b_{1} x_{1} - y_{1}\\right) + x_{2} \\left(b_{0} + b_{1} x_{2} - y_{2}\\right) + x_{3} \\left(b_{0} + b_{1} x_{3} - y_{3}\\right)\\right)$$"
       ],
       "metadata": {},
       "output_type": "pyout",
       "png": "[encoded data removed]",
       "prompt_number": 4,
       "text": [
        "x\u2081\u22c5(b\u2080 + b\u2081\u22c5x\u2081 - y\u2081) + x\u2082\u22c5(b\u2080 + b\u2081\u22c5x\u2082 - y\u2082) + x\u2083\u22c5(b\u2080 + b\u2081\u22c5x\u2083 - y\u2083)\n",
        "\u2500\u2500\u2500\u2500\u2500\u2500\u2500\u2500\u2500\u2500\u2500\u2500\u2500\u2500\u2500\u2500\u2500\u2500\u2500\u2500\u2500\u2500\u2500\u2500\u2500\u2500\u2500\u2500\u2500\u2500\u2500\u2500\u2500\u2500\u2500\u2500\u2500\u2500\u2500\u2500\u2500\u2500\u2500\u2500\u2500\u2500\u2500\u2500\u2500\u2500\u2500\u2500\u2500\u2500\u2500\u2500\u2500\u2500\u2500\u2500\u2500\u2500\u2500\u2500\u2500\u2500\n",
        "                                m                                 "
       ]
      }
     ],
     "prompt_number": 4
    },
    {
     "cell_type": "heading",
     "level": 2,
     "metadata": {},
     "source": [
      "Problema 2"
     ]
    },
    {
     "cell_type": "markdown",
     "metadata": {},
     "source": [
      "**(a)**  Usando los datos de `chirps.txt`"
     ]
    },
    {
     "cell_type": "code",
     "collapsed": false,
     "input": [
      "%cat data/chirps.txt"
     ],
     "language": "python",
     "metadata": {},
     "outputs": [
      {
       "output_type": "stream",
       "stream": "stdout",
       "text": [
        "#Chirps/Second \tTemperature (\ufffd\ufffd F)\r\n",
        "20.0 \t88.6\r\n",
        "16.0 \t71.6\r\n",
        "19.8 \t93.3\r\n",
        "18.4 \t84.3\r\n",
        "17.1 \t80.6\r\n",
        "15.5 \t75.2\r\n",
        "14.7 \t69.7\r\n",
        "15.7 \t71.6\r\n",
        "15.4 \t69.4\r\n",
        "16.3 \t83.3\r\n",
        "15.0 \t79.6\r\n",
        "17.2 \t82.6\r\n",
        "16.0 \t80.6\r\n",
        "17.0 \t83.5\r\n",
        "14.4 \t76.3\r\n"
       ]
      }
     ],
     "prompt_number": 1
    },
    {
     "cell_type": "markdown",
     "metadata": {},
     "source": [
      "Entrenar una regresi\u00f3n lineal. Grafique los datos y el mejor modelo. Explique como lleg\u00f3 a los valores de $\\alpha$. \u00bfCoinciden con los mostrados en la p\u00e1gina web?"
     ]
    },
    {
     "cell_type": "markdown",
     "metadata": {},
     "source": [
      "<div class=\"alert alert-warning\">\n",
      "**NOTA**: Datos obtenidos de [aqu\u00ed](http://mathbits.com/MathBits/TISection/Statistics2/linearREAL.htm)\n",
      "</div>"
     ]
    },
    {
     "cell_type": "code",
     "collapsed": false,
     "input": [
      "#Solamente hay que leer el archivo, para enseguida graficarlo\n",
      "chirps, temperature = np.loadtxt('data/chirps.txt', unpack = True, usecols = [0,1])"
     ],
     "language": "python",
     "metadata": {},
     "outputs": [],
     "prompt_number": 7
    },
    {
     "cell_type": "code",
     "collapsed": false,
     "input": [
      "plt.scatter(chirps, temperature, label=\"data\")\n",
      "plt.xlabel('Chirps/Second (C/s)')\n",
      "plt.ylabel('Temperature (F)')"
     ],
     "language": "python",
     "metadata": {},
     "outputs": [
      {
       "metadata": {},
       "output_type": "pyout",
       "prompt_number": 8,
       "text": [
        "<matplotlib.text.Text at 0x6466b90>"
       ]
      },
      {
       "metadata": {},
       "output_type": "display_data",
       "png": "[encoded data removed]",
       "text": [
        "<matplotlib.figure.Figure at 0x64664d0>"
       ]
      }
     ],
     "prompt_number": 8
    },
    {
     "cell_type": "heading",
     "level": 2,
     "metadata": {},
     "source": [
      "Problema 3"
     ]
    },
    {
     "cell_type": "markdown",
     "metadata": {},
     "source": [
      "**(a)** Usando los datos del [cuarteto de Anscombe](http://en.wikipedia.org/wiki/Anscombe%27s_quartet) Calcule la regresi\u00f3n lineal \u00bfQu\u00e9 sucede?"
     ]
    },
    {
     "cell_type": "code",
     "collapsed": false,
     "input": [
      "from RegresionLineal import RegresionLineal"
     ],
     "language": "python",
     "metadata": {},
     "outputs": [
      {
       "ename": "ImportError",
       "evalue": "No module named RegresionLineal",
       "output_type": "pyerr",
       "traceback": [
        "\u001b[1;31m---------------------------------------------------------------------------\u001b[0m\n\u001b[1;31mImportError\u001b[0m                               Traceback (most recent call last)",
        "\u001b[1;32m<ipython-input-13-dea77180b349>\u001b[0m in \u001b[0;36m<module>\u001b[1;34m()\u001b[0m\n\u001b[1;32m----> 1\u001b[1;33m \u001b[1;32mfrom\u001b[0m \u001b[0mRegresionLineal\u001b[0m \u001b[1;32mimport\u001b[0m \u001b[0mRegresionLineal\u001b[0m\u001b[1;33m\u001b[0m\u001b[0m\n\u001b[0m",
        "\u001b[1;31mImportError\u001b[0m: No module named RegresionLineal"
       ]
      }
     ],
     "prompt_number": 13
    },
    {
     "cell_type": "heading",
     "level": 4,
     "metadata": {},
     "source": [
      "no se porque no me deja importar la funci\u00f3n vista en clase, pero una vez que se importa estos m\u00e9todos funcionan correctamente"
     ]
    },
    {
     "cell_type": "code",
     "collapsed": false,
     "input": [
      " def cambiar_alpha(alpha_adecuado, iteraciones, tolerancia):\n",
      "    r = RegresionLineal(alpha = alpha_adecuado, max_iters = iteraciones, tols = tolerancia)\n",
      "    r.gradientDescent(chirps, temperature)\n",
      "    ultima_iteracion = (r.breaking_iteration - 1) if r.breaking_iteration else (r.max_iters - 1)\n",
      "    r.plotModelo(chirps, temperature, ultima_iteracion) # Agregu\u00e9 a la funci\u00f3n RegresionLineal el plot"
     ],
     "language": "python",
     "metadata": {},
     "outputs": [],
     "prompt_number": 14
    },
    {
     "cell_type": "code",
     "collapsed": false,
     "input": [
      "interact(cambiar_alpha, alpha_adecuado = (0.001,0.0075,0.0001), iteraciones = fixed(10000000), tolerancia = fixed(0.00000001))"
     ],
     "language": "python",
     "metadata": {},
     "outputs": [
      {
       "ename": "NameError",
       "evalue": "global name 'RegresionLineal' is not defined",
       "output_type": "pyerr",
       "traceback": [
        "\u001b[1;31m---------------------------------------------------------------------------\u001b[0m\n\u001b[1;31mNameError\u001b[0m                                 Traceback (most recent call last)",
        "\u001b[1;32m<ipython-input-14-e24dbcdca40a>\u001b[0m in \u001b[0;36mcambiar_alpha\u001b[1;34m(alpha_adecuado, iteraciones, tolerancia)\u001b[0m\n\u001b[0;32m      1\u001b[0m \u001b[1;32mdef\u001b[0m \u001b[0mcambiar_alpha\u001b[0m\u001b[1;33m(\u001b[0m\u001b[0malpha_adecuado\u001b[0m\u001b[1;33m,\u001b[0m \u001b[0miteraciones\u001b[0m\u001b[1;33m,\u001b[0m \u001b[0mtolerancia\u001b[0m\u001b[1;33m)\u001b[0m\u001b[1;33m:\u001b[0m\u001b[1;33m\u001b[0m\u001b[0m\n\u001b[1;32m----> 2\u001b[1;33m    \u001b[0mr\u001b[0m \u001b[1;33m=\u001b[0m \u001b[0mRegresionLineal\u001b[0m\u001b[1;33m(\u001b[0m\u001b[0malpha\u001b[0m \u001b[1;33m=\u001b[0m \u001b[0malpha_adecuado\u001b[0m\u001b[1;33m,\u001b[0m \u001b[0mmax_iters\u001b[0m \u001b[1;33m=\u001b[0m \u001b[0miteraciones\u001b[0m\u001b[1;33m,\u001b[0m \u001b[0mtols\u001b[0m \u001b[1;33m=\u001b[0m \u001b[0mtolerancia\u001b[0m\u001b[1;33m)\u001b[0m\u001b[1;33m\u001b[0m\u001b[0m\n\u001b[0m\u001b[0;32m      3\u001b[0m    \u001b[0mr\u001b[0m\u001b[1;33m.\u001b[0m\u001b[0mgradientDescent\u001b[0m\u001b[1;33m(\u001b[0m\u001b[0mchirps\u001b[0m\u001b[1;33m,\u001b[0m \u001b[0mtemperature\u001b[0m\u001b[1;33m)\u001b[0m\u001b[1;33m\u001b[0m\u001b[0m\n\u001b[0;32m      4\u001b[0m    \u001b[0multima_iteracion\u001b[0m \u001b[1;33m=\u001b[0m \u001b[1;33m(\u001b[0m\u001b[0mr\u001b[0m\u001b[1;33m.\u001b[0m\u001b[0mbreaking_iteration\u001b[0m \u001b[1;33m-\u001b[0m \u001b[1;36m1\u001b[0m\u001b[1;33m)\u001b[0m \u001b[1;32mif\u001b[0m \u001b[0mr\u001b[0m\u001b[1;33m.\u001b[0m\u001b[0mbreaking_iteration\u001b[0m \u001b[1;32melse\u001b[0m \u001b[1;33m(\u001b[0m\u001b[0mr\u001b[0m\u001b[1;33m.\u001b[0m\u001b[0mmax_iters\u001b[0m \u001b[1;33m-\u001b[0m \u001b[1;36m1\u001b[0m\u001b[1;33m)\u001b[0m\u001b[1;33m\u001b[0m\u001b[0m\n\u001b[0;32m      5\u001b[0m    \u001b[0mr\u001b[0m\u001b[1;33m.\u001b[0m\u001b[0mplotModelo\u001b[0m\u001b[1;33m(\u001b[0m\u001b[0mchirps\u001b[0m\u001b[1;33m,\u001b[0m \u001b[0mtemperature\u001b[0m\u001b[1;33m,\u001b[0m \u001b[0multima_iteracion\u001b[0m\u001b[1;33m)\u001b[0m \u001b[1;31m# Agregu\u00e9 a la funci\u00f3n RegresionLineal el plot\u001b[0m\u001b[1;33m\u001b[0m\u001b[0m\n",
        "\u001b[1;31mNameError\u001b[0m: global name 'RegresionLineal' is not defined"
       ]
      },
      {
       "metadata": {},
       "output_type": "pyout",
       "prompt_number": 15,
       "text": [
        "<function __main__.cambiar_alpha>"
       ]
      }
     ],
     "prompt_number": 15
    },
    {
     "cell_type": "code",
     "collapsed": false,
     "input": [
      "for i in [0,2,4,6]:\n",
      "    x, y = np.loadtxt('data/cuarteto_de_Anscombe.txt', unpack = True, usecols = [i,i+1])\n",
      "    t = RegresionLineal(alpha = 0.008, max_iters = 10000, tols = 0.0001)\n",
      "    t.gradientDescent(x, y)\n",
      "    ultima_iteracion = (t.breaking_iteration - 1) if t.breaking_iteration else (t.max_iters - 1)\n",
      "    t.plotModelo(x, y, ultima_iteracion)"
     ],
     "language": "python",
     "metadata": {},
     "outputs": [
      {
       "ename": "IOError",
       "evalue": "[Errno 2] No such file or directory: 'data/cuarteto_de_Anscombe.txt'",
       "output_type": "pyerr",
       "traceback": [
        "\u001b[1;31m---------------------------------------------------------------------------\u001b[0m\n\u001b[1;31mIOError\u001b[0m                                   Traceback (most recent call last)",
        "\u001b[1;32m<ipython-input-16-ebd6d1aca2f9>\u001b[0m in \u001b[0;36m<module>\u001b[1;34m()\u001b[0m\n\u001b[0;32m      1\u001b[0m \u001b[1;32mfor\u001b[0m \u001b[0mi\u001b[0m \u001b[1;32min\u001b[0m \u001b[1;33m[\u001b[0m\u001b[1;36m0\u001b[0m\u001b[1;33m,\u001b[0m\u001b[1;36m2\u001b[0m\u001b[1;33m,\u001b[0m\u001b[1;36m4\u001b[0m\u001b[1;33m,\u001b[0m\u001b[1;36m6\u001b[0m\u001b[1;33m]\u001b[0m\u001b[1;33m:\u001b[0m\u001b[1;33m\u001b[0m\u001b[0m\n\u001b[1;32m----> 2\u001b[1;33m     \u001b[0mx\u001b[0m\u001b[1;33m,\u001b[0m \u001b[0my\u001b[0m \u001b[1;33m=\u001b[0m \u001b[0mnp\u001b[0m\u001b[1;33m.\u001b[0m\u001b[0mloadtxt\u001b[0m\u001b[1;33m(\u001b[0m\u001b[1;34m'data/cuarteto_de_Anscombe.txt'\u001b[0m\u001b[1;33m,\u001b[0m \u001b[0munpack\u001b[0m \u001b[1;33m=\u001b[0m \u001b[0mTrue\u001b[0m\u001b[1;33m,\u001b[0m \u001b[0musecols\u001b[0m \u001b[1;33m=\u001b[0m \u001b[1;33m[\u001b[0m\u001b[0mi\u001b[0m\u001b[1;33m,\u001b[0m\u001b[0mi\u001b[0m\u001b[1;33m+\u001b[0m\u001b[1;36m1\u001b[0m\u001b[1;33m]\u001b[0m\u001b[1;33m)\u001b[0m\u001b[1;33m\u001b[0m\u001b[0m\n\u001b[0m\u001b[0;32m      3\u001b[0m     \u001b[0mt\u001b[0m \u001b[1;33m=\u001b[0m \u001b[0mRegresionLineal\u001b[0m\u001b[1;33m(\u001b[0m\u001b[0malpha\u001b[0m \u001b[1;33m=\u001b[0m \u001b[1;36m0.008\u001b[0m\u001b[1;33m,\u001b[0m \u001b[0mmax_iters\u001b[0m \u001b[1;33m=\u001b[0m \u001b[1;36m10000\u001b[0m\u001b[1;33m,\u001b[0m \u001b[0mtols\u001b[0m \u001b[1;33m=\u001b[0m \u001b[1;36m0.0001\u001b[0m\u001b[1;33m)\u001b[0m\u001b[1;33m\u001b[0m\u001b[0m\n\u001b[0;32m      4\u001b[0m     \u001b[0mt\u001b[0m\u001b[1;33m.\u001b[0m\u001b[0mgradientDescent\u001b[0m\u001b[1;33m(\u001b[0m\u001b[0mx\u001b[0m\u001b[1;33m,\u001b[0m \u001b[0my\u001b[0m\u001b[1;33m)\u001b[0m\u001b[1;33m\u001b[0m\u001b[0m\n\u001b[0;32m      5\u001b[0m     \u001b[0multima_iteracion\u001b[0m \u001b[1;33m=\u001b[0m \u001b[1;33m(\u001b[0m\u001b[0mt\u001b[0m\u001b[1;33m.\u001b[0m\u001b[0mbreaking_iteration\u001b[0m \u001b[1;33m-\u001b[0m \u001b[1;36m1\u001b[0m\u001b[1;33m)\u001b[0m \u001b[1;32mif\u001b[0m \u001b[0mt\u001b[0m\u001b[1;33m.\u001b[0m\u001b[0mbreaking_iteration\u001b[0m \u001b[1;32melse\u001b[0m \u001b[1;33m(\u001b[0m\u001b[0mt\u001b[0m\u001b[1;33m.\u001b[0m\u001b[0mmax_iters\u001b[0m \u001b[1;33m-\u001b[0m \u001b[1;36m1\u001b[0m\u001b[1;33m)\u001b[0m\u001b[1;33m\u001b[0m\u001b[0m\n",
        "\u001b[1;32mc:\\Anaconda\\lib\\site-packages\\numpy\\lib\\npyio.pyc\u001b[0m in \u001b[0;36mloadtxt\u001b[1;34m(fname, dtype, comments, delimiter, converters, skiprows, usecols, unpack, ndmin)\u001b[0m\n\u001b[0;32m    735\u001b[0m                 \u001b[0mfh\u001b[0m \u001b[1;33m=\u001b[0m \u001b[0miter\u001b[0m\u001b[1;33m(\u001b[0m\u001b[0mbz2\u001b[0m\u001b[1;33m.\u001b[0m\u001b[0mBZ2File\u001b[0m\u001b[1;33m(\u001b[0m\u001b[0mfname\u001b[0m\u001b[1;33m)\u001b[0m\u001b[1;33m)\u001b[0m\u001b[1;33m\u001b[0m\u001b[0m\n\u001b[0;32m    736\u001b[0m             \u001b[1;32melif\u001b[0m \u001b[0msys\u001b[0m\u001b[1;33m.\u001b[0m\u001b[0mversion_info\u001b[0m\u001b[1;33m[\u001b[0m\u001b[1;36m0\u001b[0m\u001b[1;33m]\u001b[0m \u001b[1;33m==\u001b[0m \u001b[1;36m2\u001b[0m\u001b[1;33m:\u001b[0m\u001b[1;33m\u001b[0m\u001b[0m\n\u001b[1;32m--> 737\u001b[1;33m                 \u001b[0mfh\u001b[0m \u001b[1;33m=\u001b[0m \u001b[0miter\u001b[0m\u001b[1;33m(\u001b[0m\u001b[0mopen\u001b[0m\u001b[1;33m(\u001b[0m\u001b[0mfname\u001b[0m\u001b[1;33m,\u001b[0m \u001b[1;34m'U'\u001b[0m\u001b[1;33m)\u001b[0m\u001b[1;33m)\u001b[0m\u001b[1;33m\u001b[0m\u001b[0m\n\u001b[0m\u001b[0;32m    738\u001b[0m             \u001b[1;32melse\u001b[0m\u001b[1;33m:\u001b[0m\u001b[1;33m\u001b[0m\u001b[0m\n\u001b[0;32m    739\u001b[0m                 \u001b[0mfh\u001b[0m \u001b[1;33m=\u001b[0m \u001b[0miter\u001b[0m\u001b[1;33m(\u001b[0m\u001b[0mopen\u001b[0m\u001b[1;33m(\u001b[0m\u001b[0mfname\u001b[0m\u001b[1;33m)\u001b[0m\u001b[1;33m)\u001b[0m\u001b[1;33m\u001b[0m\u001b[0m\n",
        "\u001b[1;31mIOError\u001b[0m: [Errno 2] No such file or directory: 'data/cuarteto_de_Anscombe.txt'"
       ]
      }
     ],
     "prompt_number": 16
    },
    {
     "cell_type": "heading",
     "level": 2,
     "metadata": {},
     "source": [
      "Problema 4"
     ]
    },
    {
     "cell_type": "markdown",
     "metadata": {},
     "source": [
      "Use el archivo `radioactive_decay.dat`"
     ]
    },
    {
     "cell_type": "code",
     "collapsed": false,
     "input": [
      "%cat data/radioactive_decay.txt"
     ],
     "language": "python",
     "metadata": {},
     "outputs": [
      {
       "output_type": "stream",
       "stream": "stdout",
       "text": [
        "#time   N_(remaining)\r\n",
        "0.0\t10.48\r\n",
        "1.0\t7.54\r\n",
        "2.0\t5.49\r\n",
        "3.0\t4.02\r\n",
        "4.0\t2.74\r\n",
        "5.0\t2.02\r\n",
        "6.0\t1.50\r\n",
        "7.0\t1.09\r\n",
        "8.0\t0.68\r\n",
        "9.0\t0.57\r\n",
        "10.0\t0.37\r\n",
        "11.0\t0.31\r\n",
        "12.0\t0.19\r\n",
        "13.0\t0.15\r\n",
        "14.0\t0.13\r\n",
        "15.0\t0.11\r\n"
       ]
      }
     ],
     "prompt_number": 2
    },
    {
     "cell_type": "code",
     "collapsed": false,
     "input": [
      "time, N = np.loadtxt('data/radioactive_decay.txt', unpack = True, usecols = [0,1])"
     ],
     "language": "python",
     "metadata": {},
     "outputs": [],
     "prompt_number": 17
    },
    {
     "cell_type": "code",
     "collapsed": false,
     "input": [
      "plt.scatter(time, N, label=\"data\")\n",
      "plt.xlabel('time (s)')\n",
      "plt.ylabel('N_remaining')"
     ],
     "language": "python",
     "metadata": {},
     "outputs": [
      {
       "metadata": {},
       "output_type": "pyout",
       "prompt_number": 18,
       "text": [
        "<matplotlib.text.Text at 0x669e470>"
       ]
      },
      {
       "metadata": {},
       "output_type": "display_data",
       "png": "[encoded data removed]",
       "text": [
        "<matplotlib.figure.Figure at 0x66e56b0>"
       ]
      }
     ],
     "prompt_number": 18
    },
    {
     "cell_type": "code",
     "collapsed": false,
     "input": [
      "N_2 = np.log(N)"
     ],
     "language": "python",
     "metadata": {},
     "outputs": [],
     "prompt_number": 19
    },
    {
     "cell_type": "code",
     "collapsed": false,
     "input": [
      "plt.scatter(time, N_2, label=\"data\")\n",
      "plt.xlabel('time (s)')\n",
      "plt.ylabel('N_remaining (2)')"
     ],
     "language": "python",
     "metadata": {},
     "outputs": [
      {
       "metadata": {},
       "output_type": "pyout",
       "prompt_number": 20,
       "text": [
        "<matplotlib.text.Text at 0x66e5730>"
       ]
      },
      {
       "metadata": {},
       "output_type": "display_data",
       "png": "[encoded data removed]",
       "text": [
        "<matplotlib.figure.Figure at 0x662c550>"
       ]
      }
     ],
     "prompt_number": 20
    },
    {
     "cell_type": "code",
     "collapsed": false,
     "input": [
      "new_data = np.zeros((len(time),2))"
     ],
     "language": "python",
     "metadata": {},
     "outputs": [],
     "prompt_number": 21
    },
    {
     "cell_type": "code",
     "collapsed": false,
     "input": [
      "for i in range(0, len(time)):\n",
      "    new_data[i][0] = time[i]\n",
      "    new_data[i][1] = N_2[i]"
     ],
     "language": "python",
     "metadata": {},
     "outputs": [],
     "prompt_number": 22
    },
    {
     "cell_type": "code",
     "collapsed": false,
     "input": [
      "np.savetxt('data/transform_radioactive_decay.txt', new_data, fmt='%.2e', header=\"time  N_2\" )"
     ],
     "language": "python",
     "metadata": {},
     "outputs": [],
     "prompt_number": 23
    },
    {
     "cell_type": "markdown",
     "metadata": {},
     "source": [
      "**(a)** Grafique los datos \u00bfQu\u00e9 forma tienen?"
     ]
    },
    {
     "cell_type": "markdown",
     "metadata": {},
     "source": [
      "**(b)** \u00bfQu\u00e9 transformaci\u00f3n se le ocurre para linearizarlos? Explique y grafique de nuevo. Guarde los datos transformados en un archivo llamado `transform_radioactive_decay.txt`"
     ]
    }
   ],
   "metadata": {}
  }
 ]
}