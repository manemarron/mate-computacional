{
 "metadata": {
  "name": "",
  "signature": "sha256:454895400c9804bf9fd2c2b18d183916d3c7986685c4aae5e00a083db9c08e34"
 },
 "nbformat": 3,
 "nbformat_minor": 0,
 "worksheets": []
}