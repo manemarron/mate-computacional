{
 "metadata": {
  "name": "",
  "signature": "sha256:384df54e549045918e770d533df6afdf9843de6ef23f2b7260d62b61aff87c80"
 },
 "nbformat": 3,
 "nbformat_minor": 0,
 "worksheets": [
  {
   "cells": [
    {
     "cell_type": "code",
     "collapsed": false,
     "input": [
      "class GA:\n",
      "    def _init_(self, tamano_poblacion, tasa_mutacion, tasa_crrossover, max_generaciones, fitness):\n",
      "        self.tamano_poblacion = tamano_poblacion\n",
      "        self.tasa_mutacion = tasa_mutacion\n",
      "        self.tasa_crossover = tasa_crossover\n",
      "        self.max_generaciones = max_generaciones\n",
      "        self.fitness = fitness\n",
      "        self.poblacion = list\n",
      "        self.mejor_solucion_historica = None\n",
      "        self.mejor_solucion_actuar = None\n",
      "        \n",
      "    def"
     ],
     "language": "python",
     "metadata": {},
     "outputs": [],
     "prompt_number": 1
    },
    {
     "cell_type": "code",
     "collapsed": false,
     "input": [
      "class abstractaCromosoma:\n",
      "    pass"
     ],
     "language": "python",
     "metadata": {},
     "outputs": [],
     "prompt_number": 4
    },
    {
     "cell_type": "code",
     "collapsed": false,
     "input": [
      "class BitCromosoma:\n",
      "    def _init_(self, longitud, cadena):\n",
      "        self.longitud = longitud\n",
      "        self.cadena = None\n",
      "        \n",
      "    def cromosoma(self):\n",
      "        if self.cadena==None:\n",
      "            "
     ],
     "language": "python",
     "metadata": {},
     "outputs": []
    }
   ],
   "metadata": {}
  }
 ]
}