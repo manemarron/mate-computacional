{
 "metadata": {
  "name": "",
  "signature": "sha256:75546e83a141503bf1c12366f2e670347060137ea8dc63cb6aa4b5fd4c9920e6"
 },
 "nbformat": 3,
 "nbformat_minor": 0,
 "worksheets": [
  {
   "cells": [
    {
     "cell_type": "heading",
     "level": 1,
     "metadata": {},
     "source": [
      "Proyecto: Ncuerpos"
     ]
    },
    {
     "cell_type": "code",
     "collapsed": false,
     "input": [
      "%matplotlib inline\n",
      "import numpy as np\n",
      "import matplotlib.pyplot as plt"
     ],
     "language": "python",
     "metadata": {},
     "outputs": [],
     "prompt_number": 20
    },
    {
     "cell_type": "code",
     "collapsed": false,
     "input": [
      "class Particula:\n",
      "    def __init__(posicion, velocidad, masa):\n",
      "        self.posicion = posicion\n",
      "        self.velocidad = velocidad\n",
      "        self.masa = masa\n",
      "        self.historia = {'posicion':[], 'tiempo':[]}\n",
      "        \n",
      "    \n",
      "    def mover  (self, fuerza, dt):\n",
      "        \n",
      "        \n",
      "    def dibujar():\n",
      "    \n",
      "    def fuerzaAplicada(otra_particula):"
     ],
     "language": "python",
     "metadata": {},
     "outputs": [
      {
       "ename": "IndentationError",
       "evalue": "expected an indented block (<ipython-input-1-e727a784ddef>, line 12)",
       "output_type": "pyerr",
       "traceback": [
        "\u001b[1;36m  File \u001b[1;32m\"<ipython-input-1-e727a784ddef>\"\u001b[1;36m, line \u001b[1;32m12\u001b[0m\n\u001b[1;33m    def dibujar():\u001b[0m\n\u001b[1;37m      ^\u001b[0m\n\u001b[1;31mIndentationError\u001b[0m\u001b[1;31m:\u001b[0m expected an indented block\n"
       ]
      }
     ],
     "prompt_number": 1
    },
    {
     "cell_type": "code",
     "collapsed": false,
     "input": [
      "class Particula:\n",
      "    \n",
      "    def __init__(self, posicion, velocidad, masa):\n",
      "        self.masa = masa\n",
      "        self.posicion = posicion\n",
      "        self.velocidad = velocidad\n",
      "        self.posicion_x = posicion[:,0]\n",
      "        self.posicion_y = posicion[:, 1]\n",
      "        self.velocidad_x = velocidad[:, 0]\n",
      "        self.velocidad_y = velocidad[:, 1]\n",
      "        self.G = 6.67384e-11\n",
      "    \"\"\"    \n",
      "    def posicion_x(self):\n",
      "        return self.posicion[:, 0]\n",
      "    \n",
      "    def posicion_y(self):    \n",
      "        return self.posicion[:, 1]\n",
      "    \n",
      "    def velocidad_x(self):\n",
      "        return self.velocidad[:, 0]\n",
      "    \n",
      "    def velocidad_y(self):\n",
      "        return self.velocidad[:, 1]\n",
      "    \n",
      "    \"\"\"\n",
      "         \n",
      "    def mover(self, fuerza, dt):\n",
      "        self.N = len(self.posicion_x)\n",
      "        self.aceleracion_x = fuerza[0] / self.masa\n",
      "        self.aceleracion_y = fuerza[1] / self.masa\n",
      "        \n",
      "        \n",
      "        for i in range(0, self.N - 1):\n",
      "            self.velocidad_x[i+1] = self.velocidad_x[i] + (i+1)*(dt/self.N) * self.aceleracion_x\n",
      "            self.posicion_x[i+1] = self.velocidad_x[i] * (i+1)*(dt/self.N) + (0.5) * self.aceleracion_x * ((i+1)*dt/self.N)**2 + self.posicion_x[i]\n",
      "            \n",
      "            self.velocidad_y[i+1] = self.velocidad_y[i] + (i+1)*(dt/self.N) * self.aceleracion_y\n",
      "            self.posicion_y[i+1] = self.velocidad_y[i] * (i+1)*(dt/self.N) + (0.5) * self.aceleracion_y * ((i+1)*dt/self.N)**2 + self.posicion_y[i]\n",
      "        \n",
      "        \"\"\"\n",
      "        \n",
      "        i = 0\n",
      "        \n",
      "        self.velocidad_x[i+1] = self.velocidad_x[i] + dt * self.aceleracion_x\n",
      "        self.posicion_x[i+1] = self.velocidad_x[i] * dt + (0.5) * self.aceleracion_x * dt**2 + self.posicion_x[i]\n",
      "            \n",
      "        self.velocidad_y[i+1] = self.velocidad_y[i] + dt * self.aceleracion_y\n",
      "        self.posicion_y[i+1] = self.velocidad_y[i] * dt + (0.5) * self.aceleracion_y * dt**2 + self.posicion_y[i]\n",
      "        \n",
      "        \"\"\"\n",
      "\n",
      "    \n",
      "    def mover_tiempo_t(self, fuerza, dt, t):\n",
      "        self.t = t\n",
      "        self.N = len(self.posicion_x) - t\n",
      "        self.aceleracion_x = fuerza[0] / self.masa\n",
      "        self.aceleracion_y = fuerza[1] / self.masa\n",
      "        \n",
      "        for i in range(t-1, self.N - 1 + t):\n",
      "            self.velocidad_x[i+1] = self.velocidad_x[i] + (i+1)*(dt/self.N) * self.aceleracion_x\n",
      "            self.posicion_x[i+1] = self.velocidad_x[i] * (i+1)*(dt/self.N) + (0.5) * self.aceleracion_x * ((i+1)*dt/self.N)**2 + self.posicion_x[i]\n",
      "            \n",
      "            self.velocidad_y[i+1] = self.velocidad_y[i] + (i+1)*(dt/self.N) * self.aceleracion_y\n",
      "            self.posicion_y[i+1] = self.velocidad_y[i] * (i+1)*(dt/self.N) + (0.5) * self.aceleracion_y * ((i+1)*dt/self.N)**2 + self.posicion_y[i]\n",
      "\n",
      "    \n",
      "    def dibujar(self):\n",
      "        plt.figure(figsize = (10,8), dpi = 80)\n",
      "\n",
      "        plt.plot(self.posicion_x, self.posicion_y , label=\"Movimiento\", color=\"blue\")\n",
      "        plt.ylabel(\"Posicion Y (m)\")\n",
      "        plt.xlabel(\"Posicion X (m)\")\n",
      "        plt.legend(loc = 'upper left')\n",
      "        \n",
      "    def dibujar_pos_tiempo(self, tiempo):\n",
      "        plt.figure(figsize = (10,8), dpi = 80)\n",
      "\n",
      "        plt.plot(tiempo, self.posicion_x , label=u\"Posici\u00f3n vs tiempo\", color=\"red\")\n",
      "        plt.xlabel(\"Tiempo (s)\")\n",
      "        plt.ylabel(\"Posicion X (m)\")\n",
      "        plt.legend(loc = 'upper left')\n",
      "        \n",
      "    def distancia(self, otra_particula):\n",
      "        self.dim = len(self.posicion_x)\n",
      "        distancias = []\n",
      "        for i in range(0, self.dim): \n",
      "            distancias[i] = np.linalg.norm(self.posicion[i, :] - otra_particula.posicion[i, :])\n",
      "            \n",
      "        self.distancia = np.array(distancias)\n",
      "        \n",
      "        return self.distancia\n",
      "    \n",
      "    def fuerzaAplicada(self, otra_particula):\n",
      "        self.fuerza_gravitacional = (1/self.distancia(otra_particula)) * self.G * self.masa * otra_particula.masa\n",
      "        return self.fuerza_gravitacional"
     ],
     "language": "python",
     "metadata": {},
     "outputs": [],
     "prompt_number": 13
    },
    {
     "cell_type": "code",
     "collapsed": false,
     "input": [
      "dt = 83\n",
      "tiempo = np.zeros((1000,2))\n",
      "tiempo[:, 0] = np.linspace(0, dt, 1000)\n",
      "tiempo[:, 1] = np.linspace(0, dt, 1000)\n",
      "velocidad_1 = np.zeros((1000, 2))\n",
      "velocidad_1[0, 0] = 10\n",
      "velocidad_1[0, 1] = 20\n",
      "posicion_1 = velocidad_1*tiempo\n",
      "posicion_1[0, :] = 1"
     ],
     "language": "python",
     "metadata": {},
     "outputs": [],
     "prompt_number": 21
    },
    {
     "cell_type": "code",
     "collapsed": false,
     "input": [
      "particula_1 = Particula(posicion = posicion_1, velocidad = velocidad_1, masa = 10)"
     ],
     "language": "python",
     "metadata": {},
     "outputs": [],
     "prompt_number": 22
    },
    {
     "cell_type": "code",
     "collapsed": false,
     "input": [
      "particula_1.dibujar()"
     ],
     "language": "python",
     "metadata": {},
     "outputs": [
      {
       "metadata": {},
       "output_type": "display_data",
       "png": "[encoded data removed]",
       "text": [
        "<matplotlib.figure.Figure at 0x7f3dabe91090>"
       ]
      }
     ],
     "prompt_number": 25
    },
    {
     "cell_type": "code",
     "collapsed": false,
     "input": [],
     "language": "python",
     "metadata": {},
     "outputs": [],
     "prompt_number": 26
    },
    {
     "cell_type": "code",
     "collapsed": false,
     "input": [],
     "language": "python",
     "metadata": {},
     "outputs": []
    }
   ],
   "metadata": {}
  }
 ]
}