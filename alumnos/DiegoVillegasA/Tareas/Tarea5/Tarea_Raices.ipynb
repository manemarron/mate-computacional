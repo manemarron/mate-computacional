{
 "metadata": {
  "name": "",
  "signature": "sha256:dfa6776356dcf6d54e6d213060d4c6b59f0aadb4846d39328d0a3c17d2bffb8e"
 },
 "nbformat": 3,
 "nbformat_minor": 0,
 "worksheets": [
  {
   "cells": [
    {
     "cell_type": "heading",
     "level": 2,
     "metadata": {},
     "source": [
      "El dilema del Bungee"
     ]
    },
    {
     "cell_type": "code",
     "collapsed": false,
     "input": [
      "%matplotlib inline\n",
      "import numpy as np\n",
      "import matplotlib.pyplot as plt"
     ],
     "language": "python",
     "metadata": {},
     "outputs": [],
     "prompt_number": 2
    },
    {
     "cell_type": "markdown",
     "metadata": {},
     "source": [
      "$$\n",
      "v(t) = \\sqrt{\\frac{g m}{c_d}}\\tanh\\left(\\sqrt{\\frac{g c_d}{m}}t\\right)\n",
      "$$"
     ]
    },
    {
     "cell_type": "markdown",
     "metadata": {},
     "source": [
      "$$\n",
      "f(m) = \\sqrt{\\frac{g m}{c_d}}\\tanh\\left(\\sqrt{\\frac{g c_d}{m}}t\\right) - v(t)\n",
      "$$"
     ]
    },
    {
     "cell_type": "code",
     "collapsed": false,
     "input": [
      "x = np.linspace(0.01, 250, 100)\n",
      "g = 9.8\n",
      "c = 0.25\n",
      "v= 36\n",
      "t=4\n",
      "y = np.sqrt(g*x/c)*np.tanh(np.sqrt(g*c/x)*t)-v\n",
      "plt.plot(x, y, color=\"blue\")\n",
      "plt.ylim(-10,10)\n",
      "plt.xlim(0,250)\n",
      "ax = plt.gca()\n",
      "ax.spines['right'].set_color('none')\n",
      "ax.spines['top'].set_color('none')\n",
      "ax.xaxis.set_ticks_position('bottom')\n",
      "ax.spines['bottom'].set_position(('data',0))\n",
      "ax.yaxis.set_ticks_position('left')\n",
      "ax.spines['left'].set_position(('data',0))"
     ],
     "language": "python",
     "metadata": {},
     "outputs": [
      {
       "metadata": {},
       "output_type": "display_data",
       "png": "[encoded data removed]",
       "text": [
        "<matplotlib.figure.Figure at 0x7f24330e46d0>"
       ]
      }
     ],
     "prompt_number": 4
    },
    {
     "cell_type": "markdown",
     "metadata": {},
     "source": [
      "Por el m\u00e9todo gr\u00e1fico se puede estimar la soluci\u00f3n como un poco menos a 150"
     ]
    },
    {
     "cell_type": "code",
     "collapsed": false,
     "input": [
      "def biseccion(func,a,b,tolerancia,stop):\n",
      "    k=0\n",
      "    x=(a+b)/2\n",
      "    I=(b-a)/2\n",
      "    \n",
      "    assert f1(a)*f1(b) < 0, \"El signo de la funci\u00f3n en los extremos deber\u00eda de ser diferente\"\n",
      "    assert f1(a) != 0, \"La ra\u00edz es %.5f\" % a\n",
      "    assert f1(b) != 0, \"La ra\u00edz es %.5f\" % b\n",
      "    \n",
      "    print \"%s\\t%12s\\t%12s\" % (\"k\",\"I(a,b)\", \"x\")\n",
      "    print \"%s\\tI(%.5f, %.5f)\\t%.5f\" % (\"0\",a, b, x)\n",
      "    \n",
      "    while I >= tolerancia and k <= stop:\n",
      "        k = k + 1\n",
      "        \n",
      "        f_x = f1(x)\n",
      "        f_a = f1(a)\n",
      "        f_b = f1(b)        \n",
      "        \n",
      "        \n",
      "        if(f_a*f_x < 0):\n",
      "            a, b = a, x\n",
      "        elif(f_x*f_b < 0):\n",
      "            a, b = x, b\n",
      "        \n",
      "        x = (a+b)/2\n",
      "        \n",
      "        I = (b - a)/2\n",
      "        \n",
      "        print \"%d\\tI(%.5f, %.5f)\\t%.12f\" % (k,a, b, x)"
     ],
     "language": "python",
     "metadata": {},
     "outputs": [],
     "prompt_number": 21
    },
    {
     "cell_type": "code",
     "collapsed": false,
     "input": [
      "g = 9.8\n",
      "c = 0.25\n",
      "v= 36\n",
      "t=4\n",
      "f1 = lambda x: np.sqrt(g*x/c)*np.tanh(np.sqrt(g*c/x)*t)-v\n",
      "biseccion(f1,140.0,150.0,1e-4,100)"
     ],
     "language": "python",
     "metadata": {},
     "outputs": [
      {
       "output_type": "stream",
       "stream": "stdout",
       "text": [
        "k\t      I(a,b)\t           x\n",
        "0\tI(140.00000, 150.00000)\t145.00000\n",
        "1\tI(140.00000, 145.00000)\t142.500000000000\n",
        "2\tI(142.50000, 145.00000)\t143.750000000000\n",
        "3\tI(143.75000, 145.00000)\t144.375000000000\n",
        "4\tI(144.37500, 145.00000)\t144.687500000000\n",
        "5\tI(144.37500, 144.68750)\t144.531250000000\n",
        "6\tI(144.37500, 144.53125)\t144.453125000000\n",
        "7\tI(144.37500, 144.45312)\t144.414062500000\n",
        "8\tI(144.37500, 144.41406)\t144.394531250000\n",
        "9\tI(144.39453, 144.41406)\t144.404296875000\n",
        "10\tI(144.40430, 144.41406)\t144.409179687500\n",
        "11\tI(144.40430, 144.40918)\t144.406738281250\n",
        "12\tI(144.40430, 144.40674)\t144.405517578125\n",
        "13\tI(144.40552, 144.40674)\t144.406127929688\n",
        "14\tI(144.40613, 144.40674)\t144.406433105469\n",
        "15\tI(144.40643, 144.40674)\t144.406585693359\n",
        "16\tI(144.40659, 144.40674)\t144.406661987305\n"
       ]
      }
     ],
     "prompt_number": 22
    },
    {
     "cell_type": "markdown",
     "metadata": {},
     "source": [
      "El intervalo inicial fue (140,150) y tom\u00f3 16 pasos"
     ]
    },
    {
     "cell_type": "code",
     "collapsed": false,
     "input": [
      "import sympy as sym\n",
      "from sympy.interactive import printing\n",
      "printing.init_printing(use_latex=True)"
     ],
     "language": "python",
     "metadata": {},
     "outputs": [],
     "prompt_number": 23
    },
    {
     "cell_type": "code",
     "collapsed": false,
     "input": [
      "m1 = sym.Symbol('m')\n",
      "g1 = sym.Symbol('g')\n",
      "c1 = sym.Symbol('c')\n",
      "t1 = sym.Symbol('t')\n",
      "v1 = sym.Symbol('v')"
     ],
     "language": "python",
     "metadata": {},
     "outputs": [],
     "prompt_number": 24
    },
    {
     "cell_type": "markdown",
     "metadata": {},
     "source": [
      "Le pongo m1 para no confundirlas con las variables ya iniciadas"
     ]
    },
    {
     "cell_type": "code",
     "collapsed": false,
     "input": [
      "f = sym.sqrt(g1*m1/c1)*sym.tanh(sym.sqrt(g1*c1/m1)*t1)-v1\n",
      "f"
     ],
     "language": "python",
     "metadata": {},
     "outputs": [
      {
       "latex": [
        "$$- v + \\sqrt{\\frac{g m}{c}} \\tanh{\\left (t \\sqrt{\\frac{c g}{m}} \\right )}$$"
       ],
       "metadata": {},
       "output_type": "pyout",
       "png": "[encoded data removed]",
       "prompt_number": 25,
       "text": [
        "         _____     \u239b      _____\u239e\n",
        "        \u2571 g\u22c5m      \u239c     \u2571 c\u22c5g \u239f\n",
        "-v +   \u2571  \u2500\u2500\u2500 \u22c5tanh\u239ct\u22c5  \u2571  \u2500\u2500\u2500 \u239f\n",
        "     \u2572\u2571    c       \u239d  \u2572\u2571    m  \u23a0"
       ]
      }
     ],
     "prompt_number": 25
    },
    {
     "cell_type": "code",
     "collapsed": false,
     "input": [
      "df = sym.diff(f,m1)\n",
      "df"
     ],
     "language": "python",
     "metadata": {},
     "outputs": [
      {
       "latex": [
        "$$- \\frac{t \\sqrt{\\frac{c g}{m}}}{2 m} \\sqrt{\\frac{g m}{c}} \\left(- \\tanh^{2}{\\left (t \\sqrt{\\frac{c g}{m}} \\right )} + 1\\right) + \\frac{\\sqrt{\\frac{g m}{c}}}{2 m} \\tanh{\\left (t \\sqrt{\\frac{c g}{m}} \\right )}$$"
       ],
       "metadata": {},
       "output_type": "pyout",
       "png": "[encoded data removed]",
       "prompt_number": 26,
       "text": [
        "        _____     _____ \u239b       \u239b      _____\u239e    \u239e       _____     \u239b      ____\n",
        "       \u2571 g\u22c5m     \u2571 c\u22c5g  \u239c      2\u239c     \u2571 c\u22c5g \u239f    \u239f      \u2571 g\u22c5m      \u239c     \u2571 c\u22c5g\n",
        "  t\u22c5  \u2571  \u2500\u2500\u2500 \u22c5  \u2571  \u2500\u2500\u2500 \u22c5\u239c- tanh \u239ct\u22c5  \u2571  \u2500\u2500\u2500 \u239f + 1\u239f     \u2571  \u2500\u2500\u2500 \u22c5tanh\u239ct\u22c5  \u2571  \u2500\u2500\u2500\n",
        "    \u2572\u2571    c   \u2572\u2571    m   \u239d       \u239d  \u2572\u2571    m  \u23a0    \u23a0   \u2572\u2571    c       \u239d  \u2572\u2571    m \n",
        "- \u2500\u2500\u2500\u2500\u2500\u2500\u2500\u2500\u2500\u2500\u2500\u2500\u2500\u2500\u2500\u2500\u2500\u2500\u2500\u2500\u2500\u2500\u2500\u2500\u2500\u2500\u2500\u2500\u2500\u2500\u2500\u2500\u2500\u2500\u2500\u2500\u2500\u2500\u2500\u2500\u2500\u2500\u2500\u2500\u2500\u2500\u2500\u2500 + \u2500\u2500\u2500\u2500\u2500\u2500\u2500\u2500\u2500\u2500\u2500\u2500\u2500\u2500\u2500\u2500\u2500\u2500\u2500\u2500\u2500\u2500\u2500\u2500\u2500\n",
        "                        2\u22c5m                                      2\u22c5m          \n",
        "\n",
        "_\u239e\n",
        " \u239f\n",
        " \u239f\n",
        " \u23a0\n",
        "\u2500\u2500\n",
        "  "
       ]
      }
     ],
     "prompt_number": 26
    },
    {
     "cell_type": "code",
     "collapsed": false,
     "input": [
      "sym.simplify(df)"
     ],
     "language": "python",
     "metadata": {},
     "outputs": [
      {
       "latex": [
        "$$- \\frac{\\sqrt{\\frac{g m}{c}}}{2 m} \\left(\\frac{t \\sqrt{\\frac{c g}{m}}}{\\cosh^{2}{\\left (t \\sqrt{\\frac{c g}{m}} \\right )}} - \\tanh{\\left (t \\sqrt{\\frac{c g}{m}} \\right )}\\right)$$"
       ],
       "metadata": {},
       "output_type": "pyout",
       "png": "[encoded data removed]",
       "prompt_number": 27,
       "text": [
        "           \u239b         _____                        \u239e \n",
        "           \u239c        \u2571 c\u22c5g                         \u239f \n",
        "     _____ \u239c   t\u22c5  \u2571  \u2500\u2500\u2500            \u239b      _____\u239e\u239f \n",
        "    \u2571 g\u22c5m  \u239c     \u2572\u2571    m             \u239c     \u2571 c\u22c5g \u239f\u239f \n",
        "-  \u2571  \u2500\u2500\u2500 \u22c5\u239c\u2500\u2500\u2500\u2500\u2500\u2500\u2500\u2500\u2500\u2500\u2500\u2500\u2500\u2500\u2500\u2500\u2500\u2500 - tanh\u239ct\u22c5  \u2571  \u2500\u2500\u2500 \u239f\u239f \n",
        " \u2572\u2571    c   \u239c     \u239b      _____\u239e       \u239d  \u2572\u2571    m  \u23a0\u239f \n",
        "           \u239c    2\u239c     \u2571 c\u22c5g \u239f                    \u239f \n",
        "           \u239ccosh \u239ct\u22c5  \u2571  \u2500\u2500\u2500 \u239f                    \u239f \n",
        "           \u239d     \u239d  \u2572\u2571    m  \u23a0                    \u23a0 \n",
        "\u2500\u2500\u2500\u2500\u2500\u2500\u2500\u2500\u2500\u2500\u2500\u2500\u2500\u2500\u2500\u2500\u2500\u2500\u2500\u2500\u2500\u2500\u2500\u2500\u2500\u2500\u2500\u2500\u2500\u2500\u2500\u2500\u2500\u2500\u2500\u2500\u2500\u2500\u2500\u2500\u2500\u2500\u2500\u2500\u2500\u2500\u2500\u2500\u2500\u2500\u2500\u2500\n",
        "                        2\u22c5m                         "
       ]
      }
     ],
     "prompt_number": 27
    },
    {
     "cell_type": "code",
     "collapsed": false,
     "input": [
      "#Por curiosidad derivo respecto otra variable\n",
      "\n",
      "df2 = sym.diff(f,g1)\n",
      "df2"
     ],
     "language": "python",
     "metadata": {},
     "outputs": [
      {
       "latex": [
        "$$\\frac{t \\sqrt{\\frac{c g}{m}}}{2 g} \\sqrt{\\frac{g m}{c}} \\left(- \\tanh^{2}{\\left (t \\sqrt{\\frac{c g}{m}} \\right )} + 1\\right) + \\frac{\\sqrt{\\frac{g m}{c}}}{2 g} \\tanh{\\left (t \\sqrt{\\frac{c g}{m}} \\right )}$$"
       ],
       "metadata": {},
       "output_type": "pyout",
       "png": "[encoded data removed]",
       "prompt_number": 30,
       "text": [
        "      _____     _____ \u239b       \u239b      _____\u239e    \u239e       _____     \u239b      _____\u239e\n",
        "     \u2571 g\u22c5m     \u2571 c\u22c5g  \u239c      2\u239c     \u2571 c\u22c5g \u239f    \u239f      \u2571 g\u22c5m      \u239c     \u2571 c\u22c5g \u239f\n",
        "t\u22c5  \u2571  \u2500\u2500\u2500 \u22c5  \u2571  \u2500\u2500\u2500 \u22c5\u239c- tanh \u239ct\u22c5  \u2571  \u2500\u2500\u2500 \u239f + 1\u239f     \u2571  \u2500\u2500\u2500 \u22c5tanh\u239ct\u22c5  \u2571  \u2500\u2500\u2500 \u239f\n",
        "  \u2572\u2571    c   \u2572\u2571    m   \u239d       \u239d  \u2572\u2571    m  \u23a0    \u23a0   \u2572\u2571    c       \u239d  \u2572\u2571    m  \u23a0\n",
        "\u2500\u2500\u2500\u2500\u2500\u2500\u2500\u2500\u2500\u2500\u2500\u2500\u2500\u2500\u2500\u2500\u2500\u2500\u2500\u2500\u2500\u2500\u2500\u2500\u2500\u2500\u2500\u2500\u2500\u2500\u2500\u2500\u2500\u2500\u2500\u2500\u2500\u2500\u2500\u2500\u2500\u2500\u2500\u2500\u2500\u2500\u2500\u2500 + \u2500\u2500\u2500\u2500\u2500\u2500\u2500\u2500\u2500\u2500\u2500\u2500\u2500\u2500\u2500\u2500\u2500\u2500\u2500\u2500\u2500\u2500\u2500\u2500\u2500\u2500\u2500\n",
        "                      2\u22c5g                                      2\u22c5g            "
       ]
      }
     ],
     "prompt_number": 30
    },
    {
     "cell_type": "code",
     "collapsed": false,
     "input": [
      "f = sym.sqrt(g*m1/c)*sym.tanh(sym.sqrt(g*c/m1)*t)-v\n",
      "f\n",
      "#La funci\u00f3n con los valores ya iniciados"
     ],
     "language": "python",
     "metadata": {},
     "outputs": [
      {
       "latex": [
        "$$6.26099033699941 \\sqrt{m} \\tanh{\\left (6.26099033699941 \\sqrt{\\frac{1}{m}} \\right )} - 36$$"
       ],
       "metadata": {},
       "output_type": "pyout",
       "png": "[encoded data removed]",
       "prompt_number": 32,
       "text": [
        "                           \u239b                     ___\u239e     \n",
        "                   ___     \u239c                    \u2571 1 \u239f     \n",
        "6.26099033699941\u22c5\u2572\u2571 m \u22c5tanh\u239c6.26099033699941\u22c5  \u2571  \u2500 \u239f - 36\n",
        "                           \u239d                 \u2572\u2571   m \u23a0     "
       ]
      }
     ],
     "prompt_number": 32
    },
    {
     "cell_type": "code",
     "collapsed": false,
     "input": [
      "def newtonsym(f, x0, tolerancia, stop):\n",
      "    assert type(f).__bases__[0]  in (sym.expr.Expr, sym.operations.AssocOp), \"La funci\u00f3n no es una expresi\u00f3n simb\u00f3lica ... :/\"\n",
      "    \n",
      "    # Derivamos la expresi\u00f3n\n",
      "    df = sym.diff(f, m1)\n",
      "    \n",
      "    # Convertimos en funciones las expresiones\n",
      "    F = sym.lambdify(m1,f, modules=\"numpy\")\n",
      "    DF = sym.lambdify(m1, df, modules=\"numpy\")\n",
      "    \n",
      "    # Inicializamos el contador\n",
      "    k = 0\n",
      "    \n",
      "    # Inicializamos abs(x1-x0) en un n\u00famero mayor que la tolerancia\n",
      "    diff = 1\n",
      "    print \"{: >5} {: >10} {: >10} {: >10} {: >11} {: >10}\".format(\"k\", \"x0\", \"F(x0)\", \"DF(x0)\", \"abs(x1-x0)\", \"x1\")\n",
      "    \n",
      "    while diff >= tolerancia and k <= stop:\n",
      "        k = k + 1\n",
      "\n",
      "        x1 = x0 - (float(F(x0)/DF(x0)))\n",
      "        print \"{: >5} {: >10.5f} {: >10.5f} {: >10.5f} {: >10.5f} {: >11.5f}\".format(k, x0, F(x0), DF(x0), diff, x1)\n",
      "        \n",
      "        diff = abs(x1 - x0)\n",
      "        \n",
      "        x0 = x1\n",
      "        \n",
      "    if k > stop:\n",
      "        print \"El m\u00e9todo de Newton no convergi\u00f3: para la tolerancia especificada, se alcanzaron el m\u00e1ximo n\u00famero de iteraciones\"\n",
      "    \n",
      "    print \"\\n\\nLa ra\u00edz es %2.12f\" % x0"
     ],
     "language": "python",
     "metadata": {},
     "outputs": [],
     "prompt_number": 36
    },
    {
     "cell_type": "code",
     "collapsed": false,
     "input": [
      "newtonsym(f, 72, 1e-4,100)"
     ],
     "language": "python",
     "metadata": {},
     "outputs": [
      {
       "output_type": "stream",
       "stream": "stdout",
       "text": [
        "    k         x0      F(x0)     DF(x0)  abs(x1-x0)         x1\n",
        "    1   72.00000   -2.64449    0.06672    1.00000   111.63382\n",
        "    2  111.63382   -0.82405    0.03162   39.63382   137.69409\n",
        "    3  137.69409   -0.14009    0.02178   26.06027   144.12511\n",
        "    4  144.12511   -0.00564    0.02006    6.43102   144.40620\n",
        "    5  144.40620   -0.00001    0.01999    0.28109   144.40669\n",
        "    6  144.40669   -0.00000    0.01999    0.00050   144.40669\n",
        "\n",
        "\n",
        "La ra\u00edz es 144.406693960888\n"
       ]
      }
     ],
     "prompt_number": 37
    },
    {
     "cell_type": "markdown",
     "metadata": {},
     "source": [
      "Utilizamos lo siguientes para aproximar la derivada\n",
      "\n",
      "$$\n",
      "f'(x) \\approx \\frac{f(x_{i-1}) - f(x_i)}{x_{i-1} - x_i}\n",
      "$$"
     ]
    },
    {
     "cell_type": "code",
     "collapsed": false,
     "input": [
      "def derivadaPaAtras(f,x0,x1):\n",
      "    F = sym.lambdify(m1,f,modules=\"numpy\")\n",
      "    return (F(x0)-F(x1))/(x0-x1)"
     ],
     "language": "python",
     "metadata": {},
     "outputs": [],
     "prompt_number": 41
    },
    {
     "cell_type": "code",
     "collapsed": false,
     "input": [
      "derivadaPaAtras(f,69.0,70.0)"
     ],
     "language": "python",
     "metadata": {},
     "outputs": [
      {
       "latex": [
        "$$0.0707066260908$$"
       ],
       "metadata": {},
       "output_type": "pyout",
       "png": "[encoded data removed]",
       "prompt_number": 47,
       "text": [
        "0.0707066260908"
       ]
      }
     ],
     "prompt_number": 47
    },
    {
     "cell_type": "code",
     "collapsed": false,
     "input": [
      "def secante(f, x0, x1, tolerancia, stop):\n",
      "    \n",
      "    # Convertimos en funciones las expresiones\n",
      "    F = sym.lambdify(m1,f, modules=\"numpy\")\n",
      "    \n",
      "    valorF=derivadaPaAtras(f,x0,x1)\n",
      "    \n",
      "    # Inicializamos el contador\n",
      "    k = 0\n",
      "    \n",
      "    # Inicializamos abs(x1-x0) en un n\u00famero mayor que la tolerancia\n",
      "    diff = 1\n",
      "    print \"{: >5} {: >10} {: >10} {: >10} {: >11} {: >10}\".format(\"k\", \"x0\", \"F(x0)\", \"valorF\", \"abs(x1-x0)\", \"x1\")\n",
      "    \n",
      "    while diff >= tolerancia and k <= stop:\n",
      "        k = k + 1\n",
      "\n",
      "        x1 = x0 - (float(F(x0)/valorF))\n",
      "        print \"{: >5} {: >10.5f} {: >10.5f} {: >10.5f} {: >10.5f} {: >11.5f}\".format(k, x0, F(x0), valorF, diff, x1)\n",
      "        \n",
      "        diff = abs(x1 - x0)\n",
      "        \n",
      "        x0 = x1\n",
      "        \n",
      "    if k > stop:\n",
      "        print \"El m\u00e9todo de Newton no convergi\u00f3: para la tolerancia especificada, se alcanzaron el m\u00e1ximo n\u00famero de iteraciones\"\n",
      "    \n",
      "    print \"\\n\\nLa ra\u00edz es %2.12f\" % x0"
     ],
     "language": "python",
     "metadata": {},
     "outputs": [],
     "prompt_number": 68
    },
    {
     "cell_type": "code",
     "collapsed": false,
     "input": [
      "secante(f,69.0,70.0,1e-4,100)"
     ],
     "language": "python",
     "metadata": {},
     "outputs": [
      {
       "output_type": "stream",
       "stream": "stdout",
       "text": [
        "    k         x0      F(x0)     valorF  abs(x1-x0)         x1\n",
        "    1   69.00000   -2.85177    0.07071    1.00000   109.33240\n",
        "    2  109.33240   -0.89816    0.07071   40.33240   122.03509\n",
        "    3  122.03509   -0.52001    0.07071   12.70268   129.38954\n",
        "    4  129.38954   -0.33136    0.07071    7.35445   134.07589\n",
        "    5  134.07589   -0.22081    0.07071    4.68635   137.19885\n",
        "    6  137.19885   -0.15091    0.07071    3.12296   139.33322\n",
        "    7  139.33322   -0.10476    0.07071    2.13437   140.81487\n",
        "    8  140.81487   -0.07347    0.07071    1.48165   141.85389\n",
        "    9  141.85389   -0.05187    0.07071    1.03902   142.58747\n",
        "   10  142.58747   -0.03679    0.07071    0.73358   143.10783\n",
        "   11  143.10783   -0.02618    0.07071    0.52035   143.47813\n",
        "   12  143.47813   -0.01867    0.07071    0.37030   143.74224\n",
        "   13  143.74224   -0.01334    0.07071    0.26411   143.93092\n",
        "   14  143.93092   -0.00954    0.07071    0.18868   144.06586\n",
        "   15  144.06586   -0.00683    0.07071    0.13494   144.16245\n",
        "   16  144.16245   -0.00489    0.07071    0.09659   144.23162\n",
        "   17  144.23162   -0.00350    0.07071    0.06917   144.28118\n",
        "   18  144.28118   -0.00251    0.07071    0.04956   144.31670\n",
        "   19  144.31670   -0.00180    0.07071    0.03552   144.34216\n",
        "   20  144.34216   -0.00129    0.07071    0.02546   144.36042\n",
        "   21  144.36042   -0.00093    0.07071    0.01826   144.37351\n",
        "   22  144.37351   -0.00066    0.07071    0.01309   144.38289\n",
        "   23  144.38289   -0.00048    0.07071    0.00939   144.38963\n",
        "   24  144.38963   -0.00034    0.07071    0.00673   144.39445\n",
        "   25  144.39445   -0.00024    0.07071    0.00483   144.39791\n",
        "   26  144.39791   -0.00018    0.07071    0.00346   144.40040\n",
        "   27  144.40040   -0.00013    0.07071    0.00248   144.40218\n",
        "   28  144.40218   -0.00009    0.07071    0.00178   144.40346\n",
        "   29  144.40346   -0.00006    0.07071    0.00128   144.40437\n",
        "   30  144.40437   -0.00005    0.07071    0.00092   144.40503\n",
        "   31  144.40503   -0.00003    0.07071    0.00066   144.40550\n",
        "   32  144.40550   -0.00002    0.07071    0.00047   144.40584\n",
        "   33  144.40584   -0.00002    0.07071    0.00034   144.40608\n",
        "   34  144.40608   -0.00001    0.07071    0.00024   144.40625\n",
        "   35  144.40625   -0.00001    0.07071    0.00017   144.40638\n",
        "   36  144.40638   -0.00001    0.07071    0.00012   144.40647\n",
        "\n",
        "\n",
        "La ra\u00edz es 144.406467178300\n"
       ]
      }
     ],
     "prompt_number": 69
    },
    {
     "cell_type": "markdown",
     "metadata": {},
     "source": [
      "No estoy enteramente seguro que funcionara bien. En comparaci\u00f3n con los otros procesos, este tard\u00f3 muchos m\u00e1s pasos y difiere en el cuarto decimal. Se supon\u00eda que ibamos a sacrificar precisi\u00f3n por velocidad pero sali\u00f3 peor para ambas."
     ]
    },
    {
     "cell_type": "code",
     "collapsed": false,
     "input": [
      "def derivadaPerturbada(f,x0):\n",
      "    d=1e-6\n",
      "    F = sym.lambdify(m1,f,modules=\"numpy\")\n",
      "    return (F(x0+d*x0)-F(x0))/(d*x0)"
     ],
     "language": "python",
     "metadata": {},
     "outputs": [],
     "prompt_number": 62
    },
    {
     "cell_type": "code",
     "collapsed": false,
     "input": [
      "derivadaPerturbada(f,69)"
     ],
     "language": "python",
     "metadata": {},
     "outputs": [
      {
       "latex": [
        "$$0.0715430270903$$"
       ],
       "metadata": {},
       "output_type": "pyout",
       "png": "[encoded data removed]",
       "prompt_number": 63,
       "text": [
        "0.0715430270903"
       ]
      }
     ],
     "prompt_number": 63
    },
    {
     "cell_type": "markdown",
     "metadata": {},
     "source": [
      "Notar la diferencia entre derivadaPerturbada y derivadaPaAtras"
     ]
    },
    {
     "cell_type": "code",
     "collapsed": false,
     "input": [
      "def secante_modificado(f, x0, tolerancia, stop):\n",
      "    \n",
      "    # Convertimos en funciones las expresiones\n",
      "    F = sym.lambdify(m1,f, modules=\"numpy\")\n",
      "    \n",
      "    valorDF=derivadaPerturbada(f,x0)\n",
      "    \n",
      "    # Inicializamos el contador\n",
      "    k = 0\n",
      "    \n",
      "    # Inicializamos abs(x1-x0) en un n\u00famero mayor que la tolerancia\n",
      "    diff = 1\n",
      "    print \"{: >5} {: >10} {: >10} {: >10} {: >11} {: >10}\".format(\"k\", \"x0\", \"F(x0)\", \"valorDF\", \"abs(x1-x0)\", \"x1\")\n",
      "    \n",
      "    while diff >= tolerancia and k <= stop:\n",
      "        k = k + 1\n",
      "\n",
      "        x1 = x0 - (float(F(x0)/valorDF))\n",
      "        print \"{: >5} {: >10.5f} {: >10.5f} {: >10.5f} {: >10.5f} {: >11.5f}\".format(k, x0, F(x0), valorDF, diff, x1)\n",
      "        \n",
      "        diff = abs(x1 - x0)\n",
      "        \n",
      "        x0 = x1\n",
      "        \n",
      "    if k > stop:\n",
      "        print \"El m\u00e9todo de Newton no convergi\u00f3: para la tolerancia especificada, se alcanzaron el m\u00e1ximo n\u00famero de iteraciones\"\n",
      "    \n",
      "    print \"\\n\\nLa ra\u00edz es %2.12f\" % x0"
     ],
     "language": "python",
     "metadata": {},
     "outputs": [],
     "prompt_number": 64
    },
    {
     "cell_type": "code",
     "collapsed": false,
     "input": [
      "secante_modificado(f, 50, 1e-4,100)"
     ],
     "language": "python",
     "metadata": {},
     "outputs": [
      {
       "output_type": "stream",
       "stream": "stdout",
       "text": [
        "    k         x0      F(x0)    valorDF  abs(x1-x0)         x1\n",
        "    1   50.00000   -4.60534    0.11907    1.00000    88.67716\n",
        "    2   88.67716   -1.70980    0.11907   38.67716   103.03657\n",
        "    3  103.03657   -1.11561    0.11907   14.35941   112.40579\n",
        "    4  112.40579   -0.79979    0.11907    9.36922   119.12266\n",
        "    5  119.12266   -0.60041    0.11907    6.71687   124.16510\n",
        "    6  124.16510   -0.46333    0.11907    5.04244   128.05628\n",
        "    7  128.05628   -0.36412    0.11907    3.89118   131.11430\n",
        "    8  131.11430   -0.28985    0.11907    3.05802   133.54856\n",
        "    9  133.54856   -0.23291    0.11907    2.43426   135.50458\n",
        "   10  135.50458   -0.18848    0.11907    1.95602   137.08748\n",
        "   11  137.08748   -0.15336    0.11907    1.58290   138.37543\n",
        "   12  138.37543   -0.12531    0.11907    1.28795   139.42786\n",
        "   13  139.42786   -0.10275    0.11907    1.05243   140.29075\n",
        "   14  140.29075   -0.08447    0.11907    0.86289   141.00015\n",
        "   15  141.00015   -0.06959    0.11907    0.70939   141.58461\n",
        "   16  141.58461   -0.05744    0.11907    0.58447   142.06700\n",
        "   17  142.06700   -0.04747    0.11907    0.48239   142.46571\n",
        "   18  142.46571   -0.03929    0.11907    0.39871   142.79564\n",
        "   19  142.79564   -0.03254    0.11907    0.32993   143.06892\n",
        "   20  143.06892   -0.02697    0.11907    0.27328   143.29545\n",
        "   21  143.29545   -0.02237    0.11907    0.22653   143.48336\n",
        "   22  143.48336   -0.01857    0.11907    0.18790   143.63930\n",
        "   23  143.63930   -0.01542    0.11907    0.15595   143.76878\n",
        "   24  143.76878   -0.01281    0.11907    0.12948   143.87633\n",
        "   25  143.87633   -0.01064    0.11907    0.10755   143.96568\n",
        "   26  143.96568   -0.00884    0.11907    0.08935   144.03994\n",
        "   27  144.03994   -0.00735    0.11907    0.07426   144.10167\n",
        "   28  144.10167   -0.00611    0.11907    0.06173   144.15299\n",
        "   29  144.15299   -0.00508    0.11907    0.05132   144.19566\n",
        "   30  144.19566   -0.00423    0.11907    0.04267   144.23114\n",
        "   31  144.23114   -0.00351    0.11907    0.03548   144.26065\n",
        "   32  144.26065   -0.00292    0.11907    0.02951   144.28520\n",
        "   33  144.28520   -0.00243    0.11907    0.02455   144.30561\n",
        "   34  144.30561   -0.00202    0.11907    0.02042   144.32260\n",
        "   35  144.32260   -0.00168    0.11907    0.01698   144.33673\n",
        "   36  144.33673   -0.00140    0.11907    0.01413   144.34848\n",
        "   37  144.34848   -0.00116    0.11907    0.01175   144.35826\n",
        "   38  144.35826   -0.00097    0.11907    0.00978   144.36640\n",
        "   39  144.36640   -0.00081    0.11907    0.00814   144.37316\n",
        "   40  144.37316   -0.00067    0.11907    0.00677   144.37880\n",
        "   41  144.37880   -0.00056    0.11907    0.00563   144.38348\n",
        "   42  144.38348   -0.00046    0.11907    0.00469   144.38738\n",
        "   43  144.38738   -0.00039    0.11907    0.00390   144.39062\n",
        "   44  144.39062   -0.00032    0.11907    0.00324   144.39332\n",
        "   45  144.39332   -0.00027    0.11907    0.00270   144.39557\n",
        "   46  144.39557   -0.00022    0.11907    0.00225   144.39744\n",
        "   47  144.39744   -0.00019    0.11907    0.00187   144.39899\n",
        "   48  144.39899   -0.00015    0.11907    0.00155   144.40028\n",
        "   49  144.40028   -0.00013    0.11907    0.00129   144.40136\n",
        "   50  144.40136   -0.00011    0.11907    0.00108   144.40226\n",
        "   51  144.40226   -0.00009    0.11907    0.00090   144.40300\n",
        "   52  144.40300   -0.00007    0.11907    0.00075   144.40362\n",
        "   53  144.40362   -0.00006    0.11907    0.00062   144.40414\n",
        "   54  144.40414   -0.00005    0.11907    0.00052   144.40457\n",
        "   55  144.40457   -0.00004    0.11907    0.00043   144.40492\n",
        "   56  144.40492   -0.00004    0.11907    0.00036   144.40522\n",
        "   57  144.40522   -0.00003    0.11907    0.00030   144.40547\n",
        "   58  144.40547   -0.00002    0.11907    0.00025   144.40567\n",
        "   59  144.40567   -0.00002    0.11907    0.00021   144.40585\n",
        "   60  144.40585   -0.00002    0.11907    0.00017   144.40599\n",
        "   61  144.40599   -0.00001    0.11907    0.00014   144.40611\n",
        "   62  144.40611   -0.00001    0.11907    0.00012   144.40621\n",
        "\n",
        "\n",
        "La ra\u00edz es 144.406205164671\n"
       ]
      }
     ],
     "prompt_number": 65
    },
    {
     "cell_type": "markdown",
     "metadata": {},
     "source": [
      "El \u00faltimo m\u00e9todo result\u00f3 mucho m\u00e1s tardado que los otros"
     ]
    }
   ],
   "metadata": {}
  }
 ]
}