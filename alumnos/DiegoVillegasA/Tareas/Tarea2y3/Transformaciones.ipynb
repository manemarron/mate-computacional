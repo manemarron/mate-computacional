{
 "metadata": {
  "name": "",
  "signature": "sha256:578f70d4099e8a0dee675e2784291edec86f5783bcb91bba3f8e86745c1905e0"
 },
 "nbformat": 3,
 "nbformat_minor": 0,
 "worksheets": [
  {
   "cells": [
    {
     "cell_type": "code",
     "collapsed": false,
     "input": [
      "def minbit(n):\n",
      "    min = (2**(n-1))-1\n",
      "    return min"
     ],
     "language": "python",
     "metadata": {},
     "outputs": [],
     "prompt_number": 35
    },
    {
     "cell_type": "code",
     "collapsed": false,
     "input": [
      "def maxbit(n):\n",
      "    max = -(2)**(n-1)\n",
      "    return max"
     ],
     "language": "python",
     "metadata": {},
     "outputs": [],
     "prompt_number": 36
    },
    {
     "cell_type": "code",
     "collapsed": false,
     "input": [
      "maxbit(4)\n"
     ],
     "language": "python",
     "metadata": {},
     "outputs": [
      {
       "metadata": {},
       "output_type": "pyout",
       "prompt_number": 39,
       "text": [
        "-8"
       ]
      }
     ],
     "prompt_number": 39
    },
    {
     "cell_type": "code",
     "collapsed": false,
     "input": [
      "minbit(4)"
     ],
     "language": "python",
     "metadata": {},
     "outputs": [
      {
       "metadata": {},
       "output_type": "pyout",
       "prompt_number": 40,
       "text": [
        "7"
       ]
      }
     ],
     "prompt_number": 40
    },
    {
     "cell_type": "code",
     "collapsed": false,
     "input": [
      "?"
     ],
     "language": "python",
     "metadata": {},
     "outputs": [],
     "prompt_number": 11
    },
    {
     "cell_type": "code",
     "collapsed": false,
     "input": [
      "def decaBin(n):\n",
      "    bina = \"\"\n",
      "    max = 127\n",
      "    if n<max:\n",
      "        if n==1:\n",
      "            bina =\"1\"+bina\n",
      "            return bina    \n",
      "        else:\n",
      "            if n%2==0:\n",
      "                bina = \"0\" + bina\n",
      "            else:\n",
      "                bina = \"1\" + bina\n",
      "        \n",
      "        return decaBin(n/2) + bina\n",
      "    else:\n",
      "        return \"Overflow\"\n",
      "    "
     ],
     "language": "python",
     "metadata": {},
     "outputs": [],
     "prompt_number": 42
    },
    {
     "cell_type": "code",
     "collapsed": false,
     "input": [
      "decaBin(7)"
     ],
     "language": "python",
     "metadata": {},
     "outputs": [
      {
       "metadata": {},
       "output_type": "pyout",
       "prompt_number": 44,
       "text": [
        "'111'"
       ]
      }
     ],
     "prompt_number": 44
    },
    {
     "cell_type": "code",
     "collapsed": false,
     "input": [
      "bin(.36)"
     ],
     "language": "python",
     "metadata": {},
     "outputs": [
      {
       "ename": "TypeError",
       "evalue": "'float' object cannot be interpreted as an index",
       "output_type": "pyerr",
       "traceback": [
        "\u001b[1;31m---------------------------------------------------------------------------\u001b[0m\n\u001b[1;31mTypeError\u001b[0m                                 Traceback (most recent call last)",
        "\u001b[1;32m<ipython-input-38-09a0945028ca>\u001b[0m in \u001b[0;36m<module>\u001b[1;34m()\u001b[0m\n\u001b[1;32m----> 1\u001b[1;33m \u001b[0mbin\u001b[0m\u001b[1;33m(\u001b[0m\u001b[1;36m.36\u001b[0m\u001b[1;33m)\u001b[0m\u001b[1;33m\u001b[0m\u001b[0m\n\u001b[0m",
        "\u001b[1;31mTypeError\u001b[0m: 'float' object cannot be interpreted as an index"
       ]
      }
     ],
     "prompt_number": 38
    },
    {
     "cell_type": "code",
     "collapsed": false,
     "input": [
      "\"\"\"Esta funci\u00f3n de decimal a binario no la voy a limitar para poder utilizarla efic\u00e1zmente al quere convertir de hexadecimal a\n",
      "binario\"\"\"\n",
      "def decaBin2(n):\n",
      "    bina = \"\"\n",
      "    if n==1:\n",
      "        bina =\"1\"+bina\n",
      "        return bina    \n",
      "    else:\n",
      "        if n%2==0:\n",
      "            bina = \"0\" + bina\n",
      "        else:\n",
      "            bina = \"1\" + bina\n",
      "        \n",
      "    return decaBin2(n/2) + bina\n"
     ],
     "language": "python",
     "metadata": {},
     "outputs": [],
     "prompt_number": 18
    },
    {
     "cell_type": "code",
     "collapsed": false,
     "input": [
      "def binaDec(n):\n",
      "    decimal = 0\n",
      "    for digito in str(n):\n",
      "        decimal = decimal*2 + int(digito)\n",
      "    print decimal"
     ],
     "language": "python",
     "metadata": {},
     "outputs": [],
     "prompt_number": 19
    },
    {
     "cell_type": "code",
     "collapsed": false,
     "input": [
      "binaDec(11110000000000000000000)"
     ],
     "language": "python",
     "metadata": {},
     "outputs": [
      {
       "output_type": "stream",
       "stream": "stdout",
       "text": [
        "7864320\n"
       ]
      }
     ],
     "prompt_number": 22
    },
    {
     "cell_type": "code",
     "collapsed": false,
     "input": [
      "\"\"\" En general el algoritmo es pr\u00e1cticamente el mismo que el utilizado con el binario. La diferencia es que, en vez de existir \n",
      "2 caracteres posibles para las congruencias y para la impresi\u00f3n, existen 16 (incluyendo el 0). Por ello la existencia de tantos\n",
      "ifs. Intent\u00e9, previamente, utilizar alg\u00fan tipo de switch()-case pero no encontr\u00e9 el equivalente en python (seguro por ignoran-\n",
      "cia y no porque no exista jaja). Google me sugiri\u00f3 utilizar diccionarios pero no me corr\u00eda bien la funci\u00f3n, por ende, recurr\u00ed\n",
      "al cl\u00e1sico truco de utilizar montonales de ifs...\"\"\"\n",
      "\n",
      "def decaHex(n):\n",
      "    hexa = \"\"\n",
      "    \n",
      "    if n<16:\n",
      "        if n<10:\n",
      "            hexa = str(n) + hexa\n",
      "            return hexa\n",
      "        else:\n",
      "            if n == 10:\n",
      "                hexa = \"A\" + hexa\n",
      "                return hexa\n",
      "            else:\n",
      "                if n == 11:\n",
      "                    hexa = \"B\" + hexa\n",
      "                    return hexa\n",
      "                else:\n",
      "                    if n == 12:\n",
      "                        hexa = \"C\" + hexa\n",
      "                        return hexa\n",
      "                    else:\n",
      "                        if n == 13:\n",
      "                            hexa = \"D\" + hexa\n",
      "                            return hexa\n",
      "                        else:\n",
      "                            if n ==14:\n",
      "                                hexa = \"E\" + hexa\n",
      "                                return hexa\n",
      "                            else:\n",
      "                                    hexa = \"F\" + hexa\n",
      "                                    return hexa\n",
      "    else:\n",
      "        cong = n%16\n",
      "        \n",
      "        if cong == 0:\n",
      "            hexa = str(cong) + hexa\n",
      "        else:\n",
      "            if cong == 1:\n",
      "                hexa = str(cong) + hexa\n",
      "            else:\n",
      "                if cong ==2:\n",
      "                    hexa = str(cong) + hexa\n",
      "                else:\n",
      "                    if cong==3:\n",
      "                        hexa = str(cong) + hexa\n",
      "                    else:\n",
      "                        if cong==4:\n",
      "                            hexa = str(cong) + hexa\n",
      "                        else:\n",
      "                            if cong==5:\n",
      "                                hexa = str(cong) + hexa\n",
      "                            else:\n",
      "                                if cong==6:\n",
      "                                    hexa = str(cong) + hexa\n",
      "                                else:\n",
      "                                    if cong==7:\n",
      "                                        hexa = str(cong) + hexa\n",
      "                                    else:\n",
      "                                        if cong==8:\n",
      "                                            hexa = str(cong) + hexa\n",
      "                                        else:\n",
      "                                            if cong==9:\n",
      "                                                hexa = str(cong) + hexa\n",
      "                                            else:\n",
      "                                                if cong==10:\n",
      "                                                    hexa = \"A\" + hexa\n",
      "                                                else:\n",
      "                                                    if cong==11:\n",
      "                                                        hexa = \"B\" + hexa\n",
      "                                                    else:\n",
      "                                                        if cong==12:\n",
      "                                                            hexa = \"C\" + hexa\n",
      "                                                        else:\n",
      "                                                            if cong==13:\n",
      "                                                                hexa = \"D\" + hexa\n",
      "                                                            else:\n",
      "                                                                if cong==14:\n",
      "                                                                    hexa = \"E\" + hexa\n",
      "                                                                else:\n",
      "                                                                        hexa = \"F\" + hexa\n",
      "        return decaHex(n/16) + hexa\n",
      "                "
     ],
     "language": "python",
     "metadata": {},
     "outputs": [],
     "prompt_number": 17
    },
    {
     "cell_type": "code",
     "collapsed": false,
     "input": [
      "decaHex(3425234)"
     ],
     "language": "python",
     "metadata": {},
     "outputs": [
      {
       "metadata": {},
       "output_type": "pyout",
       "prompt_number": 29,
       "text": [
        "'3443D2'"
       ]
      }
     ],
     "prompt_number": 29
    },
    {
     "cell_type": "code",
     "collapsed": false,
     "input": [
      "def hexaDec(n):\n",
      "    decimal = 0\n",
      "    for digito in str(n):\n",
      "        if str(digito) == \"A\":\n",
      "            digito = 10\n",
      "        else:\n",
      "            if str(digito) == \"B\":\n",
      "                digito = 11\n",
      "            else:\n",
      "                if str(digito) == \"C\":\n",
      "                    digito = 12\n",
      "                else:\n",
      "                    if str(digito) == \"D\":\n",
      "                        digito = 13\n",
      "                    else:\n",
      "                        if str(digito) == \"E\":\n",
      "                            digito = 14\n",
      "                        else:\n",
      "                            if str(digito) == \"F\":\n",
      "                                digito = 15\n",
      "    decimal = decimal*16 + int(digito)\n",
      "    print decimal\n",
      "\n",
      "# Intent\u00e9 utilizar un algoritmo parecido al de binarios pero fracas\u00e9 miserablemente"
     ],
     "language": "python",
     "metadata": {},
     "outputs": [],
     "prompt_number": 19
    },
    {
     "cell_type": "code",
     "collapsed": false,
     "input": [
      "hexaDec(\"10\")"
     ],
     "language": "python",
     "metadata": {},
     "outputs": [
      {
       "output_type": "stream",
       "stream": "stdout",
       "text": [
        "0\n"
       ]
      }
     ],
     "prompt_number": 20
    },
    {
     "cell_type": "code",
     "collapsed": false,
     "input": [
      "#Por suerte python tiene un convertidor incluido :P\n",
      "def hexaDec2(n):\n",
      "    x = int(n, 16)\n",
      "    return x"
     ],
     "language": "python",
     "metadata": {},
     "outputs": [],
     "prompt_number": 21
    },
    {
     "cell_type": "code",
     "collapsed": false,
     "input": [
      "hexaDec2(\"5AF\")"
     ],
     "language": "python",
     "metadata": {},
     "outputs": [
      {
       "metadata": {},
       "output_type": "pyout",
       "prompt_number": 22,
       "text": [
        "1455"
       ]
      }
     ],
     "prompt_number": 22
    },
    {
     "cell_type": "code",
     "collapsed": false,
     "input": [
      "#Ya que puedo transformar a gusto entre hex-decimal y de dec-bin puedo crear una que transform de hex-bin y viceversa\n",
      "def hexaBin(n):\n",
      "    return decaBin2(hexaDec2(n))"
     ],
     "language": "python",
     "metadata": {},
     "outputs": [],
     "prompt_number": 23
    },
    {
     "cell_type": "code",
     "collapsed": false,
     "input": [
      "hexaBin(\"5AF\")"
     ],
     "language": "python",
     "metadata": {},
     "outputs": [
      {
       "metadata": {},
       "output_type": "pyout",
       "prompt_number": 24,
       "text": [
        "'10110101111'"
       ]
      }
     ],
     "prompt_number": 24
    },
    {
     "cell_type": "code",
     "collapsed": false,
     "input": [
      "def binaHex(n):\n",
      "    return decaHex(binaDec(n))"
     ],
     "language": "python",
     "metadata": {},
     "outputs": [],
     "prompt_number": 25
    },
    {
     "cell_type": "code",
     "collapsed": false,
     "input": [
      "binaHex(101)\n"
     ],
     "language": "python",
     "metadata": {},
     "outputs": [
      {
       "output_type": "stream",
       "stream": "stdout",
       "text": [
        "5\n"
       ]
      },
      {
       "metadata": {},
       "output_type": "pyout",
       "prompt_number": 33,
       "text": [
        "'None'"
       ]
      }
     ],
     "prompt_number": 33
    },
    {
     "cell_type": "code",
     "collapsed": false,
     "input": [
      "%%file Transforamciones.py\n",
      "\n",
      "# Funci\u00f3n que transforma de cartesianas a esf\u00e9ricas\n",
      "\n",
      "import math\n",
      "def esferica(x,y,z):\n",
      "    \n",
      "    # Llamemos el vector E=(x,y,z)\n",
      "    \n",
      "    ro = math.sqrt(x**2+y**2+z**2) #Magnitud de E\n",
      "    \n",
      "    \"\"\"\"Theta es el \u00e1ngulo formado por la proyecci\u00f3n de E al plano x,y. Es decir, es el \u00e1ngulo formado del eje x al vector \n",
      "    (x,y,0). Llamemos \"r\" a este vector. Se calcula a trav\u00e9s de arctang(y/x)\"\"\"\n",
      "    \n",
      "    magr = math.sqrt(x**2+y**2) #Magnitud de r\n",
      "    \n",
      "    theta = math.atan(y/x)\n",
      "    \n",
      "    \"\"\"Notemos que:\n",
      "        x = rcos(theta)\n",
      "        y = rsen(theta)\n",
      "    \n",
      "    \n",
      "     Phi es el \u00e1ngulo del eje z al vector E. Para encontrar phi se considera el vector r. Trasladando r a la altura de \n",
      "    la coordenada cartesiana (valor de z del vector E) se puede formar un tri\u00e1ngulo rect\u00e1ngulo entre el eje z, r trasladada y E\n",
      "    (de todas formas lo \u00fanico que nos interesa son las magnitudes de dichos catetos) Aplicamos arctan(magr/z) para calcular \n",
      "    phi\"\"\"\n",
      "    \n",
      "    phi = math.atan(ro/z)\n",
      "    \n",
      "    \"\"\"\n",
      "    Notemos que:\n",
      "        r = sin(phi)\n",
      "    \n",
      "    Por lo tanto tenemos que:\n",
      "    \"\"\"\n",
      "    \n",
      "    return (theta,phi,ro)\n",
      "    "
     ],
     "language": "python",
     "metadata": {},
     "outputs": [
      {
       "output_type": "stream",
       "stream": "stdout",
       "text": [
        "Overwriting Transforamciones.py\n"
       ]
      }
     ],
     "prompt_number": 27
    }
   ],
   "metadata": {}
  }
 ]
}