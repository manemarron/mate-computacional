{
 "metadata": {
  "name": "",
  "signature": "sha256:7d346d9c94864df36c38ab6083940949b57af7aa4c61ac42c1d58b85e7531de3"
 },
 "nbformat": 3,
 "nbformat_minor": 0,
 "worksheets": [
  {
   "cells": [
    {
     "cell_type": "heading",
     "level": 3,
     "metadata": {},
     "source": [
      "Euler17"
     ]
    },
    {
     "cell_type": "code",
     "collapsed": false,
     "input": [
      "# Voy a intentar usar diccionarios\n",
      "\n",
      "ones={'one':3,'two':3,'three':5,'four':4,'five':4,'six':3,'seven':5,'eight':5,'nine':4}\n",
      "tens={'ten':3,'eleven':6,'twelve':6,'thirteen':8,'fourteen':8,'fifteen':7,'sixteen':7,'seventeen':9,'eighteen':8,'nineteen':8}"
     ],
     "language": "python",
     "metadata": {},
     "outputs": [],
     "prompt_number": 7
    },
    {
     "cell_type": "code",
     "collapsed": false,
     "input": [
      "k=ones['one']+ones['two']+ones['three']+ones['four']+ones['five']+ones['six']+ones['seven']+ones['eight']+ones['nine']\n",
      "k1=tens['ten']+tens['eleven']+tens['twelve']+tens['thirteen']+tens['fourteen']+tens['fifteen']+tens['sixteen']+tens['seventeen']+tens['eighteen']+tens['nineteen']\n",
      "print k\n",
      "print k1"
     ],
     "language": "python",
     "metadata": {},
     "outputs": [
      {
       "output_type": "stream",
       "stream": "stdout",
       "text": [
        "36\n",
        "70\n"
       ]
      }
     ],
     "prompt_number": 13
    },
    {
     "cell_type": "code",
     "collapsed": false,
     "input": [
      "#Digamos que queremos contar las letras del 20 al 29:\n",
      "twenty=6\n",
      "twentys=twenty*k+twenty \n",
      "\"\"\"pues se cuenta el primer twenty y luego twenty one, twenty two,..., twenty nine. Se factoriza el 'twenty'\"\"\"\n",
      "thirty=6\n",
      "thirtys = thirty*k+thirty\n",
      "\n",
      "fourty=6\n",
      "fourtys = fourty*k+fourty\n",
      "\n",
      "fifty=5\n",
      "fiftys = fifty*k+fifty\n",
      "\n",
      "sixty=5\n",
      "sixtys = sixty*k+sixty\n",
      "\n",
      "seventy=7\n",
      "seventys = seventy*k+seventy\n",
      "\n",
      "eighty=8\n",
      "eightys=eighty*k+eighty\n",
      "\n",
      "ninety=6\n",
      "ninetys=ninety*k+ninety"
     ],
     "language": "python",
     "metadata": {},
     "outputs": [],
     "prompt_number": 19
    },
    {
     "cell_type": "code",
     "collapsed": false,
     "input": [
      "#La cantidad de letras que se usar\u00edan si escribi\u00e9semos del 1 al 99:\n",
      "hundreds = k+k1+twentys+thirtys+fourtys+fiftys+seventys+eightys+ninetys\n",
      "hundreds"
     ],
     "language": "python",
     "metadata": {},
     "outputs": [
      {
       "metadata": {},
       "output_type": "pyout",
       "prompt_number": 20,
       "text": [
        "1734"
       ]
      }
     ],
     "prompt_number": 20
    },
    {
     "cell_type": "code",
     "collapsed": false,
     "input": [
      "\"\"\"Para contar las letras entre 100 y 199 notamos que siempre se le agrega un 'one hundred and ...' Se factoriza dicho 'one\n",
      "hundred and' y se le multiplica por lo que ya contamos. Le adicionamos el one hundred al final:\"\"\"\n",
      "hundred=7\n",
      "And=3\n",
      "onehundredand=ones['one']+hundred+And\n",
      "twohundreds = onehundredand*hundreds + onehundredand\n",
      "\n",
      "twohundredand=ones['two']+hundred+And\n",
      "threehundreds = twohundredand*hundreds + twohundredand\n",
      "\n",
      "threehundredand=ones['three']+hundred+And\n",
      "fourhundreds = threehundredand*hundreds + threehundredand\n",
      "\n",
      "fourhundredand=ones['four']+hundred+And\n",
      "fivehundreds = fourhundredand*hundreds + fourhundredand\n",
      "\n",
      "fivehundredand=ones['five']+hundred+And\n",
      "sixhundreds = fivehundredand*hundreds + fivehundredand\n",
      "\n",
      "sixhundredand=ones['six']+hundred+And\n",
      "sevenhundreds = sixhundredand*hundreds + sixhundredand\n",
      "\n",
      "sevenhundredand=ones['seven']+hundred+And\n",
      "eighthundreds = sevenhundredand*hundreds + sevenhundredand\n",
      "\n",
      "eighthundredand=ones['eight']+hundred+And\n",
      "ninehundreds = eighthundredand*hundreds + eighthundredand\n",
      "\n",
      "thousand=8\n",
      "onethousand=ones['one']+thousand\n",
      "\n",
      "ninehundredand=ones['nine']+hundred+And\n",
      "athousand = ninehundredand*hundreds + ninehundredand + onethousand\n"
     ],
     "language": "python",
     "metadata": {},
     "outputs": [],
     "prompt_number": 25
    },
    {
     "cell_type": "code",
     "collapsed": false,
     "input": [
      "#Por lo tanto... si todo sale bien, la suma de letras ser\u00eda la suma de las variables anteriores\n",
      "#A la variable de athousand, que es la que cuenta de 900-999 le agregu\u00e9 el \u00faltimo dato: one thousand\n",
      "\n",
      "letras = hundreds+twohundreds+threehundreds+fourhundreds+fivehundreds+sixhundreds+sevenhundreds+eighthundreds+ninehundreds+athousand\n",
      "letras"
     ],
     "language": "python",
     "metadata": {},
     "outputs": [
      {
       "metadata": {},
       "output_type": "pyout",
       "prompt_number": 26,
       "text": [
        "220355"
       ]
      }
     ],
     "prompt_number": 26
    },
    {
     "cell_type": "code",
     "collapsed": false,
     "input": [],
     "language": "python",
     "metadata": {},
     "outputs": []
    }
   ],
   "metadata": {}
  }
 ]
}