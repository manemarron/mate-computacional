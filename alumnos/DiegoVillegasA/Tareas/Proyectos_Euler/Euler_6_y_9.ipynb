{
 "metadata": {
  "name": "",
  "signature": "sha256:a6f1e4ae4365fc4be8b0da628678824efd1ad73e55d56b4dab64d281eaf128de"
 },
 "nbformat": 3,
 "nbformat_minor": 0,
 "worksheets": [
  {
   "cells": [
    {
     "cell_type": "code",
     "collapsed": false,
     "input": [
      "#Problema 6 del proyecto Euler\n",
      "\n",
      "def dif(n):\n",
      "    a=0\n",
      "    b=0\n",
      "    \n",
      "    for i in range(1,n+1):\n",
      "        a = a+i**2\n",
      "        \n",
      "    for i in range(1,n+1):\n",
      "        b = b+i\n",
      "    \n",
      "    return b**2 - a\n",
      "    \n"
     ],
     "language": "python",
     "metadata": {},
     "outputs": [],
     "prompt_number": 36
    },
    {
     "cell_type": "code",
     "collapsed": false,
     "input": [
      "dif(100)"
     ],
     "language": "python",
     "metadata": {},
     "outputs": [
      {
       "metadata": {},
       "output_type": "pyout",
       "prompt_number": 38,
       "text": [
        "25164150"
       ]
      }
     ],
     "prompt_number": 38
    },
    {
     "cell_type": "code",
     "collapsed": false,
     "input": [
      "#Problema 9 del proyecto de Euler\n",
      "\n",
      "def triplet(n):\n",
      "    for a in range(1,n):\n",
      "        for b in range(a,n):\n",
      "            for c in range(b,n):\n",
      "                \n",
      "                if a+b+c==n and a**2+b**2-c**2==0:\n",
      "                    resp = a*b*c\n",
      "                    return resp"
     ],
     "language": "python",
     "metadata": {},
     "outputs": [],
     "prompt_number": 43
    },
    {
     "cell_type": "code",
     "collapsed": false,
     "input": [
      "triplet(1000)"
     ],
     "language": "python",
     "metadata": {},
     "outputs": [
      {
       "metadata": {},
       "output_type": "pyout",
       "prompt_number": 46,
       "text": [
        "31875000"
       ]
      }
     ],
     "prompt_number": 46
    },
    {
     "cell_type": "code",
     "collapsed": false,
     "input": [],
     "language": "python",
     "metadata": {},
     "outputs": []
    }
   ],
   "metadata": {}
  }
 ]
}