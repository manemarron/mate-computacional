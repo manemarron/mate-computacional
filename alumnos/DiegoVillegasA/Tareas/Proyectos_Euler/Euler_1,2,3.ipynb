{
 "metadata": {
  "name": "",
  "signature": "sha256:0accb62a4476e6221078f834907294a25591a7828009d38cfb55b8ee55d33500"
 },
 "nbformat": 3,
 "nbformat_minor": 0,
 "worksheets": [
  {
   "cells": [
    {
     "cell_type": "heading",
     "level": 1,
     "metadata": {},
     "source": [
      "Problema 1"
     ]
    },
    {
     "cell_type": "markdown",
     "metadata": {},
     "source": [
      "M\u00faltiplos de 3 y 5 menores de 100"
     ]
    },
    {
     "cell_type": "markdown",
     "metadata": {},
     "source": [
      "Este ejercicio se puede resolver a trav\u00e9s de funciones generadoras ordinarias o a trav\u00e9s de inclusi\u00f3n y exclusi\u00f3n. Sin embargo, aprovechando el poder de c\u00f3mputor har\u00e9 un for"
     ]
    },
    {
     "cell_type": "code",
     "collapsed": false,
     "input": [
      "suma=0\n",
      "for i in range(1,1000):\n",
      "    if i%3==0 or i%5==0:\n",
      "        suma=suma+i\n",
      "print suma"
     ],
     "language": "python",
     "metadata": {},
     "outputs": [
      {
       "output_type": "stream",
       "stream": "stdout",
       "text": [
        "233168\n"
       ]
      }
     ],
     "prompt_number": 1
    },
    {
     "cell_type": "heading",
     "level": 1,
     "metadata": {},
     "source": [
      "Problema 2"
     ]
    },
    {
     "cell_type": "markdown",
     "metadata": {},
     "source": [
      "Sumar todos los numeros pares en la sucesion de Fibonacci (con l\u00edmite el 4,000,000)."
     ]
    },
    {
     "cell_type": "code",
     "collapsed": false,
     "input": [
      "def fibonacci(n):\n",
      "    if n ==0:\n",
      "        return 0\n",
      "    elif n==1:\n",
      "        return 1\n",
      "    else: \n",
      "        return fibonacci(n-1) + fibonacci(n-2)"
     ],
     "language": "python",
     "metadata": {},
     "outputs": []
    },
    {
     "cell_type": "code",
     "collapsed": false,
     "input": [
      "f_1=0\n",
      "f_2=1\n",
      "f_3=0\n",
      "\n",
      "while f_1+f_2<=4000000:\n",
      "    f_3=f_1+f_2\n",
      "    if f_3%2==0:\n",
      "        suma=suma+f_3\n",
      "    f_1=f_2\n",
      "    f_2=f_3\n",
      "print suma"
     ],
     "language": "python",
     "metadata": {},
     "outputs": [
      {
       "output_type": "stream",
       "stream": "stdout",
       "text": [
        "4846900\n"
       ]
      }
     ],
     "prompt_number": 8
    },
    {
     "cell_type": "heading",
     "level": 1,
     "metadata": {},
     "source": [
      "Problema 3"
     ]
    },
    {
     "cell_type": "markdown",
     "metadata": {},
     "source": [
      "Encontrar el factor primo m\u00e1s grande de 600851475143"
     ]
    },
    {
     "cell_type": "code",
     "collapsed": false,
     "input": [
      "factor=2\n",
      "numero=600851475143\n",
      "while numero!=1:\n",
      "    if numero%factor==0:\n",
      "        print factor\n",
      "        numero=numero/factor\n",
      "    else:\n",
      "        factor+=1"
     ],
     "language": "python",
     "metadata": {},
     "outputs": [
      {
       "output_type": "stream",
       "stream": "stdout",
       "text": [
        "71\n",
        "839\n",
        "1471\n",
        "6857\n"
       ]
      }
     ],
     "prompt_number": 11
    },
    {
     "cell_type": "code",
     "collapsed": false,
     "input": [],
     "language": "python",
     "metadata": {},
     "outputs": []
    }
   ],
   "metadata": {}
  }
 ]
}