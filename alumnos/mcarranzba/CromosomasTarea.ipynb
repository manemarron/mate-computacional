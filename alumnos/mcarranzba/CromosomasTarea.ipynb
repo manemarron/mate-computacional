{
 "metadata": {
  "name": "",
  "signature": "sha256:6f05bbc855343d9adcdee494cf27d0c52ea9d9439e184a64bf0a8142443bd72e"
 },
 "nbformat": 3,
 "nbformat_minor": 0,
 "worksheets": [
  {
   "cells": [
    {
     "cell_type": "code",
     "collapsed": false,
     "input": [
      "%matplotlib inline\n",
      "import matplotlib as plt\n",
      "import matplotlib.pyplot as plt"
     ],
     "language": "python",
     "metadata": {},
     "outputs": [],
     "prompt_number": 336
    },
    {
     "cell_type": "code",
     "collapsed": false,
     "input": [
      "class GA:\n",
      "    def __init__(self,tamano_poblacion, tasa_poblacion, tasa_crossover, max_generaciones,fitness, longitud_cromosoma):\n",
      "        \n",
      "        self.tamano_poblacion = tamano_poblacion\n",
      "        self.tasa_poblacion = tasa_poblacion\n",
      "        self.tasa_crossover = tasa_crossover\n",
      "        self.max_generaciones = max_generaciones\n",
      "        self.fitness = fitness\n",
      "        self.longitud_cromosoma= longitud_cromosoma\n",
      "        #self.cadena = rand\n",
      "        self.poblacion = []\n",
      "        self.generacion=0\n",
      "        self.mejor_solucion_historica=None\n",
      "        self.mejor_solucion_actual=None\n",
      "        #circuitos electricos, hardware reprogramable\n",
      "    \n",
      "    \n",
      "    def poblar(self):\n",
      "        self.poblacion=[]\n",
      "        for e in xrange(0,self.tamano_poblacion,1):\n",
      "            h=Cromosoma(self.longitud_cromosoma)\n",
      "            self.poblacion.append(h)\n",
      "            h.imprime()\n",
      "    \n",
      "        #while y nulls, metemos el algoritmo\n",
      "        \n",
      "    def run(self,fitness):\n",
      "        fitness_poblacion=0\n",
      "        #fitness_array= np.zeros(2 * self.tamano_poblacion)\n",
      "        # fitness_array.reshape((2,self.tamano_poblacion)\n",
      "        for e in self.poblacion:\n",
      "            fitness_poblacion=fitness_poblacion+fitness(e)\n",
      "            #calcula el total de fitness\n",
      "        \n",
      "        fitness_lista=[]\n",
      "        for e in self.poblacion:\n",
      "            fitness_lista.append([e,fitness(e)*1.0/fitness_poblacion])\n",
      "           \n",
      "        fitness_lista=sorted(fitness_lista, key=lambda elem: elem[1])\n",
      "        nuevaGeneracion=[]\n",
      "        for i in xrange(0,self.tamano_poblacion,1):\n",
      "            padre=self.escojeUno(fitness_lista)\n",
      "            madre=self.escojeUno(fitness_lista)\n",
      "            vastago=self.cross(padre,madre)\n",
      "            nuevaGeneracion.append(vastago)\n",
      "        self.poblacion=nuevaGeneracion\n",
      "        return fitness_poblacion\n",
      "        \n",
      "    def escojeUno(self,fitness_lista):\n",
      "        numal=uniform(0,1)\n",
      "        acum=0\n",
      "        resp=0\n",
      "        for g in xrange(0,self.tamano_poblacion,1):\n",
      "            acum=acum+fitness_lista[g][1]\n",
      "            if(acum>numal):\n",
      "                resp=fitness_lista[g][0]\n",
      "                numal=2#para que ya no agrege otro cuando haya acabado( es imposible que sea mayor a uno por ser normalizado               \n",
      "        return resp\n",
      "    \n",
      "    def cross(self,padre, madre):\n",
      "        cad=[]\n",
      "        for i in xrange(0,padre.longitud,1):\n",
      "            if i<(padre.longitud/2):\n",
      "                cad.append(padre.cadena[i])\n",
      "            else:\n",
      "                cad.append(madre.cadena[i])\n",
      "        resp=Cromosoma(padre.longitud,cad)\n",
      "        if randrange(0,50)==1:#mutacion\n",
      "            resp.cadena[randrange(0,self.longitud_cromosoma)]=randrange(0,2)\n",
      "        \n",
      "        return resp\n",
      "    def imprime(self):\n",
      "        for e in self.poblacion:\n",
      "            e.imprime()\n",
      "    def desarrolla(self):\n",
      "        y=[]\n",
      "        x=xrange(0,self.max_generaciones,1)\n",
      "        for i in xrange(0,self.max_generaciones,1):\n",
      "            y.append(self.run(fitness))\n",
      "        prueba.imprime()\n",
      "        plt.scatter(x,y);\n",
      "        plt.xlabel(u'Generaci\u00f3n',fontsize=15)\n",
      "        plt.ylabel(u'Fitness Colectivo',fontsize=15)\n",
      "\n"
     ],
     "language": "python",
     "metadata": {},
     "outputs": [],
     "prompt_number": 337
    },
    {
     "cell_type": "code",
     "collapsed": false,
     "input": [
      "class Cromosoma: # abstract\n",
      "    def __init__(self,longitud,cadena=None):#, cadena=None\n",
      "        self.longitud = longitud\n",
      "        if cadena==None:\n",
      "            self.cadena =[]\n",
      "            for e in xrange(0,longitud,1):\n",
      "                self.cadena.append(randrange(0,2))\n",
      "        else:\n",
      "            self.cadena=cadena\n",
      "\n",
      "    def imprime(self):\n",
      "        print self.cadena\n",
      "#contrato, no cree objetos\n"
     ],
     "language": "python",
     "metadata": {},
     "outputs": [],
     "prompt_number": 338
    },
    {
     "cell_type": "code",
     "collapsed": false,
     "input": [
      "#cosas esten mas cerca, si no no hay mejora\n",
      "from random import randrange, uniform\n",
      "import numpy as np"
     ],
     "language": "python",
     "metadata": {},
     "outputs": [],
     "prompt_number": 339
    },
    {
     "cell_type": "code",
     "collapsed": false,
     "input": [
      "def fitness2(cromosoma):\n",
      "    suma=0\n",
      "    for i in xrange(0,cromosoma.longitud,1):\n",
      "        suma=suma+cromosoma.cadena[i]\n",
      "    return suma\n",
      "def fitness(cromosoma):\n",
      "    suma=0\n",
      "    ideal=[1,1,0,0,1,1,0,0]\n",
      "    for i in xrange(0,cromosoma.longitud,1):\n",
      "        if cromosoma.cadena[i]==ideal[i]:\n",
      "            suma=suma+1\n",
      "    return suma"
     ],
     "language": "python",
     "metadata": {},
     "outputs": [],
     "prompt_number": 340
    },
    {
     "cell_type": "code",
     "collapsed": false,
     "input": [
      "t=Cromosoma(8)\n",
      "t.imprime()\n",
      "print fitness(t)"
     ],
     "language": "python",
     "metadata": {},
     "outputs": [
      {
       "output_type": "stream",
       "stream": "stdout",
       "text": [
        "[1, 1, 0, 1, 0, 1, 1, 0]\n",
        "5\n"
       ]
      }
     ],
     "prompt_number": 345
    },
    {
     "cell_type": "code",
     "collapsed": false,
     "input": [
      "prueba=GA(10,1.0, 1.0,200,fitness,8)\n",
      "prueba.poblar()"
     ],
     "language": "python",
     "metadata": {},
     "outputs": [
      {
       "output_type": "stream",
       "stream": "stdout",
       "text": [
        "[1, 1, 0, 0, 0, 0, 1, 1]\n",
        "[1, 0, 0, 0, 0, 1, 1, 0]\n",
        "[0, 1, 0, 1, 1, 0, 1, 1]\n",
        "[1, 1, 0, 0, 0, 0, 0, 0]\n",
        "[0, 1, 1, 1, 1, 1, 0, 1]\n",
        "[1, 1, 0, 1, 1, 1, 1, 0]\n",
        "[0, 0, 1, 1, 1, 0, 0, 0]\n",
        "[0, 0, 0, 1, 1, 0, 0, 0]\n",
        "[0, 0, 0, 1, 1, 1, 1, 1]\n",
        "[0, 0, 0, 0, 1, 0, 1, 0]\n"
       ]
      }
     ],
     "prompt_number": 342
    },
    {
     "cell_type": "code",
     "collapsed": false,
     "input": [
      "prueba.desarrolla()"
     ],
     "language": "python",
     "metadata": {},
     "outputs": [
      {
       "output_type": "stream",
       "stream": "stdout",
       "text": [
        "[1, 1, 0, 0, 1, 0, 0, 0]\n",
        "[1, 1, 0, 0, 1, 0, 0, 0]\n",
        "[1, 1, 0, 0, 1, 0, 0, 0]\n",
        "[1, 1, 0, 0, 1, 0, 0, 0]\n",
        "[1, 1, 0, 0, 1, 0, 0, 0]\n",
        "[1, 1, 0, 0, 1, 0, 0, 0]\n",
        "[1, 1, 0, 0, 1, 0, 0, 0]\n",
        "[1, 1, 0, 0, 1, 0, 0, 0]\n",
        "[1, 1, 1, 0, 1, 0, 0, 0]\n",
        "[1, 1, 0, 0, 1, 0, 0, 0]\n"
       ]
      },
      {
       "metadata": {},
       "output_type": "display_data",
       "png": "[encoded data removed]",
       "text": [
        "<matplotlib.figure.Figure at 0x7f59429a5b50>"
       ]
      }
     ],
     "prompt_number": 343
    },
    {
     "cell_type": "code",
     "collapsed": false,
     "input": [
      "class BitCromosoma():\n",
      "    def __init__(self):\n",
      "        val=randrange(0,1)\n",
      "    def value():\n",
      "        return val\n",
      "    "
     ],
     "language": "python",
     "metadata": {},
     "outputs": [],
     "prompt_number": 344
    },
    {
     "cell_type": "code",
     "collapsed": false,
     "input": [
      "?\n",
      "\n",
      "\n",
      "\n"
     ],
     "language": "python",
     "metadata": {},
     "outputs": [
      {
       "output_type": "stream",
       "stream": "stdout",
       "text": [
        "Object `random` not found.\n"
       ]
      }
     ],
     "prompt_number": 3
    },
    {
     "cell_type": "code",
     "collapsed": false,
     "input": [],
     "language": "python",
     "metadata": {},
     "outputs": [],
     "prompt_number": 1
    },
    {
     "cell_type": "code",
     "collapsed": false,
     "input": [],
     "language": "python",
     "metadata": {},
     "outputs": [],
     "prompt_number": 1
    },
    {
     "cell_type": "code",
     "collapsed": false,
     "input": [],
     "language": "python",
     "metadata": {},
     "outputs": []
    }
   ],
   "metadata": {}
  }
 ]
}