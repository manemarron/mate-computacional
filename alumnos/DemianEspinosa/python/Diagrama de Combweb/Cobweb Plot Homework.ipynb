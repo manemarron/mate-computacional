{
 "metadata": {
  "name": "",
  "signature": "sha256:4c5c24ad370f5cbadfb62344426cc29aca47b4abb5f8447d30dc5970bfbd2714"
 },
 "nbformat": 3,
 "nbformat_minor": 0,
 "worksheets": [
  {
   "cells": [
    {
     "cell_type": "code",
     "collapsed": false,
     "input": [
      "%pylab inline"
     ],
     "language": "python",
     "metadata": {},
     "outputs": [
      {
       "output_type": "stream",
       "stream": "stdout",
       "text": [
        "Populating the interactive namespace from numpy and matplotlib\n"
       ]
      }
     ],
     "prompt_number": 2
    },
    {
     "cell_type": "code",
     "collapsed": false,
     "input": [
      "import numpy as np\n",
      "import matplotlib.pyplot as plt\n",
      "import sympy as sym"
     ],
     "language": "python",
     "metadata": {},
     "outputs": [],
     "prompt_number": 3
    },
    {
     "cell_type": "markdown",
     "metadata": {},
     "source": [
      "<div class=\"alert alert-warning\">\n",
      "Lectura recomendada: [Best Practices for Scientific Computing](http://arxiv.org/pdf/1210.0530v3.pdf)\n",
      "</div>"
     ]
    },
    {
     "cell_type": "heading",
     "level": 1,
     "metadata": {},
     "source": [
      "Caos: Primera parte"
     ]
    },
    {
     "cell_type": "heading",
     "level": 2,
     "metadata": {},
     "source": [
      "Introducci\u00f3n"
     ]
    },
    {
     "cell_type": "markdown",
     "metadata": {},
     "source": [
      "- Edward Lorenz la defini\u00f3 como:\n",
      "\n",
      "    **Caos** Cuando el presente determina el futuro, pero el presente aproximado no determina aproximadamente el futuro."
     ]
    },
    {
     "cell_type": "markdown",
     "metadata": {},
     "source": [
      "- La **teor\u00eda del caos** estudia el comportamiento de los sistemas din\u00e1micos que son muy sensibles a las condiciones iniciales (El famoso _efecto mariposa_ seg\u00fan [Jurassic Park](http://en.wikipedia.org/wiki/Jurassic_Park_%28film%29)). \n",
      "        - Aunque no es lo \u00fanico, ve m\u00e1s adelante.\n",
      "        \n",
      "- Este hecho hace que la predicci\u00f3n  alargo plazo sea imposible.\n",
      "\n",
      "- Entonces la afirmaci\u00f3n **determinismo** $\\to$ **predictibilidad** es falsa.\n",
      "\n"
     ]
    },
    {
     "cell_type": "markdown",
     "metadata": {},
     "source": [
      "        Chaos was the law of nature; Order was the dream of man\n",
      "            -- Henry Adams"
     ]
    },
    {
     "cell_type": "markdown",
     "metadata": {},
     "source": [
      "- Para saber **much\u00edsimo m\u00e1s** recomiendo: [Chaos Book](http://chaosbook.org/)"
     ]
    },
    {
     "cell_type": "markdown",
     "metadata": {},
     "source": [
      "Durante siglos en f\u00edsica se estuvo trabajando con sistemas como el [oscilador arm\u00f3nico](http://en.wikipedia.org/wiki/Harmonic_oscillator) y el problema de dos cuerpos con fuerza central (tambi\u00e9n conocido como [_problema de Kepler_](http://en.wikipedia.org/wiki/Kepler_problem)) los cuales se consideraban como paradigm\u00e1ticos para resolver problemas. La explosi\u00f3n del caos en el siglo XX nos se\u00f1alaba que esos problemas y m\u00e9todos no eran la norma, si no al contrario: eran casos especiales."
     ]
    },
    {
     "cell_type": "markdown",
     "metadata": {},
     "source": [
      "A lo largo del curso (sobre todo en la \u00faltima parte) podr\u00eda quedar el sabor de boca de que las herramientas anal\u00edticas son un fraude y que hemos sido enga\u00f1ados durante toda nuestra educaci\u00f3n y que el \u00fanico camino son las simulaciones y la estad\u00edstica."
     ]
    },
    {
     "cell_type": "markdown",
     "metadata": {},
     "source": [
      "Pero eso no es cierto: Existen teor\u00edas que tienen el mismo poder predictivo, y el estudio del caso general sigue abriendo el camino para la comprehensi\u00f3n cient\u00edfica del mundo."
     ]
    },
    {
     "cell_type": "markdown",
     "metadata": {},
     "source": [
      "Lo que si es cierto, es que, partiendo de la definici\u00f3n de que un **sistema determin\u00edstico** es aquel que su estado futuro esta _completamente_ determinado por sus condiciones actuales (en contraste con un sistema estoc\u00e1stico en el cual el futuro est\u00e1 determinado s\u00f3lo parcialmente) ya no implica **predictibilidad**."
     ]
    },
    {
     "cell_type": "heading",
     "level": 2,
     "metadata": {},
     "source": [
      "Sensitividad a condiciones iniciales"
     ]
    },
    {
     "cell_type": "markdown",
     "metadata": {},
     "source": [
      "Una de las caracter\u00edsticas que puede indicar **caos** es la sensibiliad a condiciones iniciales, la cual se puede expresar matem\u00e1ticamente como:"
     ]
    },
    {
     "cell_type": "markdown",
     "metadata": {},
     "source": [
      "$$\n",
      "|\\delta\\mathbf{x}(t)| = e^{\\lambda t}|\\delta\\mathbf{x}(0)|\n",
      "$$"
     ]
    },
    {
     "cell_type": "markdown",
     "metadata": {},
     "source": [
      "a $\\lambda$ se le conoce como _exponente de Lyapunov_. Si este exponente positivo indica que con el paso del tiempo la diferencia $\\delta$ crece exponencialmente."
     ]
    },
    {
     "cell_type": "markdown",
     "metadata": {},
     "source": [
      "<div class=\"alert alert-danger\">\n",
      "**NOTA** La sensibilidad es una idea muy importante pero no determina completamente si el sistema es caotico o no, para ello se necesita otra caracter\u00edstica: _mezcla topol\u00f3gica_ (topological mixing), la cual ver\u00e9mos m\u00e1s adelante, pero se puede entender como que las trayectorias del sistema, luego de diverger se vueven a aproximar un n\u00famero infinito de veces.\n",
      "</div>"
     ]
    },
    {
     "cell_type": "heading",
     "level": 3,
     "metadata": {},
     "source": [
      "Mapeos"
     ]
    },
    {
     "cell_type": "markdown",
     "metadata": {},
     "source": [
      "A los sistemas din\u00e1micos discretos, en una dimensi\u00f3n se les conoce como **mapas**, ya que son funciones\n",
      "\n",
      "$$\n",
      "f: \\mathrm{R} \\to \\mathrm{R}\n",
      "$$\n",
      "\n",
      "y los cuales producen la _secuencia_ de puntos:\n",
      "\n",
      "$$\n",
      "\\{x, f(x), f^2(x), f^3(x), \\ldots\\}\n",
      "$$\n",
      "\n",
      "la cual se conoce como _\u00f3rbita_ de $x$ bajo $f$."
     ]
    },
    {
     "cell_type": "markdown",
     "metadata": {},
     "source": [
      "Los sistemas din\u00e1micos discretos, se pueden pensar como ecuaciones de diferencias de primer orden\n",
      "\n",
      "$$\n",
      "y = x_{n+1} = f(x_n)\n",
      "$$\n",
      "\n",
      "y regularmente \n",
      "\n",
      "$$\n",
      "y=f(x) = f(x, a)\n",
      "$$\n",
      "\n",
      "existe un par\u00e1metro $a$ que puede influir much\u00edsimo en el comportamiento del sistema."
     ]
    },
    {
     "cell_type": "heading",
     "level": 3,
     "metadata": {},
     "source": [
      "Comportamientos"
     ]
    },
    {
     "cell_type": "markdown",
     "metadata": {},
     "source": [
      "Pueden pasar lo siguiente:\n",
      "\n",
      "- Si $f(x) = x$ hemos alcanzado un _punto fijo_.\n",
      "\n",
      "- Si $f^n(x) = x$, pero $f^k(x) \\neq x$ para $k \\leq n$, se dice que la \u00f3rbita tiene _periodo_ de orden $n$."
     ]
    },
    {
     "cell_type": "heading",
     "level": 3,
     "metadata": {},
     "source": [
      "Mapeo log\u00edstico"
     ]
    },
    {
     "cell_type": "markdown",
     "metadata": {},
     "source": [
      "$$\n",
      "x_{n+1} = rx_n(1 -x_n)\n",
      "$$"
     ]
    },
    {
     "cell_type": "markdown",
     "metadata": {},
     "source": [
      "Donde, para fines de esta clase, $r$ esta contenido en \n",
      "\n",
      "$$\n",
      "0 \\leq r \\leq 4\n",
      "$$\n",
      "\n",
      "la raz\u00f3n de esto, es que el cuadro unitario mapea al cuadro unitario, i.e.\n",
      "\n",
      "$$ \n",
      "0 \\leq x \\leq 1 \\to 0 \\leq f(x) \\leq 1\n",
      "$$"
     ]
    },
    {
     "cell_type": "markdown",
     "metadata": {},
     "source": [
      "<div class=\"alert alert-info\">\n",
      "**Ejercicio** \u00bfPor qu\u00e9?\n",
      "</div>"
     ]
    },
    {
     "cell_type": "markdown",
     "metadata": {},
     "source": [
      "f(x) = rx(1-x) = rx - rx\u00b2. Si x est\u00e1 definida de 0 a 1 inclusive, como f es continua en un intervalo compacto, por Teorema M\u00edn-M\u00e1x de Weierstrass su m\u00ednimo y m\u00e1ximo global existe y se encuentra en los extremos o en los puntos cr\u00edticos. Los extremos son 0 y 1, y derivando obtenemos que el \u00fanico punto cr\u00edtico que tiene es en 1/2 para r distinta de 0, en cuyo caso f(x) = 0 para toda x. Luego comprobamos que un m\u00ednimo global est\u00e1 en f(0) = f(1) = 0 y un m\u00e1ximo global en f(1/2) = r/4 <= 1. As\u00ed pues si 0 <= r <= 4 y 0 <= x <= 1, tenemos que 0 <= f(x) <= 1  "
     ]
    },
    {
     "cell_type": "markdown",
     "metadata": {},
     "source": [
      "<div class=\"alert alert-info\">\n",
      "**Ejercicio**  Define la funci\u00f3n `logistic_map` que recibe como par\u00e1metros $x$ y $r$ regresa $rx(1\u2212x)$. \n",
      "</div>"
     ]
    },
    {
     "cell_type": "code",
     "collapsed": false,
     "input": [
      "def logistic_map(x,r):\n",
      "    # Ejercicio\n",
      "    return r*x*(1-x)"
     ],
     "language": "python",
     "metadata": {},
     "outputs": [],
     "prompt_number": 4
    },
    {
     "cell_type": "markdown",
     "metadata": {},
     "source": [
      "Los _puntos fijos_ del mapeo log\u00edstico son:"
     ]
    },
    {
     "cell_type": "markdown",
     "metadata": {},
     "source": [
      "$$\n",
      "x = f(x)\n",
      "$$\n",
      "\n",
      "$$\n",
      "x = rx(1-x)\n",
      "$$\n",
      "\n",
      "$$\n",
      "1 = r(1-x)\n",
      "$$\n",
      "\n",
      "$$\n",
      "x = 1 - \\frac{1}{r}\n",
      "$$"
     ]
    },
    {
     "cell_type": "markdown",
     "metadata": {},
     "source": [
      "El punto fijo se dice _estable_ si $\\left|f(x) - x_0\\right| < \\left|x - x_0\\right|$ e _inestable_ si la desigualdad se invierte."
     ]
    },
    {
     "cell_type": "markdown",
     "metadata": {},
     "source": [
      "<div class=\"alert alert-info\">\n",
      "**Ejercicio** Calcule el punto fijo para $r = 2$ usando SymPy\n",
      "</div>"
     ]
    },
    {
     "cell_type": "code",
     "collapsed": false,
     "input": [
      "x = sym.symbols('x')\n",
      "r = 2\n",
      "sym.solve(x -1 + 1.0/r, x)"
     ],
     "language": "python",
     "metadata": {},
     "outputs": [
      {
       "metadata": {},
       "output_type": "pyout",
       "prompt_number": 5,
       "text": [
        "[0.500000000000000]"
       ]
      }
     ],
     "prompt_number": 5
    },
    {
     "cell_type": "markdown",
     "metadata": {},
     "source": [
      "<div class=\"alert alert-warning\">\n",
      "\n",
      "**Teorema:**\n",
      "\n",
      "Sea $f(x_0) = x_0.$, entonces, \n",
      "\n",
      "<ul>\n",
      "<li>Si $f'(x)$ es cont\u00ednua y $|f'(x_0)| < 1$ entonces $x_0$ es estable.</li>\n",
      "\n",
      "\n",
      "<li>Si $f'(x)$ es cont\u00ednua y $|f'(x_0)| > 1$ entonces $x_0$ es inestable.</li>\n",
      "</ul>\n",
      "</div>"
     ]
    },
    {
     "cell_type": "markdown",
     "metadata": {},
     "source": [
      "<div class=\"alert alert-info\">\n",
      "**Ejercicio** \u00bfCu\u00e1les son las condiciones de estabilidad para el par\u00e1metro $r$? Los valores de $r$ para cuales cambia de estable a inestable y viceversa, se llaman _puntos de bifurcaci\u00f3n_.\n",
      "</div>"
     ]
    },
    {
     "cell_type": "markdown",
     "metadata": {},
     "source": [
      "Dado un punto x0, usando |f(x) - f(x0)| <  |x - x0|, y sustituyendo y realizando \u00e1lgebra para ver cuando es certa la desigualdad llego a que es cierta para x0 si r|1 - (x0 + x)| < 1. Queda dado que x y x0 est\u00e1n entre 0 y 1, se traduce a r < 1/x0"
     ]
    },
    {
     "cell_type": "markdown",
     "metadata": {},
     "source": [
      "<div class=\"alert alert-info\">\n",
      "**Ejercicio** Programa un control para cambiar $r$ entre $0$ y $4$ (con un slider) y otro para definid $x_0$. Grafica `logistic_map` respecto al n\u00famero de iteraciones $N$. \u00bfQu\u00e9 observas? \u00bfPuedes ver alg\u00fan _periodo_?\u00bfEst\u00e1 cerca de los puntos fijos?\n",
      "</div>"
     ]
    },
    {
     "cell_type": "markdown",
     "metadata": {},
     "source": [
      "<div class=\"alert alert-info\">\n",
      "**Ejercicio** \u00bfQu\u00e9 sucede para (a) $x_0 = 0.35$ en $r = 2.8$ y (b) para $x_0 = 0.35$ en $r=3.1$. \u00bfPorqu\u00e9 escog\u00ed estos valores?\n",
      "</div>"
     ]
    },
    {
     "cell_type": "markdown",
     "metadata": {},
     "source": [
      "para x0 = .35, 1/.35 = 2.857...; Luego si r = 2.8 deber\u00eda ser estable y si r = 3.1 no lo deber\u00eda ser."
     ]
    },
    {
     "cell_type": "markdown",
     "metadata": {},
     "source": [
      "<div class=\"alert alert-info\">\n",
      "**Ejercicio** Define una funci\u00f3n `iterar` que reciba una funci\u00f3n `g`, un punto inicial `x0`, un entero `N` y el par\u00e1metro `r` regrese $g(g( \\ldots(g(x_0, r),r) \\ldots)$. En otras palabras que itere `g`, `N` veces a partir del punto `x0`.\n",
      "</div>"
     ]
    },
    {
     "cell_type": "code",
     "collapsed": false,
     "input": [
      "def iterar(g, x0, N, r):\n",
      "    for i in range(N):\n",
      "        x0 = g(x0,r)\n",
      "    return x0"
     ],
     "language": "python",
     "metadata": {},
     "outputs": [],
     "prompt_number": 6
    },
    {
     "cell_type": "markdown",
     "metadata": {},
     "source": [
      "<div class=\"alert alert-info\">\n",
      "**Ejercicio** Define una funci\u00f3n `iterarLista` que reciba una funci\u00f3n `g`, un punto inicial `x0`, un entero `N` y el par\u00e1metro $r$ regrese la lista $[x_0, g(x), g(g(x)), \\ldots g(g(\\ldots(g(x))\\ldots))]$ En otras palabras que itere `g`, `N-1` veces a partir del punto `x0` y devuelva la \u00f3rbita completa empezando desde `x0`.\n",
      "</div>"
     ]
    },
    {
     "cell_type": "code",
     "collapsed": false,
     "input": [
      "def iterarLista(g, x0, N, r):\n",
      "    l = [x0]\n",
      "    for i in range(N):\n",
      "        x0 = g(x0,r)\n",
      "        l.append(x0)\n",
      "    return l"
     ],
     "language": "python",
     "metadata": {},
     "outputs": [],
     "prompt_number": 7
    },
    {
     "cell_type": "markdown",
     "metadata": {},
     "source": [
      "<div class=\"alert alert-info\">\n",
      "**Ejercicio** Usa las funciones reci\u00e9n definidas para calcular iteraciones para $r = \\{ 0.8, 1.2, 2.8, 3.2\\}$,\n",
      "</div>"
     ]
    },
    {
     "cell_type": "code",
     "collapsed": false,
     "input": [
      "print iterarLista(logistic_map, .79, 20, .2)\n",
      "print iterarLista(logistic_map, .79, 20, 1.2)\n",
      "print iterarLista(logistic_map, .79, 20, 2.8)\n",
      "print iterarLista(logistic_map, .79, 20, 3.2)"
     ],
     "language": "python",
     "metadata": {},
     "outputs": [
      {
       "output_type": "stream",
       "stream": "stdout",
       "text": [
        "[0.79, 0.03318, 0.00641581752, 0.0012749309611100124, 0.0002546611024308831, 5.0919250030758364e-05, 1.0183331452146935e-05, 2.0366455503814943e-06, 4.0732828049127926e-07, 8.146562291499024e-08, 1.6293123255668506e-08, 3.258624598040528e-09, 6.517249174843788e-10, 1.303449834119267e-10, 2.606899667898738e-11, 5.2137993356615574e-12, 1.0427598671268748e-12, 2.0855197342515748e-13, 4.17103946850228e-14, 8.342078937004213e-15, 1.6684157874008287e-15]\n",
        "[0.79, 0.19907999999999995, 0.19133658431999997, 0.1856722749849066, 0.181437697544203, 0.17822167134487354, 0.1757504486494961, 0.17383467413879633, 0.17233941624702576, 0.17116625022559218, 0.17024203801116256, 0.16951162380596213, 0.1689329198407537, 0.16847350612179743, 0.1681082206281913, 0.1678174161424976, 0.16758567717810405, 0.1674008615794324, 0.16725337574627533, 0.1671356208573007, 0.16704156611753437]\n",
        "[0.79, 0.4645199999999999, 0.69647527488, 0.5919129058103195, 0.6763456496874093, 0.6129261931417114, 0.6642934897270585, 0.6244214178532538, 0.6566540701822808, 0.63128660642691, 0.6517387155241356, 0.6355310141910392, 0.6485677637385753, 0.6381973348176128, 0.6465241906180641, 0.6398858523784193, 0.6452094552522166, 0.6409597994949925, 0.6443649377937282, 0.6416445412602764, 0.6438231070072643]\n",
        "[0.79, 0.53088, 0.79694856192, 0.5178289650356607, 0.798982809618423, 0.5139496945685562, 0.7993772992686208, 0.5131943445844054, 0.7994429096671616, 0.5130686203202052, 0.7994534757213643, 0.5130483708108619, 0.7994551680613832, 0.513045127428252, 0.7994554388812182, 0.5130446083982625, 0.7994554822135552, 0.5130445253511907, 0.7994554891467589, 0.5130445120636012, 0.7994554902560722]\n"
       ]
      }
     ],
     "prompt_number": 8
    },
    {
     "cell_type": "heading",
     "level": 2,
     "metadata": {},
     "source": [
      "Diagrama de Cobweb"
     ]
    },
    {
     "cell_type": "markdown",
     "metadata": {},
     "source": [
      "El diagrama de **Cobweb** permite explorar de una manera visual los mapeos unidimensionales. En particular el comportamiento a largo plazo de los mapeos con cierta condici\u00f3n inicial."
     ]
    },
    {
     "cell_type": "markdown",
     "metadata": {},
     "source": [
      "El procedimiento es el siguiente:\n",
      "\n",
      "Sea una funci\u00f3n $f: \\mathbf{R} \\to \\mathbf{R}$, \n",
      "\n",
      "   1. Trace la diagonal $x = y$ y la curva $y=f(x)$.\n",
      "   2. Encuentre el punto en la curva con coordenada $x_0$, i.e. $(x_0, f(x_0))$\n",
      "   3. Trace la l\u00ednea horizontal del punto a la diagonal, i.e. del punto $(x_0, f(x_0)$ a $(f(x_0), f(x_0))$.\n",
      "   4. Trace la l\u00ednea vertical del punto de la diagonal, a la curva, i.e. del punto $(f(x_0), f(x_0))$ a $(f(x_0), f(f(x_0))$\n",
      "   5. Repita desde el paso 3.\n",
      "   "
     ]
    },
    {
     "cell_type": "markdown",
     "metadata": {},
     "source": [
      "<div class=\"alert alert-info\">\n",
      "**Ejercicio** Dibuja en una gr\u00e1fica `logistic_map`, como ejes usa $N_{n+1}$ y $N_n$, adem\u00e1s agrega la l\u00ednea $y = x$ en la misma gr\u00e1fica. \u00bfQu\u00e9 observas para los distintos valores de $r$? Graf\u00edcala junto a la gr\u00e1fica anterior.\n",
      "</div>"
     ]
    },
    {
     "cell_type": "heading",
     "level": 1,
     "metadata": {},
     "source": [
      "Tarea"
     ]
    },
    {
     "cell_type": "heading",
     "level": 5,
     "metadata": {},
     "source": [
      "Diagrama de cobweb"
     ]
    },
    {
     "cell_type": "code",
     "collapsed": false,
     "input": [
      "def cobwebPlot(g, r, X_0, N):\n",
      "    x = np.linspace(0, 1, 100)\n",
      "    y = g(x, r)\n",
      "    plt.plot(x,x)\n",
      "    plt.plot(x,y)\n",
      "    for i in range(N):\n",
      "        plt.plot([X_0, g(X_0, r)], [g(X_0, r), g(X_0, r)])\n",
      "        plt.plot([g(X_0, r), g(X_0, r)], [g(X_0, r), g(g(X_0, r), r)])\n",
      "        X_0 = g(X_0, r)\n",
      "    plt.xlabel('x axis')\n",
      "    plt.ylabel('y  axis')\n",
      "    plt.title('Logistic Map')\n",
      "    plt.show()\n",
      "    "
     ],
     "language": "python",
     "metadata": {},
     "outputs": [],
     "prompt_number": 9
    },
    {
     "cell_type": "code",
     "collapsed": false,
     "input": [
      "cobwebPlot(logistic_map, 2.8, .35, 15)"
     ],
     "language": "python",
     "metadata": {},
     "outputs": [
      {
       "metadata": {},
       "output_type": "display_data",
       "png": "[encoded data removed]",
       "text": [
        "<matplotlib.figure.Figure at 0x7f0390fa9fd0>"
       ]
      }
     ],
     "prompt_number": 10
    },
    {
     "cell_type": "code",
     "collapsed": false,
     "input": [
      "cobwebPlot(logistic_map, 3.3, .35, 15)"
     ],
     "language": "python",
     "metadata": {},
     "outputs": [
      {
       "metadata": {},
       "output_type": "display_data",
       "png": "[encoded data removed]",
       "text": [
        "<matplotlib.figure.Figure at 0x7f0390e0ae10>"
       ]
      }
     ],
     "prompt_number": 11
    },
    {
     "cell_type": "markdown",
     "metadata": {},
     "source": [
      "<div class=\"alert alert-info\">\n",
      "**Ejercicio** Agrega los segmentos de l\u00ednea $(x_0, x_0), (x_0. f(x_0)), (f(x_0), f(x_0)), (f(x_0), f(f(x_0))), \\ldots$\n",
      "</div>"
     ]
    },
    {
     "cell_type": "heading",
     "level": 2,
     "metadata": {},
     "source": [
      "Diagrama de Bifurcaci\u00f3n"
     ]
    },
    {
     "cell_type": "markdown",
     "metadata": {},
     "source": [
      "<div class=\"alert alert-info\">\n",
      "**Ejercicio** \u00bfQu\u00e9 hace el siguiente c\u00f3digo? Modificalo para que use nuestras funciones.\n",
      "</div>"
     ]
    },
    {
     "cell_type": "code",
     "collapsed": false,
     "input": [
      "import math\n",
      "from PIL import Image\n",
      "imgx = 1000\n",
      "imgy = 500\n",
      "image = Image.new(\"RGB\", (imgx, imgy))\n",
      "\n",
      "xa = 1\n",
      "xb = 4\n",
      "maxit = 5000\n",
      "\n",
      "for i in range(imgx):\n",
      "    r = xa + (xb - xa) * float(i) / (imgx - 1)\n",
      "    x = 0.5\n",
      "    for j in range(maxit):\n",
      "        x = r * x * (1 - x)\n",
      "        if j > maxit / 2:\n",
      "            image.putpixel((i, int(x * imgy)), (255, 255, 255))\n",
      "\n",
      "image.save(\"bifurcacion.png\", \"PNG\")"
     ],
     "language": "python",
     "metadata": {},
     "outputs": [
      {
       "ename": "ImportError",
       "evalue": "No module named PIL",
       "output_type": "pyerr",
       "traceback": [
        "\u001b[1;31m---------------------------------------------------------------------------\u001b[0m\n\u001b[1;31mImportError\u001b[0m                               Traceback (most recent call last)",
        "\u001b[1;32m<ipython-input-2-5ee3e9658ca9>\u001b[0m in \u001b[0;36m<module>\u001b[1;34m()\u001b[0m\n\u001b[0;32m      1\u001b[0m \u001b[1;32mimport\u001b[0m \u001b[0mmath\u001b[0m\u001b[1;33m\u001b[0m\u001b[0m\n\u001b[1;32m----> 2\u001b[1;33m \u001b[1;32mfrom\u001b[0m \u001b[0mPIL\u001b[0m \u001b[1;32mimport\u001b[0m \u001b[0mImage\u001b[0m\u001b[1;33m\u001b[0m\u001b[0m\n\u001b[0m\u001b[0;32m      3\u001b[0m \u001b[0mimgx\u001b[0m \u001b[1;33m=\u001b[0m \u001b[1;36m1000\u001b[0m\u001b[1;33m\u001b[0m\u001b[0m\n\u001b[0;32m      4\u001b[0m \u001b[0mimgy\u001b[0m \u001b[1;33m=\u001b[0m \u001b[1;36m500\u001b[0m\u001b[1;33m\u001b[0m\u001b[0m\n\u001b[0;32m      5\u001b[0m \u001b[0mimage\u001b[0m \u001b[1;33m=\u001b[0m \u001b[0mImage\u001b[0m\u001b[1;33m.\u001b[0m\u001b[0mnew\u001b[0m\u001b[1;33m(\u001b[0m\u001b[1;34m\"RGB\"\u001b[0m\u001b[1;33m,\u001b[0m \u001b[1;33m(\u001b[0m\u001b[0mimgx\u001b[0m\u001b[1;33m,\u001b[0m \u001b[0mimgy\u001b[0m\u001b[1;33m)\u001b[0m\u001b[1;33m)\u001b[0m\u001b[1;33m\u001b[0m\u001b[0m\n",
        "\u001b[1;31mImportError\u001b[0m: No module named PIL"
       ]
      }
     ],
     "prompt_number": 2
    },
    {
     "cell_type": "markdown",
     "metadata": {},
     "source": [
      "<img src=\"./bifurcacion.png\"/>"
     ]
    },
    {
     "cell_type": "heading",
     "level": 3,
     "metadata": {},
     "source": [
      "Pasos para producir el diagrama de bifurcaci\u00f3n"
     ]
    },
    {
     "cell_type": "markdown",
     "metadata": {},
     "source": [
      "1. Escoje un valor inicial para `r`\n",
      "2. Escoje un valor al azar para `x` en `[0,1]`\n",
      "3. Calcula la \u00f3rbita de `x` bajo el `g` (en el caso anterior el mapeo log\u00edstico)\n",
      "4. Ignora las primeras `n` iteraciones y dibuja el valor de `x` para la iteraci\u00f3n `n+1`\n",
      "5. Incrementa `r` y repite hasta `r` final."
     ]
    },
    {
     "cell_type": "markdown",
     "metadata": {},
     "source": [
      "<div class=\"alert alert-info\">\n",
      "**Ejercicio** Repite todo lo anterior para el mapeo\n",
      "\n",
      "$$\n",
      "f(x,\\mu) = 1 - \\mu x^2\n",
      "$$\n",
      "\n",
      "\u00bfQu\u00e9 diferencia observas? \u00bfCu\u00e1les son sus puntos fijos? \u00bfCu\u00e1les son los valores interesantes?\n",
      "</div>"
     ]
    }
   ],
   "metadata": {}
  }
 ]
}