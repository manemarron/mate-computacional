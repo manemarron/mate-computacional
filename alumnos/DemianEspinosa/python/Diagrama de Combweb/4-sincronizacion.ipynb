{
 "metadata": {
  "name": "",
  "signature": "sha256:7c00f5af5500505ece56bf23c87c054b575898cf9914af2e7763a9123f764868"
 },
 "nbformat": 3,
 "nbformat_minor": 0,
 "worksheets": [
  {
   "cells": [
    {
     "cell_type": "code",
     "collapsed": false,
     "input": [],
     "language": "python",
     "metadata": {},
     "outputs": []
    }
   ],
   "metadata": {}
  }
 ]
}