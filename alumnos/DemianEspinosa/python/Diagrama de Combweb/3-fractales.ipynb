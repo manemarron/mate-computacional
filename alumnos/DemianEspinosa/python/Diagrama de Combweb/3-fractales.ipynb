{
 "metadata": {
  "name": "",
  "signature": "sha256:2c6ee643f65b78a43b2b13104f540ccfc6417bb8359e4437cc5df4187c4619b7"
 },
 "nbformat": 3,
 "nbformat_minor": 0,
 "worksheets": [
  {
   "cells": [
    {
     "cell_type": "code",
     "collapsed": false,
     "input": [
      "%pylab inline\n",
      "from pylab import *\n",
      "import numpy as np\n",
      "import matplotlib.pyplot as plt\n",
      "import random\n",
      "import time\n",
      "from IPython import display\n",
      "import matplotlib.animation as animation"
     ],
     "language": "python",
     "metadata": {},
     "outputs": []
    },
    {
     "cell_type": "code",
     "collapsed": false,
     "input": [
      "pylab.rcParams['figure.figsize'] = (10.0, 8.0)"
     ],
     "language": "python",
     "metadata": {},
     "outputs": []
    },
    {
     "cell_type": "code",
     "collapsed": false,
     "input": [
      "# El c\u00f3digo siguiente recarga (reloads) las rutinas externas cada vez que el c\u00f3digo cambia (es \u00fatil para \"debuggear\" c\u00f3digo externo)\n",
      "\n",
      "%load_ext autoreload\n",
      "%autoreload 2"
     ],
     "language": "python",
     "metadata": {},
     "outputs": []
    },
    {
     "cell_type": "heading",
     "level": 1,
     "metadata": {},
     "source": [
      "Fractales y Recursividad"
     ]
    },
    {
     "cell_type": "heading",
     "level": 2,
     "metadata": {},
     "source": [
      "Recursividad"
     ]
    },
    {
     "cell_type": "markdown",
     "metadata": {},
     "source": [
      "Las funciones recursivas son funciones que se invocan a s\u00ed mismas en su definici\u00f3n. Debido a que una funci\u00f3n recursiva se invoca a s\u00ed misma para realizar su tarea, esta puede realizar acciones que contengan trabajos id\u00e9nticos en m\u00faltiples objetos de datos m\u00e1s sencillos de conceptualizar, planear y escribir."
     ]
    },
    {
     "cell_type": "code",
     "collapsed": false,
     "input": [
      "def fib(n):\n",
      "    if n == 0:\n",
      "        return 0\n",
      "    if n == 1:\n",
      "        return 1\n",
      "    return fib(n-1) + fib(n-2)"
     ],
     "language": "python",
     "metadata": {},
     "outputs": []
    },
    {
     "cell_type": "code",
     "collapsed": false,
     "input": [
      "fib(10)"
     ],
     "language": "python",
     "metadata": {},
     "outputs": []
    },
    {
     "cell_type": "markdown",
     "metadata": {},
     "source": [
      "<div class=\"alert alert-info\">\n",
      "**Ejercicio** Haga lo mismo para el factorial.\n",
      "</div>"
     ]
    },
    {
     "cell_type": "code",
     "collapsed": false,
     "input": [
      "def factorial(n):\n",
      "    pass"
     ],
     "language": "python",
     "metadata": {},
     "outputs": []
    },
    {
     "cell_type": "code",
     "collapsed": false,
     "input": [
      "assert factorial(5) == 120"
     ],
     "language": "python",
     "metadata": {},
     "outputs": []
    },
    {
     "cell_type": "heading",
     "level": 2,
     "metadata": {},
     "source": [
      "Curva de VonKoch"
     ]
    },
    {
     "cell_type": "markdown",
     "metadata": {},
     "source": [
      "El [Copo de nieve de VonKoch](http://en.wikipedia.org/wiki/Koch_snowflake)"
     ]
    },
    {
     "cell_type": "code",
     "collapsed": false,
     "input": [
      "class CurvaVonKoch:\n",
      "    def __init__(self, xi, yi, xf, yf):\n",
      "        self.xi = xi\n",
      "        self.yi = yi\n",
      "        self.xf = xf\n",
      "        self.yf = yf\n",
      "    \n",
      "    def _generar(self, xi, yi, xf, yf, iteracion):\n",
      "        \n",
      "        if iteracion == 0:\n",
      "            self.dibujar(xi, yi, xf, yf)\n",
      "            \n",
      "        elif iteracion >= 0:\n",
      "            x1 = xi + (xf - xi) / 3.0\n",
      "            y1 = yi + (yf - yi) / 3.0\n",
      "            \n",
      "            x3 = xf - (xf - xi) / 3.0\n",
      "            y3 = yf - (yf - yi) / 3.0\n",
      "            \n",
      "            r = hypot(x3 - x1, y3 - y1)\n",
      "            alpha = np.arctan2((y3 - y1), (x3 - x1))\n",
      "            alpha += np.pi/3\n",
      "            \n",
      "            x2 = x1 + r*np.cos(alpha)\n",
      "            y2 = y1 + r*np.sin(alpha)\n",
      "            \n",
      "            \n",
      "            self._generar(xi, yi, x1, y1, iteracion - 1)\n",
      "            self._generar(x1, y1, x2, y2, iteracion - 1)\n",
      "            self._generar(x2, y2, x3, y3, iteracion - 1)\n",
      "            self._generar(x3, y3, xf, yf, iteracion - 1)\n",
      "            \n",
      "    def dibujar(self, xi, yi, xf, yf):\n",
      "        plot([xi, xf], [yi, yf], lw=1.0, color='black')\n",
      "        \n",
      "    def generar(self, iteraciones=0):\n",
      "        return self._generar(self.xi, self.yi, self.xf, self.yf, iteraciones)"
     ],
     "language": "python",
     "metadata": {},
     "outputs": []
    },
    {
     "cell_type": "code",
     "collapsed": false,
     "input": [
      "c = CurvaVonKoch(0, 0, 9, 0)"
     ],
     "language": "python",
     "metadata": {},
     "outputs": []
    },
    {
     "cell_type": "code",
     "collapsed": false,
     "input": [
      "c.generar(iteraciones=1)"
     ],
     "language": "python",
     "metadata": {},
     "outputs": []
    },
    {
     "cell_type": "code",
     "collapsed": false,
     "input": [
      "class CopoVonKoch:\n",
      "    def __init__(self, lado=3, iteraciones=1):\n",
      "        self.lado = lado\n",
      "        self.iteraciones = iteraciones\n",
      "        \n",
      "        self.x_vertice1 = 0\n",
      "        self.y_vertice1 = 0\n",
      "        \n",
      "        self.x_vertice2 = lado * np.cos(2 * np.pi/3.0)\n",
      "        self.y_vertice2 = lado * np.sin(2 * np.pi/3.0)\n",
      "        \n",
      "        self.x_vertice3 = lado * np.cos(np.pi / 3.0)\n",
      "        self.y_vertice3 = lado * np.sin(np.pi / 3.0)\n",
      "        \n",
      "        self._generar()\n",
      "        \n",
      "    def _generar(self):\n",
      "        c1 = CurvaVonKoch(self.x_vertice1, self.y_vertice1, self.x_vertice2, self.y_vertice2)\n",
      "        c2 = CurvaVonKoch(self.x_vertice2, self.y_vertice2, self.x_vertice3, self.y_vertice3)\n",
      "        c3 = CurvaVonKoch(self.x_vertice3, self.y_vertice3, self.x_vertice1, self.y_vertice1)\n",
      "        \n",
      "        c1.generar(self.iteraciones)\n",
      "        c2.generar(self.iteraciones)\n",
      "        c3.generar(self.iteraciones)\n",
      "        "
     ],
     "language": "python",
     "metadata": {},
     "outputs": []
    },
    {
     "cell_type": "code",
     "collapsed": false,
     "input": [
      "copo = CopoVonKoch(lado=1,iteraciones=3)"
     ],
     "language": "python",
     "metadata": {},
     "outputs": []
    },
    {
     "cell_type": "markdown",
     "metadata": {},
     "source": [
      "<div class=\"alert alert-info\">\n",
      "**Ejercicio** Genera de la misma manera el [Tri\u00e1ngulo de Sierpinski](http://en.wikipedia.org/wiki/Sierpinski_triangle)\n",
      "</div>"
     ]
    },
    {
     "cell_type": "heading",
     "level": 2,
     "metadata": {},
     "source": [
      "El juego del Caos"
     ]
    },
    {
     "cell_type": "heading",
     "level": 3,
     "metadata": {},
     "source": [
      "Algoritmo"
     ]
    },
    {
     "cell_type": "markdown",
     "metadata": {},
     "source": [
      "1. Escoge 3 puntos en el plano (formando un tri\u00e1ngulo)\n",
      "2. Escoge unos de los v\u00e9rtices como el punto inicial.\n",
      "3. Escoge al azar otro v\u00e9rtice del tri\u00e1ngulo.\n",
      "4. Mu\u00e9vete en esa direcci\u00f3n la mitad de la distancia.\n",
      "5. Marca el punto.\n",
      "6. Repite desde el paso 3."
     ]
    },
    {
     "cell_type": "code",
     "collapsed": false,
     "input": [
      "import video_tag"
     ],
     "language": "python",
     "metadata": {},
     "outputs": []
    },
    {
     "cell_type": "code",
     "collapsed": false,
     "input": [
      "class ChaosGame(object):\n",
      "    def __init__(self, esquinas=[[0.0, 0.0], [4.0, 8.0], [8.0, 0.0]], steps=10):\n",
      "        self.esquinas = np.array(esquinas)\n",
      "        \n",
      "        self.steps = steps\n",
      "        \n",
      "        self.fig, self.ax = plt.subplots()\n",
      "        \n",
      "        self.ani = animation.FuncAnimation(self.fig, self.update, \n",
      "                                           interval=100, frames=self.steps, init_func=self.setup_plot,\n",
      "                                           blit=True)\n",
      "                \n",
      "        self.punto_actual = random.choice(self.esquinas) # Elegimos un v\u00e9rtice de inicio\n",
      "        \n",
      "        self.puntos = self.punto_actual\n",
      "\n",
      "    def setup_plot(self):\n",
      "        self.line, = plot([], [], linestyle='none', marker='o', color='r', markersize=3)\n",
      "        self.ax.axis([0,10,0,10])\n",
      "        \n",
      "        self.ax.set_yticklabels([])\n",
      "        self.ax.set_xticklabels([])\n",
      "        self.ax.set_yticks([])\n",
      "        self.ax.set_xticks([])\n",
      "        \n",
      "        return self.line,\n",
      "        \n",
      "    def show(self):\n",
      "        plt.show()\n",
      "        \n",
      "    def next_point(self):\n",
      "        target_point = random.choice(self.esquinas)\n",
      "        return (target_point + self.punto_actual)/2\n",
      "           \n",
      "    def update(self, i):\n",
      "        self.punto_actual = self.next_point()\n",
      "        self.puntos = np.vstack((self.puntos, self.punto_actual))\n",
      "        self.line.set_data(self.puntos[:,:1], self.puntos[:,1:])\n",
      "        \n",
      "        return self.line,"
     ],
     "language": "python",
     "metadata": {},
     "outputs": []
    },
    {
     "cell_type": "code",
     "collapsed": false,
     "input": [
      "a = ChaosGame(steps=1000)"
     ],
     "language": "python",
     "metadata": {},
     "outputs": []
    },
    {
     "cell_type": "code",
     "collapsed": false,
     "input": [
      "video_tag.display_animation(a.ani)"
     ],
     "language": "python",
     "metadata": {},
     "outputs": []
    }
   ],
   "metadata": {}
  }
 ]
}