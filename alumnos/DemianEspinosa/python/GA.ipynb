{
 "metadata": {
  "name": "",
  "signature": "sha256:98b2c804efe8bbfc9d774f1aae3d15bd4023acbed0be9e3c38744dbfc4ee69d8"
 },
 "nbformat": 3,
 "nbformat_minor": 0,
 "worksheets": [
  {
   "cells": [
    {
     "cell_type": "code",
     "collapsed": false,
     "input": [
      "import random"
     ],
     "language": "python",
     "metadata": {},
     "outputs": [],
     "prompt_number": 10
    },
    {
     "cell_type": "code",
     "collapsed": false,
     "input": [
      "def randbin(d):\n",
      "    mx = (2 ** d) - 1\n",
      "    b = bin(random.randint(0, mx))\n",
      "    return b[2:].rjust(d, '0') "
     ],
     "language": "python",
     "metadata": {},
     "outputs": [],
     "prompt_number": 11
    },
    {
     "cell_type": "code",
     "collapsed": false,
     "input": [
      "class GA:\n",
      "    def __init__(self, tamanoPoblacion, tasaMutacion, tasaCrossover, maxGeneraciones, fitness, longitud):\n",
      "        self.poblacion = list\n",
      "        self.generacion = 0\n",
      "        self.mejor_solucion_historica = None\n",
      "        self.mejor_solucion_actual = None\n",
      "        self.tamanoPoblacion = tamanoPoblacion\n",
      "        self.tasaMutacion = tasaMutacion\n",
      "        self.tasaCrossover = tasaCrossOver\n",
      "        self.maxGeneraciones = maxGeneraciones\n",
      "        self.fitness = fitness\n",
      "        self.longitud = longitud\n",
      "        self.fitness_poblacion = 0\n",
      "        \n",
      "    def poblar(self):\n",
      "        for i in range(self.tamanoPoblacion):\n",
      "            poblacion.append(BitCromosoma(self.longitud))\n",
      "            \n",
      "    def __str__(self):\n",
      "        for i in range(self.poblacion.size()):\n",
      "            print self.poblacion[i]\n",
      "        print \"Mejor solucion historica\" + self.mejor_solucion_historica\n",
      "        print \"Mejor solucion actual\" + self.mejor_solucion_actual\n",
      "        print \"Numero de generacion\" + self.generacion\n",
      "    def seleccionar(self):\n",
      "        self.fitness_poblacion = 0\n",
      "        for i in range (self.tamanoPoblacion):\n",
      "            self.fitness_poblacion += fitness(poblacion[i])\n",
      "        poblacion.sort([fitness])\n",
      "        tope = random.randint(0,tope)\n",
      "        \n",
      "        \n",
      "        \n",
      "    pass"
     ],
     "language": "python",
     "metadata": {},
     "outputs": []
    },
    {
     "cell_type": "code",
     "collapsed": false,
     "input": [
      "class Cromosoma:\n",
      "    pass"
     ],
     "language": "python",
     "metadata": {},
     "outputs": [],
     "prompt_number": 19
    },
    {
     "cell_type": "code",
     "collapsed": false,
     "input": [
      "class BitCromosoma(Cromosoma):\n",
      "    def __init__(self, longitud, cadena):\n",
      "        self.longitud = longitud\n",
      "        if(cadena == None):\n",
      "            self.cadena = randbin(longitud)\n",
      "        else:\n",
      "            self.cadena = cadena    "
     ],
     "language": "python",
     "metadata": {},
     "outputs": [],
     "prompt_number": 20
    },
    {
     "cell_type": "code",
     "collapsed": false,
     "input": [],
     "language": "python",
     "metadata": {},
     "outputs": [],
     "prompt_number": 20
    }
   ],
   "metadata": {}
  }
 ]
}