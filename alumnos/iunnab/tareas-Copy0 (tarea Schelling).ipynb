{
 "metadata": {
  "name": "",
  "signature": "sha256:e58d59be7ab7eb0d9390c45e26a587bb41fda59f1ec77f70e3fc66bf1e5efa92"
 },
 "nbformat": 3,
 "nbformat_minor": 0,
 "worksheets": [
  {
   "cells": [
    {
     "cell_type": "heading",
     "level": 1,
     "metadata": {},
     "source": [
      "Tarea"
     ]
    },
    {
     "cell_type": "heading",
     "level": 2,
     "metadata": {},
     "source": [
      "Problema 1"
     ]
    },
    {
     "cell_type": "markdown",
     "metadata": {},
     "source": [
      "Usando las clases `Agente` y `Mundo` dados en el _lecture_ modifica el c\u00f3digo para implementar el algoritmo original de Thomas Schelling. \n",
      "\n",
      "1. Crea una subclase `MundoGrid` a la cual le pases el n\u00famero de columnas y renglones que quieres para la simulaci\u00f3n. Estos funcionar\u00e1n como \"mega pixeles\".\n",
      "\n",
      "1. Crea una subclase `AgenteSchelling2` que en lugar de moverse al azar elija un \"mega p\u00edxel\" que est\u00e9 vac\u00edo.\n",
      "\n",
      "1. Dibuja la rejilla con los colores originales del art\u00edculo. Las celdas vac\u00edas, p\u00edntalas de negro.\n",
      "\n",
      "1. \u00bfLos resultados son an\u00e1logos?"
     ]
    },
    {
     "cell_type": "code",
     "collapsed": false,
     "input": [
      "%pylab inline"
     ],
     "language": "python",
     "metadata": {},
     "outputs": [
      {
       "output_type": "stream",
       "stream": "stdout",
       "text": [
        "Populating the interactive namespace from numpy and matplotlib\n"
       ]
      }
     ],
     "prompt_number": 22
    },
    {
     "cell_type": "code",
     "collapsed": false,
     "input": [
      "import numpy as np\n",
      "import matplotlib.pyplot as plt"
     ],
     "language": "python",
     "metadata": {},
     "outputs": [],
     "prompt_number": 23
    },
    {
     "cell_type": "code",
     "collapsed": false,
     "input": [
      "# Obtenido desde https://github.com/jakevdp/JSAnimation\n",
      "from JSAnimation import IPython_display\n",
      "from matplotlib import animation"
     ],
     "language": "python",
     "metadata": {},
     "outputs": [],
     "prompt_number": 24
    },
    {
     "cell_type": "code",
     "collapsed": false,
     "input": [
      "np.random.seed(10)"
     ],
     "language": "python",
     "metadata": {},
     "outputs": [],
     "prompt_number": 25
    },
    {
     "cell_type": "code",
     "collapsed": false,
     "input": [
      "class Mundo:\n",
      "               \n",
      "    def __init__(self, agentes, ancho=8, alto=8, steps = 10):\n",
      "        self.agentes = agentes\n",
      "        self.ancho = ancho\n",
      "        self.alto = alto\n",
      "        self.steps = steps\n",
      "        self.init_anim()\n",
      "            \n",
      "    def MundoGrid(self, filas, columnas):\n",
      "        self.filas= filas\n",
      "        self.columnas = columnas\n",
      "        \n",
      "    def init_anim(self):\n",
      "        self.fig = plt.figure(figsize=(self.ancho, self.alto))\n",
      "        plt.grid(True)\n",
      "        \n",
      "        self.ax = plt.axes(xlim=(0, columnas), ylim=(0, filas))\n",
      "        self.ax.set_axis_bgcolor('azure')\n",
      "        plot_args = {'markersize' : 8, 'alpha' : 0.6}\n",
      "        self.puntos, = self.ax.plot([], [], 'o', **plot_args)\n",
      "       \n",
      "       \n",
      "    def dibujar(self, step):\n",
      "        x_values_0, y_values_0 = [], []\n",
      "        for agente in self.agentes:\n",
      "            x, y = agente.locacion\n",
      "            x_values_0.append(x)\n",
      "            y_values_0.append(y)\n",
      "\n",
      "        self.puntos.set_data(x_values_0, y_values_0)\n",
      "        \n",
      "        self.ax.set_title('Paso {}'.format(step))\n",
      "        \n",
      "        return self.puntos,\n",
      "       \n",
      "    def actualizar(self, step):   \n",
      "        self.dibujar(step) # Dibuja el mundo\n",
      "        \n",
      "        for agente in self.agentes:\n",
      "            agente.actualizar(self.agentes)\n",
      "    \n",
      "    def clean_screen(self):\n",
      "        self.puntos.set_data([], [])\n",
      "        return self.puntos,\n",
      "          \n",
      "    def simular(self):\n",
      "        anim = animation.FuncAnimation(self.fig, self.actualizar, init_func=self.clean_screen, frames=self.steps, interval=100, blit=False)\n",
      "        return anim"
     ],
     "language": "python",
     "metadata": {},
     "outputs": [],
     "prompt_number": 26
    },
    {
     "cell_type": "code",
     "collapsed": false,
     "input": [
      "class Agente:\n",
      "    \"\"\" Agente general \"\"\"\n",
      "    def __init__(self, tipo, locacion=np.array([0,0])):\n",
      "        self.tipo = tipo\n",
      "        self.locacion = locacion\n",
      "        self.siguiente_accion = None\n",
      "\n",
      "    def distancia(self, otro):\n",
      "        \"Calcula la distancia eucl\u00eddea entre este agente y otro.\"\n",
      "        return np.linalg.norm(self.locacion - otro.locacion)  # Otra manera es usar np.sqrt(np.sum((a-b)**2))\n",
      "    \n",
      "    def vecinos(self, agentes):\n",
      "        pass\n",
      "    \n",
      "    def actuar(self, agentes):\n",
      "        self.locacion =  self.siguiente_accion\n",
      "        \n",
      "    def decidir(self, agentes):\n",
      "        self.siguiente_accion = np.array([random.uniform(0, 1), random.uniform(0, 1)]) # Toma una nueva posici\u00f3n al azar\n",
      "    \n",
      "    def actualizar(self, agentes):\n",
      "        self.decidir(agentes)\n",
      "        self.actuar(agentes)"
     ],
     "language": "python",
     "metadata": {},
     "outputs": [],
     "prompt_number": 27
    },
    {
     "cell_type": "code",
     "collapsed": false,
     "input": [
      "class MundoSchelling2(Mundo):\n",
      "\n",
      "    def init_anim(self):\n",
      "        self.fig = plt.figure(figsize=(self.ancho, self.alto))\n",
      "        self.ax = plt.axes(xlim=(0, 1), ylim=(0,1))\n",
      "        plt.grid(True)\n",
      "        self.ax.set_axis_bgcolor('azure')\n",
      "        plot_args = {'markersize' : 8, 'alpha' : 0.6}\n",
      "        self.puntos_0, = self.ax.plot([], [], 'o', markerfacecolor='orange', **plot_args)\n",
      "        self.puntos_1, = self.ax.plot([], [], 'o', markerfacecolor='green', **plot_args)\n",
      "        \n",
      "    def MundoGrid(self, filas, columnas):\n",
      "        self.filas= filas\n",
      "        self.columnas = columnas\n",
      "    \n",
      "    def clean_screen(self):\n",
      "        self.puntos_0.set_data([], [])\n",
      "        self.puntos_1.set_data([], [])\n",
      "        return \n",
      "    \n",
      "    def dibujar(self,step):\n",
      "   \n",
      "        x_values_0, y_values_0 = [], []\n",
      "        x_values_1, y_values_1 = [], []\n",
      "    \n",
      "        for agente in self.agentes:\n",
      "            x, y = agente.locacion\n",
      "            if agente.tipo == 0:\n",
      "                x_values_0.append(x)\n",
      "                y_values_0.append(y)\n",
      "            else:\n",
      "                x_values_1.append(x)\n",
      "                y_values_1.append(y)\n",
      "\n",
      "                \n",
      "        self.puntos_0.set_data(x_values_0, y_values_0)\n",
      "        self.puntos_1.set_data(x_values_1, y_values_1)\n",
      "        \n",
      "        self.ax.set_title('Paso {}'.format(step))\n",
      "\n",
      "        return "
     ],
     "language": "python",
     "metadata": {},
     "outputs": [],
     "prompt_number": 38
    },
    {
     "cell_type": "code",
     "collapsed": false,
     "input": [
      "class AgenteSchelling2(Agente):\n",
      "    \n",
      "    def __init__(self, tipo, homofilia=5, vecinos=7, delta=0.1):\n",
      "        Agente.__init__(self, tipo)\n",
      "        self.delta = delta\n",
      "        self.homofilia = homofilia\n",
      "        self.vecinos = vecinos # Quienes son mis vecinos\n",
      "        self.feliz = False\n",
      "        self.posibles_direcciones = (0,1) #  (quieto, avanzar uno)\n",
      "        \n",
      "        self.locacion = np.array([random.uniform(0, 1), random.uniform(0, 1)]) # Posici\u00f3n al azar inicial\n",
      "        \n",
      "    def actuar(self, agentes):\n",
      "        self.locacion = self.locacion + self.siguiente_accion*self.delta # moverme\n",
      "        \n",
      "    def decision(self, agentes):\n",
      "        \"\"\"Verdadero si un n\u00famero suficiente de vecinos cercanos es del mismo tipo.\"\"\"\n",
      "        \n",
      "        distancias = []\n",
      "        \n",
      "        # Distancias es una lista de pares (distancia, agente)\n",
      "        for agente in agentes:\n",
      "            if self != agente:\n",
      "                distancia = self.distancia(agente)\n",
      "                distancias.append((distancia, agente))\n",
      "                \n",
      "        # Ordenamos del m\u00e1s cercano al m\u00e1s lejano \n",
      "        distancias.sort()\n",
      "        vecinos = [agente for dist, agente in distancias[:self.vecinos]]\n",
      "        \n",
      "        # Contamos cuantos vecinos son del mismo tipo \n",
      "        num_mismo_tipo = sum(self.tipo == agente.tipo for agente in vecinos)\n",
      "        \n",
      "        self.feliz = (num_mismo_tipo >= self.homofilia)\n",
      "        \n",
      "        return self.feliz\n",
      "\n",
      "    def actualizar(self, agentes):\n",
      "        \"\"\"Si no est\u00e1 feliz, escoge una posici\u00f3n nueva al azar, s\u00f3lo se detiene cuando est\u00e1 feliz.\"\"\"\n",
      "        self.decision(agentes)\n",
      "        \n",
      "        if not self.feliz:\n",
      "            self.actuar(agentes) # No estaba feliz en la ultima ronda\n",
      "            \n"
     ],
     "language": "python",
     "metadata": {},
     "outputs": [],
     "prompt_number": 39
    },
    {
     "cell_type": "code",
     "collapsed": false,
     "input": [
      "num_tipo_0 = 200\n",
      "num_tipo_1 = 200\n",
      "\n",
      "agentes = [AgenteSchelling2(tipo=0) for i in range(num_tipo_0)]\n",
      "agentes.extend(AgenteSchelling2(tipo=1) for i in range(num_tipo_1))\n",
      "\n",
      "\n",
      "schelling_world2 = MundoSchelling2(agentes = agentes, steps = 30)\n",
      "\n",
      "schelling_world2.simular()"
     ],
     "language": "python",
     "metadata": {},
     "outputs": [
      {
       "output_type": "stream",
       "stream": "stderr",
       "text": [
        "/usr/local/lib/python2.7/dist-packages/IPython/core/formatters.py:239: FormatterWarning: Exception in text/html formatter: unsupported operand type(s) for *: 'NoneType' and 'float'\n",
        "  FormatterWarning,\n"
       ]
      },
      {
       "metadata": {},
       "output_type": "pyout",
       "prompt_number": 40,
       "text": [
        "<matplotlib.animation.FuncAnimation at 0x7f23d70e8610>"
       ]
      }
     ],
     "prompt_number": 40
    },
    {
     "cell_type": "code",
     "collapsed": false,
     "input": [],
     "language": "python",
     "metadata": {},
     "outputs": [],
     "prompt_number": 34
    },
    {
     "cell_type": "code",
     "collapsed": false,
     "input": [],
     "language": "python",
     "metadata": {},
     "outputs": []
    }
   ],
   "metadata": {}
  }
 ]
}