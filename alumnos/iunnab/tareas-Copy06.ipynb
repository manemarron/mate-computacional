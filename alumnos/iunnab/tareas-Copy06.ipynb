{
 "metadata": {
  "name": "",
  "signature": "sha256:147b5a536743da3c5c5948e0895ef45cfe22854c9f13d0caf779a946a22480fa"
 },
 "nbformat": 3,
 "nbformat_minor": 0,
 "worksheets": [
  {
   "cells": [
    {
     "cell_type": "heading",
     "level": 1,
     "metadata": {},
     "source": [
      "Tareas"
     ]
    },
    {
     "cell_type": "code",
     "collapsed": false,
     "input": [
      "%matplotlib inline\n",
      "import numpy as np\n",
      "import matplotlib.pyplot as plt\n",
      "import numpy.random"
     ],
     "language": "python",
     "metadata": {},
     "outputs": [],
     "prompt_number": 1
    },
    {
     "cell_type": "heading",
     "level": 2,
     "metadata": {},
     "source": [
      "Problema 1"
     ]
    },
    {
     "cell_type": "markdown",
     "metadata": {},
     "source": [
      "Utilizando el c\u00f3digo de runge-kutta de segundo orden como base, implemente el c\u00f3digo de runge-kutta de cuarto orden. La funci\u00f3n debe de llamarse `rk4`. "
     ]
    },
    {
     "cell_type": "code",
     "collapsed": false,
     "input": [
      "def rk4(y,t,dt,derivadas):\n",
      "    k0 = dt*derivadas(y,t)\n",
      "    k1 = dt*derivadas(y+0.5*k0, t+0.5*dt)\n",
      "    k2 = dt*derivadas(y+0.5*k1, t+0.5*dt)\n",
      "    k3 = dt*derivadas(y+k2, t+dt)\n",
      "    y_next = y+(1/6)*(k0+2*k1+2*k2+k3)\n",
      "    return y_next"
     ],
     "language": "python",
     "metadata": {},
     "outputs": [],
     "prompt_number": 2
    },
    {
     "cell_type": "heading",
     "level": 2,
     "metadata": {},
     "source": [
      "Problema 2"
     ]
    },
    {
     "cell_type": "markdown",
     "metadata": {},
     "source": [
      "La taza a la cual un recurso finito es recogido depende de la dificultad y de la demanda. Sup\u00f3n que la demanda $D$ se incrementa con la cantidad extra\u00edda $E$:\n",
      "\n",
      "$$\\dot D = \\alpha E$$\n",
      "\n",
      "Sup\u00f3n que la dificultad de extracci\u00f3n $W$ es inversamentedependiente de la fracci\u00f3n restante del recurso:\n",
      "\n",
      "$$\n",
      "W = \\frac{1}{1 -E}\n",
      "$$\n",
      "\n",
      "Finalmente, sup\u00f3n que la tasa de extracci\u00f3n $$ es la raz\u00f3n de la demanda a la dificultad.\n",
      "\n",
      "$$ R = \\dot E = \\frac{D}{W} $$\n",
      "\n",
      "Por \u00faltimo, el costo $C$ del recurso depende de la tasa de la extracci\u00f3n y de la demanda:\n",
      "\n",
      "$$ C = \\frac{D}{R}\\xi$$,\n",
      "\n",
      "donde $\\xi$ es un factor de escala.\n",
      "\n",
      "(a) Escribe un programa que dibuja la tasa de la extracci\u00f3n y el costo como una funci\u00f3n del tiempo. Usando las condiciones iniciales: $D_0 = 0.1$, $E_0 = 0.1$,  $\\alpha = 2.0$ y $\\xi = 0.01$. Grafica de 0 a 5 unidades de tiempo. \n",
      "\n",
      "\n",
      "(b) Resuelve con `rk4` y con  `odeint`. Compara los tiempos y los resultados. \u00bfQu\u00e9 puedes concluir?\n",
      "\n",
      "(c) Agrega un _widget_ para los valores de $\\alpha$ y $\\xi$.\n",
      "\n",
      "(d) Discute la din\u00e1mica del sistema en general y menciona algunos hallazgos interesantes para diferentes valores y condiciones iniciales."
     ]
    },
    {
     "cell_type": "heading",
     "level": 2,
     "metadata": {},
     "source": [
      "Problema 3"
     ]
    },
    {
     "cell_type": "markdown",
     "metadata": {},
     "source": [
      "(a) Calcular el valor de $\\pi$ usando m\u00e9todos de Monte Carlo."
     ]
    },
    {
     "cell_type": "code",
     "collapsed": false,
     "input": [
      "#C\u00f3mo el \u00e1rea de un c\u00edrculo de radio 1 es igual a pi, podemos calcular pi si calculamos el \u00e1rea de un c\u00edrculo de radio 1.\n",
      "\n",
      "\n",
      "%matplotlib inline\n",
      "\n",
      "import matplotlib.pyplot as plt\n",
      "import numpy.random\n",
      "\n",
      "radio = 1\n",
      "\n",
      "N = 100000000\n",
      "\n",
      "# N\u00fameros al azar\n",
      "X = np.random.uniform(low = -radio, high = radio, size  = N)\n",
      "Y = np.random.uniform(low = -radio, high = radio, size = N)\n",
      "\n",
      "# Distancia desde el centro\n",
      "dist = np.sqrt(X**2+Y**2);\n",
      "\n",
      "# Aplicamos la f\u00f3rmula...\n",
      "caja = (2.0*radio)**2\n",
      "esta_adentro = dist < radio\n",
      "N_adentro = np.sum(esta_adentro)\n",
      "area_circulo = caja*N_adentro/N\n",
      "\n",
      "print \"[Monte Carlo] Estimaci\u00f3n de pi = \", area_circulo"
     ],
     "language": "python",
     "metadata": {},
     "outputs": [
      {
       "output_type": "stream",
       "stream": "stdout",
       "text": [
        "[Monte Carlo] Estimaci\u00f3n de pi =  3.14168376\n"
       ]
      }
     ],
     "prompt_number": 3
    },
    {
     "cell_type": "markdown",
     "metadata": {},
     "source": [
      "(b) El \"volumen\" de una 2-esfera (un c\u00edrculo)   $x^2 + y^2 = r^2$ es \n",
      "\n",
      "$$\\pi r^2$$,\n",
      "\n",
      "el volumen de la 3-esfera $x^2 + y^2 + z^2 = r^2$ es \n",
      "\n",
      "\n",
      "$$\\frac{4}{3} \\pi r^3$$. \n",
      "\n",
      "\n",
      "La 4-esfera $x^2 + y^2 + z^2 + w^2 = r^2$, podemos suponer (usando los ejemplos anteriores) que el hipervolumen de la 4-esfera es \n",
      "\n",
      "$$\\alpha\\pi r^4$$. \n",
      "\n",
      "\n",
      "Usando t\u00e9cnicas de Monte Carlo estima $\\alpha$."
     ]
    },
    {
     "cell_type": "code",
     "collapsed": false,
     "input": [
      "#Aplicamos el mismo m\u00e9todo que con la esfera pero ahora con una hiperesfera inscrita en un hipercubo\n",
      "volumen_hipercubo = 1 * 1 * 1 * 1\n",
      "\n",
      "N = 1000000\n",
      "count = 0\n",
      "\n",
      "puntos = np.array([np.random.uniform(low=0, high=1,size=N), np.random.uniform(low=0, high=1,size=N) , np.random.uniform(low=0, high=1,size=N), np.random.uniform(low=0, high=1,size=N)])  \n",
      "puntos_adentro = sum(sum(puntos**2) < 1)\n",
      "fraccion = 1.0*puntos_adentro/N\n",
      "\n",
      "volumen = fraccion * volumen_hipercubo\n",
      "#Como son 4 ejes dividimos la hiperesfera en 2^4=16 partes para nada mas considerar el cuadrante en donde todos los ejes son positivos, por lo que hay que multiplicar por 16 para encontrar el valor de toda la esfera\n",
      "volumen_hiperesfera = volumen*16"
     ],
     "language": "python",
     "metadata": {},
     "outputs": [],
     "prompt_number": 4
    },
    {
     "cell_type": "code",
     "collapsed": false,
     "input": [
      "#Dividimos entre pi pues el resultado obtenido con r=1 es alpha por pi\n",
      "print \"[Monte Carlo] Estimaci\u00f3n de alpha = \", volumen_hiperesfera/np.pi\n",
      "#El valor exacto de la f\u00f3rmula de la hiperesfera es pi cuadrada por r cuarta entre 2 por lo que alpha es igual a pi medios.\n",
      "print \"[Exacta] Valor de alpha = \", np.pi/2"
     ],
     "language": "python",
     "metadata": {},
     "outputs": [
      {
       "output_type": "stream",
       "stream": "stdout",
       "text": [
        "[Monte Carlo] Estimaci\u00f3n de alpha =  1.57376482096\n",
        "[Exacta] Valor de alpha =  1.57079632679\n"
       ]
      }
     ],
     "prompt_number": 5
    },
    {
     "cell_type": "code",
     "collapsed": false,
     "input": [],
     "language": "python",
     "metadata": {},
     "outputs": []
    }
   ],
   "metadata": {}
  }
 ]
}