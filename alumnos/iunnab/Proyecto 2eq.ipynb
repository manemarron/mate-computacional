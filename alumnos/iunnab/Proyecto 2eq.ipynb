{
 "metadata": {
  "name": "",
  "signature": "sha256:f3b13bfbdc63ea4db7679ca0ea46a5f7a5a46612005f458d0884cf0634e5468d"
 },
 "nbformat": 3,
 "nbformat_minor": 0,
 "worksheets": [
  {
   "cells": [
    {
     "cell_type": "markdown",
     "metadata": {},
     "source": [
      "\n",
      "\n"
     ]
    },
    {
     "cell_type": "code",
     "collapsed": false,
     "input": [],
     "language": "python",
     "metadata": {},
     "outputs": [],
     "prompt_number": 1
    },
    {
     "cell_type": "markdown",
     "metadata": {},
     "source": [
      "Queremos resolver el siguiente sistema de dos ecuaciones:\n",
      "\n",
      "$$ (M+m) x'' +c x''- m L cos(T)T''+mLsen(T)(T')^2 = F(t)$$\n",
      "\n",
      "$$-mlx''cos(T)+ (mL^2+I)T''+bT'+mgLsen(T)= 0$$\n",
      "    "
     ]
    },
    {
     "cell_type": "markdown",
     "metadata": {},
     "source": [
      "Donde...\n",
      "\n",
      "**M**= Masa del carrito\n",
      "\n",
      "**m**= masa del P\u00e9ndulo\n",
      "\n",
      "**x'**= velocidad\n",
      "\n",
      "**x''**= aceleraci\u00f3n\n",
      "\n",
      "**c**= fricci\u00f3n\n",
      "\n",
      "**L**= longitud del p\u00e9ndulo\n",
      "\n",
      "**T**= \u00e1ngulo que gira el p\u00e9ndulo\n",
      "\n",
      "**T'** = velocidad angular\n",
      "\n",
      "**T''**= segunda derivada =acelaraci\u00f3n angular\n",
      "\n",
      "**F(t)**= Fuerza del carrito\n",
      "\n",
      "**I**= inercia del p\u00e9ndulo\n",
      "\n",
      "**b**= fricci\u00f3n del p\u00e9ndulo\n",
      "\n",
      "**g**= gravedad\n"
     ]
    },
    {
     "cell_type": "markdown",
     "metadata": {},
     "source": [
      "Sabemos que en el punto de equilibrio el carrito y el p\u00e9ndulo ya no se deben mover, entonces las variabes x y t se vuelven constantes y sus derivadas son cero. "
     ]
    },
    {
     "cell_type": "markdown",
     "metadata": {},
     "source": [
      "Ahora definiremos las dos funciones (creamos f1 y f2).\n"
     ]
    },
    {
     "cell_type": "code",
     "collapsed": false,
     "input": [
      "import numpy as np\n",
      "import sympy as sym\n",
      "\n",
      "from sympy.interactive import printing\n",
      "printing.init_printing(use_latex=True)\n"
     ],
     "language": "python",
     "metadata": {},
     "outputs": [],
     "prompt_number": 275
    },
    {
     "cell_type": "code",
     "collapsed": false,
     "input": [
      "x = sym.Symbol('x')\n",
      "t = sym.Symbol('t')"
     ],
     "language": "python",
     "metadata": {},
     "outputs": [],
     "prompt_number": 276
    },
    {
     "cell_type": "code",
     "collapsed": false,
     "input": [
      "def fi(M,m,c,L,fX,fT): #fx y ft son funciones de x y teta\n",
      "    \n",
      "    #sacamos las derivadas para poder sustituirlo en la ecuaci\u00f3n   \n",
      "    #para x\n",
      "    dfx = sym.diff(fX, x)\n",
      "    ddfx= sym.diff(dfx,x)\n",
      "    \n",
      "    #para t    \n",
      "    dft = sym.diff(fT, t)\n",
      "    ddft= sym.diff(dft,t)\n",
      "    \n",
      "    #Como np.cos(fT) o np.sin(fT) no lo puedo sacar haremos dos casos. \n",
      "    #En uno si fT es funci\u00f3n dejaremos que la escriba en terminos de x (usamos sym)\n",
      "    #si es una constante dejaremos que saque el valor.\n",
      "    if dft!=0:\n",
      "        fi= (M+m)*ddfx + c*ddfx - m*L*sym.cos(fT)*ddft + m*L*sym.sin(fT)*(dft)**2  #= F(t)\n",
      "        \n",
      "    else:\n",
      "        fi= (M+m)*ddfx + c*ddfx - m*L*np.cos(fT)*ddft + m*L*np.sin(fT)*(dft)**2  #= F(t)\n",
      "    \n",
      "    return fi\n"
     ],
     "language": "python",
     "metadata": {},
     "outputs": [],
     "prompt_number": 277
    },
    {
     "cell_type": "code",
     "collapsed": false,
     "input": [
      "fi(2,3,4,5,8*x,9*t)"
     ],
     "language": "python",
     "metadata": {},
     "outputs": [
      {
       "latex": [
        "$$1215 \\sin{\\left (9 t \\right )}$$"
       ],
       "metadata": {},
       "output_type": "pyout",
       "png": "[encoded data removed]",
       "prompt_number": 284,
       "text": [
        "1215\u22c5sin(9\u22c5t)"
       ]
      }
     ],
     "prompt_number": 284
    },
    {
     "cell_type": "code",
     "collapsed": false,
     "input": [
      "fi(2,3,4,5,8*x**2,9**t)"
     ],
     "language": "python",
     "metadata": {},
     "outputs": [
      {
       "latex": [
        "$$15 \\cdot 9^{2 t} \\log^{2}{\\left (9 \\right )} \\sin{\\left (9^{t} \\right )} - 15 \\cdot 9^{t} \\log^{2}{\\left (9 \\right )} \\cos{\\left (9^{t} \\right )} + 144$$"
       ],
       "metadata": {},
       "output_type": "pyout",
       "png": "[encoded data removed]",
       "prompt_number": 279,
       "text": [
        "    2\u22c5t    2       \u239b t\u239e       t    2       \u239b t\u239e      \n",
        "15\u22c59   \u22c5log (9)\u22c5sin\u239d9 \u23a0 - 15\u22c59 \u22c5log (9)\u22c5cos\u239d9 \u23a0 + 144"
       ]
      }
     ],
     "prompt_number": 279
    },
    {
     "cell_type": "code",
     "collapsed": false,
     "input": [
      "fi(2,3,4,5,8,9)"
     ],
     "language": "python",
     "metadata": {},
     "outputs": [
      {
       "latex": [
        "$$0$$"
       ],
       "metadata": {},
       "output_type": "pyout",
       "png": "[encoded data removed]",
       "prompt_number": 280,
       "text": [
        "0"
       ]
      }
     ],
     "prompt_number": 280
    },
    {
     "cell_type": "code",
     "collapsed": false,
     "input": [
      "def T(m,b,c,L,I,fX): #buscamos que nos de el valor de fT (teta) que cumpla con la ecuaci\u00f3n:\n",
      "    \n",
      "    #(-m)*L*ddfx*sym.cos(fT) + (m*L^2+I)*ddft + b*dft + m*g*L*sym.sin(fT)==0\n",
      "    #como fT va a ser un num entonces todas sus derivadas son cero. La nueva ecuacion queda:\n",
      "    #(-m)*L*ddfx*sym.cos(fT)+m*g*L*sym.sin(fT)==0\n",
      "    \n",
      "    g=9.81\n",
      "     \n",
      "    #derivada respecto a x    \n",
      "    dfx = sym.diff(fX, x)\n",
      "    ddfx= sym.diff(dfx,x)\n",
      "    \n",
      "    a=0\n",
      "    b=10\n",
      "    \n",
      "    for k in range (a, b):\n",
      "        \n",
      "        t= k*sym.pi/2 #sabemos que el seno y coseno son cero o 1 en multiplos de pi.\n",
      "        \n",
      "        if (-m)*L*ddfx*sym.cos(t)+m*g*L*sym.sin(t)==0: \n",
      "            print t\n",
      "            \n",
      "    "
     ],
     "language": "python",
     "metadata": {},
     "outputs": [],
     "prompt_number": 320
    },
    {
     "cell_type": "code",
     "collapsed": false,
     "input": [
      "a=sym.sin(sym.pi)\n",
      "b=sym.sin(sym.pi/2)\n",
      "a, b"
     ],
     "language": "python",
     "metadata": {},
     "outputs": [
      {
       "latex": [
        "$$\\left ( 0, \\quad 1\\right )$$"
       ],
       "metadata": {},
       "output_type": "pyout",
       "png": "[encoded data removed]",
       "prompt_number": 321,
       "text": [
        "(0, 1)"
       ]
      }
     ],
     "prompt_number": 321
    },
    {
     "cell_type": "code",
     "collapsed": false,
     "input": [
      "T(1,2,3,4,5,6)"
     ],
     "language": "python",
     "metadata": {},
     "outputs": [
      {
       "output_type": "stream",
       "stream": "stdout",
       "text": [
        "0\n",
        "pi\n",
        "2*pi\n",
        "3*pi\n",
        "4*pi\n"
       ]
      }
     ],
     "prompt_number": 322
    },
    {
     "cell_type": "markdown",
     "metadata": {},
     "source": [
      "Notamos que todos los n\u00fameros son multiplos de pi. Si sustituimos T en la primera ecuaci\u00f3n nos dar\u00e1 cero."
     ]
    },
    {
     "cell_type": "code",
     "collapsed": false,
     "input": [],
     "language": "python",
     "metadata": {},
     "outputs": []
    },
    {
     "cell_type": "code",
     "collapsed": false,
     "input": [
      "def fj(m,b,c,L,I,fX,fT): #en esta no estoy sacando teta, asumo que me dan una ft\n",
      "    \n",
      "    g=9.81\n",
      "     \n",
      "    #derivada respecto a x    \n",
      "    dfx = sym.diff(fX, x)\n",
      "    ddfx= sym.diff(dfx,x)\n",
      "    \n",
      "    #derivadas respecto a y    \n",
      "    dft = sym.diff(fT, t)\n",
      "    ddft= sym.diff(dft,t)\n",
      "    \n",
      "    #Como np.cos(fT) o np.sin(fT) no lo puedo sacar haremos dos casos. \n",
      "    #En uno si fT es funci\u00f3n dejaremos que la escriba en terminos de x (usamos sym)\n",
      "    #si es una constante dejaremos que saque el valor.\n",
      "    if dft!=0:\n",
      "        fj= (-m)*L*ddfx*sym.cos(fT) + (m*L^2+I)*ddft + b*dft + m*g*L*sym.sin(fT)\n",
      "        \n",
      "    else:\n",
      "        fj= (-m)*L*ddfx*np.cos(fT) + (m*L^2+I)*ddft + b*dft + m*g*L*np.sin(fT)\n",
      "   \n",
      "    \n",
      "    return fj"
     ],
     "language": "python",
     "metadata": {},
     "outputs": [],
     "prompt_number": 155
    },
    {
     "cell_type": "code",
     "collapsed": false,
     "input": [
      "fj(1,2,3,4,5,6,7) #da diferente de cero porque el \u00faltimo t\u00e9rmino es un n\u00famero"
     ],
     "language": "python",
     "metadata": {},
     "outputs": [
      {
       "latex": [
        "$$25.7801541337253$$"
       ],
       "metadata": {},
       "output_type": "pyout",
       "png": "[encoded data removed]",
       "prompt_number": 156,
       "text": [
        "25.7801541337253"
       ]
      }
     ],
     "prompt_number": 156
    }
   ],
   "metadata": {}
  }
 ]
}