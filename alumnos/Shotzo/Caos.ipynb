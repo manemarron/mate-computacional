{
 "metadata": {
  "name": "",
  "signature": "sha256:4e233206d9eecf16e60ae45126457b92ccccfa63b92f4e782ce32bd28711a28a"
 },
 "nbformat": 3,
 "nbformat_minor": 0,
 "worksheets": [
  {
   "cells": [
    {
     "cell_type": "code",
     "collapsed": false,
     "input": [
      "%matplotlib inline\n",
      "import sympy as sym\n",
      "import matplotlib.pyplot as plt\n",
      "import numpy as np\n",
      "from IPython.html.widgets import interact, fixed\n",
      "from IPython.html import widgets"
     ],
     "language": "python",
     "metadata": {},
     "outputs": [],
     "prompt_number": 1
    },
    {
     "cell_type": "code",
     "collapsed": false,
     "input": [
      "def logistic_map(x,r):\n",
      "    return r*x*(1-x)"
     ],
     "language": "python",
     "metadata": {},
     "outputs": [],
     "prompt_number": 2
    },
    {
     "cell_type": "code",
     "collapsed": false,
     "input": [
      "def iterar(g, x0, N, r):\n",
      "    hist=[x0]\n",
      "    x=x0\n",
      "    for i in range (N):\n",
      "        x=g(x,r)\n",
      "        #print (x)\n",
      "        hist.append(x)\n",
      "    plt.scatter(range(N+1),hist)\n",
      "    plt.grid(True)"
     ],
     "language": "python",
     "metadata": {},
     "outputs": [],
     "prompt_number": 3
    },
    {
     "cell_type": "code",
     "collapsed": false,
     "input": [
      "iterar(logistic_map, 0.5, 100, 3)"
     ],
     "language": "python",
     "metadata": {},
     "outputs": [
      {
       "metadata": {},
       "output_type": "display_data",
       "png": "[encoded data removed]",
       "text": [
        "<matplotlib.figure.Figure at 0xb1ccbe0>"
       ]
      }
     ],
     "prompt_number": 4
    },
    {
     "cell_type": "code",
     "collapsed": false,
     "input": [
      "interact(iterar,g=fixed(logistic_map), x0=(0,1,0.01), N=(0, 10**3,1), r=(0,4,0.01))"
     ],
     "language": "python",
     "metadata": {},
     "outputs": [
      {
       "metadata": {},
       "output_type": "pyout",
       "prompt_number": 5,
       "text": [
        "<function __main__.iterar>"
       ]
      },
      {
       "metadata": {},
       "output_type": "display_data",
       "png": "[encoded data removed]",
       "text": [
        "<matplotlib.figure.Figure at 0xb29ee10>"
       ]
      }
     ],
     "prompt_number": 5
    },
    {
     "cell_type": "raw",
     "metadata": {},
     "source": []
    },
    {
     "cell_type": "code",
     "collapsed": false,
     "input": [
      "def iterarLista(g, x0, N, r):\n",
      "    hist=[x0]\n",
      "    x=x0\n",
      "    for i in range (N):\n",
      "        x=g(x,r)\n",
      "        hist.append(x)\n",
      "    plt.scatter(range(N+1),hist)\n",
      "    plt.grid(True)"
     ],
     "language": "python",
     "metadata": {},
     "outputs": [],
     "prompt_number": 6
    }
   ],
   "metadata": {}
  }
 ]
}