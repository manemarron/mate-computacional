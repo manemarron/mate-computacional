{
 "metadata": {
  "name": "",
  "signature": "sha256:01d88e93906a01b6199f1b8b99cc85f75705240dcd4dbe7de2d385fbb2ab2ee1"
 },
 "nbformat": 3,
 "nbformat_minor": 0,
 "worksheets": [
  {
   "cells": [
    {
     "cell_type": "code",
     "collapsed": false,
     "input": [
      "%matplotlib inline\n",
      "import numpy as np\n",
      "import matplotlib.pyplot as plt\n",
      "\n",
      "from IPython.html.widgets import interact, fixed\n",
      "from IPython.html import widgets\n",
      "\n",
      "from __future__ import division\n",
      "\n",
      "import sympy as sym\n",
      "from sympy.interactive import printing\n",
      "printing.init_printing(use_latex=True)"
     ],
     "language": "python",
     "metadata": {},
     "outputs": [],
     "prompt_number": 24
    },
    {
     "cell_type": "code",
     "collapsed": false,
     "input": [
      "def logistic_map(y,d):\n",
      "    return d*y*(1.0-y)"
     ],
     "language": "python",
     "metadata": {},
     "outputs": [],
     "prompt_number": 25
    },
    {
     "cell_type": "code",
     "collapsed": false,
     "input": [
      "pasos = 100"
     ],
     "language": "python",
     "metadata": {},
     "outputs": [],
     "prompt_number": 26
    },
    {
     "cell_type": "code",
     "collapsed": false,
     "input": [
      "def graficar(x, r):\n",
      "    vector_x = []\n",
      "    x_0 = x\n",
      "    for i in range(pasos):\n",
      "        x_1 = logistic_map(y = x_0, d = r)\n",
      "        vector_x.append(x_1)\n",
      "        x_0 = x_1\n",
      "    vector_n = [i for i in range(pasos)]\n",
      "    plt.scatter(vector_n, vector_x)\n",
      "        "
     ],
     "language": "python",
     "metadata": {},
     "outputs": [],
     "prompt_number": 27
    },
    {
     "cell_type": "code",
     "collapsed": false,
     "input": [
      "interact(graficar, x = (-5,5, 0.01), r = (0,4, 0.1))"
     ],
     "language": "python",
     "metadata": {},
     "outputs": [
      {
       "metadata": {},
       "output_type": "display_data",
       "png": "[encoded data removed]",
       "text": [
        "<matplotlib.figure.Figure at 0x7f0501b4d110>"
       ]
      }
     ],
     "prompt_number": 28
    },
    {
     "cell_type": "code",
     "collapsed": false,
     "input": [
      "#Diagrama de Cobweb"
     ],
     "language": "python",
     "metadata": {},
     "outputs": [],
     "prompt_number": 9
    },
    {
     "cell_type": "code",
     "collapsed": false,
     "input": [
      "def diagrama_Cobweb(funcion, x_0, r, veces):\n",
      "    x = np.linspace(0, 5, 100)\n",
      "    plt.plot(x, x, c = 'r')\n",
      "    y = funcion(x, r)\n",
      "    plt.plot(x, y)\n",
      "    graf_x = []\n",
      "    graf_y = []\n",
      "    graf_x.append(x_0)\n",
      "    graf_y.append(funcion(x_0, r))\n",
      "    i = 0\n",
      "    while i != veces:\n",
      "        x_1 = funcion(x_0, r)\n",
      "        graf_x.append(x_1)\n",
      "        graf_y.append(x_1)\n",
      "        graf_x.append(x_1)\n",
      "        graf_y.append(funcion(x_1, r))\n",
      "        x_0 = x_1\n",
      "        i+=1\n",
      "        \n",
      "    plt.plot(graf_x, graf_y, c = 'b')"
     ],
     "language": "python",
     "metadata": {},
     "outputs": [],
     "prompt_number": 42
    },
    {
     "cell_type": "code",
     "collapsed": false,
     "input": [
      "diagrama_Cobweb(logistic_map, 0.35, 2.8, 10)"
     ],
     "language": "python",
     "metadata": {},
     "outputs": [
      {
       "metadata": {},
       "output_type": "display_data",
       "png": "[encoded data removed]",
       "text": [
        "<matplotlib.figure.Figure at 0x7f0501c5e610>"
       ]
      }
     ],
     "prompt_number": 43
    },
    {
     "cell_type": "code",
     "collapsed": false,
     "input": [],
     "language": "python",
     "metadata": {},
     "outputs": []
    }
   ],
   "metadata": {}
  }
 ]
}