{
 "cells": [
  {
   "cell_type": "code",
   "execution_count": 324,
   "metadata": {
    "collapsed": false
   },
   "outputs": [],
   "source": [
    "import random\n",
    "import struct\n",
    "import math\n",
    "from collections import *\n",
    "from __future__ import division\n",
    "import matplotlib.pyplot as plt\n",
    "\n",
    "%matplotlib inline\n",
    "\n",
    "Solution = namedtuple('Solution', 'chromosome fitness')\n",
    "GenerationStats = namedtuple('GenerationStats', 'number fitness bestGeneration bestEver')"
   ]
  },
  {
   "cell_type": "code",
   "execution_count": 306,
   "metadata": {
    "collapsed": false
   },
   "outputs": [],
   "source": [
    "class GA:\n",
    "    def __init__(self, popSize, mutRate, crossoverRate, maxGenerations, numElites, chromosomeFactory, fitness, stopCondition):\n",
    "        assert numElites < popSize\n",
    "        \n",
    "        self.popSize = popSize\n",
    "        self.mutRate = mutRate\n",
    "        self.crossoverRate = crossoverRate\n",
    "        self.maxGenerations = maxGenerations\n",
    "        self.numElites = numElites\n",
    "        self.chromosomeFactory = chromosomeFactory\n",
    "        self.fitness = fitness\n",
    "        self.stopCondition = stopCondition\n",
    "        self.population = None\n",
    "        self.generation = 0\n",
    "        self.bestSolutionSoFar = None\n",
    "        self.currentBestSolution = None\n",
    "        self.populationFitness = None\n",
    "        self.stats = []\n",
    "    \n",
    "    def __str__(self):\n",
    "        return '\\t'.join(\n",
    "            [str(x) for x in \n",
    "             [self.popSize, self.bestSolutionSoFar, self.currentBestSolution, self.generation]\n",
    "            ]\n",
    "        )\n",
    "    \n",
    "    def populate(self):\n",
    "        chromosomes = [self.chromosomeFactory() for x in range(self.popSize)]\n",
    "        self.population = [Solution(x, self.fitness(x)) for x in chromosomes]\n",
    "        self.updateStats()\n",
    "        \n",
    "    def run(self):\n",
    "        if not self.population:\n",
    "            self.populate()\n",
    "        \n",
    "        for self.generation in range(1, self.maxGenerations+1):\n",
    "            if self.stopCondition(self.population):\n",
    "                break\n",
    "            \n",
    "            newPopulation = self.population[:self.numElites]\n",
    "            \n",
    "            while len(newPopulation) < self.popSize:\n",
    "                x, y = self.select(), self.select()\n",
    "                \n",
    "                newChromosomes = x.crossover(y)\n",
    "                \n",
    "                # print x, y, newChromosomes\n",
    "                \n",
    "                for c in newChromosomes:\n",
    "                    if random.random() < self.mutRate:\n",
    "                        c.mutate()\n",
    "                    \n",
    "                newPopulation.extend([Solution(c, self.fitness(c)) for c in newChromosomes])\n",
    "            \n",
    "            self.population = newPopulation\n",
    "            \n",
    "            self.updateStats()\n",
    "    \n",
    "    def updateStats(self):\n",
    "        self.population.sort(key = lambda x: x.fitness, reverse = True)\n",
    "        self.currentBestSolution = self.population[0]\n",
    "        \n",
    "        self.populationFitness = sum([x.fitness for x in self.population])\n",
    "        avg = self.populationFitness / len(self.population)\n",
    "        \n",
    "        if not self.bestSolutionSoFar or self.currentBestSolution.fitness > self.bestSolutionSoFar.fitness:\n",
    "            self.bestSolutionSoFar = self.currentBestSolution\n",
    "        \n",
    "        self.stats.append(GenerationStats(self.generation,\n",
    "                                          avg,\n",
    "                                          self.currentBestSolution,\n",
    "                                          self.bestSolutionSoFar))\n",
    "    \n",
    "    def select(self):\n",
    "        x = random.uniform(0, self.populationFitness)\n",
    "        acc = 0\n",
    "        \n",
    "        for i in range(len(self.population)):\n",
    "            acc += self.population[i].fitness\n",
    "            if x < acc:\n",
    "                break\n",
    "\n",
    "        return self.population[i].chromosome\n",
    "    \n",
    "    def plot(self):\n",
    "        plt.figure(figsize=(6, 6))\n",
    "        gens = [g.number for g in self.stats]\n",
    "        fitness = [g.fitness for g in self.stats]\n",
    "        plt.plot(gens, fitness)\n",
    "        plt.xlabel('Generation')\n",
    "        plt.ylabel('Average fitness')\n",
    "        plt.title('Average fitness across time')\n",
    "        plt.show()\n",
    "        \n",
    "    def printStats(self, delta = 1):\n",
    "        print 'Generation\\tAvg fitness\\tBest here\\tBest ever'\n",
    "        for x in xrange(0, len(self.stats), delta):\n",
    "            print '\\t'.join(map(str, self.stats[x]._asdict().values()))"
   ]
  },
  {
   "cell_type": "code",
   "execution_count": 307,
   "metadata": {
    "collapsed": false
   },
   "outputs": [],
   "source": [
    "class Chromosome:\n",
    "    def __init__(self, length = 20, genome = None):\n",
    "        if not genome:\n",
    "            genome = \"\".join([random.choice(\"01\") for x in range(length)])\n",
    "        \n",
    "        self.genome = genome\n",
    "    \n",
    "    def crossover(self, c):\n",
    "        crossover_point = random.randint(0, len(self.genome))\n",
    "        \n",
    "        x = self.genome[:crossover_point] + c.genome[crossover_point:]\n",
    "        y = c.genome[:crossover_point] + self.genome[crossover_point:]\n",
    "        \n",
    "        return [Chromosome(genome = x), Chromosome(genome = y)]\n",
    "    \n",
    "    def mutate(self):\n",
    "        genome = list(self.genome)\n",
    "        \n",
    "        changes = random.sample(range(len(self.genome)), 3)\n",
    "        \n",
    "        for x in changes:\n",
    "            genome[x] = '0' if genome[x] == '1' else '0'\n",
    "            \n",
    "        self.genome = ''.join(genome)\n",
    "    \n",
    "    def __str__(self):\n",
    "        return self.genome\n",
    "    \n",
    "    def __repr__(self):\n",
    "        return self.genome"
   ]
  },
  {
   "cell_type": "code",
   "execution_count": 308,
   "metadata": {
    "collapsed": true
   },
   "outputs": [],
   "source": [
    "def zipWith(f, a, b):\n",
    "    return map(f, zip(a,b))"
   ]
  },
  {
   "cell_type": "markdown",
   "metadata": {},
   "source": [
    "<div class=\"alert alert-info\">\n",
    "**Ejercicio** Ejecuta un algoritmo genético, que trate de generar una cadena de longitud `8`, solucion = `11001100`. ¿Cuántas generaciones tardó? Muestra el avance cada `10` generaciones.\n",
    "</div>"
   ]
  },
  {
   "cell_type": "code",
   "execution_count": 309,
   "metadata": {
    "collapsed": false
   },
   "outputs": [
    {
     "data": {
      "image/png": "[encoded data removed]",
      "text/plain": [
       "<matplotlib.figure.Figure at 0x7f16b1f4aa10>"
      ]
     },
     "metadata": {},
     "output_type": "display_data"
    },
    {
     "name": "stdout",
     "output_type": "stream",
     "text": [
      "Generation\tAvg fitness\tBest here\tBest ever\n",
      "0\t4.3\tSolution(chromosome=01101100, fitness=6)\tSolution(chromosome=01101100, fitness=6)\n",
      "1\t5.09090909091\tSolution(chromosome=01101100, fitness=6)\tSolution(chromosome=01101100, fitness=6)\n",
      "2\t5.90909090909\tSolution(chromosome=01101100, fitness=6)\tSolution(chromosome=01101100, fitness=6)\n",
      "3\t5.90909090909\tSolution(chromosome=10001100, fitness=7)\tSolution(chromosome=10001100, fitness=7)\n",
      "4\t6.18181818182\tSolution(chromosome=10001100, fitness=7)\tSolution(chromosome=10001100, fitness=7)\n",
      "5\t6.27272727273\tSolution(chromosome=10001100, fitness=7)\tSolution(chromosome=10001100, fitness=7)\n",
      "6\t6.72727272727\tSolution(chromosome=10001100, fitness=7)\tSolution(chromosome=10001100, fitness=7)\n",
      "7\t6.81818181818\tSolution(chromosome=10001100, fitness=7)\tSolution(chromosome=10001100, fitness=7)\n",
      "8\t6.72727272727\tSolution(chromosome=10001100, fitness=7)\tSolution(chromosome=10001100, fitness=7)\n",
      "9\t6.63636363636\tSolution(chromosome=10001100, fitness=7)\tSolution(chromosome=10001100, fitness=7)\n",
      "10\t6.27272727273\tSolution(chromosome=10001100, fitness=7)\tSolution(chromosome=10001100, fitness=7)\n",
      "11\t6.72727272727\tSolution(chromosome=10001100, fitness=7)\tSolution(chromosome=10001100, fitness=7)\n",
      "12\t6.63636363636\tSolution(chromosome=10001100, fitness=7)\tSolution(chromosome=10001100, fitness=7)\n",
      "13\t6.63636363636\tSolution(chromosome=10001100, fitness=7)\tSolution(chromosome=10001100, fitness=7)\n",
      "14\t6.90909090909\tSolution(chromosome=10001100, fitness=7)\tSolution(chromosome=10001100, fitness=7)\n",
      "15\t6.81818181818\tSolution(chromosome=10001100, fitness=7)\tSolution(chromosome=10001100, fitness=7)\n",
      "16\t6.63636363636\tSolution(chromosome=10001100, fitness=7)\tSolution(chromosome=10001100, fitness=7)\n",
      "17\t6.54545454545\tSolution(chromosome=10001100, fitness=7)\tSolution(chromosome=10001100, fitness=7)\n",
      "18\t6.81818181818\tSolution(chromosome=10001100, fitness=7)\tSolution(chromosome=10001100, fitness=7)\n",
      "19\t7.0\tSolution(chromosome=10001100, fitness=7)\tSolution(chromosome=10001100, fitness=7)\n",
      "20\t7.0\tSolution(chromosome=10001100, fitness=7)\tSolution(chromosome=10001100, fitness=7)\n",
      "21\t6.90909090909\tSolution(chromosome=10001100, fitness=7)\tSolution(chromosome=10001100, fitness=7)\n",
      "22\t6.90909090909\tSolution(chromosome=10001100, fitness=7)\tSolution(chromosome=10001100, fitness=7)\n",
      "23\t6.81818181818\tSolution(chromosome=10001100, fitness=7)\tSolution(chromosome=10001100, fitness=7)\n",
      "24\t6.81818181818\tSolution(chromosome=10001100, fitness=7)\tSolution(chromosome=10001100, fitness=7)\n",
      "25\t6.72727272727\tSolution(chromosome=10001100, fitness=7)\tSolution(chromosome=10001100, fitness=7)\n",
      "26\t6.63636363636\tSolution(chromosome=10001100, fitness=7)\tSolution(chromosome=10001100, fitness=7)\n",
      "27\t6.63636363636\tSolution(chromosome=10001100, fitness=7)\tSolution(chromosome=10001100, fitness=7)\n",
      "28\t6.54545454545\tSolution(chromosome=10001100, fitness=7)\tSolution(chromosome=10001100, fitness=7)\n",
      "29\t6.72727272727\tSolution(chromosome=10001100, fitness=7)\tSolution(chromosome=10001100, fitness=7)\n",
      "30\t6.72727272727\tSolution(chromosome=10001100, fitness=7)\tSolution(chromosome=10001100, fitness=7)\n",
      "31\t6.72727272727\tSolution(chromosome=10001100, fitness=7)\tSolution(chromosome=10001100, fitness=7)\n",
      "32\t6.72727272727\tSolution(chromosome=10001100, fitness=7)\tSolution(chromosome=10001100, fitness=7)\n",
      "33\t6.90909090909\tSolution(chromosome=10001100, fitness=7)\tSolution(chromosome=10001100, fitness=7)\n",
      "34\t7.0\tSolution(chromosome=10001100, fitness=7)\tSolution(chromosome=10001100, fitness=7)\n",
      "35\t7.0\tSolution(chromosome=10001100, fitness=7)\tSolution(chromosome=10001100, fitness=7)\n",
      "36\t6.81818181818\tSolution(chromosome=11001100, fitness=8)\tSolution(chromosome=11001100, fitness=8)\n"
     ]
    }
   ],
   "source": [
    "eightbitGA   =  GA(10,\n",
    "                   .2,\n",
    "                   None,\n",
    "                   100,\n",
    "                   5,\n",
    "                   lambda: Chromosome(length = 8),\n",
    "                   lambda x: sum(zipWith(lambda (a,b): a == b, x.genome, '11001100')),\n",
    "                   lambda x: x[0].fitness == 8\n",
    "                   )\n",
    "eightbitGA.run()\n",
    "eightbitGA.plot()\n",
    "eightbitGA.printStats()"
   ]
  },
  {
   "cell_type": "markdown",
   "metadata": {},
   "source": [
    "<div class=\"alert alert-info\">\n",
    "**Ejercicio** Ejecuta un algoritmo genético, que trate de generar una matriz de `12` $\\times$ `12` que tenga una cruz enmedio (como la bandera de Suiza). ¿Cuántas generaciones tardó? Muestra el avance cada `20` generaciones.\n",
    "</div>"
   ]
  },
  {
   "cell_type": "code",
   "execution_count": 310,
   "metadata": {
    "collapsed": false
   },
   "outputs": [
    {
     "data": {
      "image/png": "[encoded data removed]",
      "text/plain": [
       "<matplotlib.figure.Figure at 0x7f16b140efd0>"
      ]
     },
     "metadata": {},
     "output_type": "display_data"
    },
    {
     "name": "stdout",
     "output_type": "stream",
     "text": [
      "Generation\tAvg fitness\tBest here\tBest ever\n",
      "0\t72.8\tSolution(chromosome=010001000101111110010001011101101010110000111000101000011001001000111000000111101100010001100010110101100100110001100111001000000110000100000011, fitness=83)\tSolution(chromosome=010001000101111110010001011101101010110000111000101000011001001000111000000111101100010001100010110101100100110001100111001000000110000100000011, fitness=83)\n",
      "20\t101.272727273\tSolution(chromosome=000001100011000101110000100010001111101001010000110000010010100000000100101000011000001100010000000000000000100011000111001000000110000000000011, fitness=102)\tSolution(chromosome=000001100011000101110000100010001111101001010000110000010010100000000100101000011000001100010000000000000000100011000111001000000110000000000011, fitness=102)\n",
      "40\t108.0\tSolution(chromosome=000001100011000001110000100010000111100001010000010000110010000000000100101000011000001100000000000000000000100001100111001000000010000100000001, fitness=108)\tSolution(chromosome=000001100011000001110000100010000111100001010000010000110010000000000100101000011000001100000000000000000000100001100111001000000010000100000001, fitness=108)\n",
      "60\t113.181818182\tSolution(chromosome=000001100001000001110000000010000101100001010000010000110010000000000100101000011000001100000000000000000000100001000110000000000010000000000001, fitness=115)\tSolution(chromosome=000001100001000001110000000010000101100001010000010000110010000000000100101000011000001100000000000000000000100001000110000000000010000000000001, fitness=115)\n",
      "80\t120.636363636\tSolution(chromosome=000001000001000000110000000010000101100001010000000000110010000000000100100000010000001100000000000000000000100001000110000000000000000000000000, fitness=122)\tSolution(chromosome=000001000001000000110000000010000101100001010000000000110010000000000100100000010000001100000000000000000000100001000110000000000000000000000000, fitness=122)\n",
      "100\t130.818181818\tSolution(chromosome=000001000000000000000000000000000100100001010000000000010000000000000000000000010000001100000000000000000000100001000100000000000000000000000000, fitness=132)\tSolution(chromosome=000001000000000000000000000000000100100001010000000000010000000000000000000000010000001100000000000000000000100001000100000000000000000000000000, fitness=132)\n",
      "120\t136.0\tSolution(chromosome=000001000000000000000000000000000000100001010000000000010000000000000000000000000000001000000000000000000000100001000000000000000000000000000000, fitness=136)\tSolution(chromosome=000001000000000000000000000000000000100001010000000000010000000000000000000000000000001000000000000000000000100001000000000000000000000000000000, fitness=136)\n",
      "140\t137.636363636\tSolution(chromosome=000001000000000000000000000000000000100001000000000000010000000000000000000000000000001000000000000000000000100000000000000000000000000000000000, fitness=138)\tSolution(chromosome=000001000000000000000000000000000000100001000000000000010000000000000000000000000000001000000000000000000000100000000000000000000000000000000000, fitness=138)\n",
      "160\t140.818181818\tSolution(chromosome=000000000000000000000000000000000000000000000000000000010000000000000000000000000000001000000000000000000000100000000000000000000000000000000000, fitness=141)\tSolution(chromosome=000000000000000000000000000000000000000000000000000000010000000000000000000000000000001000000000000000000000100000000000000000000000000000000000, fitness=141)\n",
      "180\t142.636363636\tSolution(chromosome=000000000000000000000000000000000000000000000000000000000000000000000000000000000000000000000000000000000000100000000000000000000000000000000000, fitness=143)\tSolution(chromosome=000000000000000000000000000000000000000000000000000000000000000000000000000000000000000000000000000000000000100000000000000000000000000000000000, fitness=143)\n"
     ]
    }
   ],
   "source": [
    "flag = '0' * (12*12) # Hacer el array de la bandera era demasiado trabajo.\n",
    "                     # Un array de puros 0 funciona exactamente igual :|\n",
    "switzerlandGA = GA(10,\n",
    "                   .2,\n",
    "                   None,\n",
    "                   1000,\n",
    "                   5,\n",
    "                   lambda: Chromosome(length = 12*12),\n",
    "                   lambda x: sum(zipWith(lambda (a,b): a == b, x.genome, flag)),\n",
    "                   lambda x: x[0].fitness == 12*12\n",
    "                   )\n",
    "switzerlandGA.run()\n",
    "switzerlandGA.plot()\n",
    "switzerlandGA.printStats(20)"
   ]
  },
  {
   "cell_type": "markdown",
   "metadata": {},
   "source": [
    "<div class=\"alert alert-info\">\n",
    "**Ejercicio** Ejecuta un algoritmo genético, que encuentre el mínimo de $f(x) = x^2 + 2$.\n",
    "</div>"
   ]
  },
  {
   "cell_type": "code",
   "execution_count": 339,
   "metadata": {
    "collapsed": false
   },
   "outputs": [
    {
     "data": {
      "image/png": "[encoded data removed]",
      "text/plain": [
       "<matplotlib.figure.Figure at 0x7f16b1466bd0>"
      ]
     },
     "metadata": {},
     "output_type": "display_data"
    },
    {
     "name": "stdout",
     "output_type": "stream",
     "text": [
      "Generation\tAvg fitness\tBest here\tBest ever\n",
      "0\t0.07596938544\tSolution(chromosome=01101011110110010001000010100000, fitness=0.9999320772930486)\tSolution(chromosome=01101011110110010001000010100000, fitness=0.9999320772930486)\n",
      "10\t0.717417155582\tSolution(chromosome=11101101101100111011000100110111, fitness=0.999991059474581)\tSolution(chromosome=11101101101100111011000100110111, fitness=0.999991059474581)\n",
      "20\t0.828292535696\tSolution(chromosome=11101101101100111011000100110111, fitness=0.999991059474581)\tSolution(chromosome=11101101101100111011000100110111, fitness=0.999991059474581)\n",
      "30\t0.792171069049\tSolution(chromosome=11101101101100111011000100110111, fitness=0.999991059474581)\tSolution(chromosome=11101101101100111011000100110111, fitness=0.999991059474581)\n",
      "40\t0.820512009415\tSolution(chromosome=11101101101100111011000100110111, fitness=0.999991059474581)\tSolution(chromosome=11101101101100111011000100110111, fitness=0.999991059474581)\n",
      "50\t0.798941270432\tSolution(chromosome=11101101101100111011000100110111, fitness=0.999991059474581)\tSolution(chromosome=11101101101100111011000100110111, fitness=0.999991059474581)\n",
      "60\t0.823263097452\tSolution(chromosome=11101101101100111011000100110111, fitness=0.999991059474581)\tSolution(chromosome=11101101101100111011000100110111, fitness=0.999991059474581)\n",
      "70\t0.801148260741\tSolution(chromosome=11101101101100111011000100110111, fitness=0.999991059474581)\tSolution(chromosome=11101101101100111011000100110111, fitness=0.999991059474581)\n",
      "80\t0.816889891706\tSolution(chromosome=11101101101100111011000100110111, fitness=0.999991059474581)\tSolution(chromosome=11101101101100111011000100110111, fitness=0.999991059474581)\n",
      "90\t0.863606062653\tSolution(chromosome=11101101101100111011000100110111, fitness=0.999991059474581)\tSolution(chromosome=11101101101100111011000100110111, fitness=0.999991059474581)\n",
      "100\t0.791899003765\tSolution(chromosome=11101101101100111011000100110111, fitness=0.999991059474581)\tSolution(chromosome=11101101101100111011000100110111, fitness=0.999991059474581)\n",
      "Best solution:  -6.95150704478e+27\n"
     ]
    }
   ],
   "source": [
    "def f(x):\n",
    "    return math.sin(x) # Estaba más emocionante que x*x + 2. Jala si lo cambias, como quiera.\n",
    "def from_bits(x):\n",
    "    # Truco chacalero que toma un string de 32 bits y lo vuelve un float.\n",
    "    return struct.unpack('>f', struct.pack('>L', long(x, 2)))[0]\n",
    "\n",
    "minimizeGA   =  GA(100,\n",
    "                   .2,\n",
    "                   None,\n",
    "                   100,\n",
    "                   5,\n",
    "                   lambda: Chromosome(length = 32),   # como un float\n",
    "                   lambda x: -f(from_bits(x.genome)), # Maximizar el fitness <=> minimizas f\n",
    "                   lambda x: False                    # No hay end condition\n",
    "                   )\n",
    "minimizeGA.run()\n",
    "minimizeGA.plot()\n",
    "minimizeGA.printStats(10)\n",
    "print 'Best solution: ', from_bits(minimizeGA.bestSolutionSoFar.chromosome.genome)"
   ]
  }
 ],
 "metadata": {
  "kernelspec": {
   "display_name": "Python 2",
   "language": "python",
   "name": "python2"
  },
  "language_info": {
   "codemirror_mode": {
    "name": "ipython",
    "version": 2
   },
   "file_extension": ".py",
   "mimetype": "text/x-python",
   "name": "python",
   "nbconvert_exporter": "python",
   "pygments_lexer": "ipython2",
   "version": "2.7.9"
  }
 },
 "nbformat": 4,
 "nbformat_minor": 0
}
