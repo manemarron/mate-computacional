{
 "cells": [
  {
   "cell_type": "markdown",
   "metadata": {},
   "source": [
    "# Tareas"
   ]
  },
  {
   "cell_type": "code",
   "execution_count": 40,
   "metadata": {
    "collapsed": false
   },
   "outputs": [],
   "source": [
    "%matplotlib inline\n",
    "from __future__ import division\n",
    "from IPython.html.widgets import interact\n",
    "import numpy as np\n",
    "import random\n",
    "import math\n",
    "import matplotlib.pyplot as plt"
   ]
  },
  {
   "cell_type": "markdown",
   "metadata": {},
   "source": [
    "## Problema 1"
   ]
  },
  {
   "cell_type": "markdown",
   "metadata": {},
   "source": [
    "Utilizando el código de runge-kutta de segundo orden como base, implemente el código de runge-kutta de cuarto orden. La función debe de llamarse `rk4`. "
   ]
  },
  {
   "cell_type": "code",
   "execution_count": 2,
   "metadata": {
    "collapsed": false
   },
   "outputs": [],
   "source": [
    "def rk4(t, y, h, D):\n",
    "    k1 = D(t, y)\n",
    "    k2 = D(t + h/2, y + h/2*k1)\n",
    "    k3 = D(t + h/2, y + h/2*k2)\n",
    "    k4 = D(t + h, y + h*k3)\n",
    "    \n",
    "    return y + h / 6 * (k1 + 2*k2 + 2*k3 + k4)"
   ]
  },
  {
   "cell_type": "markdown",
   "metadata": {},
   "source": [
    "## Problema 2"
   ]
  },
  {
   "cell_type": "markdown",
   "metadata": {},
   "source": [
    "La tasa a la cual un recurso finito es recogido depende de la dificultad y de la demanda. Supón que la demanda $D$ se incrementa con la cantidad extraída $E$:\n",
    "\n",
    "$$\\dot D = \\alpha E$$\n",
    "\n",
    "Supón que la dificultad de extracción $W$ es inversamente dependiente de la fracción restante del recurso:\n",
    "\n",
    "$$\n",
    "W = \\frac{1}{1 -E}\n",
    "$$\n",
    "\n",
    "Finalmente, supón que la tasa de extracción $R$ es la razón de la demanda a la dificultad.\n",
    "\n",
    "$$ R = \\dot E = \\frac{D}{W} $$\n",
    "\n",
    "Por último, el costo $C$ del recurso depende de la tasa de la extracción y de la demanda:\n",
    "\n",
    "$$ C = \\frac{D}{R}\\xi,$$\n",
    "\n",
    "donde $\\xi$ es un factor de escala."
   ]
  },
  {
   "cell_type": "code",
   "execution_count": 84,
   "metadata": {
    "collapsed": false
   },
   "outputs": [],
   "source": [
    "# x = [D,E]\n",
    "\n",
    "def euler(t, y, h, D):\n",
    "    return y + h*D(t, y)\n",
    "\n",
    "def W(x):\n",
    "    return 1 / (1 - x[1])\n",
    "\n",
    "def diff(x):\n",
    "    return np.array([alpha * x[1], x[0] / W(x)])"
   ]
  },
  {
   "cell_type": "markdown",
   "metadata": {},
   "source": [
    "(a) Escribe un programa que dibuja la tasa de la extracción y el costo como una función del tiempo. Usando las condiciones iniciales: $D_0 = 0.1$, $E_0 = 0.1$,  $\\alpha = 2.0$ y $\\xi = 0.01$. Grafica de 0 a 5 unidades de tiempo. "
   ]
  },
  {
   "cell_type": "code",
   "execution_count": 86,
   "metadata": {
    "collapsed": false
   },
   "outputs": [],
   "source": [
    "def solve(f, _alpha = 2, _xi = .01, shouldPlot = True):\n",
    "    global alpha\n",
    "    global xi\n",
    "    \n",
    "    alpha = _alpha\n",
    "    xi = _xi\n",
    "    d_0 = .1\n",
    "    e_0 = .1\n",
    "\n",
    "    N = 1000\n",
    "    DE = np.empty([N,2])\n",
    "    DE[0] = np.array([d_0, e_0])\n",
    "    T = 5\n",
    "    h = T/N\n",
    "    t = np.linspace(0, T, num=N)\n",
    "\n",
    "    for x in range(N-1):\n",
    "        DE[x+1] = f(t[x], DE[x], h, lambda _,b: diff(b))\n",
    "    \n",
    "    if not shouldPlot:\n",
    "        return\n",
    "    \n",
    "    dE = np.empty(N)\n",
    "    for x in range(N):\n",
    "        dE[x] = diff(DE[x])[1]\n",
    "        \n",
    "    cost = np.empty(N)\n",
    "    for x in range(N):\n",
    "        cost[x] = xi * DE[x,0] / dE[x]\n",
    "\n",
    "    plt.figure(figsize = (6,6))\n",
    "    plt.plot(t, dE, label = 'Tasa de extraccion')\n",
    "    plt.plot(t, cost, label = 'Costo')\n",
    "    plt.legend(loc = 'best')\n",
    "    plt.show()"
   ]
  },
  {
   "cell_type": "markdown",
   "metadata": {},
   "source": [
    "(b) Resuelve con `rk4` y con  `euler`. Compara los tiempos y los resultados. ¿Qué puedes concluir?"
   ]
  },
  {
   "cell_type": "code",
   "execution_count": 94,
   "metadata": {
    "collapsed": false,
    "scrolled": false
   },
   "outputs": [
    {
     "data": {
      "image/png": "[encoded data removed]",
      "text/plain": [
       "<matplotlib.figure.Figure at 0x7f737503ccd0>"
      ]
     },
     "metadata": {},
     "output_type": "display_data"
    }
   ],
   "source": [
    "solve(rk4)"
   ]
  },
  {
   "cell_type": "code",
   "execution_count": 95,
   "metadata": {
    "collapsed": false
   },
   "outputs": [
    {
     "data": {
      "image/png": "[encoded data removed]",
      "text/plain": [
       "<matplotlib.figure.Figure at 0x7f7374c1ac90>"
      ]
     },
     "metadata": {},
     "output_type": "display_data"
    }
   ],
   "source": [
    "solve(euler)"
   ]
  },
  {
   "cell_type": "code",
   "execution_count": 92,
   "metadata": {
    "collapsed": false,
    "scrolled": false
   },
   "outputs": [
    {
     "name": "stdout",
     "output_type": "stream",
     "text": [
      "10 loops, best of 3: 38.1 ms per loop\n"
     ]
    }
   ],
   "source": [
    "%timeit solve(rk4, shouldPlot = False)"
   ]
  },
  {
   "cell_type": "code",
   "execution_count": 93,
   "metadata": {
    "collapsed": false
   },
   "outputs": [
    {
     "name": "stdout",
     "output_type": "stream",
     "text": [
      "100 loops, best of 3: 8.8 ms per loop\n"
     ]
    }
   ],
   "source": [
    "%timeit solve(euler, shouldPlot = False)"
   ]
  },
  {
   "cell_type": "markdown",
   "metadata": {},
   "source": [
    "Podemos ver que el método de Euler es varias veces más rápido."
   ]
  },
  {
   "cell_type": "markdown",
   "metadata": {},
   "source": [
    "(c) Agrega un _widget_ para los valores de $\\alpha$ y $\\xi$."
   ]
  },
  {
   "cell_type": "code",
   "execution_count": 89,
   "metadata": {
    "collapsed": false
   },
   "outputs": [
    {
     "data": {
      "image/png": "[encoded data removed]",
      "text/plain": [
       "<matplotlib.figure.Figure at 0x7f73756ba450>"
      ]
     },
     "metadata": {},
     "output_type": "display_data"
    }
   ],
   "source": [
    "def interactSolve(alpha, xi):\n",
    "    solve(rk4, _alpha = alpha, _xi = xi)\n",
    "interact(interactSolve, alpha = (0, 5, .01), xi = (0, .1, .01));"
   ]
  },
  {
   "cell_type": "markdown",
   "metadata": {},
   "source": [
    "(d) Discute la dinámica del sistema en general y menciona algunos hallazgos interesantes para diferentes valores y condiciones iniciales."
   ]
  },
  {
   "cell_type": "markdown",
   "metadata": {},
   "source": [
    "Jugando con el interact, pude observar que el costo crece exponencialmente con xi. Por su parte, la tasa de extracción parece siempre llegar a un máximo y luego desplomarse. Alpha parece ajustar cuánto tiempo toma en alcanzar el máximo. Evidentemente, el costo se dispara al cielo cuando el tiempo pasa, ya que la tasa de extracción disminuye ridículamente."
   ]
  },
  {
   "cell_type": "markdown",
   "metadata": {},
   "source": [
    "## Problema 3"
   ]
  },
  {
   "cell_type": "markdown",
   "metadata": {},
   "source": [
    "(a) Calcular el valor de $\\pi$ usando métodos de Monte Carlo."
   ]
  },
  {
   "cell_type": "code",
   "execution_count": 5,
   "metadata": {
    "collapsed": false
   },
   "outputs": [
    {
     "name": "stdout",
     "output_type": "stream",
     "text": [
      "Pi is approximately  3.1410372\n"
     ]
    }
   ],
   "source": [
    "hits = 0\n",
    "tries = 10000000\n",
    "\n",
    "for x in range(tries):\n",
    "    if random.random()**2 + random.random()**2 <= 1:\n",
    "        hits += 1\n",
    "\n",
    "# hits / tries \\approx pi / 4\n",
    "\n",
    "print \"Pi is approximately \", 4 * hits / tries"
   ]
  },
  {
   "cell_type": "markdown",
   "metadata": {},
   "source": [
    "(b) El \"volumen\" de una 2-esfera (un círculo)   $x^2 + y^2 = r^2$ es \n",
    "\n",
    "$$\\pi r^2,$$\n",
    "\n",
    "el volumen de la 3-esfera $x^2 + y^2 + z^2 = r^2$ es \n",
    "\n",
    "\n",
    "$$\\frac{4}{3} \\pi r^3,$$\n",
    "\n",
    "\n",
    "La 4-esfera $x^2 + y^2 + z^2 + w^2 = r^2$, podemos suponer (usando los ejemplos anteriores) que el hipervolumen de la 4-esfera es \n",
    "\n",
    "$$\\alpha\\pi r^4,$$\n",
    "\n",
    "\n",
    "Usando técnicas de Monte Carlo estima $\\alpha$."
   ]
  },
  {
   "cell_type": "code",
   "execution_count": 7,
   "metadata": {
    "collapsed": false
   },
   "outputs": [
    {
     "name": "stdout",
     "output_type": "stream",
     "text": [
      "For n = 0 alpha is approximately 0.318309886184\n",
      "For n = 1 alpha is approximately 0.636619772368\n",
      "For n = 2 alpha is approximately 1.00016416718\n",
      "For n = 3 alpha is approximately 1.33300821009\n",
      "For n = 4 alpha is approximately 1.57085877902\n"
     ]
    }
   ],
   "source": [
    "# Si elegimos r = 1 y tomamos elementos en [0,1]^n, obtenemos hits / tries = alpha pi / 2^n\n",
    "\n",
    "for n in range(5):\n",
    "    hits = 0\n",
    "    tries = 10000000\n",
    "\n",
    "    for x in range(tries):\n",
    "        if sum([random.random()**2 for i in range(n)]) <= 1:\n",
    "            hits += 1\n",
    "\n",
    "    print \"For n =\", n, \"alpha is approximately\", 2**n * hits / tries / math.pi\n",
    "    \n",
    "# Wikipedia dice que estoy bien :3 http://en.wikipedia.org/wiki/Volume_of_an_n-ball#Low_dimensions"
   ]
  }
 ],
 "metadata": {
  "kernelspec": {
   "display_name": "Python 2",
   "language": "python",
   "name": "python2"
  },
  "language_info": {
   "codemirror_mode": {
    "name": "ipython",
    "version": 2
   },
   "file_extension": ".py",
   "mimetype": "text/x-python",
   "name": "python",
   "nbconvert_exporter": "python",
   "pygments_lexer": "ipython2",
   "version": "2.7.9"
  }
 },
 "nbformat": 4,
 "nbformat_minor": 0
}
