{
 "metadata": {
  "name": "",
  "signature": "sha256:94f45f27231c5cba918860206984870d4ab69163227850738ab8b6b31a550d62"
 },
 "nbformat": 3,
 "nbformat_minor": 0,
 "worksheets": [
  {
   "cells": [
    {
     "cell_type": "code",
     "collapsed": false,
     "input": [
      "class GA:\n",
      "    def _init_(self,tamano_poblacion,tasa_mutacion,tasa_crossover,max_generaciones,fitness):\n",
      "        self.tamano_poblacion = tamano_poblacion\n",
      "        self.tasa_mutacion = tasa_mutacion\n",
      "        self.tasa_crossover = tasa_crossover\n",
      "        self.max_generaciones = max_generaciones\n",
      "        self.fitness = fitness\n",
      "        self.poblacion = []\n",
      "        self.generacion = 0\n",
      "        self.mejor_solucion_historica = None\n",
      "        self.mejor_solucion_actual = None\n",
      "    \n",
      "    def poblar(self):\n",
      "        for i in range(self.tamano_poblacion):\n",
      "            pob = BitCromosoma()\n",
      "            self.poblacion.append(pob)\n",
      "    \n",
      "    def _str_(self):\n",
      "        for i in range (len(self.poblacion)):\n",
      "            print self.poblacion[i]\n",
      "        print \"Mejor solucion historica \" + self.mejor_solucion_historica\n",
      "        print \"Mejor solucion actual \" + self.mejor_solucion_actual\n",
      "        print \"Numero de generacion \" + self.generacion\n",
      "        \n",
      "    def \n",
      "        \n",
      "        "
     ],
     "language": "python",
     "metadata": {},
     "outputs": [],
     "prompt_number": 3
    },
    {
     "cell_type": "code",
     "collapsed": false,
     "input": [
      "import random"
     ],
     "language": "python",
     "metadata": {},
     "outputs": [],
     "prompt_number": 2
    },
    {
     "cell_type": "code",
     "collapsed": false,
     "input": [
      "class BitCromosoma:\n",
      "    def __init__(self, longitud):\n",
      "        self.longitud = longitud\n",
      "        self.genoma = \"\"\n",
      "        \n",
      "    def creaGenoma(self):\n",
      "        for i in range (self.longitud):\n",
      "            cadena=random.choice(\"01\")\n",
      "            self.genoma += cadena\n",
      "        return self.genoma\n",
      "    \n",
      "    def crossover(self,cromosoma):\n",
      "        self.creaGenoma()\n",
      "        crossover_point = random.randint(0,self.longitud)\n",
      "        \n",
      "        x = self.genoma[:crossover_point] + cromosoma.genoma[crossover_point:]\n",
      "        y = cromosoma.genoma[:crossover_point] + self.genoma[crossover_point:]\n",
      "        \n",
      "        print x\n",
      "        print y\n",
      "        \n",
      "    def mutar(self):\n",
      "        genoma = list(self.genoma)\n",
      "        \n",
      "        changes = random.sample(range(len(self.genoma)),3)\n",
      "        \n",
      "        for x in changes:\n",
      "            genoma[x] = '0' if genoma[x]=='1' else '0'"
     ],
     "language": "python",
     "metadata": {},
     "outputs": [],
     "prompt_number": 54
    },
    {
     "cell_type": "code",
     "collapsed": false,
     "input": [
      "C1=BitCromosoma(8)\n",
      "C1.creaGenoma()"
     ],
     "language": "python",
     "metadata": {},
     "outputs": [
      {
       "metadata": {},
       "output_type": "pyout",
       "prompt_number": 58,
       "text": [
        "'00010011'"
       ]
      }
     ],
     "prompt_number": 58
    },
    {
     "cell_type": "code",
     "collapsed": false,
     "input": [
      "C2=BitCromosoma(8)\n",
      "C2.creaGenoma()"
     ],
     "language": "python",
     "metadata": {},
     "outputs": [
      {
       "metadata": {},
       "output_type": "pyout",
       "prompt_number": 59,
       "text": [
        "'00100101'"
       ]
      }
     ],
     "prompt_number": 59
    },
    {
     "cell_type": "code",
     "collapsed": false,
     "input": [
      "C1.crossover(C2)"
     ],
     "language": "python",
     "metadata": {},
     "outputs": [
      {
       "output_type": "stream",
       "stream": "stdout",
       "text": [
        "00100101\n",
        "0001001101010010\n"
       ]
      }
     ],
     "prompt_number": 60
    },
    {
     "cell_type": "code",
     "collapsed": false,
     "input": [],
     "language": "python",
     "metadata": {},
     "outputs": []
    }
   ],
   "metadata": {}
  }
 ]
}