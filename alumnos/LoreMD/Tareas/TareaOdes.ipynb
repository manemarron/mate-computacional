{
 "metadata": {
  "name": "",
  "signature": "sha256:b0351a01124c12796f6726bb2c9394e423353d47a45c077a61f7b4030c4dd8c4"
 },
 "nbformat": 3,
 "nbformat_minor": 0,
 "worksheets": [
  {
   "cells": [
    {
     "cell_type": "heading",
     "level": 1,
     "metadata": {},
     "source": [
      "Tareas"
     ]
    },
    {
     "cell_type": "code",
     "collapsed": false,
     "input": [
      "%pylab inline\n",
      "import numpy as np\n",
      "import matplotlib.pyplot as plt\n",
      "from __future__ import division"
     ],
     "language": "python",
     "metadata": {},
     "outputs": [
      {
       "output_type": "stream",
       "stream": "stdout",
       "text": [
        "Populating the interactive namespace from numpy and matplotlib\n"
       ]
      }
     ],
     "prompt_number": 1
    },
    {
     "cell_type": "code",
     "collapsed": false,
     "input": [
      "from IPython.html.widgets import interact, fixed\n",
      "from IPython.html import widgets\n",
      "\n",
      "from scipy.integrate import odeint"
     ],
     "language": "python",
     "metadata": {},
     "outputs": [],
     "prompt_number": 4
    },
    {
     "cell_type": "code",
     "collapsed": false,
     "input": [
      "from random import random, uniform"
     ],
     "language": "python",
     "metadata": {},
     "outputs": [],
     "prompt_number": 2
    },
    {
     "cell_type": "heading",
     "level": 2,
     "metadata": {},
     "source": [
      "Problema 1"
     ]
    },
    {
     "cell_type": "markdown",
     "metadata": {},
     "source": [
      "Utilizando el c\u00f3digo de runge-kutta de segundo orden como base, implemente el c\u00f3digo de runge-kutta de cuarto orden. La funci\u00f3n debe de llamarse `rk4`. "
     ]
    },
    {
     "cell_type": "code",
     "collapsed": false,
     "input": [
      "def RK4(x, y, dt, derivadas):\n",
      "    k0 = dt*derivadas(x, y)\n",
      "    k1 = dt*derivadas(x+0.5*dt, y + 0.5*k0*dt)\n",
      "    k2 = dt*derivadas(x+0.5*dt, y + 0.5*k1*dt)\n",
      "    k3 = dt*derivadas(x+dt,y+k2*dt)\n",
      "    y_next = y + (1/6)*(k0 + 2*k1+ 2*k2 +k3)\n",
      "    \n",
      "    return y_next"
     ],
     "language": "python",
     "metadata": {},
     "outputs": [],
     "prompt_number": 6
    },
    {
     "cell_type": "heading",
     "level": 2,
     "metadata": {},
     "source": [
      "Problema 2"
     ]
    },
    {
     "cell_type": "markdown",
     "metadata": {},
     "source": [
      "La taza a la cual un recurso finito es recogido depende de la dificultad y de la demanda. Sup\u00f3n que la demanda $D$ se incrementa con la cantidad extra\u00edda $E$:\n",
      "\n",
      "$$\\dot D = \\alpha E$$\n",
      "\n",
      "Sup\u00f3n que la dificultad de extracci\u00f3n $W$ es inversamentedependiente de la fracci\u00f3n restante del recurso:\n",
      "\n",
      "$$\n",
      "W = \\frac{1}{1 -E}\n",
      "$$\n",
      "\n",
      "Finalmente, sup\u00f3n que la tasa de extracci\u00f3n $$ es la raz\u00f3n de la demanda a la dificultad.\n",
      "\n",
      "$$ R = \\dot E = \\frac{D}{W} $$\n",
      "\n",
      "Por \u00faltimo, el costo $C$ del recurso depende de la tasa de la extracci\u00f3n y de la demanda:\n",
      "\n",
      "$$ C = \\frac{D}{R}\\xi$$,\n",
      "\n",
      "donde $\\xi$ es un factor de escala.\n",
      "\n",
      "(a) Escribe un programa que dibuja la tasa de la extracci\u00f3n y el costo como una funci\u00f3n del tiempo. Usando las condiciones iniciales: $D_0 = 0.1$, $E_0 = 0.1$,  $\\alpha = 2.0$ y $\\xi = 0.01$. Grafica de 0 a 5 unidades de tiempo. \n",
      "\n",
      "\n",
      "(b) Resuelve con `rk4` y con  `odeint`. Compara los tiempos y los resultados. \u00bfQu\u00e9 puedes concluir?\n",
      "\n",
      "(c) Agrega un _widget_ para los valores de $\\alpha$ y $\\xi$.\n",
      "\n",
      "(d) Discute la din\u00e1mica del sistema en general y menciona algunos hallazgos interesantes para diferentes valores y condiciones iniciales."
     ]
    },
    {
     "cell_type": "code",
     "collapsed": false,
     "input": [
      "def llenaConRK4(c0, tiempo):\n",
      "    y = np.zeros((len(t), 2))\n",
      "    y[0] = y0\n",
      "    for i in xrange(0,N-1,1):\n",
      "        y[i+1] = rk4(x[i], y[i], dt, deriv)"
     ],
     "language": "python",
     "metadata": {},
     "outputs": []
    },
    {
     "cell_type": "code",
     "collapsed": false,
     "input": [
      "def derivadas(estado, tiempo):\n",
      "    g0 = alfa*estado[1]\n",
      "    g1 = estado[0]*(1 - estado[1])\n",
      "    return np.array([g0,g1])"
     ],
     "language": "python",
     "metadata": {},
     "outputs": []
    },
    {
     "cell_type": "code",
     "collapsed": false,
     "input": [
      "alfa=2.0\n",
      "epsilon=0.01\n",
      "c0=np.zeros((2,1))"
     ],
     "language": "python",
     "metadata": {},
     "outputs": [],
     "prompt_number": 5
    },
    {
     "cell_type": "code",
     "collapsed": false,
     "input": [
      "#condiciones iniciales\n",
      "c0[0]=0.1\n",
      "c0[1]=0.1"
     ],
     "language": "python",
     "metadata": {},
     "outputs": [],
     "prompt_number": 6
    },
    {
     "cell_type": "code",
     "collapsed": false,
     "input": [
      "t=5\n",
      "N=100\n",
      "dt=t/(N-1)\n",
      "x=np.linspace(0,t,N)\n",
      "y=np.zeros((N,2))"
     ],
     "language": "python",
     "metadata": {},
     "outputs": [],
     "prompt_number": 8
    },
    {
     "cell_type": "code",
     "collapsed": false,
     "input": [
      "d = y[:, 0]\n",
      "e = (1/alfa)*y[:, 1]\n",
      "r = d*(1 - e)\n",
      "c = epsilon*d/r"
     ],
     "language": "python",
     "metadata": {},
     "outputs": [
      {
       "output_type": "stream",
       "stream": "stderr",
       "text": [
        "-c:4: RuntimeWarning: invalid value encountered in true_divide\n"
       ]
      }
     ],
     "prompt_number": 10
    },
    {
     "cell_type": "code",
     "collapsed": false,
     "input": [
      "%timeit llenaConRK4(y0, tiempo)"
     ],
     "language": "python",
     "metadata": {},
     "outputs": []
    },
    {
     "cell_type": "code",
     "collapsed": false,
     "input": [
      "%timeit odeint(func=dinamica, y0=y0, t=tiempo)"
     ],
     "language": "python",
     "metadata": {},
     "outputs": []
    },
    {
     "cell_type": "code",
     "collapsed": false,
     "input": [
      "interact(llenaConRK4, alpha=(2, 12, 2), epsilon=(0, .1, .01))"
     ],
     "language": "python",
     "metadata": {},
     "outputs": []
    },
    {
     "cell_type": "heading",
     "level": 2,
     "metadata": {},
     "source": [
      "Problema 3"
     ]
    },
    {
     "cell_type": "markdown",
     "metadata": {},
     "source": [
      "(a) Calcular el valor de $\\pi$ usando m\u00e9todos de Monte Carlo.\n",
      "\n",
      "(b) El \"volumen\" de una 2-esfera (un c\u00edrculo)   $x^2 + y^2 = r^2$ es \n",
      "\n",
      "$$\\pi r^2$$,\n",
      "\n",
      "el volumen de la 3-esfera $x^2 + y^2 + z^2 = r^2$ es \n",
      "\n",
      "\n",
      "$$\\frac{4}{3} \\pi r^3$$. \n",
      "\n",
      "\n",
      "La 4-esfera $x^2 + y^2 + z^2 + w^2 = r^2$, podemos suponer (usando los ejemplos anteriores) que el hipervolumen de la 4-esfera es \n",
      "\n",
      "$$\\alpha\\pi r^4$$. \n",
      "\n",
      "\n",
      "Usando t\u00e9cnicas de Monte Carlo estima $\\alpha$."
     ]
    },
    {
     "cell_type": "code",
     "collapsed": false,
     "input": [
      "def monteCarlo(tiradas,radio):\n",
      "    adentro=0\n",
      "    afuera=0\n",
      "    for i in xrange(0,tiradas):\n",
      "        punto = np.array((uniform(0,radio),uniform(0,radio)))\n",
      "        if punto[0]**2+punto[1]**2<=radio**2:\n",
      "            adentro+=1\n",
      "        else:\n",
      "            afuera+=1\n",
      "    return 4*(adentro/afuera)"
     ],
     "language": "python",
     "metadata": {},
     "outputs": [],
     "prompt_number": 20
    },
    {
     "cell_type": "markdown",
     "metadata": {},
     "source": [
      "https://elescribamatematico.wordpress.com/tag/metodo-monte-carlo/"
     ]
    }
   ],
   "metadata": {}
  }
 ]
}